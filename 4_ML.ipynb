{
 "nbformat": 4,
 "nbformat_minor": 0,
 "metadata": {
  "colab": {
   "provenance": [],
   "toc_visible": true
  },
  "kernelspec": {
   "name": "python3",
   "display_name": "Python 3"
  },
  "language_info": {
   "name": "python"
  }
 },
 "cells": [
  {
   "cell_type": "markdown",
   "source": [
    "# CIS 5450 Homework 4: Machine Learning\n",
    "\n",
    "<ins>Due Date</ins>: **April 4th at 10:00PM EST** \\\\\n",
    "<ins>Total Points</ins>: **100 points** (= 83 autograded + 17 manually graded)\n",
    "\n",
    "**PLEASE READ THE FAQ as you do this assignment!** It's pinned on Ed and we TAs work really hard to keep it updated with everything you might need to know or anything we might have failed to specify. Writing these HWs and test cases gets tricky since students always end up implementing solutions that we did not anticipate and thus could not have prepared the grader correctly for."
   ],
   "metadata": {
    "id": "I2L0PkeSIuOD"
   }
  },
  {
   "cell_type": "markdown",
   "metadata": {
    "id": "ETZ9CDIDLYHp"
   },
   "source": [
    "# Imports/Setup\n",
    "Run the following cells to set up the notebook.\n"
   ]
  },
  {
   "cell_type": "markdown",
   "metadata": {
    "id": "eEUIzvEuMdGQ"
   },
   "source": [
    "Please make sure you enter your **8 digit Penn ID** in the  student ID field below."
   ]
  },
  {
   "cell_type": "code",
   "execution_count": 1,
   "metadata": {
    "id": "adECTPlZLtVi"
   },
   "outputs": [],
   "source": [
    "%%capture\n",
    "!pip install -i https://test.pypi.org/simple/ penn-grader==0.5.0\n",
    "from penngrader.grader import *\n",
    "\n",
    "# PLEASE ENSURE YOUR PENN-ID IS ENTERED CORRECTLY.\n",
    "# IF NOT, THE AUTOGRADER WON'T KNOW WHO TO ASSIGN POINTS TO YOU IN OUR BACKEND\n",
    "STUDENT_ID = 69217576                                                                   # YOUR PENN-ID GOES HERE AS AN INTEGER"
   ]
  },
  {
   "cell_type": "code",
   "execution_count": 2,
   "metadata": {
    "id": "JAWRpROskV1E",
    "colab": {
     "base_uri": "https://localhost:8080/"
    },
    "outputId": "82085a30-7e59-4c44-9046-66802e11ccd5"
   },
   "outputs": [
    {
     "output_type": "stream",
     "name": "stdout",
     "text": [
      "Writing config.yaml\n"
     ]
    }
   ],
   "source": [
    "%%writefile config.yaml\n",
    "\n",
    "grader_api_url: 'https://wyv616tp17.execute-api.us-east-1.amazonaws.com/default/Grader'\n",
    "grader_api_key: 'Kd32fl3g3p917iM0zwjiO23Bitj4PO9ga4LektOa'"
   ]
  },
  {
   "cell_type": "code",
   "execution_count": 3,
   "metadata": {
    "id": "IiUMGpQukYHj",
    "colab": {
     "base_uri": "https://localhost:8080/"
    },
    "outputId": "4ef7c846-4d48-49e4-adbf-71781424523e"
   },
   "outputs": [
    {
     "output_type": "stream",
     "name": "stdout",
     "text": [
      "PennGrader initialized with Student ID: 69217576\n",
      "\n",
      "Make sure this correct or we will not be able to store your grade\n"
     ]
    }
   ],
   "source": [
    "grader = PennGrader('config.yaml', 'CIS5450_23Sp_HW4', STUDENT_ID, STUDENT_ID)"
   ]
  },
  {
   "cell_type": "code",
   "execution_count": 4,
   "metadata": {
    "id": "TBTaESEdMmiU"
   },
   "outputs": [],
   "source": [
    "# import packages\n",
    "import json\n",
    "import glob\n",
    "import pandas as pd\n",
    "import numpy as np\n",
    "import datetime as dt\n",
    "import re\n",
    "import os\n",
    "import matplotlib.pyplot as plt\n",
    "import seaborn as sns\n",
    "from matplotlib import cm\n",
    "from google.colab import drive\n",
    "from sklearn.model_selection import train_test_split\n",
    "from collections import Counter\n",
    "import seaborn as sns"
   ]
  },
  {
   "cell_type": "code",
   "execution_count": 5,
   "metadata": {
    "id": "tA6oTIZtRjf7"
   },
   "outputs": [],
   "source": [
    "%%capture\n",
    "!apt update\n",
    "!pip install kaggle"
   ]
  },
  {
   "cell_type": "markdown",
   "source": [
    "# **Part I:** Preprocessing and Modeling in `scikit-learn` (65 points)"
   ],
   "metadata": {
    "id": "odlXF5IYJ-et"
   }
  },
  {
   "cell_type": "markdown",
   "source": [
    "## **1.1** Data Loading and Preprocessing [Total: 2 points]"
   ],
   "metadata": {
    "id": "_XSw-F5VjVKI"
   }
  },
  {
   "cell_type": "markdown",
   "metadata": {
    "id": "1Sw7LCAacKOu"
   },
   "source": [
    "### **1.1.1** Read Data\n",
    "\n",
    "We are using one CSV for this homework, `Hotel Reservations.csv` from a Kaggle [dataset](https://www.kaggle.com/datasets/ahsan81/hotel-reservations-classification-dataset?resource=download). The dataset contains a column called `booking_status`, a binary variable indicating whether a reservation was canceled or not.\n",
    "\n",
    "To get the data in here:\n",
    "1. Go to this [Kaggle link](https://www.kaggle.com) and create a Kaggle account (unless you already have one)\n",
    "2. Go to Account and click on \"Create New API Token\" to get the API key in the form of a json file `kaggle.json`\n",
    "3. Upload the `kaggle.json` file to the default location in your Google Drive (Please **DO NOT** upload the json file into any _specific_ folder as it will be difficult for us to debug issues if you deviate from these instructions!).\n",
    "\n",
    "This can be helpful for your project if you decide to use Kaggle."
   ]
  },
  {
   "cell_type": "code",
   "execution_count": 6,
   "metadata": {
    "id": "RGz24WQ86ptM",
    "colab": {
     "base_uri": "https://localhost:8080/"
    },
    "outputId": "f2c1922f-e36b-4722-8673-e94b8b15ed5a"
   },
   "outputs": [
    {
     "output_type": "stream",
     "name": "stdout",
     "text": [
      "Mounted at /content/drive\n"
     ]
    }
   ],
   "source": [
    "# Run this cell to mount your drive (you will be prompted to sign in)\n",
    "from google.colab import drive\n",
    "drive.mount('/content/drive')"
   ]
  },
  {
   "cell_type": "code",
   "source": [
    "# Create the kaggle directory and \n",
    "# (NOTE: Do NOT run this cell more than once unless restarting kernel)\n",
    "!mkdir ~/.kaggle"
   ],
   "metadata": {
    "id": "R4taOIpPb6CN"
   },
   "execution_count": 7,
   "outputs": []
  },
  {
   "cell_type": "code",
   "source": [
    "# Read the uploaded kaggle.json file\n",
    "!cp /content/drive/MyDrive/kaggle.json ~/.kaggle/"
   ],
   "metadata": {
    "id": "uO1UNkV6cbxA"
   },
   "execution_count": 8,
   "outputs": []
  },
  {
   "cell_type": "code",
   "source": [
    "# Download dataset\n",
    "!!kaggle datasets download -d ahsan81/hotel-reservations-classification-dataset"
   ],
   "metadata": {
    "id": "krFCjQBzcdth",
    "colab": {
     "base_uri": "https://localhost:8080/"
    },
    "outputId": "8aefcf66-e85e-42b7-84ea-b2a98004bc9b"
   },
   "execution_count": 9,
   "outputs": [
    {
     "output_type": "execute_result",
     "data": {
      "text/plain": [
       "['Downloading hotel-reservations-classification-dataset.zip to /content',\n",
       " '',\n",
       " '  0% 0.00/480k [00:00<?, ?B/s]',\n",
       " '',\n",
       " '100% 480k/480k [00:00<00:00, 131MB/s]']"
      ]
     },
     "metadata": {},
     "execution_count": 9
    }
   ]
  },
  {
   "cell_type": "code",
   "source": [
    "# Unzip folder in Colab content folder\n",
    "!unzip /content/hotel-reservations-classification-dataset.zip"
   ],
   "metadata": {
    "id": "y1e75jxBctPG",
    "colab": {
     "base_uri": "https://localhost:8080/"
    },
    "outputId": "63d16f09-14ed-46bb-b0f9-4e1ff7917746"
   },
   "execution_count": 10,
   "outputs": [
    {
     "output_type": "stream",
     "name": "stdout",
     "text": [
      "Archive:  /content/hotel-reservations-classification-dataset.zip\n",
      "  inflating: Hotel Reservations.csv  \n"
     ]
    }
   ]
  },
  {
   "cell_type": "code",
   "execution_count": 11,
   "metadata": {
    "id": "PB4RPNywcKOv"
   },
   "outputs": [],
   "source": [
    "# TO-DO: Read the csv file and save it to a dataframe called \"df_reservations\"\n",
    "df_reservations = pd.read_csv(\"/content/Hotel Reservations.csv\")"
   ]
  },
  {
   "cell_type": "code",
   "source": [
    "# CHECK: Peak at the first five rows\n",
    "df_reservations.head()"
   ],
   "metadata": {
    "id": "u0FYkm8pkQGu",
    "colab": {
     "base_uri": "https://localhost:8080/",
     "height": 270
    },
    "outputId": "9e891c5b-52b7-4a02-ae33-b5394edcd1cd"
   },
   "execution_count": 12,
   "outputs": [
    {
     "output_type": "execute_result",
     "data": {
      "text/plain": [
       "  Booking_ID  no_of_adults  no_of_children  no_of_weekend_nights  \\\n",
       "0   INN00001             2               0                     1   \n",
       "1   INN00002             2               0                     2   \n",
       "2   INN00003             1               0                     2   \n",
       "3   INN00004             2               0                     0   \n",
       "4   INN00005             2               0                     1   \n",
       "\n",
       "   no_of_week_nights type_of_meal_plan  required_car_parking_space  \\\n",
       "0                  2       Meal Plan 1                           0   \n",
       "1                  3      Not Selected                           0   \n",
       "2                  1       Meal Plan 1                           0   \n",
       "3                  2       Meal Plan 1                           0   \n",
       "4                  1      Not Selected                           0   \n",
       "\n",
       "  room_type_reserved  lead_time  arrival_year  arrival_month  arrival_date  \\\n",
       "0        Room_Type 1        224          2017             10             2   \n",
       "1        Room_Type 1          5          2018             11             6   \n",
       "2        Room_Type 1          1          2018              2            28   \n",
       "3        Room_Type 1        211          2018              5            20   \n",
       "4        Room_Type 1         48          2018              4            11   \n",
       "\n",
       "  market_segment_type  repeated_guest  no_of_previous_cancellations  \\\n",
       "0             Offline               0                             0   \n",
       "1              Online               0                             0   \n",
       "2              Online               0                             0   \n",
       "3              Online               0                             0   \n",
       "4              Online               0                             0   \n",
       "\n",
       "   no_of_previous_bookings_not_canceled  avg_price_per_room  \\\n",
       "0                                     0               65.00   \n",
       "1                                     0              106.68   \n",
       "2                                     0               60.00   \n",
       "3                                     0              100.00   \n",
       "4                                     0               94.50   \n",
       "\n",
       "   no_of_special_requests booking_status  \n",
       "0                       0   Not_Canceled  \n",
       "1                       1   Not_Canceled  \n",
       "2                       0       Canceled  \n",
       "3                       0       Canceled  \n",
       "4                       0       Canceled  "
      ],
      "text/html": [
       "\n",
       "  <div id=\"df-0b0e5a95-364c-419d-a4b6-5a836b27e5c0\">\n",
       "    <div class=\"colab-df-container\">\n",
       "      <div>\n",
       "<style scoped>\n",
       "    .dataframe tbody tr th:only-of-type {\n",
       "        vertical-align: middle;\n",
       "    }\n",
       "\n",
       "    .dataframe tbody tr th {\n",
       "        vertical-align: top;\n",
       "    }\n",
       "\n",
       "    .dataframe thead th {\n",
       "        text-align: right;\n",
       "    }\n",
       "</style>\n",
       "<table border=\"1\" class=\"dataframe\">\n",
       "  <thead>\n",
       "    <tr style=\"text-align: right;\">\n",
       "      <th></th>\n",
       "      <th>Booking_ID</th>\n",
       "      <th>no_of_adults</th>\n",
       "      <th>no_of_children</th>\n",
       "      <th>no_of_weekend_nights</th>\n",
       "      <th>no_of_week_nights</th>\n",
       "      <th>type_of_meal_plan</th>\n",
       "      <th>required_car_parking_space</th>\n",
       "      <th>room_type_reserved</th>\n",
       "      <th>lead_time</th>\n",
       "      <th>arrival_year</th>\n",
       "      <th>arrival_month</th>\n",
       "      <th>arrival_date</th>\n",
       "      <th>market_segment_type</th>\n",
       "      <th>repeated_guest</th>\n",
       "      <th>no_of_previous_cancellations</th>\n",
       "      <th>no_of_previous_bookings_not_canceled</th>\n",
       "      <th>avg_price_per_room</th>\n",
       "      <th>no_of_special_requests</th>\n",
       "      <th>booking_status</th>\n",
       "    </tr>\n",
       "  </thead>\n",
       "  <tbody>\n",
       "    <tr>\n",
       "      <th>0</th>\n",
       "      <td>INN00001</td>\n",
       "      <td>2</td>\n",
       "      <td>0</td>\n",
       "      <td>1</td>\n",
       "      <td>2</td>\n",
       "      <td>Meal Plan 1</td>\n",
       "      <td>0</td>\n",
       "      <td>Room_Type 1</td>\n",
       "      <td>224</td>\n",
       "      <td>2017</td>\n",
       "      <td>10</td>\n",
       "      <td>2</td>\n",
       "      <td>Offline</td>\n",
       "      <td>0</td>\n",
       "      <td>0</td>\n",
       "      <td>0</td>\n",
       "      <td>65.00</td>\n",
       "      <td>0</td>\n",
       "      <td>Not_Canceled</td>\n",
       "    </tr>\n",
       "    <tr>\n",
       "      <th>1</th>\n",
       "      <td>INN00002</td>\n",
       "      <td>2</td>\n",
       "      <td>0</td>\n",
       "      <td>2</td>\n",
       "      <td>3</td>\n",
       "      <td>Not Selected</td>\n",
       "      <td>0</td>\n",
       "      <td>Room_Type 1</td>\n",
       "      <td>5</td>\n",
       "      <td>2018</td>\n",
       "      <td>11</td>\n",
       "      <td>6</td>\n",
       "      <td>Online</td>\n",
       "      <td>0</td>\n",
       "      <td>0</td>\n",
       "      <td>0</td>\n",
       "      <td>106.68</td>\n",
       "      <td>1</td>\n",
       "      <td>Not_Canceled</td>\n",
       "    </tr>\n",
       "    <tr>\n",
       "      <th>2</th>\n",
       "      <td>INN00003</td>\n",
       "      <td>1</td>\n",
       "      <td>0</td>\n",
       "      <td>2</td>\n",
       "      <td>1</td>\n",
       "      <td>Meal Plan 1</td>\n",
       "      <td>0</td>\n",
       "      <td>Room_Type 1</td>\n",
       "      <td>1</td>\n",
       "      <td>2018</td>\n",
       "      <td>2</td>\n",
       "      <td>28</td>\n",
       "      <td>Online</td>\n",
       "      <td>0</td>\n",
       "      <td>0</td>\n",
       "      <td>0</td>\n",
       "      <td>60.00</td>\n",
       "      <td>0</td>\n",
       "      <td>Canceled</td>\n",
       "    </tr>\n",
       "    <tr>\n",
       "      <th>3</th>\n",
       "      <td>INN00004</td>\n",
       "      <td>2</td>\n",
       "      <td>0</td>\n",
       "      <td>0</td>\n",
       "      <td>2</td>\n",
       "      <td>Meal Plan 1</td>\n",
       "      <td>0</td>\n",
       "      <td>Room_Type 1</td>\n",
       "      <td>211</td>\n",
       "      <td>2018</td>\n",
       "      <td>5</td>\n",
       "      <td>20</td>\n",
       "      <td>Online</td>\n",
       "      <td>0</td>\n",
       "      <td>0</td>\n",
       "      <td>0</td>\n",
       "      <td>100.00</td>\n",
       "      <td>0</td>\n",
       "      <td>Canceled</td>\n",
       "    </tr>\n",
       "    <tr>\n",
       "      <th>4</th>\n",
       "      <td>INN00005</td>\n",
       "      <td>2</td>\n",
       "      <td>0</td>\n",
       "      <td>1</td>\n",
       "      <td>1</td>\n",
       "      <td>Not Selected</td>\n",
       "      <td>0</td>\n",
       "      <td>Room_Type 1</td>\n",
       "      <td>48</td>\n",
       "      <td>2018</td>\n",
       "      <td>4</td>\n",
       "      <td>11</td>\n",
       "      <td>Online</td>\n",
       "      <td>0</td>\n",
       "      <td>0</td>\n",
       "      <td>0</td>\n",
       "      <td>94.50</td>\n",
       "      <td>0</td>\n",
       "      <td>Canceled</td>\n",
       "    </tr>\n",
       "  </tbody>\n",
       "</table>\n",
       "</div>\n",
       "      <button class=\"colab-df-convert\" onclick=\"convertToInteractive('df-0b0e5a95-364c-419d-a4b6-5a836b27e5c0')\"\n",
       "              title=\"Convert this dataframe to an interactive table.\"\n",
       "              style=\"display:none;\">\n",
       "        \n",
       "  <svg xmlns=\"http://www.w3.org/2000/svg\" height=\"24px\"viewBox=\"0 0 24 24\"\n",
       "       width=\"24px\">\n",
       "    <path d=\"M0 0h24v24H0V0z\" fill=\"none\"/>\n",
       "    <path d=\"M18.56 5.44l.94 2.06.94-2.06 2.06-.94-2.06-.94-.94-2.06-.94 2.06-2.06.94zm-11 1L8.5 8.5l.94-2.06 2.06-.94-2.06-.94L8.5 2.5l-.94 2.06-2.06.94zm10 10l.94 2.06.94-2.06 2.06-.94-2.06-.94-.94-2.06-.94 2.06-2.06.94z\"/><path d=\"M17.41 7.96l-1.37-1.37c-.4-.4-.92-.59-1.43-.59-.52 0-1.04.2-1.43.59L10.3 9.45l-7.72 7.72c-.78.78-.78 2.05 0 2.83L4 21.41c.39.39.9.59 1.41.59.51 0 1.02-.2 1.41-.59l7.78-7.78 2.81-2.81c.8-.78.8-2.07 0-2.86zM5.41 20L4 18.59l7.72-7.72 1.47 1.35L5.41 20z\"/>\n",
       "  </svg>\n",
       "      </button>\n",
       "      \n",
       "  <style>\n",
       "    .colab-df-container {\n",
       "      display:flex;\n",
       "      flex-wrap:wrap;\n",
       "      gap: 12px;\n",
       "    }\n",
       "\n",
       "    .colab-df-convert {\n",
       "      background-color: #E8F0FE;\n",
       "      border: none;\n",
       "      border-radius: 50%;\n",
       "      cursor: pointer;\n",
       "      display: none;\n",
       "      fill: #1967D2;\n",
       "      height: 32px;\n",
       "      padding: 0 0 0 0;\n",
       "      width: 32px;\n",
       "    }\n",
       "\n",
       "    .colab-df-convert:hover {\n",
       "      background-color: #E2EBFA;\n",
       "      box-shadow: 0px 1px 2px rgba(60, 64, 67, 0.3), 0px 1px 3px 1px rgba(60, 64, 67, 0.15);\n",
       "      fill: #174EA6;\n",
       "    }\n",
       "\n",
       "    [theme=dark] .colab-df-convert {\n",
       "      background-color: #3B4455;\n",
       "      fill: #D2E3FC;\n",
       "    }\n",
       "\n",
       "    [theme=dark] .colab-df-convert:hover {\n",
       "      background-color: #434B5C;\n",
       "      box-shadow: 0px 1px 3px 1px rgba(0, 0, 0, 0.15);\n",
       "      filter: drop-shadow(0px 1px 2px rgba(0, 0, 0, 0.3));\n",
       "      fill: #FFFFFF;\n",
       "    }\n",
       "  </style>\n",
       "\n",
       "      <script>\n",
       "        const buttonEl =\n",
       "          document.querySelector('#df-0b0e5a95-364c-419d-a4b6-5a836b27e5c0 button.colab-df-convert');\n",
       "        buttonEl.style.display =\n",
       "          google.colab.kernel.accessAllowed ? 'block' : 'none';\n",
       "\n",
       "        async function convertToInteractive(key) {\n",
       "          const element = document.querySelector('#df-0b0e5a95-364c-419d-a4b6-5a836b27e5c0');\n",
       "          const dataTable =\n",
       "            await google.colab.kernel.invokeFunction('convertToInteractive',\n",
       "                                                     [key], {});\n",
       "          if (!dataTable) return;\n",
       "\n",
       "          const docLinkHtml = 'Like what you see? Visit the ' +\n",
       "            '<a target=\"_blank\" href=https://colab.research.google.com/notebooks/data_table.ipynb>data table notebook</a>'\n",
       "            + ' to learn more about interactive tables.';\n",
       "          element.innerHTML = '';\n",
       "          dataTable['output_type'] = 'display_data';\n",
       "          await google.colab.output.renderOutput(dataTable, element);\n",
       "          const docLink = document.createElement('div');\n",
       "          docLink.innerHTML = docLinkHtml;\n",
       "          element.appendChild(docLink);\n",
       "        }\n",
       "      </script>\n",
       "    </div>\n",
       "  </div>\n",
       "  "
      ]
     },
     "metadata": {},
     "execution_count": 12
    }
   ]
  },
  {
   "cell_type": "markdown",
   "source": [
    "### **1.1.2** Check Nulls and Duplicates\n",
    "\n",
    "We will find the number of rows with null values and the number of duplicated rows. \n",
    "\n",
    "Store the results into `num_nulls` and `num_dups`, respectively.\n",
    "\n",
    "**Please use pandas functions to compute these values instead of hardcoding them.**"
   ],
   "metadata": {
    "id": "cJ9m-tIgiYRe"
   }
  },
  {
   "cell_type": "code",
   "source": [
    "# TO-DO: find number of rows with null values\n",
    "num_nulls = df_reservations.isnull().sum(axis = 1).sum()"
   ],
   "metadata": {
    "id": "LkLzEgHWOcEU"
   },
   "execution_count": 13,
   "outputs": []
  },
  {
   "cell_type": "code",
   "source": [
    "# TO-DO: find number of duplicated rows\n",
    "num_dups = len(df_reservations) - len(df_reservations.drop_duplicates())"
   ],
   "metadata": {
    "id": "jLehMDouqJsH"
   },
   "execution_count": 14,
   "outputs": []
  },
  {
   "cell_type": "code",
   "source": [
    "#Grader Cell (2 points)\n",
    "grader.grade(test_case_id = 'drop_null_and_dups', answer = (num_nulls, num_dups))"
   ],
   "metadata": {
    "id": "IYhoktAQi1eq",
    "colab": {
     "base_uri": "https://localhost:8080/"
    },
    "outputId": "87804540-bc59-4225-f7c2-9dbb570faed8"
   },
   "execution_count": 15,
   "outputs": [
    {
     "output_type": "stream",
     "name": "stdout",
     "text": [
      "Correct! You earned 2/2 points. You are a star!\n",
      "\n",
      "Your submission has been successfully recorded in the gradebook.\n"
     ]
    }
   ]
  },
  {
   "cell_type": "markdown",
   "source": [
    "## **1.2** EDA [Total: 16 points]\n",
    "\n",
    "Exploratory Data Analysis (EDA) is an approach to analyzing data sets to summarize their main characteristics, often with visual methods. A statistical model can be used or not, but primarily EDA is for seeing what the data can tell us beyond the formal modeling or hypothesis testing task.\n"
   ],
   "metadata": {
    "id": "LsDRMCdfkACq"
   }
  },
  {
   "cell_type": "markdown",
   "source": [
    "### **1.2.1** Understanding Data\n",
    "\n",
    "A good practice before approaching any data science problem, is to understand the data you will be working with. This can be through descriptive statistics, datatypes, or just a quick tabular visualization. We will be walking through such tasks through Pandas. \n",
    "\n",
    "While not explicitly graded, if you don't do this, you are more likely to make mistakes down the line if you don't have a good understanding of your datasets and their range of values."
   ],
   "metadata": {
    "id": "ngsCDv0RkCKf"
   }
  },
  {
   "cell_type": "code",
   "source": [
    "# Display the datatypes in `df_reservations`\n",
    "df_reservations.dtypes"
   ],
   "metadata": {
    "id": "P60Qyz-okvxk",
    "colab": {
     "base_uri": "https://localhost:8080/"
    },
    "outputId": "6e43bdee-8508-46f7-8d89-e6d82d5d33e7"
   },
   "execution_count": 16,
   "outputs": [
    {
     "output_type": "execute_result",
     "data": {
      "text/plain": [
       "Booking_ID                               object\n",
       "no_of_adults                              int64\n",
       "no_of_children                            int64\n",
       "no_of_weekend_nights                      int64\n",
       "no_of_week_nights                         int64\n",
       "type_of_meal_plan                        object\n",
       "required_car_parking_space                int64\n",
       "room_type_reserved                       object\n",
       "lead_time                                 int64\n",
       "arrival_year                              int64\n",
       "arrival_month                             int64\n",
       "arrival_date                              int64\n",
       "market_segment_type                      object\n",
       "repeated_guest                            int64\n",
       "no_of_previous_cancellations              int64\n",
       "no_of_previous_bookings_not_canceled      int64\n",
       "avg_price_per_room                      float64\n",
       "no_of_special_requests                    int64\n",
       "booking_status                           object\n",
       "dtype: object"
      ]
     },
     "metadata": {},
     "execution_count": 16
    }
   ]
  },
  {
   "cell_type": "code",
   "source": [
    "# Display the descriptive statistics of `df_reservations`\n",
    "df_reservations.describe()"
   ],
   "metadata": {
    "id": "7kIN2As8lIkn",
    "colab": {
     "base_uri": "https://localhost:8080/",
     "height": 364
    },
    "outputId": "f40b95ee-e64a-437f-a7b8-463b7f03ae1e"
   },
   "execution_count": 17,
   "outputs": [
    {
     "output_type": "execute_result",
     "data": {
      "text/plain": [
       "       no_of_adults  no_of_children  no_of_weekend_nights  no_of_week_nights  \\\n",
       "count  36275.000000    36275.000000          36275.000000       36275.000000   \n",
       "mean       1.844962        0.105279              0.810724           2.204300   \n",
       "std        0.518715        0.402648              0.870644           1.410905   \n",
       "min        0.000000        0.000000              0.000000           0.000000   \n",
       "25%        2.000000        0.000000              0.000000           1.000000   \n",
       "50%        2.000000        0.000000              1.000000           2.000000   \n",
       "75%        2.000000        0.000000              2.000000           3.000000   \n",
       "max        4.000000       10.000000              7.000000          17.000000   \n",
       "\n",
       "       required_car_parking_space     lead_time  arrival_year  arrival_month  \\\n",
       "count                36275.000000  36275.000000  36275.000000   36275.000000   \n",
       "mean                     0.030986     85.232557   2017.820427       7.423653   \n",
       "std                      0.173281     85.930817      0.383836       3.069894   \n",
       "min                      0.000000      0.000000   2017.000000       1.000000   \n",
       "25%                      0.000000     17.000000   2018.000000       5.000000   \n",
       "50%                      0.000000     57.000000   2018.000000       8.000000   \n",
       "75%                      0.000000    126.000000   2018.000000      10.000000   \n",
       "max                      1.000000    443.000000   2018.000000      12.000000   \n",
       "\n",
       "       arrival_date  repeated_guest  no_of_previous_cancellations  \\\n",
       "count  36275.000000    36275.000000                  36275.000000   \n",
       "mean      15.596995        0.025637                      0.023349   \n",
       "std        8.740447        0.158053                      0.368331   \n",
       "min        1.000000        0.000000                      0.000000   \n",
       "25%        8.000000        0.000000                      0.000000   \n",
       "50%       16.000000        0.000000                      0.000000   \n",
       "75%       23.000000        0.000000                      0.000000   \n",
       "max       31.000000        1.000000                     13.000000   \n",
       "\n",
       "       no_of_previous_bookings_not_canceled  avg_price_per_room  \\\n",
       "count                          36275.000000        36275.000000   \n",
       "mean                               0.153411          103.423539   \n",
       "std                                1.754171           35.089424   \n",
       "min                                0.000000            0.000000   \n",
       "25%                                0.000000           80.300000   \n",
       "50%                                0.000000           99.450000   \n",
       "75%                                0.000000          120.000000   \n",
       "max                               58.000000          540.000000   \n",
       "\n",
       "       no_of_special_requests  \n",
       "count            36275.000000  \n",
       "mean                 0.619655  \n",
       "std                  0.786236  \n",
       "min                  0.000000  \n",
       "25%                  0.000000  \n",
       "50%                  0.000000  \n",
       "75%                  1.000000  \n",
       "max                  5.000000  "
      ],
      "text/html": [
       "\n",
       "  <div id=\"df-7409efab-abd2-45b4-a0a8-765cb416eb8a\">\n",
       "    <div class=\"colab-df-container\">\n",
       "      <div>\n",
       "<style scoped>\n",
       "    .dataframe tbody tr th:only-of-type {\n",
       "        vertical-align: middle;\n",
       "    }\n",
       "\n",
       "    .dataframe tbody tr th {\n",
       "        vertical-align: top;\n",
       "    }\n",
       "\n",
       "    .dataframe thead th {\n",
       "        text-align: right;\n",
       "    }\n",
       "</style>\n",
       "<table border=\"1\" class=\"dataframe\">\n",
       "  <thead>\n",
       "    <tr style=\"text-align: right;\">\n",
       "      <th></th>\n",
       "      <th>no_of_adults</th>\n",
       "      <th>no_of_children</th>\n",
       "      <th>no_of_weekend_nights</th>\n",
       "      <th>no_of_week_nights</th>\n",
       "      <th>required_car_parking_space</th>\n",
       "      <th>lead_time</th>\n",
       "      <th>arrival_year</th>\n",
       "      <th>arrival_month</th>\n",
       "      <th>arrival_date</th>\n",
       "      <th>repeated_guest</th>\n",
       "      <th>no_of_previous_cancellations</th>\n",
       "      <th>no_of_previous_bookings_not_canceled</th>\n",
       "      <th>avg_price_per_room</th>\n",
       "      <th>no_of_special_requests</th>\n",
       "    </tr>\n",
       "  </thead>\n",
       "  <tbody>\n",
       "    <tr>\n",
       "      <th>count</th>\n",
       "      <td>36275.000000</td>\n",
       "      <td>36275.000000</td>\n",
       "      <td>36275.000000</td>\n",
       "      <td>36275.000000</td>\n",
       "      <td>36275.000000</td>\n",
       "      <td>36275.000000</td>\n",
       "      <td>36275.000000</td>\n",
       "      <td>36275.000000</td>\n",
       "      <td>36275.000000</td>\n",
       "      <td>36275.000000</td>\n",
       "      <td>36275.000000</td>\n",
       "      <td>36275.000000</td>\n",
       "      <td>36275.000000</td>\n",
       "      <td>36275.000000</td>\n",
       "    </tr>\n",
       "    <tr>\n",
       "      <th>mean</th>\n",
       "      <td>1.844962</td>\n",
       "      <td>0.105279</td>\n",
       "      <td>0.810724</td>\n",
       "      <td>2.204300</td>\n",
       "      <td>0.030986</td>\n",
       "      <td>85.232557</td>\n",
       "      <td>2017.820427</td>\n",
       "      <td>7.423653</td>\n",
       "      <td>15.596995</td>\n",
       "      <td>0.025637</td>\n",
       "      <td>0.023349</td>\n",
       "      <td>0.153411</td>\n",
       "      <td>103.423539</td>\n",
       "      <td>0.619655</td>\n",
       "    </tr>\n",
       "    <tr>\n",
       "      <th>std</th>\n",
       "      <td>0.518715</td>\n",
       "      <td>0.402648</td>\n",
       "      <td>0.870644</td>\n",
       "      <td>1.410905</td>\n",
       "      <td>0.173281</td>\n",
       "      <td>85.930817</td>\n",
       "      <td>0.383836</td>\n",
       "      <td>3.069894</td>\n",
       "      <td>8.740447</td>\n",
       "      <td>0.158053</td>\n",
       "      <td>0.368331</td>\n",
       "      <td>1.754171</td>\n",
       "      <td>35.089424</td>\n",
       "      <td>0.786236</td>\n",
       "    </tr>\n",
       "    <tr>\n",
       "      <th>min</th>\n",
       "      <td>0.000000</td>\n",
       "      <td>0.000000</td>\n",
       "      <td>0.000000</td>\n",
       "      <td>0.000000</td>\n",
       "      <td>0.000000</td>\n",
       "      <td>0.000000</td>\n",
       "      <td>2017.000000</td>\n",
       "      <td>1.000000</td>\n",
       "      <td>1.000000</td>\n",
       "      <td>0.000000</td>\n",
       "      <td>0.000000</td>\n",
       "      <td>0.000000</td>\n",
       "      <td>0.000000</td>\n",
       "      <td>0.000000</td>\n",
       "    </tr>\n",
       "    <tr>\n",
       "      <th>25%</th>\n",
       "      <td>2.000000</td>\n",
       "      <td>0.000000</td>\n",
       "      <td>0.000000</td>\n",
       "      <td>1.000000</td>\n",
       "      <td>0.000000</td>\n",
       "      <td>17.000000</td>\n",
       "      <td>2018.000000</td>\n",
       "      <td>5.000000</td>\n",
       "      <td>8.000000</td>\n",
       "      <td>0.000000</td>\n",
       "      <td>0.000000</td>\n",
       "      <td>0.000000</td>\n",
       "      <td>80.300000</td>\n",
       "      <td>0.000000</td>\n",
       "    </tr>\n",
       "    <tr>\n",
       "      <th>50%</th>\n",
       "      <td>2.000000</td>\n",
       "      <td>0.000000</td>\n",
       "      <td>1.000000</td>\n",
       "      <td>2.000000</td>\n",
       "      <td>0.000000</td>\n",
       "      <td>57.000000</td>\n",
       "      <td>2018.000000</td>\n",
       "      <td>8.000000</td>\n",
       "      <td>16.000000</td>\n",
       "      <td>0.000000</td>\n",
       "      <td>0.000000</td>\n",
       "      <td>0.000000</td>\n",
       "      <td>99.450000</td>\n",
       "      <td>0.000000</td>\n",
       "    </tr>\n",
       "    <tr>\n",
       "      <th>75%</th>\n",
       "      <td>2.000000</td>\n",
       "      <td>0.000000</td>\n",
       "      <td>2.000000</td>\n",
       "      <td>3.000000</td>\n",
       "      <td>0.000000</td>\n",
       "      <td>126.000000</td>\n",
       "      <td>2018.000000</td>\n",
       "      <td>10.000000</td>\n",
       "      <td>23.000000</td>\n",
       "      <td>0.000000</td>\n",
       "      <td>0.000000</td>\n",
       "      <td>0.000000</td>\n",
       "      <td>120.000000</td>\n",
       "      <td>1.000000</td>\n",
       "    </tr>\n",
       "    <tr>\n",
       "      <th>max</th>\n",
       "      <td>4.000000</td>\n",
       "      <td>10.000000</td>\n",
       "      <td>7.000000</td>\n",
       "      <td>17.000000</td>\n",
       "      <td>1.000000</td>\n",
       "      <td>443.000000</td>\n",
       "      <td>2018.000000</td>\n",
       "      <td>12.000000</td>\n",
       "      <td>31.000000</td>\n",
       "      <td>1.000000</td>\n",
       "      <td>13.000000</td>\n",
       "      <td>58.000000</td>\n",
       "      <td>540.000000</td>\n",
       "      <td>5.000000</td>\n",
       "    </tr>\n",
       "  </tbody>\n",
       "</table>\n",
       "</div>\n",
       "      <button class=\"colab-df-convert\" onclick=\"convertToInteractive('df-7409efab-abd2-45b4-a0a8-765cb416eb8a')\"\n",
       "              title=\"Convert this dataframe to an interactive table.\"\n",
       "              style=\"display:none;\">\n",
       "        \n",
       "  <svg xmlns=\"http://www.w3.org/2000/svg\" height=\"24px\"viewBox=\"0 0 24 24\"\n",
       "       width=\"24px\">\n",
       "    <path d=\"M0 0h24v24H0V0z\" fill=\"none\"/>\n",
       "    <path d=\"M18.56 5.44l.94 2.06.94-2.06 2.06-.94-2.06-.94-.94-2.06-.94 2.06-2.06.94zm-11 1L8.5 8.5l.94-2.06 2.06-.94-2.06-.94L8.5 2.5l-.94 2.06-2.06.94zm10 10l.94 2.06.94-2.06 2.06-.94-2.06-.94-.94-2.06-.94 2.06-2.06.94z\"/><path d=\"M17.41 7.96l-1.37-1.37c-.4-.4-.92-.59-1.43-.59-.52 0-1.04.2-1.43.59L10.3 9.45l-7.72 7.72c-.78.78-.78 2.05 0 2.83L4 21.41c.39.39.9.59 1.41.59.51 0 1.02-.2 1.41-.59l7.78-7.78 2.81-2.81c.8-.78.8-2.07 0-2.86zM5.41 20L4 18.59l7.72-7.72 1.47 1.35L5.41 20z\"/>\n",
       "  </svg>\n",
       "      </button>\n",
       "      \n",
       "  <style>\n",
       "    .colab-df-container {\n",
       "      display:flex;\n",
       "      flex-wrap:wrap;\n",
       "      gap: 12px;\n",
       "    }\n",
       "\n",
       "    .colab-df-convert {\n",
       "      background-color: #E8F0FE;\n",
       "      border: none;\n",
       "      border-radius: 50%;\n",
       "      cursor: pointer;\n",
       "      display: none;\n",
       "      fill: #1967D2;\n",
       "      height: 32px;\n",
       "      padding: 0 0 0 0;\n",
       "      width: 32px;\n",
       "    }\n",
       "\n",
       "    .colab-df-convert:hover {\n",
       "      background-color: #E2EBFA;\n",
       "      box-shadow: 0px 1px 2px rgba(60, 64, 67, 0.3), 0px 1px 3px 1px rgba(60, 64, 67, 0.15);\n",
       "      fill: #174EA6;\n",
       "    }\n",
       "\n",
       "    [theme=dark] .colab-df-convert {\n",
       "      background-color: #3B4455;\n",
       "      fill: #D2E3FC;\n",
       "    }\n",
       "\n",
       "    [theme=dark] .colab-df-convert:hover {\n",
       "      background-color: #434B5C;\n",
       "      box-shadow: 0px 1px 3px 1px rgba(0, 0, 0, 0.15);\n",
       "      filter: drop-shadow(0px 1px 2px rgba(0, 0, 0, 0.3));\n",
       "      fill: #FFFFFF;\n",
       "    }\n",
       "  </style>\n",
       "\n",
       "      <script>\n",
       "        const buttonEl =\n",
       "          document.querySelector('#df-7409efab-abd2-45b4-a0a8-765cb416eb8a button.colab-df-convert');\n",
       "        buttonEl.style.display =\n",
       "          google.colab.kernel.accessAllowed ? 'block' : 'none';\n",
       "\n",
       "        async function convertToInteractive(key) {\n",
       "          const element = document.querySelector('#df-7409efab-abd2-45b4-a0a8-765cb416eb8a');\n",
       "          const dataTable =\n",
       "            await google.colab.kernel.invokeFunction('convertToInteractive',\n",
       "                                                     [key], {});\n",
       "          if (!dataTable) return;\n",
       "\n",
       "          const docLinkHtml = 'Like what you see? Visit the ' +\n",
       "            '<a target=\"_blank\" href=https://colab.research.google.com/notebooks/data_table.ipynb>data table notebook</a>'\n",
       "            + ' to learn more about interactive tables.';\n",
       "          element.innerHTML = '';\n",
       "          dataTable['output_type'] = 'display_data';\n",
       "          await google.colab.output.renderOutput(dataTable, element);\n",
       "          const docLink = document.createElement('div');\n",
       "          docLink.innerHTML = docLinkHtml;\n",
       "          element.appendChild(docLink);\n",
       "        }\n",
       "      </script>\n",
       "    </div>\n",
       "  </div>\n",
       "  "
      ]
     },
     "metadata": {},
     "execution_count": 17
    }
   ]
  },
  {
   "cell_type": "markdown",
   "source": [
    "### **1.2.2** Visualizations\n",
    "\n",
    "There are 8 manually graded points in this section."
   ],
   "metadata": {
    "id": "YwLDb9QE6sEF"
   }
  },
  {
   "cell_type": "markdown",
   "source": [
    "#### (a) Number of Canceled and Not Canceled Bookings For Each Month [5 pts]"
   ],
   "metadata": {
    "id": "SCE6Y6TF7thU"
   }
  },
  {
   "cell_type": "markdown",
   "source": [
    "**Task:** For each month, we want to find the number of canceled bookings and not-canceled bookings.\n",
    "\n",
    "You should first create a dataframe called `month_status` with the following columns using `df_reservations`:\n",
    "- `'arrival_month'`\n",
    "- `'booking_status'`"
   ],
   "metadata": {
    "id": "pCOF-tYX9zVV"
   }
  },
  {
   "cell_type": "code",
   "source": [
    "# TO-DO: create a dataframe month_status \n",
    "month_status = df_reservations[[\"arrival_month\", \"booking_status\"]]"
   ],
   "metadata": {
    "id": "hHA523wv-4fq"
   },
   "execution_count": 18,
   "outputs": []
  },
  {
   "cell_type": "code",
   "source": [
    "# Grader Cell (1 point)\n",
    "grader.grade(test_case_id = 'month_status_df', answer = month_status)"
   ],
   "metadata": {
    "id": "L17_HwUS7AQe",
    "colab": {
     "base_uri": "https://localhost:8080/"
    },
    "outputId": "64bcc98f-c931-4651-dde5-84316e47934f"
   },
   "execution_count": 19,
   "outputs": [
    {
     "output_type": "stream",
     "name": "stdout",
     "text": [
      "Correct! You earned 1/1 points. You are a star!\n",
      "\n",
      "Your submission has been successfully recorded in the gradebook.\n"
     ]
    }
   ]
  },
  {
   "cell_type": "markdown",
   "source": [
    "**Manually Graded Task:**  We will be using the `seaborn` library for this problem to create a <ins>double histogram</ins> plot using the data in `month_status`. For each month, there will be two bars: one for Canceled bookings and another for Not_Canceled bookings.\n",
    "\n",
    "Your plot must:\n",
    "*   Be of figure size `(8,6)`\n",
    "*   Use `palette = 'husl'` and `shrink = 2`. \n",
    "*   Have three-letter abbreviations for months as x-tick labels (for example: Jan, Feb, Mar)\n",
    "*   Have appropriate titles, axes labels, and a legend\n",
    "*   Be clearly legible and should **not** have overlapping text or bars.\n",
    "*   Make sure all months are visible on the x-axis"
   ],
   "metadata": {
    "id": "L0chtICRm4F7"
   }
  },
  {
   "cell_type": "code",
   "source": [
    "# TO-DO: [MANUALLY GRADED: 4 points]\n",
    "#   Create a histogram plot which has bars placed side by side in a single plot \n",
    "#   showing the number of Canceled and Not_Canceled bookings for each month    \n",
    "\n",
    "months = [\"Jan\", \"Feb\", \"Mar\", \"Apr\", \"May\", \"Jun\", \"Jul\", \"Aug\", \"Sep\", \"Oct\", \"Nov\", \"Dec\"]\n",
    "\n",
    "# Be of figure size (8,6)\n",
    "plt.figure(figsize = (8, 6))\n",
    "\n",
    "# Use palette = 'husl' and shrink = 2. Do not have overlapping text or bars\n",
    "sns.histplot(data = month_status, x = \"arrival_month\", hue = \"booking_status\",\\\n",
    "             palette = \"husl\", shrink = 2, multiple = \"dodge\")\n",
    "\n",
    "# Have three-letter abbreviations for months as x-tick labels\n",
    "plt.xticks(ticks = range(1, 13), labels = months)\n",
    "\n",
    "# Have appropriate titles, axes labels, and a legend\n",
    "plt.title(\"Number of canceled and not canceled hotel reservations for each month of arrival\")\n",
    "plt.xlabel(\"Arrival Month\")\n",
    "plt.ylabel(\"Number of bookings\")\n",
    "plt.legend(title = \"Booking Status\", labels = [\"Canceled\", \"Not Canceled\"])\n",
    "\n",
    "# All months are visible, all is clearly legible"
   ],
   "metadata": {
    "id": "UqaanuTOEB6T",
    "colab": {
     "base_uri": "https://localhost:8080/",
     "height": 582
    },
    "outputId": "dbb7255c-bc40-4fe9-9f91-885ab59129a5"
   },
   "execution_count": 20,
   "outputs": [
    {
     "output_type": "execute_result",
     "data": {
      "text/plain": [
       "<matplotlib.legend.Legend at 0x7fb332f04700>"
      ]
     },
     "metadata": {},
     "execution_count": 20
    },
    {
     "output_type": "display_data",
     "data": {
      "text/plain": [
       "<Figure size 800x600 with 1 Axes>"
      ],
      "image/png": "[encoded data removed]"
     },
     "metadata": {}
    }
   ]
  },
  {
   "cell_type": "markdown",
   "source": [
    "#### (b) Average Price of a Room for Each Month [5 pts]"
   ],
   "metadata": {
    "id": "yS7viOKL8Bap"
   }
  },
  {
   "cell_type": "markdown",
   "source": [
    "**Task:** For each month, we want to find the average cost of rooms.\n",
    "\n",
    "Please note that there exists a column named `'avg_price_per_room'`, which is the *average price per day* of the given reservation.\n",
    "\n",
    "We want to find the average cost of a hotel room for *each month*.\n",
    "\n",
    "You should first create a dataframe called `month_price` with the following columns:\n",
    "- `'arrival_month'`\n",
    "- `'avg_price_per_room'`"
   ],
   "metadata": {
    "id": "11ks7ny08qOs"
   }
  },
  {
   "cell_type": "code",
   "source": [
    "# TO-DO: create a dataframe month_price \n",
    "month_price = df_reservations[[\"arrival_month\", \"avg_price_per_room\"]]"
   ],
   "metadata": {
    "id": "-_VrNbmOIMCc"
   },
   "execution_count": 21,
   "outputs": []
  },
  {
   "cell_type": "code",
   "source": [
    "# Grader Cell (1 points)\n",
    "grader.grade(test_case_id = 'month_price_df', answer = month_price)"
   ],
   "metadata": {
    "id": "srjuu8zM94AG",
    "colab": {
     "base_uri": "https://localhost:8080/"
    },
    "outputId": "b365905f-8097-4bfc-ce30-1f6755dd54cd"
   },
   "execution_count": 22,
   "outputs": [
    {
     "output_type": "stream",
     "name": "stdout",
     "text": [
      "Correct! You earned 1/1 points. You are a star!\n",
      "\n",
      "Your submission has been successfully recorded in the gradebook.\n"
     ]
    }
   ]
  },
  {
   "cell_type": "markdown",
   "source": [
    "**Manually Graded Task:** We will be using the `seaborn` library for this problem to create a <ins>barplot</ins> visualizing the data in `month_price`\n",
    "\n",
    "Your plot must:\n",
    "*   Be of figure size (8,6)\n",
    "*   Use `palette = 'husl'` and `errorbar=None`. \n",
    "*   Have three-letter abbreviations for months as x-tick labels (for example: Jan, Feb, Mar)\n",
    "*   Have appropriate titles and axes labels\n",
    "*   Be clearly legible and should **not** have overlapping text or bars."
   ],
   "metadata": {
    "id": "3zv3ETHZnSwp"
   }
  },
  {
   "cell_type": "code",
   "source": [
    "# TO-DO: [MANUALLY GRADED: 4 points]\n",
    "#   Create a bar plot showing the average price per room for each month\n",
    "\n",
    "months = [\"Jan\", \"Feb\", \"Mar\", \"Apr\", \"May\", \"Jun\", \"Jul\", \"Aug\", \"Sep\", \"Oct\", \"Nov\", \"Dec\"]\n",
    "\n",
    "# Be of figure size (8,6)\n",
    "plt.figure(figsize = (8, 6))\n",
    "\n",
    "# Use palette = 'husl' and errorbar = None\n",
    "sns.barplot(data = month_price, x = \"arrival_month\", y = \"avg_price_per_room\",\\\n",
    "             estimator = \"mean\", palette = \"husl\", errorbar = None)\n",
    "\n",
    "# Have three-letter abbreviations for months as x-tick labels\n",
    "plt.xticks(ticks = range(0, 12), labels = months)\n",
    "\n",
    "# Have appropriate titles and axes labels\n",
    "plt.title(\"Average price of hotel room for each month of arrival\")\n",
    "plt.xlabel(\"Arrival Month\")\n",
    "plt.ylabel(\"Average price of room\")\n",
    "\n",
    "# All months are visible, all is clearly legible, nothing overlaps another"
   ],
   "metadata": {
    "id": "Ldul5GNGGshh",
    "colab": {
     "base_uri": "https://localhost:8080/",
     "height": 582
    },
    "outputId": "55816f1b-f1f5-45ac-b0f8-29cfac8c84f8"
   },
   "execution_count": 23,
   "outputs": [
    {
     "output_type": "execute_result",
     "data": {
      "text/plain": [
       "Text(0, 0.5, 'Average price of room')"
      ]
     },
     "metadata": {},
     "execution_count": 23
    },
    {
     "output_type": "display_data",
     "data": {
      "text/plain": [
       "<Figure size 800x600 with 1 Axes>"
      ],
      "image/png": "[encoded data removed]"
     },
     "metadata": {}
    }
   ]
  },
  {
   "cell_type": "markdown",
   "source": [
    "### **1.2.3** Correlation of Feature Variables\n",
    "\n",
    "With multiple features, it can be somewhat exhausting to do bivariate analysis on every possible pair of features. While you certainly should, your first instinct should be to check for the correlation between features since certain models (e.g. Linear Regression) won't work well if we have strong multicollinearity."
   ],
   "metadata": {
    "id": "D_uvTv_VKYfY"
   }
  },
  {
   "cell_type": "markdown",
   "source": [
    "#### (a) Isolating Numerics from Categorical Features [3 pts]\n",
    "\n",
    "Before anything else, it may help to create groups of the numeric and categorical variables.\n",
    "\n",
    "**Task:** is to split the `df_reservations` dataframe into 2 dataframes:\n",
    "\n",
    "1. `numerics_df`: This dataframe contains all numerical columns from `df_reservations`\n",
    "\n",
    "2. `categorical_df`: This dataframe contains all categorical columns from `df_reservations`\n",
    "  - i.e. the columns of non-numeric type or contain boolean values\n",
    "\n",
    "In the above dataframes, **please do not include `arrival_year`, `arrival_month`, `arrival_date`, `Booking_ID`, `booking_status`**, \n",
    "because we do not consider time series here and will be predicting `booking_status` in the immidiate classification problem.\n",
    "\n",
    "Also, **sort the columns of `numerics_df` and `categorical_df` in alphabetic order**"
   ],
   "metadata": {
    "id": "YacG1jN-_WI6"
   }
  },
  {
   "cell_type": "code",
   "source": [
    "# TO-DO: Visualize number of unique values and datatype in each column (call .nunique())\n",
    "df_reservations.nunique()"
   ],
   "metadata": {
    "id": "zBxOkIQp_B_w",
    "colab": {
     "base_uri": "https://localhost:8080/"
    },
    "outputId": "747cb274-2c3b-467c-87ec-5a23f33ca21d"
   },
   "execution_count": 24,
   "outputs": [
    {
     "output_type": "execute_result",
     "data": {
      "text/plain": [
       "Booking_ID                              36275\n",
       "no_of_adults                                5\n",
       "no_of_children                              6\n",
       "no_of_weekend_nights                        8\n",
       "no_of_week_nights                          18\n",
       "type_of_meal_plan                           4\n",
       "required_car_parking_space                  2\n",
       "room_type_reserved                          7\n",
       "lead_time                                 352\n",
       "arrival_year                                2\n",
       "arrival_month                              12\n",
       "arrival_date                               31\n",
       "market_segment_type                         5\n",
       "repeated_guest                              2\n",
       "no_of_previous_cancellations                9\n",
       "no_of_previous_bookings_not_canceled       59\n",
       "avg_price_per_room                       3930\n",
       "no_of_special_requests                      6\n",
       "booking_status                              2\n",
       "dtype: int64"
      ]
     },
     "metadata": {},
     "execution_count": 24
    }
   ]
  },
  {
   "cell_type": "code",
   "source": [
    "# TO-DO: Form 'numerics_df' and 'categorical_df'\n",
    "numerics_df = df_reservations[['no_of_adults', 'no_of_children', 'no_of_weekend_nights',\\\n",
    "                               'no_of_week_nights', 'lead_time',\\\n",
    "                               'no_of_previous_cancellations', 'no_of_previous_bookings_not_canceled',\\\n",
    "                               'avg_price_per_room', 'no_of_special_requests']]\n",
    "\n",
    "categorical_df = df_reservations[['type_of_meal_plan', 'room_type_reserved', 'required_car_parking_space',\\\n",
    "                                  'market_segment_type', 'repeated_guest']]"
   ],
   "metadata": {
    "id": "PZIPC3qoLgag"
   },
   "execution_count": 25,
   "outputs": []
  },
  {
   "cell_type": "code",
   "source": [
    "# TO-DO: sort the columns of `numerics_df` and `categorical_df` in alphabetic order \n",
    "numerics_df = numerics_df.reindex(sorted(numerics_df.columns), axis = 1)\n",
    "categorical_df = categorical_df.reindex(sorted(categorical_df.columns), axis = 1)"
   ],
   "metadata": {
    "id": "kl0qUiGjOYnZ"
   },
   "execution_count": 26,
   "outputs": []
  },
  {
   "cell_type": "code",
   "source": [
    "#Grader Cell (3 points)\n",
    "grader.grade(test_case_id = 'cat_num_df', answer = (numerics_df, categorical_df))"
   ],
   "metadata": {
    "id": "eGWnwyl4Bkjt",
    "colab": {
     "base_uri": "https://localhost:8080/"
    },
    "outputId": "bded008b-7385-49bf-e05b-74f7d5e253eb"
   },
   "execution_count": 27,
   "outputs": [
    {
     "output_type": "stream",
     "name": "stdout",
     "text": [
      "Correct! You earned 3/3 points. You are a star!\n",
      "\n",
      "Your submission has been successfully recorded in the gradebook.\n"
     ]
    }
   ]
  },
  {
   "cell_type": "markdown",
   "metadata": {
    "id": "QRaftmxV-FEV"
   },
   "source": [
    "#### (b) **Correlation Heatmap** [3 pts]\n",
    "\n",
    "**Manually Graded Task:** Create a correlation matrix using `numerics_df` and call it `corr_mat`. Using the correlation matrix, generate a correlation heatmap for these numeric features. We will be using Seaborn library to create this heatmap.\n",
    "\n",
    "Make sure your correlation heatmap meets the following criteria:\n",
    "*   Ensure that your heatmap is of figure size `(8,8)`: all feature labels should be visible on both the $x$-axis and $y$-axis\n",
    "*   Use the `RdBu` color map to ensure that negative correlations are red and positive correlations are blue. This is far more intuitive than other ones.\n",
    "*   Standardize the color scale so that -1 takes the darkest red color, 0 is totally white, and +1 takes the darkest blue color. Remember, the Official Documentation should always be your first point of reference."
   ]
  },
  {
   "cell_type": "code",
   "source": [
    "numerics_df.head()"
   ],
   "metadata": {
    "colab": {
     "base_uri": "https://localhost:8080/",
     "height": 270
    },
    "id": "33cTqSApn9ov",
    "outputId": "293e352c-bd08-4f6f-e8cd-dc7742ff1b7b"
   },
   "execution_count": 28,
   "outputs": [
    {
     "output_type": "execute_result",
     "data": {
      "text/plain": [
       "   avg_price_per_room  lead_time  no_of_adults  no_of_children  \\\n",
       "0               65.00        224             2               0   \n",
       "1              106.68          5             2               0   \n",
       "2               60.00          1             1               0   \n",
       "3              100.00        211             2               0   \n",
       "4               94.50         48             2               0   \n",
       "\n",
       "   no_of_previous_bookings_not_canceled  no_of_previous_cancellations  \\\n",
       "0                                     0                             0   \n",
       "1                                     0                             0   \n",
       "2                                     0                             0   \n",
       "3                                     0                             0   \n",
       "4                                     0                             0   \n",
       "\n",
       "   no_of_special_requests  no_of_week_nights  no_of_weekend_nights  \n",
       "0                       0                  2                     1  \n",
       "1                       1                  3                     2  \n",
       "2                       0                  1                     2  \n",
       "3                       0                  2                     0  \n",
       "4                       0                  1                     1  "
      ],
      "text/html": [
       "\n",
       "  <div id=\"df-dca944f6-98b9-49de-b351-a20c98cd78c3\">\n",
       "    <div class=\"colab-df-container\">\n",
       "      <div>\n",
       "<style scoped>\n",
       "    .dataframe tbody tr th:only-of-type {\n",
       "        vertical-align: middle;\n",
       "    }\n",
       "\n",
       "    .dataframe tbody tr th {\n",
       "        vertical-align: top;\n",
       "    }\n",
       "\n",
       "    .dataframe thead th {\n",
       "        text-align: right;\n",
       "    }\n",
       "</style>\n",
       "<table border=\"1\" class=\"dataframe\">\n",
       "  <thead>\n",
       "    <tr style=\"text-align: right;\">\n",
       "      <th></th>\n",
       "      <th>avg_price_per_room</th>\n",
       "      <th>lead_time</th>\n",
       "      <th>no_of_adults</th>\n",
       "      <th>no_of_children</th>\n",
       "      <th>no_of_previous_bookings_not_canceled</th>\n",
       "      <th>no_of_previous_cancellations</th>\n",
       "      <th>no_of_special_requests</th>\n",
       "      <th>no_of_week_nights</th>\n",
       "      <th>no_of_weekend_nights</th>\n",
       "    </tr>\n",
       "  </thead>\n",
       "  <tbody>\n",
       "    <tr>\n",
       "      <th>0</th>\n",
       "      <td>65.00</td>\n",
       "      <td>224</td>\n",
       "      <td>2</td>\n",
       "      <td>0</td>\n",
       "      <td>0</td>\n",
       "      <td>0</td>\n",
       "      <td>0</td>\n",
       "      <td>2</td>\n",
       "      <td>1</td>\n",
       "    </tr>\n",
       "    <tr>\n",
       "      <th>1</th>\n",
       "      <td>106.68</td>\n",
       "      <td>5</td>\n",
       "      <td>2</td>\n",
       "      <td>0</td>\n",
       "      <td>0</td>\n",
       "      <td>0</td>\n",
       "      <td>1</td>\n",
       "      <td>3</td>\n",
       "      <td>2</td>\n",
       "    </tr>\n",
       "    <tr>\n",
       "      <th>2</th>\n",
       "      <td>60.00</td>\n",
       "      <td>1</td>\n",
       "      <td>1</td>\n",
       "      <td>0</td>\n",
       "      <td>0</td>\n",
       "      <td>0</td>\n",
       "      <td>0</td>\n",
       "      <td>1</td>\n",
       "      <td>2</td>\n",
       "    </tr>\n",
       "    <tr>\n",
       "      <th>3</th>\n",
       "      <td>100.00</td>\n",
       "      <td>211</td>\n",
       "      <td>2</td>\n",
       "      <td>0</td>\n",
       "      <td>0</td>\n",
       "      <td>0</td>\n",
       "      <td>0</td>\n",
       "      <td>2</td>\n",
       "      <td>0</td>\n",
       "    </tr>\n",
       "    <tr>\n",
       "      <th>4</th>\n",
       "      <td>94.50</td>\n",
       "      <td>48</td>\n",
       "      <td>2</td>\n",
       "      <td>0</td>\n",
       "      <td>0</td>\n",
       "      <td>0</td>\n",
       "      <td>0</td>\n",
       "      <td>1</td>\n",
       "      <td>1</td>\n",
       "    </tr>\n",
       "  </tbody>\n",
       "</table>\n",
       "</div>\n",
       "      <button class=\"colab-df-convert\" onclick=\"convertToInteractive('df-dca944f6-98b9-49de-b351-a20c98cd78c3')\"\n",
       "              title=\"Convert this dataframe to an interactive table.\"\n",
       "              style=\"display:none;\">\n",
       "        \n",
       "  <svg xmlns=\"http://www.w3.org/2000/svg\" height=\"24px\"viewBox=\"0 0 24 24\"\n",
       "       width=\"24px\">\n",
       "    <path d=\"M0 0h24v24H0V0z\" fill=\"none\"/>\n",
       "    <path d=\"M18.56 5.44l.94 2.06.94-2.06 2.06-.94-2.06-.94-.94-2.06-.94 2.06-2.06.94zm-11 1L8.5 8.5l.94-2.06 2.06-.94-2.06-.94L8.5 2.5l-.94 2.06-2.06.94zm10 10l.94 2.06.94-2.06 2.06-.94-2.06-.94-.94-2.06-.94 2.06-2.06.94z\"/><path d=\"M17.41 7.96l-1.37-1.37c-.4-.4-.92-.59-1.43-.59-.52 0-1.04.2-1.43.59L10.3 9.45l-7.72 7.72c-.78.78-.78 2.05 0 2.83L4 21.41c.39.39.9.59 1.41.59.51 0 1.02-.2 1.41-.59l7.78-7.78 2.81-2.81c.8-.78.8-2.07 0-2.86zM5.41 20L4 18.59l7.72-7.72 1.47 1.35L5.41 20z\"/>\n",
       "  </svg>\n",
       "      </button>\n",
       "      \n",
       "  <style>\n",
       "    .colab-df-container {\n",
       "      display:flex;\n",
       "      flex-wrap:wrap;\n",
       "      gap: 12px;\n",
       "    }\n",
       "\n",
       "    .colab-df-convert {\n",
       "      background-color: #E8F0FE;\n",
       "      border: none;\n",
       "      border-radius: 50%;\n",
       "      cursor: pointer;\n",
       "      display: none;\n",
       "      fill: #1967D2;\n",
       "      height: 32px;\n",
       "      padding: 0 0 0 0;\n",
       "      width: 32px;\n",
       "    }\n",
       "\n",
       "    .colab-df-convert:hover {\n",
       "      background-color: #E2EBFA;\n",
       "      box-shadow: 0px 1px 2px rgba(60, 64, 67, 0.3), 0px 1px 3px 1px rgba(60, 64, 67, 0.15);\n",
       "      fill: #174EA6;\n",
       "    }\n",
       "\n",
       "    [theme=dark] .colab-df-convert {\n",
       "      background-color: #3B4455;\n",
       "      fill: #D2E3FC;\n",
       "    }\n",
       "\n",
       "    [theme=dark] .colab-df-convert:hover {\n",
       "      background-color: #434B5C;\n",
       "      box-shadow: 0px 1px 3px 1px rgba(0, 0, 0, 0.15);\n",
       "      filter: drop-shadow(0px 1px 2px rgba(0, 0, 0, 0.3));\n",
       "      fill: #FFFFFF;\n",
       "    }\n",
       "  </style>\n",
       "\n",
       "      <script>\n",
       "        const buttonEl =\n",
       "          document.querySelector('#df-dca944f6-98b9-49de-b351-a20c98cd78c3 button.colab-df-convert');\n",
       "        buttonEl.style.display =\n",
       "          google.colab.kernel.accessAllowed ? 'block' : 'none';\n",
       "\n",
       "        async function convertToInteractive(key) {\n",
       "          const element = document.querySelector('#df-dca944f6-98b9-49de-b351-a20c98cd78c3');\n",
       "          const dataTable =\n",
       "            await google.colab.kernel.invokeFunction('convertToInteractive',\n",
       "                                                     [key], {});\n",
       "          if (!dataTable) return;\n",
       "\n",
       "          const docLinkHtml = 'Like what you see? Visit the ' +\n",
       "            '<a target=\"_blank\" href=https://colab.research.google.com/notebooks/data_table.ipynb>data table notebook</a>'\n",
       "            + ' to learn more about interactive tables.';\n",
       "          element.innerHTML = '';\n",
       "          dataTable['output_type'] = 'display_data';\n",
       "          await google.colab.output.renderOutput(dataTable, element);\n",
       "          const docLink = document.createElement('div');\n",
       "          docLink.innerHTML = docLinkHtml;\n",
       "          element.appendChild(docLink);\n",
       "        }\n",
       "      </script>\n",
       "    </div>\n",
       "  </div>\n",
       "  "
      ]
     },
     "metadata": {},
     "execution_count": 28
    }
   ]
  },
  {
   "cell_type": "code",
   "source": [
    "# TO-DO: Plot correlation heatmap (3 points)\n",
    "\n",
    "# Be of figure size (8,8)\n",
    "plt.figure(figsize = (8, 8))\n",
    "\n",
    "# All feature labels visible on both axes\n",
    "# Use RdBu color map (cmap = \"RdBu\")\n",
    "# Standardize color sacle so that -1 takes daarkest red and +1 takes darkest blue\n",
    "# 0 is totally white (vmin = -1, vmax = 1)\n",
    "corr_mat = sns.heatmap(numerics_df.corr(), vmin = -1, vmax = 1, annot = True, cmap = \"RdBu\")"
   ],
   "metadata": {
    "id": "3IjmGO3eLcjz",
    "colab": {
     "base_uri": "https://localhost:8080/",
     "height": 941
    },
    "outputId": "245cea0c-eaf2-44e8-e8aa-b0406f60527d"
   },
   "execution_count": 29,
   "outputs": [
    {
     "output_type": "display_data",
     "data": {
      "text/plain": [
       "<Figure size 800x800 with 2 Axes>"
      ],
      "image/png": "[encoded data removed]"
     },
     "metadata": {}
    }
   ]
  },
  {
   "cell_type": "markdown",
   "source": [
    "## **1.3** Feature Engineering [Total: 4 points]\n",
    "\n",
    "Feature engineering is the process of applying domain knowledge to extract features from raw data via data mining techniques. These features can be used to improve the performance of machine learning algorithms."
   ],
   "metadata": {
    "id": "06OFh_eTNIPI"
   }
  },
  {
   "cell_type": "markdown",
   "source": [
    "### **1.3.1** One Hot Encoding [2 pts]"
   ],
   "metadata": {
    "id": "gJ2ptxmkNyG6"
   }
  },
  {
   "cell_type": "markdown",
   "source": [
    "One hot encoding is a process by which categorical variables are converted into a form that could be provided to ML algorithms to do a better job in prediction. With one-hot encoding, we convert each categorical value into a new categorical column and assign a binary value of 1 or 0 to those columns. \n",
    "\n",
    "One way to one-hot encode in Pandas is by using `pd.get_dummies()` . The documentation can be found [here](https://pandas.pydata.org/docs/reference/api/pandas.get_dummies.html). \n",
    "\n",
    "**Input:** Perform operations on `df_reservations`\n",
    "\n",
    "**Task:**\n",
    "- Use `pd.get_dummies()` to one hot encode the following columns: \n",
    "  - `\"type_of_meal_plan\"`\n",
    "  - `\"room_type_reserved\"`\n",
    "  - `\"market_segment_type\"`\n",
    "- Save your result in the dataframe `encoded_df_reservations`.\n",
    "\n",
    "**Note:** Do <ins>NOT</ins> modify the column names. Use the default names `pd.get_dummies()` generates."
   ],
   "metadata": {
    "id": "AIaH3ZHsNvei"
   }
  },
  {
   "cell_type": "code",
   "source": [
    "# TO-DO: drop \"Booking_ID\" column from `df_reservations`\n",
    "df_reservations = df_reservations.drop(\"Booking_ID\", axis = 1)"
   ],
   "metadata": {
    "id": "ttMWoxUPOhqF"
   },
   "execution_count": 30,
   "outputs": []
  },
  {
   "cell_type": "code",
   "source": [
    "# TO-DO: create dataframe 'encoded_df_reservations' that contains the appropriate one hot encoded columns\n",
    "encoded_df_reservations = pd.get_dummies(data = df_reservations,\\\n",
    "                                         columns = [\"type_of_meal_plan\", \"room_type_reserved\", \"market_segment_type\"])"
   ],
   "metadata": {
    "id": "DCwdnXBRCNe-"
   },
   "execution_count": 31,
   "outputs": []
  },
  {
   "cell_type": "code",
   "source": [
    "# CHECK: display the first two rows of 'encoded_df_reservations'\n",
    "encoded_df_reservations[:2]"
   ],
   "metadata": {
    "id": "fvEcv14XGrV2",
    "colab": {
     "base_uri": "https://localhost:8080/",
     "height": 223
    },
    "outputId": "a686167e-eaa2-4643-d336-a5a7161bbe7a"
   },
   "execution_count": 32,
   "outputs": [
    {
     "output_type": "execute_result",
     "data": {
      "text/plain": [
       "   no_of_adults  no_of_children  no_of_weekend_nights  no_of_week_nights  \\\n",
       "0             2               0                     1                  2   \n",
       "1             2               0                     2                  3   \n",
       "\n",
       "   required_car_parking_space  lead_time  arrival_year  arrival_month  \\\n",
       "0                           0        224          2017             10   \n",
       "1                           0          5          2018             11   \n",
       "\n",
       "   arrival_date  repeated_guest  ...  room_type_reserved_Room_Type 3  \\\n",
       "0             2               0  ...                               0   \n",
       "1             6               0  ...                               0   \n",
       "\n",
       "   room_type_reserved_Room_Type 4  room_type_reserved_Room_Type 5  \\\n",
       "0                               0                               0   \n",
       "1                               0                               0   \n",
       "\n",
       "   room_type_reserved_Room_Type 6 room_type_reserved_Room_Type 7  \\\n",
       "0                               0                              0   \n",
       "1                               0                              0   \n",
       "\n",
       "   market_segment_type_Aviation  market_segment_type_Complementary  \\\n",
       "0                             0                                  0   \n",
       "1                             0                                  0   \n",
       "\n",
       "   market_segment_type_Corporate  market_segment_type_Offline  \\\n",
       "0                              0                            1   \n",
       "1                              0                            0   \n",
       "\n",
       "   market_segment_type_Online  \n",
       "0                           0  \n",
       "1                           1  \n",
       "\n",
       "[2 rows x 31 columns]"
      ],
      "text/html": [
       "\n",
       "  <div id=\"df-efa45eea-be1c-4f55-bcdb-0848820225cf\">\n",
       "    <div class=\"colab-df-container\">\n",
       "      <div>\n",
       "<style scoped>\n",
       "    .dataframe tbody tr th:only-of-type {\n",
       "        vertical-align: middle;\n",
       "    }\n",
       "\n",
       "    .dataframe tbody tr th {\n",
       "        vertical-align: top;\n",
       "    }\n",
       "\n",
       "    .dataframe thead th {\n",
       "        text-align: right;\n",
       "    }\n",
       "</style>\n",
       "<table border=\"1\" class=\"dataframe\">\n",
       "  <thead>\n",
       "    <tr style=\"text-align: right;\">\n",
       "      <th></th>\n",
       "      <th>no_of_adults</th>\n",
       "      <th>no_of_children</th>\n",
       "      <th>no_of_weekend_nights</th>\n",
       "      <th>no_of_week_nights</th>\n",
       "      <th>required_car_parking_space</th>\n",
       "      <th>lead_time</th>\n",
       "      <th>arrival_year</th>\n",
       "      <th>arrival_month</th>\n",
       "      <th>arrival_date</th>\n",
       "      <th>repeated_guest</th>\n",
       "      <th>...</th>\n",
       "      <th>room_type_reserved_Room_Type 3</th>\n",
       "      <th>room_type_reserved_Room_Type 4</th>\n",
       "      <th>room_type_reserved_Room_Type 5</th>\n",
       "      <th>room_type_reserved_Room_Type 6</th>\n",
       "      <th>room_type_reserved_Room_Type 7</th>\n",
       "      <th>market_segment_type_Aviation</th>\n",
       "      <th>market_segment_type_Complementary</th>\n",
       "      <th>market_segment_type_Corporate</th>\n",
       "      <th>market_segment_type_Offline</th>\n",
       "      <th>market_segment_type_Online</th>\n",
       "    </tr>\n",
       "  </thead>\n",
       "  <tbody>\n",
       "    <tr>\n",
       "      <th>0</th>\n",
       "      <td>2</td>\n",
       "      <td>0</td>\n",
       "      <td>1</td>\n",
       "      <td>2</td>\n",
       "      <td>0</td>\n",
       "      <td>224</td>\n",
       "      <td>2017</td>\n",
       "      <td>10</td>\n",
       "      <td>2</td>\n",
       "      <td>0</td>\n",
       "      <td>...</td>\n",
       "      <td>0</td>\n",
       "      <td>0</td>\n",
       "      <td>0</td>\n",
       "      <td>0</td>\n",
       "      <td>0</td>\n",
       "      <td>0</td>\n",
       "      <td>0</td>\n",
       "      <td>0</td>\n",
       "      <td>1</td>\n",
       "      <td>0</td>\n",
       "    </tr>\n",
       "    <tr>\n",
       "      <th>1</th>\n",
       "      <td>2</td>\n",
       "      <td>0</td>\n",
       "      <td>2</td>\n",
       "      <td>3</td>\n",
       "      <td>0</td>\n",
       "      <td>5</td>\n",
       "      <td>2018</td>\n",
       "      <td>11</td>\n",
       "      <td>6</td>\n",
       "      <td>0</td>\n",
       "      <td>...</td>\n",
       "      <td>0</td>\n",
       "      <td>0</td>\n",
       "      <td>0</td>\n",
       "      <td>0</td>\n",
       "      <td>0</td>\n",
       "      <td>0</td>\n",
       "      <td>0</td>\n",
       "      <td>0</td>\n",
       "      <td>0</td>\n",
       "      <td>1</td>\n",
       "    </tr>\n",
       "  </tbody>\n",
       "</table>\n",
       "<p>2 rows × 31 columns</p>\n",
       "</div>\n",
       "      <button class=\"colab-df-convert\" onclick=\"convertToInteractive('df-efa45eea-be1c-4f55-bcdb-0848820225cf')\"\n",
       "              title=\"Convert this dataframe to an interactive table.\"\n",
       "              style=\"display:none;\">\n",
       "        \n",
       "  <svg xmlns=\"http://www.w3.org/2000/svg\" height=\"24px\"viewBox=\"0 0 24 24\"\n",
       "       width=\"24px\">\n",
       "    <path d=\"M0 0h24v24H0V0z\" fill=\"none\"/>\n",
       "    <path d=\"M18.56 5.44l.94 2.06.94-2.06 2.06-.94-2.06-.94-.94-2.06-.94 2.06-2.06.94zm-11 1L8.5 8.5l.94-2.06 2.06-.94-2.06-.94L8.5 2.5l-.94 2.06-2.06.94zm10 10l.94 2.06.94-2.06 2.06-.94-2.06-.94-.94-2.06-.94 2.06-2.06.94z\"/><path d=\"M17.41 7.96l-1.37-1.37c-.4-.4-.92-.59-1.43-.59-.52 0-1.04.2-1.43.59L10.3 9.45l-7.72 7.72c-.78.78-.78 2.05 0 2.83L4 21.41c.39.39.9.59 1.41.59.51 0 1.02-.2 1.41-.59l7.78-7.78 2.81-2.81c.8-.78.8-2.07 0-2.86zM5.41 20L4 18.59l7.72-7.72 1.47 1.35L5.41 20z\"/>\n",
       "  </svg>\n",
       "      </button>\n",
       "      \n",
       "  <style>\n",
       "    .colab-df-container {\n",
       "      display:flex;\n",
       "      flex-wrap:wrap;\n",
       "      gap: 12px;\n",
       "    }\n",
       "\n",
       "    .colab-df-convert {\n",
       "      background-color: #E8F0FE;\n",
       "      border: none;\n",
       "      border-radius: 50%;\n",
       "      cursor: pointer;\n",
       "      display: none;\n",
       "      fill: #1967D2;\n",
       "      height: 32px;\n",
       "      padding: 0 0 0 0;\n",
       "      width: 32px;\n",
       "    }\n",
       "\n",
       "    .colab-df-convert:hover {\n",
       "      background-color: #E2EBFA;\n",
       "      box-shadow: 0px 1px 2px rgba(60, 64, 67, 0.3), 0px 1px 3px 1px rgba(60, 64, 67, 0.15);\n",
       "      fill: #174EA6;\n",
       "    }\n",
       "\n",
       "    [theme=dark] .colab-df-convert {\n",
       "      background-color: #3B4455;\n",
       "      fill: #D2E3FC;\n",
       "    }\n",
       "\n",
       "    [theme=dark] .colab-df-convert:hover {\n",
       "      background-color: #434B5C;\n",
       "      box-shadow: 0px 1px 3px 1px rgba(0, 0, 0, 0.15);\n",
       "      filter: drop-shadow(0px 1px 2px rgba(0, 0, 0, 0.3));\n",
       "      fill: #FFFFFF;\n",
       "    }\n",
       "  </style>\n",
       "\n",
       "      <script>\n",
       "        const buttonEl =\n",
       "          document.querySelector('#df-efa45eea-be1c-4f55-bcdb-0848820225cf button.colab-df-convert');\n",
       "        buttonEl.style.display =\n",
       "          google.colab.kernel.accessAllowed ? 'block' : 'none';\n",
       "\n",
       "        async function convertToInteractive(key) {\n",
       "          const element = document.querySelector('#df-efa45eea-be1c-4f55-bcdb-0848820225cf');\n",
       "          const dataTable =\n",
       "            await google.colab.kernel.invokeFunction('convertToInteractive',\n",
       "                                                     [key], {});\n",
       "          if (!dataTable) return;\n",
       "\n",
       "          const docLinkHtml = 'Like what you see? Visit the ' +\n",
       "            '<a target=\"_blank\" href=https://colab.research.google.com/notebooks/data_table.ipynb>data table notebook</a>'\n",
       "            + ' to learn more about interactive tables.';\n",
       "          element.innerHTML = '';\n",
       "          dataTable['output_type'] = 'display_data';\n",
       "          await google.colab.output.renderOutput(dataTable, element);\n",
       "          const docLink = document.createElement('div');\n",
       "          docLink.innerHTML = docLinkHtml;\n",
       "          element.appendChild(docLink);\n",
       "        }\n",
       "      </script>\n",
       "    </div>\n",
       "  </div>\n",
       "  "
      ]
     },
     "metadata": {},
     "execution_count": 32
    }
   ]
  },
  {
   "cell_type": "code",
   "source": [
    "#Grader Cell (2 points)\n",
    "grader.grade(test_case_id = 'one_hot_encoded', answer = encoded_df_reservations.head(10))"
   ],
   "metadata": {
    "id": "sa082oxXE8F-",
    "colab": {
     "base_uri": "https://localhost:8080/"
    },
    "outputId": "9e8a7afb-0258-4c1c-9891-d4a67c711d9f"
   },
   "execution_count": 33,
   "outputs": [
    {
     "output_type": "stream",
     "name": "stdout",
     "text": [
      "Correct! You earned 2/2 points. You are a star!\n",
      "\n",
      "Your submission has been successfully recorded in the gradebook.\n"
     ]
    }
   ]
  },
  {
   "cell_type": "markdown",
   "source": [
    "### **1.3.2** Change 'booking_status' to Boolean [2 pts]"
   ],
   "metadata": {
    "id": "4bVkkvxRrWuc"
   }
  },
  {
   "cell_type": "markdown",
   "source": [
    "We will use `encoded_df_reservations` starting from 1.3.2\n",
    "\n",
    "We will be predicting the `\"booking_status\"` for our classification problem. Let's convert this column into a Boolean column. \n",
    "\n",
    "**Input:** Use `encoded_df_reservations` in forward sections\n",
    "\n",
    "**Task:** If the `\"booking_status\"` is \"Canceled\", set it to 1. Otherwise, set it to 0.\n",
    "\n",
    "_(Aside: while this may sound oddly familiar, please note that this is not the same as your Midterm 1)_"
   ],
   "metadata": {
    "id": "SGMeJ17zsX5v"
   }
  },
  {
   "cell_type": "code",
   "source": [
    "# TO-DO: canceled = 1, not canceled = 0 \n",
    "encoded_df_reservations[\"booking_status\"] = \\\n",
    "encoded_df_reservations[\"booking_status\"].apply(lambda x: 1 if x == \"Canceled\" else 0)"
   ],
   "metadata": {
    "id": "jcbPXfEuEy6s"
   },
   "execution_count": 34,
   "outputs": []
  },
  {
   "cell_type": "code",
   "source": [
    "# Grader Cell (2 points)\n",
    "grader.grade(test_case_id = 'boolean_booking', answer = encoded_df_reservations.head(20)['booking_status'])"
   ],
   "metadata": {
    "id": "ILEHbWkbrrfi",
    "colab": {
     "base_uri": "https://localhost:8080/"
    },
    "outputId": "bf113f7d-36a5-4d43-9975-d82d1a8e57d2"
   },
   "execution_count": 35,
   "outputs": [
    {
     "output_type": "stream",
     "name": "stdout",
     "text": [
      "Correct! You earned 2/2 points. You are a star!\n",
      "\n",
      "Your submission has been successfully recorded in the gradebook.\n"
     ]
    }
   ]
  },
  {
   "cell_type": "markdown",
   "metadata": {
    "id": "K-iqlFZacKO9"
   },
   "source": [
    "## **1.4** Modeling (sklearn) [Total: 43 points]"
   ]
  },
  {
   "cell_type": "markdown",
   "source": [
    "### **1.4.1** Preprocessing: Create Features and Label and Split Data into Train and Test [4 pts]\n",
    "\n",
    "Now that we have explored and cleaned our dataset, let's prepare it for a machine learning task. In this homework, you will work with various models and attempt to predict whether a room booking will be cancelled or not.\n",
    "\n",
    "The features will be all the variables in the dataset **except** `\"booking_status\"`, which will act as the label for our problem. First, store these two as `features` (pd.DataFrame) and `target` (pd.Series), respectively."
   ],
   "metadata": {
    "id": "xPBSUmK9HRHc"
   }
  },
  {
   "cell_type": "code",
   "source": [
    "# TO-DO: stores features dataframe into variable called \"features\"\n",
    "features = encoded_df_reservations.loc[:, encoded_df_reservations.columns != \"booking_status\"]"
   ],
   "metadata": {
    "id": "N7_jhB-LEVNK"
   },
   "execution_count": 36,
   "outputs": []
  },
  {
   "cell_type": "code",
   "source": [
    "# TO-DO: store the classification target variable into \"target\"\n",
    "target = encoded_df_reservations.loc[:, \"booking_status\"]"
   ],
   "metadata": {
    "id": "tAuxd7Q2rbYO"
   },
   "execution_count": 37,
   "outputs": []
  },
  {
   "cell_type": "markdown",
   "source": [
    "Now, use scikit-learn's `train_test_split` function to split data for regression into train and test sets. The split should be 80-20 meaning 80% for training and rest for testing.\n",
    "\n",
    "**_IMPORTANT_:** Please set the `seed` variable to 42, then set the parameter to `random_state = seed`, and then finally store the resulting splits as `X_train, X_test, y_train,` and `y_test`."
   ],
   "metadata": {
    "id": "Q4IK9S59ud0Q"
   }
  },
  {
   "cell_type": "code",
   "source": [
    "# TO-DO: Assign appropriate value to seed and conduct 80/20 train-test split with random_state = seed\n",
    "seed = 42\n",
    "X_train, X_test, y_train,y_test = train_test_split(features, target, random_state = seed, test_size=0.2)"
   ],
   "metadata": {
    "id": "D48UmEtDEo0g"
   },
   "execution_count": 38,
   "outputs": []
  },
  {
   "cell_type": "code",
   "source": [
    "# Grader Cell (4 points)\n",
    "grader.grade(test_case_id = 'train_test_split_classification', answer = (X_train.shape, X_test.shape,\n",
    "                                                                         y_train.shape, y_test.shape,\n",
    "                                                                         seed, Counter(y_test)))"
   ],
   "metadata": {
    "id": "Z4SMMl8JEqnT",
    "colab": {
     "base_uri": "https://localhost:8080/"
    },
    "outputId": "b5db64f9-9660-460b-f8d1-753e34631463"
   },
   "execution_count": 39,
   "outputs": [
    {
     "output_type": "stream",
     "name": "stdout",
     "text": [
      "Correct! You earned 4/4 points. You are a star!\n",
      "\n",
      "Your submission has been successfully recorded in the gradebook.\n"
     ]
    }
   ]
  },
  {
   "cell_type": "markdown",
   "source": [
    "### **1.4.2** Classification Models"
   ],
   "metadata": {
    "id": "IQid9KfyIN2-"
   }
  },
  {
   "cell_type": "markdown",
   "source": [
    "#### (a) Logistic Regression [2 pts]\n",
    "\n",
    "Fit a Logistic regression classifier on the `X_train` and `y_train` with the default hyperparameters. Calculate the accuracy of the model on the test set using the `score` method and store it in a variable named `log_acc`"
   ],
   "metadata": {
    "id": "M1Vj9AkIIgpL"
   }
  },
  {
   "cell_type": "code",
   "source": [
    "# TO-DO: Import required libraries\n",
    "from sklearn.linear_model import LogisticRegression\n",
    "\n",
    "# TO-DO: Initialize model with default parameters and fit it on the training set\n",
    "clf = LogisticRegression()\n",
    "clf.fit(X_train, y_train)\n",
    "\n",
    "# TO-DO: Use the model to predict on the test set and save these predictions as `y_pred`\n",
    "y_pred = clf.predict(X_test)\n",
    "\n",
    "# TO-DO: Find the accuracy and store the value in `log_acc`\n",
    "log_acc = clf.score(X_test, y_test)\n"
   ],
   "metadata": {
    "id": "cS9UpoTmEsin",
    "colab": {
     "base_uri": "https://localhost:8080/"
    },
    "outputId": "f9ea464b-f581-4229-ab2e-b40df591d304"
   },
   "execution_count": 40,
   "outputs": [
    {
     "output_type": "stream",
     "name": "stderr",
     "text": [
      "/usr/local/lib/python3.9/dist-packages/sklearn/linear_model/_logistic.py:458: ConvergenceWarning: lbfgs failed to converge (status=1):\n",
      "STOP: TOTAL NO. of ITERATIONS REACHED LIMIT.\n",
      "\n",
      "Increase the number of iterations (max_iter) or scale the data as shown in:\n",
      "    https://scikit-learn.org/stable/modules/preprocessing.html\n",
      "Please also refer to the documentation for alternative solver options:\n",
      "    https://scikit-learn.org/stable/modules/linear_model.html#logistic-regression\n",
      "  n_iter_i = _check_optimize_result(\n"
     ]
    }
   ]
  },
  {
   "cell_type": "code",
   "source": [
    "# Grader Cell [2 points]\n",
    "grader.grade(test_case_id = 'check_log_clf', answer = log_acc)"
   ],
   "metadata": {
    "id": "EyfS-7oIF88y",
    "colab": {
     "base_uri": "https://localhost:8080/"
    },
    "outputId": "cab7e9ed-3d0d-4f69-ab8e-1852f01a5ff3"
   },
   "execution_count": 41,
   "outputs": [
    {
     "output_type": "stream",
     "name": "stdout",
     "text": [
      "Correct! You earned 2/2 points. You are a star!\n",
      "\n",
      "Your submission has been successfully recorded in the gradebook.\n"
     ]
    }
   ]
  },
  {
   "cell_type": "markdown",
   "source": [
    "#### (b) Random Forest Classifier [3 pts]\n",
    "\n",
    "Fit a Random Forest classifier on the `X_train` and `y_train` with the following hyperparameters: \n",
    "- balanced class_weight\n",
    "- 120 estimators\n",
    "- maximum depth of 30\n",
    "- random seed set to 42\n",
    "\n",
    "Calculate the accuracy of the model on the test set using the `score` method and store it in a variable named `rf_acc`.\n",
    "Also, compute a [confusion matrix](https://scikit-learn.org/stable/modules/generated/sklearn.metrics.confusion_matrix.html) for your prediction and save it as `rf_confusion`."
   ],
   "metadata": {
    "id": "wgbNIcEFMch4"
   }
  },
  {
   "cell_type": "code",
   "source": [
    "# TO-DO: Import required libraries\n",
    "from sklearn.ensemble import RandomForestClassifier\n",
    "\n",
    "# TO-DO: Initialize model with default parameters and fit it on the training set\n",
    "rf = RandomForestClassifier(class_weight = \"balanced\", n_estimators = 120, max_depth = 30, random_state = seed)\n",
    "rf.fit(X_train, y_train)\n",
    "\n",
    "# TO-DO: Use the model to predict on the test set and save these predictions as `y_pred`\n",
    "y_pred = rf.predict(X_test)\n",
    "\n",
    "# TO-DO: Find the accuracy and store the value in `rf_acc`\n",
    "rf_acc = rf.score(X_test, y_test)\n",
    "\n",
    "# TO-DO: Compute the confusion matrix and save it to `rf_confusion`\n",
    "from sklearn.metrics import confusion_matrix\n",
    "rf_confusion = confusion_matrix(y_test, y_pred)"
   ],
   "metadata": {
    "id": "tk9YGVBVFTIe"
   },
   "execution_count": 42,
   "outputs": []
  },
  {
   "cell_type": "code",
   "source": [
    "# Grader Cell (3 points)\n",
    "grader.grade(test_case_id = 'check_rf_clf', answer = (rf_acc, rf_confusion))"
   ],
   "metadata": {
    "id": "rlpS3wDEE9-T",
    "colab": {
     "base_uri": "https://localhost:8080/"
    },
    "outputId": "8b4bba27-f6f6-449c-969d-7a57f04ed15d"
   },
   "execution_count": 43,
   "outputs": [
    {
     "output_type": "stream",
     "name": "stdout",
     "text": [
      "Correct! You earned 3/3 points. You are a star!\n",
      "\n",
      "Your submission has been successfully recorded in the gradebook.\n"
     ]
    }
   ]
  },
  {
   "cell_type": "markdown",
   "source": [
    "#### (c) PCA to Reduce Dimensionality [4 + 2 pts]\n",
    "\n",
    "The goal of Principal Component Analysis is to reduce number of dimensions of our features."
   ],
   "metadata": {
    "id": "lbSul1eKNIVG"
   }
  },
  {
   "cell_type": "markdown",
   "source": [
    "_**Initial PCA**_\n",
    "\n",
    "As a first step, instantiate the `PCA` class from scikit-learn and fit it on your training set. We are not reducing the dimensionality of our data in this step but rather trying to find what would be the ideal number of Principal Components to choose. So keep all Principal Components for this step\n",
    "\n",
    "Please remember that PCA is **not** scale-invariant! What does this imply you need to do first? This requires conceptual understanding to implement so make sure you _watched_ the corresponding lecture and recitation!\n",
    "\n",
    "<ins>WARNING</ins>: It is _CRITICALLY_ important that you understand the difference between the `.fit_transform`, `.fit` and `.transform` methods. This has been the most common mistake students have made in this homework, which has potentially made it more difficult for them. Without fully understanding this, those same students have gone on to make the same mistakes in the final exam and their project. We cannot emphasize this enough!"
   ],
   "metadata": {
    "id": "caGTeWhxNL3K"
   }
  },
  {
   "cell_type": "code",
   "source": [
    "# TO-DO: Import necessary libraries\n",
    "from sklearn.preprocessing import StandardScaler\n",
    "from sklearn.decomposition import PCA"
   ],
   "metadata": {
    "id": "PuETOl5gQuNb"
   },
   "execution_count": 44,
   "outputs": []
  },
  {
   "cell_type": "code",
   "source": [
    "# TO-DO: Intermediate step to address the fact that PCA is not scale-invariant\n",
    "scaler = StandardScaler()\n",
    "X_train_sc = scaler.fit_transform(X_train)\n",
    "X_test_sc = scaler.transform(X_test)\n",
    "\n",
    "# TO-DO: Instantiate and Fit PCA\n",
    "pca = PCA(n_components = X_train_sc.shape[1])\n",
    "pca_x_train = pca.fit_transform(X_train_sc)"
   ],
   "metadata": {
    "id": "D4us_KsqtN1Y"
   },
   "execution_count": 45,
   "outputs": []
  },
  {
   "cell_type": "markdown",
   "source": [
    "_**Cumulative Explained Variance Ratios**_\n",
    "\n",
    "Create an array of explained variance ratios and store it into a variable called `explained_variance_ratios`. Also, calculate the _cumulative_ explained variance ratios and store that into another variable called `cum_evr`."
   ],
   "metadata": {
    "id": "oeJnO6EENQQq"
   }
  },
  {
   "cell_type": "code",
   "source": [
    "# TO-DO: Save the explained variance ratios into variable called \"explained_variance_ratios\"\n",
    "explained_variance_ratios = pca.explained_variance_ratio_\n",
    "\n",
    "# TO-DO: Save the CUMULATIVE explained variance ratios into variable called \"cum_evr\"\n",
    "cum_evr = np.cumsum(explained_variance_ratios)"
   ],
   "metadata": {
    "id": "_o9yURt1GLMs"
   },
   "execution_count": 46,
   "outputs": []
  },
  {
   "cell_type": "code",
   "source": [
    "#Grader cell (2 points)\n",
    "grader.grade(test_case_id = 'check_pca_explained_variance', answer = (explained_variance_ratios, cum_evr))"
   ],
   "metadata": {
    "id": "synUBPNMGY7e",
    "colab": {
     "base_uri": "https://localhost:8080/"
    },
    "outputId": "0cc34def-2e75-4037-cb00-53d38f5a9c4d"
   },
   "execution_count": 47,
   "outputs": [
    {
     "output_type": "stream",
     "name": "stdout",
     "text": [
      "Correct! You earned 2/2 points. You are a star!\n",
      "\n",
      "Your submission has been successfully recorded in the gradebook.\n"
     ]
    }
   ]
  },
  {
   "cell_type": "markdown",
   "source": [
    "Now plot the _cumulative_ `explained_variance_ratio` against the number of components to decide the number of components you should keep (this should look very similar to a visualization in lecture). Also add a horizontal line that represents the 80% of the variance as a threshold.\n",
    "\n",
    "As before, you should ensure that the plot follows the best practices you've developed over the past 2 plotting exercises in this HW (Labelling the axes and adding title to the plot, readability, etc.). **This will be manually graded for 2 points**\n",
    "\n",
    "_**CAUTION:** Recall that Python starts counting from 0, but this would make it very intuitive when reading from your graph. We strongly recommend that you modify the x-axis of your graph so that the **number of components begins at 1**. Otherwise, you may risk making silly mistakes in the subsequent sections._"
   ],
   "metadata": {
    "id": "UNzvjLeTNZB-"
   }
  },
  {
   "cell_type": "code",
   "source": [
    "# TO-DO: find optimal num components to use (n) by plotting explained variance ratio (2 points)\n",
    "\n",
    "# For visibility of axes, title, better readability\n",
    "plt.figure(figsize = (10, 6))\n",
    "\n",
    "plt.plot(np.arange(1, len(explained_variance_ratios) + 1), cum_evr)\n",
    "\n",
    "# Horizontal line representing 80% of the variances as a threshold\n",
    "plt.plot(np.arange(1, len(explained_variance_ratios) + 1), [0.80] * len(explained_variance_ratios))\n",
    "\n",
    "# Axes labels, title\n",
    "plt.xlabel(\"# of components\")\n",
    "plt.ylabel(\"Proportion of Explained Variance\")\n",
    "plt.title(\"Cumulative explained variance ratio as # of components increases\")\n",
    "\n",
    "# Modify x-axis so that # of components begins at 1\n",
    "plt.xticks(np.arange(1, 31))\n",
    "\n",
    "plt.show()"
   ],
   "metadata": {
    "id": "FpuM4rGYNZ56",
    "colab": {
     "base_uri": "https://localhost:8080/",
     "height": 564
    },
    "outputId": "eb322f87-c28b-43b0-b2c5-c18a1b56f312"
   },
   "execution_count": 48,
   "outputs": [
    {
     "output_type": "display_data",
     "data": {
      "text/plain": [
       "<Figure size 1000x600 with 1 Axes>"
      ],
      "image/png": "[encoded data removed]"
     },
     "metadata": {}
    }
   ]
  },
  {
   "cell_type": "markdown",
   "source": [
    "_**Final PCA**_\n",
    "\n",
    "Using your results above to help you decide the number of components to keep, choose a number (`n`) that explains **at least 80% of total variance** in the dataset. Then re-fit and transform your PCA on the training set using the number of components you decided.\n",
    "\n",
    "Remember that your PCA should be trained on the training set (`X_train`) but only transformed on the test set (`X_test`).\n",
    "\n",
    "Call your transformed set of principal components `X_test_pca` in order to submit it to the autograder."
   ],
   "metadata": {
    "id": "PIhrE2ILNmve"
   }
  },
  {
   "cell_type": "code",
   "source": [
    "# TO-DO: Get transformed set of principal components on x_test\n",
    "\n",
    "# 1. Refit and transform on training with parameter n (as deduced from the last step) \n",
    "pca = PCA(n_components = 17)\n",
    "X_train_pca = pca.fit_transform(X_train_sc)\n",
    "\n",
    "# 2. Transform on Testing Set and store it as `X_test_pca`\n",
    "X_test_pca = pca.transform(X_test_sc)\n"
   ],
   "metadata": {
    "id": "o3jrh59gGZ0s"
   },
   "execution_count": 49,
   "outputs": []
  },
  {
   "cell_type": "code",
   "source": [
    "# Grader cell (2 points)\n",
    "grader.grade(test_case_id = 'check_fitted_pca', answer = X_test_pca)"
   ],
   "metadata": {
    "id": "QlIUmcW5Gl0M",
    "colab": {
     "base_uri": "https://localhost:8080/"
    },
    "outputId": "ca0808ba-5e23-44c7-b52b-d6f093db4cb6"
   },
   "execution_count": 50,
   "outputs": [
    {
     "output_type": "stream",
     "name": "stdout",
     "text": [
      "Correct! You earned 2/2 points. You are a star!\n",
      "\n",
      "Your submission has been successfully recorded in the gradebook.\n"
     ]
    }
   ]
  },
  {
   "cell_type": "markdown",
   "source": [
    "#### (d) Logistic Regression with PCA [4 pts]\n",
    "\n",
    "1. Fit the logistic regression on your Final Principal Components data using your optimal `n`. Name the model `log_reg_pca`\n",
    "2. Make predictions on the **test** set and store this as `y_pred`.\n",
    "3. Report accuracy for the **test** set and call it `test_accuracy`"
   ],
   "metadata": {
    "id": "TzIlLTj0Nq92"
   }
  },
  {
   "cell_type": "code",
   "source": [
    "# TO-DO: Initialize `log_reg_pca` model with default parameters and fit it on the PCA transformed training set\n",
    "log_reg_pca = LogisticRegression()\n",
    "log_reg_pca.fit(X_train_pca, y_train)\n",
    "\n",
    "# TO-DO: Use the model to predict on the PCA transformed test set and save these predictions as `y_pred`\n",
    "y_pred = log_reg_pca.predict(X_test_pca)\n",
    "\n",
    "# TO-DO: Find the accuracy and store the value in `test_accuracy`\n",
    "test_accuracy = log_reg_pca.score(X_test_pca, y_test)"
   ],
   "metadata": {
    "id": "z5w5ZgkAGoXh"
   },
   "execution_count": 51,
   "outputs": []
  },
  {
   "cell_type": "code",
   "source": [
    "# Grader (4 points)\n",
    "grader.grade(test_case_id = 'check_log_reg_pca', answer = (test_accuracy, log_reg_pca.n_features_in_, y_pred))"
   ],
   "metadata": {
    "id": "WVrpOF6NHDVX",
    "colab": {
     "base_uri": "https://localhost:8080/"
    },
    "outputId": "f39f43de-5247-42db-f904-fe8701924beb"
   },
   "execution_count": 52,
   "outputs": [
    {
     "output_type": "stream",
     "name": "stdout",
     "text": [
      "Correct! You earned 4/4 points. You are a star!\n",
      "\n",
      "Your submission has been successfully recorded in the gradebook.\n"
     ]
    }
   ]
  },
  {
   "cell_type": "markdown",
   "source": [
    "### **1.4.3.0** Regression: Split Data into Train and Test [4 pts]\n",
    "\n",
    "\n",
    "**Task:** \n",
    " We will be predicting `avg_price_per_room` for regression models.\n",
    "\n",
    " Drop the columns: `'arrival_year'`,`arrival_month`, `'arrival_date'`,`'no_of_previous_cancellations'`, `'no_of_previous_bookings_not_canceled'` `'booking_status'` \n",
    " from `encoded_df_reservations` and save the dataframe to `reg_df_reservations`. Then, use scikit-learn's `train_test_split` function to split data for regression into train and test sets. The split should be 80-20 meaning 80% for training and rest for testing.\n",
    "\n",
    "\n",
    "**_IMPORTANT_: Please set the `seed` variable to 42 and then set the parameter to `random_state = seed`** and store the resulting splits as `X_train, X_test, y_train,` and `y_test`."
   ],
   "metadata": {
    "id": "tYGjFnJ8kfaK"
   }
  },
  {
   "cell_type": "code",
   "source": [
    "encoded_df_reservations[:2]"
   ],
   "metadata": {
    "colab": {
     "base_uri": "https://localhost:8080/",
     "height": 223
    },
    "id": "6rASa7lsAAvy",
    "outputId": "012cc39e-d054-47ce-f1a7-80c3c7c556b5"
   },
   "execution_count": 53,
   "outputs": [
    {
     "output_type": "execute_result",
     "data": {
      "text/plain": [
       "   no_of_adults  no_of_children  no_of_weekend_nights  no_of_week_nights  \\\n",
       "0             2               0                     1                  2   \n",
       "1             2               0                     2                  3   \n",
       "\n",
       "   required_car_parking_space  lead_time  arrival_year  arrival_month  \\\n",
       "0                           0        224          2017             10   \n",
       "1                           0          5          2018             11   \n",
       "\n",
       "   arrival_date  repeated_guest  ...  room_type_reserved_Room_Type 3  \\\n",
       "0             2               0  ...                               0   \n",
       "1             6               0  ...                               0   \n",
       "\n",
       "   room_type_reserved_Room_Type 4  room_type_reserved_Room_Type 5  \\\n",
       "0                               0                               0   \n",
       "1                               0                               0   \n",
       "\n",
       "   room_type_reserved_Room_Type 6  room_type_reserved_Room_Type 7  \\\n",
       "0                               0                               0   \n",
       "1                               0                               0   \n",
       "\n",
       "   market_segment_type_Aviation  market_segment_type_Complementary  \\\n",
       "0                             0                                  0   \n",
       "1                             0                                  0   \n",
       "\n",
       "   market_segment_type_Corporate  market_segment_type_Offline  \\\n",
       "0                              0                            1   \n",
       "1                              0                            0   \n",
       "\n",
       "   market_segment_type_Online  \n",
       "0                           0  \n",
       "1                           1  \n",
       "\n",
       "[2 rows x 31 columns]"
      ],
      "text/html": [
       "\n",
       "  <div id=\"df-a9c52e44-fb25-4c5f-a03b-812d4a09a663\">\n",
       "    <div class=\"colab-df-container\">\n",
       "      <div>\n",
       "<style scoped>\n",
       "    .dataframe tbody tr th:only-of-type {\n",
       "        vertical-align: middle;\n",
       "    }\n",
       "\n",
       "    .dataframe tbody tr th {\n",
       "        vertical-align: top;\n",
       "    }\n",
       "\n",
       "    .dataframe thead th {\n",
       "        text-align: right;\n",
       "    }\n",
       "</style>\n",
       "<table border=\"1\" class=\"dataframe\">\n",
       "  <thead>\n",
       "    <tr style=\"text-align: right;\">\n",
       "      <th></th>\n",
       "      <th>no_of_adults</th>\n",
       "      <th>no_of_children</th>\n",
       "      <th>no_of_weekend_nights</th>\n",
       "      <th>no_of_week_nights</th>\n",
       "      <th>required_car_parking_space</th>\n",
       "      <th>lead_time</th>\n",
       "      <th>arrival_year</th>\n",
       "      <th>arrival_month</th>\n",
       "      <th>arrival_date</th>\n",
       "      <th>repeated_guest</th>\n",
       "      <th>...</th>\n",
       "      <th>room_type_reserved_Room_Type 3</th>\n",
       "      <th>room_type_reserved_Room_Type 4</th>\n",
       "      <th>room_type_reserved_Room_Type 5</th>\n",
       "      <th>room_type_reserved_Room_Type 6</th>\n",
       "      <th>room_type_reserved_Room_Type 7</th>\n",
       "      <th>market_segment_type_Aviation</th>\n",
       "      <th>market_segment_type_Complementary</th>\n",
       "      <th>market_segment_type_Corporate</th>\n",
       "      <th>market_segment_type_Offline</th>\n",
       "      <th>market_segment_type_Online</th>\n",
       "    </tr>\n",
       "  </thead>\n",
       "  <tbody>\n",
       "    <tr>\n",
       "      <th>0</th>\n",
       "      <td>2</td>\n",
       "      <td>0</td>\n",
       "      <td>1</td>\n",
       "      <td>2</td>\n",
       "      <td>0</td>\n",
       "      <td>224</td>\n",
       "      <td>2017</td>\n",
       "      <td>10</td>\n",
       "      <td>2</td>\n",
       "      <td>0</td>\n",
       "      <td>...</td>\n",
       "      <td>0</td>\n",
       "      <td>0</td>\n",
       "      <td>0</td>\n",
       "      <td>0</td>\n",
       "      <td>0</td>\n",
       "      <td>0</td>\n",
       "      <td>0</td>\n",
       "      <td>0</td>\n",
       "      <td>1</td>\n",
       "      <td>0</td>\n",
       "    </tr>\n",
       "    <tr>\n",
       "      <th>1</th>\n",
       "      <td>2</td>\n",
       "      <td>0</td>\n",
       "      <td>2</td>\n",
       "      <td>3</td>\n",
       "      <td>0</td>\n",
       "      <td>5</td>\n",
       "      <td>2018</td>\n",
       "      <td>11</td>\n",
       "      <td>6</td>\n",
       "      <td>0</td>\n",
       "      <td>...</td>\n",
       "      <td>0</td>\n",
       "      <td>0</td>\n",
       "      <td>0</td>\n",
       "      <td>0</td>\n",
       "      <td>0</td>\n",
       "      <td>0</td>\n",
       "      <td>0</td>\n",
       "      <td>0</td>\n",
       "      <td>0</td>\n",
       "      <td>1</td>\n",
       "    </tr>\n",
       "  </tbody>\n",
       "</table>\n",
       "<p>2 rows × 31 columns</p>\n",
       "</div>\n",
       "      <button class=\"colab-df-convert\" onclick=\"convertToInteractive('df-a9c52e44-fb25-4c5f-a03b-812d4a09a663')\"\n",
       "              title=\"Convert this dataframe to an interactive table.\"\n",
       "              style=\"display:none;\">\n",
       "        \n",
       "  <svg xmlns=\"http://www.w3.org/2000/svg\" height=\"24px\"viewBox=\"0 0 24 24\"\n",
       "       width=\"24px\">\n",
       "    <path d=\"M0 0h24v24H0V0z\" fill=\"none\"/>\n",
       "    <path d=\"M18.56 5.44l.94 2.06.94-2.06 2.06-.94-2.06-.94-.94-2.06-.94 2.06-2.06.94zm-11 1L8.5 8.5l.94-2.06 2.06-.94-2.06-.94L8.5 2.5l-.94 2.06-2.06.94zm10 10l.94 2.06.94-2.06 2.06-.94-2.06-.94-.94-2.06-.94 2.06-2.06.94z\"/><path d=\"M17.41 7.96l-1.37-1.37c-.4-.4-.92-.59-1.43-.59-.52 0-1.04.2-1.43.59L10.3 9.45l-7.72 7.72c-.78.78-.78 2.05 0 2.83L4 21.41c.39.39.9.59 1.41.59.51 0 1.02-.2 1.41-.59l7.78-7.78 2.81-2.81c.8-.78.8-2.07 0-2.86zM5.41 20L4 18.59l7.72-7.72 1.47 1.35L5.41 20z\"/>\n",
       "  </svg>\n",
       "      </button>\n",
       "      \n",
       "  <style>\n",
       "    .colab-df-container {\n",
       "      display:flex;\n",
       "      flex-wrap:wrap;\n",
       "      gap: 12px;\n",
       "    }\n",
       "\n",
       "    .colab-df-convert {\n",
       "      background-color: #E8F0FE;\n",
       "      border: none;\n",
       "      border-radius: 50%;\n",
       "      cursor: pointer;\n",
       "      display: none;\n",
       "      fill: #1967D2;\n",
       "      height: 32px;\n",
       "      padding: 0 0 0 0;\n",
       "      width: 32px;\n",
       "    }\n",
       "\n",
       "    .colab-df-convert:hover {\n",
       "      background-color: #E2EBFA;\n",
       "      box-shadow: 0px 1px 2px rgba(60, 64, 67, 0.3), 0px 1px 3px 1px rgba(60, 64, 67, 0.15);\n",
       "      fill: #174EA6;\n",
       "    }\n",
       "\n",
       "    [theme=dark] .colab-df-convert {\n",
       "      background-color: #3B4455;\n",
       "      fill: #D2E3FC;\n",
       "    }\n",
       "\n",
       "    [theme=dark] .colab-df-convert:hover {\n",
       "      background-color: #434B5C;\n",
       "      box-shadow: 0px 1px 3px 1px rgba(0, 0, 0, 0.15);\n",
       "      filter: drop-shadow(0px 1px 2px rgba(0, 0, 0, 0.3));\n",
       "      fill: #FFFFFF;\n",
       "    }\n",
       "  </style>\n",
       "\n",
       "      <script>\n",
       "        const buttonEl =\n",
       "          document.querySelector('#df-a9c52e44-fb25-4c5f-a03b-812d4a09a663 button.colab-df-convert');\n",
       "        buttonEl.style.display =\n",
       "          google.colab.kernel.accessAllowed ? 'block' : 'none';\n",
       "\n",
       "        async function convertToInteractive(key) {\n",
       "          const element = document.querySelector('#df-a9c52e44-fb25-4c5f-a03b-812d4a09a663');\n",
       "          const dataTable =\n",
       "            await google.colab.kernel.invokeFunction('convertToInteractive',\n",
       "                                                     [key], {});\n",
       "          if (!dataTable) return;\n",
       "\n",
       "          const docLinkHtml = 'Like what you see? Visit the ' +\n",
       "            '<a target=\"_blank\" href=https://colab.research.google.com/notebooks/data_table.ipynb>data table notebook</a>'\n",
       "            + ' to learn more about interactive tables.';\n",
       "          element.innerHTML = '';\n",
       "          dataTable['output_type'] = 'display_data';\n",
       "          await google.colab.output.renderOutput(dataTable, element);\n",
       "          const docLink = document.createElement('div');\n",
       "          docLink.innerHTML = docLinkHtml;\n",
       "          element.appendChild(docLink);\n",
       "        }\n",
       "      </script>\n",
       "    </div>\n",
       "  </div>\n",
       "  "
      ]
     },
     "metadata": {},
     "execution_count": 53
    }
   ]
  },
  {
   "cell_type": "code",
   "source": [
    "# TO-DO: drop arrival_year, arrival_month, arrival_date, no_of_previous_cancellations, no_of_previous_bookings_not_canceled,booking_status\n",
    "\n",
    "# TO-DO: save the dataframe to reg_df_reservations\n",
    "reg_df_reservations = encoded_df_reservations.drop(['arrival_year', 'arrival_month',\\\n",
    "  'arrival_date','no_of_previous_cancellations', 'no_of_previous_bookings_not_canceled', 'booking_status'], axis = 1)\n"
   ],
   "metadata": {
    "id": "NzF_JNnEhvBC"
   },
   "execution_count": 54,
   "outputs": []
  },
  {
   "cell_type": "code",
   "source": [
    "# TO-DO: stores features dataframe into variable called \"features\"\n",
    "features = reg_df_reservations.loc[:, reg_df_reservations.columns != \"avg_price_per_room\"]\n",
    "\n",
    "# TO-DO: store the classification target variable  (`avg_price_per_room`) into \"target\"\n",
    "target = reg_df_reservations.loc[:, \"avg_price_per_room\"]\n"
   ],
   "metadata": {
    "id": "5f8a8uTcmTSV"
   },
   "execution_count": 55,
   "outputs": []
  },
  {
   "cell_type": "code",
   "source": [
    "# TO-DO: Assign appropriate value to seed and conduct 80/20 train-test split with random_state = seed\n",
    "seed = 42\n",
    "X_train, X_test, y_train, y_test = train_test_split(features, target, test_size = 0.2, random_state = seed)"
   ],
   "metadata": {
    "id": "Z5rG25VRkfaL"
   },
   "execution_count": 56,
   "outputs": []
  },
  {
   "cell_type": "code",
   "source": [
    "# Grader cell (4 points)\n",
    "grader.grade(test_case_id = 'train_test_split_regression', answer = (X_train.shape, X_test.shape,\n",
    "                                                                     y_train.shape, y_test.shape,\n",
    "                                                                     seed, len([i for i in y_test if i < 100])))"
   ],
   "metadata": {
    "id": "FfU3m6MNkfaL",
    "colab": {
     "base_uri": "https://localhost:8080/"
    },
    "outputId": "de42dd28-d621-4890-db0b-2ee8b2887526"
   },
   "execution_count": 57,
   "outputs": [
    {
     "output_type": "stream",
     "name": "stdout",
     "text": [
      "Correct! You earned 4/4 points. You are a star!\n",
      "\n",
      "Your submission has been successfully recorded in the gradebook.\n"
     ]
    }
   ]
  },
  {
   "cell_type": "markdown",
   "metadata": {
    "id": "NGlb6tnNcKO-"
   },
   "source": [
    "### **1.4.3.1** Regression Models\n",
    "\n",
    "In this section, we will switch from classification models to regression models.\n",
    "\n",
    "Let's use the features we created in 1.4.3.0 to create regression models and predict the **average price per room**."
   ]
  },
  {
   "cell_type": "markdown",
   "source": [
    "#### (a) Linear Regression (Unregularized) [5 pts]\n",
    "\n",
    "Use the `LinearRegression` class in scikit-learn to perform Linear Regression. Initialize a Linear regression model named `reg` with default parameters, fit the model to the training set, and then make predictions on the testing set.\n",
    "\n",
    "Save your predictions in an array named `y_pred`, and report your R-squared score (saved it as a variable called `lin_reg_score`)."
   ],
   "metadata": {
    "id": "kS06q6k8UosE"
   }
  },
  {
   "cell_type": "code",
   "source": [
    "# TO-DO: Import required libraries\n",
    "from sklearn.linear_model import LinearRegression\n",
    "\n",
    "# TO-DO: Initialize model with default parameters and fit it on the training set\n",
    "reg = LinearRegression()\n",
    "reg.fit(X_train, y_train)\n",
    "\n",
    "# TO-DO: Use the model to predict on the test set and save these predictions as `y_pred`\n",
    "y_pred = reg.predict(X_test)\n",
    "\n",
    "# TO-DO: Find the R-squared score and store the value in `lin_reg_score`\n",
    "lin_reg_score = reg.score(X_test, y_test)"
   ],
   "metadata": {
    "id": "6PCTGcGEokY2"
   },
   "execution_count": 58,
   "outputs": []
  },
  {
   "cell_type": "code",
   "source": [
    "# Grader (5 points)\n",
    "grader.grade(test_case_id = 'check_linear_reg', answer = (lin_reg_score, reg.coef_, reg.intercept_))"
   ],
   "metadata": {
    "id": "YCABLR7TokV4",
    "colab": {
     "base_uri": "https://localhost:8080/"
    },
    "outputId": "64416991-0fd1-457c-fac7-f8107130e347"
   },
   "execution_count": 59,
   "outputs": [
    {
     "output_type": "stream",
     "name": "stdout",
     "text": [
      "Correct! You earned 5/5 points. You are a star!\n",
      "\n",
      "Your submission has been successfully recorded in the gradebook.\n"
     ]
    }
   ]
  },
  {
   "cell_type": "markdown",
   "metadata": {
    "id": "G7EV4dpDcKO_"
   },
   "source": [
    "#### (b) Ridge Regression [2 pts]\n",
    "\n",
    "Use the `Ridge` class in scikit-learn to perform $L_2$ Regularized Linear Regression. Initialize a Ridge regression model named `reg_ridge` with regularization strength `alpha = 10`, fit the model to the training set, and then make predictions on the testing set.\n",
    "\n",
    "**Note:** Recall that Ridge regression is not scale-invariant, so you will need to standardize the features prior to modeling.\n",
    "\n",
    "Report your $R^2$ score and save it as a variable called `ridge_score`."
   ]
  },
  {
   "cell_type": "code",
   "source": [
    "# TO-DO: Intermediate step to address scale-invariance\n",
    "\n",
    "scaler = StandardScaler()\n",
    "\n",
    "X_train_sc = scaler.fit_transform(X_train)\n",
    "X_test_sc = scaler.transform(X_test)"
   ],
   "metadata": {
    "id": "pUi11tA3zCUe"
   },
   "execution_count": 60,
   "outputs": []
  },
  {
   "cell_type": "code",
   "source": [
    "# TO-DO: Import required libraries\n",
    "from sklearn.linear_model import Ridge\n",
    "\n",
    "# TO-DO: Initialize model with alpha = 10 (keep other hyperparameters as default values) and fit it on the training set\n",
    "reg_ridge = Ridge(alpha = 10)\n",
    "reg_ridge.fit(X_train_sc, y_train)\n",
    "\n",
    "# TO-DO: Use the model to predict on the test set and save these predictions as `y_pred`\n",
    "y_pred = reg_ridge.predict(X_test_sc)\n",
    "\n",
    "# TO-DO: Find the R-squared score and store the value in `ridge_score`\n",
    "ridge_score = reg_ridge.score(X_test_sc, y_test)\n"
   ],
   "metadata": {
    "id": "tng1e7myy9gn"
   },
   "execution_count": 61,
   "outputs": []
  },
  {
   "cell_type": "code",
   "source": [
    "# Grader (2 points)\n",
    "grader.grade(test_case_id = 'check_ridge_reg', answer = (ridge_score, reg_ridge.alpha))"
   ],
   "metadata": {
    "id": "ytmTMU7Z0jxo",
    "colab": {
     "base_uri": "https://localhost:8080/"
    },
    "outputId": "0cd1331f-08b9-4ea0-db3c-c11121217de5"
   },
   "execution_count": 62,
   "outputs": [
    {
     "output_type": "stream",
     "name": "stdout",
     "text": [
      "Correct! You earned 2/2 points. You are a star!\n",
      "\n",
      "Your submission has been successfully recorded in the gradebook.\n"
     ]
    }
   ]
  },
  {
   "cell_type": "markdown",
   "metadata": {
    "id": "A1Cl9DePQzfq"
   },
   "source": [
    "_**Exam-Style Practice Questions:**_\n",
    "\n",
    "_(While we will NOT grade this for the purpose of the HW, it is in your best interest to take just 30-60 seconds to think about this as I may very well put something similar in the final exam!_ 😉_)_\n",
    "\n",
    "- What do you notice about the $R^2$ scores of the Ridge and unregularized Linear Regression above?\n",
    "- If Ridge is supposed to \"improve\" Linear Regression, we may find it unusual if that is not happening here. Under what circumstances would we consider using Ridge over unregularized Linear Regression?\n",
    "- Would you expect different results if we made `alpha` bigger ($\\alpha \\rightarrow \\infty$)? smaller ($\\alpha \\rightarrow 0$)? Why or why not?"
   ]
  },
  {
   "cell_type": "markdown",
   "metadata": {
    "id": "dRb_Kzn1pZBD"
   },
   "source": [
    "#### (c) Random Forest Regression [3 pts]\n",
    "\n",
    "From the results of linear regression and ridge linear regression, we see a linear model may not be ideal for this regression problem. We want a model that can capture the complex relationship between the target variable and the features. Fortunately, we have access to ensemble methods, which combine multiple simple models to improve performance. We will explore the bagging algorithm called Random Forest Regressor using scikit-learn.\n",
    "\n",
    "Use the `RandomForestRegressor` class in Scikit-learn's ensemble library to perform Random Forest Regression. Initialize a Random Forest regression model named `reg_rf`, fit the model to the training set, and then make predictions on the testing set.\n",
    "\n",
    "Report your R-squared score and save it as a variable called `rfr_score`, set random state to 42"
   ]
  },
  {
   "cell_type": "code",
   "source": [
    "# TO-DO: Import required libraries\n",
    "from sklearn.ensemble import RandomForestRegressor\n",
    "\n",
    "# TO-DO: Initialize model with default parameters and fit it on the training set\n",
    "reg_rf = RandomForestRegressor(random_state = 42)\n",
    "reg_rf.fit(X_train, y_train)\n",
    "\n",
    "# TO-DO: Use the model to predict on the test set and save these predictions as `y_pred`\n",
    "y_pred = reg_rf.predict(X_test)\n",
    "\n",
    "# TO-DO: Find the R-squared score and store the value in `rfr_score`\n",
    "rfr_score = reg_rf.score(X_test, y_test)\n"
   ],
   "metadata": {
    "id": "zSqhgdjqokTa"
   },
   "execution_count": 63,
   "outputs": []
  },
  {
   "cell_type": "code",
   "source": [
    "# Grader (3 points)\n",
    "grader.grade(test_case_id = 'check_rf_reg', answer = (rfr_score, reg_rf.feature_names_in_, reg_rf.n_outputs_, y_pred))"
   ],
   "metadata": {
    "id": "vkJoI5QTpID8",
    "colab": {
     "base_uri": "https://localhost:8080/"
    },
    "outputId": "53f89d72-b4b7-4286-966e-e0fcd4e7b2a8"
   },
   "execution_count": 64,
   "outputs": [
    {
     "output_type": "stream",
     "name": "stdout",
     "text": [
      "Correct! You earned 3/3 points. You are a star!\n",
      "\n",
      "Your submission has been successfully recorded in the gradebook.\n"
     ]
    }
   ]
  },
  {
   "cell_type": "markdown",
   "source": [
    "### **1.4.4** K-Means Clustering\n",
    "\n",
    "K-means clustering is a popular unsupervised machine learning algorithm that is used for grouping similar data points into a predetermined number of clusters. It is a simple and effective algorithm that is widely used in various fields such as image processing, recommendation systems, and customer segmentation.\n",
    "\n",
    "An elbow plot is a visualization tool used to determine the optimal number of clusters for a dataset. It plots the within-cluster sum of squares (WCSS) against the number of clusters. WCSS is the sum of the squared distance between each data point and its assigned centroid. The elbow plot helps you to choose the number of clusters that minimize the WCSS while avoiding overfitting.\n",
    "\n",
    "Please refer to [this document](https://scikit-learn.org/stable/modules/generated/sklearn.cluster.KMeans.html) to find out how to compute the sum of squared distances\n",
    "\n",
    "**We will be using the same features from the <ins>classification</ins> setting.\n",
    "To determine the best $k$ for the clustering, let's firstly generate an elbow plot.**\n",
    "- Consider number of clusters from 2 to 10\n",
    "- Set parameter `n_init` to 5.\n",
    "- Set random seed to 0\n",
    "\n",
    "**The elbow plot (4 points) will be manully graded**\n",
    "- x-axis is the \"number of clusters\", i.e. \"k\".\n",
    "- y-axis is the within-cluster sum of squares (WCSS) value\n",
    "- add proper titles for the plot and axis.\n",
    "\n",
    "Note that standardizing the data before performing k-means clustering is often recommended, but for illustration purpose, we do not standardize the input in this section."
   ],
   "metadata": {
    "id": "iX1UkLEjk7U_"
   }
  },
  {
   "cell_type": "markdown",
   "source": [
    "#### (a) Find the best number of clusters with the elbow plot [4 + 3 pts]"
   ],
   "metadata": {
    "id": "nTF8RcWHtJf1"
   }
  },
  {
   "cell_type": "code",
   "source": [
    "# TO-DO: Prepare the data (the same features from the classification setting, i.e. excluding \"booking_status\")\n",
    "# stores features dataframe into variable called \"features\"\n",
    "\n",
    "features = encoded_df_reservations.loc[:, encoded_df_reservations.columns.values != \"booking_status\"]"
   ],
   "metadata": {
    "id": "XXEC7Ab9k_4W"
   },
   "execution_count": 65,
   "outputs": []
  },
  {
   "cell_type": "code",
   "source": [
    "# Import the necessary libraries\n",
    "from sklearn.cluster import KMeans\n",
    "\n",
    "# TO-DO: [MANUALLY GRADED: 4 points]\n",
    "#   for k ranges from 2 to 10, fit on \"features\" to generate an elbow plot\n",
    "\n",
    "max_k = 10\n",
    "distortions = []\n",
    "\n",
    "for i in range(2, max_k+1):\n",
    "  km = KMeans(n_clusters = i, n_init = 5, random_state = 0)\n",
    "  km.fit(features)\n",
    "  distortions.append(km.inertia_)\n",
    "\n",
    "plt.plot(range(2, max_k + 1), distortions, marker = 'o')\n",
    "plt.xlabel(\"Number of clusters (k)\")\n",
    "plt.ylabel(\"Within-cluster Sum of Squares (WCSS)\")\n",
    "plt.title(\"Elbow plot for K-Means cluster on hotel reservation features\")\n",
    "plt.show()\n"
   ],
   "metadata": {
    "id": "frRJFXs9m-NT",
    "colab": {
     "base_uri": "https://localhost:8080/",
     "height": 487
    },
    "outputId": "b37e5365-b81b-47cd-b967-551517950f8d"
   },
   "execution_count": 66,
   "outputs": [
    {
     "output_type": "display_data",
     "data": {
      "text/plain": [
       "<Figure size 640x480 with 1 Axes>"
      ],
      "image/png": "[encoded data removed]"
     },
     "metadata": {}
    }
   ]
  },
  {
   "cell_type": "code",
   "source": [
    "# TO-DO: choose the best number of clusters (the elbow) and fill in\n",
    "number_of_cluster = 5\n",
    "\n",
    "# TO-DO: fill in the sum of squared distances for the best number of clusters\n",
    "\n",
    "# The 5th cluster is the 3rd index to account for 0 as the first index and 2 as\n",
    "# the first k in the loop and the elbow plot\n",
    "wcss_elbow = distortions[3]"
   ],
   "metadata": {
    "id": "DMZqEOq7rW95"
   },
   "execution_count": 67,
   "outputs": []
  },
  {
   "cell_type": "code",
   "source": [
    "# Grader (3 points)\n",
    "grader.grade(test_case_id = 'kmeans_elbow', answer = (number_of_cluster, wcss_elbow))"
   ],
   "metadata": {
    "id": "yAVyIyXssIuf",
    "colab": {
     "base_uri": "https://localhost:8080/"
    },
    "outputId": "e8d46db9-7067-44ec-c5dc-04fc2b262598"
   },
   "execution_count": 68,
   "outputs": [
    {
     "output_type": "stream",
     "name": "stdout",
     "text": [
      "Correct! You earned 3/3 points. You are a star!\n",
      "\n",
      "Your submission has been successfully recorded in the gradebook.\n"
     ]
    }
   ]
  },
  {
   "cell_type": "markdown",
   "source": [
    "#### (b) Re-fit with the best number of clusters [3 pts]"
   ],
   "metadata": {
    "id": "EQLHFhzds7BC"
   }
  },
  {
   "cell_type": "code",
   "source": [
    "# TO-DO: re-run the K-Means clustering with the best number of clusters, save the fitted model to `kmeans`\n",
    "kmeans = KMeans(n_clusters = 5, n_init = 5, random_state = 0).fit(features)"
   ],
   "metadata": {
    "id": "WUcjqzqxszye"
   },
   "execution_count": 69,
   "outputs": []
  },
  {
   "cell_type": "code",
   "source": [
    "# Grader (3 points)\n",
    "grader.grade(test_case_id = 'refit_kmeans', answer = (Counter(kmeans.labels_), kmeans.n_features_in_))"
   ],
   "metadata": {
    "id": "vF9gZHL6tkuo",
    "colab": {
     "base_uri": "https://localhost:8080/"
    },
    "outputId": "def2d015-9de8-412d-ed87-00f6cb19c091"
   },
   "execution_count": 70,
   "outputs": [
    {
     "output_type": "stream",
     "name": "stdout",
     "text": [
      "Correct! You earned 3/3 points. You are a star!\n",
      "\n",
      "Your submission has been successfully recorded in the gradebook.\n"
     ]
    }
   ]
  },
  {
   "cell_type": "markdown",
   "metadata": {
    "id": "nyURjOkMcKPD"
   },
   "source": [
    "# **Part II:** Distributed Machine Learning with Spark (35  points)\n",
    "\n",
    "Apache Spark ML is a machine learning library that consists of common learning algorithms and utilities, including classification, regression, clustering, collaborative filtering, dimensionality reduction, and underlying optimization primitives.\n",
    "\n",
    "**Why Spark ML?**\n",
    "\n",
    "Moving to the Big Data Era requires heavy iterative computations on very large datasets. Standard implementations of machine learning algorithms require very powerful machines to be able to run. However, depending on high-end machines is not advantageous due to their high price and improper costs of scaling up. The idea of using distributed computing engines is to distribute the calculations to multiple low-end machines (commodity hardware) instead of a single high-end one. _This **definitely speeds up** the learning phase and allows us to create better models._\n",
    "\n",
    "Read more about it with the python documentation **[here](https://spark.apache.org/docs/latest/ml-guide.html)**.\n",
    "\n",
    "Run the code below to set up Spark.\n",
    "\n",
    "## _PENALTY WARNING_:\n",
    "We will very carefully go through the code in your notebook for this HW. Any student caught trying anything devious like using sklearn to avoid using SparkML in this section will get a **ZERO**."
   ]
  },
  {
   "cell_type": "markdown",
   "source": [
    "**Note:** The cell below may take upto **4-5 minutes** to run so be patient!"
   ],
   "metadata": {
    "id": "PY9ShBxkOQT0"
   }
  },
  {
   "cell_type": "code",
   "source": [
    "%%capture\n",
    "\n",
    "!apt install libkrb5-dev\n",
    "!wget https://downloads.apache.org/spark/spark-3.1.2/spark-3.1.2-bin-hadoop3.2.tgz\n",
    "!tar xf spark-3.1.2-bin-hadoop3.2.tgz\n",
    "!pip install findspark\n",
    "!pip install sparkmagic\n",
    "!pip install pyspark\n",
    "! pip install pyspark --user\n",
    "! pip install seaborn --user\n",
    "! pip install plotly --user\n",
    "! pip install imageio --user\n",
    "! pip install folium --user"
   ],
   "metadata": {
    "id": "9Eo8fwt8OcMa"
   },
   "execution_count": 71,
   "outputs": []
  },
  {
   "cell_type": "code",
   "source": [
    "import pyspark\n",
    "from pyspark.sql import SQLContext\n",
    "from pyspark.sql import SparkSession\n",
    "from pyspark.sql.types import *\n",
    "import pyspark.sql.functions as F\n",
    "\n",
    "spark = SparkSession.builder.appName('bigdata-hw4').getOrCreate()\n",
    "sqlContext = SQLContext(spark)"
   ],
   "metadata": {
    "id": "lwqTpkc3Ogz3",
    "colab": {
     "base_uri": "https://localhost:8080/"
    },
    "outputId": "a67784ed-c11d-4df5-d98e-a943a97df979"
   },
   "execution_count": 72,
   "outputs": [
    {
     "output_type": "stream",
     "name": "stderr",
     "text": [
      "/usr/local/lib/python3.9/dist-packages/pyspark/sql/context.py:112: FutureWarning: Deprecated in 3.0.0. Use SparkSession.builder.getOrCreate() instead.\n",
      "  warnings.warn(\n"
     ]
    }
   ]
  },
  {
   "cell_type": "code",
   "source": [
    "%load_ext sparkmagic.magics"
   ],
   "metadata": {
    "id": "WAjmBWz7Oqs0"
   },
   "execution_count": 73,
   "outputs": []
  },
  {
   "cell_type": "code",
   "source": [
    "# Graph section\n",
    "import networkx as nx\n",
    "\n",
    "# SQLite RDBMS\n",
    "import sqlite3\n",
    "\n",
    "import os\n",
    "os.environ['SPARK_HOME'] = '/content/spark-3.1.2-bin-hadoop3.2'\n",
    "os.environ[\"JAVA_HOME\"] = \"/usr/lib/jvm/java-8-openjdk-amd64\""
   ],
   "metadata": {
    "id": "TfQ72cpUOr3l"
   },
   "execution_count": 74,
   "outputs": []
  },
  {
   "cell_type": "markdown",
   "source": [
    "## **2.1** Initializing Spark Data [Total: 2 Points]\n",
    "\n",
    "We have the Spark setup ready, and we now need the data for our ML algorithms. We will use the data you processed in Part I, but in Spark. "
   ],
   "metadata": {
    "id": "6F4x_ia7RGyp"
   }
  },
  {
   "cell_type": "markdown",
   "source": [
    "### **2.1.0** Converting the Pandas Dataframe into a Spark Dataframe\n",
    "\n",
    "Read the `encoded_df_reservations` that you created in Part I into a Spark dataframe (`sdf`) and name the SDF as `reservations_sdf`. \\\\\n",
    "**Note:** Just like Part I, the target variable (label) for this section will be `\"booking_status\"`."
   ],
   "metadata": {
    "id": "WYTG07Kq4E82"
   }
  },
  {
   "cell_type": "code",
   "source": [
    "#TO-DO: Read encoded_df_reservations into a Spark Dataframe called reservations_sdf\n",
    "\n",
    "reservations_sdf = spark.createDataFrame(encoded_df_reservations)"
   ],
   "metadata": {
    "id": "UQtC3kw7rf1V"
   },
   "execution_count": 75,
   "outputs": []
  },
  {
   "cell_type": "markdown",
   "source": [
    "Print out the Dataframe Schema and verify the datatypes. If you did everything correctly so far, the schema should be:\n",
    "```\n",
    "root\n",
    " |-- no_of_adults: long (nullable = true)\n",
    " |-- no_of_children: long (nullable = true)\n",
    " |-- no_of_weekend_nights: long (nullable = true)\n",
    " |-- no_of_week_nights: long (nullable = true)\n",
    " |-- required_car_parking_space: long (nullable = true)\n",
    " |-- lead_time: long (nullable = true)\n",
    " |-- arrival_year: long (nullable = true)\n",
    " |-- arrival_month: long (nullable = true)\n",
    " |-- arrival_date: long (nullable = true)\n",
    " |-- repeated_guest: long (nullable = true)\n",
    " |-- no_of_previous_cancellations: long (nullable = true)\n",
    " |-- no_of_previous_bookings_not_canceled: long (nullable = true)\n",
    " |-- avg_price_per_room: double (nullable = true)\n",
    " |-- no_of_special_requests: long (nullable = true)\n",
    " |-- booking_status: double (nullable = true)\n",
    " |-- type_of_meal_plan_Meal Plan 1: long (nullable = true)\n",
    " |-- type_of_meal_plan_Meal Plan 2: long (nullable = true)\n",
    " |-- type_of_meal_plan_Meal Plan 3: long (nullable = true)\n",
    " |-- type_of_meal_plan_Not Selected: long (nullable = true)\n",
    " |-- room_type_reserved_Room_Type 1: long (nullable = true)\n",
    " |-- room_type_reserved_Room_Type 2: long (nullable = true)\n",
    " |-- room_type_reserved_Room_Type 3: long (nullable = true)\n",
    " |-- room_type_reserved_Room_Type 4: long (nullable = true)\n",
    " |-- room_type_reserved_Room_Type 5: long (nullable = true)\n",
    " |-- room_type_reserved_Room_Type 6: long (nullable = true)\n",
    " |-- room_type_reserved_Room_Type 7: long (nullable = true)\n",
    " |-- market_segment_type_Aviation: long (nullable = true)\n",
    " |-- market_segment_type_Complementary: long (nullable = true)\n",
    " |-- market_segment_type_Corporate: long (nullable = true)\n",
    " |-- market_segment_type_Offline: long (nullable = true)\n",
    " |-- market_segment_type_Online: long (nullable = true)\n",
    "```\n",
    "\n",
    "**Note:** Especially ensure that the target variable is of the datatype `double`. Cast it to the correct datatype, if needed."
   ],
   "metadata": {
    "id": "ywmJD03O0Zas"
   }
  },
  {
   "cell_type": "code",
   "source": [
    "# TO-DO: Verify that the schema of your Spark dataframe matches the above\n",
    "#        Make sure to double-check that the target variable i.e. booking_status is of type \"double\"\n",
    "\n",
    "reservations_sdf = reservations_sdf.withColumn(\"booking_status\", reservations_sdf[\"booking_status\"].cast(DoubleType()))\n",
    "\n",
    "reservations_sdf.printSchema()"
   ],
   "metadata": {
    "id": "URd9g_An0qVY",
    "colab": {
     "base_uri": "https://localhost:8080/"
    },
    "outputId": "9e98289e-ea1e-44c2-8ec1-6fbd4310db32"
   },
   "execution_count": 76,
   "outputs": [
    {
     "output_type": "stream",
     "name": "stdout",
     "text": [
      "root\n",
      " |-- no_of_adults: long (nullable = true)\n",
      " |-- no_of_children: long (nullable = true)\n",
      " |-- no_of_weekend_nights: long (nullable = true)\n",
      " |-- no_of_week_nights: long (nullable = true)\n",
      " |-- required_car_parking_space: long (nullable = true)\n",
      " |-- lead_time: long (nullable = true)\n",
      " |-- arrival_year: long (nullable = true)\n",
      " |-- arrival_month: long (nullable = true)\n",
      " |-- arrival_date: long (nullable = true)\n",
      " |-- repeated_guest: long (nullable = true)\n",
      " |-- no_of_previous_cancellations: long (nullable = true)\n",
      " |-- no_of_previous_bookings_not_canceled: long (nullable = true)\n",
      " |-- avg_price_per_room: double (nullable = true)\n",
      " |-- no_of_special_requests: long (nullable = true)\n",
      " |-- booking_status: double (nullable = true)\n",
      " |-- type_of_meal_plan_Meal Plan 1: long (nullable = true)\n",
      " |-- type_of_meal_plan_Meal Plan 2: long (nullable = true)\n",
      " |-- type_of_meal_plan_Meal Plan 3: long (nullable = true)\n",
      " |-- type_of_meal_plan_Not Selected: long (nullable = true)\n",
      " |-- room_type_reserved_Room_Type 1: long (nullable = true)\n",
      " |-- room_type_reserved_Room_Type 2: long (nullable = true)\n",
      " |-- room_type_reserved_Room_Type 3: long (nullable = true)\n",
      " |-- room_type_reserved_Room_Type 4: long (nullable = true)\n",
      " |-- room_type_reserved_Room_Type 5: long (nullable = true)\n",
      " |-- room_type_reserved_Room_Type 6: long (nullable = true)\n",
      " |-- room_type_reserved_Room_Type 7: long (nullable = true)\n",
      " |-- market_segment_type_Aviation: long (nullable = true)\n",
      " |-- market_segment_type_Complementary: long (nullable = true)\n",
      " |-- market_segment_type_Corporate: long (nullable = true)\n",
      " |-- market_segment_type_Offline: long (nullable = true)\n",
      " |-- market_segment_type_Online: long (nullable = true)\n",
      "\n"
     ]
    }
   ]
  },
  {
   "cell_type": "markdown",
   "source": [
    "### **2.1.1** Setting Up a VectorAssembler\n",
    "\n",
    "Great! We have the processed data now. For Spark ML, we need to create a feature column which has all features concatenated as a list, and a single column for labels (which we already have!)\n",
    "We will use `VectorAssembler()` to create a feature vector from all our features, and we will call this vectorized variable as “features”.\n",
    "\n",
    "First, list all column names in `reservations_sdf` and store them in a list variable called `all_columns`."
   ],
   "metadata": {
    "id": "X3WUlDEv46rH"
   }
  },
  {
   "cell_type": "code",
   "source": [
    "# TO-DO: store all column name in the data_sdf in a list called \"all_columns\"\n",
    "all_columns = reservations_sdf.columns"
   ],
   "metadata": {
    "id": "Ya0DE8ml2YPj"
   },
   "execution_count": 77,
   "outputs": []
  },
  {
   "cell_type": "markdown",
   "source": [
    "Create a list of column(s) you don't want to include as your features. Name this list `drop_columns`."
   ],
   "metadata": {
    "id": "OAMDrTU157iA"
   }
  },
  {
   "cell_type": "code",
   "source": [
    "# TO-DO: Create \"drop_columns\"\n",
    "drop_columns = [column for column in all_columns if column == \"booking_status\"]"
   ],
   "metadata": {
    "id": "tbcp9QqH5_l0"
   },
   "execution_count": 78,
   "outputs": []
  },
  {
   "cell_type": "markdown",
   "source": [
    "Now, using `drop_columns`, create a list called `feature_columns` that only contains the names of the columns that would be used as features for our ML models."
   ],
   "metadata": {
    "id": "j56ev2Mr6MZN"
   }
  },
  {
   "cell_type": "code",
   "source": [
    "# TO-DO: Create the \"feature_columns\" list\n",
    "feature_columns = [column for column in all_columns if column != \"booking_status\"]"
   ],
   "metadata": {
    "id": "kMcrRpJb6Xo-"
   },
   "execution_count": 79,
   "outputs": []
  },
  {
   "cell_type": "code",
   "source": [
    "# Grader cell [2 points]\n",
    "grader.grade(test_case_id = 'check_feature_columns', answer = feature_columns)"
   ],
   "metadata": {
    "id": "B5_jVWBI6znW",
    "colab": {
     "base_uri": "https://localhost:8080/"
    },
    "outputId": "e260e7ac-3032-4993-a88f-e21b59506533"
   },
   "execution_count": 80,
   "outputs": [
    {
     "output_type": "stream",
     "name": "stdout",
     "text": [
      "Correct! You earned 2/2 points. You are a star!\n",
      "\n",
      "Your submission has been successfully recorded in the gradebook.\n"
     ]
    }
   ]
  },
  {
   "cell_type": "markdown",
   "source": [
    "Finally, create a [VectorAssembler](https://spark.apache.org/docs/3.1.3/api/python/reference/api/pyspark.ml.feature.VectorAssembler.html) object with the columns that you want to use as features. Name your output column as `features` (i.e. they are the features that will be used for SparkML)."
   ],
   "metadata": {
    "id": "JFDTSMCM72uR"
   }
  },
  {
   "cell_type": "code",
   "source": [
    "# TO-DO: Import required library and create VectorAssembler object (to be used later)\n",
    "from pyspark.ml.feature import VectorAssembler\n",
    "vecAssembler = VectorAssembler(inputCols = feature_columns, outputCol = \"features\")"
   ],
   "metadata": {
    "id": "WmAZT38o7zxM"
   },
   "execution_count": 81,
   "outputs": []
  },
  {
   "cell_type": "markdown",
   "source": [
    "## **2.2** Preprocessing: Pipeline and Train-Test Split [Total: 3 Points]\n",
    "\n",
    "Now that we have a VectorAssembler object ready, let's use it on our Spark dataframe to get the concatenated features column. To do this, we implement a [Pipeline](https://spark.apache.org/docs/latest/api/python/reference/api/pyspark.ml.Pipeline.html), which can be used to streamline multiple preprocessing stages at once. For this data, we just need a single stage with the assembler, but you could have other stages before that where you perform operations on the data like converting categorical strings in the features to numeric values, or do feature scaling operations.\n",
    "\n",
    "We will create a pipeline with a single stage — the assembler. Fit the pipeline on `reservations_sdf` to create the transformed dataframe and name it `processed_reservations_sdf`.\n"
   ],
   "metadata": {
    "id": "WYgt35u-68XA"
   }
  },
  {
   "cell_type": "code",
   "source": [
    "# TO-DO: Import required libraries\n",
    "from pyspark.ml import Pipeline\n",
    "\n",
    "# TO-DO: Define a pipeline object\n",
    "pipe = Pipeline(stages = [vecAssembler])\n",
    "\n",
    "# TO-DO: Fit and transform the pipeline on the data and store the transformed sdf as \"processed_reservations_sdf\" \n",
    "processed_reservations_sdf = pipe.fit(reservations_sdf).transform(reservations_sdf)"
   ],
   "metadata": {
    "id": "PozlPEwbMw9l"
   },
   "execution_count": 82,
   "outputs": []
  },
  {
   "cell_type": "markdown",
   "source": [
    "Now that we have the data in the format we need, we will create our train and test sets.\n",
    "\n",
    "Conduct a train-test split where 80% of the data is assigned to the training set while the remaining 20% is assigned to the testing set.\n",
    "\n",
    "- Name these sets as `train_sdf` and `test_sdf` respectively.\n",
    "- Set the variable `random_seed` to 42 and then add the argument `seed = random_seed` in the function to fix the random state in order to ensure consistency with our results."
   ],
   "metadata": {
    "id": "3LUua0RlNLpk"
   }
  },
  {
   "cell_type": "code",
   "source": [
    "# TO-DO: Assign appropriate value to the random_seed variable\n",
    "random_seed = 42\n",
    "\n",
    "# TO-DO: Do 80/20 train-test split with seed = random_seed and store them as \"train_sdf\" and \"test_sdf\"\n",
    "train_sdf, test_sdf = processed_reservations_sdf.randomSplit(weights = [0.8, 0.2], seed = random_seed)"
   ],
   "metadata": {
    "id": "CXym9xONNrzB"
   },
   "execution_count": 83,
   "outputs": []
  },
  {
   "cell_type": "code",
   "source": [
    "# Grader (3 points)\n",
    "grader.grade(test_case_id = 'check_train_test_split_spark', answer = (train_sdf.count(), test_sdf.count(), random_seed))"
   ],
   "metadata": {
    "id": "kNPtpqJyNuWA",
    "colab": {
     "base_uri": "https://localhost:8080/"
    },
    "outputId": "bbbec732-e0ed-40b7-ced5-242eb9810a1a"
   },
   "execution_count": 84,
   "outputs": [
    {
     "output_type": "stream",
     "name": "stdout",
     "text": [
      "Correct! You earned 3/3 points. You are a star!\n",
      "\n",
      "Your submission has been successfully recorded in the gradebook.\n"
     ]
    }
   ]
  },
  {
   "cell_type": "markdown",
   "source": [
    "## **2.3** Modeling (SparkML) [Total: 30 Points]\n",
    "\n",
    "Time to do the cool stuff! We will work on various types of models using SparkML to see the difference in implementation from sklearn."
   ],
   "metadata": {
    "id": "ZlAv_PlBcYDr"
   }
  },
  {
   "cell_type": "markdown",
   "source": [
    "### **2.3.1** Vanilla Logistic Regression [6 pts]\n",
    "\n",
    "Let's train an **unregularized** Logistic Regression model to our data and try to predict whether the `booking_status` will be cancelled or not.\n",
    "\n",
    "This time, we will use \"Big\" data tools to help us build a Logistic Regression model for binary classification. Look up the documentation online and try to understand how to implement this.\n",
    "\n",
    "**Note**: Make sure to set the parameter `maxIter` to an appropriate value (e.g. 5) for fast computation."
   ],
   "metadata": {
    "id": "0s65E3utg0Zo"
   }
  },
  {
   "cell_type": "code",
   "source": [
    "# TO-DO: Import required library for Logistic Regression\n",
    "from pyspark.ml.classification import LogisticRegression\n",
    "\n",
    "# TO-DO: Instantiate and fit Logistic Regression model to training data\n",
    "logit = LogisticRegression(featuresCol = \"features\", labelCol = \"booking_status\", maxIter = 5)\n",
    "logit = logit.fit(train_sdf)"
   ],
   "metadata": {
    "id": "IktoDMkWhn9p"
   },
   "execution_count": 85,
   "outputs": []
  },
  {
   "cell_type": "markdown",
   "source": [
    "Calculate the training accuracy using the model's summary and store it in a variable called `train_accuracy`."
   ],
   "metadata": {
    "id": "uQWTQGRjiy2A"
   }
  },
  {
   "cell_type": "code",
   "source": [
    "# TO-DO: Get training accuracy and store it as `train_accuracy`\n",
    "train_accuracy = logit.summary.accuracy"
   ],
   "metadata": {
    "id": "XjyYCYw6i1sD"
   },
   "execution_count": 86,
   "outputs": []
  },
  {
   "cell_type": "markdown",
   "source": [
    "Now, let's find out how good the model actually is and see if it overfits to the training data.\n",
    "\n",
    "Predict the labels `\"booking_status\"` for your test data and store them as `predictions` _(Hint: it is called 'transform' in SparkML)_"
   ],
   "metadata": {
    "id": "C20Hy2qii_OO"
   }
  },
  {
   "cell_type": "code",
   "source": [
    "# TO-DO: Make predictions on testing set and store it as \"predictions\"\n",
    "predictions = logit.transform(test_sdf)"
   ],
   "metadata": {
    "id": "szq8zQ3QjPWp"
   },
   "execution_count": 87,
   "outputs": []
  },
  {
   "cell_type": "markdown",
   "source": [
    "Given the confusion matrix, we can calculate various metrics such as accuracy, precision, recall, F1 score etc.\n",
    "\n",
    "For our task, we will calculate the test accuracy. The formula for this is: \\\\\n",
    "\n",
    "> Accuracy = $\\frac{TP + TN}{TP + FP + TN + FN}$"
   ],
   "metadata": {
    "id": "ZzEQ4ltcnKZg"
   }
  },
  {
   "cell_type": "markdown",
   "source": [
    "Evaluate the performance using the Confusion Matrix using [MulticlassMetrics](https://spark.apache.org/docs/latest/api/python/reference/api/pyspark.mllib.evaluation.MulticlassMetrics.html) object in the SparkML Regression library. Store the Confusion Matrix as an numpy array named  `confusion_matrix`. \\\\\n",
    "\n",
    "(*Ignore any warnings you may get*)"
   ],
   "metadata": {
    "id": "FBjkb5KAn2rl"
   }
  },
  {
   "cell_type": "code",
   "source": [
    "# TO-DO: Import required libraries\n",
    "from pyspark.mllib.evaluation import MulticlassMetrics\n",
    "\n",
    "\n",
    "# TO-DO: Select appropriate columns to use MulticlassMetrics\n",
    "predictionsAndLabels = predictions.select([\"prediction\", \"booking_status\"]).rdd\n",
    "\n",
    "# TO-DO: Instantiate metrics objects\n",
    "metrics = MulticlassMetrics(predictionsAndLabels)\n",
    "\n",
    "# TO-DO: Create confusion matrix and store it as a numpy array named \"confusion_matrix\"\n",
    "confusion_matrix = metrics.confusionMatrix().toArray()"
   ],
   "metadata": {
    "id": "IJ7JKag7jUMW",
    "colab": {
     "base_uri": "https://localhost:8080/"
    },
    "outputId": "6ee29a67-1599-4ecd-a2c8-fe3618ccdf03"
   },
   "execution_count": 88,
   "outputs": [
    {
     "output_type": "stream",
     "name": "stderr",
     "text": [
      "/usr/local/lib/python3.9/dist-packages/pyspark/sql/context.py:157: FutureWarning: Deprecated in 3.0.0. Use SparkSession.builder.getOrCreate() instead.\n",
      "  warnings.warn(\n"
     ]
    }
   ]
  },
  {
   "cell_type": "markdown",
   "source": [
    "Now, calculate the test accuracy using the Confusion Matrix obtained above and store it in a variable called `test_accuracy`."
   ],
   "metadata": {
    "id": "xWDnRN0upGh1"
   }
  },
  {
   "cell_type": "code",
   "source": [
    "# TO-DO: Calculate test accuracy using the confusion matrix and store it as \"test_accuracy\"\n",
    "test_accuracy = (confusion_matrix[0][0] + confusion_matrix[1][1]) / (confusion_matrix.sum())"
   ],
   "metadata": {
    "id": "K3IRPWAEpDpO"
   },
   "execution_count": 89,
   "outputs": []
  },
  {
   "cell_type": "code",
   "source": [
    "# Grader cell (6 points)\n",
    "grader.grade(test_case_id = 'check_unreg_logistic', answer = (train_accuracy, test_accuracy, confusion_matrix))"
   ],
   "metadata": {
    "id": "jAcHDaDPqp4Z",
    "colab": {
     "base_uri": "https://localhost:8080/"
    },
    "outputId": "95ea0097-a0dc-4489-93d7-c5d121deec1e"
   },
   "execution_count": 90,
   "outputs": [
    {
     "output_type": "stream",
     "name": "stdout",
     "text": [
      "Correct! You earned 6/6 points. You are a star!\n",
      "\n",
      "Your submission has been successfully recorded in the gradebook.\n"
     ]
    }
   ]
  },
  {
   "cell_type": "markdown",
   "source": [
    "### **2.3.2** Regularized Logistic Regression [8 pts]\n",
    "\n",
    "Now, we will add regularization – LASSO (L1), Ridge (L2) and elastic net (combination of L1 and L2), to avoid overfitting. You can play around with different regularization hyperparameters when initializing the 3 different regularized logistic regression models. \n",
    "\n",
    "Compare these with each other and with the unregularized regression performed in 2.3.1.\n",
    "\n",
    "Make sure to evaluate the performance on test data using the same methodology as above (using a confusion matrix to calculate the accuracy).\n",
    "\n",
    "**Note**: Just like 2.3.1, set `maxIter` to a suitable value."
   ],
   "metadata": {
    "id": "zu_wBe65VrW9"
   }
  },
  {
   "cell_type": "markdown",
   "source": [
    "#### (a) LASSO (L1)\n",
    "\n",
    "First, implement a LASSO Logistic Regression model using SparkML and call it `l1_model`, fit it on `train_sdf` and get predictions using `test_sdf`. Get the training accuracy and store it as `l1_train_accuracy`."
   ],
   "metadata": {
    "id": "fSEYNPEPYBJk"
   }
  },
  {
   "cell_type": "code",
   "source": [
    "# TO-DO: Instantiate LASSO/L1 regularized model as \"l1_model\"\n",
    "l1_model = LogisticRegression(featuresCol = \"features\", labelCol = \"booking_status\", elasticNetParam = 1.0, regParam = 0.1, maxIter = 5)\n",
    "\n",
    "# TO-DO: Fit and Transform using \"l1_model\"\n",
    "train_fit = l1_model.fit(train_sdf)\n",
    "predictions = train_fit.transform(test_sdf)\n",
    "\n",
    "# TO-DO: Store training accuracy as \"l1_train_accuracy\"\n",
    "l1_train_accuracy = train_fit.summary.accuracy"
   ],
   "metadata": {
    "id": "xlC3TNEnYzD2"
   },
   "execution_count": 91,
   "outputs": []
  },
  {
   "cell_type": "markdown",
   "source": [
    "From the predictions, create a confusion matrix and use it to get the test accuracy. Store this accuracy value as `l1_test_accuracy`."
   ],
   "metadata": {
    "id": "YZTFIUbicwmh"
   }
  },
  {
   "cell_type": "code",
   "source": [
    "# TO-DO: Create the Confusion matrix\n",
    "predictionsAndLabels = predictions.select([\"prediction\", \"booking_status\"]).rdd\n",
    "metrics = MulticlassMetrics(predictionsAndLabels)\n",
    "confusion_matrix = metrics.confusionMatrix().toArray()\n",
    "\n",
    "# TO-DO: Calculate the test accuracy as done in the previous section. Store test accuracy as \"l1_test_accuracy\"\n",
    "l1_test_accuracy = (confusion_matrix[0][0] + confusion_matrix[1][1]) / (confusion_matrix.sum())"
   ],
   "metadata": {
    "id": "GXTGezetajEi",
    "colab": {
     "base_uri": "https://localhost:8080/"
    },
    "outputId": "e3f03081-f239-4141-c531-ba854be73658"
   },
   "execution_count": 92,
   "outputs": [
    {
     "output_type": "stream",
     "name": "stderr",
     "text": [
      "/usr/local/lib/python3.9/dist-packages/pyspark/sql/context.py:157: FutureWarning: Deprecated in 3.0.0. Use SparkSession.builder.getOrCreate() instead.\n",
      "  warnings.warn(\n"
     ]
    }
   ]
  },
  {
   "cell_type": "markdown",
   "source": [
    "#### (b) Ridge (L2)\n",
    "\n",
    "Next, implement a Ridge Logistic Regression model using SparkML and call it `l2_model`, fit it on `train_sdf` and get predictions using `test_sdf`. Get the training accuracy and store it as `l2_train_accuracy`."
   ],
   "metadata": {
    "id": "-O7Oq8KPdD9h"
   }
  },
  {
   "cell_type": "code",
   "source": [
    "# TO-DO: Instantiate Ridge/L2 regularized model as \"l2_model\"\n",
    "l2_model = LogisticRegression(featuresCol = \"features\", labelCol = \"booking_status\", elasticNetParam = 0.0, regParam = 0.1, maxIter = 5)\n",
    "\n",
    "# TO-DO: Fit and Transform using \"l2_model\"\n",
    "train_fit = l2_model.fit(train_sdf)\n",
    "predictions = train_fit.transform(test_sdf)\n",
    "\n",
    "# TO-DO: Store training accuracy as \"l2_train_accuracy\"\n",
    "l2_train_accuracy = train_fit.summary.accuracy"
   ],
   "metadata": {
    "id": "BzxfiooYdO-s"
   },
   "execution_count": 93,
   "outputs": []
  },
  {
   "cell_type": "markdown",
   "source": [
    "From the predictions, create a confusion matrix and use it to get the test accuracy. Store this accuracy value as `l2_test_accuracy`."
   ],
   "metadata": {
    "id": "z6BD1lsvdjZS"
   }
  },
  {
   "cell_type": "code",
   "source": [
    "# TO-DO: Create the Confusion matrix\n",
    "predictionsAndLabels = predictions.select([\"prediction\", \"booking_status\"]).rdd\n",
    "metrics = MulticlassMetrics(predictionsAndLabels)\n",
    "confusion_matrix = metrics.confusionMatrix().toArray()\n",
    "\n",
    "# TO-DO: Calculate the test accuracy as done in the previous section. Store test accuracy as \"l2_test_accuracy\"\n",
    "l2_test_accuracy = (confusion_matrix[0][0] + confusion_matrix[1][1]) / (confusion_matrix.sum())"
   ],
   "metadata": {
    "id": "vron91efdi8s",
    "colab": {
     "base_uri": "https://localhost:8080/"
    },
    "outputId": "5518ee03-14ce-4817-8af1-e9cfa1f7a2f7"
   },
   "execution_count": 94,
   "outputs": [
    {
     "output_type": "stream",
     "name": "stderr",
     "text": [
      "/usr/local/lib/python3.9/dist-packages/pyspark/sql/context.py:157: FutureWarning: Deprecated in 3.0.0. Use SparkSession.builder.getOrCreate() instead.\n",
      "  warnings.warn(\n"
     ]
    }
   ]
  },
  {
   "cell_type": "markdown",
   "source": [
    "#### (c) Elastic Net\n",
    "\n",
    "Finally, implement an Elastic Net Logistic Regression model using SparkML and call it `en_model`, fit it on `train_sdf` and get predictions using `test_sdf`. Get the training accuracy and store it as `en_train_accuracy`."
   ],
   "metadata": {
    "id": "fUibpxvqeCsz"
   }
  },
  {
   "cell_type": "code",
   "source": [
    "# TO-DO: Instantiate Elastic Net regularized model as \"en_model\"\n",
    "en_model = LogisticRegression(featuresCol = \"features\", labelCol = \"booking_status\", elasticNetParam = 0.5, regParam = 0.1, maxIter = 5)\n",
    "\n",
    "# TO-DO: Fit and Transform using \"en_model\"\n",
    "train_fit = en_model.fit(train_sdf)\n",
    "predictions = train_fit.transform(test_sdf)\n",
    "\n",
    "# TO-DO: Store training accuracy as \"en_train_accuracy\"\n",
    "en_train_accuracy = train_fit.summary.accuracy"
   ],
   "metadata": {
    "id": "h_j1zU38eSAS"
   },
   "execution_count": 95,
   "outputs": []
  },
  {
   "cell_type": "markdown",
   "source": [
    "From the predictions, create a confusion matrix and use it to get the test accuracy. Store this accuracy value as `en_test_accuracy`."
   ],
   "metadata": {
    "id": "-Xge3cFxecaU"
   }
  },
  {
   "cell_type": "code",
   "source": [
    "# TO-DO: Create the Confusion matrix\n",
    "predictionsAndLabels = predictions.select([\"prediction\", \"booking_status\"]).rdd\n",
    "metrics = MulticlassMetrics(predictionsAndLabels)\n",
    "confusion_matrix = metrics.confusionMatrix().toArray()\n",
    "\n",
    "# TO-DO: Calculate the test accuracy as done in the previous section. Store test accuracy as \"en_test_accuracy\"\n",
    "en_test_accuracy = (confusion_matrix[0][0] + confusion_matrix[1][1]) / (confusion_matrix.sum())"
   ],
   "metadata": {
    "id": "oI6OHfWJeeeX",
    "colab": {
     "base_uri": "https://localhost:8080/"
    },
    "outputId": "06d77c5a-ade3-4719-b4ab-e3beb5e723bc"
   },
   "execution_count": 96,
   "outputs": [
    {
     "output_type": "stream",
     "name": "stderr",
     "text": [
      "/usr/local/lib/python3.9/dist-packages/pyspark/sql/context.py:157: FutureWarning: Deprecated in 3.0.0. Use SparkSession.builder.getOrCreate() instead.\n",
      "  warnings.warn(\n"
     ]
    }
   ]
  },
  {
   "cell_type": "code",
   "source": [
    "#8 points\n",
    "#Grader cell\n",
    "grader.grade(test_case_id = 'check_reg_logistic', answer = (l1_model.getElasticNetParam(), l1_model.getRegParam(), l1_train_accuracy, l1_test_accuracy,\n",
    "                                                            l2_model.getElasticNetParam(), l2_model.getRegParam(), l2_train_accuracy, l2_test_accuracy,\n",
    "                                                            en_model.getElasticNetParam(), en_model.getRegParam(), en_train_accuracy, en_test_accuracy))"
   ],
   "metadata": {
    "id": "RU3LaLu6ewjQ",
    "colab": {
     "base_uri": "https://localhost:8080/"
    },
    "outputId": "5778f620-4caf-4445-86eb-6eebb082c5ef"
   },
   "execution_count": 97,
   "outputs": [
    {
     "output_type": "stream",
     "name": "stdout",
     "text": [
      "Correct! You earned 8/8 points. You are a star!\n",
      "\n",
      "Your submission has been successfully recorded in the gradebook.\n"
     ]
    }
   ]
  },
  {
   "cell_type": "markdown",
   "source": [
    "### **2.3.3** Random Forest Classification [8 pts]\n",
    "\n",
    "If you are looking to win Kaggle competitions, you definitely must know about Random Forests, Boosted Trees, etc. These ensemble methods generalize and work surprisingly well for a lot of classification problems and sometimes for regression problems (though regression trees are not the focus of this course).\n",
    "\n",
    "Let's give it a go. Similar to what you did for the Logistic Regression model, create a Random Forest classifier model and name it `rf` and fit it to the training data. Call the fitted model `rf_model`.\n",
    "\n",
    "**Note1:** Set the `random_seed` to 42 and set the argument `seed = random_seed` while creating `rf` as a RandomForest object. \\\\\n",
    "**Note2:** Set `maxDepth` to a reasonable value (e.g. 10) to find a good balance between performance and computation time."
   ],
   "metadata": {
    "id": "H8k-KqujfWbA"
   }
  },
  {
   "cell_type": "code",
   "source": [
    "# TO-DO: Import required libraries\n",
    "from pyspark.ml.classification import RandomForestClassifier\n",
    "\n",
    "# TO-DO: Set random_seed to 42\n",
    "random_seed = 42\n",
    "\n",
    "# TO-DO: Instantiate the RF Model and call it \"rf\", then fit it on the training data\n",
    "rf = RandomForestClassifier(featuresCol = \"features\", labelCol = \"booking_status\", seed = random_seed, maxDepth = 10)"
   ],
   "metadata": {
    "id": "J-rKH7Qh0m4H"
   },
   "execution_count": 98,
   "outputs": []
  },
  {
   "cell_type": "markdown",
   "source": [
    "This time, get predictions on both the training and testing sets, and store them as `train_pred` and `test_pred` respectively."
   ],
   "metadata": {
    "id": "M71HnmZ41eIy"
   }
  },
  {
   "cell_type": "code",
   "source": [
    "# TO-DO: Get predictions and save to \"train_pred\" and \"test_pred\" respectively\n",
    "rf_model = rf.fit(train_sdf)\n",
    "\n",
    "train_pred = rf_model.transform(train_sdf)\n",
    "test_pred = rf_model.transform(test_sdf)"
   ],
   "metadata": {
    "id": "dzPe3ld01hhA"
   },
   "execution_count": 99,
   "outputs": []
  },
  {
   "cell_type": "markdown",
   "source": [
    "Evaluate using the accuracy metric again, similar to the previous sections.\n",
    "- Store the confusion matrices as `rf_train_cm` and `rf_test_cm` respectively.\n",
    "- Store the training and test accuracy as `rf_train_accuracy` and  `rf_test_accuracy` respectively."
   ],
   "metadata": {
    "id": "xcEQUtzP1tZ4"
   }
  },
  {
   "cell_type": "code",
   "source": [
    "# TO-DO: Evaluate the prediction accuracy for train set and call it \"rf_train_accuracy\"\n",
    "predictionsAndLabels = train_pred.select([\"prediction\", \"booking_status\"]).rdd\n",
    "metrics = MulticlassMetrics(predictionsAndLabels)\n",
    "\n",
    "rf_train_cm = metrics.confusionMatrix().toArray()\n",
    "rf_train_accuracy = (rf_train_cm[0][0] + rf_train_cm[1][1]) / (rf_train_cm.sum())"
   ],
   "metadata": {
    "id": "es9Wql3B14TV",
    "colab": {
     "base_uri": "https://localhost:8080/"
    },
    "outputId": "0e4d45b9-ab9a-4912-deb4-2b373f652764"
   },
   "execution_count": 100,
   "outputs": [
    {
     "output_type": "stream",
     "name": "stderr",
     "text": [
      "/usr/local/lib/python3.9/dist-packages/pyspark/sql/context.py:157: FutureWarning: Deprecated in 3.0.0. Use SparkSession.builder.getOrCreate() instead.\n",
      "  warnings.warn(\n"
     ]
    }
   ]
  },
  {
   "cell_type": "code",
   "source": [
    "# TO-DO: Evaluate the prediction accuracy for test set and call it \"rf_test_accuracy\"\n",
    "predictionsAndLabels = test_pred.select([\"prediction\", \"booking_status\"]).rdd\n",
    "metrics = MulticlassMetrics(predictionsAndLabels)\n",
    "\n",
    "rf_test_cm = metrics.confusionMatrix().toArray()\n",
    "rf_test_accuracy = (rf_test_cm[0][0] + rf_test_cm[1][1]) / (rf_test_cm.sum())"
   ],
   "metadata": {
    "id": "2ZeYnYe6DsPb"
   },
   "execution_count": 101,
   "outputs": []
  },
  {
   "cell_type": "code",
   "source": [
    "# Grader (8 points)\n",
    "grader.grade(test_case_id = 'check_random_forest', answer = (rf_train_accuracy, train_pred.count(), rf_test_accuracy, test_pred.count(), rf_train_cm, rf_test_cm))"
   ],
   "metadata": {
    "id": "3VH0SRIs3m30",
    "colab": {
     "base_uri": "https://localhost:8080/"
    },
    "outputId": "8db18870-8f3f-4756-ad49-ee43d9ca040f"
   },
   "execution_count": 102,
   "outputs": [
    {
     "output_type": "stream",
     "name": "stdout",
     "text": [
      "Correct! You earned 8/8 points. You are a star!\n",
      "\n",
      "Your submission has been successfully recorded in the gradebook.\n"
     ]
    }
   ]
  },
  {
   "cell_type": "markdown",
   "source": [
    "### **2.3.4** Dimensionality Reduction Using PCA [8 pts]\n",
    "\n",
    "We will again use the powerful PCA to reduce the dimensions and project the data onto a lower dimensional space and fit a logistic regression on the new projected data."
   ],
   "metadata": {
    "id": "n972zXod4DXF"
   }
  },
  {
   "cell_type": "markdown",
   "source": [
    "Initialize a PCA model on SparkML, where you select an appropriate number of dimensions, and call it `pca`. Then, fit the model on the training data and get the PCA features from the trained model.\n",
    "\n",
    "**Hint**: Choose `k` for the PCA model using the explained variance plot you made earlier."
   ],
   "metadata": {
    "id": "LiL8evmIBhDL"
   }
  },
  {
   "cell_type": "code",
   "source": [
    "# TO-DO: Import required libraries\n",
    "from pyspark.ml.feature import PCA\n",
    "from pyspark.ml.feature import StandardScaler\n",
    "\n",
    "# TO-DO: Perform intermediate steps to address scale-variance in PCA\n",
    "standardScaler = StandardScaler(inputCol = \"features\", outputCol = \"features_sc\", withStd = False, withMean = True)\n",
    "train_fit_sc = standardScaler.fit(train_sdf)\n",
    "\n",
    "train_sdf_sc = train_fit_sc.transform(train_sdf)\n",
    "test_sdf_sc = train_fit_sc.transform(test_sdf)\n",
    "\n",
    "# TO-DO: Instantiate PCA object as \"pca\" and then fit and transform.\n",
    "#        Make sure you make a reasonable choice for the number of Principal Components\n",
    "pca = PCA(k = 17, inputCol = \"features_sc\", outputCol = \"features_pca\")\n",
    "train_fit_pca = pca.fit(train_sdf_sc)\n",
    "\n",
    "train_sdf_pca = train_fit_pca.transform(train_sdf_sc)\n",
    "test_sdf_pca = train_fit_pca.transform(test_sdf_sc)"
   ],
   "metadata": {
    "id": "J4t4b6RECbRl"
   },
   "execution_count": 103,
   "outputs": []
  },
  {
   "cell_type": "markdown",
   "source": [
    "Now, create a Logistic Regression model and train it using the PCA features."
   ],
   "metadata": {
    "id": "IFxyRkmTDBta"
   }
  },
  {
   "cell_type": "code",
   "source": [
    "# TO-DO: Instantiate Logistic Regression model and call the model object \"lr_model\"\n",
    "lr_model = LogisticRegression(featuresCol = \"features_pca\", labelCol = \"booking_status\")\n",
    "\n",
    "# TO-DO: Fit Logistic Regression Model and get predictions\n",
    "train_fit = lr_model.fit(train_sdf_pca)\n",
    "predictions = train_fit.transform(test_sdf_pca)\n",
    "\n",
    "lr_model = lr_model.fit(train_sdf_pca)"
   ],
   "metadata": {
    "id": "QdX0LisYDcb1"
   },
   "execution_count": 104,
   "outputs": []
  },
  {
   "cell_type": "markdown",
   "source": [
    "Calculate the training accuracy using the model's summary and store it in a variable called `train_accuracy_pca`."
   ],
   "metadata": {
    "id": "pz2c4099D_h-"
   }
  },
  {
   "cell_type": "code",
   "source": [
    "# TO-DO: Get training accuracy and store it as `train_accuracy_pca`\n",
    "train_accuracy_pca = train_fit.summary.accuracy"
   ],
   "metadata": {
    "id": "EafeNRLMD7Rh"
   },
   "execution_count": 105,
   "outputs": []
  },
  {
   "cell_type": "markdown",
   "source": [
    "\n",
    "Evaulate the test performance by creating a confusion matrix and call it `confusion_matrix_pca`. Then, calculate the test accuracy using the confusion matrix  and store it as `test_accuracy_pca`."
   ],
   "metadata": {
    "id": "DRTBu6AOEe-L"
   }
  },
  {
   "cell_type": "code",
   "source": [
    "# TO-DO: Create confusion matrix and store it as \"confusion_matrix_pca\"\n",
    "predictionsAndLabels = predictions.select([\"prediction\", \"booking_status\"]).rdd\n",
    "metrics = MulticlassMetrics(predictionsAndLabels)\n",
    "\n",
    "confusion_matrix_pca = metrics.confusionMatrix().toArray()\n",
    "# TO-DO: Calculate test accuracy and store it as \"test_accuracy_pca\"\n",
    "test_accuracy_pca = (confusion_matrix_pca[0][0] + confusion_matrix_pca[1][1]) / (confusion_matrix_pca.sum())"
   ],
   "metadata": {
    "id": "6AbNje50EU2a"
   },
   "execution_count": 106,
   "outputs": []
  },
  {
   "cell_type": "code",
   "source": [
    "# Grader cell (8 points)\n",
    "grader.grade(test_case_id = 'check_pca', answer = (pca.getK(), len(lr_model.coefficients), train_accuracy_pca, test_accuracy_pca, confusion_matrix_pca))"
   ],
   "metadata": {
    "id": "ighJ-OTRG1al",
    "colab": {
     "base_uri": "https://localhost:8080/"
    },
    "outputId": "b8900328-09c2-4876-aafb-26c6a36bf17b"
   },
   "execution_count": 107,
   "outputs": [
    {
     "output_type": "stream",
     "name": "stdout",
     "text": [
      "Correct! You earned 8/8 points. You are a star!\n",
      "\n",
      "Your submission has been successfully recorded in the gradebook.\n"
     ]
    }
   ]
  },
  {
   "cell_type": "markdown",
   "source": [
    "# Homework Submission Reminders & Penalties\n",
    "\n",
    "Good job! You have finished the homework :) The submission instructions are as follows:\n",
    "\n",
    "* **Double check** that you have the correct PennID (all numbers) in the autograder. \n",
    "\n",
    "* **Triple check** that you have all plots shown in this Colab notebook before submitting (otherwise, your submission will be subjected to a **penalty of -5 points**).\n",
    "\n",
    "*  Go to the \"File\" tab at the top left of the Colab UI, click \"Download .ipynb\" and then \"Download .py\".  **Rename** these two files to `homework4.ipynb` and `homework4.py` respectively and upload them to Gradescope.\n",
    "  - <ins>**WAIT UNTIL THE GRADESCOPE AUTOGRADER FINISHES RUNNING!**</ins> If we have to manually upload this for you after the deadline, **we will apply a penalty of -10 points** (this stacks with any other penatlies)\n",
    "\n",
    "* After the autograder finishes running, Remember to click on the \"Code\" tab and see what your `.ipynb` file looks like on Gradescope.\n",
    "  - Just like in HW2, if \"Large File Hidden\" shows up, you MUST fix it. Refer back to [Ed Post \\#957](https://edstem.org/us/courses/32226/discussion/2628740) from earlier in this Spring 2023 semester.\n",
    "\n",
    "* Post any issues with submission on Ed and make sure to keep in mind the late day policy.\n",
    "\n",
    "* After you submit your code, the teaching staff will manually grade your Colab notebook in order to validate the correctness of your code."
   ],
   "metadata": {
    "id": "jfH7LMHMGpgB"
   }
  }
 ]
}
