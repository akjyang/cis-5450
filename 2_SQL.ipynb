{
  "cells": [
    {
      "cell_type": "markdown",
      "metadata": {
        "id": "wlv8esDGMj0h"
      },
      "source": [
        "# CIS 5450 Homework 2: SQL\n",
        "## Due: Tuesday, February 21 2023, 10pm EST \n",
        "### Worth 100 points in total\n",
        "\n",
        "Welcome to Homework 2! By now, you should be familiar with the world of data science and the Pandas library. This assignment focuses on helping you get to grips with a new tool: SQL.\n",
        "\n",
        "Through this homework, we will be working with SQL (specifically **pandasql**) by exploring a [Indego](https://www.rideindego.com/) dataset containing bike rides, stations and weather data. We will also conduct some text analysis of reataurant reviews in Philly.\n",
        "\n",
        " <!-- We will finish off the homework with some text analysis. -->\n",
        "\n",
        "We are introducing a lot of new things in this homework, and this is often where students start to get lost. Thus, we **strongly** encourage you to review the slides/material as you work through this assignment. \n",
        "\n",
        "**Before you begin:**\n",
        "- Be sure to click \"Copy to Drive\" to make sure you're working on your own personal version of the homework\n",
        "- Check the pinned FAQ post on Ed for updates! If you have been stuck, chances are other students have also faced similar problems.\n",
        "\n",
        "# <ins> Note</ins>: this has historically been the _**MOST  difficult**_ HW out of all of them, so please watch the SQL recitation and **start early**!"
      ]
    },
    {
      "cell_type": "markdown",
      "metadata": {
        "id": "W0hcZWDcqCUL"
      },
      "source": [
        "## Part 0: Libraries and Set Up Jargon (The usual wall of imports)"
      ]
    },
    {
      "cell_type": "code",
      "execution_count": 1,
      "metadata": {
        "id": "ylkUtozb2Oc8",
        "colab": {
          "base_uri": "https://localhost:8080/"
        },
        "outputId": "ed602cac-adda-4265-c875-191751dc2901"
      },
      "outputs": [
        {
          "output_type": "stream",
          "name": "stdout",
          "text": [
            "Looking in indexes: https://pypi.org/simple, https://us-python.pkg.dev/colab-wheels/public/simple/\n",
            "Requirement already satisfied: penngrader in /usr/local/lib/python3.8/dist-packages (0.4)\n",
            "Looking in indexes: https://pypi.org/simple, https://us-python.pkg.dev/colab-wheels/public/simple/\n",
            "Requirement already satisfied: sqlalchemy==1.4.46 in /usr/local/lib/python3.8/dist-packages (1.4.46)\n",
            "Requirement already satisfied: greenlet!=0.4.17 in /usr/local/lib/python3.8/dist-packages (from sqlalchemy==1.4.46) (2.0.2)\n",
            "Looking in indexes: https://pypi.org/simple, https://us-python.pkg.dev/colab-wheels/public/simple/\n",
            "Requirement already satisfied: pandasql in /usr/local/lib/python3.8/dist-packages (0.7.3)\n",
            "Requirement already satisfied: numpy in /usr/local/lib/python3.8/dist-packages (from pandasql) (1.21.6)\n",
            "Requirement already satisfied: sqlalchemy in /usr/local/lib/python3.8/dist-packages (from pandasql) (1.4.46)\n",
            "Requirement already satisfied: pandas in /usr/local/lib/python3.8/dist-packages (from pandasql) (1.3.5)\n",
            "Requirement already satisfied: python-dateutil>=2.7.3 in /usr/local/lib/python3.8/dist-packages (from pandas->pandasql) (2.8.2)\n",
            "Requirement already satisfied: pytz>=2017.3 in /usr/local/lib/python3.8/dist-packages (from pandas->pandasql) (2022.7.1)\n",
            "Requirement already satisfied: greenlet!=0.4.17 in /usr/local/lib/python3.8/dist-packages (from sqlalchemy->pandasql) (2.0.2)\n",
            "Requirement already satisfied: six>=1.5 in /usr/local/lib/python3.8/dist-packages (from python-dateutil>=2.7.3->pandas->pandasql) (1.15.0)\n",
            "Looking in indexes: https://pypi.org/simple, https://us-python.pkg.dev/colab-wheels/public/simple/\n",
            "Requirement already satisfied: geopy in /usr/local/lib/python3.8/dist-packages (1.17.0)\n",
            "Requirement already satisfied: geographiclib<2,>=1.49 in /usr/local/lib/python3.8/dist-packages (from geopy) (1.52)\n",
            "Looking in indexes: https://pypi.org/simple, https://us-python.pkg.dev/colab-wheels/public/simple/\n",
            "Requirement already satisfied: kaleido in /usr/local/lib/python3.8/dist-packages (0.2.1)\n"
          ]
        }
      ],
      "source": [
        "!pip3 install penngrader\n",
        "!pip install sqlalchemy==1.4.46\n",
        "!pip install pandasql\n",
        "!pip install geopy\n",
        "!pip install -U kaleido"
      ]
    },
    {
      "cell_type": "code",
      "execution_count": 2,
      "metadata": {
        "id": "LAXVD0Lo454x",
        "colab": {
          "base_uri": "https://localhost:8080/"
        },
        "outputId": "dac22a95-bccb-403a-9831-b7fcf1446274"
      },
      "outputs": [
        {
          "output_type": "stream",
          "name": "stderr",
          "text": [
            "[nltk_data] Downloading package punkt to /root/nltk_data...\n",
            "[nltk_data]   Package punkt is already up-to-date!\n"
          ]
        }
      ],
      "source": [
        "from penngrader.grader import *\n",
        "import pandas as pd\n",
        "import datetime as dt\n",
        "import geopy.distance as gp\n",
        "import matplotlib.image as mpimg\n",
        "import plotly.express as px\n",
        "# import re\n",
        "import pandasql as ps #SQL on Pandas Dataframe\n",
        "import nltk\n",
        "nltk.download('punkt')\n",
        "\n",
        "from wordcloud import WordCloud\n",
        "\n",
        "import matplotlib.pyplot as plt \n",
        "# from collections import Counter\n",
        "# import random"
      ]
    },
    {
      "cell_type": "code",
      "execution_count": 3,
      "metadata": {
        "id": "0TmMEXVcwONB",
        "colab": {
          "base_uri": "https://localhost:8080/"
        },
        "outputId": "7ea17012-daac-4212-8f66-96673de7fea2"
      },
      "outputs": [
        {
          "output_type": "stream",
          "name": "stdout",
          "text": [
            "File ‘indego_trips.csv’ already there; not retrieving.\n",
            "\n",
            "File ‘indego_stations.csv’ already there; not retrieving.\n",
            "\n",
            "File ‘weather_2022_PHL.csv’ already there; not retrieving.\n",
            "\n",
            "File ‘restaurant_reviews.csv’ already there; not retrieving.\n",
            "\n"
          ]
        }
      ],
      "source": [
        "# Three datasets we're using\n",
        "! wget -nc https://storage.googleapis.com/penn-cis5450/indego_trips.csv\n",
        "! wget -nc https://storage.googleapis.com/penn-cis5450/indego_stations.csv\n",
        "! wget -nc https://storage.googleapis.com/penn-cis5450/weather_2022_PHL.csv\n",
        "! wget -nc https://storage.googleapis.com/penn-cis5450/restaurant_reviews.csv"
      ]
    },
    {
      "cell_type": "code",
      "execution_count": 4,
      "metadata": {
        "id": "b5NogkmdhhQ7",
        "colab": {
          "base_uri": "https://localhost:8080/"
        },
        "outputId": "849e992e-1705-4f37-a819-411ed29df463"
      },
      "outputs": [
        {
          "output_type": "stream",
          "name": "stdout",
          "text": [
            "1.3.5\n"
          ]
        }
      ],
      "source": [
        "print(pd.__version__ )"
      ]
    },
    {
      "cell_type": "markdown",
      "metadata": {
        "id": "TeyWoMn6pxSC"
      },
      "source": [
        "### PennGrader Setup"
      ]
    },
    {
      "cell_type": "code",
      "execution_count": 5,
      "metadata": {
        "id": "4ds2HHSkpvBO"
      },
      "outputs": [],
      "source": [
        "# ENSURE YOUR PENN-ID IS ENTERED CORRECTLY. IF NOT, THE AUTOGRADER WON'T KNOW \n",
        "# TO ASSIGN POINTS TO YOU IN OUR BACKEND\n",
        "\n",
        "STUDENT_ID = 69217576                                                        # YOUR PENN-ID GOES HERE AS AN INTEGER #\n",
        "\n",
        "\n",
        "################################################################################\n",
        "# Check (no need to modify below - we're checking if you changed the ID above)\n",
        "if STUDENT_ID == 12345678:\n",
        "   print(\"Hold up!!! \\nHold up!!!!! \\nHold up!!!!!!!! \\n \\nWe can't store your grade if you forgot to change the ID!\")"
      ]
    },
    {
      "cell_type": "code",
      "execution_count": 6,
      "metadata": {
        "id": "vAsLYJGotKbO",
        "colab": {
          "base_uri": "https://localhost:8080/"
        },
        "outputId": "7ed41786-4196-41d0-e9b9-483c319235fb"
      },
      "outputs": [
        {
          "output_type": "stream",
          "name": "stdout",
          "text": [
            "PennGrader initialized with Student ID: 69217576\n",
            "\n",
            "Make sure this correct or we will not be able to store your grade\n"
          ]
        }
      ],
      "source": [
        "grader = PennGrader(homework_id = 'CIS5450_23Sp_HW2', student_id = STUDENT_ID)"
      ]
    },
    {
      "cell_type": "markdown",
      "metadata": {
        "id": "VzZ6JNnKLplQ"
      },
      "source": [
        "\n",
        "\n",
        "# Biking in Philadelphia\n",
        "\n",
        "<br>\n",
        "<center><img src = \"https://whyy.org/wp-content/uploads/2021/11/AP-indego-bike-share-philly-docking-station-110421-768x512.jpg\" width= \"500\" align =\"center\"/></center>\n",
        "<br>\n",
        "\n",
        "I'm sure in your time in Philadelphia so far you've come across these blue bikes and stations. Indego is the company responsible for this bike sharing ride system, and they make data on bike trips available to the public. This data can not only be useful to get information of how people in Philly use bikes, but it can give information on the most visited places in the city which can be useful for city planners and business owners.\n",
        "\n",
        "\n",
        "In this homework, we'll be exploring some data about bikes including:\n",
        "\n",
        "*   Trips: data about bike trips during the first week of October 2022.\n",
        "\n",
        "*   Stations: data about bike stations, their ID and Name.\n",
        "\n",
        "*   Weather: data about the weather in Philadelphia during 2022.\n",
        "\n",
        "\n",
        "We'll be parsing this data into dataframes and relations, and then exploring how to query and assemble the tables into results. We will primarily be using PandaSQL, but for some of the initial questions, we will ask you to perform the same operations in Pandas as well, so as to familiarize you with the differences and similarities of the two.\n",
        "\n",
        "For the final part of this Homework, we'll use a fourth database with restaurants and reviews, and perform some text analysis."
      ]
    },
    {
      "cell_type": "markdown",
      "metadata": {
        "id": "oENmSeFkFRCo"
      },
      "source": [
        "## Part 1: Load & Process our Datasets [10 points total]\n",
        "\n",
        "Before we get into the data, we first need to load and clean our datasets. \n",
        "\n",
        "# Metadata\n",
        "You'll be working with four CSV files:\n",
        "- `indego_trips.csv`: contains data about each trip, like the origin station, destination station and duration. \n",
        "- `indego_stations.csv`: includes information about stations and their status in January 2023.\n",
        "- `weather_2022_PHL.csv`: has one row per day during 2022 and shows weather information.\n",
        "- `restaurant_reviews.csv`: has several reviews about three restaurants.\n",
        "\n",
        "**TO-DO**:\n",
        "* Load `indego_trips.csv` and save the data to a dataframe called `trips_df`.\n",
        "* Load `indego_stations.csv` and save the data to a dataframe called `stations_df`.\n",
        "* Load `weather_2022_PHL.csv` and save the data to a dataframe called `weather_df`.\n",
        "* Load `restaurant_reviews.csv` and save the data to a dataframe called `reviews_df`."
      ]
    },
    {
      "cell_type": "code",
      "execution_count": 7,
      "metadata": {
        "id": "zfMn38A25Vt8"
      },
      "outputs": [],
      "source": [
        "# TODO: Import the 4 datasets to pandas dataframes -- make sure the dataframes are named correctly! \n",
        "trips_df = pd.read_csv(\"/content/indego_trips.csv\")\n",
        "stations_df = pd.read_csv(\"/content/indego_stations.csv\")\n",
        "weather_df = pd.read_csv(\"/content/weather_2022_PHL.csv\")\n",
        "reviews_df = pd.read_csv(\"/content/restaurant_reviews.csv\")"
      ]
    },
    {
      "cell_type": "code",
      "execution_count": 8,
      "metadata": {
        "id": "yTBIwDJ1qDp0",
        "colab": {
          "base_uri": "https://localhost:8080/",
          "height": 357
        },
        "outputId": "4bfec253-921f-4b31-c938-a84334da6dcb"
      },
      "outputs": [
        {
          "output_type": "execute_result",
          "data": {
            "text/plain": [
              "     trip_id  duration      start_time        end_time  start_station  \\\n",
              "0  536547052         9  10/1/2022 0:00  10/1/2022 0:09         3190.0   \n",
              "1  536547050        19  10/1/2022 0:01  10/1/2022 0:20         3168.0   \n",
              "2  536547048        12  10/1/2022 0:02  10/1/2022 0:14         3190.0   \n",
              "3  536547046         5  10/1/2022 0:03  10/1/2022 0:08         3075.0   \n",
              "4  536547044        11  10/1/2022 0:03  10/1/2022 0:14         3050.0   \n",
              "\n",
              "   start_lat  start_lon  end_station    end_lat    end_lon bike_id  \\\n",
              "0  39.948921 -75.169907       3158.0  39.925522 -75.169037   23553   \n",
              "1  39.951340 -75.173943       3034.0  39.933151 -75.162483   22190   \n",
              "2  39.948921 -75.169907       3158.0  39.925522 -75.169037   18789   \n",
              "3  39.967178 -75.161247       3039.0  39.971569 -75.159927   23383   \n",
              "4  39.953388 -75.154259       3075.0  39.967178 -75.161247    5367   \n",
              "\n",
              "   plan_duration trip_route_category passholder_type bike_type  \n",
              "0           30.0             One Way        Indego30  electric  \n",
              "1           30.0             One Way        Indego30  electric  \n",
              "2           30.0             One Way        Indego30  electric  \n",
              "3           30.0             One Way        Indego30  electric  \n",
              "4           30.0             One Way        Indego30  standard  "
            ],
            "text/html": [
              "\n",
              "  <div id=\"df-d331e37c-287e-40e1-99a7-a04e459ba0da\">\n",
              "    <div class=\"colab-df-container\">\n",
              "      <div>\n",
              "<style scoped>\n",
              "    .dataframe tbody tr th:only-of-type {\n",
              "        vertical-align: middle;\n",
              "    }\n",
              "\n",
              "    .dataframe tbody tr th {\n",
              "        vertical-align: top;\n",
              "    }\n",
              "\n",
              "    .dataframe thead th {\n",
              "        text-align: right;\n",
              "    }\n",
              "</style>\n",
              "<table border=\"1\" class=\"dataframe\">\n",
              "  <thead>\n",
              "    <tr style=\"text-align: right;\">\n",
              "      <th></th>\n",
              "      <th>trip_id</th>\n",
              "      <th>duration</th>\n",
              "      <th>start_time</th>\n",
              "      <th>end_time</th>\n",
              "      <th>start_station</th>\n",
              "      <th>start_lat</th>\n",
              "      <th>start_lon</th>\n",
              "      <th>end_station</th>\n",
              "      <th>end_lat</th>\n",
              "      <th>end_lon</th>\n",
              "      <th>bike_id</th>\n",
              "      <th>plan_duration</th>\n",
              "      <th>trip_route_category</th>\n",
              "      <th>passholder_type</th>\n",
              "      <th>bike_type</th>\n",
              "    </tr>\n",
              "  </thead>\n",
              "  <tbody>\n",
              "    <tr>\n",
              "      <th>0</th>\n",
              "      <td>536547052</td>\n",
              "      <td>9</td>\n",
              "      <td>10/1/2022 0:00</td>\n",
              "      <td>10/1/2022 0:09</td>\n",
              "      <td>3190.0</td>\n",
              "      <td>39.948921</td>\n",
              "      <td>-75.169907</td>\n",
              "      <td>3158.0</td>\n",
              "      <td>39.925522</td>\n",
              "      <td>-75.169037</td>\n",
              "      <td>23553</td>\n",
              "      <td>30.0</td>\n",
              "      <td>One Way</td>\n",
              "      <td>Indego30</td>\n",
              "      <td>electric</td>\n",
              "    </tr>\n",
              "    <tr>\n",
              "      <th>1</th>\n",
              "      <td>536547050</td>\n",
              "      <td>19</td>\n",
              "      <td>10/1/2022 0:01</td>\n",
              "      <td>10/1/2022 0:20</td>\n",
              "      <td>3168.0</td>\n",
              "      <td>39.951340</td>\n",
              "      <td>-75.173943</td>\n",
              "      <td>3034.0</td>\n",
              "      <td>39.933151</td>\n",
              "      <td>-75.162483</td>\n",
              "      <td>22190</td>\n",
              "      <td>30.0</td>\n",
              "      <td>One Way</td>\n",
              "      <td>Indego30</td>\n",
              "      <td>electric</td>\n",
              "    </tr>\n",
              "    <tr>\n",
              "      <th>2</th>\n",
              "      <td>536547048</td>\n",
              "      <td>12</td>\n",
              "      <td>10/1/2022 0:02</td>\n",
              "      <td>10/1/2022 0:14</td>\n",
              "      <td>3190.0</td>\n",
              "      <td>39.948921</td>\n",
              "      <td>-75.169907</td>\n",
              "      <td>3158.0</td>\n",
              "      <td>39.925522</td>\n",
              "      <td>-75.169037</td>\n",
              "      <td>18789</td>\n",
              "      <td>30.0</td>\n",
              "      <td>One Way</td>\n",
              "      <td>Indego30</td>\n",
              "      <td>electric</td>\n",
              "    </tr>\n",
              "    <tr>\n",
              "      <th>3</th>\n",
              "      <td>536547046</td>\n",
              "      <td>5</td>\n",
              "      <td>10/1/2022 0:03</td>\n",
              "      <td>10/1/2022 0:08</td>\n",
              "      <td>3075.0</td>\n",
              "      <td>39.967178</td>\n",
              "      <td>-75.161247</td>\n",
              "      <td>3039.0</td>\n",
              "      <td>39.971569</td>\n",
              "      <td>-75.159927</td>\n",
              "      <td>23383</td>\n",
              "      <td>30.0</td>\n",
              "      <td>One Way</td>\n",
              "      <td>Indego30</td>\n",
              "      <td>electric</td>\n",
              "    </tr>\n",
              "    <tr>\n",
              "      <th>4</th>\n",
              "      <td>536547044</td>\n",
              "      <td>11</td>\n",
              "      <td>10/1/2022 0:03</td>\n",
              "      <td>10/1/2022 0:14</td>\n",
              "      <td>3050.0</td>\n",
              "      <td>39.953388</td>\n",
              "      <td>-75.154259</td>\n",
              "      <td>3075.0</td>\n",
              "      <td>39.967178</td>\n",
              "      <td>-75.161247</td>\n",
              "      <td>5367</td>\n",
              "      <td>30.0</td>\n",
              "      <td>One Way</td>\n",
              "      <td>Indego30</td>\n",
              "      <td>standard</td>\n",
              "    </tr>\n",
              "  </tbody>\n",
              "</table>\n",
              "</div>\n",
              "      <button class=\"colab-df-convert\" onclick=\"convertToInteractive('df-d331e37c-287e-40e1-99a7-a04e459ba0da')\"\n",
              "              title=\"Convert this dataframe to an interactive table.\"\n",
              "              style=\"display:none;\">\n",
              "        \n",
              "  <svg xmlns=\"http://www.w3.org/2000/svg\" height=\"24px\"viewBox=\"0 0 24 24\"\n",
              "       width=\"24px\">\n",
              "    <path d=\"M0 0h24v24H0V0z\" fill=\"none\"/>\n",
              "    <path d=\"M18.56 5.44l.94 2.06.94-2.06 2.06-.94-2.06-.94-.94-2.06-.94 2.06-2.06.94zm-11 1L8.5 8.5l.94-2.06 2.06-.94-2.06-.94L8.5 2.5l-.94 2.06-2.06.94zm10 10l.94 2.06.94-2.06 2.06-.94-2.06-.94-.94-2.06-.94 2.06-2.06.94z\"/><path d=\"M17.41 7.96l-1.37-1.37c-.4-.4-.92-.59-1.43-.59-.52 0-1.04.2-1.43.59L10.3 9.45l-7.72 7.72c-.78.78-.78 2.05 0 2.83L4 21.41c.39.39.9.59 1.41.59.51 0 1.02-.2 1.41-.59l7.78-7.78 2.81-2.81c.8-.78.8-2.07 0-2.86zM5.41 20L4 18.59l7.72-7.72 1.47 1.35L5.41 20z\"/>\n",
              "  </svg>\n",
              "      </button>\n",
              "      \n",
              "  <style>\n",
              "    .colab-df-container {\n",
              "      display:flex;\n",
              "      flex-wrap:wrap;\n",
              "      gap: 12px;\n",
              "    }\n",
              "\n",
              "    .colab-df-convert {\n",
              "      background-color: #E8F0FE;\n",
              "      border: none;\n",
              "      border-radius: 50%;\n",
              "      cursor: pointer;\n",
              "      display: none;\n",
              "      fill: #1967D2;\n",
              "      height: 32px;\n",
              "      padding: 0 0 0 0;\n",
              "      width: 32px;\n",
              "    }\n",
              "\n",
              "    .colab-df-convert:hover {\n",
              "      background-color: #E2EBFA;\n",
              "      box-shadow: 0px 1px 2px rgba(60, 64, 67, 0.3), 0px 1px 3px 1px rgba(60, 64, 67, 0.15);\n",
              "      fill: #174EA6;\n",
              "    }\n",
              "\n",
              "    [theme=dark] .colab-df-convert {\n",
              "      background-color: #3B4455;\n",
              "      fill: #D2E3FC;\n",
              "    }\n",
              "\n",
              "    [theme=dark] .colab-df-convert:hover {\n",
              "      background-color: #434B5C;\n",
              "      box-shadow: 0px 1px 3px 1px rgba(0, 0, 0, 0.15);\n",
              "      filter: drop-shadow(0px 1px 2px rgba(0, 0, 0, 0.3));\n",
              "      fill: #FFFFFF;\n",
              "    }\n",
              "  </style>\n",
              "\n",
              "      <script>\n",
              "        const buttonEl =\n",
              "          document.querySelector('#df-d331e37c-287e-40e1-99a7-a04e459ba0da button.colab-df-convert');\n",
              "        buttonEl.style.display =\n",
              "          google.colab.kernel.accessAllowed ? 'block' : 'none';\n",
              "\n",
              "        async function convertToInteractive(key) {\n",
              "          const element = document.querySelector('#df-d331e37c-287e-40e1-99a7-a04e459ba0da');\n",
              "          const dataTable =\n",
              "            await google.colab.kernel.invokeFunction('convertToInteractive',\n",
              "                                                     [key], {});\n",
              "          if (!dataTable) return;\n",
              "\n",
              "          const docLinkHtml = 'Like what you see? Visit the ' +\n",
              "            '<a target=\"_blank\" href=https://colab.research.google.com/notebooks/data_table.ipynb>data table notebook</a>'\n",
              "            + ' to learn more about interactive tables.';\n",
              "          element.innerHTML = '';\n",
              "          dataTable['output_type'] = 'display_data';\n",
              "          await google.colab.output.renderOutput(dataTable, element);\n",
              "          const docLink = document.createElement('div');\n",
              "          docLink.innerHTML = docLinkHtml;\n",
              "          element.appendChild(docLink);\n",
              "        }\n",
              "      </script>\n",
              "    </div>\n",
              "  </div>\n",
              "  "
            ]
          },
          "metadata": {},
          "execution_count": 8
        }
      ],
      "source": [
        "# TODO: view `trips_df` (just the first 5 rows with .head() is fine) to make sure the import was successful\n",
        "trips_df.head()"
      ]
    },
    {
      "cell_type": "code",
      "execution_count": 9,
      "metadata": {
        "id": "Py_XvfZiNzXx",
        "colab": {
          "base_uri": "https://localhost:8080/",
          "height": 206
        },
        "outputId": "78157e1f-74f0-4ab7-fbf6-27e130e3452c"
      },
      "outputs": [
        {
          "output_type": "execute_result",
          "data": {
            "text/plain": [
              "   station_id                       station_name day_of_go_live_date  status  \\\n",
              "0        3000                    Virtual Station           4/23/2015  Active   \n",
              "1        3004  Municipal Services Building Plaza           4/23/2015  Active   \n",
              "2        3005                  Welcome Park, NPS           4/23/2015  Active   \n",
              "3        3006                      40th & Spruce           4/23/2015  Active   \n",
              "4        3007             11th & Pine, Kahn Park           4/23/2015  Active   \n",
              "\n",
              "   zone  \n",
              "0     0  \n",
              "1     0  \n",
              "2     0  \n",
              "3     2  \n",
              "4     0  "
            ],
            "text/html": [
              "\n",
              "  <div id=\"df-617bb3e8-ca30-4706-b872-01ad9aee9332\">\n",
              "    <div class=\"colab-df-container\">\n",
              "      <div>\n",
              "<style scoped>\n",
              "    .dataframe tbody tr th:only-of-type {\n",
              "        vertical-align: middle;\n",
              "    }\n",
              "\n",
              "    .dataframe tbody tr th {\n",
              "        vertical-align: top;\n",
              "    }\n",
              "\n",
              "    .dataframe thead th {\n",
              "        text-align: right;\n",
              "    }\n",
              "</style>\n",
              "<table border=\"1\" class=\"dataframe\">\n",
              "  <thead>\n",
              "    <tr style=\"text-align: right;\">\n",
              "      <th></th>\n",
              "      <th>station_id</th>\n",
              "      <th>station_name</th>\n",
              "      <th>day_of_go_live_date</th>\n",
              "      <th>status</th>\n",
              "      <th>zone</th>\n",
              "    </tr>\n",
              "  </thead>\n",
              "  <tbody>\n",
              "    <tr>\n",
              "      <th>0</th>\n",
              "      <td>3000</td>\n",
              "      <td>Virtual Station</td>\n",
              "      <td>4/23/2015</td>\n",
              "      <td>Active</td>\n",
              "      <td>0</td>\n",
              "    </tr>\n",
              "    <tr>\n",
              "      <th>1</th>\n",
              "      <td>3004</td>\n",
              "      <td>Municipal Services Building Plaza</td>\n",
              "      <td>4/23/2015</td>\n",
              "      <td>Active</td>\n",
              "      <td>0</td>\n",
              "    </tr>\n",
              "    <tr>\n",
              "      <th>2</th>\n",
              "      <td>3005</td>\n",
              "      <td>Welcome Park, NPS</td>\n",
              "      <td>4/23/2015</td>\n",
              "      <td>Active</td>\n",
              "      <td>0</td>\n",
              "    </tr>\n",
              "    <tr>\n",
              "      <th>3</th>\n",
              "      <td>3006</td>\n",
              "      <td>40th &amp; Spruce</td>\n",
              "      <td>4/23/2015</td>\n",
              "      <td>Active</td>\n",
              "      <td>2</td>\n",
              "    </tr>\n",
              "    <tr>\n",
              "      <th>4</th>\n",
              "      <td>3007</td>\n",
              "      <td>11th &amp; Pine, Kahn Park</td>\n",
              "      <td>4/23/2015</td>\n",
              "      <td>Active</td>\n",
              "      <td>0</td>\n",
              "    </tr>\n",
              "  </tbody>\n",
              "</table>\n",
              "</div>\n",
              "      <button class=\"colab-df-convert\" onclick=\"convertToInteractive('df-617bb3e8-ca30-4706-b872-01ad9aee9332')\"\n",
              "              title=\"Convert this dataframe to an interactive table.\"\n",
              "              style=\"display:none;\">\n",
              "        \n",
              "  <svg xmlns=\"http://www.w3.org/2000/svg\" height=\"24px\"viewBox=\"0 0 24 24\"\n",
              "       width=\"24px\">\n",
              "    <path d=\"M0 0h24v24H0V0z\" fill=\"none\"/>\n",
              "    <path d=\"M18.56 5.44l.94 2.06.94-2.06 2.06-.94-2.06-.94-.94-2.06-.94 2.06-2.06.94zm-11 1L8.5 8.5l.94-2.06 2.06-.94-2.06-.94L8.5 2.5l-.94 2.06-2.06.94zm10 10l.94 2.06.94-2.06 2.06-.94-2.06-.94-.94-2.06-.94 2.06-2.06.94z\"/><path d=\"M17.41 7.96l-1.37-1.37c-.4-.4-.92-.59-1.43-.59-.52 0-1.04.2-1.43.59L10.3 9.45l-7.72 7.72c-.78.78-.78 2.05 0 2.83L4 21.41c.39.39.9.59 1.41.59.51 0 1.02-.2 1.41-.59l7.78-7.78 2.81-2.81c.8-.78.8-2.07 0-2.86zM5.41 20L4 18.59l7.72-7.72 1.47 1.35L5.41 20z\"/>\n",
              "  </svg>\n",
              "      </button>\n",
              "      \n",
              "  <style>\n",
              "    .colab-df-container {\n",
              "      display:flex;\n",
              "      flex-wrap:wrap;\n",
              "      gap: 12px;\n",
              "    }\n",
              "\n",
              "    .colab-df-convert {\n",
              "      background-color: #E8F0FE;\n",
              "      border: none;\n",
              "      border-radius: 50%;\n",
              "      cursor: pointer;\n",
              "      display: none;\n",
              "      fill: #1967D2;\n",
              "      height: 32px;\n",
              "      padding: 0 0 0 0;\n",
              "      width: 32px;\n",
              "    }\n",
              "\n",
              "    .colab-df-convert:hover {\n",
              "      background-color: #E2EBFA;\n",
              "      box-shadow: 0px 1px 2px rgba(60, 64, 67, 0.3), 0px 1px 3px 1px rgba(60, 64, 67, 0.15);\n",
              "      fill: #174EA6;\n",
              "    }\n",
              "\n",
              "    [theme=dark] .colab-df-convert {\n",
              "      background-color: #3B4455;\n",
              "      fill: #D2E3FC;\n",
              "    }\n",
              "\n",
              "    [theme=dark] .colab-df-convert:hover {\n",
              "      background-color: #434B5C;\n",
              "      box-shadow: 0px 1px 3px 1px rgba(0, 0, 0, 0.15);\n",
              "      filter: drop-shadow(0px 1px 2px rgba(0, 0, 0, 0.3));\n",
              "      fill: #FFFFFF;\n",
              "    }\n",
              "  </style>\n",
              "\n",
              "      <script>\n",
              "        const buttonEl =\n",
              "          document.querySelector('#df-617bb3e8-ca30-4706-b872-01ad9aee9332 button.colab-df-convert');\n",
              "        buttonEl.style.display =\n",
              "          google.colab.kernel.accessAllowed ? 'block' : 'none';\n",
              "\n",
              "        async function convertToInteractive(key) {\n",
              "          const element = document.querySelector('#df-617bb3e8-ca30-4706-b872-01ad9aee9332');\n",
              "          const dataTable =\n",
              "            await google.colab.kernel.invokeFunction('convertToInteractive',\n",
              "                                                     [key], {});\n",
              "          if (!dataTable) return;\n",
              "\n",
              "          const docLinkHtml = 'Like what you see? Visit the ' +\n",
              "            '<a target=\"_blank\" href=https://colab.research.google.com/notebooks/data_table.ipynb>data table notebook</a>'\n",
              "            + ' to learn more about interactive tables.';\n",
              "          element.innerHTML = '';\n",
              "          dataTable['output_type'] = 'display_data';\n",
              "          await google.colab.output.renderOutput(dataTable, element);\n",
              "          const docLink = document.createElement('div');\n",
              "          docLink.innerHTML = docLinkHtml;\n",
              "          element.appendChild(docLink);\n",
              "        }\n",
              "      </script>\n",
              "    </div>\n",
              "  </div>\n",
              "  "
            ]
          },
          "metadata": {},
          "execution_count": 9
        }
      ],
      "source": [
        "# TODO: view `stations_df` (just the first 5 rows with .head() is fine)to make sure the import was successful\n",
        "stations_df.head()"
      ]
    },
    {
      "cell_type": "code",
      "execution_count": 10,
      "metadata": {
        "id": "hZJwhz1lx4ZV",
        "colab": {
          "base_uri": "https://localhost:8080/",
          "height": 270
        },
        "outputId": "20cfec8d-9c3f-434b-a6c8-b4291d728123"
      },
      "outputs": [
        {
          "output_type": "execute_result",
          "data": {
            "text/plain": [
              "       date  actual_mean_temp  actual_min_temp  actual_max_temp  \\\n",
              "0  1/1/2022                35               28               42   \n",
              "1  1/2/2022                37               29               44   \n",
              "2  1/3/2022                36               28               44   \n",
              "3  1/4/2022                50               42               58   \n",
              "4  1/5/2022                37               24               50   \n",
              "\n",
              "   average_min_temp  average_max_temp  record_min_temp  record_max_temp  \\\n",
              "0                27                41                4               64   \n",
              "1                26                41                7               67   \n",
              "2                26                41               -3               63   \n",
              "3                26                41                2               68   \n",
              "4                26                40               -2               66   \n",
              "\n",
              "   record_min_temp_year  record_max_temp_year  actual_precipitation  \\\n",
              "0                  1881                  2005                  0.00   \n",
              "1                  1968                  1876                  0.00   \n",
              "2                  1879                  2000                  0.72   \n",
              "3                  1918                  1950                  0.37   \n",
              "4                  1904                  1997                  0.00   \n",
              "\n",
              "   average_precipitation  record_precipitation  \n",
              "0                   0.09                  1.60  \n",
              "1                   0.10                  1.68  \n",
              "2                   0.09                  1.50  \n",
              "3                   0.10                  1.51  \n",
              "4                   0.10                  2.24  "
            ],
            "text/html": [
              "\n",
              "  <div id=\"df-acce5a1f-ebe3-4750-ac6a-cb0df7ca90b3\">\n",
              "    <div class=\"colab-df-container\">\n",
              "      <div>\n",
              "<style scoped>\n",
              "    .dataframe tbody tr th:only-of-type {\n",
              "        vertical-align: middle;\n",
              "    }\n",
              "\n",
              "    .dataframe tbody tr th {\n",
              "        vertical-align: top;\n",
              "    }\n",
              "\n",
              "    .dataframe thead th {\n",
              "        text-align: right;\n",
              "    }\n",
              "</style>\n",
              "<table border=\"1\" class=\"dataframe\">\n",
              "  <thead>\n",
              "    <tr style=\"text-align: right;\">\n",
              "      <th></th>\n",
              "      <th>date</th>\n",
              "      <th>actual_mean_temp</th>\n",
              "      <th>actual_min_temp</th>\n",
              "      <th>actual_max_temp</th>\n",
              "      <th>average_min_temp</th>\n",
              "      <th>average_max_temp</th>\n",
              "      <th>record_min_temp</th>\n",
              "      <th>record_max_temp</th>\n",
              "      <th>record_min_temp_year</th>\n",
              "      <th>record_max_temp_year</th>\n",
              "      <th>actual_precipitation</th>\n",
              "      <th>average_precipitation</th>\n",
              "      <th>record_precipitation</th>\n",
              "    </tr>\n",
              "  </thead>\n",
              "  <tbody>\n",
              "    <tr>\n",
              "      <th>0</th>\n",
              "      <td>1/1/2022</td>\n",
              "      <td>35</td>\n",
              "      <td>28</td>\n",
              "      <td>42</td>\n",
              "      <td>27</td>\n",
              "      <td>41</td>\n",
              "      <td>4</td>\n",
              "      <td>64</td>\n",
              "      <td>1881</td>\n",
              "      <td>2005</td>\n",
              "      <td>0.00</td>\n",
              "      <td>0.09</td>\n",
              "      <td>1.60</td>\n",
              "    </tr>\n",
              "    <tr>\n",
              "      <th>1</th>\n",
              "      <td>1/2/2022</td>\n",
              "      <td>37</td>\n",
              "      <td>29</td>\n",
              "      <td>44</td>\n",
              "      <td>26</td>\n",
              "      <td>41</td>\n",
              "      <td>7</td>\n",
              "      <td>67</td>\n",
              "      <td>1968</td>\n",
              "      <td>1876</td>\n",
              "      <td>0.00</td>\n",
              "      <td>0.10</td>\n",
              "      <td>1.68</td>\n",
              "    </tr>\n",
              "    <tr>\n",
              "      <th>2</th>\n",
              "      <td>1/3/2022</td>\n",
              "      <td>36</td>\n",
              "      <td>28</td>\n",
              "      <td>44</td>\n",
              "      <td>26</td>\n",
              "      <td>41</td>\n",
              "      <td>-3</td>\n",
              "      <td>63</td>\n",
              "      <td>1879</td>\n",
              "      <td>2000</td>\n",
              "      <td>0.72</td>\n",
              "      <td>0.09</td>\n",
              "      <td>1.50</td>\n",
              "    </tr>\n",
              "    <tr>\n",
              "      <th>3</th>\n",
              "      <td>1/4/2022</td>\n",
              "      <td>50</td>\n",
              "      <td>42</td>\n",
              "      <td>58</td>\n",
              "      <td>26</td>\n",
              "      <td>41</td>\n",
              "      <td>2</td>\n",
              "      <td>68</td>\n",
              "      <td>1918</td>\n",
              "      <td>1950</td>\n",
              "      <td>0.37</td>\n",
              "      <td>0.10</td>\n",
              "      <td>1.51</td>\n",
              "    </tr>\n",
              "    <tr>\n",
              "      <th>4</th>\n",
              "      <td>1/5/2022</td>\n",
              "      <td>37</td>\n",
              "      <td>24</td>\n",
              "      <td>50</td>\n",
              "      <td>26</td>\n",
              "      <td>40</td>\n",
              "      <td>-2</td>\n",
              "      <td>66</td>\n",
              "      <td>1904</td>\n",
              "      <td>1997</td>\n",
              "      <td>0.00</td>\n",
              "      <td>0.10</td>\n",
              "      <td>2.24</td>\n",
              "    </tr>\n",
              "  </tbody>\n",
              "</table>\n",
              "</div>\n",
              "      <button class=\"colab-df-convert\" onclick=\"convertToInteractive('df-acce5a1f-ebe3-4750-ac6a-cb0df7ca90b3')\"\n",
              "              title=\"Convert this dataframe to an interactive table.\"\n",
              "              style=\"display:none;\">\n",
              "        \n",
              "  <svg xmlns=\"http://www.w3.org/2000/svg\" height=\"24px\"viewBox=\"0 0 24 24\"\n",
              "       width=\"24px\">\n",
              "    <path d=\"M0 0h24v24H0V0z\" fill=\"none\"/>\n",
              "    <path d=\"M18.56 5.44l.94 2.06.94-2.06 2.06-.94-2.06-.94-.94-2.06-.94 2.06-2.06.94zm-11 1L8.5 8.5l.94-2.06 2.06-.94-2.06-.94L8.5 2.5l-.94 2.06-2.06.94zm10 10l.94 2.06.94-2.06 2.06-.94-2.06-.94-.94-2.06-.94 2.06-2.06.94z\"/><path d=\"M17.41 7.96l-1.37-1.37c-.4-.4-.92-.59-1.43-.59-.52 0-1.04.2-1.43.59L10.3 9.45l-7.72 7.72c-.78.78-.78 2.05 0 2.83L4 21.41c.39.39.9.59 1.41.59.51 0 1.02-.2 1.41-.59l7.78-7.78 2.81-2.81c.8-.78.8-2.07 0-2.86zM5.41 20L4 18.59l7.72-7.72 1.47 1.35L5.41 20z\"/>\n",
              "  </svg>\n",
              "      </button>\n",
              "      \n",
              "  <style>\n",
              "    .colab-df-container {\n",
              "      display:flex;\n",
              "      flex-wrap:wrap;\n",
              "      gap: 12px;\n",
              "    }\n",
              "\n",
              "    .colab-df-convert {\n",
              "      background-color: #E8F0FE;\n",
              "      border: none;\n",
              "      border-radius: 50%;\n",
              "      cursor: pointer;\n",
              "      display: none;\n",
              "      fill: #1967D2;\n",
              "      height: 32px;\n",
              "      padding: 0 0 0 0;\n",
              "      width: 32px;\n",
              "    }\n",
              "\n",
              "    .colab-df-convert:hover {\n",
              "      background-color: #E2EBFA;\n",
              "      box-shadow: 0px 1px 2px rgba(60, 64, 67, 0.3), 0px 1px 3px 1px rgba(60, 64, 67, 0.15);\n",
              "      fill: #174EA6;\n",
              "    }\n",
              "\n",
              "    [theme=dark] .colab-df-convert {\n",
              "      background-color: #3B4455;\n",
              "      fill: #D2E3FC;\n",
              "    }\n",
              "\n",
              "    [theme=dark] .colab-df-convert:hover {\n",
              "      background-color: #434B5C;\n",
              "      box-shadow: 0px 1px 3px 1px rgba(0, 0, 0, 0.15);\n",
              "      filter: drop-shadow(0px 1px 2px rgba(0, 0, 0, 0.3));\n",
              "      fill: #FFFFFF;\n",
              "    }\n",
              "  </style>\n",
              "\n",
              "      <script>\n",
              "        const buttonEl =\n",
              "          document.querySelector('#df-acce5a1f-ebe3-4750-ac6a-cb0df7ca90b3 button.colab-df-convert');\n",
              "        buttonEl.style.display =\n",
              "          google.colab.kernel.accessAllowed ? 'block' : 'none';\n",
              "\n",
              "        async function convertToInteractive(key) {\n",
              "          const element = document.querySelector('#df-acce5a1f-ebe3-4750-ac6a-cb0df7ca90b3');\n",
              "          const dataTable =\n",
              "            await google.colab.kernel.invokeFunction('convertToInteractive',\n",
              "                                                     [key], {});\n",
              "          if (!dataTable) return;\n",
              "\n",
              "          const docLinkHtml = 'Like what you see? Visit the ' +\n",
              "            '<a target=\"_blank\" href=https://colab.research.google.com/notebooks/data_table.ipynb>data table notebook</a>'\n",
              "            + ' to learn more about interactive tables.';\n",
              "          element.innerHTML = '';\n",
              "          dataTable['output_type'] = 'display_data';\n",
              "          await google.colab.output.renderOutput(dataTable, element);\n",
              "          const docLink = document.createElement('div');\n",
              "          docLink.innerHTML = docLinkHtml;\n",
              "          element.appendChild(docLink);\n",
              "        }\n",
              "      </script>\n",
              "    </div>\n",
              "  </div>\n",
              "  "
            ]
          },
          "metadata": {},
          "execution_count": 10
        }
      ],
      "source": [
        "# TODO: view `weather_df` (just the first 5 rows with .head() is fine)to make sure the import was successful\n",
        "weather_df.head()"
      ]
    },
    {
      "cell_type": "code",
      "source": [
        "# TODO: view `reviews_df` (just the first 5 rows with .head() is fine)to make sure the import was successful\n",
        "reviews_df.head()"
      ],
      "metadata": {
        "id": "FuxEO2U6VCNA",
        "colab": {
          "base_uri": "https://localhost:8080/",
          "height": 206
        },
        "outputId": "b121ded3-2468-4a15-c80c-a053f8a850a4"
      },
      "execution_count": 11,
      "outputs": [
        {
          "output_type": "execute_result",
          "data": {
            "text/plain": [
              "          restaurant                                             review  zone\n",
              "0  Gloria Restaurant  Today is the third time I've come to Gloria Re...     1\n",
              "1  Gloria Restaurant  I have been to Gloria Restaurant a couple time...     1\n",
              "2  Gloria Restaurant  Last Saturday I went to this restaurant hoping...     1\n",
              "3  Gloria Restaurant  First off, let me say I have never been to the...     1\n",
              "4  Gloria Restaurant  I've been coming here for a while now and I wa...     1"
            ],
            "text/html": [
              "\n",
              "  <div id=\"df-5e156a2c-b6da-40be-83a4-da40fe7bb6f8\">\n",
              "    <div class=\"colab-df-container\">\n",
              "      <div>\n",
              "<style scoped>\n",
              "    .dataframe tbody tr th:only-of-type {\n",
              "        vertical-align: middle;\n",
              "    }\n",
              "\n",
              "    .dataframe tbody tr th {\n",
              "        vertical-align: top;\n",
              "    }\n",
              "\n",
              "    .dataframe thead th {\n",
              "        text-align: right;\n",
              "    }\n",
              "</style>\n",
              "<table border=\"1\" class=\"dataframe\">\n",
              "  <thead>\n",
              "    <tr style=\"text-align: right;\">\n",
              "      <th></th>\n",
              "      <th>restaurant</th>\n",
              "      <th>review</th>\n",
              "      <th>zone</th>\n",
              "    </tr>\n",
              "  </thead>\n",
              "  <tbody>\n",
              "    <tr>\n",
              "      <th>0</th>\n",
              "      <td>Gloria Restaurant</td>\n",
              "      <td>Today is the third time I've come to Gloria Re...</td>\n",
              "      <td>1</td>\n",
              "    </tr>\n",
              "    <tr>\n",
              "      <th>1</th>\n",
              "      <td>Gloria Restaurant</td>\n",
              "      <td>I have been to Gloria Restaurant a couple time...</td>\n",
              "      <td>1</td>\n",
              "    </tr>\n",
              "    <tr>\n",
              "      <th>2</th>\n",
              "      <td>Gloria Restaurant</td>\n",
              "      <td>Last Saturday I went to this restaurant hoping...</td>\n",
              "      <td>1</td>\n",
              "    </tr>\n",
              "    <tr>\n",
              "      <th>3</th>\n",
              "      <td>Gloria Restaurant</td>\n",
              "      <td>First off, let me say I have never been to the...</td>\n",
              "      <td>1</td>\n",
              "    </tr>\n",
              "    <tr>\n",
              "      <th>4</th>\n",
              "      <td>Gloria Restaurant</td>\n",
              "      <td>I've been coming here for a while now and I wa...</td>\n",
              "      <td>1</td>\n",
              "    </tr>\n",
              "  </tbody>\n",
              "</table>\n",
              "</div>\n",
              "      <button class=\"colab-df-convert\" onclick=\"convertToInteractive('df-5e156a2c-b6da-40be-83a4-da40fe7bb6f8')\"\n",
              "              title=\"Convert this dataframe to an interactive table.\"\n",
              "              style=\"display:none;\">\n",
              "        \n",
              "  <svg xmlns=\"http://www.w3.org/2000/svg\" height=\"24px\"viewBox=\"0 0 24 24\"\n",
              "       width=\"24px\">\n",
              "    <path d=\"M0 0h24v24H0V0z\" fill=\"none\"/>\n",
              "    <path d=\"M18.56 5.44l.94 2.06.94-2.06 2.06-.94-2.06-.94-.94-2.06-.94 2.06-2.06.94zm-11 1L8.5 8.5l.94-2.06 2.06-.94-2.06-.94L8.5 2.5l-.94 2.06-2.06.94zm10 10l.94 2.06.94-2.06 2.06-.94-2.06-.94-.94-2.06-.94 2.06-2.06.94z\"/><path d=\"M17.41 7.96l-1.37-1.37c-.4-.4-.92-.59-1.43-.59-.52 0-1.04.2-1.43.59L10.3 9.45l-7.72 7.72c-.78.78-.78 2.05 0 2.83L4 21.41c.39.39.9.59 1.41.59.51 0 1.02-.2 1.41-.59l7.78-7.78 2.81-2.81c.8-.78.8-2.07 0-2.86zM5.41 20L4 18.59l7.72-7.72 1.47 1.35L5.41 20z\"/>\n",
              "  </svg>\n",
              "      </button>\n",
              "      \n",
              "  <style>\n",
              "    .colab-df-container {\n",
              "      display:flex;\n",
              "      flex-wrap:wrap;\n",
              "      gap: 12px;\n",
              "    }\n",
              "\n",
              "    .colab-df-convert {\n",
              "      background-color: #E8F0FE;\n",
              "      border: none;\n",
              "      border-radius: 50%;\n",
              "      cursor: pointer;\n",
              "      display: none;\n",
              "      fill: #1967D2;\n",
              "      height: 32px;\n",
              "      padding: 0 0 0 0;\n",
              "      width: 32px;\n",
              "    }\n",
              "\n",
              "    .colab-df-convert:hover {\n",
              "      background-color: #E2EBFA;\n",
              "      box-shadow: 0px 1px 2px rgba(60, 64, 67, 0.3), 0px 1px 3px 1px rgba(60, 64, 67, 0.15);\n",
              "      fill: #174EA6;\n",
              "    }\n",
              "\n",
              "    [theme=dark] .colab-df-convert {\n",
              "      background-color: #3B4455;\n",
              "      fill: #D2E3FC;\n",
              "    }\n",
              "\n",
              "    [theme=dark] .colab-df-convert:hover {\n",
              "      background-color: #434B5C;\n",
              "      box-shadow: 0px 1px 3px 1px rgba(0, 0, 0, 0.15);\n",
              "      filter: drop-shadow(0px 1px 2px rgba(0, 0, 0, 0.3));\n",
              "      fill: #FFFFFF;\n",
              "    }\n",
              "  </style>\n",
              "\n",
              "      <script>\n",
              "        const buttonEl =\n",
              "          document.querySelector('#df-5e156a2c-b6da-40be-83a4-da40fe7bb6f8 button.colab-df-convert');\n",
              "        buttonEl.style.display =\n",
              "          google.colab.kernel.accessAllowed ? 'block' : 'none';\n",
              "\n",
              "        async function convertToInteractive(key) {\n",
              "          const element = document.querySelector('#df-5e156a2c-b6da-40be-83a4-da40fe7bb6f8');\n",
              "          const dataTable =\n",
              "            await google.colab.kernel.invokeFunction('convertToInteractive',\n",
              "                                                     [key], {});\n",
              "          if (!dataTable) return;\n",
              "\n",
              "          const docLinkHtml = 'Like what you see? Visit the ' +\n",
              "            '<a target=\"_blank\" href=https://colab.research.google.com/notebooks/data_table.ipynb>data table notebook</a>'\n",
              "            + ' to learn more about interactive tables.';\n",
              "          element.innerHTML = '';\n",
              "          dataTable['output_type'] = 'display_data';\n",
              "          await google.colab.output.renderOutput(dataTable, element);\n",
              "          const docLink = document.createElement('div');\n",
              "          docLink.innerHTML = docLinkHtml;\n",
              "          element.appendChild(docLink);\n",
              "        }\n",
              "      </script>\n",
              "    </div>\n",
              "  </div>\n",
              "  "
            ]
          },
          "metadata": {},
          "execution_count": 11
        }
      ]
    },
    {
      "cell_type": "markdown",
      "metadata": {
        "id": "CPitr7eRJfO0"
      },
      "source": [
        "### 1.1 Data Preprocessing\n",
        "\n",
        "Next, we are going to want to clean up our dataframes, namely `trips_df` and `stations_df`, by \n",
        "\n",
        "1.   Fixing columns\n",
        "2.   Changing datatypes\n",
        "3.   Handling nulls\n",
        "\n",
        "\n",
        "First, let us view the first few rows of `trips_df`. You may also call `.info()` and additionally check the cardinality of each column to view the specifics of the dataframe. This is a good first step to take for Exploratory Data Analysis (EDA)."
      ]
    },
    {
      "cell_type": "code",
      "execution_count": 12,
      "metadata": {
        "id": "2nCrp9Z2SCRD",
        "colab": {
          "base_uri": "https://localhost:8080/"
        },
        "outputId": "2024e5db-3f8f-4379-f868-652aeeb591cc"
      },
      "outputs": [
        {
          "output_type": "stream",
          "name": "stdout",
          "text": [
            "<class 'pandas.core.frame.DataFrame'>\n",
            "RangeIndex: 15502 entries, 0 to 15501\n",
            "Data columns (total 15 columns):\n",
            " #   Column               Non-Null Count  Dtype  \n",
            "---  ------               --------------  -----  \n",
            " 0   trip_id              15502 non-null  int64  \n",
            " 1   duration             15502 non-null  int64  \n",
            " 2   start_time           15502 non-null  object \n",
            " 3   end_time             15502 non-null  object \n",
            " 4   start_station        15477 non-null  float64\n",
            " 5   start_lat            15477 non-null  float64\n",
            " 6   start_lon            15477 non-null  float64\n",
            " 7   end_station          15477 non-null  float64\n",
            " 8   end_lat              15255 non-null  float64\n",
            " 9   end_lon              15255 non-null  float64\n",
            " 10  bike_id              15477 non-null  object \n",
            " 11  plan_duration        15477 non-null  float64\n",
            " 12  trip_route_category  15477 non-null  object \n",
            " 13  passholder_type      15477 non-null  object \n",
            " 14  bike_type            15477 non-null  object \n",
            "dtypes: float64(7), int64(2), object(6)\n",
            "memory usage: 1.8+ MB\n"
          ]
        }
      ],
      "source": [
        "# view the .info() information for trips_df\n",
        "trips_df.info()"
      ]
    },
    {
      "cell_type": "markdown",
      "metadata": {
        "id": "c-ukI21sPkYV"
      },
      "source": [
        "#### 1.1.1 Cleaning `trips_df` (4 points)\n",
        "\n",
        "`.info()` gives us meaningful information regarding columns, their types, and the amount of nulls, based on which we can now clean our dataframe. \n",
        "\n",
        "Perform these steps and save results on a new dataframe: `trips_cleaned_df` \n",
        "\n",
        "**TODO**:\n",
        "* Drop the column `plan_duration`. We already have that information in the column `passholder_type`, which is more understandable.\n",
        "* Drop the rows where `end_station` is 3000. This is a virtual station used for maintainance, and doesn't represent a real trip.\n",
        "* Drop all rows with null values.\n",
        "* Cast the columns:\n",
        "  -  `start_time`, `end_time`, `trip_route_category`, `passholder_type`, `bike_type` as **string**. (Cast to 'string' and not 'str') \n",
        "  - `bike_id` as **int**.\n",
        "* Save results as `trips_cleaned_df` and sort it by `trip_id` ascending\n",
        "\n",
        "After performing these steps, `trips_cleaned_df` should have the following schema:\n",
        "\n",
        "**Final Schema**:\n",
        ">trip_id | duration | start_time | end_time | start_station | start_lat | start_lon | end_station |  end_lat | end_lon |  bike_id | trip_route_category | passholder_type | bike_type\n",
        ">--- | --- | --- |--- | --- | --- | --- |--- | --- | --- |--- |--- | --- | --- |"
      ]
    },
    {
      "cell_type": "code",
      "execution_count": 13,
      "metadata": {
        "id": "cMmQTXV7P4YK"
      },
      "outputs": [],
      "source": [
        "# TO-DO: drop the plan_duration column\n",
        "trips_cleaned_df = trips_df.drop(\"plan_duration\", axis = 1)"
      ]
    },
    {
      "cell_type": "code",
      "source": [
        "# TO-DO: drop rows with end_station = 3000\n",
        "trips_cleaned_df = trips_cleaned_df[trips_cleaned_df[\"end_station\"] != 3000]"
      ],
      "metadata": {
        "id": "4QDdAb9es2Lw"
      },
      "execution_count": 14,
      "outputs": []
    },
    {
      "cell_type": "code",
      "source": [
        "# TO-DO: drop nulls\n",
        "trips_cleaned_df.dropna(inplace = True)"
      ],
      "metadata": {
        "id": "TZmxq-d_s1zR"
      },
      "execution_count": 15,
      "outputs": []
    },
    {
      "cell_type": "code",
      "source": [
        "# TO-DO: cast columns as indicated types\n",
        "trips_cleaned_df[[\"start_time\", \"end_time\", \"trip_route_category\", \"passholder_type\", \"bike_type\"]] =\\\n",
        "  trips_cleaned_df[[\"start_time\", \"end_time\", \"trip_route_category\", \"passholder_type\", \"bike_type\"]].astype(\"string\")\n",
        "\n",
        "trips_cleaned_df[\"bike_id\"] = trips_cleaned_df[\"bike_id\"].astype(int)"
      ],
      "metadata": {
        "id": "gwmG8EDds1VH"
      },
      "execution_count": 16,
      "outputs": []
    },
    {
      "cell_type": "code",
      "source": [
        "#TO-DO: save changes to trips_cleaned_df that is sorted by 'trip_id' \n",
        "trips_cleaned_df = trips_cleaned_df.sort_values(\"trip_id\", ascending = True).reset_index(drop = True)"
      ],
      "metadata": {
        "id": "XTOBCFtPROG-"
      },
      "execution_count": 17,
      "outputs": []
    },
    {
      "cell_type": "code",
      "execution_count": 18,
      "metadata": {
        "id": "9SYxGtgOQKLY",
        "colab": {
          "base_uri": "https://localhost:8080/"
        },
        "outputId": "f4aa3fec-9db8-44f8-d578-5c233ea72cc7"
      },
      "outputs": [
        {
          "output_type": "stream",
          "name": "stdout",
          "text": [
            "Correct! You earned 4/4 points. You are a star!\n",
            "\n",
            "Your submission has been successfully recorded in the gradebook.\n"
          ]
        }
      ],
      "source": [
        "# 4 points\n",
        "grader.grade(test_case_id = 'test_cleaning_trips', answer = [len(trips_cleaned_df), trips_cleaned_df.head()])"
      ]
    },
    {
      "cell_type": "markdown",
      "metadata": {
        "id": "aI_zsI3hNJCf"
      },
      "source": [
        "#### 1.1.2 Processing Stations (3 points)\n",
        "\n",
        "`stations_df` contains information on Indego stations across the city. We will clean this df by removing Inactive stations and stations created after October 2022.\n",
        "\n",
        "Perform these steps and assign the cleaned dataframe to `stations_cleaned_df`.\n",
        "\n",
        "**TODO**:\n",
        "* **Cast** column `day_of_go_live_date` as datetime64[ns].\n",
        "* **Drop** the stations that were created **after 10/7/2022** (i.e. we want to keep the ones on or before 10/7/2022)\n",
        "* **Drop** the stations that have an **Inactive** status.\n",
        "* **Drop** the columns `day_of_go_live_date` and `status`\n",
        "* **Create** a new column called `is_west_philly` that is True if zone is 2 or 3 and False otherwise.\n",
        "* **Save** the resulting dataframe as `stations_cleaned_df`, and sort it by `station_id` ascending\n",
        "\n",
        "\n",
        "After performing these steps, `stations_cleaned_df` should have the following schema:\n",
        "\n",
        "**Final Schema**:\n",
        ">station_id | station_name | zone | is_west_philly\n",
        ">--- | --- | --- |--- |"
      ]
    },
    {
      "cell_type": "code",
      "execution_count": 19,
      "metadata": {
        "id": "ZOfBFzD7NK8i"
      },
      "outputs": [],
      "source": [
        "# TO-DO: Your code goes below. We recommend creating code comments for each of the bullets above (like we did for you in 1.1.1)"
      ]
    },
    {
      "cell_type": "code",
      "source": [
        "# Cast column day_of_go_live_date as datetime64[ns].\n",
        "stations_cleaned_df = stations_df.copy()\n",
        "stations_cleaned_df[\"day_of_go_live_date\"] = pd.to_datetime(stations_cleaned_df[\"day_of_go_live_date\"])"
      ],
      "metadata": {
        "id": "wrN_W6T-7xNC"
      },
      "execution_count": 20,
      "outputs": []
    },
    {
      "cell_type": "code",
      "source": [
        "# Drop the stations that were created after 10/7/2022 (i.e. we want to keep the ones on or before 10/7/2022)\n",
        "stations_cleaned_df = stations_cleaned_df[stations_cleaned_df[\"day_of_go_live_date\"] <= \"2022-10-07\"]"
      ],
      "metadata": {
        "id": "S0JOMvVQ8W_h"
      },
      "execution_count": 21,
      "outputs": []
    },
    {
      "cell_type": "code",
      "source": [
        "# Drop the stations that have an Inactive status.\n",
        "stations_cleaned_df = stations_cleaned_df[stations_cleaned_df[\"status\"] == \"Active\"]"
      ],
      "metadata": {
        "id": "y_xuvCup89rA"
      },
      "execution_count": 22,
      "outputs": []
    },
    {
      "cell_type": "code",
      "source": [
        "# Drop the columns day_of_go_live_date and status\n",
        "stations_cleaned_df.drop([\"day_of_go_live_date\", \"status\"], axis = 1, inplace = True)"
      ],
      "metadata": {
        "id": "wRnos2aZ9RFt"
      },
      "execution_count": 23,
      "outputs": []
    },
    {
      "cell_type": "code",
      "source": [
        "# Create a new column called is_west_philly that is True if zone is 2 or 3 and False otherwise.\n",
        "stations_cleaned_df[\"is_west_philly\"] = \\\n",
        "  stations_cleaned_df[\"zone\"].apply(lambda x: True if (x == 2 or x == 3) else False)"
      ],
      "metadata": {
        "id": "NY0lANvO9ZK5"
      },
      "execution_count": 24,
      "outputs": []
    },
    {
      "cell_type": "code",
      "source": [
        "# Save the resulting dataframe as stations_cleaned_df, and sort it by station_id ascending\n",
        "stations_cleaned_df.sort_values(\"station_id\", ascending = True, inplace = True)"
      ],
      "metadata": {
        "id": "a_419fUu8efg"
      },
      "execution_count": 25,
      "outputs": []
    },
    {
      "cell_type": "code",
      "execution_count": 26,
      "metadata": {
        "id": "sKA2_ScM6nWv",
        "colab": {
          "base_uri": "https://localhost:8080/"
        },
        "outputId": "0f874cc4-5c03-4ed6-9a01-639404b04732"
      },
      "outputs": [
        {
          "output_type": "stream",
          "name": "stdout",
          "text": [
            "Correct! You earned 3/3 points. You are a star!\n",
            "\n",
            "Your submission has been successfully recorded in the gradebook.\n"
          ]
        }
      ],
      "source": [
        "# 3 points\n",
        "grader.grade(test_case_id = 'test_stations_processing', answer = (len(stations_cleaned_df), stations_cleaned_df.head()))"
      ]
    },
    {
      "cell_type": "markdown",
      "metadata": {
        "id": "38JSvyEGCGYN"
      },
      "source": [
        "#### 1.1.3 Cleaning the weather (3 points)\n",
        "Then, let's clean `weather_df` and make it usable."
      ]
    },
    {
      "cell_type": "code",
      "execution_count": 27,
      "metadata": {
        "id": "vKv7Gdi_CGYQ",
        "colab": {
          "base_uri": "https://localhost:8080/"
        },
        "outputId": "1bf62bc5-46b9-4ae8-e617-7a9d18ab6d59"
      },
      "outputs": [
        {
          "output_type": "stream",
          "name": "stdout",
          "text": [
            "<class 'pandas.core.frame.DataFrame'>\n",
            "RangeIndex: 365 entries, 0 to 364\n",
            "Data columns (total 13 columns):\n",
            " #   Column                 Non-Null Count  Dtype  \n",
            "---  ------                 --------------  -----  \n",
            " 0   date                   365 non-null    object \n",
            " 1   actual_mean_temp       365 non-null    int64  \n",
            " 2   actual_min_temp        365 non-null    int64  \n",
            " 3   actual_max_temp        365 non-null    int64  \n",
            " 4   average_min_temp       365 non-null    int64  \n",
            " 5   average_max_temp       365 non-null    int64  \n",
            " 6   record_min_temp        365 non-null    int64  \n",
            " 7   record_max_temp        365 non-null    int64  \n",
            " 8   record_min_temp_year   365 non-null    int64  \n",
            " 9   record_max_temp_year   365 non-null    int64  \n",
            " 10  actual_precipitation   365 non-null    float64\n",
            " 11  average_precipitation  365 non-null    float64\n",
            " 12  record_precipitation   365 non-null    float64\n",
            "dtypes: float64(3), int64(9), object(1)\n",
            "memory usage: 37.2+ KB\n"
          ]
        }
      ],
      "source": [
        "# view .info() of weather_df to sense check it\n",
        "weather_df.info()"
      ]
    },
    {
      "cell_type": "markdown",
      "metadata": {
        "id": "Cz3Xx84WCGYU"
      },
      "source": [
        "\n",
        "**TO-DO**:\n",
        "* Create `weather_cleaned_df` and only keep the following 5 columns:\n",
        "     * `date`, `actual_mean_temp`, `actual_min_temp`, `actual_max_temp`, `actual_precipitation`\n",
        "* Convert column `date` into type `datetime64[ns]`.\n",
        "* Keep only the rows from 9/1/2022 to 10/31/2022, inclusive.\n",
        "* Sort by column `date` descending.\n",
        "\n",
        "After performing these steps, `weather_cleaned_df` should have the following schema:\n",
        "\n",
        "**Final Schema**:\n",
        ">date | actual_mean_temp | actual_min_temp | actual_max_temp | actual_precipitation\n",
        ">--- | --- | --- |--- |--- |"
      ]
    },
    {
      "cell_type": "code",
      "execution_count": 28,
      "metadata": {
        "id": "GfBTqJs3CGYV",
        "colab": {
          "base_uri": "https://localhost:8080/"
        },
        "outputId": "bb71d508-1200-46b7-9dbe-d3d032bdeeba"
      },
      "outputs": [
        {
          "output_type": "stream",
          "name": "stderr",
          "text": [
            "<ipython-input-28-471aea759cdb>:3: SettingWithCopyWarning: \n",
            "A value is trying to be set on a copy of a slice from a DataFrame.\n",
            "Try using .loc[row_indexer,col_indexer] = value instead\n",
            "\n",
            "See the caveats in the documentation: https://pandas.pydata.org/pandas-docs/stable/user_guide/indexing.html#returning-a-view-versus-a-copy\n",
            "  weather_cleaned_df[\"date\"] = pd.to_datetime(weather_cleaned_df[\"date\"])\n"
          ]
        }
      ],
      "source": [
        "#TO-DO: clean up the weather_df \n",
        "weather_cleaned_df = weather_df[[\"date\", \"actual_mean_temp\", \"actual_min_temp\", \"actual_max_temp\", \"actual_precipitation\"]]\n",
        "weather_cleaned_df[\"date\"] = pd.to_datetime(weather_cleaned_df[\"date\"])"
      ]
    },
    {
      "cell_type": "code",
      "source": [
        "weather_cleaned_df.head()"
      ],
      "metadata": {
        "colab": {
          "base_uri": "https://localhost:8080/",
          "height": 206
        },
        "id": "4aly8o_D_nQ1",
        "outputId": "5e28bed1-dc89-42ef-92a6-338ab88c4f3d"
      },
      "execution_count": 29,
      "outputs": [
        {
          "output_type": "execute_result",
          "data": {
            "text/plain": [
              "        date  actual_mean_temp  actual_min_temp  actual_max_temp  \\\n",
              "0 2022-01-01                35               28               42   \n",
              "1 2022-01-02                37               29               44   \n",
              "2 2022-01-03                36               28               44   \n",
              "3 2022-01-04                50               42               58   \n",
              "4 2022-01-05                37               24               50   \n",
              "\n",
              "   actual_precipitation  \n",
              "0                  0.00  \n",
              "1                  0.00  \n",
              "2                  0.72  \n",
              "3                  0.37  \n",
              "4                  0.00  "
            ],
            "text/html": [
              "\n",
              "  <div id=\"df-f63688d9-9c84-4a41-b381-065b03566d6e\">\n",
              "    <div class=\"colab-df-container\">\n",
              "      <div>\n",
              "<style scoped>\n",
              "    .dataframe tbody tr th:only-of-type {\n",
              "        vertical-align: middle;\n",
              "    }\n",
              "\n",
              "    .dataframe tbody tr th {\n",
              "        vertical-align: top;\n",
              "    }\n",
              "\n",
              "    .dataframe thead th {\n",
              "        text-align: right;\n",
              "    }\n",
              "</style>\n",
              "<table border=\"1\" class=\"dataframe\">\n",
              "  <thead>\n",
              "    <tr style=\"text-align: right;\">\n",
              "      <th></th>\n",
              "      <th>date</th>\n",
              "      <th>actual_mean_temp</th>\n",
              "      <th>actual_min_temp</th>\n",
              "      <th>actual_max_temp</th>\n",
              "      <th>actual_precipitation</th>\n",
              "    </tr>\n",
              "  </thead>\n",
              "  <tbody>\n",
              "    <tr>\n",
              "      <th>0</th>\n",
              "      <td>2022-01-01</td>\n",
              "      <td>35</td>\n",
              "      <td>28</td>\n",
              "      <td>42</td>\n",
              "      <td>0.00</td>\n",
              "    </tr>\n",
              "    <tr>\n",
              "      <th>1</th>\n",
              "      <td>2022-01-02</td>\n",
              "      <td>37</td>\n",
              "      <td>29</td>\n",
              "      <td>44</td>\n",
              "      <td>0.00</td>\n",
              "    </tr>\n",
              "    <tr>\n",
              "      <th>2</th>\n",
              "      <td>2022-01-03</td>\n",
              "      <td>36</td>\n",
              "      <td>28</td>\n",
              "      <td>44</td>\n",
              "      <td>0.72</td>\n",
              "    </tr>\n",
              "    <tr>\n",
              "      <th>3</th>\n",
              "      <td>2022-01-04</td>\n",
              "      <td>50</td>\n",
              "      <td>42</td>\n",
              "      <td>58</td>\n",
              "      <td>0.37</td>\n",
              "    </tr>\n",
              "    <tr>\n",
              "      <th>4</th>\n",
              "      <td>2022-01-05</td>\n",
              "      <td>37</td>\n",
              "      <td>24</td>\n",
              "      <td>50</td>\n",
              "      <td>0.00</td>\n",
              "    </tr>\n",
              "  </tbody>\n",
              "</table>\n",
              "</div>\n",
              "      <button class=\"colab-df-convert\" onclick=\"convertToInteractive('df-f63688d9-9c84-4a41-b381-065b03566d6e')\"\n",
              "              title=\"Convert this dataframe to an interactive table.\"\n",
              "              style=\"display:none;\">\n",
              "        \n",
              "  <svg xmlns=\"http://www.w3.org/2000/svg\" height=\"24px\"viewBox=\"0 0 24 24\"\n",
              "       width=\"24px\">\n",
              "    <path d=\"M0 0h24v24H0V0z\" fill=\"none\"/>\n",
              "    <path d=\"M18.56 5.44l.94 2.06.94-2.06 2.06-.94-2.06-.94-.94-2.06-.94 2.06-2.06.94zm-11 1L8.5 8.5l.94-2.06 2.06-.94-2.06-.94L8.5 2.5l-.94 2.06-2.06.94zm10 10l.94 2.06.94-2.06 2.06-.94-2.06-.94-.94-2.06-.94 2.06-2.06.94z\"/><path d=\"M17.41 7.96l-1.37-1.37c-.4-.4-.92-.59-1.43-.59-.52 0-1.04.2-1.43.59L10.3 9.45l-7.72 7.72c-.78.78-.78 2.05 0 2.83L4 21.41c.39.39.9.59 1.41.59.51 0 1.02-.2 1.41-.59l7.78-7.78 2.81-2.81c.8-.78.8-2.07 0-2.86zM5.41 20L4 18.59l7.72-7.72 1.47 1.35L5.41 20z\"/>\n",
              "  </svg>\n",
              "      </button>\n",
              "      \n",
              "  <style>\n",
              "    .colab-df-container {\n",
              "      display:flex;\n",
              "      flex-wrap:wrap;\n",
              "      gap: 12px;\n",
              "    }\n",
              "\n",
              "    .colab-df-convert {\n",
              "      background-color: #E8F0FE;\n",
              "      border: none;\n",
              "      border-radius: 50%;\n",
              "      cursor: pointer;\n",
              "      display: none;\n",
              "      fill: #1967D2;\n",
              "      height: 32px;\n",
              "      padding: 0 0 0 0;\n",
              "      width: 32px;\n",
              "    }\n",
              "\n",
              "    .colab-df-convert:hover {\n",
              "      background-color: #E2EBFA;\n",
              "      box-shadow: 0px 1px 2px rgba(60, 64, 67, 0.3), 0px 1px 3px 1px rgba(60, 64, 67, 0.15);\n",
              "      fill: #174EA6;\n",
              "    }\n",
              "\n",
              "    [theme=dark] .colab-df-convert {\n",
              "      background-color: #3B4455;\n",
              "      fill: #D2E3FC;\n",
              "    }\n",
              "\n",
              "    [theme=dark] .colab-df-convert:hover {\n",
              "      background-color: #434B5C;\n",
              "      box-shadow: 0px 1px 3px 1px rgba(0, 0, 0, 0.15);\n",
              "      filter: drop-shadow(0px 1px 2px rgba(0, 0, 0, 0.3));\n",
              "      fill: #FFFFFF;\n",
              "    }\n",
              "  </style>\n",
              "\n",
              "      <script>\n",
              "        const buttonEl =\n",
              "          document.querySelector('#df-f63688d9-9c84-4a41-b381-065b03566d6e button.colab-df-convert');\n",
              "        buttonEl.style.display =\n",
              "          google.colab.kernel.accessAllowed ? 'block' : 'none';\n",
              "\n",
              "        async function convertToInteractive(key) {\n",
              "          const element = document.querySelector('#df-f63688d9-9c84-4a41-b381-065b03566d6e');\n",
              "          const dataTable =\n",
              "            await google.colab.kernel.invokeFunction('convertToInteractive',\n",
              "                                                     [key], {});\n",
              "          if (!dataTable) return;\n",
              "\n",
              "          const docLinkHtml = 'Like what you see? Visit the ' +\n",
              "            '<a target=\"_blank\" href=https://colab.research.google.com/notebooks/data_table.ipynb>data table notebook</a>'\n",
              "            + ' to learn more about interactive tables.';\n",
              "          element.innerHTML = '';\n",
              "          dataTable['output_type'] = 'display_data';\n",
              "          await google.colab.output.renderOutput(dataTable, element);\n",
              "          const docLink = document.createElement('div');\n",
              "          docLink.innerHTML = docLinkHtml;\n",
              "          element.appendChild(docLink);\n",
              "        }\n",
              "      </script>\n",
              "    </div>\n",
              "  </div>\n",
              "  "
            ]
          },
          "metadata": {},
          "execution_count": 29
        }
      ]
    },
    {
      "cell_type": "code",
      "source": [
        "import numpy as np"
      ],
      "metadata": {
        "id": "DlGbg0dxAIem"
      },
      "execution_count": 30,
      "outputs": []
    },
    {
      "cell_type": "code",
      "source": [
        "# Keep only the rows from 9/1/2022 to 10/31/2022, inclusive.\n",
        "weather_cleaned_df = weather_cleaned_df[np.logical_and(weather_cleaned_df[\"date\"] >= \"2022-09-01\",\\\n",
        "                                                       weather_cleaned_df[\"date\"] <= \"2022-10-31\")]"
      ],
      "metadata": {
        "id": "cT-S83NPAPqv"
      },
      "execution_count": 31,
      "outputs": []
    },
    {
      "cell_type": "code",
      "source": [
        "# Sort by column date descending.\n",
        "weather_cleaned_df.sort_values(\"date\", ascending = True, inplace = True)"
      ],
      "metadata": {
        "id": "8UQsVITEAwlP"
      },
      "execution_count": 32,
      "outputs": []
    },
    {
      "cell_type": "code",
      "execution_count": 33,
      "metadata": {
        "id": "PacFnS9JCGYW",
        "colab": {
          "base_uri": "https://localhost:8080/"
        },
        "outputId": "838eb542-e757-4891-b238-2e8a8629b83d"
      },
      "outputs": [
        {
          "output_type": "stream",
          "name": "stdout",
          "text": [
            "Correct! You earned 3/3 points. You are a star!\n",
            "\n",
            "Your submission has been successfully recorded in the gradebook.\n"
          ]
        }
      ],
      "source": [
        "# 3 points\n",
        "grader.grade(test_case_id = 'test_cleaning_weather', answer = [len(weather_cleaned_df),weather_cleaned_df.head()])"
      ]
    },
    {
      "cell_type": "markdown",
      "metadata": {
        "id": "kYp9fW_SvG3g"
      },
      "source": [
        "### 1.2 Your Sandbox \n",
        "\n",
        "`.info()` is just one of many basic tools that you can use for Exploratory Data Analysis (EDA). Instead of throwing you straight into the deep end, we wanted to give you a chance to take some time and explore the data on your own. **This section is not graded**, so for the speedrunners out there feel free to just jump in, but we wanted to at least give you a small space to utilize your EDA toolkit to familiarize yourself with all the data you just downloaded.\n",
        "\n",
        "Some suggestions to get you started:\n",
        "- `df.head()`\n",
        "- `df.describe()`\n",
        "- `Series.unique()`"
      ]
    },
    {
      "cell_type": "code",
      "execution_count": 34,
      "metadata": {
        "id": "U429NTI5RY4a"
      },
      "outputs": [],
      "source": [
        "# Your EDA here! Feel free to add more cells\n"
      ]
    },
    {
      "cell_type": "markdown",
      "source": [
        "## Part 2: Exploring the Data with PandasSQL (and Pandas) [73 points total]\n",
        "\n",
        "Now that you are familiar (or still unfamiliar) with the dataset, we will now introduce you to SQL, or more specifically **pandasql**: a package created to allow users to query pandas DataFrames with SQL statements."
      ],
      "metadata": {
        "id": "uLO0ZpVr54ZS"
      }
    },
    {
      "cell_type": "markdown",
      "source": [
        "## 👇👇👇 IMPORTANT: Pay VERY CLOSE attention to this style guide! 👇👇👇\n",
        "\n",
        "The typical flow to use pandasql (aliased as `ps`) is as follows:\n",
        "1. Write a SQL query in the form of a string\n",
        "    - **String Syntax:** use triple quotes `\"\"\"<your query>\"\"\"` to write multi-line strings in Python\n",
        "    - **Aliases are your friend:** if there are very long table names or you find yourself needed to declare the source (common during join tasks), it's almost always optimal to alias your tables with short INTUITIVE alias names\n",
        "    - **New Clauses New Line:** each of the main SQL clauses (`SELECT`, `FROM`, `WHERE`, etc.) should begin on a new line\n",
        "    - **Use Indentation:** if there are many components for a single clause, separate them out with new <ins>indented</ins> lines.\n",
        "\n",
        "    Example below:\n",
        "    ```SQL\n",
        "    \"\"\"\n",
        "    SELECT ltn.some_id, SUM(stn.some_value) AS total\n",
        "    FROM long_table_name AS ltn\n",
        "         INNER JOIN short_table_name AS stn \n",
        "            ON ltn.common_key = stn.common_key\n",
        "         INNER JOIN med_table_name AS mtn\n",
        "            ON ltn.other_key = mtn.other_key\n",
        "    WHERE ltn.col1 > value\n",
        "         AND stn.col2 <= another_value\n",
        "         AND mtn.col3 != something_else\n",
        "    GROUP BY ltn.some_id\n",
        "    ORDER BY total DESC\n",
        "    \"\"\"\n",
        "    ```\n",
        "2. Run the query using `ps.sqldf(your_query, locals())`\n",
        "\n",
        "Pandasql is convenient in that it allows you to reference the dataframes that are currently defined in your notebook, so you will be able to fully utilize the dataframes `trips_cleaned_df`, `stations_cleaned_df` and `weather__cleaned_df` that you have created above!\n",
        "\n",
        "Given that it is a brand new language, we wanted to give you a chance to directly compare the similarities/differences of the pandas that you already know and the SQL that you are about to learn. Thus, for each of the simpler queries, we may ask that you **look into the question twice: once with pandas and once with pandasql**. "
      ],
      "metadata": {
        "id": "EoV3Uv69ot_Y"
      }
    },
    {
      "cell_type": "markdown",
      "source": [
        "### 2.1 One Way vs Round Trip [19 points]"
      ],
      "metadata": {
        "id": "65adiX7u55m2"
      }
    },
    {
      "cell_type": "markdown",
      "source": [
        "#### 2.1.1 How many of the rides taken were Round Trip journeys? (4 points)\n",
        "\n",
        "The dataframe `trips_cleaned_df` contains information for each ride. We want to know which of these rides were Round Trip journeys, and how many such rides were taken.\n",
        "\n",
        "**TO-DO:**\n",
        "\n",
        "*    Using what you learned in EDA in 1.2, use `pandas` to filter on the appropriate column to obtain only round trips, and save it to a DataFrame called `round_df`, which is sorted by `trip_id` in ascending order.\n",
        "*   Save the number of rides in the integer variable `number_of_rounds`. "
      ],
      "metadata": {
        "id": "0PfvXCpC6NB2"
      }
    },
    {
      "cell_type": "code",
      "source": [
        "# TO-DO: Use pandas to obtain rides that were round trip\n",
        "round_df = trips_cleaned_df[trips_cleaned_df[\"trip_route_category\"] == \"Round Trip\"].reset_index(drop = True)\n",
        "round_df.head()"
      ],
      "metadata": {
        "id": "pknIChHj6Oom",
        "colab": {
          "base_uri": "https://localhost:8080/",
          "height": 357
        },
        "outputId": "b4028b20-cdf2-403c-d4ee-81aeaca5eaf3"
      },
      "execution_count": 35,
      "outputs": [
        {
          "output_type": "execute_result",
          "data": {
            "text/plain": [
              "     trip_id  duration      start_time        end_time  start_station  \\\n",
              "0  536546924         3  10/1/2022 1:50  10/1/2022 1:53         3188.0   \n",
              "1  536546925         3  10/1/2022 1:50  10/1/2022 1:53         3188.0   \n",
              "2  536546974         7  10/1/2022 0:42  10/1/2022 0:49         3207.0   \n",
              "3  536546984         4  10/1/2022 0:37  10/1/2022 0:41         3210.0   \n",
              "4  536547000        26  10/1/2022 0:30  10/1/2022 0:56         3064.0   \n",
              "\n",
              "   start_lat  start_lon  end_station    end_lat    end_lon  bike_id  \\\n",
              "0  39.904709 -75.173401       3188.0  39.904709 -75.173401    11708   \n",
              "1  39.904709 -75.173401       3188.0  39.904709 -75.173401     3483   \n",
              "2  39.954411 -75.192001       3207.0  39.954411 -75.192001     3612   \n",
              "3  39.984921 -75.156677       3210.0  39.984921 -75.156677    22393   \n",
              "4  39.938400 -75.173271       3064.0  39.938400 -75.173271     2441   \n",
              "\n",
              "  trip_route_category passholder_type bike_type  \n",
              "0          Round Trip        Indego30  standard  \n",
              "1          Round Trip        Indego30  standard  \n",
              "2          Round Trip        Indego30  standard  \n",
              "3          Round Trip        Indego30  electric  \n",
              "4          Round Trip        Indego30  standard  "
            ],
            "text/html": [
              "\n",
              "  <div id=\"df-0d224513-07a7-4ab3-a50d-09c4a219e449\">\n",
              "    <div class=\"colab-df-container\">\n",
              "      <div>\n",
              "<style scoped>\n",
              "    .dataframe tbody tr th:only-of-type {\n",
              "        vertical-align: middle;\n",
              "    }\n",
              "\n",
              "    .dataframe tbody tr th {\n",
              "        vertical-align: top;\n",
              "    }\n",
              "\n",
              "    .dataframe thead th {\n",
              "        text-align: right;\n",
              "    }\n",
              "</style>\n",
              "<table border=\"1\" class=\"dataframe\">\n",
              "  <thead>\n",
              "    <tr style=\"text-align: right;\">\n",
              "      <th></th>\n",
              "      <th>trip_id</th>\n",
              "      <th>duration</th>\n",
              "      <th>start_time</th>\n",
              "      <th>end_time</th>\n",
              "      <th>start_station</th>\n",
              "      <th>start_lat</th>\n",
              "      <th>start_lon</th>\n",
              "      <th>end_station</th>\n",
              "      <th>end_lat</th>\n",
              "      <th>end_lon</th>\n",
              "      <th>bike_id</th>\n",
              "      <th>trip_route_category</th>\n",
              "      <th>passholder_type</th>\n",
              "      <th>bike_type</th>\n",
              "    </tr>\n",
              "  </thead>\n",
              "  <tbody>\n",
              "    <tr>\n",
              "      <th>0</th>\n",
              "      <td>536546924</td>\n",
              "      <td>3</td>\n",
              "      <td>10/1/2022 1:50</td>\n",
              "      <td>10/1/2022 1:53</td>\n",
              "      <td>3188.0</td>\n",
              "      <td>39.904709</td>\n",
              "      <td>-75.173401</td>\n",
              "      <td>3188.0</td>\n",
              "      <td>39.904709</td>\n",
              "      <td>-75.173401</td>\n",
              "      <td>11708</td>\n",
              "      <td>Round Trip</td>\n",
              "      <td>Indego30</td>\n",
              "      <td>standard</td>\n",
              "    </tr>\n",
              "    <tr>\n",
              "      <th>1</th>\n",
              "      <td>536546925</td>\n",
              "      <td>3</td>\n",
              "      <td>10/1/2022 1:50</td>\n",
              "      <td>10/1/2022 1:53</td>\n",
              "      <td>3188.0</td>\n",
              "      <td>39.904709</td>\n",
              "      <td>-75.173401</td>\n",
              "      <td>3188.0</td>\n",
              "      <td>39.904709</td>\n",
              "      <td>-75.173401</td>\n",
              "      <td>3483</td>\n",
              "      <td>Round Trip</td>\n",
              "      <td>Indego30</td>\n",
              "      <td>standard</td>\n",
              "    </tr>\n",
              "    <tr>\n",
              "      <th>2</th>\n",
              "      <td>536546974</td>\n",
              "      <td>7</td>\n",
              "      <td>10/1/2022 0:42</td>\n",
              "      <td>10/1/2022 0:49</td>\n",
              "      <td>3207.0</td>\n",
              "      <td>39.954411</td>\n",
              "      <td>-75.192001</td>\n",
              "      <td>3207.0</td>\n",
              "      <td>39.954411</td>\n",
              "      <td>-75.192001</td>\n",
              "      <td>3612</td>\n",
              "      <td>Round Trip</td>\n",
              "      <td>Indego30</td>\n",
              "      <td>standard</td>\n",
              "    </tr>\n",
              "    <tr>\n",
              "      <th>3</th>\n",
              "      <td>536546984</td>\n",
              "      <td>4</td>\n",
              "      <td>10/1/2022 0:37</td>\n",
              "      <td>10/1/2022 0:41</td>\n",
              "      <td>3210.0</td>\n",
              "      <td>39.984921</td>\n",
              "      <td>-75.156677</td>\n",
              "      <td>3210.0</td>\n",
              "      <td>39.984921</td>\n",
              "      <td>-75.156677</td>\n",
              "      <td>22393</td>\n",
              "      <td>Round Trip</td>\n",
              "      <td>Indego30</td>\n",
              "      <td>electric</td>\n",
              "    </tr>\n",
              "    <tr>\n",
              "      <th>4</th>\n",
              "      <td>536547000</td>\n",
              "      <td>26</td>\n",
              "      <td>10/1/2022 0:30</td>\n",
              "      <td>10/1/2022 0:56</td>\n",
              "      <td>3064.0</td>\n",
              "      <td>39.938400</td>\n",
              "      <td>-75.173271</td>\n",
              "      <td>3064.0</td>\n",
              "      <td>39.938400</td>\n",
              "      <td>-75.173271</td>\n",
              "      <td>2441</td>\n",
              "      <td>Round Trip</td>\n",
              "      <td>Indego30</td>\n",
              "      <td>standard</td>\n",
              "    </tr>\n",
              "  </tbody>\n",
              "</table>\n",
              "</div>\n",
              "      <button class=\"colab-df-convert\" onclick=\"convertToInteractive('df-0d224513-07a7-4ab3-a50d-09c4a219e449')\"\n",
              "              title=\"Convert this dataframe to an interactive table.\"\n",
              "              style=\"display:none;\">\n",
              "        \n",
              "  <svg xmlns=\"http://www.w3.org/2000/svg\" height=\"24px\"viewBox=\"0 0 24 24\"\n",
              "       width=\"24px\">\n",
              "    <path d=\"M0 0h24v24H0V0z\" fill=\"none\"/>\n",
              "    <path d=\"M18.56 5.44l.94 2.06.94-2.06 2.06-.94-2.06-.94-.94-2.06-.94 2.06-2.06.94zm-11 1L8.5 8.5l.94-2.06 2.06-.94-2.06-.94L8.5 2.5l-.94 2.06-2.06.94zm10 10l.94 2.06.94-2.06 2.06-.94-2.06-.94-.94-2.06-.94 2.06-2.06.94z\"/><path d=\"M17.41 7.96l-1.37-1.37c-.4-.4-.92-.59-1.43-.59-.52 0-1.04.2-1.43.59L10.3 9.45l-7.72 7.72c-.78.78-.78 2.05 0 2.83L4 21.41c.39.39.9.59 1.41.59.51 0 1.02-.2 1.41-.59l7.78-7.78 2.81-2.81c.8-.78.8-2.07 0-2.86zM5.41 20L4 18.59l7.72-7.72 1.47 1.35L5.41 20z\"/>\n",
              "  </svg>\n",
              "      </button>\n",
              "      \n",
              "  <style>\n",
              "    .colab-df-container {\n",
              "      display:flex;\n",
              "      flex-wrap:wrap;\n",
              "      gap: 12px;\n",
              "    }\n",
              "\n",
              "    .colab-df-convert {\n",
              "      background-color: #E8F0FE;\n",
              "      border: none;\n",
              "      border-radius: 50%;\n",
              "      cursor: pointer;\n",
              "      display: none;\n",
              "      fill: #1967D2;\n",
              "      height: 32px;\n",
              "      padding: 0 0 0 0;\n",
              "      width: 32px;\n",
              "    }\n",
              "\n",
              "    .colab-df-convert:hover {\n",
              "      background-color: #E2EBFA;\n",
              "      box-shadow: 0px 1px 2px rgba(60, 64, 67, 0.3), 0px 1px 3px 1px rgba(60, 64, 67, 0.15);\n",
              "      fill: #174EA6;\n",
              "    }\n",
              "\n",
              "    [theme=dark] .colab-df-convert {\n",
              "      background-color: #3B4455;\n",
              "      fill: #D2E3FC;\n",
              "    }\n",
              "\n",
              "    [theme=dark] .colab-df-convert:hover {\n",
              "      background-color: #434B5C;\n",
              "      box-shadow: 0px 1px 3px 1px rgba(0, 0, 0, 0.15);\n",
              "      filter: drop-shadow(0px 1px 2px rgba(0, 0, 0, 0.3));\n",
              "      fill: #FFFFFF;\n",
              "    }\n",
              "  </style>\n",
              "\n",
              "      <script>\n",
              "        const buttonEl =\n",
              "          document.querySelector('#df-0d224513-07a7-4ab3-a50d-09c4a219e449 button.colab-df-convert');\n",
              "        buttonEl.style.display =\n",
              "          google.colab.kernel.accessAllowed ? 'block' : 'none';\n",
              "\n",
              "        async function convertToInteractive(key) {\n",
              "          const element = document.querySelector('#df-0d224513-07a7-4ab3-a50d-09c4a219e449');\n",
              "          const dataTable =\n",
              "            await google.colab.kernel.invokeFunction('convertToInteractive',\n",
              "                                                     [key], {});\n",
              "          if (!dataTable) return;\n",
              "\n",
              "          const docLinkHtml = 'Like what you see? Visit the ' +\n",
              "            '<a target=\"_blank\" href=https://colab.research.google.com/notebooks/data_table.ipynb>data table notebook</a>'\n",
              "            + ' to learn more about interactive tables.';\n",
              "          element.innerHTML = '';\n",
              "          dataTable['output_type'] = 'display_data';\n",
              "          await google.colab.output.renderOutput(dataTable, element);\n",
              "          const docLink = document.createElement('div');\n",
              "          docLink.innerHTML = docLinkHtml;\n",
              "          element.appendChild(docLink);\n",
              "        }\n",
              "      </script>\n",
              "    </div>\n",
              "  </div>\n",
              "  "
            ]
          },
          "metadata": {},
          "execution_count": 35
        }
      ]
    },
    {
      "cell_type": "code",
      "source": [
        "# TO-DO : Save the number of round trip rides obtained from round_df to number_of_rounds\n",
        "number_of_rounds = len(round_df)"
      ],
      "metadata": {
        "id": "DwCpytm38dYW"
      },
      "execution_count": 36,
      "outputs": []
    },
    {
      "cell_type": "code",
      "source": [
        "# 2 points\n",
        "grader.grade(test_case_id = 'test_round', answer = (round_df, number_of_rounds))"
      ],
      "metadata": {
        "id": "73kQXwnL6OZ0",
        "colab": {
          "base_uri": "https://localhost:8080/"
        },
        "outputId": "d86f5477-4182-4947-8ab3-482bf0f265af"
      },
      "execution_count": 37,
      "outputs": [
        {
          "output_type": "stream",
          "name": "stdout",
          "text": [
            "Correct! You earned 2/2 points. You are a star!\n",
            "\n",
            "Your submission has been successfully recorded in the gradebook.\n"
          ]
        }
      ]
    },
    {
      "cell_type": "markdown",
      "source": [
        "**TO-DO:** Now using **pandasql**, calculate the number of round trips in trips_cleaned_df and save it to the dataframe `round_df_sql`, with the column named `num`. This will be a rather unconventional 1x1 dataframe, but that's OK.\n",
        "\n",
        "**Final Schema:**\n",
        "\n",
        "> num|\n",
        "> --- |"
      ],
      "metadata": {
        "id": "gUSj2RVaXBDd"
      }
    },
    {
      "cell_type": "code",
      "source": [
        "# TODO: Use pandasql to calculate the number of round trips\n",
        "round_query = \"\"\"\n",
        "              SELECT COUNT(*) AS num\n",
        "              FROM trips_cleaned_df\n",
        "              WHERE trip_route_category == \"Round Trip\" \n",
        "              \"\"\"\n",
        "round_df_sql = ps.sqldf(round_query, locals())\n",
        "round_df_sql"
      ],
      "metadata": {
        "id": "xdGJjfXDXPig",
        "colab": {
          "base_uri": "https://localhost:8080/",
          "height": 81
        },
        "outputId": "1b0f7d7b-5bb3-4fc0-d50c-80af48d25570"
      },
      "execution_count": 38,
      "outputs": [
        {
          "output_type": "execute_result",
          "data": {
            "text/plain": [
              "   num\n",
              "0  930"
            ],
            "text/html": [
              "\n",
              "  <div id=\"df-3a4f634d-cc6d-46b6-a789-60b7c87ce8a6\">\n",
              "    <div class=\"colab-df-container\">\n",
              "      <div>\n",
              "<style scoped>\n",
              "    .dataframe tbody tr th:only-of-type {\n",
              "        vertical-align: middle;\n",
              "    }\n",
              "\n",
              "    .dataframe tbody tr th {\n",
              "        vertical-align: top;\n",
              "    }\n",
              "\n",
              "    .dataframe thead th {\n",
              "        text-align: right;\n",
              "    }\n",
              "</style>\n",
              "<table border=\"1\" class=\"dataframe\">\n",
              "  <thead>\n",
              "    <tr style=\"text-align: right;\">\n",
              "      <th></th>\n",
              "      <th>num</th>\n",
              "    </tr>\n",
              "  </thead>\n",
              "  <tbody>\n",
              "    <tr>\n",
              "      <th>0</th>\n",
              "      <td>930</td>\n",
              "    </tr>\n",
              "  </tbody>\n",
              "</table>\n",
              "</div>\n",
              "      <button class=\"colab-df-convert\" onclick=\"convertToInteractive('df-3a4f634d-cc6d-46b6-a789-60b7c87ce8a6')\"\n",
              "              title=\"Convert this dataframe to an interactive table.\"\n",
              "              style=\"display:none;\">\n",
              "        \n",
              "  <svg xmlns=\"http://www.w3.org/2000/svg\" height=\"24px\"viewBox=\"0 0 24 24\"\n",
              "       width=\"24px\">\n",
              "    <path d=\"M0 0h24v24H0V0z\" fill=\"none\"/>\n",
              "    <path d=\"M18.56 5.44l.94 2.06.94-2.06 2.06-.94-2.06-.94-.94-2.06-.94 2.06-2.06.94zm-11 1L8.5 8.5l.94-2.06 2.06-.94-2.06-.94L8.5 2.5l-.94 2.06-2.06.94zm10 10l.94 2.06.94-2.06 2.06-.94-2.06-.94-.94-2.06-.94 2.06-2.06.94z\"/><path d=\"M17.41 7.96l-1.37-1.37c-.4-.4-.92-.59-1.43-.59-.52 0-1.04.2-1.43.59L10.3 9.45l-7.72 7.72c-.78.78-.78 2.05 0 2.83L4 21.41c.39.39.9.59 1.41.59.51 0 1.02-.2 1.41-.59l7.78-7.78 2.81-2.81c.8-.78.8-2.07 0-2.86zM5.41 20L4 18.59l7.72-7.72 1.47 1.35L5.41 20z\"/>\n",
              "  </svg>\n",
              "      </button>\n",
              "      \n",
              "  <style>\n",
              "    .colab-df-container {\n",
              "      display:flex;\n",
              "      flex-wrap:wrap;\n",
              "      gap: 12px;\n",
              "    }\n",
              "\n",
              "    .colab-df-convert {\n",
              "      background-color: #E8F0FE;\n",
              "      border: none;\n",
              "      border-radius: 50%;\n",
              "      cursor: pointer;\n",
              "      display: none;\n",
              "      fill: #1967D2;\n",
              "      height: 32px;\n",
              "      padding: 0 0 0 0;\n",
              "      width: 32px;\n",
              "    }\n",
              "\n",
              "    .colab-df-convert:hover {\n",
              "      background-color: #E2EBFA;\n",
              "      box-shadow: 0px 1px 2px rgba(60, 64, 67, 0.3), 0px 1px 3px 1px rgba(60, 64, 67, 0.15);\n",
              "      fill: #174EA6;\n",
              "    }\n",
              "\n",
              "    [theme=dark] .colab-df-convert {\n",
              "      background-color: #3B4455;\n",
              "      fill: #D2E3FC;\n",
              "    }\n",
              "\n",
              "    [theme=dark] .colab-df-convert:hover {\n",
              "      background-color: #434B5C;\n",
              "      box-shadow: 0px 1px 3px 1px rgba(0, 0, 0, 0.15);\n",
              "      filter: drop-shadow(0px 1px 2px rgba(0, 0, 0, 0.3));\n",
              "      fill: #FFFFFF;\n",
              "    }\n",
              "  </style>\n",
              "\n",
              "      <script>\n",
              "        const buttonEl =\n",
              "          document.querySelector('#df-3a4f634d-cc6d-46b6-a789-60b7c87ce8a6 button.colab-df-convert');\n",
              "        buttonEl.style.display =\n",
              "          google.colab.kernel.accessAllowed ? 'block' : 'none';\n",
              "\n",
              "        async function convertToInteractive(key) {\n",
              "          const element = document.querySelector('#df-3a4f634d-cc6d-46b6-a789-60b7c87ce8a6');\n",
              "          const dataTable =\n",
              "            await google.colab.kernel.invokeFunction('convertToInteractive',\n",
              "                                                     [key], {});\n",
              "          if (!dataTable) return;\n",
              "\n",
              "          const docLinkHtml = 'Like what you see? Visit the ' +\n",
              "            '<a target=\"_blank\" href=https://colab.research.google.com/notebooks/data_table.ipynb>data table notebook</a>'\n",
              "            + ' to learn more about interactive tables.';\n",
              "          element.innerHTML = '';\n",
              "          dataTable['output_type'] = 'display_data';\n",
              "          await google.colab.output.renderOutput(dataTable, element);\n",
              "          const docLink = document.createElement('div');\n",
              "          docLink.innerHTML = docLinkHtml;\n",
              "          element.appendChild(docLink);\n",
              "        }\n",
              "      </script>\n",
              "    </div>\n",
              "  </div>\n",
              "  "
            ]
          },
          "metadata": {},
          "execution_count": 38
        }
      ]
    },
    {
      "cell_type": "code",
      "source": [
        "# 2 points\n",
        "grader.grade(test_case_id = 'test_round_sql', answer = round_df_sql)"
      ],
      "metadata": {
        "id": "nXuUq8UWXPSo",
        "colab": {
          "base_uri": "https://localhost:8080/"
        },
        "outputId": "7194418a-1cc1-474a-e942-2bf813041b8d"
      },
      "execution_count": 39,
      "outputs": [
        {
          "output_type": "stream",
          "name": "stdout",
          "text": [
            "Correct! You earned 2/2 points. You are a star!\n",
            "\n",
            "Your submission has been successfully recorded in the gradebook.\n"
          ]
        }
      ]
    },
    {
      "cell_type": "markdown",
      "source": [
        "#### 2.1.2 What was the duration of these round trips? [4 points]\n",
        "\n",
        "The dataframe `round_df` contains information for each ride that was a round trip. We want to know the average duration of the trip for all these rides. \n",
        "\n",
        "**TO-DO:** Using **pandas**, calculate the average duration of the rides in `round_df` and save it to the variable `avg_round_pd`. Please make sure you do NOT cast it to any type explicitly nor should you round it. \n",
        "\n",
        "\n",
        "\n"
      ],
      "metadata": {
        "id": "a_JjvuvQdqxo"
      }
    },
    {
      "cell_type": "code",
      "source": [
        "# TODO: Use pandas to calculate the average duration of round trips\n",
        "avg_round_pd = round_df[\"duration\"].mean()"
      ],
      "metadata": {
        "id": "r-OX8Ss9Vm2C"
      },
      "execution_count": 40,
      "outputs": []
    },
    {
      "cell_type": "code",
      "source": [
        "# 2 points\n",
        "grader.grade(test_case_id = 'test_round_dur_pd', answer = avg_round_pd)"
      ],
      "metadata": {
        "id": "d0zPIuloVnMc",
        "colab": {
          "base_uri": "https://localhost:8080/"
        },
        "outputId": "e2700f2a-4ab6-4988-a77c-4e89da0fe94f"
      },
      "execution_count": 41,
      "outputs": [
        {
          "output_type": "stream",
          "name": "stdout",
          "text": [
            "Correct! You earned 2/2 points. You are a star!\n",
            "\n",
            "Your submission has been successfully recorded in the gradebook.\n"
          ]
        }
      ]
    },
    {
      "cell_type": "markdown",
      "source": [
        "**TO-DO:** Using **pandasql**, calculate the average duration of the rides in round_df and save it to the dataframe `avg_round_df`, with the column named `avg_dur`. Please make sure you do NOT cast it to any type explicitly nor should you round it.\n",
        "\n",
        "Again, this will be a 1x1 dataframe but that's OK.\n",
        "\n",
        "**Final Schema:**\n",
        "\n",
        "\n",
        "> avg_dur |\n",
        "> --- |"
      ],
      "metadata": {
        "id": "3INzdIvKVvYM"
      }
    },
    {
      "cell_type": "code",
      "source": [
        "# TODO: Use pandasql to calculate the average duration of round trips\n",
        "avg_dur_query = \"\"\"\n",
        "                SELECT AVG(duration) AS avg_dur\n",
        "                FROM round_df\n",
        "                \"\"\"\n",
        "\n",
        "avg_round_df = ps.sqldf(avg_dur_query, locals())\n",
        "avg_round_df"
      ],
      "metadata": {
        "id": "CCvBUvzHdqxs",
        "colab": {
          "base_uri": "https://localhost:8080/",
          "height": 81
        },
        "outputId": "95b28bef-b73b-4ae2-cc59-776c61566bcc"
      },
      "execution_count": 42,
      "outputs": [
        {
          "output_type": "execute_result",
          "data": {
            "text/plain": [
              "     avg_dur\n",
              "0  20.107527"
            ],
            "text/html": [
              "\n",
              "  <div id=\"df-9b032416-4c03-458a-b504-1b136092de4d\">\n",
              "    <div class=\"colab-df-container\">\n",
              "      <div>\n",
              "<style scoped>\n",
              "    .dataframe tbody tr th:only-of-type {\n",
              "        vertical-align: middle;\n",
              "    }\n",
              "\n",
              "    .dataframe tbody tr th {\n",
              "        vertical-align: top;\n",
              "    }\n",
              "\n",
              "    .dataframe thead th {\n",
              "        text-align: right;\n",
              "    }\n",
              "</style>\n",
              "<table border=\"1\" class=\"dataframe\">\n",
              "  <thead>\n",
              "    <tr style=\"text-align: right;\">\n",
              "      <th></th>\n",
              "      <th>avg_dur</th>\n",
              "    </tr>\n",
              "  </thead>\n",
              "  <tbody>\n",
              "    <tr>\n",
              "      <th>0</th>\n",
              "      <td>20.107527</td>\n",
              "    </tr>\n",
              "  </tbody>\n",
              "</table>\n",
              "</div>\n",
              "      <button class=\"colab-df-convert\" onclick=\"convertToInteractive('df-9b032416-4c03-458a-b504-1b136092de4d')\"\n",
              "              title=\"Convert this dataframe to an interactive table.\"\n",
              "              style=\"display:none;\">\n",
              "        \n",
              "  <svg xmlns=\"http://www.w3.org/2000/svg\" height=\"24px\"viewBox=\"0 0 24 24\"\n",
              "       width=\"24px\">\n",
              "    <path d=\"M0 0h24v24H0V0z\" fill=\"none\"/>\n",
              "    <path d=\"M18.56 5.44l.94 2.06.94-2.06 2.06-.94-2.06-.94-.94-2.06-.94 2.06-2.06.94zm-11 1L8.5 8.5l.94-2.06 2.06-.94-2.06-.94L8.5 2.5l-.94 2.06-2.06.94zm10 10l.94 2.06.94-2.06 2.06-.94-2.06-.94-.94-2.06-.94 2.06-2.06.94z\"/><path d=\"M17.41 7.96l-1.37-1.37c-.4-.4-.92-.59-1.43-.59-.52 0-1.04.2-1.43.59L10.3 9.45l-7.72 7.72c-.78.78-.78 2.05 0 2.83L4 21.41c.39.39.9.59 1.41.59.51 0 1.02-.2 1.41-.59l7.78-7.78 2.81-2.81c.8-.78.8-2.07 0-2.86zM5.41 20L4 18.59l7.72-7.72 1.47 1.35L5.41 20z\"/>\n",
              "  </svg>\n",
              "      </button>\n",
              "      \n",
              "  <style>\n",
              "    .colab-df-container {\n",
              "      display:flex;\n",
              "      flex-wrap:wrap;\n",
              "      gap: 12px;\n",
              "    }\n",
              "\n",
              "    .colab-df-convert {\n",
              "      background-color: #E8F0FE;\n",
              "      border: none;\n",
              "      border-radius: 50%;\n",
              "      cursor: pointer;\n",
              "      display: none;\n",
              "      fill: #1967D2;\n",
              "      height: 32px;\n",
              "      padding: 0 0 0 0;\n",
              "      width: 32px;\n",
              "    }\n",
              "\n",
              "    .colab-df-convert:hover {\n",
              "      background-color: #E2EBFA;\n",
              "      box-shadow: 0px 1px 2px rgba(60, 64, 67, 0.3), 0px 1px 3px 1px rgba(60, 64, 67, 0.15);\n",
              "      fill: #174EA6;\n",
              "    }\n",
              "\n",
              "    [theme=dark] .colab-df-convert {\n",
              "      background-color: #3B4455;\n",
              "      fill: #D2E3FC;\n",
              "    }\n",
              "\n",
              "    [theme=dark] .colab-df-convert:hover {\n",
              "      background-color: #434B5C;\n",
              "      box-shadow: 0px 1px 3px 1px rgba(0, 0, 0, 0.15);\n",
              "      filter: drop-shadow(0px 1px 2px rgba(0, 0, 0, 0.3));\n",
              "      fill: #FFFFFF;\n",
              "    }\n",
              "  </style>\n",
              "\n",
              "      <script>\n",
              "        const buttonEl =\n",
              "          document.querySelector('#df-9b032416-4c03-458a-b504-1b136092de4d button.colab-df-convert');\n",
              "        buttonEl.style.display =\n",
              "          google.colab.kernel.accessAllowed ? 'block' : 'none';\n",
              "\n",
              "        async function convertToInteractive(key) {\n",
              "          const element = document.querySelector('#df-9b032416-4c03-458a-b504-1b136092de4d');\n",
              "          const dataTable =\n",
              "            await google.colab.kernel.invokeFunction('convertToInteractive',\n",
              "                                                     [key], {});\n",
              "          if (!dataTable) return;\n",
              "\n",
              "          const docLinkHtml = 'Like what you see? Visit the ' +\n",
              "            '<a target=\"_blank\" href=https://colab.research.google.com/notebooks/data_table.ipynb>data table notebook</a>'\n",
              "            + ' to learn more about interactive tables.';\n",
              "          element.innerHTML = '';\n",
              "          dataTable['output_type'] = 'display_data';\n",
              "          await google.colab.output.renderOutput(dataTable, element);\n",
              "          const docLink = document.createElement('div');\n",
              "          docLink.innerHTML = docLinkHtml;\n",
              "          element.appendChild(docLink);\n",
              "        }\n",
              "      </script>\n",
              "    </div>\n",
              "  </div>\n",
              "  "
            ]
          },
          "metadata": {},
          "execution_count": 42
        }
      ]
    },
    {
      "cell_type": "code",
      "source": [
        "# 2 points\n",
        "grader.grade(test_case_id = 'test_round_dur', answer = avg_round_df)"
      ],
      "metadata": {
        "id": "pfI7GSRadqxs",
        "colab": {
          "base_uri": "https://localhost:8080/"
        },
        "outputId": "4c01c4f0-7afc-46d1-b22e-e9cd23737ede"
      },
      "execution_count": 43,
      "outputs": [
        {
          "output_type": "stream",
          "name": "stdout",
          "text": [
            "Correct! You earned 2/2 points. You are a star!\n",
            "\n",
            "Your submission has been successfully recorded in the gradebook.\n"
          ]
        }
      ]
    },
    {
      "cell_type": "markdown",
      "source": [
        "#### 2.1.3 How long do you take? (5 points)\n",
        "\n",
        "Some of the rides listed in the `trips_cleaned_df` are marked as Day Pass. We'd like to know how long riders take their bikes out when they get a Day Pass. \n",
        "\n",
        "**TO-DO:** Using **pandas**, and what you learned in EDA in 1.2, use a filter on the appropriate column to obtain only “Day Pass” to calculate the average duration of these trips from `trips_cleaned_df` and save it to the variable `day_df_pd`. Please make sure you do not cast it to any type explicitly, or round it.  \n",
        "\n",
        "**Final Schema:**\n",
        "\n",
        "> avg_dur |\n",
        "> --- |\n",
        "\n",
        "Please use only `trips_cleaned_df` for both `pandas` and `pandasql`."
      ],
      "metadata": {
        "id": "FD3Dgsdv6atY"
      }
    },
    {
      "cell_type": "code",
      "source": [
        "# TODO: Use pandas to calculate the average duration of trips with a day pass \n",
        "day_df_pd = trips_cleaned_df[trips_cleaned_df[\"passholder_type\"] == \"Day Pass\"][\"duration\"].mean()"
      ],
      "metadata": {
        "id": "wRHgc5T-q95z"
      },
      "execution_count": 44,
      "outputs": []
    },
    {
      "cell_type": "markdown",
      "source": [
        "**TO-DO:** Repeat the same using **pandasql** and save it as `day_df_sql` where the average duration column should be named `avg_dur`."
      ],
      "metadata": {
        "id": "C1m5KL71qxyY"
      }
    },
    {
      "cell_type": "code",
      "source": [
        "# TODO: Use pandasql to calculate the average duration of trips with a day pass \n",
        "day_query = \"\"\"\n",
        "            SELECT AVG(duration) as avg_dur\n",
        "            FROM trips_cleaned_df\n",
        "            WHERE passholder_type == \"Day Pass\"\n",
        "            \"\"\"\n",
        "\n",
        "day_df_sql = ps.sqldf(day_query, locals())\n",
        "day_df_sql"
      ],
      "metadata": {
        "id": "r-8X-hQq6eb4",
        "colab": {
          "base_uri": "https://localhost:8080/",
          "height": 81
        },
        "outputId": "f33fa334-107e-4757-ffb6-6e2d977ad68f"
      },
      "execution_count": 45,
      "outputs": [
        {
          "output_type": "execute_result",
          "data": {
            "text/plain": [
              "    avg_dur\n",
              "0  31.43299"
            ],
            "text/html": [
              "\n",
              "  <div id=\"df-20bfe1e6-edd1-4352-9d50-92bba4aff092\">\n",
              "    <div class=\"colab-df-container\">\n",
              "      <div>\n",
              "<style scoped>\n",
              "    .dataframe tbody tr th:only-of-type {\n",
              "        vertical-align: middle;\n",
              "    }\n",
              "\n",
              "    .dataframe tbody tr th {\n",
              "        vertical-align: top;\n",
              "    }\n",
              "\n",
              "    .dataframe thead th {\n",
              "        text-align: right;\n",
              "    }\n",
              "</style>\n",
              "<table border=\"1\" class=\"dataframe\">\n",
              "  <thead>\n",
              "    <tr style=\"text-align: right;\">\n",
              "      <th></th>\n",
              "      <th>avg_dur</th>\n",
              "    </tr>\n",
              "  </thead>\n",
              "  <tbody>\n",
              "    <tr>\n",
              "      <th>0</th>\n",
              "      <td>31.43299</td>\n",
              "    </tr>\n",
              "  </tbody>\n",
              "</table>\n",
              "</div>\n",
              "      <button class=\"colab-df-convert\" onclick=\"convertToInteractive('df-20bfe1e6-edd1-4352-9d50-92bba4aff092')\"\n",
              "              title=\"Convert this dataframe to an interactive table.\"\n",
              "              style=\"display:none;\">\n",
              "        \n",
              "  <svg xmlns=\"http://www.w3.org/2000/svg\" height=\"24px\"viewBox=\"0 0 24 24\"\n",
              "       width=\"24px\">\n",
              "    <path d=\"M0 0h24v24H0V0z\" fill=\"none\"/>\n",
              "    <path d=\"M18.56 5.44l.94 2.06.94-2.06 2.06-.94-2.06-.94-.94-2.06-.94 2.06-2.06.94zm-11 1L8.5 8.5l.94-2.06 2.06-.94-2.06-.94L8.5 2.5l-.94 2.06-2.06.94zm10 10l.94 2.06.94-2.06 2.06-.94-2.06-.94-.94-2.06-.94 2.06-2.06.94z\"/><path d=\"M17.41 7.96l-1.37-1.37c-.4-.4-.92-.59-1.43-.59-.52 0-1.04.2-1.43.59L10.3 9.45l-7.72 7.72c-.78.78-.78 2.05 0 2.83L4 21.41c.39.39.9.59 1.41.59.51 0 1.02-.2 1.41-.59l7.78-7.78 2.81-2.81c.8-.78.8-2.07 0-2.86zM5.41 20L4 18.59l7.72-7.72 1.47 1.35L5.41 20z\"/>\n",
              "  </svg>\n",
              "      </button>\n",
              "      \n",
              "  <style>\n",
              "    .colab-df-container {\n",
              "      display:flex;\n",
              "      flex-wrap:wrap;\n",
              "      gap: 12px;\n",
              "    }\n",
              "\n",
              "    .colab-df-convert {\n",
              "      background-color: #E8F0FE;\n",
              "      border: none;\n",
              "      border-radius: 50%;\n",
              "      cursor: pointer;\n",
              "      display: none;\n",
              "      fill: #1967D2;\n",
              "      height: 32px;\n",
              "      padding: 0 0 0 0;\n",
              "      width: 32px;\n",
              "    }\n",
              "\n",
              "    .colab-df-convert:hover {\n",
              "      background-color: #E2EBFA;\n",
              "      box-shadow: 0px 1px 2px rgba(60, 64, 67, 0.3), 0px 1px 3px 1px rgba(60, 64, 67, 0.15);\n",
              "      fill: #174EA6;\n",
              "    }\n",
              "\n",
              "    [theme=dark] .colab-df-convert {\n",
              "      background-color: #3B4455;\n",
              "      fill: #D2E3FC;\n",
              "    }\n",
              "\n",
              "    [theme=dark] .colab-df-convert:hover {\n",
              "      background-color: #434B5C;\n",
              "      box-shadow: 0px 1px 3px 1px rgba(0, 0, 0, 0.15);\n",
              "      filter: drop-shadow(0px 1px 2px rgba(0, 0, 0, 0.3));\n",
              "      fill: #FFFFFF;\n",
              "    }\n",
              "  </style>\n",
              "\n",
              "      <script>\n",
              "        const buttonEl =\n",
              "          document.querySelector('#df-20bfe1e6-edd1-4352-9d50-92bba4aff092 button.colab-df-convert');\n",
              "        buttonEl.style.display =\n",
              "          google.colab.kernel.accessAllowed ? 'block' : 'none';\n",
              "\n",
              "        async function convertToInteractive(key) {\n",
              "          const element = document.querySelector('#df-20bfe1e6-edd1-4352-9d50-92bba4aff092');\n",
              "          const dataTable =\n",
              "            await google.colab.kernel.invokeFunction('convertToInteractive',\n",
              "                                                     [key], {});\n",
              "          if (!dataTable) return;\n",
              "\n",
              "          const docLinkHtml = 'Like what you see? Visit the ' +\n",
              "            '<a target=\"_blank\" href=https://colab.research.google.com/notebooks/data_table.ipynb>data table notebook</a>'\n",
              "            + ' to learn more about interactive tables.';\n",
              "          element.innerHTML = '';\n",
              "          dataTable['output_type'] = 'display_data';\n",
              "          await google.colab.output.renderOutput(dataTable, element);\n",
              "          const docLink = document.createElement('div');\n",
              "          docLink.innerHTML = docLinkHtml;\n",
              "          element.appendChild(docLink);\n",
              "        }\n",
              "      </script>\n",
              "    </div>\n",
              "  </div>\n",
              "  "
            ]
          },
          "metadata": {},
          "execution_count": 45
        }
      ]
    },
    {
      "cell_type": "code",
      "source": [
        "# 4 points\n",
        "grader.grade(test_case_id = 'test_day_dur', answer = (day_df_sql, day_df_pd, day_query))"
      ],
      "metadata": {
        "id": "aZti3-Tp6d2t",
        "colab": {
          "base_uri": "https://localhost:8080/"
        },
        "outputId": "803f06fb-2df8-45da-bcf1-090c382eaf20"
      },
      "execution_count": 46,
      "outputs": [
        {
          "output_type": "stream",
          "name": "stdout",
          "text": [
            "Correct! You earned 4/4 points. You are a star!\n",
            "\n",
            "Your submission has been successfully recorded in the gradebook.\n"
          ]
        }
      ]
    },
    {
      "cell_type": "markdown",
      "source": [
        "##### **Reflect:**  What do you think? (1 point)\n",
        "\n",
        "Is there a difference between the average duration for round trips (2.1.2) and Day Pass journeys (2.1.3)? Please state your answer as Yes/No with a reason for the possible similarity/difference? [1 pt]\n",
        "\n"
      ],
      "metadata": {
        "id": "0TzDzttGEUxV"
      }
    },
    {
      "cell_type": "code",
      "source": [
        "your_ans = \"\"\"Yes, there is a difference, probably because Day Pass users ride many times, as opposed to just one trip.\"\"\""
      ],
      "metadata": {
        "id": "9vGtS4TjExHZ"
      },
      "execution_count": 47,
      "outputs": []
    },
    {
      "cell_type": "code",
      "source": [
        "# Grader Cell for Text Response (do not modify) [1 point]\n",
        "grader.grade(test_case_id = 'test_q', answer = your_ans)"
      ],
      "metadata": {
        "id": "B7fdjrTJEzTu",
        "colab": {
          "base_uri": "https://localhost:8080/"
        },
        "outputId": "89b38a08-3db1-4267-d04d-b945c4fe3d28"
      },
      "execution_count": 48,
      "outputs": [
        {
          "output_type": "stream",
          "name": "stdout",
          "text": [
            "Correct! You earned 1/1 points. You are a star!\n",
            "\n",
            "Your submission has been successfully recorded in the gradebook.\n"
          ]
        }
      ]
    },
    {
      "cell_type": "markdown",
      "source": [
        "#### 2.1.4 Ratio of Rides (6 points)\n",
        "\n",
        "Some of the rides listed in the `trips_cleaned_df` are marked as One Way while some are marked as Round Trip. We'd like to know the ratio between the number of one - way trips to the number of round-trip journeys. \n",
        "\n",
        "**TO-DO:** Using **pandas**, calculate the ratio of the number of one-way rides to the number of round-trip rides from `trips_cleaned_df` and save it to the variable `ratio_1_round` \n",
        "\n",
        "**HINT:** Let the answer remain a float value when using pandas. "
      ],
      "metadata": {
        "id": "zQ4D0K4w6e-F"
      }
    },
    {
      "cell_type": "code",
      "source": [
        "# TO-DO: Use pandas to obtain the ratio of average number of one-way trips to average number of round-trip journeys\n",
        "ratio_1_round = sum(trips_cleaned_df[\"trip_route_category\"] == \"One Way\") / sum(trips_cleaned_df[\"trip_route_category\"] == \"Round Trip\")"
      ],
      "metadata": {
        "id": "4nlsC5Ul67Da"
      },
      "execution_count": 49,
      "outputs": []
    },
    {
      "cell_type": "code",
      "source": [
        "ratio_1_round"
      ],
      "metadata": {
        "colab": {
          "base_uri": "https://localhost:8080/"
        },
        "id": "i6Z5PCtSi2Sh",
        "outputId": "30bf2a05-61e0-4272-ad8c-78e96acbbfa8"
      },
      "execution_count": 50,
      "outputs": [
        {
          "output_type": "execute_result",
          "data": {
            "text/plain": [
              "15.403225806451612"
            ]
          },
          "metadata": {},
          "execution_count": 50
        }
      ]
    },
    {
      "cell_type": "code",
      "source": [
        "# 2 points\n",
        "grader.grade(test_case_id = 'test_ratio_pd', answer = ratio_1_round)"
      ],
      "metadata": {
        "id": "b4m9-1M_Aptp",
        "colab": {
          "base_uri": "https://localhost:8080/"
        },
        "outputId": "af9eb8dc-a777-49aa-d147-57768170f22f"
      },
      "execution_count": 51,
      "outputs": [
        {
          "output_type": "stream",
          "name": "stdout",
          "text": [
            "Correct! You earned 2/2 points. You are a star!\n",
            "\n",
            "Your submission has been successfully recorded in the gradebook.\n"
          ]
        }
      ]
    },
    {
      "cell_type": "markdown",
      "source": [
        "Now, let's try doing the same thing using pandasql, and see if the results match. \n",
        "\n",
        "**TODO:** Using **pandasql**, calculate the ratio of the number of one-way rides to the number of round-trip rides from `trips_cleaned_df` and save it to the dataframe `ratio_df`, naming the column `'ratio'`. \n",
        "\n",
        "Try to make use of subqueries here! Note, your results should be equivalent (to each other, and the answer, of course) if you have done both parts correctly.\n",
        "\n",
        "**HINT:** Cast your ratio to `float` type.  \n",
        "\n",
        "**Final Schema:**\n",
        "\n",
        "> ratio |\n",
        "> --- |"
      ],
      "metadata": {
        "id": "6D6k9ydQBCiT"
      }
    },
    {
      "cell_type": "code",
      "source": [
        "# TODO: Use pandasql to obtain the ratio of number of one-way trips to number of round trips \n",
        "\n",
        "ratio_query = \"\"\"  \n",
        "              SELECT \n",
        "                CAST(COUNT(CASE WHEN trip_route_category = \"One Way\" then 1 END) AS FLOAT) /\n",
        "                CAST(COUNT(CASE WHEN trip_route_category = \"Round Trip\" then 1 END) AS FLOAT) AS ratio\n",
        "              FROM trips_cleaned_df\n",
        "              \"\"\"\n",
        "\n",
        "ratio_df = ps.sqldf(ratio_query, locals())\n",
        "ratio_df"
      ],
      "metadata": {
        "id": "GZjIm-C_661o",
        "colab": {
          "base_uri": "https://localhost:8080/",
          "height": 81
        },
        "outputId": "c0de35b7-cb09-4769-9861-e152dc625729"
      },
      "execution_count": 52,
      "outputs": [
        {
          "output_type": "execute_result",
          "data": {
            "text/plain": [
              "       ratio\n",
              "0  15.403226"
            ],
            "text/html": [
              "\n",
              "  <div id=\"df-99539787-784f-45dd-8a9f-a98759db579e\">\n",
              "    <div class=\"colab-df-container\">\n",
              "      <div>\n",
              "<style scoped>\n",
              "    .dataframe tbody tr th:only-of-type {\n",
              "        vertical-align: middle;\n",
              "    }\n",
              "\n",
              "    .dataframe tbody tr th {\n",
              "        vertical-align: top;\n",
              "    }\n",
              "\n",
              "    .dataframe thead th {\n",
              "        text-align: right;\n",
              "    }\n",
              "</style>\n",
              "<table border=\"1\" class=\"dataframe\">\n",
              "  <thead>\n",
              "    <tr style=\"text-align: right;\">\n",
              "      <th></th>\n",
              "      <th>ratio</th>\n",
              "    </tr>\n",
              "  </thead>\n",
              "  <tbody>\n",
              "    <tr>\n",
              "      <th>0</th>\n",
              "      <td>15.403226</td>\n",
              "    </tr>\n",
              "  </tbody>\n",
              "</table>\n",
              "</div>\n",
              "      <button class=\"colab-df-convert\" onclick=\"convertToInteractive('df-99539787-784f-45dd-8a9f-a98759db579e')\"\n",
              "              title=\"Convert this dataframe to an interactive table.\"\n",
              "              style=\"display:none;\">\n",
              "        \n",
              "  <svg xmlns=\"http://www.w3.org/2000/svg\" height=\"24px\"viewBox=\"0 0 24 24\"\n",
              "       width=\"24px\">\n",
              "    <path d=\"M0 0h24v24H0V0z\" fill=\"none\"/>\n",
              "    <path d=\"M18.56 5.44l.94 2.06.94-2.06 2.06-.94-2.06-.94-.94-2.06-.94 2.06-2.06.94zm-11 1L8.5 8.5l.94-2.06 2.06-.94-2.06-.94L8.5 2.5l-.94 2.06-2.06.94zm10 10l.94 2.06.94-2.06 2.06-.94-2.06-.94-.94-2.06-.94 2.06-2.06.94z\"/><path d=\"M17.41 7.96l-1.37-1.37c-.4-.4-.92-.59-1.43-.59-.52 0-1.04.2-1.43.59L10.3 9.45l-7.72 7.72c-.78.78-.78 2.05 0 2.83L4 21.41c.39.39.9.59 1.41.59.51 0 1.02-.2 1.41-.59l7.78-7.78 2.81-2.81c.8-.78.8-2.07 0-2.86zM5.41 20L4 18.59l7.72-7.72 1.47 1.35L5.41 20z\"/>\n",
              "  </svg>\n",
              "      </button>\n",
              "      \n",
              "  <style>\n",
              "    .colab-df-container {\n",
              "      display:flex;\n",
              "      flex-wrap:wrap;\n",
              "      gap: 12px;\n",
              "    }\n",
              "\n",
              "    .colab-df-convert {\n",
              "      background-color: #E8F0FE;\n",
              "      border: none;\n",
              "      border-radius: 50%;\n",
              "      cursor: pointer;\n",
              "      display: none;\n",
              "      fill: #1967D2;\n",
              "      height: 32px;\n",
              "      padding: 0 0 0 0;\n",
              "      width: 32px;\n",
              "    }\n",
              "\n",
              "    .colab-df-convert:hover {\n",
              "      background-color: #E2EBFA;\n",
              "      box-shadow: 0px 1px 2px rgba(60, 64, 67, 0.3), 0px 1px 3px 1px rgba(60, 64, 67, 0.15);\n",
              "      fill: #174EA6;\n",
              "    }\n",
              "\n",
              "    [theme=dark] .colab-df-convert {\n",
              "      background-color: #3B4455;\n",
              "      fill: #D2E3FC;\n",
              "    }\n",
              "\n",
              "    [theme=dark] .colab-df-convert:hover {\n",
              "      background-color: #434B5C;\n",
              "      box-shadow: 0px 1px 3px 1px rgba(0, 0, 0, 0.15);\n",
              "      filter: drop-shadow(0px 1px 2px rgba(0, 0, 0, 0.3));\n",
              "      fill: #FFFFFF;\n",
              "    }\n",
              "  </style>\n",
              "\n",
              "      <script>\n",
              "        const buttonEl =\n",
              "          document.querySelector('#df-99539787-784f-45dd-8a9f-a98759db579e button.colab-df-convert');\n",
              "        buttonEl.style.display =\n",
              "          google.colab.kernel.accessAllowed ? 'block' : 'none';\n",
              "\n",
              "        async function convertToInteractive(key) {\n",
              "          const element = document.querySelector('#df-99539787-784f-45dd-8a9f-a98759db579e');\n",
              "          const dataTable =\n",
              "            await google.colab.kernel.invokeFunction('convertToInteractive',\n",
              "                                                     [key], {});\n",
              "          if (!dataTable) return;\n",
              "\n",
              "          const docLinkHtml = 'Like what you see? Visit the ' +\n",
              "            '<a target=\"_blank\" href=https://colab.research.google.com/notebooks/data_table.ipynb>data table notebook</a>'\n",
              "            + ' to learn more about interactive tables.';\n",
              "          element.innerHTML = '';\n",
              "          dataTable['output_type'] = 'display_data';\n",
              "          await google.colab.output.renderOutput(dataTable, element);\n",
              "          const docLink = document.createElement('div');\n",
              "          docLink.innerHTML = docLinkHtml;\n",
              "          element.appendChild(docLink);\n",
              "        }\n",
              "      </script>\n",
              "    </div>\n",
              "  </div>\n",
              "  "
            ]
          },
          "metadata": {},
          "execution_count": 52
        }
      ]
    },
    {
      "cell_type": "code",
      "source": [
        "# 4 points\n",
        "grader.grade(test_case_id = 'test_ratio_sql', answer = (ratio_df, ratio_query))"
      ],
      "metadata": {
        "id": "l3orIXJvAqe2",
        "colab": {
          "base_uri": "https://localhost:8080/"
        },
        "outputId": "42f3884e-77c0-4ae2-d35d-fe0262908992"
      },
      "execution_count": 53,
      "outputs": [
        {
          "output_type": "stream",
          "name": "stdout",
          "text": [
            "Correct! You earned 4/4 points. You are a star!\n",
            "\n",
            "Your submission has been successfully recorded in the gradebook.\n"
          ]
        }
      ]
    },
    {
      "cell_type": "markdown",
      "source": [
        "###2.2 Station Involvement [16 points]"
      ],
      "metadata": {
        "id": "EmtOjC3s67UW"
      }
    },
    {
      "cell_type": "markdown",
      "source": [
        "#### 2.2.1 Names not numbers [5 points]\n",
        "We will now use `stations_cleaned_df` to modify our `trips_final_df`. If you look at the rides data, you will notice that both start and end station columns have numbers corresponding to the station ID listed. Using the station ID listed in stations_df, we want to include station names instead of station IDs in our `trips_final_df`.\n",
        "\n",
        "**TO-DO** (`pandas`): \n",
        "* Drop records with missing values and update `trips_cleaned_df`\n",
        "* Create a new dataframe called `trips_final_df` which you'll use after this question. Begin by assigning a **copy** of `trips_cleaned_df` to it.\n",
        "  * **Hint:** Don't just set them equal right away! Refer to the ```.copy()``` function!\n",
        ". \n",
        "* Replace the IDs in the `'start_station'` column of `trips_final_df` with the corresponding station name. \n",
        "* Replace the IDs in the `'end_station'` column of `trips_final_df` with the corresponding station name. \n",
        "* If the any station ID cannot be mapped to a name, the name should be set to 'Unknown'\n",
        "* Sort `trips_final_df` by the trip_id (in ascending order). \n",
        "\n"
      ],
      "metadata": {
        "id": "2fXGZWkF7AeD"
      }
    },
    {
      "cell_type": "code",
      "source": [
        "# TO-DO : Drop missing values\n",
        "trips_cleaned_df.dropna(inplace = True)"
      ],
      "metadata": {
        "id": "ZEbcMIew1CSR"
      },
      "execution_count": 54,
      "outputs": []
    },
    {
      "cell_type": "code",
      "source": [
        "trips_cleaned_df[[\"start_station\", \"end_station\"]] = trips_cleaned_df[[\"start_station\", \"end_station\"]].astype(\"int\")"
      ],
      "metadata": {
        "id": "rT5dzkoZaQ5p"
      },
      "execution_count": 55,
      "outputs": []
    },
    {
      "cell_type": "code",
      "source": [
        "# TO-DO : Create a copy named trips_final_df using .copy()\n",
        "trips_final_df = trips_cleaned_df.copy()"
      ],
      "metadata": {
        "id": "LaTHa9dU1Ehk"
      },
      "execution_count": 56,
      "outputs": []
    },
    {
      "cell_type": "code",
      "source": [
        "trips_cols = list(trips_cleaned_df.columns.values)\n",
        "trips_cols.extend([\"station_name_x\", \"station_name_y\"])"
      ],
      "metadata": {
        "id": "3l6MPlP7NpZ8"
      },
      "execution_count": 57,
      "outputs": []
    },
    {
      "cell_type": "code",
      "source": [
        "trips_final_df = trips_final_df.merge(stations_cleaned_df, how = \"left\", left_on = \"start_station\",\\\n",
        "                                      right_on = \"station_id\").merge(stations_cleaned_df, how = \"left\",\\\n",
        "                                      left_on = \"end_station\", right_on = \"station_id\")[trips_cols]"
      ],
      "metadata": {
        "id": "A6AHTZ1HMZSy"
      },
      "execution_count": 58,
      "outputs": []
    },
    {
      "cell_type": "code",
      "source": [
        "trips_final_df[[\"start_station\", \"end_station\"]] = trips_final_df[[\"station_name_x\", \"station_name_y\"]]\n",
        "trips_final_df.drop([\"station_name_x\", \"station_name_y\"], axis = 1, inplace = True)"
      ],
      "metadata": {
        "id": "i3l86wkHQL31"
      },
      "execution_count": 59,
      "outputs": []
    },
    {
      "cell_type": "code",
      "source": [
        "# TO-DO: Sort trips_final_df by the trip_id\n",
        "trips_final_df.sort_values(\"trip_id\", ascending = True, inplace = True)"
      ],
      "metadata": {
        "id": "EfdLg0mpxANz"
      },
      "execution_count": 60,
      "outputs": []
    },
    {
      "cell_type": "code",
      "source": [
        "# 2 points\n",
        "grader.grade(test_case_id = 'test_stations', answer = trips_final_df)"
      ],
      "metadata": {
        "id": "hXK8HI2j7EL0",
        "colab": {
          "base_uri": "https://localhost:8080/"
        },
        "outputId": "dc3b1850-b573-401b-9c6e-2be52ec13077"
      },
      "execution_count": 61,
      "outputs": [
        {
          "output_type": "stream",
          "name": "stdout",
          "text": [
            "Correct! You earned 2/2 points. You are a star!\n",
            "\n",
            "Your submission has been successfully recorded in the gradebook.\n"
          ]
        }
      ]
    },
    {
      "cell_type": "markdown",
      "source": [
        "**TO-DO** : Repeat the same using `trips_cleaned_df` (only for this sql query) and `pandasql`, saving it as `trips_stations_sql`.\n",
        "\n",
        "<ins>Remember:</ins> If a station ID cannot be mapped to a name, the name should be **NULL**"
      ],
      "metadata": {
        "id": "uon1cRZVZ6vI"
      }
    },
    {
      "cell_type": "code",
      "source": [
        "trips_cleaned_df.head()"
      ],
      "metadata": {
        "colab": {
          "base_uri": "https://localhost:8080/",
          "height": 357
        },
        "id": "iPvNrpf-Sl9V",
        "outputId": "40596d13-3efa-4273-be03-358a035d68d7"
      },
      "execution_count": 62,
      "outputs": [
        {
          "output_type": "execute_result",
          "data": {
            "text/plain": [
              "     trip_id  duration      start_time        end_time  start_station  \\\n",
              "0  536546924         3  10/1/2022 1:50  10/1/2022 1:53           3188   \n",
              "1  536546925         3  10/1/2022 1:50  10/1/2022 1:53           3188   \n",
              "2  536546927         7  10/1/2022 1:48  10/1/2022 1:55           3010   \n",
              "3  536546929         7  10/1/2022 1:48  10/1/2022 1:55           3010   \n",
              "4  536546932         6  10/1/2022 1:41  10/1/2022 1:47           3004   \n",
              "\n",
              "   start_lat  start_lon  end_station    end_lat    end_lon  bike_id  \\\n",
              "0  39.904709 -75.173401         3188  39.904709 -75.173401    11708   \n",
              "1  39.904709 -75.173401         3188  39.904709 -75.173401     3483   \n",
              "2  39.947109 -75.166183         3064  39.938400 -75.173271    14655   \n",
              "3  39.947109 -75.166183         3064  39.938400 -75.173271    12987   \n",
              "4  39.953781 -75.163742         3206  39.951740 -75.170631    22554   \n",
              "\n",
              "  trip_route_category passholder_type bike_type  \n",
              "0          Round Trip        Indego30  standard  \n",
              "1          Round Trip        Indego30  standard  \n",
              "2             One Way        Indego30  standard  \n",
              "3             One Way        Indego30  standard  \n",
              "4             One Way        Day Pass  electric  "
            ],
            "text/html": [
              "\n",
              "  <div id=\"df-e34a7fb2-3475-4958-8d8c-df59ac62357f\">\n",
              "    <div class=\"colab-df-container\">\n",
              "      <div>\n",
              "<style scoped>\n",
              "    .dataframe tbody tr th:only-of-type {\n",
              "        vertical-align: middle;\n",
              "    }\n",
              "\n",
              "    .dataframe tbody tr th {\n",
              "        vertical-align: top;\n",
              "    }\n",
              "\n",
              "    .dataframe thead th {\n",
              "        text-align: right;\n",
              "    }\n",
              "</style>\n",
              "<table border=\"1\" class=\"dataframe\">\n",
              "  <thead>\n",
              "    <tr style=\"text-align: right;\">\n",
              "      <th></th>\n",
              "      <th>trip_id</th>\n",
              "      <th>duration</th>\n",
              "      <th>start_time</th>\n",
              "      <th>end_time</th>\n",
              "      <th>start_station</th>\n",
              "      <th>start_lat</th>\n",
              "      <th>start_lon</th>\n",
              "      <th>end_station</th>\n",
              "      <th>end_lat</th>\n",
              "      <th>end_lon</th>\n",
              "      <th>bike_id</th>\n",
              "      <th>trip_route_category</th>\n",
              "      <th>passholder_type</th>\n",
              "      <th>bike_type</th>\n",
              "    </tr>\n",
              "  </thead>\n",
              "  <tbody>\n",
              "    <tr>\n",
              "      <th>0</th>\n",
              "      <td>536546924</td>\n",
              "      <td>3</td>\n",
              "      <td>10/1/2022 1:50</td>\n",
              "      <td>10/1/2022 1:53</td>\n",
              "      <td>3188</td>\n",
              "      <td>39.904709</td>\n",
              "      <td>-75.173401</td>\n",
              "      <td>3188</td>\n",
              "      <td>39.904709</td>\n",
              "      <td>-75.173401</td>\n",
              "      <td>11708</td>\n",
              "      <td>Round Trip</td>\n",
              "      <td>Indego30</td>\n",
              "      <td>standard</td>\n",
              "    </tr>\n",
              "    <tr>\n",
              "      <th>1</th>\n",
              "      <td>536546925</td>\n",
              "      <td>3</td>\n",
              "      <td>10/1/2022 1:50</td>\n",
              "      <td>10/1/2022 1:53</td>\n",
              "      <td>3188</td>\n",
              "      <td>39.904709</td>\n",
              "      <td>-75.173401</td>\n",
              "      <td>3188</td>\n",
              "      <td>39.904709</td>\n",
              "      <td>-75.173401</td>\n",
              "      <td>3483</td>\n",
              "      <td>Round Trip</td>\n",
              "      <td>Indego30</td>\n",
              "      <td>standard</td>\n",
              "    </tr>\n",
              "    <tr>\n",
              "      <th>2</th>\n",
              "      <td>536546927</td>\n",
              "      <td>7</td>\n",
              "      <td>10/1/2022 1:48</td>\n",
              "      <td>10/1/2022 1:55</td>\n",
              "      <td>3010</td>\n",
              "      <td>39.947109</td>\n",
              "      <td>-75.166183</td>\n",
              "      <td>3064</td>\n",
              "      <td>39.938400</td>\n",
              "      <td>-75.173271</td>\n",
              "      <td>14655</td>\n",
              "      <td>One Way</td>\n",
              "      <td>Indego30</td>\n",
              "      <td>standard</td>\n",
              "    </tr>\n",
              "    <tr>\n",
              "      <th>3</th>\n",
              "      <td>536546929</td>\n",
              "      <td>7</td>\n",
              "      <td>10/1/2022 1:48</td>\n",
              "      <td>10/1/2022 1:55</td>\n",
              "      <td>3010</td>\n",
              "      <td>39.947109</td>\n",
              "      <td>-75.166183</td>\n",
              "      <td>3064</td>\n",
              "      <td>39.938400</td>\n",
              "      <td>-75.173271</td>\n",
              "      <td>12987</td>\n",
              "      <td>One Way</td>\n",
              "      <td>Indego30</td>\n",
              "      <td>standard</td>\n",
              "    </tr>\n",
              "    <tr>\n",
              "      <th>4</th>\n",
              "      <td>536546932</td>\n",
              "      <td>6</td>\n",
              "      <td>10/1/2022 1:41</td>\n",
              "      <td>10/1/2022 1:47</td>\n",
              "      <td>3004</td>\n",
              "      <td>39.953781</td>\n",
              "      <td>-75.163742</td>\n",
              "      <td>3206</td>\n",
              "      <td>39.951740</td>\n",
              "      <td>-75.170631</td>\n",
              "      <td>22554</td>\n",
              "      <td>One Way</td>\n",
              "      <td>Day Pass</td>\n",
              "      <td>electric</td>\n",
              "    </tr>\n",
              "  </tbody>\n",
              "</table>\n",
              "</div>\n",
              "      <button class=\"colab-df-convert\" onclick=\"convertToInteractive('df-e34a7fb2-3475-4958-8d8c-df59ac62357f')\"\n",
              "              title=\"Convert this dataframe to an interactive table.\"\n",
              "              style=\"display:none;\">\n",
              "        \n",
              "  <svg xmlns=\"http://www.w3.org/2000/svg\" height=\"24px\"viewBox=\"0 0 24 24\"\n",
              "       width=\"24px\">\n",
              "    <path d=\"M0 0h24v24H0V0z\" fill=\"none\"/>\n",
              "    <path d=\"M18.56 5.44l.94 2.06.94-2.06 2.06-.94-2.06-.94-.94-2.06-.94 2.06-2.06.94zm-11 1L8.5 8.5l.94-2.06 2.06-.94-2.06-.94L8.5 2.5l-.94 2.06-2.06.94zm10 10l.94 2.06.94-2.06 2.06-.94-2.06-.94-.94-2.06-.94 2.06-2.06.94z\"/><path d=\"M17.41 7.96l-1.37-1.37c-.4-.4-.92-.59-1.43-.59-.52 0-1.04.2-1.43.59L10.3 9.45l-7.72 7.72c-.78.78-.78 2.05 0 2.83L4 21.41c.39.39.9.59 1.41.59.51 0 1.02-.2 1.41-.59l7.78-7.78 2.81-2.81c.8-.78.8-2.07 0-2.86zM5.41 20L4 18.59l7.72-7.72 1.47 1.35L5.41 20z\"/>\n",
              "  </svg>\n",
              "      </button>\n",
              "      \n",
              "  <style>\n",
              "    .colab-df-container {\n",
              "      display:flex;\n",
              "      flex-wrap:wrap;\n",
              "      gap: 12px;\n",
              "    }\n",
              "\n",
              "    .colab-df-convert {\n",
              "      background-color: #E8F0FE;\n",
              "      border: none;\n",
              "      border-radius: 50%;\n",
              "      cursor: pointer;\n",
              "      display: none;\n",
              "      fill: #1967D2;\n",
              "      height: 32px;\n",
              "      padding: 0 0 0 0;\n",
              "      width: 32px;\n",
              "    }\n",
              "\n",
              "    .colab-df-convert:hover {\n",
              "      background-color: #E2EBFA;\n",
              "      box-shadow: 0px 1px 2px rgba(60, 64, 67, 0.3), 0px 1px 3px 1px rgba(60, 64, 67, 0.15);\n",
              "      fill: #174EA6;\n",
              "    }\n",
              "\n",
              "    [theme=dark] .colab-df-convert {\n",
              "      background-color: #3B4455;\n",
              "      fill: #D2E3FC;\n",
              "    }\n",
              "\n",
              "    [theme=dark] .colab-df-convert:hover {\n",
              "      background-color: #434B5C;\n",
              "      box-shadow: 0px 1px 3px 1px rgba(0, 0, 0, 0.15);\n",
              "      filter: drop-shadow(0px 1px 2px rgba(0, 0, 0, 0.3));\n",
              "      fill: #FFFFFF;\n",
              "    }\n",
              "  </style>\n",
              "\n",
              "      <script>\n",
              "        const buttonEl =\n",
              "          document.querySelector('#df-e34a7fb2-3475-4958-8d8c-df59ac62357f button.colab-df-convert');\n",
              "        buttonEl.style.display =\n",
              "          google.colab.kernel.accessAllowed ? 'block' : 'none';\n",
              "\n",
              "        async function convertToInteractive(key) {\n",
              "          const element = document.querySelector('#df-e34a7fb2-3475-4958-8d8c-df59ac62357f');\n",
              "          const dataTable =\n",
              "            await google.colab.kernel.invokeFunction('convertToInteractive',\n",
              "                                                     [key], {});\n",
              "          if (!dataTable) return;\n",
              "\n",
              "          const docLinkHtml = 'Like what you see? Visit the ' +\n",
              "            '<a target=\"_blank\" href=https://colab.research.google.com/notebooks/data_table.ipynb>data table notebook</a>'\n",
              "            + ' to learn more about interactive tables.';\n",
              "          element.innerHTML = '';\n",
              "          dataTable['output_type'] = 'display_data';\n",
              "          await google.colab.output.renderOutput(dataTable, element);\n",
              "          const docLink = document.createElement('div');\n",
              "          docLink.innerHTML = docLinkHtml;\n",
              "          element.appendChild(docLink);\n",
              "        }\n",
              "      </script>\n",
              "    </div>\n",
              "  </div>\n",
              "  "
            ]
          },
          "metadata": {},
          "execution_count": 62
        }
      ]
    },
    {
      "cell_type": "code",
      "source": [
        "stations_cleaned_df.head()"
      ],
      "metadata": {
        "colab": {
          "base_uri": "https://localhost:8080/",
          "height": 206
        },
        "id": "LTILoO_GSqJQ",
        "outputId": "6ffcb13f-5286-4510-9a10-3852f2306b04"
      },
      "execution_count": 63,
      "outputs": [
        {
          "output_type": "execute_result",
          "data": {
            "text/plain": [
              "   station_id                       station_name  zone  is_west_philly\n",
              "0        3000                    Virtual Station     0           False\n",
              "1        3004  Municipal Services Building Plaza     0           False\n",
              "2        3005                  Welcome Park, NPS     0           False\n",
              "3        3006                      40th & Spruce     2            True\n",
              "4        3007             11th & Pine, Kahn Park     0           False"
            ],
            "text/html": [
              "\n",
              "  <div id=\"df-60df341f-2d57-4d61-989a-a9151a17ac19\">\n",
              "    <div class=\"colab-df-container\">\n",
              "      <div>\n",
              "<style scoped>\n",
              "    .dataframe tbody tr th:only-of-type {\n",
              "        vertical-align: middle;\n",
              "    }\n",
              "\n",
              "    .dataframe tbody tr th {\n",
              "        vertical-align: top;\n",
              "    }\n",
              "\n",
              "    .dataframe thead th {\n",
              "        text-align: right;\n",
              "    }\n",
              "</style>\n",
              "<table border=\"1\" class=\"dataframe\">\n",
              "  <thead>\n",
              "    <tr style=\"text-align: right;\">\n",
              "      <th></th>\n",
              "      <th>station_id</th>\n",
              "      <th>station_name</th>\n",
              "      <th>zone</th>\n",
              "      <th>is_west_philly</th>\n",
              "    </tr>\n",
              "  </thead>\n",
              "  <tbody>\n",
              "    <tr>\n",
              "      <th>0</th>\n",
              "      <td>3000</td>\n",
              "      <td>Virtual Station</td>\n",
              "      <td>0</td>\n",
              "      <td>False</td>\n",
              "    </tr>\n",
              "    <tr>\n",
              "      <th>1</th>\n",
              "      <td>3004</td>\n",
              "      <td>Municipal Services Building Plaza</td>\n",
              "      <td>0</td>\n",
              "      <td>False</td>\n",
              "    </tr>\n",
              "    <tr>\n",
              "      <th>2</th>\n",
              "      <td>3005</td>\n",
              "      <td>Welcome Park, NPS</td>\n",
              "      <td>0</td>\n",
              "      <td>False</td>\n",
              "    </tr>\n",
              "    <tr>\n",
              "      <th>3</th>\n",
              "      <td>3006</td>\n",
              "      <td>40th &amp; Spruce</td>\n",
              "      <td>2</td>\n",
              "      <td>True</td>\n",
              "    </tr>\n",
              "    <tr>\n",
              "      <th>4</th>\n",
              "      <td>3007</td>\n",
              "      <td>11th &amp; Pine, Kahn Park</td>\n",
              "      <td>0</td>\n",
              "      <td>False</td>\n",
              "    </tr>\n",
              "  </tbody>\n",
              "</table>\n",
              "</div>\n",
              "      <button class=\"colab-df-convert\" onclick=\"convertToInteractive('df-60df341f-2d57-4d61-989a-a9151a17ac19')\"\n",
              "              title=\"Convert this dataframe to an interactive table.\"\n",
              "              style=\"display:none;\">\n",
              "        \n",
              "  <svg xmlns=\"http://www.w3.org/2000/svg\" height=\"24px\"viewBox=\"0 0 24 24\"\n",
              "       width=\"24px\">\n",
              "    <path d=\"M0 0h24v24H0V0z\" fill=\"none\"/>\n",
              "    <path d=\"M18.56 5.44l.94 2.06.94-2.06 2.06-.94-2.06-.94-.94-2.06-.94 2.06-2.06.94zm-11 1L8.5 8.5l.94-2.06 2.06-.94-2.06-.94L8.5 2.5l-.94 2.06-2.06.94zm10 10l.94 2.06.94-2.06 2.06-.94-2.06-.94-.94-2.06-.94 2.06-2.06.94z\"/><path d=\"M17.41 7.96l-1.37-1.37c-.4-.4-.92-.59-1.43-.59-.52 0-1.04.2-1.43.59L10.3 9.45l-7.72 7.72c-.78.78-.78 2.05 0 2.83L4 21.41c.39.39.9.59 1.41.59.51 0 1.02-.2 1.41-.59l7.78-7.78 2.81-2.81c.8-.78.8-2.07 0-2.86zM5.41 20L4 18.59l7.72-7.72 1.47 1.35L5.41 20z\"/>\n",
              "  </svg>\n",
              "      </button>\n",
              "      \n",
              "  <style>\n",
              "    .colab-df-container {\n",
              "      display:flex;\n",
              "      flex-wrap:wrap;\n",
              "      gap: 12px;\n",
              "    }\n",
              "\n",
              "    .colab-df-convert {\n",
              "      background-color: #E8F0FE;\n",
              "      border: none;\n",
              "      border-radius: 50%;\n",
              "      cursor: pointer;\n",
              "      display: none;\n",
              "      fill: #1967D2;\n",
              "      height: 32px;\n",
              "      padding: 0 0 0 0;\n",
              "      width: 32px;\n",
              "    }\n",
              "\n",
              "    .colab-df-convert:hover {\n",
              "      background-color: #E2EBFA;\n",
              "      box-shadow: 0px 1px 2px rgba(60, 64, 67, 0.3), 0px 1px 3px 1px rgba(60, 64, 67, 0.15);\n",
              "      fill: #174EA6;\n",
              "    }\n",
              "\n",
              "    [theme=dark] .colab-df-convert {\n",
              "      background-color: #3B4455;\n",
              "      fill: #D2E3FC;\n",
              "    }\n",
              "\n",
              "    [theme=dark] .colab-df-convert:hover {\n",
              "      background-color: #434B5C;\n",
              "      box-shadow: 0px 1px 3px 1px rgba(0, 0, 0, 0.15);\n",
              "      filter: drop-shadow(0px 1px 2px rgba(0, 0, 0, 0.3));\n",
              "      fill: #FFFFFF;\n",
              "    }\n",
              "  </style>\n",
              "\n",
              "      <script>\n",
              "        const buttonEl =\n",
              "          document.querySelector('#df-60df341f-2d57-4d61-989a-a9151a17ac19 button.colab-df-convert');\n",
              "        buttonEl.style.display =\n",
              "          google.colab.kernel.accessAllowed ? 'block' : 'none';\n",
              "\n",
              "        async function convertToInteractive(key) {\n",
              "          const element = document.querySelector('#df-60df341f-2d57-4d61-989a-a9151a17ac19');\n",
              "          const dataTable =\n",
              "            await google.colab.kernel.invokeFunction('convertToInteractive',\n",
              "                                                     [key], {});\n",
              "          if (!dataTable) return;\n",
              "\n",
              "          const docLinkHtml = 'Like what you see? Visit the ' +\n",
              "            '<a target=\"_blank\" href=https://colab.research.google.com/notebooks/data_table.ipynb>data table notebook</a>'\n",
              "            + ' to learn more about interactive tables.';\n",
              "          element.innerHTML = '';\n",
              "          dataTable['output_type'] = 'display_data';\n",
              "          await google.colab.output.renderOutput(dataTable, element);\n",
              "          const docLink = document.createElement('div');\n",
              "          docLink.innerHTML = docLinkHtml;\n",
              "          element.appendChild(docLink);\n",
              "        }\n",
              "      </script>\n",
              "    </div>\n",
              "  </div>\n",
              "  "
            ]
          },
          "metadata": {},
          "execution_count": 63
        }
      ]
    },
    {
      "cell_type": "code",
      "source": [
        "#TODO : Use pandasql to replace station IDs with station names in trips_cleaned_df and save it as trips_stations_sql\n",
        "\n",
        "replace_query = \"\"\"\n",
        "                SELECT trip_id, duration, start_time, end_time, t2.station_name AS start_station, start_lat, start_lon, t3.station_name AS end_station, end_lat, end_lon, bike_id, trip_route_category, passholder_type, bike_type\n",
        "                FROM trips_cleaned_df t1\n",
        "                LEFT JOIN stations_cleaned_df t2\n",
        "                  ON t1.start_station = t2.station_id\n",
        "                LEFT JOIN stations_cleaned_df t3\n",
        "                  ON t1.end_station = t3.station_id\n",
        "                \"\"\"\n",
        "\n",
        "trips_stations_sql = ps.sqldf(replace_query, locals())\n",
        "trips_stations_sql"
      ],
      "metadata": {
        "colab": {
          "base_uri": "https://localhost:8080/",
          "height": 748
        },
        "id": "si-0czLgY2m5",
        "outputId": "e3f73bda-8d3d-453e-e40a-25bfa5069585"
      },
      "execution_count": 64,
      "outputs": [
        {
          "output_type": "execute_result",
          "data": {
            "text/plain": [
              "         trip_id  duration       start_time         end_time  \\\n",
              "0      536546924         3   10/1/2022 1:50   10/1/2022 1:53   \n",
              "1      536546925         3   10/1/2022 1:50   10/1/2022 1:53   \n",
              "2      536546927         7   10/1/2022 1:48   10/1/2022 1:55   \n",
              "3      536546929         7   10/1/2022 1:48   10/1/2022 1:55   \n",
              "4      536546932         6   10/1/2022 1:41   10/1/2022 1:47   \n",
              "...          ...       ...              ...              ...   \n",
              "15250  540422839       100  10/7/2022 21:36  10/7/2022 23:16   \n",
              "15251  540422840       102  10/7/2022 21:35  10/7/2022 23:17   \n",
              "15252  540422841       102  10/7/2022 21:34  10/7/2022 23:16   \n",
              "15253  540422860        50  10/7/2022 21:27  10/7/2022 22:17   \n",
              "15254  540422896        53  10/7/2022 21:12  10/7/2022 22:05   \n",
              "\n",
              "                           start_station  start_lat  start_lon  \\\n",
              "0                  Broad & Pattison, BSL  39.904709 -75.173401   \n",
              "1                  Broad & Pattison, BSL  39.904709 -75.173401   \n",
              "2                          15th & Spruce  39.947109 -75.166183   \n",
              "3                          15th & Spruce  39.947109 -75.166183   \n",
              "4      Municipal Services Building Plaza  39.953781 -75.163742   \n",
              "...                                  ...        ...        ...   \n",
              "15250                      13th & Locust  39.947922 -75.162369   \n",
              "15251                      13th & Locust  39.947922 -75.162369   \n",
              "15252                      13th & Locust  39.947922 -75.162369   \n",
              "15253                    12th & Chestnut  39.950249 -75.160278   \n",
              "15254                         2nd & Race  39.953819 -75.142632   \n",
              "\n",
              "                              end_station    end_lat    end_lon  bike_id  \\\n",
              "0                   Broad & Pattison, BSL  39.904709 -75.173401    11708   \n",
              "1                   Broad & Pattison, BSL  39.904709 -75.173401     3483   \n",
              "2      18th & Washington, Chew Playground  39.938400 -75.173271    14655   \n",
              "3      18th & Washington, Chew Playground  39.938400 -75.173271    12987   \n",
              "4                         18th & Chestnut  39.951740 -75.170631    22554   \n",
              "...                                   ...        ...        ...      ...   \n",
              "15250                       13th & Locust  39.947922 -75.162369    22404   \n",
              "15251                       13th & Locust  39.947922 -75.162369    23321   \n",
              "15252                       13th & Locust  39.947922 -75.162369    22950   \n",
              "15253                      Broad & Girard  39.971569 -75.159927    14533   \n",
              "15254                         2nd & Brown  39.963039 -75.140991     3570   \n",
              "\n",
              "      trip_route_category passholder_type bike_type  \n",
              "0              Round Trip        Indego30  standard  \n",
              "1              Round Trip        Indego30  standard  \n",
              "2                 One Way        Indego30  standard  \n",
              "3                 One Way        Indego30  standard  \n",
              "4                 One Way        Day Pass  electric  \n",
              "...                   ...             ...       ...  \n",
              "15250          Round Trip        Day Pass  electric  \n",
              "15251          Round Trip        Day Pass  electric  \n",
              "15252          Round Trip        Day Pass  electric  \n",
              "15253             One Way        Indego30  standard  \n",
              "15254             One Way       Indego365  standard  \n",
              "\n",
              "[15255 rows x 14 columns]"
            ],
            "text/html": [
              "\n",
              "  <div id=\"df-a41f8266-aa3d-4e35-a49d-85f628833667\">\n",
              "    <div class=\"colab-df-container\">\n",
              "      <div>\n",
              "<style scoped>\n",
              "    .dataframe tbody tr th:only-of-type {\n",
              "        vertical-align: middle;\n",
              "    }\n",
              "\n",
              "    .dataframe tbody tr th {\n",
              "        vertical-align: top;\n",
              "    }\n",
              "\n",
              "    .dataframe thead th {\n",
              "        text-align: right;\n",
              "    }\n",
              "</style>\n",
              "<table border=\"1\" class=\"dataframe\">\n",
              "  <thead>\n",
              "    <tr style=\"text-align: right;\">\n",
              "      <th></th>\n",
              "      <th>trip_id</th>\n",
              "      <th>duration</th>\n",
              "      <th>start_time</th>\n",
              "      <th>end_time</th>\n",
              "      <th>start_station</th>\n",
              "      <th>start_lat</th>\n",
              "      <th>start_lon</th>\n",
              "      <th>end_station</th>\n",
              "      <th>end_lat</th>\n",
              "      <th>end_lon</th>\n",
              "      <th>bike_id</th>\n",
              "      <th>trip_route_category</th>\n",
              "      <th>passholder_type</th>\n",
              "      <th>bike_type</th>\n",
              "    </tr>\n",
              "  </thead>\n",
              "  <tbody>\n",
              "    <tr>\n",
              "      <th>0</th>\n",
              "      <td>536546924</td>\n",
              "      <td>3</td>\n",
              "      <td>10/1/2022 1:50</td>\n",
              "      <td>10/1/2022 1:53</td>\n",
              "      <td>Broad &amp; Pattison, BSL</td>\n",
              "      <td>39.904709</td>\n",
              "      <td>-75.173401</td>\n",
              "      <td>Broad &amp; Pattison, BSL</td>\n",
              "      <td>39.904709</td>\n",
              "      <td>-75.173401</td>\n",
              "      <td>11708</td>\n",
              "      <td>Round Trip</td>\n",
              "      <td>Indego30</td>\n",
              "      <td>standard</td>\n",
              "    </tr>\n",
              "    <tr>\n",
              "      <th>1</th>\n",
              "      <td>536546925</td>\n",
              "      <td>3</td>\n",
              "      <td>10/1/2022 1:50</td>\n",
              "      <td>10/1/2022 1:53</td>\n",
              "      <td>Broad &amp; Pattison, BSL</td>\n",
              "      <td>39.904709</td>\n",
              "      <td>-75.173401</td>\n",
              "      <td>Broad &amp; Pattison, BSL</td>\n",
              "      <td>39.904709</td>\n",
              "      <td>-75.173401</td>\n",
              "      <td>3483</td>\n",
              "      <td>Round Trip</td>\n",
              "      <td>Indego30</td>\n",
              "      <td>standard</td>\n",
              "    </tr>\n",
              "    <tr>\n",
              "      <th>2</th>\n",
              "      <td>536546927</td>\n",
              "      <td>7</td>\n",
              "      <td>10/1/2022 1:48</td>\n",
              "      <td>10/1/2022 1:55</td>\n",
              "      <td>15th &amp; Spruce</td>\n",
              "      <td>39.947109</td>\n",
              "      <td>-75.166183</td>\n",
              "      <td>18th &amp; Washington, Chew Playground</td>\n",
              "      <td>39.938400</td>\n",
              "      <td>-75.173271</td>\n",
              "      <td>14655</td>\n",
              "      <td>One Way</td>\n",
              "      <td>Indego30</td>\n",
              "      <td>standard</td>\n",
              "    </tr>\n",
              "    <tr>\n",
              "      <th>3</th>\n",
              "      <td>536546929</td>\n",
              "      <td>7</td>\n",
              "      <td>10/1/2022 1:48</td>\n",
              "      <td>10/1/2022 1:55</td>\n",
              "      <td>15th &amp; Spruce</td>\n",
              "      <td>39.947109</td>\n",
              "      <td>-75.166183</td>\n",
              "      <td>18th &amp; Washington, Chew Playground</td>\n",
              "      <td>39.938400</td>\n",
              "      <td>-75.173271</td>\n",
              "      <td>12987</td>\n",
              "      <td>One Way</td>\n",
              "      <td>Indego30</td>\n",
              "      <td>standard</td>\n",
              "    </tr>\n",
              "    <tr>\n",
              "      <th>4</th>\n",
              "      <td>536546932</td>\n",
              "      <td>6</td>\n",
              "      <td>10/1/2022 1:41</td>\n",
              "      <td>10/1/2022 1:47</td>\n",
              "      <td>Municipal Services Building Plaza</td>\n",
              "      <td>39.953781</td>\n",
              "      <td>-75.163742</td>\n",
              "      <td>18th &amp; Chestnut</td>\n",
              "      <td>39.951740</td>\n",
              "      <td>-75.170631</td>\n",
              "      <td>22554</td>\n",
              "      <td>One Way</td>\n",
              "      <td>Day Pass</td>\n",
              "      <td>electric</td>\n",
              "    </tr>\n",
              "    <tr>\n",
              "      <th>...</th>\n",
              "      <td>...</td>\n",
              "      <td>...</td>\n",
              "      <td>...</td>\n",
              "      <td>...</td>\n",
              "      <td>...</td>\n",
              "      <td>...</td>\n",
              "      <td>...</td>\n",
              "      <td>...</td>\n",
              "      <td>...</td>\n",
              "      <td>...</td>\n",
              "      <td>...</td>\n",
              "      <td>...</td>\n",
              "      <td>...</td>\n",
              "      <td>...</td>\n",
              "    </tr>\n",
              "    <tr>\n",
              "      <th>15250</th>\n",
              "      <td>540422839</td>\n",
              "      <td>100</td>\n",
              "      <td>10/7/2022 21:36</td>\n",
              "      <td>10/7/2022 23:16</td>\n",
              "      <td>13th &amp; Locust</td>\n",
              "      <td>39.947922</td>\n",
              "      <td>-75.162369</td>\n",
              "      <td>13th &amp; Locust</td>\n",
              "      <td>39.947922</td>\n",
              "      <td>-75.162369</td>\n",
              "      <td>22404</td>\n",
              "      <td>Round Trip</td>\n",
              "      <td>Day Pass</td>\n",
              "      <td>electric</td>\n",
              "    </tr>\n",
              "    <tr>\n",
              "      <th>15251</th>\n",
              "      <td>540422840</td>\n",
              "      <td>102</td>\n",
              "      <td>10/7/2022 21:35</td>\n",
              "      <td>10/7/2022 23:17</td>\n",
              "      <td>13th &amp; Locust</td>\n",
              "      <td>39.947922</td>\n",
              "      <td>-75.162369</td>\n",
              "      <td>13th &amp; Locust</td>\n",
              "      <td>39.947922</td>\n",
              "      <td>-75.162369</td>\n",
              "      <td>23321</td>\n",
              "      <td>Round Trip</td>\n",
              "      <td>Day Pass</td>\n",
              "      <td>electric</td>\n",
              "    </tr>\n",
              "    <tr>\n",
              "      <th>15252</th>\n",
              "      <td>540422841</td>\n",
              "      <td>102</td>\n",
              "      <td>10/7/2022 21:34</td>\n",
              "      <td>10/7/2022 23:16</td>\n",
              "      <td>13th &amp; Locust</td>\n",
              "      <td>39.947922</td>\n",
              "      <td>-75.162369</td>\n",
              "      <td>13th &amp; Locust</td>\n",
              "      <td>39.947922</td>\n",
              "      <td>-75.162369</td>\n",
              "      <td>22950</td>\n",
              "      <td>Round Trip</td>\n",
              "      <td>Day Pass</td>\n",
              "      <td>electric</td>\n",
              "    </tr>\n",
              "    <tr>\n",
              "      <th>15253</th>\n",
              "      <td>540422860</td>\n",
              "      <td>50</td>\n",
              "      <td>10/7/2022 21:27</td>\n",
              "      <td>10/7/2022 22:17</td>\n",
              "      <td>12th &amp; Chestnut</td>\n",
              "      <td>39.950249</td>\n",
              "      <td>-75.160278</td>\n",
              "      <td>Broad &amp; Girard</td>\n",
              "      <td>39.971569</td>\n",
              "      <td>-75.159927</td>\n",
              "      <td>14533</td>\n",
              "      <td>One Way</td>\n",
              "      <td>Indego30</td>\n",
              "      <td>standard</td>\n",
              "    </tr>\n",
              "    <tr>\n",
              "      <th>15254</th>\n",
              "      <td>540422896</td>\n",
              "      <td>53</td>\n",
              "      <td>10/7/2022 21:12</td>\n",
              "      <td>10/7/2022 22:05</td>\n",
              "      <td>2nd &amp; Race</td>\n",
              "      <td>39.953819</td>\n",
              "      <td>-75.142632</td>\n",
              "      <td>2nd &amp; Brown</td>\n",
              "      <td>39.963039</td>\n",
              "      <td>-75.140991</td>\n",
              "      <td>3570</td>\n",
              "      <td>One Way</td>\n",
              "      <td>Indego365</td>\n",
              "      <td>standard</td>\n",
              "    </tr>\n",
              "  </tbody>\n",
              "</table>\n",
              "<p>15255 rows × 14 columns</p>\n",
              "</div>\n",
              "      <button class=\"colab-df-convert\" onclick=\"convertToInteractive('df-a41f8266-aa3d-4e35-a49d-85f628833667')\"\n",
              "              title=\"Convert this dataframe to an interactive table.\"\n",
              "              style=\"display:none;\">\n",
              "        \n",
              "  <svg xmlns=\"http://www.w3.org/2000/svg\" height=\"24px\"viewBox=\"0 0 24 24\"\n",
              "       width=\"24px\">\n",
              "    <path d=\"M0 0h24v24H0V0z\" fill=\"none\"/>\n",
              "    <path d=\"M18.56 5.44l.94 2.06.94-2.06 2.06-.94-2.06-.94-.94-2.06-.94 2.06-2.06.94zm-11 1L8.5 8.5l.94-2.06 2.06-.94-2.06-.94L8.5 2.5l-.94 2.06-2.06.94zm10 10l.94 2.06.94-2.06 2.06-.94-2.06-.94-.94-2.06-.94 2.06-2.06.94z\"/><path d=\"M17.41 7.96l-1.37-1.37c-.4-.4-.92-.59-1.43-.59-.52 0-1.04.2-1.43.59L10.3 9.45l-7.72 7.72c-.78.78-.78 2.05 0 2.83L4 21.41c.39.39.9.59 1.41.59.51 0 1.02-.2 1.41-.59l7.78-7.78 2.81-2.81c.8-.78.8-2.07 0-2.86zM5.41 20L4 18.59l7.72-7.72 1.47 1.35L5.41 20z\"/>\n",
              "  </svg>\n",
              "      </button>\n",
              "      \n",
              "  <style>\n",
              "    .colab-df-container {\n",
              "      display:flex;\n",
              "      flex-wrap:wrap;\n",
              "      gap: 12px;\n",
              "    }\n",
              "\n",
              "    .colab-df-convert {\n",
              "      background-color: #E8F0FE;\n",
              "      border: none;\n",
              "      border-radius: 50%;\n",
              "      cursor: pointer;\n",
              "      display: none;\n",
              "      fill: #1967D2;\n",
              "      height: 32px;\n",
              "      padding: 0 0 0 0;\n",
              "      width: 32px;\n",
              "    }\n",
              "\n",
              "    .colab-df-convert:hover {\n",
              "      background-color: #E2EBFA;\n",
              "      box-shadow: 0px 1px 2px rgba(60, 64, 67, 0.3), 0px 1px 3px 1px rgba(60, 64, 67, 0.15);\n",
              "      fill: #174EA6;\n",
              "    }\n",
              "\n",
              "    [theme=dark] .colab-df-convert {\n",
              "      background-color: #3B4455;\n",
              "      fill: #D2E3FC;\n",
              "    }\n",
              "\n",
              "    [theme=dark] .colab-df-convert:hover {\n",
              "      background-color: #434B5C;\n",
              "      box-shadow: 0px 1px 3px 1px rgba(0, 0, 0, 0.15);\n",
              "      filter: drop-shadow(0px 1px 2px rgba(0, 0, 0, 0.3));\n",
              "      fill: #FFFFFF;\n",
              "    }\n",
              "  </style>\n",
              "\n",
              "      <script>\n",
              "        const buttonEl =\n",
              "          document.querySelector('#df-a41f8266-aa3d-4e35-a49d-85f628833667 button.colab-df-convert');\n",
              "        buttonEl.style.display =\n",
              "          google.colab.kernel.accessAllowed ? 'block' : 'none';\n",
              "\n",
              "        async function convertToInteractive(key) {\n",
              "          const element = document.querySelector('#df-a41f8266-aa3d-4e35-a49d-85f628833667');\n",
              "          const dataTable =\n",
              "            await google.colab.kernel.invokeFunction('convertToInteractive',\n",
              "                                                     [key], {});\n",
              "          if (!dataTable) return;\n",
              "\n",
              "          const docLinkHtml = 'Like what you see? Visit the ' +\n",
              "            '<a target=\"_blank\" href=https://colab.research.google.com/notebooks/data_table.ipynb>data table notebook</a>'\n",
              "            + ' to learn more about interactive tables.';\n",
              "          element.innerHTML = '';\n",
              "          dataTable['output_type'] = 'display_data';\n",
              "          await google.colab.output.renderOutput(dataTable, element);\n",
              "          const docLink = document.createElement('div');\n",
              "          docLink.innerHTML = docLinkHtml;\n",
              "          element.appendChild(docLink);\n",
              "        }\n",
              "      </script>\n",
              "    </div>\n",
              "  </div>\n",
              "  "
            ]
          },
          "metadata": {},
          "execution_count": 64
        }
      ]
    },
    {
      "cell_type": "code",
      "source": [
        "#3 points\n",
        "grader.grade(test_case_id = 'test_stations_sql', answer = (trips_stations_sql, replace_query))"
      ],
      "metadata": {
        "id": "rnEiHa_8Zs--",
        "colab": {
          "base_uri": "https://localhost:8080/"
        },
        "outputId": "762e0b4f-7062-4735-df7a-80ccc2fc7a37"
      },
      "execution_count": 65,
      "outputs": [
        {
          "output_type": "stream",
          "name": "stdout",
          "text": [
            "Correct! You earned 3/3 points. You are a star!\n",
            "\n",
            "Your submission has been successfully recorded in the gradebook.\n"
          ]
        }
      ]
    },
    {
      "cell_type": "markdown",
      "source": [
        "#### 2.2.2 Morning Class? (5 points)\n",
        "We are all pretty familiar with University City, most of you probably live in or commute to this area every day. We want to count the number of people who start out at the University City Station before noon. \n",
        "\n",
        "**TO-DO**: \n",
        "* The first step involved is creating a new column in `trips_final_df` called `hour` where you will extract the hour of the `start_time` column. You can do this using pandas, and an apply function. \n",
        "* The next step is to use `pandasql` to count the number of rides that start at the 'University City Station' before noon (do not include trips with hour 12) and store the result in a dataframe called `ucity_df`, with the column name as `ride_count`.\n",
        "\n",
        "**Hint**: you may find it helpful to look up the `.Timestamp()` function to understand how to extract the hour of a particular date. "
      ],
      "metadata": {
        "id": "_BuyVlRb7EvA"
      }
    },
    {
      "cell_type": "code",
      "source": [
        "#TODO : Create a new column called hour\n",
        "trips_final_df[\"start_time\"] = pd.to_datetime(trips_final_df[\"start_time\"])\n",
        "trips_final_df[\"hour\"] = trips_final_df[\"start_time\"].apply(lambda x: x.hour)"
      ],
      "metadata": {
        "id": "bUWKZMoA7I5E"
      },
      "execution_count": 66,
      "outputs": []
    },
    {
      "cell_type": "code",
      "source": [
        "# Count the number of rides before noon that started at `University City Station`\n",
        "ucity_query = \"\"\" \n",
        "              SELECT COUNT(*) as ride_count\n",
        "              FROM trips_final_df\n",
        "              WHERE hour < 12 AND start_station = \"University City Station\"\n",
        "              \"\"\"\n",
        "\n",
        "ucity_df = ps.sqldf(ucity_query, locals())\n",
        "ucity_df "
      ],
      "metadata": {
        "id": "gfga-M2B7InM",
        "colab": {
          "base_uri": "https://localhost:8080/",
          "height": 81
        },
        "outputId": "7444eb90-d024-48cf-8128-5075c188d4f4"
      },
      "execution_count": 67,
      "outputs": [
        {
          "output_type": "execute_result",
          "data": {
            "text/plain": [
              "   ride_count\n",
              "0          23"
            ],
            "text/html": [
              "\n",
              "  <div id=\"df-75bbc6f5-6314-4e7f-8f85-95ed4bd4d21c\">\n",
              "    <div class=\"colab-df-container\">\n",
              "      <div>\n",
              "<style scoped>\n",
              "    .dataframe tbody tr th:only-of-type {\n",
              "        vertical-align: middle;\n",
              "    }\n",
              "\n",
              "    .dataframe tbody tr th {\n",
              "        vertical-align: top;\n",
              "    }\n",
              "\n",
              "    .dataframe thead th {\n",
              "        text-align: right;\n",
              "    }\n",
              "</style>\n",
              "<table border=\"1\" class=\"dataframe\">\n",
              "  <thead>\n",
              "    <tr style=\"text-align: right;\">\n",
              "      <th></th>\n",
              "      <th>ride_count</th>\n",
              "    </tr>\n",
              "  </thead>\n",
              "  <tbody>\n",
              "    <tr>\n",
              "      <th>0</th>\n",
              "      <td>23</td>\n",
              "    </tr>\n",
              "  </tbody>\n",
              "</table>\n",
              "</div>\n",
              "      <button class=\"colab-df-convert\" onclick=\"convertToInteractive('df-75bbc6f5-6314-4e7f-8f85-95ed4bd4d21c')\"\n",
              "              title=\"Convert this dataframe to an interactive table.\"\n",
              "              style=\"display:none;\">\n",
              "        \n",
              "  <svg xmlns=\"http://www.w3.org/2000/svg\" height=\"24px\"viewBox=\"0 0 24 24\"\n",
              "       width=\"24px\">\n",
              "    <path d=\"M0 0h24v24H0V0z\" fill=\"none\"/>\n",
              "    <path d=\"M18.56 5.44l.94 2.06.94-2.06 2.06-.94-2.06-.94-.94-2.06-.94 2.06-2.06.94zm-11 1L8.5 8.5l.94-2.06 2.06-.94-2.06-.94L8.5 2.5l-.94 2.06-2.06.94zm10 10l.94 2.06.94-2.06 2.06-.94-2.06-.94-.94-2.06-.94 2.06-2.06.94z\"/><path d=\"M17.41 7.96l-1.37-1.37c-.4-.4-.92-.59-1.43-.59-.52 0-1.04.2-1.43.59L10.3 9.45l-7.72 7.72c-.78.78-.78 2.05 0 2.83L4 21.41c.39.39.9.59 1.41.59.51 0 1.02-.2 1.41-.59l7.78-7.78 2.81-2.81c.8-.78.8-2.07 0-2.86zM5.41 20L4 18.59l7.72-7.72 1.47 1.35L5.41 20z\"/>\n",
              "  </svg>\n",
              "      </button>\n",
              "      \n",
              "  <style>\n",
              "    .colab-df-container {\n",
              "      display:flex;\n",
              "      flex-wrap:wrap;\n",
              "      gap: 12px;\n",
              "    }\n",
              "\n",
              "    .colab-df-convert {\n",
              "      background-color: #E8F0FE;\n",
              "      border: none;\n",
              "      border-radius: 50%;\n",
              "      cursor: pointer;\n",
              "      display: none;\n",
              "      fill: #1967D2;\n",
              "      height: 32px;\n",
              "      padding: 0 0 0 0;\n",
              "      width: 32px;\n",
              "    }\n",
              "\n",
              "    .colab-df-convert:hover {\n",
              "      background-color: #E2EBFA;\n",
              "      box-shadow: 0px 1px 2px rgba(60, 64, 67, 0.3), 0px 1px 3px 1px rgba(60, 64, 67, 0.15);\n",
              "      fill: #174EA6;\n",
              "    }\n",
              "\n",
              "    [theme=dark] .colab-df-convert {\n",
              "      background-color: #3B4455;\n",
              "      fill: #D2E3FC;\n",
              "    }\n",
              "\n",
              "    [theme=dark] .colab-df-convert:hover {\n",
              "      background-color: #434B5C;\n",
              "      box-shadow: 0px 1px 3px 1px rgba(0, 0, 0, 0.15);\n",
              "      filter: drop-shadow(0px 1px 2px rgba(0, 0, 0, 0.3));\n",
              "      fill: #FFFFFF;\n",
              "    }\n",
              "  </style>\n",
              "\n",
              "      <script>\n",
              "        const buttonEl =\n",
              "          document.querySelector('#df-75bbc6f5-6314-4e7f-8f85-95ed4bd4d21c button.colab-df-convert');\n",
              "        buttonEl.style.display =\n",
              "          google.colab.kernel.accessAllowed ? 'block' : 'none';\n",
              "\n",
              "        async function convertToInteractive(key) {\n",
              "          const element = document.querySelector('#df-75bbc6f5-6314-4e7f-8f85-95ed4bd4d21c');\n",
              "          const dataTable =\n",
              "            await google.colab.kernel.invokeFunction('convertToInteractive',\n",
              "                                                     [key], {});\n",
              "          if (!dataTable) return;\n",
              "\n",
              "          const docLinkHtml = 'Like what you see? Visit the ' +\n",
              "            '<a target=\"_blank\" href=https://colab.research.google.com/notebooks/data_table.ipynb>data table notebook</a>'\n",
              "            + ' to learn more about interactive tables.';\n",
              "          element.innerHTML = '';\n",
              "          dataTable['output_type'] = 'display_data';\n",
              "          await google.colab.output.renderOutput(dataTable, element);\n",
              "          const docLink = document.createElement('div');\n",
              "          docLink.innerHTML = docLinkHtml;\n",
              "          element.appendChild(docLink);\n",
              "        }\n",
              "      </script>\n",
              "    </div>\n",
              "  </div>\n",
              "  "
            ]
          },
          "metadata": {},
          "execution_count": 67
        }
      ]
    },
    {
      "cell_type": "code",
      "source": [
        "# 7 points\n",
        "grader.grade(test_case_id = 'test_ucity', answer = (trips_final_df, ucity_df, ucity_query))"
      ],
      "metadata": {
        "id": "I8i6HGFDJPi1",
        "colab": {
          "base_uri": "https://localhost:8080/"
        },
        "outputId": "e123430b-6dfb-4b75-f2ae-ac7faa6713a6"
      },
      "execution_count": 68,
      "outputs": [
        {
          "output_type": "stream",
          "name": "stdout",
          "text": [
            "Correct! You earned 5/5 points. You are a star!\n",
            "\n",
            "Your submission has been successfully recorded in the gradebook.\n"
          ]
        }
      ]
    },
    {
      "cell_type": "markdown",
      "source": [
        "#### 2.2.3 Most Popular Stations (6 points)\n",
        "We now want to see which stations from `trips_final_df` are used most frequently. \n",
        "\n",
        "**TODO**: \n",
        "* Find the total number of rides for each `start_station`\n",
        "* Return the top 3 most frequently used stations in a dataframe named `top3_df` where the schema looks like this:\n",
        "\n",
        "> Station | Count_rides\n",
        "> --- | ---\n",
        "\n",
        "**Hint**: Use `pandasql` to do this in ONE query. "
      ],
      "metadata": {
        "id": "aCCk-rrn7JOg"
      }
    },
    {
      "cell_type": "code",
      "source": [
        "#TODO: Return the top three used stations by number of rides\n",
        "top3_query = \"\"\"  \n",
        "             SELECT start_station as Station, COUNT(*) as Count_rides\n",
        "             FROM trips_final_df\n",
        "             GROUP BY start_station\n",
        "             ORDER BY Count_rides DESC\n",
        "             LIMIT 3\n",
        "             \"\"\"\n",
        "\n",
        "top3_df = ps.sqldf(top3_query, locals())\n",
        "top3_df"
      ],
      "metadata": {
        "id": "ZaZqjaky7PHB",
        "colab": {
          "base_uri": "https://localhost:8080/",
          "height": 143
        },
        "outputId": "cd0f4df4-6d96-446f-dca8-ddd4b5c7820c"
      },
      "execution_count": 69,
      "outputs": [
        {
          "output_type": "execute_result",
          "data": {
            "text/plain": [
              "           Station  Count_rides\n",
              "0    17th & Locust          267\n",
              "1  12th & Chestnut          238\n",
              "2    15th & Spruce          233"
            ],
            "text/html": [
              "\n",
              "  <div id=\"df-f9026889-fc1d-46ce-b62e-38283efd20db\">\n",
              "    <div class=\"colab-df-container\">\n",
              "      <div>\n",
              "<style scoped>\n",
              "    .dataframe tbody tr th:only-of-type {\n",
              "        vertical-align: middle;\n",
              "    }\n",
              "\n",
              "    .dataframe tbody tr th {\n",
              "        vertical-align: top;\n",
              "    }\n",
              "\n",
              "    .dataframe thead th {\n",
              "        text-align: right;\n",
              "    }\n",
              "</style>\n",
              "<table border=\"1\" class=\"dataframe\">\n",
              "  <thead>\n",
              "    <tr style=\"text-align: right;\">\n",
              "      <th></th>\n",
              "      <th>Station</th>\n",
              "      <th>Count_rides</th>\n",
              "    </tr>\n",
              "  </thead>\n",
              "  <tbody>\n",
              "    <tr>\n",
              "      <th>0</th>\n",
              "      <td>17th &amp; Locust</td>\n",
              "      <td>267</td>\n",
              "    </tr>\n",
              "    <tr>\n",
              "      <th>1</th>\n",
              "      <td>12th &amp; Chestnut</td>\n",
              "      <td>238</td>\n",
              "    </tr>\n",
              "    <tr>\n",
              "      <th>2</th>\n",
              "      <td>15th &amp; Spruce</td>\n",
              "      <td>233</td>\n",
              "    </tr>\n",
              "  </tbody>\n",
              "</table>\n",
              "</div>\n",
              "      <button class=\"colab-df-convert\" onclick=\"convertToInteractive('df-f9026889-fc1d-46ce-b62e-38283efd20db')\"\n",
              "              title=\"Convert this dataframe to an interactive table.\"\n",
              "              style=\"display:none;\">\n",
              "        \n",
              "  <svg xmlns=\"http://www.w3.org/2000/svg\" height=\"24px\"viewBox=\"0 0 24 24\"\n",
              "       width=\"24px\">\n",
              "    <path d=\"M0 0h24v24H0V0z\" fill=\"none\"/>\n",
              "    <path d=\"M18.56 5.44l.94 2.06.94-2.06 2.06-.94-2.06-.94-.94-2.06-.94 2.06-2.06.94zm-11 1L8.5 8.5l.94-2.06 2.06-.94-2.06-.94L8.5 2.5l-.94 2.06-2.06.94zm10 10l.94 2.06.94-2.06 2.06-.94-2.06-.94-.94-2.06-.94 2.06-2.06.94z\"/><path d=\"M17.41 7.96l-1.37-1.37c-.4-.4-.92-.59-1.43-.59-.52 0-1.04.2-1.43.59L10.3 9.45l-7.72 7.72c-.78.78-.78 2.05 0 2.83L4 21.41c.39.39.9.59 1.41.59.51 0 1.02-.2 1.41-.59l7.78-7.78 2.81-2.81c.8-.78.8-2.07 0-2.86zM5.41 20L4 18.59l7.72-7.72 1.47 1.35L5.41 20z\"/>\n",
              "  </svg>\n",
              "      </button>\n",
              "      \n",
              "  <style>\n",
              "    .colab-df-container {\n",
              "      display:flex;\n",
              "      flex-wrap:wrap;\n",
              "      gap: 12px;\n",
              "    }\n",
              "\n",
              "    .colab-df-convert {\n",
              "      background-color: #E8F0FE;\n",
              "      border: none;\n",
              "      border-radius: 50%;\n",
              "      cursor: pointer;\n",
              "      display: none;\n",
              "      fill: #1967D2;\n",
              "      height: 32px;\n",
              "      padding: 0 0 0 0;\n",
              "      width: 32px;\n",
              "    }\n",
              "\n",
              "    .colab-df-convert:hover {\n",
              "      background-color: #E2EBFA;\n",
              "      box-shadow: 0px 1px 2px rgba(60, 64, 67, 0.3), 0px 1px 3px 1px rgba(60, 64, 67, 0.15);\n",
              "      fill: #174EA6;\n",
              "    }\n",
              "\n",
              "    [theme=dark] .colab-df-convert {\n",
              "      background-color: #3B4455;\n",
              "      fill: #D2E3FC;\n",
              "    }\n",
              "\n",
              "    [theme=dark] .colab-df-convert:hover {\n",
              "      background-color: #434B5C;\n",
              "      box-shadow: 0px 1px 3px 1px rgba(0, 0, 0, 0.15);\n",
              "      filter: drop-shadow(0px 1px 2px rgba(0, 0, 0, 0.3));\n",
              "      fill: #FFFFFF;\n",
              "    }\n",
              "  </style>\n",
              "\n",
              "      <script>\n",
              "        const buttonEl =\n",
              "          document.querySelector('#df-f9026889-fc1d-46ce-b62e-38283efd20db button.colab-df-convert');\n",
              "        buttonEl.style.display =\n",
              "          google.colab.kernel.accessAllowed ? 'block' : 'none';\n",
              "\n",
              "        async function convertToInteractive(key) {\n",
              "          const element = document.querySelector('#df-f9026889-fc1d-46ce-b62e-38283efd20db');\n",
              "          const dataTable =\n",
              "            await google.colab.kernel.invokeFunction('convertToInteractive',\n",
              "                                                     [key], {});\n",
              "          if (!dataTable) return;\n",
              "\n",
              "          const docLinkHtml = 'Like what you see? Visit the ' +\n",
              "            '<a target=\"_blank\" href=https://colab.research.google.com/notebooks/data_table.ipynb>data table notebook</a>'\n",
              "            + ' to learn more about interactive tables.';\n",
              "          element.innerHTML = '';\n",
              "          dataTable['output_type'] = 'display_data';\n",
              "          await google.colab.output.renderOutput(dataTable, element);\n",
              "          const docLink = document.createElement('div');\n",
              "          docLink.innerHTML = docLinkHtml;\n",
              "          element.appendChild(docLink);\n",
              "        }\n",
              "      </script>\n",
              "    </div>\n",
              "  </div>\n",
              "  "
            ]
          },
          "metadata": {},
          "execution_count": 69
        }
      ]
    },
    {
      "cell_type": "code",
      "source": [
        "# 6 points\n",
        "grader.grade(test_case_id = 'test_freq_stat', answer = (top3_query,top3_df))"
      ],
      "metadata": {
        "id": "nCcj1xdr7O2H",
        "colab": {
          "base_uri": "https://localhost:8080/"
        },
        "outputId": "7f180396-4a4c-4e62-e647-e5d2d3e5e51a"
      },
      "execution_count": 70,
      "outputs": [
        {
          "output_type": "stream",
          "name": "stdout",
          "text": [
            "Correct! You earned 6/6 points. You are a star!\n",
            "\n",
            "Your submission has been successfully recorded in the gradebook.\n"
          ]
        }
      ]
    },
    {
      "cell_type": "markdown",
      "source": [
        "### 2.3 Determining the Distance [8 points]\n",
        "\n",
        "We are going to be using a new package called geopy to calculate the distance between the start and end stations for a particular ride. \n",
        "\n",
        "`geopy` has been imported as `gp` above, and the `.geodesic()` gives you the distance between two sets of coordinates. We have the coordinates for the start_station and end_station for each ride. \n",
        "\n",
        "**TO-DO**: \n",
        "* For the trip with `'trip_id': 540422637`, find the latitude and longitudes of both the start and end stations.\n",
        "* Save the latitude and longitude as **tuples** into variables `coords_1` and `coords_2` for the `'start_station'` and `'end_station'` respectively.\n",
        "  - Do **NOT** hard code the values: you will get a **ZERO** for the question when we manually review for this!\n",
        "* Use geopy to calculate the distance **in miles** between the two stations and save it to the variable final_dist. "
      ],
      "metadata": {
        "id": "2oUvTghy7Pdw"
      }
    },
    {
      "cell_type": "code",
      "source": [
        "# TO-DO: Use pandasql to obtain the latitude and longitude of the start and end stations for ride ID 540422637. \n",
        "latlng_query = \"\"\"  \n",
        "               SELECT trip_id, start_lat, start_lon, end_lat, end_lon\n",
        "               FROM trips_final_df\n",
        "               WHERE trip_id = 540422637\n",
        "               \"\"\"\n",
        "\n",
        "latlng_df = ps.sqldf(latlng_query, locals())\n",
        "latlng_df"
      ],
      "metadata": {
        "id": "EpVOwJtp7aWS",
        "colab": {
          "base_uri": "https://localhost:8080/",
          "height": 81
        },
        "outputId": "6104181f-593f-4e66-982a-b3fc07e30996"
      },
      "execution_count": 71,
      "outputs": [
        {
          "output_type": "execute_result",
          "data": {
            "text/plain": [
              "     trip_id  start_lat  start_lon    end_lat    end_lon\n",
              "0  540422637  39.947109 -75.166183  39.927769 -75.151031"
            ],
            "text/html": [
              "\n",
              "  <div id=\"df-74bddb92-0203-4f4f-ab40-445cc54157fb\">\n",
              "    <div class=\"colab-df-container\">\n",
              "      <div>\n",
              "<style scoped>\n",
              "    .dataframe tbody tr th:only-of-type {\n",
              "        vertical-align: middle;\n",
              "    }\n",
              "\n",
              "    .dataframe tbody tr th {\n",
              "        vertical-align: top;\n",
              "    }\n",
              "\n",
              "    .dataframe thead th {\n",
              "        text-align: right;\n",
              "    }\n",
              "</style>\n",
              "<table border=\"1\" class=\"dataframe\">\n",
              "  <thead>\n",
              "    <tr style=\"text-align: right;\">\n",
              "      <th></th>\n",
              "      <th>trip_id</th>\n",
              "      <th>start_lat</th>\n",
              "      <th>start_lon</th>\n",
              "      <th>end_lat</th>\n",
              "      <th>end_lon</th>\n",
              "    </tr>\n",
              "  </thead>\n",
              "  <tbody>\n",
              "    <tr>\n",
              "      <th>0</th>\n",
              "      <td>540422637</td>\n",
              "      <td>39.947109</td>\n",
              "      <td>-75.166183</td>\n",
              "      <td>39.927769</td>\n",
              "      <td>-75.151031</td>\n",
              "    </tr>\n",
              "  </tbody>\n",
              "</table>\n",
              "</div>\n",
              "      <button class=\"colab-df-convert\" onclick=\"convertToInteractive('df-74bddb92-0203-4f4f-ab40-445cc54157fb')\"\n",
              "              title=\"Convert this dataframe to an interactive table.\"\n",
              "              style=\"display:none;\">\n",
              "        \n",
              "  <svg xmlns=\"http://www.w3.org/2000/svg\" height=\"24px\"viewBox=\"0 0 24 24\"\n",
              "       width=\"24px\">\n",
              "    <path d=\"M0 0h24v24H0V0z\" fill=\"none\"/>\n",
              "    <path d=\"M18.56 5.44l.94 2.06.94-2.06 2.06-.94-2.06-.94-.94-2.06-.94 2.06-2.06.94zm-11 1L8.5 8.5l.94-2.06 2.06-.94-2.06-.94L8.5 2.5l-.94 2.06-2.06.94zm10 10l.94 2.06.94-2.06 2.06-.94-2.06-.94-.94-2.06-.94 2.06-2.06.94z\"/><path d=\"M17.41 7.96l-1.37-1.37c-.4-.4-.92-.59-1.43-.59-.52 0-1.04.2-1.43.59L10.3 9.45l-7.72 7.72c-.78.78-.78 2.05 0 2.83L4 21.41c.39.39.9.59 1.41.59.51 0 1.02-.2 1.41-.59l7.78-7.78 2.81-2.81c.8-.78.8-2.07 0-2.86zM5.41 20L4 18.59l7.72-7.72 1.47 1.35L5.41 20z\"/>\n",
              "  </svg>\n",
              "      </button>\n",
              "      \n",
              "  <style>\n",
              "    .colab-df-container {\n",
              "      display:flex;\n",
              "      flex-wrap:wrap;\n",
              "      gap: 12px;\n",
              "    }\n",
              "\n",
              "    .colab-df-convert {\n",
              "      background-color: #E8F0FE;\n",
              "      border: none;\n",
              "      border-radius: 50%;\n",
              "      cursor: pointer;\n",
              "      display: none;\n",
              "      fill: #1967D2;\n",
              "      height: 32px;\n",
              "      padding: 0 0 0 0;\n",
              "      width: 32px;\n",
              "    }\n",
              "\n",
              "    .colab-df-convert:hover {\n",
              "      background-color: #E2EBFA;\n",
              "      box-shadow: 0px 1px 2px rgba(60, 64, 67, 0.3), 0px 1px 3px 1px rgba(60, 64, 67, 0.15);\n",
              "      fill: #174EA6;\n",
              "    }\n",
              "\n",
              "    [theme=dark] .colab-df-convert {\n",
              "      background-color: #3B4455;\n",
              "      fill: #D2E3FC;\n",
              "    }\n",
              "\n",
              "    [theme=dark] .colab-df-convert:hover {\n",
              "      background-color: #434B5C;\n",
              "      box-shadow: 0px 1px 3px 1px rgba(0, 0, 0, 0.15);\n",
              "      filter: drop-shadow(0px 1px 2px rgba(0, 0, 0, 0.3));\n",
              "      fill: #FFFFFF;\n",
              "    }\n",
              "  </style>\n",
              "\n",
              "      <script>\n",
              "        const buttonEl =\n",
              "          document.querySelector('#df-74bddb92-0203-4f4f-ab40-445cc54157fb button.colab-df-convert');\n",
              "        buttonEl.style.display =\n",
              "          google.colab.kernel.accessAllowed ? 'block' : 'none';\n",
              "\n",
              "        async function convertToInteractive(key) {\n",
              "          const element = document.querySelector('#df-74bddb92-0203-4f4f-ab40-445cc54157fb');\n",
              "          const dataTable =\n",
              "            await google.colab.kernel.invokeFunction('convertToInteractive',\n",
              "                                                     [key], {});\n",
              "          if (!dataTable) return;\n",
              "\n",
              "          const docLinkHtml = 'Like what you see? Visit the ' +\n",
              "            '<a target=\"_blank\" href=https://colab.research.google.com/notebooks/data_table.ipynb>data table notebook</a>'\n",
              "            + ' to learn more about interactive tables.';\n",
              "          element.innerHTML = '';\n",
              "          dataTable['output_type'] = 'display_data';\n",
              "          await google.colab.output.renderOutput(dataTable, element);\n",
              "          const docLink = document.createElement('div');\n",
              "          docLink.innerHTML = docLinkHtml;\n",
              "          element.appendChild(docLink);\n",
              "        }\n",
              "      </script>\n",
              "    </div>\n",
              "  </div>\n",
              "  "
            ]
          },
          "metadata": {},
          "execution_count": 71
        }
      ]
    },
    {
      "cell_type": "code",
      "source": [
        "# TO-DO : Fill in the coordinates using the dataframe that has the resultant coordinates\n",
        "coords_1 = (latlng_df[\"start_lat\"][0], latlng_df[\"start_lon\"][0])\n",
        "coords_2 = (latlng_df[\"end_lat\"][0], latlng_df[\"end_lon\"][0])"
      ],
      "metadata": {
        "id": "kIZfNmVuMLEk"
      },
      "execution_count": 72,
      "outputs": []
    },
    {
      "cell_type": "code",
      "source": [
        "# TO-DO: Use geopy and its appropriate functions to calculate the distance between the two stations \n",
        "final_dist = gp.geodesic(coords_1, coords_2).miles"
      ],
      "metadata": {
        "id": "KpR7DKPBMLmL"
      },
      "execution_count": 73,
      "outputs": []
    },
    {
      "cell_type": "code",
      "source": [
        "# 8 points\n",
        "grader.grade(test_case_id = 'test_geodist', answer = (coords_1, coords_2, final_dist, latlng_query))"
      ],
      "metadata": {
        "id": "DIzg0Xkn7Z-7",
        "colab": {
          "base_uri": "https://localhost:8080/"
        },
        "outputId": "eb95e956-7b62-4cd6-d6ae-ae739d7104db"
      },
      "execution_count": 74,
      "outputs": [
        {
          "output_type": "stream",
          "name": "stdout",
          "text": [
            "Correct! You earned 8/8 points. You are a star!\n",
            "\n",
            "Your submission has been successfully recorded in the gradebook.\n"
          ]
        }
      ]
    },
    {
      "cell_type": "markdown",
      "source": [
        "### 2.4 Destinations from Amtrak Station [7 points]\n",
        "As you might imagine, Amtrak Station is a very important location for Indego, as there is a lot of people that either want to get there for a train ride or are exiting from there to visit Philadelphia. Thus, we want to learn about where people tend to go once they leave Amtrak Station.\n",
        "\n",
        "You will first create this dataset using Pandas, and then SQL (pandasql)\n",
        "\n",
        "**TO-DO:**\n",
        "- Using `trips_final_df`, find the top 5 most common end stations where Amtrak Station was the start_station where the duration is **at least 15 minutes**\n",
        "  - Do **NOT** include Amtrak as an end station! \n",
        "  - Note that duration is already measured in minutes, and that Amtrak's station_name is _\"Amtrak 30th Street Station\"_\n",
        "- For this Pandas section, name the final dataframe `end_station_df`.\n",
        "- Ensure that `end_station_df` is first sorted by `Count` in descending order, and then sorted by `end_station` in ascending order.\n",
        "\n",
        "**Final Schema (make sure you have the same column names and order!)**:\n",
        "> end_station | Count\n",
        "> --- | ---"
      ],
      "metadata": {
        "id": "sQQ1CzdiS3yI"
      }
    },
    {
      "cell_type": "code",
      "source": [
        "# TODO: Get end_station_df using Pandas\n",
        "end_station_df = trips_final_df[np.logical_and(trips_final_df[\"duration\"] >= 15, trips_final_df[\"start_station\"] == \"Amtrak 30th Street Station\")]\\\n",
        "  .groupby(\"end_station\", as_index = False).agg(Count = (\"trip_id\", \"count\")).sort_values([\"Count\", \"end_station\"], ascending = [False, True]).\\\n",
        "  reset_index(drop = True)[[\"end_station\", \"Count\"]][:5]\n",
        "end_station_df"
      ],
      "metadata": {
        "id": "VGAB9ue9S3yK",
        "colab": {
          "base_uri": "https://localhost:8080/",
          "height": 206
        },
        "outputId": "df939c9f-0ed2-40e1-fb26-3cef75785988"
      },
      "execution_count": 75,
      "outputs": [
        {
          "output_type": "execute_result",
          "data": {
            "text/plain": [
              "                end_station  Count\n",
              "0          Broad & Chestnut      3\n",
              "1  Schuylkill Banks Pergola      3\n",
              "2         12th & Callowhill      2\n",
              "3            12th & Filbert      2\n",
              "4         16th & Montgomery      2"
            ],
            "text/html": [
              "\n",
              "  <div id=\"df-03cd1dbf-8df9-449e-8936-62336bf5f0aa\">\n",
              "    <div class=\"colab-df-container\">\n",
              "      <div>\n",
              "<style scoped>\n",
              "    .dataframe tbody tr th:only-of-type {\n",
              "        vertical-align: middle;\n",
              "    }\n",
              "\n",
              "    .dataframe tbody tr th {\n",
              "        vertical-align: top;\n",
              "    }\n",
              "\n",
              "    .dataframe thead th {\n",
              "        text-align: right;\n",
              "    }\n",
              "</style>\n",
              "<table border=\"1\" class=\"dataframe\">\n",
              "  <thead>\n",
              "    <tr style=\"text-align: right;\">\n",
              "      <th></th>\n",
              "      <th>end_station</th>\n",
              "      <th>Count</th>\n",
              "    </tr>\n",
              "  </thead>\n",
              "  <tbody>\n",
              "    <tr>\n",
              "      <th>0</th>\n",
              "      <td>Broad &amp; Chestnut</td>\n",
              "      <td>3</td>\n",
              "    </tr>\n",
              "    <tr>\n",
              "      <th>1</th>\n",
              "      <td>Schuylkill Banks Pergola</td>\n",
              "      <td>3</td>\n",
              "    </tr>\n",
              "    <tr>\n",
              "      <th>2</th>\n",
              "      <td>12th &amp; Callowhill</td>\n",
              "      <td>2</td>\n",
              "    </tr>\n",
              "    <tr>\n",
              "      <th>3</th>\n",
              "      <td>12th &amp; Filbert</td>\n",
              "      <td>2</td>\n",
              "    </tr>\n",
              "    <tr>\n",
              "      <th>4</th>\n",
              "      <td>16th &amp; Montgomery</td>\n",
              "      <td>2</td>\n",
              "    </tr>\n",
              "  </tbody>\n",
              "</table>\n",
              "</div>\n",
              "      <button class=\"colab-df-convert\" onclick=\"convertToInteractive('df-03cd1dbf-8df9-449e-8936-62336bf5f0aa')\"\n",
              "              title=\"Convert this dataframe to an interactive table.\"\n",
              "              style=\"display:none;\">\n",
              "        \n",
              "  <svg xmlns=\"http://www.w3.org/2000/svg\" height=\"24px\"viewBox=\"0 0 24 24\"\n",
              "       width=\"24px\">\n",
              "    <path d=\"M0 0h24v24H0V0z\" fill=\"none\"/>\n",
              "    <path d=\"M18.56 5.44l.94 2.06.94-2.06 2.06-.94-2.06-.94-.94-2.06-.94 2.06-2.06.94zm-11 1L8.5 8.5l.94-2.06 2.06-.94-2.06-.94L8.5 2.5l-.94 2.06-2.06.94zm10 10l.94 2.06.94-2.06 2.06-.94-2.06-.94-.94-2.06-.94 2.06-2.06.94z\"/><path d=\"M17.41 7.96l-1.37-1.37c-.4-.4-.92-.59-1.43-.59-.52 0-1.04.2-1.43.59L10.3 9.45l-7.72 7.72c-.78.78-.78 2.05 0 2.83L4 21.41c.39.39.9.59 1.41.59.51 0 1.02-.2 1.41-.59l7.78-7.78 2.81-2.81c.8-.78.8-2.07 0-2.86zM5.41 20L4 18.59l7.72-7.72 1.47 1.35L5.41 20z\"/>\n",
              "  </svg>\n",
              "      </button>\n",
              "      \n",
              "  <style>\n",
              "    .colab-df-container {\n",
              "      display:flex;\n",
              "      flex-wrap:wrap;\n",
              "      gap: 12px;\n",
              "    }\n",
              "\n",
              "    .colab-df-convert {\n",
              "      background-color: #E8F0FE;\n",
              "      border: none;\n",
              "      border-radius: 50%;\n",
              "      cursor: pointer;\n",
              "      display: none;\n",
              "      fill: #1967D2;\n",
              "      height: 32px;\n",
              "      padding: 0 0 0 0;\n",
              "      width: 32px;\n",
              "    }\n",
              "\n",
              "    .colab-df-convert:hover {\n",
              "      background-color: #E2EBFA;\n",
              "      box-shadow: 0px 1px 2px rgba(60, 64, 67, 0.3), 0px 1px 3px 1px rgba(60, 64, 67, 0.15);\n",
              "      fill: #174EA6;\n",
              "    }\n",
              "\n",
              "    [theme=dark] .colab-df-convert {\n",
              "      background-color: #3B4455;\n",
              "      fill: #D2E3FC;\n",
              "    }\n",
              "\n",
              "    [theme=dark] .colab-df-convert:hover {\n",
              "      background-color: #434B5C;\n",
              "      box-shadow: 0px 1px 3px 1px rgba(0, 0, 0, 0.15);\n",
              "      filter: drop-shadow(0px 1px 2px rgba(0, 0, 0, 0.3));\n",
              "      fill: #FFFFFF;\n",
              "    }\n",
              "  </style>\n",
              "\n",
              "      <script>\n",
              "        const buttonEl =\n",
              "          document.querySelector('#df-03cd1dbf-8df9-449e-8936-62336bf5f0aa button.colab-df-convert');\n",
              "        buttonEl.style.display =\n",
              "          google.colab.kernel.accessAllowed ? 'block' : 'none';\n",
              "\n",
              "        async function convertToInteractive(key) {\n",
              "          const element = document.querySelector('#df-03cd1dbf-8df9-449e-8936-62336bf5f0aa');\n",
              "          const dataTable =\n",
              "            await google.colab.kernel.invokeFunction('convertToInteractive',\n",
              "                                                     [key], {});\n",
              "          if (!dataTable) return;\n",
              "\n",
              "          const docLinkHtml = 'Like what you see? Visit the ' +\n",
              "            '<a target=\"_blank\" href=https://colab.research.google.com/notebooks/data_table.ipynb>data table notebook</a>'\n",
              "            + ' to learn more about interactive tables.';\n",
              "          element.innerHTML = '';\n",
              "          dataTable['output_type'] = 'display_data';\n",
              "          await google.colab.output.renderOutput(dataTable, element);\n",
              "          const docLink = document.createElement('div');\n",
              "          docLink.innerHTML = docLinkHtml;\n",
              "          element.appendChild(docLink);\n",
              "        }\n",
              "      </script>\n",
              "    </div>\n",
              "  </div>\n",
              "  "
            ]
          },
          "metadata": {},
          "execution_count": 75
        }
      ]
    },
    {
      "cell_type": "markdown",
      "source": [
        "**TO-DO:**\n",
        "- Repeat the process but now using pandasql. Please make sure to use `end_station_query` to save your SQL code as this is what will be graded.\n",
        "- Name the final dataframe `sql_end_station_df`\n",
        "- Double-check that this looks the exact same as `end_station_df` from the Pandas section above.\n",
        "\n",
        "**Final Schema:**\n",
        "> end_station | Count\n",
        "> --- | ---"
      ],
      "metadata": {
        "id": "4XTfx3f_S3yL"
      }
    },
    {
      "cell_type": "code",
      "source": [
        "# TODO: Get the same exact query, but only using PandaSQL\n",
        "\n",
        "end_station_query = \"\"\"\n",
        "                    SELECT end_station, COUNT(*) as Count\n",
        "                    FROM trips_final_df\n",
        "                    WHERE duration >= 15 AND start_station = \"Amtrak 30th Street Station\"\n",
        "                    GROUP BY end_station\n",
        "                    ORDER BY COUNT(trip_id) DESC, end_station ASC\n",
        "                    LIMIT 5\n",
        "                    \"\"\"\n",
        "\n",
        "sql_end_station_df = ps.sqldf(end_station_query, locals())\n",
        "sql_end_station_df"
      ],
      "metadata": {
        "id": "wArHcWrvS3yM",
        "colab": {
          "base_uri": "https://localhost:8080/",
          "height": 206
        },
        "outputId": "d70c3e58-992b-4393-fb0f-a3aaa01572a5"
      },
      "execution_count": 76,
      "outputs": [
        {
          "output_type": "execute_result",
          "data": {
            "text/plain": [
              "                end_station  Count\n",
              "0          Broad & Chestnut      3\n",
              "1  Schuylkill Banks Pergola      3\n",
              "2         12th & Callowhill      2\n",
              "3            12th & Filbert      2\n",
              "4         16th & Montgomery      2"
            ],
            "text/html": [
              "\n",
              "  <div id=\"df-293619d0-96a4-4676-9cfc-96c3be828226\">\n",
              "    <div class=\"colab-df-container\">\n",
              "      <div>\n",
              "<style scoped>\n",
              "    .dataframe tbody tr th:only-of-type {\n",
              "        vertical-align: middle;\n",
              "    }\n",
              "\n",
              "    .dataframe tbody tr th {\n",
              "        vertical-align: top;\n",
              "    }\n",
              "\n",
              "    .dataframe thead th {\n",
              "        text-align: right;\n",
              "    }\n",
              "</style>\n",
              "<table border=\"1\" class=\"dataframe\">\n",
              "  <thead>\n",
              "    <tr style=\"text-align: right;\">\n",
              "      <th></th>\n",
              "      <th>end_station</th>\n",
              "      <th>Count</th>\n",
              "    </tr>\n",
              "  </thead>\n",
              "  <tbody>\n",
              "    <tr>\n",
              "      <th>0</th>\n",
              "      <td>Broad &amp; Chestnut</td>\n",
              "      <td>3</td>\n",
              "    </tr>\n",
              "    <tr>\n",
              "      <th>1</th>\n",
              "      <td>Schuylkill Banks Pergola</td>\n",
              "      <td>3</td>\n",
              "    </tr>\n",
              "    <tr>\n",
              "      <th>2</th>\n",
              "      <td>12th &amp; Callowhill</td>\n",
              "      <td>2</td>\n",
              "    </tr>\n",
              "    <tr>\n",
              "      <th>3</th>\n",
              "      <td>12th &amp; Filbert</td>\n",
              "      <td>2</td>\n",
              "    </tr>\n",
              "    <tr>\n",
              "      <th>4</th>\n",
              "      <td>16th &amp; Montgomery</td>\n",
              "      <td>2</td>\n",
              "    </tr>\n",
              "  </tbody>\n",
              "</table>\n",
              "</div>\n",
              "      <button class=\"colab-df-convert\" onclick=\"convertToInteractive('df-293619d0-96a4-4676-9cfc-96c3be828226')\"\n",
              "              title=\"Convert this dataframe to an interactive table.\"\n",
              "              style=\"display:none;\">\n",
              "        \n",
              "  <svg xmlns=\"http://www.w3.org/2000/svg\" height=\"24px\"viewBox=\"0 0 24 24\"\n",
              "       width=\"24px\">\n",
              "    <path d=\"M0 0h24v24H0V0z\" fill=\"none\"/>\n",
              "    <path d=\"M18.56 5.44l.94 2.06.94-2.06 2.06-.94-2.06-.94-.94-2.06-.94 2.06-2.06.94zm-11 1L8.5 8.5l.94-2.06 2.06-.94-2.06-.94L8.5 2.5l-.94 2.06-2.06.94zm10 10l.94 2.06.94-2.06 2.06-.94-2.06-.94-.94-2.06-.94 2.06-2.06.94z\"/><path d=\"M17.41 7.96l-1.37-1.37c-.4-.4-.92-.59-1.43-.59-.52 0-1.04.2-1.43.59L10.3 9.45l-7.72 7.72c-.78.78-.78 2.05 0 2.83L4 21.41c.39.39.9.59 1.41.59.51 0 1.02-.2 1.41-.59l7.78-7.78 2.81-2.81c.8-.78.8-2.07 0-2.86zM5.41 20L4 18.59l7.72-7.72 1.47 1.35L5.41 20z\"/>\n",
              "  </svg>\n",
              "      </button>\n",
              "      \n",
              "  <style>\n",
              "    .colab-df-container {\n",
              "      display:flex;\n",
              "      flex-wrap:wrap;\n",
              "      gap: 12px;\n",
              "    }\n",
              "\n",
              "    .colab-df-convert {\n",
              "      background-color: #E8F0FE;\n",
              "      border: none;\n",
              "      border-radius: 50%;\n",
              "      cursor: pointer;\n",
              "      display: none;\n",
              "      fill: #1967D2;\n",
              "      height: 32px;\n",
              "      padding: 0 0 0 0;\n",
              "      width: 32px;\n",
              "    }\n",
              "\n",
              "    .colab-df-convert:hover {\n",
              "      background-color: #E2EBFA;\n",
              "      box-shadow: 0px 1px 2px rgba(60, 64, 67, 0.3), 0px 1px 3px 1px rgba(60, 64, 67, 0.15);\n",
              "      fill: #174EA6;\n",
              "    }\n",
              "\n",
              "    [theme=dark] .colab-df-convert {\n",
              "      background-color: #3B4455;\n",
              "      fill: #D2E3FC;\n",
              "    }\n",
              "\n",
              "    [theme=dark] .colab-df-convert:hover {\n",
              "      background-color: #434B5C;\n",
              "      box-shadow: 0px 1px 3px 1px rgba(0, 0, 0, 0.15);\n",
              "      filter: drop-shadow(0px 1px 2px rgba(0, 0, 0, 0.3));\n",
              "      fill: #FFFFFF;\n",
              "    }\n",
              "  </style>\n",
              "\n",
              "      <script>\n",
              "        const buttonEl =\n",
              "          document.querySelector('#df-293619d0-96a4-4676-9cfc-96c3be828226 button.colab-df-convert');\n",
              "        buttonEl.style.display =\n",
              "          google.colab.kernel.accessAllowed ? 'block' : 'none';\n",
              "\n",
              "        async function convertToInteractive(key) {\n",
              "          const element = document.querySelector('#df-293619d0-96a4-4676-9cfc-96c3be828226');\n",
              "          const dataTable =\n",
              "            await google.colab.kernel.invokeFunction('convertToInteractive',\n",
              "                                                     [key], {});\n",
              "          if (!dataTable) return;\n",
              "\n",
              "          const docLinkHtml = 'Like what you see? Visit the ' +\n",
              "            '<a target=\"_blank\" href=https://colab.research.google.com/notebooks/data_table.ipynb>data table notebook</a>'\n",
              "            + ' to learn more about interactive tables.';\n",
              "          element.innerHTML = '';\n",
              "          dataTable['output_type'] = 'display_data';\n",
              "          await google.colab.output.renderOutput(dataTable, element);\n",
              "          const docLink = document.createElement('div');\n",
              "          docLink.innerHTML = docLinkHtml;\n",
              "          element.appendChild(docLink);\n",
              "        }\n",
              "      </script>\n",
              "    </div>\n",
              "  </div>\n",
              "  "
            ]
          },
          "metadata": {},
          "execution_count": 76
        }
      ]
    },
    {
      "cell_type": "code",
      "source": [
        "# 7 points\n",
        "grader.grade(test_case_id = 'test_amtrak', answer = (end_station_df, sql_end_station_df, end_station_query))"
      ],
      "metadata": {
        "id": "uCoROMVlS3yM",
        "colab": {
          "base_uri": "https://localhost:8080/"
        },
        "outputId": "115edc9a-9935-4211-e241-bc0c65ad8985"
      },
      "execution_count": 77,
      "outputs": [
        {
          "output_type": "stream",
          "name": "stdout",
          "text": [
            "Correct! You earned 7/7 points. You are a star!\n",
            "\n",
            "Your submission has been successfully recorded in the gradebook.\n"
          ]
        }
      ]
    },
    {
      "cell_type": "markdown",
      "source": [
        "### 2.5 Weather and Trip Data [15 points]"
      ],
      "metadata": {
        "id": "0OIIHzThS3yM"
      }
    },
    {
      "cell_type": "markdown",
      "source": [
        "#### 2.5.1 Trips and Weather Tables [2 points]\n",
        "\n",
        "We will begin by slightly modifying `trips_final_df` and `weather_cleaned_df`. We eventually want to merge using the `date` column from `weather_cleaned_df` and the `start_time` column from `trips_final_df`. You will note that these two columns do not contain the same information, since `date` does not contain the time.\n",
        "\n",
        "**We are not concerned about the time, it is up to you to find the best way to alter the `start_time` column to keep just the date and thus make merging possible**.\n",
        "\n",
        "We strongly recommend creating a new `date` column in `trips_final_df` containing only the day information, as it will make merging the dataframes much easier.\n",
        "\n",
        "**TO-DO:** \\\\\n",
        "- `weather_merge_df`, containing columns `date`, `actual_max_temp` and `actual_precipitation`\n",
        "- `trips_merge_df`, containing columns `date`,  `bike_type`, `start_station` and `trip_id`"
      ],
      "metadata": {
        "id": "FMW2nhXPS3yN"
      }
    },
    {
      "cell_type": "code",
      "source": [
        "weather_cleaned_df.reset_index(drop = True, inplace = True)"
      ],
      "metadata": {
        "id": "Abl1eJGj5icq"
      },
      "execution_count": 78,
      "outputs": []
    },
    {
      "cell_type": "code",
      "source": [
        "weather_cleaned_df[\"date\"] = weather_cleaned_df[\"date\"].apply(lambda x: x.date())"
      ],
      "metadata": {
        "id": "yip_zq-R6yqN"
      },
      "execution_count": 79,
      "outputs": []
    },
    {
      "cell_type": "code",
      "source": [
        "trips_final_df[\"date\"] = trips_final_df[\"start_time\"].apply(lambda x: x.date())"
      ],
      "metadata": {
        "id": "OrWTYWIv67d_"
      },
      "execution_count": 80,
      "outputs": []
    },
    {
      "cell_type": "code",
      "source": [
        "# TODO: Create weather_merge_df and trips_merge_df\n",
        "weather_merge_df = weather_cleaned_df[[\"date\", \"actual_max_temp\", \"actual_precipitation\"]]\n",
        "trips_merge_df = trips_final_df[[\"date\", \"bike_type\", \"start_station\", \"trip_id\"]]"
      ],
      "metadata": {
        "id": "owKCJszYS3yO"
      },
      "execution_count": 81,
      "outputs": []
    },
    {
      "cell_type": "code",
      "source": [
        "# 2 points\n",
        "grader.grade(test_case_id = 'test_merge_df', answer = (weather_merge_df, trips_merge_df))"
      ],
      "metadata": {
        "id": "IYjUTfDQS3yO",
        "colab": {
          "base_uri": "https://localhost:8080/"
        },
        "outputId": "c441c58c-4971-4e93-991e-59d326b77d3b"
      },
      "execution_count": 82,
      "outputs": [
        {
          "output_type": "stream",
          "name": "stdout",
          "text": [
            "Correct! You earned 2/2 points. You are a star!\n",
            "\n",
            "Your submission has been successfully recorded in the gradebook.\n"
          ]
        }
      ]
    },
    {
      "cell_type": "markdown",
      "source": [
        "#### 2.5.2 Standard Riding on Spruce (SQL) [3 points]\n",
        "\n",
        "**TO-DO:**\n",
        "- Using `trips_merge_df` and `weather_merge_df`, *for each actual max temperature*, find the percentage of rides that were of **standard** bike type on trips where the start_station included **Spruce** in it\n",
        "  - e.g. \"13th & Spruce\" OR \"15th & Spruce\" are 2 potential start_stations that would be included\n",
        "- Filter so that we only have entries where the **average actual_precipitation** is **less than** 0.3\n",
        "\n",
        "*   Cast your percentages to integers and name the column **Standard_Percentage**\n",
        "\n",
        "**Final Schema (make sure you have the same column names and order!)**:\n",
        ">Temperature | Standard_Percentage |\n",
        ">--- | --- |"
      ],
      "metadata": {
        "id": "NystCsO9EuIh"
      }
    },
    {
      "cell_type": "code",
      "source": [
        "# TO-DO: Create percentage_df (use PandaSQL)\n",
        "percentage_query = '''\n",
        "                   SELECT \n",
        "                     weather_merge_df.actual_max_temp AS Temperature,\n",
        "                     CAST((CAST(COUNT(CASE WHEN trips_merge_df.bike_type = \"standard\" then 1 END) AS FLOAT) / \n",
        "                     CAST(COUNT(*) AS FLOAT)) * 100 AS INT) AS Standard_Percentage\n",
        "                   FROM weather_merge_df\n",
        "                   JOIN trips_merge_df\n",
        "                     ON weather_merge_df.date = trips_merge_df.date\n",
        "                   WHERE trips_merge_df.start_station LIKE \"%Spruce%\"\n",
        "                     AND weather_merge_df.actual_precipitation < 0.3\n",
        "                   GROUP BY weather_merge_df.actual_max_temp\n",
        "                   '''\n",
        "\n",
        "percentage_df = ps.sqldf(percentage_query, locals())\n",
        "percentage_df"
      ],
      "metadata": {
        "id": "7jbzplMKS3yP",
        "colab": {
          "base_uri": "https://localhost:8080/",
          "height": 175
        },
        "outputId": "ca80eee9-e98a-4033-d3cb-4e8ef635795d"
      },
      "execution_count": 83,
      "outputs": [
        {
          "output_type": "execute_result",
          "data": {
            "text/plain": [
              "   Temperature  Standard_Percentage\n",
              "0           61                   49\n",
              "1           70                   51\n",
              "2           72                   56\n",
              "3           73                   58"
            ],
            "text/html": [
              "\n",
              "  <div id=\"df-7d45a845-487a-4222-9bde-bfb5e79f0c5a\">\n",
              "    <div class=\"colab-df-container\">\n",
              "      <div>\n",
              "<style scoped>\n",
              "    .dataframe tbody tr th:only-of-type {\n",
              "        vertical-align: middle;\n",
              "    }\n",
              "\n",
              "    .dataframe tbody tr th {\n",
              "        vertical-align: top;\n",
              "    }\n",
              "\n",
              "    .dataframe thead th {\n",
              "        text-align: right;\n",
              "    }\n",
              "</style>\n",
              "<table border=\"1\" class=\"dataframe\">\n",
              "  <thead>\n",
              "    <tr style=\"text-align: right;\">\n",
              "      <th></th>\n",
              "      <th>Temperature</th>\n",
              "      <th>Standard_Percentage</th>\n",
              "    </tr>\n",
              "  </thead>\n",
              "  <tbody>\n",
              "    <tr>\n",
              "      <th>0</th>\n",
              "      <td>61</td>\n",
              "      <td>49</td>\n",
              "    </tr>\n",
              "    <tr>\n",
              "      <th>1</th>\n",
              "      <td>70</td>\n",
              "      <td>51</td>\n",
              "    </tr>\n",
              "    <tr>\n",
              "      <th>2</th>\n",
              "      <td>72</td>\n",
              "      <td>56</td>\n",
              "    </tr>\n",
              "    <tr>\n",
              "      <th>3</th>\n",
              "      <td>73</td>\n",
              "      <td>58</td>\n",
              "    </tr>\n",
              "  </tbody>\n",
              "</table>\n",
              "</div>\n",
              "      <button class=\"colab-df-convert\" onclick=\"convertToInteractive('df-7d45a845-487a-4222-9bde-bfb5e79f0c5a')\"\n",
              "              title=\"Convert this dataframe to an interactive table.\"\n",
              "              style=\"display:none;\">\n",
              "        \n",
              "  <svg xmlns=\"http://www.w3.org/2000/svg\" height=\"24px\"viewBox=\"0 0 24 24\"\n",
              "       width=\"24px\">\n",
              "    <path d=\"M0 0h24v24H0V0z\" fill=\"none\"/>\n",
              "    <path d=\"M18.56 5.44l.94 2.06.94-2.06 2.06-.94-2.06-.94-.94-2.06-.94 2.06-2.06.94zm-11 1L8.5 8.5l.94-2.06 2.06-.94-2.06-.94L8.5 2.5l-.94 2.06-2.06.94zm10 10l.94 2.06.94-2.06 2.06-.94-2.06-.94-.94-2.06-.94 2.06-2.06.94z\"/><path d=\"M17.41 7.96l-1.37-1.37c-.4-.4-.92-.59-1.43-.59-.52 0-1.04.2-1.43.59L10.3 9.45l-7.72 7.72c-.78.78-.78 2.05 0 2.83L4 21.41c.39.39.9.59 1.41.59.51 0 1.02-.2 1.41-.59l7.78-7.78 2.81-2.81c.8-.78.8-2.07 0-2.86zM5.41 20L4 18.59l7.72-7.72 1.47 1.35L5.41 20z\"/>\n",
              "  </svg>\n",
              "      </button>\n",
              "      \n",
              "  <style>\n",
              "    .colab-df-container {\n",
              "      display:flex;\n",
              "      flex-wrap:wrap;\n",
              "      gap: 12px;\n",
              "    }\n",
              "\n",
              "    .colab-df-convert {\n",
              "      background-color: #E8F0FE;\n",
              "      border: none;\n",
              "      border-radius: 50%;\n",
              "      cursor: pointer;\n",
              "      display: none;\n",
              "      fill: #1967D2;\n",
              "      height: 32px;\n",
              "      padding: 0 0 0 0;\n",
              "      width: 32px;\n",
              "    }\n",
              "\n",
              "    .colab-df-convert:hover {\n",
              "      background-color: #E2EBFA;\n",
              "      box-shadow: 0px 1px 2px rgba(60, 64, 67, 0.3), 0px 1px 3px 1px rgba(60, 64, 67, 0.15);\n",
              "      fill: #174EA6;\n",
              "    }\n",
              "\n",
              "    [theme=dark] .colab-df-convert {\n",
              "      background-color: #3B4455;\n",
              "      fill: #D2E3FC;\n",
              "    }\n",
              "\n",
              "    [theme=dark] .colab-df-convert:hover {\n",
              "      background-color: #434B5C;\n",
              "      box-shadow: 0px 1px 3px 1px rgba(0, 0, 0, 0.15);\n",
              "      filter: drop-shadow(0px 1px 2px rgba(0, 0, 0, 0.3));\n",
              "      fill: #FFFFFF;\n",
              "    }\n",
              "  </style>\n",
              "\n",
              "      <script>\n",
              "        const buttonEl =\n",
              "          document.querySelector('#df-7d45a845-487a-4222-9bde-bfb5e79f0c5a button.colab-df-convert');\n",
              "        buttonEl.style.display =\n",
              "          google.colab.kernel.accessAllowed ? 'block' : 'none';\n",
              "\n",
              "        async function convertToInteractive(key) {\n",
              "          const element = document.querySelector('#df-7d45a845-487a-4222-9bde-bfb5e79f0c5a');\n",
              "          const dataTable =\n",
              "            await google.colab.kernel.invokeFunction('convertToInteractive',\n",
              "                                                     [key], {});\n",
              "          if (!dataTable) return;\n",
              "\n",
              "          const docLinkHtml = 'Like what you see? Visit the ' +\n",
              "            '<a target=\"_blank\" href=https://colab.research.google.com/notebooks/data_table.ipynb>data table notebook</a>'\n",
              "            + ' to learn more about interactive tables.';\n",
              "          element.innerHTML = '';\n",
              "          dataTable['output_type'] = 'display_data';\n",
              "          await google.colab.output.renderOutput(dataTable, element);\n",
              "          const docLink = document.createElement('div');\n",
              "          docLink.innerHTML = docLinkHtml;\n",
              "          element.appendChild(docLink);\n",
              "        }\n",
              "      </script>\n",
              "    </div>\n",
              "  </div>\n",
              "  "
            ]
          },
          "metadata": {},
          "execution_count": 83
        }
      ]
    },
    {
      "cell_type": "code",
      "source": [
        "# 3 points\n",
        "grader.grade(test_case_id = 'test_percentage', answer = (percentage_query, percentage_df))"
      ],
      "metadata": {
        "id": "ql6NED1sqwFr",
        "colab": {
          "base_uri": "https://localhost:8080/"
        },
        "outputId": "93e1df41-7526-425e-9eb4-0127aa49dacb"
      },
      "execution_count": 84,
      "outputs": [
        {
          "output_type": "stream",
          "name": "stdout",
          "text": [
            "Correct! You earned 3/3 points. You are a star!\n",
            "\n",
            "Your submission has been successfully recorded in the gradebook.\n"
          ]
        }
      ]
    },
    {
      "cell_type": "markdown",
      "source": [
        "#### 2.5.3 Bike Types by Weather (SQL) [3 points]\n",
        "\n",
        "Using the dataframes from part 2.5.1, we want to find out which bike type is the most popular during good weather conditions.\n",
        "\n",
        "**TO-DO:**\n",
        "- Good weather conditions are defined to be when the temperature (`actual_max_temp`) is **AT OR ABOVE 70 degrees Farenheit**, and the `'actual_precipitation'` is **AT OR BELOW 0.3**.\n",
        "- Create a dataframe that has columns `Bike Type` for each of the various kinds of bikes that Indego offers, and `Number of Rides` for the number of rides taken by each kind of bike.\n",
        "- For the final dataframe, there should only be ONE entry, consisting of the bike type with the most rides. Name this dataframe `sql_bike_type_df`.\n",
        "\n",
        "**NOTE:** When renaming one of the aggregated columns as `Number of Rides`, you can select either `actual_max_temp` or `actual_precipitation`, just be consistent!\n",
        "\n",
        "**Final Schema (make sure you have the same column names and order!)**:\n",
        ">Bike Type | Number of Rides |\n",
        ">--- | --- |"
      ],
      "metadata": {
        "id": "AmZHEsBsS3yQ"
      }
    },
    {
      "cell_type": "code",
      "source": [
        "# TODO: Create sql_bike_type_df using PandasSQL\n",
        "\n",
        "bike_query = \"\"\"\n",
        "             SELECT trips_merge_df.bike_type AS \"Bike Type\",\n",
        "                COUNT(weather_merge_df.actual_max_temp) AS \"Number of Rides\"\n",
        "             FROM weather_merge_df\n",
        "             JOIN trips_merge_df\n",
        "                ON trips_merge_df.date = weather_merge_df.date\n",
        "             WHERE weather_merge_df.actual_max_temp >= 70 AND\n",
        "                weather_merge_df.actual_precipitation <= 0.3\n",
        "             GROUP BY trips_merge_df.bike_type\n",
        "             ORDER BY COUNT(weather_merge_df.actual_max_temp) DESC\n",
        "             LIMIT 1\n",
        "             \"\"\"\n",
        "\n",
        "sql_bike_type_df = ps.sqldf(bike_query, locals())\n",
        "sql_bike_type_df"
      ],
      "metadata": {
        "id": "AHgMRPv3S3yQ",
        "colab": {
          "base_uri": "https://localhost:8080/",
          "height": 81
        },
        "outputId": "e310d411-4c4b-49f0-ef44-cd8e555e2010"
      },
      "execution_count": 85,
      "outputs": [
        {
          "output_type": "execute_result",
          "data": {
            "text/plain": [
              "  Bike Type  Number of Rides\n",
              "0  standard             4690"
            ],
            "text/html": [
              "\n",
              "  <div id=\"df-364bf268-21b9-4a45-9f8c-598825f5774e\">\n",
              "    <div class=\"colab-df-container\">\n",
              "      <div>\n",
              "<style scoped>\n",
              "    .dataframe tbody tr th:only-of-type {\n",
              "        vertical-align: middle;\n",
              "    }\n",
              "\n",
              "    .dataframe tbody tr th {\n",
              "        vertical-align: top;\n",
              "    }\n",
              "\n",
              "    .dataframe thead th {\n",
              "        text-align: right;\n",
              "    }\n",
              "</style>\n",
              "<table border=\"1\" class=\"dataframe\">\n",
              "  <thead>\n",
              "    <tr style=\"text-align: right;\">\n",
              "      <th></th>\n",
              "      <th>Bike Type</th>\n",
              "      <th>Number of Rides</th>\n",
              "    </tr>\n",
              "  </thead>\n",
              "  <tbody>\n",
              "    <tr>\n",
              "      <th>0</th>\n",
              "      <td>standard</td>\n",
              "      <td>4690</td>\n",
              "    </tr>\n",
              "  </tbody>\n",
              "</table>\n",
              "</div>\n",
              "      <button class=\"colab-df-convert\" onclick=\"convertToInteractive('df-364bf268-21b9-4a45-9f8c-598825f5774e')\"\n",
              "              title=\"Convert this dataframe to an interactive table.\"\n",
              "              style=\"display:none;\">\n",
              "        \n",
              "  <svg xmlns=\"http://www.w3.org/2000/svg\" height=\"24px\"viewBox=\"0 0 24 24\"\n",
              "       width=\"24px\">\n",
              "    <path d=\"M0 0h24v24H0V0z\" fill=\"none\"/>\n",
              "    <path d=\"M18.56 5.44l.94 2.06.94-2.06 2.06-.94-2.06-.94-.94-2.06-.94 2.06-2.06.94zm-11 1L8.5 8.5l.94-2.06 2.06-.94-2.06-.94L8.5 2.5l-.94 2.06-2.06.94zm10 10l.94 2.06.94-2.06 2.06-.94-2.06-.94-.94-2.06-.94 2.06-2.06.94z\"/><path d=\"M17.41 7.96l-1.37-1.37c-.4-.4-.92-.59-1.43-.59-.52 0-1.04.2-1.43.59L10.3 9.45l-7.72 7.72c-.78.78-.78 2.05 0 2.83L4 21.41c.39.39.9.59 1.41.59.51 0 1.02-.2 1.41-.59l7.78-7.78 2.81-2.81c.8-.78.8-2.07 0-2.86zM5.41 20L4 18.59l7.72-7.72 1.47 1.35L5.41 20z\"/>\n",
              "  </svg>\n",
              "      </button>\n",
              "      \n",
              "  <style>\n",
              "    .colab-df-container {\n",
              "      display:flex;\n",
              "      flex-wrap:wrap;\n",
              "      gap: 12px;\n",
              "    }\n",
              "\n",
              "    .colab-df-convert {\n",
              "      background-color: #E8F0FE;\n",
              "      border: none;\n",
              "      border-radius: 50%;\n",
              "      cursor: pointer;\n",
              "      display: none;\n",
              "      fill: #1967D2;\n",
              "      height: 32px;\n",
              "      padding: 0 0 0 0;\n",
              "      width: 32px;\n",
              "    }\n",
              "\n",
              "    .colab-df-convert:hover {\n",
              "      background-color: #E2EBFA;\n",
              "      box-shadow: 0px 1px 2px rgba(60, 64, 67, 0.3), 0px 1px 3px 1px rgba(60, 64, 67, 0.15);\n",
              "      fill: #174EA6;\n",
              "    }\n",
              "\n",
              "    [theme=dark] .colab-df-convert {\n",
              "      background-color: #3B4455;\n",
              "      fill: #D2E3FC;\n",
              "    }\n",
              "\n",
              "    [theme=dark] .colab-df-convert:hover {\n",
              "      background-color: #434B5C;\n",
              "      box-shadow: 0px 1px 3px 1px rgba(0, 0, 0, 0.15);\n",
              "      filter: drop-shadow(0px 1px 2px rgba(0, 0, 0, 0.3));\n",
              "      fill: #FFFFFF;\n",
              "    }\n",
              "  </style>\n",
              "\n",
              "      <script>\n",
              "        const buttonEl =\n",
              "          document.querySelector('#df-364bf268-21b9-4a45-9f8c-598825f5774e button.colab-df-convert');\n",
              "        buttonEl.style.display =\n",
              "          google.colab.kernel.accessAllowed ? 'block' : 'none';\n",
              "\n",
              "        async function convertToInteractive(key) {\n",
              "          const element = document.querySelector('#df-364bf268-21b9-4a45-9f8c-598825f5774e');\n",
              "          const dataTable =\n",
              "            await google.colab.kernel.invokeFunction('convertToInteractive',\n",
              "                                                     [key], {});\n",
              "          if (!dataTable) return;\n",
              "\n",
              "          const docLinkHtml = 'Like what you see? Visit the ' +\n",
              "            '<a target=\"_blank\" href=https://colab.research.google.com/notebooks/data_table.ipynb>data table notebook</a>'\n",
              "            + ' to learn more about interactive tables.';\n",
              "          element.innerHTML = '';\n",
              "          dataTable['output_type'] = 'display_data';\n",
              "          await google.colab.output.renderOutput(dataTable, element);\n",
              "          const docLink = document.createElement('div');\n",
              "          docLink.innerHTML = docLinkHtml;\n",
              "          element.appendChild(docLink);\n",
              "        }\n",
              "      </script>\n",
              "    </div>\n",
              "  </div>\n",
              "  "
            ]
          },
          "metadata": {},
          "execution_count": 85
        }
      ]
    },
    {
      "cell_type": "code",
      "source": [
        "# 3 points\n",
        "grader.grade(test_case_id = 'test_bikes', answer = (sql_bike_type_df, bike_query))"
      ],
      "metadata": {
        "id": "w6RSHDbUS3yR",
        "colab": {
          "base_uri": "https://localhost:8080/"
        },
        "outputId": "b2aefc31-4173-446e-f87d-d217cec4ec2d"
      },
      "execution_count": 86,
      "outputs": [
        {
          "output_type": "stream",
          "name": "stdout",
          "text": [
            "Correct! You earned 3/3 points. You are a star!\n",
            "\n",
            "Your submission has been successfully recorded in the gradebook.\n"
          ]
        }
      ]
    },
    {
      "cell_type": "markdown",
      "source": [
        "#### 2.5.4 Rainy Days vs Non-Rainy Days [7 points]\n",
        "\n",
        "Just to get a little more practice with SQL...\n",
        "\n",
        "**TO-DO:**\n",
        "- Make a dataframe called `sql_rain_df` using query `rain_query` that finds the total number of trips on Rainy Days vs. Sunny Days, along with the number of days for each day type (rainy, non-rainy)\n",
        "  - A rainy day is defined as one where the precipitation was **greater than 0**.\n",
        "  - You will find `WITH (...) AS` and `UNION` commands useful here.\n",
        "\n",
        "<ins>Sense-Check</ins>: The `'Number of Days'` in your output will necessarily need to sum up to **7** since we only have 7 different days in our bikes dataset.\n",
        "\n",
        "<ins>Warning</ins>: Please note that you do NOT need to do this with Pandas, **ONLY PANDASQL**! <br> If you do this in Pandas, we will reduce the score to **ZERO** during manual review.\n",
        "\n",
        "\n",
        "**Final Schema** _(make sure you have the same column names and order!)_:\n",
        ">Day Type | Number of Rides | Number of Days\n",
        ">--- | --- | --- |\n",
        "> Rainy Day | ? | ?\n",
        "> Sunny Day | ? | ?"
      ],
      "metadata": {
        "id": "_3sr7YYrS3yR"
      }
    },
    {
      "cell_type": "code",
      "source": [
        "# TODO: create sql_rain_df as described above. =\n",
        "\n",
        "rain_query = \"\"\"\n",
        "             SELECT \n",
        "                CASE WHEN weather_merge_df.actual_precipitation > 0 THEN \"Rainy Day\" ELSE \"Sunny Day\" END AS \"Day Type\",\n",
        "                COUNT(weather_merge_df.date) AS \"Number of Rides\",\n",
        "                COUNT(DISTINCT(weather_merge_df.date)) AS \"Number of Days\"\n",
        "             FROM weather_merge_df\n",
        "             JOIN trips_merge_df\n",
        "                ON trips_merge_df.date = weather_merge_df.date\n",
        "             WHERE weather_merge_df.actual_precipitation > 0\n",
        "             GROUP BY \"Day Type\"\n",
        "\n",
        "             UNION\n",
        "             \n",
        "             SELECT \n",
        "                CASE WHEN weather_merge_df.actual_precipitation > 0 THEN \"Rainy Day\" ELSE \"Sunny Day\" END AS \"Day Type\",\n",
        "                COUNT(weather_merge_df.date) AS \"Number of Rides\",\n",
        "                COUNT(DISTINCT(weather_merge_df.date)) AS \"Number of Days\"\n",
        "             FROM weather_merge_df\n",
        "             JOIN trips_merge_df\n",
        "                ON trips_merge_df.date = weather_merge_df.date\n",
        "             WHERE weather_merge_df.actual_precipitation <= 0\n",
        "             GROUP BY \"Day Type\"\n",
        "             \"\"\"\n",
        "\n",
        "sql_rain_df = ps.sqldf(rain_query, locals())\n",
        "sql_rain_df"
      ],
      "metadata": {
        "colab": {
          "base_uri": "https://localhost:8080/",
          "height": 112
        },
        "id": "njfGgqXrSuKb",
        "outputId": "afb23f39-71af-450c-eea5-fd948b50e1d8"
      },
      "execution_count": 87,
      "outputs": [
        {
          "output_type": "execute_result",
          "data": {
            "text/plain": [
              "    Day Type  Number of Rides  Number of Days\n",
              "0  Rainy Day             6419               3\n",
              "1  Sunny Day             8836               4"
            ],
            "text/html": [
              "\n",
              "  <div id=\"df-011d7ff7-ec80-486b-89cf-fe45d2fd3d70\">\n",
              "    <div class=\"colab-df-container\">\n",
              "      <div>\n",
              "<style scoped>\n",
              "    .dataframe tbody tr th:only-of-type {\n",
              "        vertical-align: middle;\n",
              "    }\n",
              "\n",
              "    .dataframe tbody tr th {\n",
              "        vertical-align: top;\n",
              "    }\n",
              "\n",
              "    .dataframe thead th {\n",
              "        text-align: right;\n",
              "    }\n",
              "</style>\n",
              "<table border=\"1\" class=\"dataframe\">\n",
              "  <thead>\n",
              "    <tr style=\"text-align: right;\">\n",
              "      <th></th>\n",
              "      <th>Day Type</th>\n",
              "      <th>Number of Rides</th>\n",
              "      <th>Number of Days</th>\n",
              "    </tr>\n",
              "  </thead>\n",
              "  <tbody>\n",
              "    <tr>\n",
              "      <th>0</th>\n",
              "      <td>Rainy Day</td>\n",
              "      <td>6419</td>\n",
              "      <td>3</td>\n",
              "    </tr>\n",
              "    <tr>\n",
              "      <th>1</th>\n",
              "      <td>Sunny Day</td>\n",
              "      <td>8836</td>\n",
              "      <td>4</td>\n",
              "    </tr>\n",
              "  </tbody>\n",
              "</table>\n",
              "</div>\n",
              "      <button class=\"colab-df-convert\" onclick=\"convertToInteractive('df-011d7ff7-ec80-486b-89cf-fe45d2fd3d70')\"\n",
              "              title=\"Convert this dataframe to an interactive table.\"\n",
              "              style=\"display:none;\">\n",
              "        \n",
              "  <svg xmlns=\"http://www.w3.org/2000/svg\" height=\"24px\"viewBox=\"0 0 24 24\"\n",
              "       width=\"24px\">\n",
              "    <path d=\"M0 0h24v24H0V0z\" fill=\"none\"/>\n",
              "    <path d=\"M18.56 5.44l.94 2.06.94-2.06 2.06-.94-2.06-.94-.94-2.06-.94 2.06-2.06.94zm-11 1L8.5 8.5l.94-2.06 2.06-.94-2.06-.94L8.5 2.5l-.94 2.06-2.06.94zm10 10l.94 2.06.94-2.06 2.06-.94-2.06-.94-.94-2.06-.94 2.06-2.06.94z\"/><path d=\"M17.41 7.96l-1.37-1.37c-.4-.4-.92-.59-1.43-.59-.52 0-1.04.2-1.43.59L10.3 9.45l-7.72 7.72c-.78.78-.78 2.05 0 2.83L4 21.41c.39.39.9.59 1.41.59.51 0 1.02-.2 1.41-.59l7.78-7.78 2.81-2.81c.8-.78.8-2.07 0-2.86zM5.41 20L4 18.59l7.72-7.72 1.47 1.35L5.41 20z\"/>\n",
              "  </svg>\n",
              "      </button>\n",
              "      \n",
              "  <style>\n",
              "    .colab-df-container {\n",
              "      display:flex;\n",
              "      flex-wrap:wrap;\n",
              "      gap: 12px;\n",
              "    }\n",
              "\n",
              "    .colab-df-convert {\n",
              "      background-color: #E8F0FE;\n",
              "      border: none;\n",
              "      border-radius: 50%;\n",
              "      cursor: pointer;\n",
              "      display: none;\n",
              "      fill: #1967D2;\n",
              "      height: 32px;\n",
              "      padding: 0 0 0 0;\n",
              "      width: 32px;\n",
              "    }\n",
              "\n",
              "    .colab-df-convert:hover {\n",
              "      background-color: #E2EBFA;\n",
              "      box-shadow: 0px 1px 2px rgba(60, 64, 67, 0.3), 0px 1px 3px 1px rgba(60, 64, 67, 0.15);\n",
              "      fill: #174EA6;\n",
              "    }\n",
              "\n",
              "    [theme=dark] .colab-df-convert {\n",
              "      background-color: #3B4455;\n",
              "      fill: #D2E3FC;\n",
              "    }\n",
              "\n",
              "    [theme=dark] .colab-df-convert:hover {\n",
              "      background-color: #434B5C;\n",
              "      box-shadow: 0px 1px 3px 1px rgba(0, 0, 0, 0.15);\n",
              "      filter: drop-shadow(0px 1px 2px rgba(0, 0, 0, 0.3));\n",
              "      fill: #FFFFFF;\n",
              "    }\n",
              "  </style>\n",
              "\n",
              "      <script>\n",
              "        const buttonEl =\n",
              "          document.querySelector('#df-011d7ff7-ec80-486b-89cf-fe45d2fd3d70 button.colab-df-convert');\n",
              "        buttonEl.style.display =\n",
              "          google.colab.kernel.accessAllowed ? 'block' : 'none';\n",
              "\n",
              "        async function convertToInteractive(key) {\n",
              "          const element = document.querySelector('#df-011d7ff7-ec80-486b-89cf-fe45d2fd3d70');\n",
              "          const dataTable =\n",
              "            await google.colab.kernel.invokeFunction('convertToInteractive',\n",
              "                                                     [key], {});\n",
              "          if (!dataTable) return;\n",
              "\n",
              "          const docLinkHtml = 'Like what you see? Visit the ' +\n",
              "            '<a target=\"_blank\" href=https://colab.research.google.com/notebooks/data_table.ipynb>data table notebook</a>'\n",
              "            + ' to learn more about interactive tables.';\n",
              "          element.innerHTML = '';\n",
              "          dataTable['output_type'] = 'display_data';\n",
              "          await google.colab.output.renderOutput(dataTable, element);\n",
              "          const docLink = document.createElement('div');\n",
              "          docLink.innerHTML = docLinkHtml;\n",
              "          element.appendChild(docLink);\n",
              "        }\n",
              "      </script>\n",
              "    </div>\n",
              "  </div>\n",
              "  "
            ]
          },
          "metadata": {},
          "execution_count": 87
        }
      ]
    },
    {
      "cell_type": "code",
      "source": [
        "# 7 points\n",
        "grader.grade(test_case_id = 'test_rainy', answer = (sql_rain_df,rain_query))"
      ],
      "metadata": {
        "id": "XKRLmq_2S3yS",
        "colab": {
          "base_uri": "https://localhost:8080/"
        },
        "outputId": "521ddcae-61a3-4706-92a1-d351b26578bf"
      },
      "execution_count": 88,
      "outputs": [
        {
          "output_type": "stream",
          "name": "stdout",
          "text": [
            "Correct! You earned 7/7 points. You are a star!\n",
            "\n",
            "Your submission has been successfully recorded in the gradebook.\n"
          ]
        }
      ]
    },
    {
      "cell_type": "markdown",
      "source": [
        "### 2.6 Weekend Rush [8 points]\n",
        "\n",
        "We want to determine the percentage change in the number of rides from the weekend to the weekdays in the first 7 days of October using `pandasql`.\n",
        "\n",
        "\n",
        "\n",
        "**TODO**: Use `pandasql` to :\n",
        "* Count the number of rides that take place on the weekend (Saturday, Sunday)\n",
        "* Count the number of rides that take place M-F.\n",
        "* Calculate the percentage change for `trips_final_df` and save it in a new dataframe called `perc_df` with the column named `perc_change`. Please cast this column to `float` type You can use the following formula:\n",
        "\n",
        "$$\\frac{ number\\_of\\_trips\\_on\\_weekday - number\\_of\\_trips\\_on\\_weekend}{number\\_of\\_trips\\_on\\_weekend} \\times 100$$"
      ],
      "metadata": {
        "id": "O4HY0xZQS3yS"
      }
    },
    {
      "cell_type": "code",
      "source": [
        "# TODO: Use pandasql to get the percentage change between trips on the weekend and trips on the weekday\n",
        "perc_query = \"\"\"\n",
        "             SELECT \n",
        "             \n",
        "                ( \n",
        "                    CAST(COUNT(CASE WHEN strftime(\"%w\", trips_final_df.date) != \"6\" AND\n",
        "                                     strftime(\"%w\", trips_final_df.date) != \"0\" THEN 1 END) AS FLOAT) -\n",
        "\n",
        "                    CAST(COUNT(CASE WHEN strftime(\"%w\", trips_final_df.date) = \"6\" OR\n",
        "                                     strftime(\"%w\", trips_final_df.date) = \"0\" THEN 1 END) AS FLOAT) \n",
        "                ) /\n",
        "\n",
        "                CAST(COUNT(CASE WHEN strftime(\"%w\", trips_final_df.date) = \"6\" OR\n",
        "                                     strftime(\"%w\", trips_final_df.date) = \"0\" THEN 1 END) AS FLOAT) * 100 \n",
        "                \n",
        "                AS \"perc_change\"                                     \n",
        "                \n",
        "             FROM trips_final_df \n",
        "             \"\"\"\n",
        "\n",
        "perc_df = ps.sqldf(perc_query, locals())\n",
        "perc_df"
      ],
      "metadata": {
        "colab": {
          "base_uri": "https://localhost:8080/",
          "height": 81
        },
        "id": "tLvd0uchPIdS",
        "outputId": "7ada24b8-f5df-4e38-e570-fe5847337690"
      },
      "execution_count": 89,
      "outputs": [
        {
          "output_type": "execute_result",
          "data": {
            "text/plain": [
              "   perc_change\n",
              "0   418.362383"
            ],
            "text/html": [
              "\n",
              "  <div id=\"df-b3479a2c-17f5-45da-a73c-da2f96368d8c\">\n",
              "    <div class=\"colab-df-container\">\n",
              "      <div>\n",
              "<style scoped>\n",
              "    .dataframe tbody tr th:only-of-type {\n",
              "        vertical-align: middle;\n",
              "    }\n",
              "\n",
              "    .dataframe tbody tr th {\n",
              "        vertical-align: top;\n",
              "    }\n",
              "\n",
              "    .dataframe thead th {\n",
              "        text-align: right;\n",
              "    }\n",
              "</style>\n",
              "<table border=\"1\" class=\"dataframe\">\n",
              "  <thead>\n",
              "    <tr style=\"text-align: right;\">\n",
              "      <th></th>\n",
              "      <th>perc_change</th>\n",
              "    </tr>\n",
              "  </thead>\n",
              "  <tbody>\n",
              "    <tr>\n",
              "      <th>0</th>\n",
              "      <td>418.362383</td>\n",
              "    </tr>\n",
              "  </tbody>\n",
              "</table>\n",
              "</div>\n",
              "      <button class=\"colab-df-convert\" onclick=\"convertToInteractive('df-b3479a2c-17f5-45da-a73c-da2f96368d8c')\"\n",
              "              title=\"Convert this dataframe to an interactive table.\"\n",
              "              style=\"display:none;\">\n",
              "        \n",
              "  <svg xmlns=\"http://www.w3.org/2000/svg\" height=\"24px\"viewBox=\"0 0 24 24\"\n",
              "       width=\"24px\">\n",
              "    <path d=\"M0 0h24v24H0V0z\" fill=\"none\"/>\n",
              "    <path d=\"M18.56 5.44l.94 2.06.94-2.06 2.06-.94-2.06-.94-.94-2.06-.94 2.06-2.06.94zm-11 1L8.5 8.5l.94-2.06 2.06-.94-2.06-.94L8.5 2.5l-.94 2.06-2.06.94zm10 10l.94 2.06.94-2.06 2.06-.94-2.06-.94-.94-2.06-.94 2.06-2.06.94z\"/><path d=\"M17.41 7.96l-1.37-1.37c-.4-.4-.92-.59-1.43-.59-.52 0-1.04.2-1.43.59L10.3 9.45l-7.72 7.72c-.78.78-.78 2.05 0 2.83L4 21.41c.39.39.9.59 1.41.59.51 0 1.02-.2 1.41-.59l7.78-7.78 2.81-2.81c.8-.78.8-2.07 0-2.86zM5.41 20L4 18.59l7.72-7.72 1.47 1.35L5.41 20z\"/>\n",
              "  </svg>\n",
              "      </button>\n",
              "      \n",
              "  <style>\n",
              "    .colab-df-container {\n",
              "      display:flex;\n",
              "      flex-wrap:wrap;\n",
              "      gap: 12px;\n",
              "    }\n",
              "\n",
              "    .colab-df-convert {\n",
              "      background-color: #E8F0FE;\n",
              "      border: none;\n",
              "      border-radius: 50%;\n",
              "      cursor: pointer;\n",
              "      display: none;\n",
              "      fill: #1967D2;\n",
              "      height: 32px;\n",
              "      padding: 0 0 0 0;\n",
              "      width: 32px;\n",
              "    }\n",
              "\n",
              "    .colab-df-convert:hover {\n",
              "      background-color: #E2EBFA;\n",
              "      box-shadow: 0px 1px 2px rgba(60, 64, 67, 0.3), 0px 1px 3px 1px rgba(60, 64, 67, 0.15);\n",
              "      fill: #174EA6;\n",
              "    }\n",
              "\n",
              "    [theme=dark] .colab-df-convert {\n",
              "      background-color: #3B4455;\n",
              "      fill: #D2E3FC;\n",
              "    }\n",
              "\n",
              "    [theme=dark] .colab-df-convert:hover {\n",
              "      background-color: #434B5C;\n",
              "      box-shadow: 0px 1px 3px 1px rgba(0, 0, 0, 0.15);\n",
              "      filter: drop-shadow(0px 1px 2px rgba(0, 0, 0, 0.3));\n",
              "      fill: #FFFFFF;\n",
              "    }\n",
              "  </style>\n",
              "\n",
              "      <script>\n",
              "        const buttonEl =\n",
              "          document.querySelector('#df-b3479a2c-17f5-45da-a73c-da2f96368d8c button.colab-df-convert');\n",
              "        buttonEl.style.display =\n",
              "          google.colab.kernel.accessAllowed ? 'block' : 'none';\n",
              "\n",
              "        async function convertToInteractive(key) {\n",
              "          const element = document.querySelector('#df-b3479a2c-17f5-45da-a73c-da2f96368d8c');\n",
              "          const dataTable =\n",
              "            await google.colab.kernel.invokeFunction('convertToInteractive',\n",
              "                                                     [key], {});\n",
              "          if (!dataTable) return;\n",
              "\n",
              "          const docLinkHtml = 'Like what you see? Visit the ' +\n",
              "            '<a target=\"_blank\" href=https://colab.research.google.com/notebooks/data_table.ipynb>data table notebook</a>'\n",
              "            + ' to learn more about interactive tables.';\n",
              "          element.innerHTML = '';\n",
              "          dataTable['output_type'] = 'display_data';\n",
              "          await google.colab.output.renderOutput(dataTable, element);\n",
              "          const docLink = document.createElement('div');\n",
              "          docLink.innerHTML = docLinkHtml;\n",
              "          element.appendChild(docLink);\n",
              "        }\n",
              "      </script>\n",
              "    </div>\n",
              "  </div>\n",
              "  "
            ]
          },
          "metadata": {},
          "execution_count": 89
        }
      ]
    },
    {
      "cell_type": "code",
      "source": [
        "# 8 points\n",
        "grader.grade(test_case_id = 'test_perc', answer = (perc_df, perc_query))"
      ],
      "metadata": {
        "id": "7cJ2QvpsS3yU",
        "colab": {
          "base_uri": "https://localhost:8080/"
        },
        "outputId": "b07c69ee-a350-4268-b6f3-8d25da560a1f"
      },
      "execution_count": 90,
      "outputs": [
        {
          "output_type": "stream",
          "name": "stdout",
          "text": [
            "Correct! You earned 8/8 points. You are a star!\n",
            "\n",
            "Your submission has been successfully recorded in the gradebook.\n"
          ]
        }
      ]
    },
    {
      "cell_type": "markdown",
      "source": [
        "## Part 3: Data Visualization [8 points total]"
      ],
      "metadata": {
        "id": "2TmWRlsBS3yU"
      }
    },
    {
      "cell_type": "markdown",
      "source": [
        "You've done great work so far! Now let's create a couple visualizations to illustrate data we might be interested in. \n",
        "\n",
        "\n",
        "This section will be **manually graded**."
      ],
      "metadata": {
        "id": "FBMLzvZES3yU"
      }
    },
    {
      "cell_type": "markdown",
      "source": [
        "Begin by following the directions below to prepare the dataset for plotting"
      ],
      "metadata": {
        "id": "SWl6emHZS3yU"
      }
    },
    {
      "cell_type": "code",
      "source": [
        "from datetime import datetime\n",
        "import seaborn as sns"
      ],
      "metadata": {
        "id": "vUBBTugE9T4H"
      },
      "execution_count": 91,
      "outputs": []
    },
    {
      "cell_type": "markdown",
      "source": [
        "For this part we will be using `trips_final_df`"
      ],
      "metadata": {
        "id": "7TbqcrVG9VDd"
      }
    },
    {
      "cell_type": "code",
      "source": [
        "# Step 1a - using datetime functions, create a column called Time that has the time \n",
        "# (Hour:Minute) seen in the start_time column\n",
        "\n",
        "# HINT: The date should be of type %m/%d/%Y %H:%M, and once you've converted to datetime\n",
        "# you can use the .time() function to get the time of day\n",
        "\n",
        "trips_final_df[\"Time of Day\"] = trips_final_df[\"start_time\"].apply(lambda x: x.time())"
      ],
      "metadata": {
        "id": "76tp5HG-S3yU"
      },
      "execution_count": 92,
      "outputs": []
    },
    {
      "cell_type": "code",
      "source": [
        "# Step 1b - to make things simple for our graph, \"round\" the time down to the nearest hour.\n",
        "# For example, 0:01 and 0:59 should both turn into 0:00. You can either alter the \"Time of Day\"\n",
        "# column or create a new column and drop the old one, your choice.\n",
        "\n",
        "# Hint: you can use the replace() function to alter the minute component of the datetime object\n",
        "\n",
        "trips_final_df[\"Time of Day\"] = trips_final_df[\"Time of Day\"].apply(lambda x: x.replace(minute = 0))\n",
        "trips_final_df[\"Time of Day\"] = trips_final_df[\"Time of Day\"].apply(lambda x: x.strftime(\"%H:%M\"))"
      ],
      "metadata": {
        "id": "sVAMLlHM9Hy9"
      },
      "execution_count": 93,
      "outputs": []
    },
    {
      "cell_type": "code",
      "source": [
        "# Step 2a - Create a column called Date that gets the actual date (Month/Day/Year) seen\n",
        "# in the start_time column. Similar process as part 1a, and you will find .date() helpful here\n",
        "\n",
        "trips_final_df[\"Date\"] = trips_final_df[\"date\"].apply(lambda x: x.strftime(\"%m/%d/%Y\"))"
      ],
      "metadata": {
        "id": "wLcQT5Ok9JLP"
      },
      "execution_count": 94,
      "outputs": []
    },
    {
      "cell_type": "code",
      "source": [
        "# Step 2b- Using the 'Date' column, create a column called Day which has the day\n",
        "# associated with the date (Monday, Tuesday, ..., Sunday). You can discard the \n",
        "# 'Date' column once you're done.\n",
        "\n",
        "# Hint: the .weekday() function will be helpful here, but you cannot leave the final\n",
        "# answer as an integer; make sure to convert to the actual name of the day!\n",
        "\n",
        "# Note: 0 represents Monday, 1 represents Tuesday, ... , 6 represents Sunday\n",
        "\n",
        "trips_final_df[\"Day\"] = trips_final_df[\"date\"].apply(lambda x : x.weekday())\n",
        "trips_final_df[\"Day\"] = trips_final_df[\"Day\"].replace([0, 1, 2, 3, 4, 5, 6], [\"Monday\", \"Tuesday\",\\\n",
        "                        \"Wednesday\", \"Thursday\", \"Friday\", \"Saturday\", \"Sunday\"])"
      ],
      "metadata": {
        "id": "SkJU6LBS9KMa"
      },
      "execution_count": 95,
      "outputs": []
    },
    {
      "cell_type": "code",
      "source": [
        "# Step 3-  Make a dataframe that just contains 'trip_id','duration','Time of Day', and 'Day'\n",
        "trips_vis = trips_final_df[[\"trip_id\", \"duration\", \"Time of Day\", \"Day\"]]\n",
        "trips_vis.head()"
      ],
      "metadata": {
        "id": "tEI_BSHF9L9p",
        "colab": {
          "base_uri": "https://localhost:8080/",
          "height": 206
        },
        "outputId": "96947656-93d2-466d-bba7-0bbb2c01c4ec"
      },
      "execution_count": 96,
      "outputs": [
        {
          "output_type": "execute_result",
          "data": {
            "text/plain": [
              "     trip_id  duration Time of Day       Day\n",
              "0  536546924         3       01:00  Saturday\n",
              "1  536546925         3       01:00  Saturday\n",
              "2  536546927         7       01:00  Saturday\n",
              "3  536546929         7       01:00  Saturday\n",
              "4  536546932         6       01:00  Saturday"
            ],
            "text/html": [
              "\n",
              "  <div id=\"df-26c3e24d-b629-43c0-972d-f96e1bda71a2\">\n",
              "    <div class=\"colab-df-container\">\n",
              "      <div>\n",
              "<style scoped>\n",
              "    .dataframe tbody tr th:only-of-type {\n",
              "        vertical-align: middle;\n",
              "    }\n",
              "\n",
              "    .dataframe tbody tr th {\n",
              "        vertical-align: top;\n",
              "    }\n",
              "\n",
              "    .dataframe thead th {\n",
              "        text-align: right;\n",
              "    }\n",
              "</style>\n",
              "<table border=\"1\" class=\"dataframe\">\n",
              "  <thead>\n",
              "    <tr style=\"text-align: right;\">\n",
              "      <th></th>\n",
              "      <th>trip_id</th>\n",
              "      <th>duration</th>\n",
              "      <th>Time of Day</th>\n",
              "      <th>Day</th>\n",
              "    </tr>\n",
              "  </thead>\n",
              "  <tbody>\n",
              "    <tr>\n",
              "      <th>0</th>\n",
              "      <td>536546924</td>\n",
              "      <td>3</td>\n",
              "      <td>01:00</td>\n",
              "      <td>Saturday</td>\n",
              "    </tr>\n",
              "    <tr>\n",
              "      <th>1</th>\n",
              "      <td>536546925</td>\n",
              "      <td>3</td>\n",
              "      <td>01:00</td>\n",
              "      <td>Saturday</td>\n",
              "    </tr>\n",
              "    <tr>\n",
              "      <th>2</th>\n",
              "      <td>536546927</td>\n",
              "      <td>7</td>\n",
              "      <td>01:00</td>\n",
              "      <td>Saturday</td>\n",
              "    </tr>\n",
              "    <tr>\n",
              "      <th>3</th>\n",
              "      <td>536546929</td>\n",
              "      <td>7</td>\n",
              "      <td>01:00</td>\n",
              "      <td>Saturday</td>\n",
              "    </tr>\n",
              "    <tr>\n",
              "      <th>4</th>\n",
              "      <td>536546932</td>\n",
              "      <td>6</td>\n",
              "      <td>01:00</td>\n",
              "      <td>Saturday</td>\n",
              "    </tr>\n",
              "  </tbody>\n",
              "</table>\n",
              "</div>\n",
              "      <button class=\"colab-df-convert\" onclick=\"convertToInteractive('df-26c3e24d-b629-43c0-972d-f96e1bda71a2')\"\n",
              "              title=\"Convert this dataframe to an interactive table.\"\n",
              "              style=\"display:none;\">\n",
              "        \n",
              "  <svg xmlns=\"http://www.w3.org/2000/svg\" height=\"24px\"viewBox=\"0 0 24 24\"\n",
              "       width=\"24px\">\n",
              "    <path d=\"M0 0h24v24H0V0z\" fill=\"none\"/>\n",
              "    <path d=\"M18.56 5.44l.94 2.06.94-2.06 2.06-.94-2.06-.94-.94-2.06-.94 2.06-2.06.94zm-11 1L8.5 8.5l.94-2.06 2.06-.94-2.06-.94L8.5 2.5l-.94 2.06-2.06.94zm10 10l.94 2.06.94-2.06 2.06-.94-2.06-.94-.94-2.06-.94 2.06-2.06.94z\"/><path d=\"M17.41 7.96l-1.37-1.37c-.4-.4-.92-.59-1.43-.59-.52 0-1.04.2-1.43.59L10.3 9.45l-7.72 7.72c-.78.78-.78 2.05 0 2.83L4 21.41c.39.39.9.59 1.41.59.51 0 1.02-.2 1.41-.59l7.78-7.78 2.81-2.81c.8-.78.8-2.07 0-2.86zM5.41 20L4 18.59l7.72-7.72 1.47 1.35L5.41 20z\"/>\n",
              "  </svg>\n",
              "      </button>\n",
              "      \n",
              "  <style>\n",
              "    .colab-df-container {\n",
              "      display:flex;\n",
              "      flex-wrap:wrap;\n",
              "      gap: 12px;\n",
              "    }\n",
              "\n",
              "    .colab-df-convert {\n",
              "      background-color: #E8F0FE;\n",
              "      border: none;\n",
              "      border-radius: 50%;\n",
              "      cursor: pointer;\n",
              "      display: none;\n",
              "      fill: #1967D2;\n",
              "      height: 32px;\n",
              "      padding: 0 0 0 0;\n",
              "      width: 32px;\n",
              "    }\n",
              "\n",
              "    .colab-df-convert:hover {\n",
              "      background-color: #E2EBFA;\n",
              "      box-shadow: 0px 1px 2px rgba(60, 64, 67, 0.3), 0px 1px 3px 1px rgba(60, 64, 67, 0.15);\n",
              "      fill: #174EA6;\n",
              "    }\n",
              "\n",
              "    [theme=dark] .colab-df-convert {\n",
              "      background-color: #3B4455;\n",
              "      fill: #D2E3FC;\n",
              "    }\n",
              "\n",
              "    [theme=dark] .colab-df-convert:hover {\n",
              "      background-color: #434B5C;\n",
              "      box-shadow: 0px 1px 3px 1px rgba(0, 0, 0, 0.15);\n",
              "      filter: drop-shadow(0px 1px 2px rgba(0, 0, 0, 0.3));\n",
              "      fill: #FFFFFF;\n",
              "    }\n",
              "  </style>\n",
              "\n",
              "      <script>\n",
              "        const buttonEl =\n",
              "          document.querySelector('#df-26c3e24d-b629-43c0-972d-f96e1bda71a2 button.colab-df-convert');\n",
              "        buttonEl.style.display =\n",
              "          google.colab.kernel.accessAllowed ? 'block' : 'none';\n",
              "\n",
              "        async function convertToInteractive(key) {\n",
              "          const element = document.querySelector('#df-26c3e24d-b629-43c0-972d-f96e1bda71a2');\n",
              "          const dataTable =\n",
              "            await google.colab.kernel.invokeFunction('convertToInteractive',\n",
              "                                                     [key], {});\n",
              "          if (!dataTable) return;\n",
              "\n",
              "          const docLinkHtml = 'Like what you see? Visit the ' +\n",
              "            '<a target=\"_blank\" href=https://colab.research.google.com/notebooks/data_table.ipynb>data table notebook</a>'\n",
              "            + ' to learn more about interactive tables.';\n",
              "          element.innerHTML = '';\n",
              "          dataTable['output_type'] = 'display_data';\n",
              "          await google.colab.output.renderOutput(dataTable, element);\n",
              "          const docLink = document.createElement('div');\n",
              "          docLink.innerHTML = docLinkHtml;\n",
              "          element.appendChild(docLink);\n",
              "        }\n",
              "      </script>\n",
              "    </div>\n",
              "  </div>\n",
              "  "
            ]
          },
          "metadata": {},
          "execution_count": 96
        }
      ]
    },
    {
      "cell_type": "markdown",
      "source": [
        "Your dataset is now complete! For the first line plot, you will be visualizing the number of trips that occur during each hour of the day, for all 7 days. To do so, you will be creating 2 line charts using Seaborn (sns).\n",
        "\n",
        "### This is important: using only Matplotlib will NOT result in full credit\n",
        "\n",
        "It is crucial that **your first line graph** contains the following features:\n",
        "1. The X-axis should be labelled \"Time of Day\", is of type datetime and ranges from 00:00 (midnight) to 23:00 (11 pm)\n",
        "2. The Y-axis should be labelled \"# of Rides\".\n",
        "3. There should be a title called \"# of Rides for each Time of Day\"\n",
        "4. There are 7 lines for each day of the week, clearly labeled and differentiated, **containing markers**.\n",
        "5. Again, must be completed using Seaborn (sns)\n"
      ],
      "metadata": {
        "id": "3uz28_FeVYnK"
      }
    },
    {
      "cell_type": "code",
      "source": [
        "# First Plot:\n",
        "\n",
        "# For this plot, create a dataframe that does not have the duration column\n",
        "plot1_df = trips_vis[[\"trip_id\", \"Time of Day\", \"Day\"]]\n",
        "\n",
        "\n",
        "# Now, alter this dataframe to have 3 columns, IN THIS ORDER:\n",
        "# 'day', 'Time of Day', 'Count'. Count will keep track of how many rides occured \n",
        "# during the particular hour of that day. Using Pandas for aggregation is strongly recommended.\n",
        "plot1_df = plot1_df.groupby([\"Day\", \"Time of Day\"], as_index = False).agg(Count = (\"trip_id\", \"count\"))\n",
        "\n",
        "\n",
        "# Now you have everything you need to create and display a line graph that\n",
        "# meets all the necessary criteria.\n",
        "sns.set(rc = {'figure.figsize': (10, 6)})\n",
        "sns.lineplot(data = plot1_df, x = \"Time of Day\", y = \"Count\", hue = \"Day\", style = \"Day\", markers = True)\\\n",
        "            .set(title = \"# of Rides for each Time of Day\")\n",
        "plt.xticks(rotation = 45);"
      ],
      "metadata": {
        "id": "ydXhm8lCS3yV",
        "colab": {
          "base_uri": "https://localhost:8080/",
          "height": 429
        },
        "outputId": "a71f5ef5-f9c5-480c-b456-bbae6c47738d"
      },
      "execution_count": 97,
      "outputs": [
        {
          "output_type": "display_data",
          "data": {
            "text/plain": [
              "<Figure size 720x432 with 1 Axes>"
            ],
            "image/png": "[encoded data removed]"
          },
          "metadata": {}
        }
      ]
    },
    {
      "cell_type": "markdown",
      "source": [
        "Very interesting. Now for the second line plot, you will be visualizing the average duration of a ride that occurs during each hour of the day, for all 7 days. \n",
        "\n",
        "As a reminder, **your second line graph** should contain the following features:\n",
        "1. The X-axis should be the same as last time\n",
        "2. The Y-axis should be labelled \"Average Duration\".\n",
        "3. There should be a title called \"Average Duration of an Indego Bike Ride for each Time of Day\"\n",
        "4. There are 7 lines for each of the 7 days"
      ],
      "metadata": {
        "id": "CJKpjLkUp5B0"
      }
    },
    {
      "cell_type": "code",
      "source": [
        "# Second Plot:\n",
        "\n",
        "# For this plot, create a dataframe that does not contain the trip_id column\n",
        "plot2_df = trips_vis[[\"Day\", \"Time of Day\", \"duration\"]]\n",
        "\n",
        "# Now, alter this dataframe to have 3 columns, IN THIS ORDER:\n",
        "# 'day', 'Time of Day', 'Average Duration'. Average Duration is the mean duration time\n",
        "# for the particular hour of that day. \n",
        "plot2_df = plot2_df.groupby([\"Day\", \"Time of Day\"], as_index = False).agg(**{\"Average Duration\" : (\"duration\",\"mean\")})\n",
        "\n",
        "# Now just plot the graph\n",
        "sns.lineplot(data = plot2_df, x = \"Time of Day\", y = \"Average Duration\", hue = \"Day\", style = \"Day\", markers = True)\\\n",
        "            .set(title = \"Average Duration of an Indego Bike Ride for each Time of Day\")\n",
        "plt.xticks(rotation = 45);"
      ],
      "metadata": {
        "id": "GzP5j9KCS3yW",
        "colab": {
          "base_uri": "https://localhost:8080/",
          "height": 429
        },
        "outputId": "311a6443-a522-4559-d1c5-f0b49fde6b66"
      },
      "execution_count": 98,
      "outputs": [
        {
          "output_type": "display_data",
          "data": {
            "text/plain": [
              "<Figure size 720x432 with 1 Axes>"
            ],
            "image/png": "[encoded data removed]"
          },
          "metadata": {}
        }
      ]
    },
    {
      "cell_type": "markdown",
      "source": [
        "## Part 4: Working with Text Data [9 points]\n",
        "\n",
        "Now, let's switch gears and try to text-based analysis. Textual data is complex, but can also be used to generate extremely interpretable results, making it both valuable and interesting. \n",
        "\n",
        "Throughout this section, we will attempt to answer the following question:\n",
        "\n",
        "**According to the `reviews_df` dataframe, what do the reviews for some of the most popular restaurants in Philadelphia look like?**"
      ],
      "metadata": {
        "id": "rC5YZxulS3yX"
      }
    },
    {
      "cell_type": "markdown",
      "source": [
        "###4.1 Tokenizing the text [2 points]\n",
        "\n",
        "We are going to split the contents of the `reviews` column from `reviews_df` into a list of words. We will use the **nltk** library, which contains an extensive set of tools for text processing. Now, this homework would be interminably long if we went into all the details of nltk. Thus, we are only going to use the following components of the library:\n",
        "- `nltk.word_tokenize()`: a function used to tokenize text\n",
        "- `nltk.corpus.stopwords`: a list of commonly used words such as \"a\", \"an\",\"in\" that are often ignored in text analysis\n",
        "\n",
        "Note that for this question, we didn't have to clean the text data first as our original dataset was well-formatted. However, in practice, we would typically clean the text first using regular expressions (regex). Keep this in mind as you work on the project later on in the semester.\n",
        "\n",
        "**TODO:** Perform the following tasks:\n",
        "- Use **nltk.corpus.stopwords** to create a set containing the most common English stopwords.\n",
        "- Implement the function **tokenized_content(content)**, which takes in a string and does the following:\n",
        "1. Tokenize the text\n",
        "2. Keep tokens that only contain alphabetic characters (i.e. tokens with no punctuation)\n",
        "3. Convert each token to lowercase\n",
        "4. Remove stopwords (commonly used words such as \"a\", \"an\", \"in\")\n"
      ],
      "metadata": {
        "id": "6LRZiK9YS3yX"
      }
    },
    {
      "cell_type": "code",
      "source": [
        "# We've imported the nltk library and created the stopwords set for you\n",
        "import nltk\n",
        "from nltk.corpus import stopwords\n",
        "nltk.download('stopwords')\n",
        "stopwords = set(stopwords.words('english'))"
      ],
      "metadata": {
        "id": "MTeCg9ggS3yX",
        "colab": {
          "base_uri": "https://localhost:8080/"
        },
        "outputId": "5cc86369-6807-45cc-ba34-3290b84300d2"
      },
      "execution_count": 99,
      "outputs": [
        {
          "output_type": "stream",
          "name": "stderr",
          "text": [
            "[nltk_data] Downloading package stopwords to /root/nltk_data...\n",
            "[nltk_data]   Package stopwords is already up-to-date!\n"
          ]
        }
      ]
    },
    {
      "cell_type": "code",
      "source": [
        "# TODO: tokenize and flatten \n",
        "# (create a tokenized_content function that performs the steps listed above)\n",
        "\n",
        "def tokenized_content(content):\n",
        "  tokens = nltk.word_tokenize(content)\n",
        "  tokens_alpha = [token for token in tokens if token.isalpha()]\n",
        "  tokens_lower = [token.lower() for token in tokens_alpha]\n",
        "  return [token for token in tokens_lower if token not in stopwords]"
      ],
      "metadata": {
        "id": "VrCQn9XkS3yY"
      },
      "execution_count": 100,
      "outputs": []
    },
    {
      "cell_type": "markdown",
      "source": [
        " **TODO**: Now perform the following tasks: \n",
        "- We are interested in reviews for the **most reviewed** restaurant in `reviews_df`. Using Counter() to find this restaurant is recommended. Store the name of the restaurant in the `most_reviewed_restaurant` variable, and use it to create `restaurant_reviews_df`, a subset of `reviews_df` only containing instances from the restaurant in question\n",
        "- From there, extract the `review` column of `reviews_df` as a list called `reviews`. \n",
        "- Apply your `tokenize_content()` function to each item in the list `reviews`. Call the resultant list `top_tokens_list`. \n",
        "- Flatten the list `top_tokens_list`, and call the resultant list `top_tokens`. The autograder will be examining the contents of this list. (Flatten using list comprehension)\n",
        "\n",
        "For futher assistance, here is the documentation for Counter() objects: \n",
        "\n",
        "https://docs.python.org/2/library/collections.html#counter-objects"
      ],
      "metadata": {
        "id": "kSFZfxDXS3yY"
      }
    },
    {
      "cell_type": "code",
      "source": [
        "from collections import Counter\n",
        "# TODO: find the most reviewed restaurant, use that to make restaurant_reviews_df,\n",
        "#       extract the reviews, use your function to make the token list, and flatten it\n",
        "\n",
        "c = Counter(reviews_df[\"restaurant\"])\n",
        "\n",
        "most_reviewed_restaurant = c.most_common(1)[0][0]\n",
        "restaurant_reviews_df = reviews_df[reviews_df[\"restaurant\"] == most_reviewed_restaurant]\n",
        "reviews = list(restaurant_reviews_df[\"review\"])\n",
        "top_tokens_list = [tokenized_content(x) for x in reviews]\n",
        "top_tokens = [x for y in top_tokens_list for x in y]"
      ],
      "metadata": {
        "id": "_b-JZ1I5S3yZ"
      },
      "execution_count": 101,
      "outputs": []
    },
    {
      "cell_type": "code",
      "source": [
        "# 2 points\n",
        "grader.grade(test_case_id = 'test_top_tokens', answer = top_tokens)"
      ],
      "metadata": {
        "id": "8Dc2ogf8S3yZ",
        "colab": {
          "base_uri": "https://localhost:8080/"
        },
        "outputId": "e290f3ca-7dea-4400-d387-c15197effea0"
      },
      "execution_count": 102,
      "outputs": [
        {
          "output_type": "stream",
          "name": "stdout",
          "text": [
            "Correct! You earned 2/2 points. You are a star!\n",
            "\n",
            "Your submission has been successfully recorded in the gradebook.\n"
          ]
        }
      ]
    },
    {
      "cell_type": "markdown",
      "source": [
        "\n",
        "### 4.2 Most Frequent Words [2 points]\n",
        "**TODO**: Now, find the 10 most common words amongst the content of `top_tokens`. Return this as a list of `(word, count)` tuples, in descending order of `count`. Store this variable in `top_ten_words`\n",
        "\n",
        "**Hint**: We again recommend using `Counter` in this question."
      ],
      "metadata": {
        "id": "GEwk7DbrS3yZ"
      }
    },
    {
      "cell_type": "code",
      "source": [
        "# TODO: From top_tokens, find the ten most frequent words\n",
        "top_ten_words = Counter(top_tokens).most_common(10)"
      ],
      "metadata": {
        "id": "GFd9R1wyS3yZ"
      },
      "execution_count": 103,
      "outputs": []
    },
    {
      "cell_type": "code",
      "source": [
        "# 2 points\n",
        "grader.grade(test_case_id = 'test_top_most_common', answer = top_ten_words)"
      ],
      "metadata": {
        "id": "Wd_RRFloS3ya",
        "colab": {
          "base_uri": "https://localhost:8080/"
        },
        "outputId": "f6601d16-649c-4695-eb14-05fe2fc5f05e"
      },
      "execution_count": 104,
      "outputs": [
        {
          "output_type": "stream",
          "name": "stdout",
          "text": [
            "Correct! You earned 2/2 points. You are a star!\n",
            "\n",
            "Your submission has been successfully recorded in the gradebook.\n"
          ]
        }
      ]
    },
    {
      "cell_type": "markdown",
      "source": [
        "### 4.3 Word Clouds [5 points]\n",
        "\n",
        "Before we move on from this dataset, let's visualize our results using a word cloud.\n",
        "\n",
        "**TODO**: Create a word cloud containing all the words in the list `top_tokens` (created in part 4.1). [The WordCloud documentation](https://amueller.github.io/word_cloud/generated/wordcloud.WordCloud.html) contains instructions on how to do this. \n",
        "\n",
        "*Please make sure your wordcloud has a **lavender** background color.*\n",
        "\n",
        "We will be going through your notebooks and **manually grading** your word cloud. This is worth 5 points. "
      ],
      "metadata": {
        "id": "vr94cNcdS3ya"
      }
    },
    {
      "cell_type": "code",
      "source": [
        "# TODO: generate your word cloud, making sure it meets the requirements above\n",
        "wordcloud = WordCloud(background_color = \"lavender\").generate(\" \".join(top_tokens))"
      ],
      "metadata": {
        "id": "gzM1RmhxS3ya"
      },
      "execution_count": 105,
      "outputs": []
    },
    {
      "cell_type": "code",
      "source": [
        "import matplotlib.pyplot as plt\n",
        "plt.imshow(wordcloud, interpolation='bilinear')\n",
        "plt.axis(\"off\")"
      ],
      "metadata": {
        "colab": {
          "base_uri": "https://localhost:8080/",
          "height": 328
        },
        "id": "OnPlle41KTy7",
        "outputId": "841942ca-aca6-4a7c-8fb3-95fe7503faef"
      },
      "execution_count": 106,
      "outputs": [
        {
          "output_type": "execute_result",
          "data": {
            "text/plain": [
              "(-0.5, 399.5, 199.5, -0.5)"
            ]
          },
          "metadata": {},
          "execution_count": 106
        },
        {
          "output_type": "display_data",
          "data": {
            "text/plain": [
              "<Figure size 720x432 with 1 Axes>"
            ],
            "image/png": "[encoded data removed]"
          },
          "metadata": {}
        }
      ]
    },
    {
      "cell_type": "markdown",
      "metadata": {
        "id": "UcrcDEJNlrN0"
      },
      "source": [
        "# HW Submission\n",
        "\n",
        "<br>\n",
        "<center><img src = \"https://i.imgflip.com/79knab.jpg\" width= \"500\" align =\"center\"/></center>\n",
        "<br>\n",
        "\n",
        "Congratulations on finishing this homework! The good news is that similar to HW1, you basically know your score when you submit to Gradescope. \n",
        "However, this time, we will be manually grading your lineplots and wordclouds, so the autograder score is not final! Remember that we will also be checking for plagiarism, so please make sure to cite your sources (if any) by commenting the urls / links you looked at.\n",
        "\n",
        "Before you submit on Gradescope (you must submit your notebook to receive credit):\n",
        "\n",
        "1.   Please rerun your notebook on Colab by clicking \"Restart and Run-All\", and make sure there is nothing wrong with your notebook.\n",
        "2.   **Double check that you have the correct PennID (all numbers) saved in the autograder**. \n",
        "3. Make sure you've run all the PennGrader cells and have received a score.\n",
        "4. Go to the \"File\" tab at the top left, and click \"Download .ipynb\" + \"Download .py\". Please name the `.ipynb` and `.py` files **\"homework2.ipynb\"** and **\"homework2.py\"** respectively. Then, upload both the `.py` and `.ipynb` files to Gradescope. \n",
        "\n",
        "###Be sure to name your files correctly!!!\n",
        "\n",
        "**Please let the course staff know ASAP if you have any issues submitting.**"
      ]
    }
  ],
  "metadata": {
    "colab": {
      "provenance": [],
      "toc_visible": true
    },
    "kernelspec": {
      "display_name": "Python 3",
      "name": "python3"
    },
    "language_info": {
      "name": "python"
    }
  },
  "nbformat": 4,
  "nbformat_minor": 0
}