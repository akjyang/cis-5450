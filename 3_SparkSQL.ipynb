{
  "cells": [
    {
      "cell_type": "markdown",
      "metadata": {
        "id": "qVMCjEV1IEC7"
      },
      "source": [
        "# CIS 5450 Homework 3: Spark SQL\n",
        "\n",
        "### **Deadline: Tuesday, 21st March, 2023 @ 10pm EST**\n",
        "\n",
        "#### **Worth 100 points**\n",
        "\n",
        "Welcome to CIS 5450 Homework 3! In this homework you will gain a mastery of using Spark SQL. By the end, you'll be a star (not that you aren't already one). Over the next few days you will be using an EMR cluster to use Spark to manipulate the datasets about Amazon products and their reviews. \n",
        "\n",
        "## The Necessary Notes and Nags\n",
        "Before we begin here are some important notes to keep in mind,\n",
        "\n",
        "\n",
        "1.   **IMPORTANT!** I said it twice, it's really important. In this homework, we will be using AWS resources. You are given a quota ($100) to use for the entirety of the homework. There is a small chance you will use all this money, however it is important that at the end of every session, you **shut down your EMR cluster**.\n",
        "2.   **Be sure you use Google Colab for this Homework** since we must connect to the EMR cluster and local Jupyter will have issues doing that. Using a Google Colab Notebook with an EMR cluster has two important abnormalities:\n",
        "    * The first line of any cell in which you will use the spark session must be `%%spark`. Notice that all cells below have this.\n",
        "    * You will, unfortunately, not be able to stop a cell while it is running. If you wish to do so, you will need to restart your cluster. See the Setup EMR Document for reference.\n",
        "3.   You are **required** to use Spark SQL queries to handle the data in the assignment. Mastering SQL is more beneficial than being able to use Spark commands (functions) as it will show up in more areas of programming and data science/analytics than just Spark. Use the following [function list](https://spark.apache.org/docs/latest/api/sql/index.html#) to see all the SQL functions avaliable in Spark.\n",
        "4.   Throughout the homework you will be manipulating Spark dataframes (sdfs). \n",
        "5. Based on the challenges you've faced in the previous homework, we are including information on the expected schema of your results.  Apache Spark is very fiddly but we hope this will help.\n",
        "6. There are portions of this homework that are _very_ hard. We urge you start early to come to office hours and get help if you get stuck. But don't worry, I can see the future, and you all got this.\n",
        "\n",
        "With that said, let's dive in.\n",
        "\n",
        "\n"
      ]
    },
    {
      "cell_type": "markdown",
      "metadata": {
        "id": "7XEqGpEGBWs5"
      },
      "source": [
        "## Step 0: Set up EMR\n",
        "\n",
        "Follow the [AWS Academy Getting Started](https://docs.google.com/document/d/1JPitLGaorjTbXjGsaoIHcLTu2cj8rjm5UNr9bSpZ72k/edit?usp=sharing) instructions.\n",
        "\n",
        "Move on to Step 0.1 after you have completed all the steps in the document.\n",
        "\n",
        "![ACME GIANT RUBBER BAND](https://pbs.twimg.com/media/DRqbJh7UMAE2z4o?format=jpg&name=4096x4096)\n"
      ]
    },
    {
      "cell_type": "markdown",
      "metadata": {
        "id": "5iBPXxgAdXkv"
      },
      "source": [
        "### 0.1: The Superfluous Setup\n",
        "\n",
        "Run the following two cells. These will allow your colab notebook to connect to and use your EMR."
      ]
    },
    {
      "cell_type": "code",
      "execution_count": 2,
      "metadata": {
        "id": "pvkEbVaaAQ1e",
        "colab": {
          "base_uri": "https://localhost:8080/"
        },
        "outputId": "35585d8f-f718-4459-9941-dc871dac78b5"
      },
      "outputs": [
        {
          "output_type": "stream",
          "name": "stdout",
          "text": [
            "Reading package lists... Done\n",
            "Building dependency tree       \n",
            "Reading state information... Done\n",
            "libkrb5-dev is already the newest version (1.17-6ubuntu4.3).\n",
            "0 upgraded, 0 newly installed, 0 to remove and 23 not upgraded.\n",
            "Looking in indexes: https://pypi.org/simple, https://us-python.pkg.dev/colab-wheels/public/simple/\n",
            "Collecting sparkmagic\n",
            "  Using cached sparkmagic-0.20.4.tar.gz (44 kB)\n",
            "  Preparing metadata (setup.py) ... \u001b[?25l\u001b[?25hdone\n",
            "Collecting hdijupyterutils>=0.6\n",
            "  Using cached hdijupyterutils-0.20.4.tar.gz (5.1 kB)\n",
            "  Preparing metadata (setup.py) ... \u001b[?25l\u001b[?25hdone\n",
            "Collecting autovizwidget>=0.6\n",
            "  Using cached autovizwidget-0.20.4.tar.gz (9.0 kB)\n",
            "  Preparing metadata (setup.py) ... \u001b[?25l\u001b[?25hdone\n",
            "Requirement already satisfied: ipython>=4.0.2 in /usr/local/lib/python3.9/dist-packages (from sparkmagic) (7.9.0)\n",
            "Requirement already satisfied: pandas>=0.17.1 in /usr/local/lib/python3.9/dist-packages (from sparkmagic) (1.4.4)\n",
            "Requirement already satisfied: numpy in /usr/local/lib/python3.9/dist-packages (from sparkmagic) (1.22.4)\n",
            "Requirement already satisfied: requests in /usr/local/lib/python3.9/dist-packages (from sparkmagic) (2.27.1)\n",
            "Requirement already satisfied: ipykernel>=4.2.2 in /usr/local/lib/python3.9/dist-packages (from sparkmagic) (5.3.4)\n",
            "Requirement already satisfied: ipywidgets>5.0.0 in /usr/local/lib/python3.9/dist-packages (from sparkmagic) (7.7.1)\n",
            "Requirement already satisfied: notebook>=4.2 in /usr/local/lib/python3.9/dist-packages (from sparkmagic) (6.5.3)\n",
            "Requirement already satisfied: tornado>=4 in /usr/local/lib/python3.9/dist-packages (from sparkmagic) (6.2)\n",
            "Collecting requests_kerberos>=0.8.0\n",
            "  Using cached requests_kerberos-0.14.0-py2.py3-none-any.whl (11 kB)\n",
            "Collecting nest_asyncio==1.5.5\n",
            "  Using cached nest_asyncio-1.5.5-py3-none-any.whl (5.2 kB)\n",
            "Requirement already satisfied: plotly>=3 in /usr/local/lib/python3.9/dist-packages (from autovizwidget>=0.6->sparkmagic) (5.13.1)\n",
            "Collecting jupyter>=1\n",
            "  Using cached jupyter-1.0.0-py2.py3-none-any.whl (2.7 kB)\n",
            "Requirement already satisfied: jupyter-client in /usr/local/lib/python3.9/dist-packages (from ipykernel>=4.2.2->sparkmagic) (6.1.12)\n",
            "Requirement already satisfied: traitlets>=4.1.0 in /usr/local/lib/python3.9/dist-packages (from ipykernel>=4.2.2->sparkmagic) (5.7.1)\n",
            "Requirement already satisfied: pickleshare in /usr/local/lib/python3.9/dist-packages (from ipython>=4.0.2->sparkmagic) (0.7.5)\n",
            "Requirement already satisfied: setuptools>=18.5 in /usr/local/lib/python3.9/dist-packages (from ipython>=4.0.2->sparkmagic) (63.4.3)\n",
            "Requirement already satisfied: pygments in /usr/local/lib/python3.9/dist-packages (from ipython>=4.0.2->sparkmagic) (2.6.1)\n",
            "Requirement already satisfied: pexpect in /usr/local/lib/python3.9/dist-packages (from ipython>=4.0.2->sparkmagic) (4.8.0)\n",
            "Requirement already satisfied: decorator in /usr/local/lib/python3.9/dist-packages (from ipython>=4.0.2->sparkmagic) (4.4.2)\n",
            "Requirement already satisfied: backcall in /usr/local/lib/python3.9/dist-packages (from ipython>=4.0.2->sparkmagic) (0.2.0)\n",
            "Requirement already satisfied: prompt-toolkit<2.1.0,>=2.0.0 in /usr/local/lib/python3.9/dist-packages (from ipython>=4.0.2->sparkmagic) (2.0.10)\n",
            "Collecting jedi>=0.10\n",
            "  Using cached jedi-0.18.2-py2.py3-none-any.whl (1.6 MB)\n",
            "Requirement already satisfied: widgetsnbextension~=3.6.0 in /usr/local/lib/python3.9/dist-packages (from ipywidgets>5.0.0->sparkmagic) (3.6.2)\n",
            "Requirement already satisfied: ipython-genutils~=0.2.0 in /usr/local/lib/python3.9/dist-packages (from ipywidgets>5.0.0->sparkmagic) (0.2.0)\n",
            "Requirement already satisfied: jupyterlab-widgets>=1.0.0 in /usr/local/lib/python3.9/dist-packages (from ipywidgets>5.0.0->sparkmagic) (3.0.5)\n",
            "Requirement already satisfied: nbclassic>=0.4.7 in /usr/local/lib/python3.9/dist-packages (from notebook>=4.2->sparkmagic) (0.5.3)\n",
            "Requirement already satisfied: jupyter-core>=4.6.1 in /usr/local/lib/python3.9/dist-packages (from notebook>=4.2->sparkmagic) (5.3.0)\n",
            "Requirement already satisfied: jinja2 in /usr/local/lib/python3.9/dist-packages (from notebook>=4.2->sparkmagic) (3.1.2)\n",
            "Requirement already satisfied: pyzmq>=17 in /usr/local/lib/python3.9/dist-packages (from notebook>=4.2->sparkmagic) (23.2.1)\n",
            "Requirement already satisfied: argon2-cffi in /usr/local/lib/python3.9/dist-packages (from notebook>=4.2->sparkmagic) (21.3.0)\n",
            "Requirement already satisfied: nbformat in /usr/local/lib/python3.9/dist-packages (from notebook>=4.2->sparkmagic) (5.7.3)\n",
            "Requirement already satisfied: prometheus-client in /usr/local/lib/python3.9/dist-packages (from notebook>=4.2->sparkmagic) (0.16.0)\n",
            "Requirement already satisfied: Send2Trash>=1.8.0 in /usr/local/lib/python3.9/dist-packages (from notebook>=4.2->sparkmagic) (1.8.0)\n",
            "Requirement already satisfied: terminado>=0.8.3 in /usr/local/lib/python3.9/dist-packages (from notebook>=4.2->sparkmagic) (0.17.1)\n",
            "Requirement already satisfied: nbconvert>=5 in /usr/local/lib/python3.9/dist-packages (from notebook>=4.2->sparkmagic) (6.5.4)\n",
            "Requirement already satisfied: pytz>=2020.1 in /usr/local/lib/python3.9/dist-packages (from pandas>=0.17.1->sparkmagic) (2022.7.1)\n",
            "Requirement already satisfied: python-dateutil>=2.8.1 in /usr/local/lib/python3.9/dist-packages (from pandas>=0.17.1->sparkmagic) (2.8.2)\n",
            "Collecting cryptography>=1.3\n",
            "  Using cached cryptography-39.0.2-cp36-abi3-manylinux_2_28_x86_64.whl (4.2 MB)\n",
            "Collecting pyspnego[kerberos]\n",
            "  Using cached pyspnego-0.8.0-py3-none-any.whl (130 kB)\n",
            "Requirement already satisfied: idna<4,>=2.5 in /usr/local/lib/python3.9/dist-packages (from requests->sparkmagic) (3.4)\n",
            "Requirement already satisfied: certifi>=2017.4.17 in /usr/local/lib/python3.9/dist-packages (from requests->sparkmagic) (2022.12.7)\n",
            "Requirement already satisfied: urllib3<1.27,>=1.21.1 in /usr/local/lib/python3.9/dist-packages (from requests->sparkmagic) (1.26.15)\n",
            "Requirement already satisfied: charset-normalizer~=2.0.0 in /usr/local/lib/python3.9/dist-packages (from requests->sparkmagic) (2.0.12)\n",
            "Requirement already satisfied: cffi>=1.12 in /usr/local/lib/python3.9/dist-packages (from cryptography>=1.3->requests_kerberos>=0.8.0->sparkmagic) (1.15.1)\n",
            "Requirement already satisfied: parso<0.9.0,>=0.8.0 in /usr/local/lib/python3.9/dist-packages (from jedi>=0.10->ipython>=4.0.2->sparkmagic) (0.8.3)\n",
            "Requirement already satisfied: jupyter-console in /usr/local/lib/python3.9/dist-packages (from jupyter>=1->hdijupyterutils>=0.6->sparkmagic) (6.1.0)\n",
            "Collecting qtconsole\n",
            "  Using cached qtconsole-5.4.1-py3-none-any.whl (120 kB)\n",
            "Requirement already satisfied: platformdirs>=2.5 in /usr/local/lib/python3.9/dist-packages (from jupyter-core>=4.6.1->notebook>=4.2->sparkmagic) (3.1.1)\n",
            "Requirement already satisfied: jupyter-server>=1.8 in /usr/local/lib/python3.9/dist-packages (from nbclassic>=0.4.7->notebook>=4.2->sparkmagic) (1.23.6)\n",
            "Requirement already satisfied: notebook-shim>=0.1.0 in /usr/local/lib/python3.9/dist-packages (from nbclassic>=0.4.7->notebook>=4.2->sparkmagic) (0.2.2)\n",
            "Requirement already satisfied: lxml in /usr/local/lib/python3.9/dist-packages (from nbconvert>=5->notebook>=4.2->sparkmagic) (4.9.2)\n",
            "Requirement already satisfied: jupyterlab-pygments in /usr/local/lib/python3.9/dist-packages (from nbconvert>=5->notebook>=4.2->sparkmagic) (0.2.2)\n",
            "Requirement already satisfied: pandocfilters>=1.4.1 in /usr/local/lib/python3.9/dist-packages (from nbconvert>=5->notebook>=4.2->sparkmagic) (1.5.0)\n",
            "Requirement already satisfied: defusedxml in /usr/local/lib/python3.9/dist-packages (from nbconvert>=5->notebook>=4.2->sparkmagic) (0.7.1)\n",
            "Requirement already satisfied: packaging in /usr/local/lib/python3.9/dist-packages (from nbconvert>=5->notebook>=4.2->sparkmagic) (23.0)\n",
            "Requirement already satisfied: entrypoints>=0.2.2 in /usr/local/lib/python3.9/dist-packages (from nbconvert>=5->notebook>=4.2->sparkmagic) (0.4)\n",
            "Requirement already satisfied: MarkupSafe>=2.0 in /usr/local/lib/python3.9/dist-packages (from nbconvert>=5->notebook>=4.2->sparkmagic) (2.1.2)\n",
            "Requirement already satisfied: beautifulsoup4 in /usr/local/lib/python3.9/dist-packages (from nbconvert>=5->notebook>=4.2->sparkmagic) (4.11.2)\n",
            "Requirement already satisfied: tinycss2 in /usr/local/lib/python3.9/dist-packages (from nbconvert>=5->notebook>=4.2->sparkmagic) (1.2.1)\n",
            "Requirement already satisfied: bleach in /usr/local/lib/python3.9/dist-packages (from nbconvert>=5->notebook>=4.2->sparkmagic) (6.0.0)\n",
            "Requirement already satisfied: nbclient>=0.5.0 in /usr/local/lib/python3.9/dist-packages (from nbconvert>=5->notebook>=4.2->sparkmagic) (0.7.2)\n",
            "Requirement already satisfied: mistune<2,>=0.8.1 in /usr/local/lib/python3.9/dist-packages (from nbconvert>=5->notebook>=4.2->sparkmagic) (0.8.4)\n",
            "Requirement already satisfied: jsonschema>=2.6 in /usr/local/lib/python3.9/dist-packages (from nbformat->notebook>=4.2->sparkmagic) (4.3.3)\n",
            "Requirement already satisfied: fastjsonschema in /usr/local/lib/python3.9/dist-packages (from nbformat->notebook>=4.2->sparkmagic) (2.16.3)\n",
            "Requirement already satisfied: tenacity>=6.2.0 in /usr/local/lib/python3.9/dist-packages (from plotly>=3->autovizwidget>=0.6->sparkmagic) (8.2.2)\n",
            "Requirement already satisfied: six>=1.9.0 in /usr/local/lib/python3.9/dist-packages (from prompt-toolkit<2.1.0,>=2.0.0->ipython>=4.0.2->sparkmagic) (1.15.0)\n",
            "Requirement already satisfied: wcwidth in /usr/local/lib/python3.9/dist-packages (from prompt-toolkit<2.1.0,>=2.0.0->ipython>=4.0.2->sparkmagic) (0.2.6)\n",
            "Requirement already satisfied: ptyprocess in /usr/local/lib/python3.9/dist-packages (from terminado>=0.8.3->notebook>=4.2->sparkmagic) (0.7.0)\n",
            "Requirement already satisfied: argon2-cffi-bindings in /usr/local/lib/python3.9/dist-packages (from argon2-cffi->notebook>=4.2->sparkmagic) (21.2.0)\n",
            "Collecting krb5>=0.3.0\n",
            "  Using cached krb5-0.5.0.tar.gz (220 kB)\n",
            "  Installing build dependencies ... \u001b[?25l\u001b[?25hdone\n",
            "  Getting requirements to build wheel ... \u001b[?25l\u001b[?25hdone\n",
            "  Installing backend dependencies ... \u001b[?25l\u001b[?25hdone\n",
            "  Preparing metadata (pyproject.toml) ... \u001b[?25l\u001b[?25hdone\n",
            "Collecting gssapi>=1.6.0\n",
            "  Downloading gssapi-1.8.2.tar.gz (94 kB)\n",
            "\u001b[2K     \u001b[90m━━━━━━━━━━━━━━━━━━━━━━━━━━━━━━━━━━━━━━━━\u001b[0m \u001b[32m94.3/94.3 KB\u001b[0m \u001b[31m7.6 MB/s\u001b[0m eta \u001b[36m0:00:00\u001b[0m\n",
            "\u001b[?25h  Installing build dependencies ... \u001b[?25l\u001b[?25hdone\n",
            "  Getting requirements to build wheel ... \u001b[?25l\u001b[?25hdone\n",
            "  Installing backend dependencies ... \u001b[?25l\u001b[?25hdone\n",
            "  Preparing metadata (pyproject.toml) ... \u001b[?25l\u001b[?25hdone\n",
            "Requirement already satisfied: pycparser in /usr/local/lib/python3.9/dist-packages (from cffi>=1.12->cryptography>=1.3->requests_kerberos>=0.8.0->sparkmagic) (2.21)\n",
            "Requirement already satisfied: attrs>=17.4.0 in /usr/local/lib/python3.9/dist-packages (from jsonschema>=2.6->nbformat->notebook>=4.2->sparkmagic) (22.2.0)\n",
            "Requirement already satisfied: pyrsistent!=0.17.0,!=0.17.1,!=0.17.2,>=0.14.0 in /usr/local/lib/python3.9/dist-packages (from jsonschema>=2.6->nbformat->notebook>=4.2->sparkmagic) (0.19.3)\n",
            "Requirement already satisfied: websocket-client in /usr/local/lib/python3.9/dist-packages (from jupyter-server>=1.8->nbclassic>=0.4.7->notebook>=4.2->sparkmagic) (1.5.1)\n",
            "Requirement already satisfied: anyio<4,>=3.1.0 in /usr/local/lib/python3.9/dist-packages (from jupyter-server>=1.8->nbclassic>=0.4.7->notebook>=4.2->sparkmagic) (3.6.2)\n",
            "Requirement already satisfied: soupsieve>1.2 in /usr/local/lib/python3.9/dist-packages (from beautifulsoup4->nbconvert>=5->notebook>=4.2->sparkmagic) (2.4)\n",
            "Requirement already satisfied: webencodings in /usr/local/lib/python3.9/dist-packages (from bleach->nbconvert>=5->notebook>=4.2->sparkmagic) (0.5.1)\n",
            "Collecting qtpy>=2.0.1\n",
            "  Downloading QtPy-2.3.0-py3-none-any.whl (83 kB)\n",
            "\u001b[2K     \u001b[90m━━━━━━━━━━━━━━━━━━━━━━━━━━━━━━━━━━━━━━━━\u001b[0m \u001b[32m83.6/83.6 KB\u001b[0m \u001b[31m10.9 MB/s\u001b[0m eta \u001b[36m0:00:00\u001b[0m\n",
            "\u001b[?25hRequirement already satisfied: sniffio>=1.1 in /usr/local/lib/python3.9/dist-packages (from anyio<4,>=3.1.0->jupyter-server>=1.8->nbclassic>=0.4.7->notebook>=4.2->sparkmagic) (1.3.0)\n",
            "Building wheels for collected packages: sparkmagic, autovizwidget, hdijupyterutils, gssapi, krb5\n",
            "  Building wheel for sparkmagic (setup.py) ... \u001b[?25l\u001b[?25hdone\n",
            "  Created wheel for sparkmagic: filename=sparkmagic-0.20.4-py3-none-any.whl size=66607 sha256=a46efe89904d3ad39e5c77eda4b4d5d18100476316eaef051f5df5c4af49d649\n",
            "  Stored in directory: /root/.cache/pip/wheels/58/e2/81/f917f8b0f2615d9aec98ec78a1f9f295e3b12ac913ddff02ca\n",
            "  Building wheel for autovizwidget (setup.py) ... \u001b[?25l\u001b[?25hdone\n",
            "  Created wheel for autovizwidget: filename=autovizwidget-0.20.4-py3-none-any.whl size=14686 sha256=dc6546ab3635607a5641f16d381a524f7efc5d559ce615d7e787c87489297b71\n",
            "  Stored in directory: /root/.cache/pip/wheels/36/ca/01/2a9f90fe109969887cd60bc029f2190c51b26b54efbe05ad4f\n",
            "  Building wheel for hdijupyterutils (setup.py) ... \u001b[?25l\u001b[?25hdone\n",
            "  Created wheel for hdijupyterutils: filename=hdijupyterutils-0.20.4-py3-none-any.whl size=7652 sha256=7c9f140ccbc9a565f15b0f9bb6f711086a10c57da0a4d1c3f89c2bc7746ac4e7\n",
            "  Stored in directory: /root/.cache/pip/wheels/2e/92/6a/7f8c9bfa1cad9f49a61871782b65d168143c621f9f9ea62fa7\n",
            "  Building wheel for gssapi (pyproject.toml) ... \u001b[?25l\u001b[?25hdone\n",
            "  Created wheel for gssapi: filename=gssapi-1.8.2-cp39-cp39-linux_x86_64.whl size=3592360 sha256=a8c6925d8fe3b4248be33e5be277b6267c490b2b331357718af12a5fe1daebea\n",
            "  Stored in directory: /root/.cache/pip/wheels/b8/f2/ef/3bb670b4c69c83824d8493662f9a8e0854b98a55ab8af36525\n",
            "  Building wheel for krb5 (pyproject.toml) ... \u001b[?25l\u001b[?25hdone\n",
            "  Created wheel for krb5: filename=krb5-0.5.0-cp39-cp39-linux_x86_64.whl size=4419831 sha256=ee8022e7354bb51ad61f44569e7e19d1d2c185f0b77ecc94b4aa5281458db3d6\n",
            "  Stored in directory: /root/.cache/pip/wheels/ff/38/26/05fefe26ca25ff29ed8c5d5979b31da888993b7bb728cd9e00\n",
            "Successfully built sparkmagic autovizwidget hdijupyterutils gssapi krb5\n",
            "Installing collected packages: qtpy, nest_asyncio, krb5, jedi, gssapi, cryptography, pyspnego, qtconsole, requests_kerberos, jupyter, hdijupyterutils, autovizwidget, sparkmagic\n",
            "  Attempting uninstall: nest_asyncio\n",
            "    Found existing installation: nest-asyncio 1.5.6\n",
            "    Uninstalling nest-asyncio-1.5.6:\n",
            "      Successfully uninstalled nest-asyncio-1.5.6\n",
            "Successfully installed autovizwidget-0.20.4 cryptography-39.0.2 gssapi-1.8.2 hdijupyterutils-0.20.4 jedi-0.18.2 jupyter-1.0.0 krb5-0.5.0 nest_asyncio-1.5.5 pyspnego-0.8.0 qtconsole-5.4.1 qtpy-2.3.0 requests_kerberos-0.14.0 sparkmagic-0.20.4\n",
            "Looking in indexes: https://test.pypi.org/simple/, https://us-python.pkg.dev/colab-wheels/public/simple/\n",
            "Collecting penn-grader==0.5.0\n",
            "  Using cached https://test-files.pythonhosted.org/packages/e4/fa/3a09f42fbed05d27fa4e663e3feed831bc88802342e1a862a6cfb09b77fc/penn_grader-0.5.0-py2.py3-none-any.whl (10 kB)\n",
            "Requirement already satisfied: pyyaml in /usr/local/lib/python3.9/dist-packages (from penn-grader==0.5.0) (6.0)\n",
            "Collecting dill\n",
            "  Using cached https://test-files.pythonhosted.org/packages/be/e3/a84bf2e561beed15813080d693b4b27573262433fced9c1d1fea59e60553/dill-0.3.6-py3-none-any.whl (110 kB)\n",
            "Installing collected packages: dill, penn-grader\n",
            "Successfully installed dill-0.3.6 penn-grader-0.5.0\n"
          ]
        }
      ],
      "source": [
        "#%%capture\n",
        "!apt install libkrb5-dev\n",
        "!pip install sparkmagic\n",
        "!pip install -i https://test.pypi.org/simple/ penn-grader==0.5.0"
      ]
    },
    {
      "cell_type": "code",
      "execution_count": 3,
      "metadata": {
        "id": "6WAJmQ8IAbRs"
      },
      "outputs": [],
      "source": [
        "%load_ext sparkmagic.magics"
      ]
    },
    {
      "cell_type": "markdown",
      "metadata": {
        "id": "CL6n768EPt9E"
      },
      "source": [
        "### 0.2: The Sharp Spark\n",
        "\n",
        "Now, connect your notebook to the EMR cluster you created. In the first cell, copy the link to the Master Public DNS specified in the setup document. You will need to add `http://` to the beginning of the address and the auth details to the end.\n",
        "\n",
        "For example, if my DNS (directly from the AWS EMR console) is `ec2-3-15-237-211.us-east-2.compute.amazonaws.com` my address would be,\n",
        "\n",
        "`http://ec2-3-15-237-211.us-east-2.compute.amazonaws.com -a cis545-livy -p password1 -t Basic_Access`\n",
        "\n",
        "Insert this in the `# TODO # below`. For our example, the cell would read,\n",
        "\n",
        "```\n",
        "%spark add -s spark_session -l python -u http://ec2-3-15-237-211.us-east-2.compute.amazonaws.com -a cis545-livy -p password1 -t Basic_Access\n",
        "```"
      ]
    },
    {
      "cell_type": "code",
      "execution_count": 4,
      "metadata": {
        "id": "G9QbylT-jqX9",
        "colab": {
          "base_uri": "https://localhost:8080/",
          "height": 97,
          "referenced_widgets": [
            "3835a9f574ee472a8d545c5ffebc65e0",
            "32125842af114535acd52dceab9f7502",
            "a50d6a8df41449e0803d2a3e7d2bace9"
          ]
        },
        "outputId": "ba3baa3c-ec12-4492-b46c-1e46b669ceaf"
      },
      "outputs": [
        {
          "output_type": "stream",
          "name": "stdout",
          "text": [
            "Starting Spark application\n"
          ]
        },
        {
          "output_type": "display_data",
          "data": {
            "text/plain": [
              "<IPython.core.display.HTML object>"
            ],
            "text/html": [
              "<table>\n",
              "<tr><th>ID</th><th>YARN Application ID</th><th>Kind</th><th>State</th><th>Spark UI</th><th>Driver log</th><th>User</th><th>Current session?</th></tr><tr><td>1</td><td>application_1679329076236_0002</td><td>pyspark</td><td>idle</td><td><a target=\"_blank\" href=\"http://ip-172-31-80-57.ec2.internal:20888/proxy/application_1679329076236_0002/\">Link</a></td><td><a target=\"_blank\" href=\"http://ip-172-31-80-233.ec2.internal:8042/node/containerlogs/container_1679329076236_0002_01_000001/livy\">Link</a></td><td>None</td><td>✔</td></tr></table>"
            ]
          },
          "metadata": {}
        },
        {
          "output_type": "display_data",
          "data": {
            "text/plain": [
              "FloatProgress(value=0.0, bar_style='info', description='Progress:', layout=Layout(height='25px', width='50%'),…"
            ],
            "application/vnd.jupyter.widget-view+json": {
              "version_major": 2,
              "version_minor": 0,
              "model_id": "3835a9f574ee472a8d545c5ffebc65e0"
            }
          },
          "metadata": {}
        },
        {
          "output_type": "stream",
          "name": "stdout",
          "text": [
            "SparkSession available as 'spark'.\n"
          ]
        }
      ],
      "source": [
        "# TODO: Copy the line above, enter your Master Public DNS with the proper formatting and host, and update the password\n",
        "%spark add -s spark_session -l python -u http://ec2-3-86-212-1.compute-1.amazonaws.com -a akjyang -p t-fTJi328 -t Basic_Access"
      ]
    },
    {
      "cell_type": "code",
      "execution_count": 5,
      "metadata": {
        "id": "QwKAHhQL0lf7"
      },
      "outputs": [],
      "source": [
        "# If you ever need to restart, you may need to...\n",
        "#%spark delete -s spark_session\n",
        "#OR just factory reset runtime under the runtime tab\n",
        "# %spark delete -s spark_session"
      ]
    },
    {
      "cell_type": "markdown",
      "metadata": {
        "id": "v1IQjUwNObb8"
      },
      "source": [
        "Enter your 8-digit Penn Key as an integer in the cell \n",
        "below. This will be used in the autograder.  **Please also update the cell below, with the same ID!**"
      ]
    },
    {
      "cell_type": "code",
      "execution_count": 6,
      "metadata": {
        "id": "7zM20juwqqQF"
      },
      "outputs": [],
      "source": [
        "from penngrader.grader import *\n",
        "STUDENT_ID = 69217576"
      ]
    },
    {
      "cell_type": "code",
      "execution_count": 7,
      "metadata": {
        "id": "HMgOBR-7cpHe",
        "colab": {
          "base_uri": "https://localhost:8080/"
        },
        "outputId": "315beba7-0651-4975-dd61-0db773ce5652"
      },
      "outputs": [
        {
          "output_type": "stream",
          "name": "stdout",
          "text": [
            "Writing config.yaml\n"
          ]
        }
      ],
      "source": [
        "%%writefile config.yaml\n",
        "\n",
        "grader_api_url: 'https://wyv616tp17.execute-api.us-east-1.amazonaws.com/default/Grader'\n",
        "grader_api_key: 'Kd32fl3g3p917iM0zwjiO23Bitj4PO9ga4LektOa'"
      ]
    },
    {
      "cell_type": "code",
      "execution_count": 8,
      "metadata": {
        "id": "V8Oo_5D7qoWp",
        "colab": {
          "base_uri": "https://localhost:8080/"
        },
        "outputId": "0db6287b-a8be-44e3-b55e-7016ea978057"
      },
      "outputs": [
        {
          "output_type": "stream",
          "name": "stdout",
          "text": [
            "PennGrader initialized with Student ID: 69217576\n",
            "\n",
            "Make sure this correct or we will not be able to store your grade\n"
          ]
        }
      ],
      "source": [
        "grader = PennGrader('config.yaml', 'CIS5450_23Sp_HW3', STUDENT_ID, STUDENT_ID)"
      ]
    },
    {
      "cell_type": "markdown",
      "metadata": {
        "id": "Bfs-EQZUzF4j"
      },
      "source": [
        "Run the above cells to setup the autograder. Make sure to have set your 8 digit Penn ID in the cell above. It will also import all the modules you need for the homework.\n"
      ]
    },
    {
      "cell_type": "markdown",
      "metadata": {
        "id": "4nyAa0wn1XCD"
      },
      "source": [
        "## Step 1: Data Wrangling, Cleaning, and Shaping [32 pts]\n",
        "\n",
        "In this homework we will be working with two datasets - (1) LinkedIn data containing information on their users like education, experience, industry etc. (2) Stock price information of companies over a 10 year period (2000-2011) where these users have worked at.  \n",
        "\n",
        "\n",
        "The data you will use is stored in an S3 bucket, a cloud storage service. Below, with our help, you will download it onto the nodes of your [EMR cluster](https://docs.aws.amazon.com/emr/latest/ManagementGuide/emr-what-is-emr.html)."
      ]
    },
    {
      "cell_type": "markdown",
      "metadata": {
        "id": "Nf_ADEXnIK0b"
      },
      "source": [
        "### 1.1: The Stupendous Schema\n",
        "\n",
        "When loading data, Spark will try to infer its structure on its own. This process is faulty because Spark will sometimes infer the type incorrectly. Spark's ability to determine types is not reliable, thus you will need to define a schema for both the LinkedIn and Stock Prices Datasets.\n",
        "\n",
        "A schema is a description of the structure of data. In Spark, schemas are defined using a `StructType` object. This is a collection of data types, termed `StructField`'s, that specify the structure and variable type of each component of the dataset. For example, suppose we have the following simple JSON object,\n",
        "\n",
        "\n",
        "```\n",
        "{\n",
        " \"student_name\": \"Alpha Beta\",\n",
        " \"GPA\": 3.6,\n",
        " \"courses\": [\n",
        "    {\"department\": \"Computer and Information Science\",\n",
        "     \"course_id\": \"CIS 5450\",\n",
        "     \"semester\": \"Fall 2021\"},\n",
        "    {\"department\": \"Computer and Information Science\",\n",
        "     \"course_id\": \"CIS 5550\",\n",
        "     \"semester\": \"Fall 2021\"}\n",
        " ],\n",
        " \"grad_year\": 2023\n",
        " }\n",
        "```\n",
        "\n",
        "We would define its schema as follows,\n",
        "\n",
        "```       \n",
        "schema = StructType([\n",
        "           StructField(\"student_name\", StringType(), nullable=True),\n",
        "           StructField(\"GPA\", FloatType(), nullable=True),\n",
        "           StructField(\"courses\", ArrayType(\n",
        "                StructType([\n",
        "                  StructField(\"department\", StringType(), nullable=True),\n",
        "                  StructField(\"course_id\", StringType(), nullable=True),\n",
        "                  StructField(\"semester\", StringType(), nullable=True)\n",
        "                ])\n",
        "           ), nullable=True),\n",
        "           StructField(\"grad_year\", IntegerType(), nullable=True)\n",
        "         ])\n",
        "```\n",
        "\n",
        "\n",
        "Each `StructField` has the following structure: `(name, type, nullable)`. The `nullable` flag defines that the specified field may be empty. Your first task is to define the `schema` of `linkedin_small_real.json`. A smaller version of the JSON dataset can be found [here](https://drive.google.com/a/seas.upenn.edu/file/d/1yZ_0xz6uSJ8lAxhGzn2BVjCpDOjagcqb/view?usp=sharing). Look at how this json dataset looks, the fields and their types.\n",
        "\n",
        "\n",
        "\n",
        "You will now be defining an explicit schema for the `linkedin_small_real.json` dataset. We have defined most of the fields so you can compare how the schema looks with the JSON dataset. Your Task will be to define the schema for the following 3 fields - `name, experience, events`.\n",
        "\n",
        "Make sure to use `nullable=True` for all the fields as well as **store dates as a StringType()**.\n",
        "\n",
        "Note: There is also no grading cell for this step. But your JSON file won't load if it's wrong, so you have a way of testing.\n",
        "\n"
      ]
    },
    {
      "cell_type": "code",
      "execution_count": 9,
      "metadata": {
        "colab": {
          "base_uri": "https://localhost:8080/",
          "height": 17,
          "referenced_widgets": [
            "53d241a002d34674a2084f9a955c7c9d",
            "41bdeb2287bb4c89a7ac25f8b8a1605a",
            "9a7aefdcb8b940b6827d168e4be8196f"
          ]
        },
        "id": "pL-Ps4KWIJ9e",
        "outputId": "4ffe90f7-866f-4279-e4a6-632eed0cc74f"
      },
      "outputs": [
        {
          "output_type": "display_data",
          "data": {
            "text/plain": [
              "FloatProgress(value=0.0, bar_style='info', description='Progress:', layout=Layout(height='25px', width='50%'),…"
            ],
            "application/vnd.jupyter.widget-view+json": {
              "version_major": 2,
              "version_minor": 0,
              "model_id": "53d241a002d34674a2084f9a955c7c9d"
            }
          },
          "metadata": {}
        }
      ],
      "source": [
        "%%spark\n",
        "\n",
        "from pyspark.sql.types import *\n",
        "\n",
        "# TODO: Finish defining the linkedin_small_real.json schema\n",
        "# We've provided most of the fiddly details, but you'll\n",
        "# need to fill in **name**, ** experience ** and **events** fields!\n",
        "\n",
        "schema = StructType([\n",
        "    StructField(\"_id\", StringType(), nullable=True),\n",
        "    \n",
        "    StructField(\"education\", ArrayType(\n",
        "        StructType([\n",
        "          StructField(\"start\", StringType(), nullable=True),\n",
        "          StructField(\"major\", StringType(), nullable=True),\n",
        "          StructField(\"end\", StringType(), nullable=True),\n",
        "          StructField(\"name\", StringType(), nullable=True),\n",
        "          StructField(\"degree\", StringType(), nullable=True),\n",
        "          StructField(\"desc\", StringType(), nullable=True)\n",
        "    ])), nullable=True), \n",
        "\n",
        "    StructField(\"group\", StructType([\n",
        "          StructField(\"affilition\", ArrayType(StringType()), nullable=True),\n",
        "          StructField(\"member\", StringType(), nullable=True)\n",
        "    ]), nullable=True), \n",
        "\n",
        "    StructField(\"locality\", StringType(), nullable=True),\n",
        "    StructField(\"skills\", ArrayType(StringType()), nullable=True),\n",
        "    StructField(\"industry\", StringType(), nullable=True),\n",
        "    StructField(\"interval\", IntegerType(), nullable=True),\n",
        "\n",
        "    StructField(\"summary\", StringType(), nullable=True),\n",
        "    StructField(\"interests\", StringType(), nullable=True),\n",
        "    StructField(\"overview_html\", StringType(), nullable=True),\n",
        "    StructField(\"specilities\", StringType(), nullable=True),\n",
        "    StructField(\"homepage\", ArrayType(StringType()), nullable=True),\n",
        "    StructField(\"honors\", ArrayType(StringType()), nullable=True),\n",
        "    StructField(\"url\", StringType(), nullable=True),\n",
        "    StructField(\"also_view\", ArrayType(\n",
        "      StructType([\n",
        "          StructField(\"id\", StringType(), nullable=True),\n",
        "          StructField(\"url\", StringType(), nullable=True)\n",
        "      ])\n",
        "    ), nullable=True),\n",
        "\n",
        "    \n",
        "    # TODO: fill in the necessary structure for name \n",
        "\n",
        "    StructField(\"name\", StructType([\n",
        "        StructField(\"family_name\", StringType(), nullable = True),\n",
        "        StructField(\"given_name\", StringType (), nullable = True)\n",
        "    ]), nullable = True),\n",
        "\n",
        "    # TODO: fill in the necessary structure for experience \n",
        "\n",
        "    StructField(\"experience\", ArrayType(\n",
        "        StructType([\n",
        "            StructField(\"org\", StringType(), nullable = True),\n",
        "            StructField(\"title\", StringType(), nullable = True),\n",
        "            StructField(\"end\", StringType(), nullable = True),\n",
        "            StructField(\"start\", StringType(), nullable = True),\n",
        "            StructField(\"desc\", StringType(), nullable = True)\n",
        "        ])\n",
        "    ), nullable = True),\n",
        "\n",
        "    # TODO: fill in the necessary structure for events \n",
        "    \n",
        "    StructField(\"events\", ArrayType(\n",
        "        StructType([\n",
        "            StructField(\"from\", StringType(), nullable = True),\n",
        "            StructField(\"to\", StringType(), nullable = True),\n",
        "            StructField(\"title1\", StringType(), nullable = True),\n",
        "            StructField(\"start\", IntegerType(), nullable = True),\n",
        "            StructField(\"title2\", StringType(), nullable = True),\n",
        "            StructField(\"end\", IntegerType(), nullable = True)\n",
        "        ])\n",
        "    ), nullable = True)\n",
        "  \n",
        "])"
      ]
    },
    {
      "cell_type": "markdown",
      "metadata": {
        "id": "2Su604X9ggc2"
      },
      "source": [
        "### 1.2: The Langorous Load [4 Pts]"
      ]
    },
    {
      "cell_type": "markdown",
      "metadata": {
        "id": "7HKduWNmkxt0"
      },
      "source": [
        "#### 1.2.1: Load LinkedIn Dataset [4 Pts]\n",
        "\n",
        "In the following cell, you will load the `linkedin_small_real.json` dataset from your S3 bucket into a Spark dataframe (sdf) called `linkedin_data_sdf`. If you have constructed `schema` correctly then `spark.read.json()` will read in the dataset. ***You do not need to edit this cell***.\n",
        "\n",
        "If this doesn't work, go back to the prior cell and update your `schema`!\n",
        "\n",
        "Note that the cell below will load data even if your schema is incomplete and has left out some columns of the data, so be sure to check that you have included all of the fields from the JSON."
      ]
    },
    {
      "cell_type": "code",
      "execution_count": 10,
      "metadata": {
        "id": "Tcpx-SExfyJa",
        "colab": {
          "base_uri": "https://localhost:8080/",
          "height": 17,
          "referenced_widgets": [
            "f8da2557d8c54324a8e60328ce26519e",
            "b1fe32747dce4190876bda06dd9a5a3f",
            "6e48095d8a7b4980bf665d3434ed46ec"
          ]
        },
        "outputId": "9bd6b8d9-5723-4d62-c4b1-bdecb6566b23"
      },
      "outputs": [
        {
          "output_type": "display_data",
          "data": {
            "text/plain": [
              "FloatProgress(value=0.0, bar_style='info', description='Progress:', layout=Layout(height='25px', width='50%'),…"
            ],
            "application/vnd.jupyter.widget-view+json": {
              "version_major": 2,
              "version_minor": 0,
              "model_id": "f8da2557d8c54324a8e60328ce26519e"
            }
          },
          "metadata": {}
        }
      ],
      "source": [
        "%%spark\n",
        "\n",
        "linkedin_data_sdf = spark.read.json(\"s3a://penn-cis545-files/linkedin_small_real.json\", schema=schema)"
      ]
    },
    {
      "cell_type": "code",
      "execution_count": 11,
      "metadata": {
        "id": "eAgWjMU3ikD_",
        "colab": {
          "base_uri": "https://localhost:8080/",
          "height": 216,
          "referenced_widgets": [
            "1116ebc6d96546a086bf462ff099e42e",
            "1898360c885e47b5b3f4ec32dffcaab7",
            "b77ebdf003eb450099c5ae13a19e41e3"
          ]
        },
        "outputId": "4dc5ab4f-9452-48e3-832e-c9394a058aed"
      },
      "outputs": [
        {
          "output_type": "display_data",
          "data": {
            "text/plain": [
              "FloatProgress(value=0.0, bar_style='info', description='Progress:', layout=Layout(height='25px', width='50%'),…"
            ],
            "application/vnd.jupyter.widget-view+json": {
              "version_major": 2,
              "version_minor": 0,
              "model_id": "1116ebc6d96546a086bf462ff099e42e"
            }
          },
          "metadata": {}
        },
        {
          "output_type": "stream",
          "name": "stdout",
          "text": [
            "+----------------+--------------------+--------------------+--------------------+--------------------+--------------------+--------+--------------------+--------------------+--------------------+--------------------+--------+------+--------------------+--------------------+--------------------+--------------------+--------------------+\n",
            "|             _id|           education|               group|            locality|              skills|            industry|interval|             summary|           interests|       overview_html|         specilities|homepage|honors|                 url|           also_view|                name|          experience|              events|\n",
            "+----------------+--------------------+--------------------+--------------------+--------------------+--------------------+--------+--------------------+--------------------+--------------------+--------------------+--------+------+--------------------+--------------------+--------------------+--------------------+--------------------+\n",
            "|            null|                null|                null|                null|                null|                null|    null|                null|                null|                null|                null|    null|  null|                null|                null|                null|                null|                null|\n",
            "|     in-00000001|                null|                null|       United States|[Key Account Deve...|     Medical Devices|    null|SALES MANAGEMENT ...|                null|                null|                null|    null|  null|http://www.linked...|[{pub-krisa-drost...|{Mazalu MBA, Dr C...|                null|                null|\n",
            "|        in-00001|[{2008, Economics...|{[ASMALLWORLD.net...|Antwerp Area, Bel...|[Molecular Biolog...|     Pharmaceuticals|      20|Ph.D. scientist w...|                null|<dl id=\"overview\"...|Biomarkers in Onc...|    null|  null|http://be.linkedi...|[{pub-peter-king-...|     {Forslund, Ann}|[{Johnson and Joh...|[{Sahlgrenska Uni...|\n",
            "|        in-00006|[{2004, Biophysic...|                null|San Francisco, Ca...|[DNA, Nanotechnol...|            Research|       0|I am interested i...|personal genomics...|<dl id=\"overview\"...|                null|    null|  null|http://www.linked...|[{pub-george-chur...|    {Douglas, Shawn}|[{UCSF, Assistant...|[{Wyss Institute ...|\n",
            "|in-000montgomery|                null|{[Big Data, Low L...|San Francisco Bay...|                null|Information Techn...|       5|OBJECTIVE<Primary...|                null|                null|                null|    null|  null|http://www.linked...|[{pub-david-brigh...|   {Kilimann, Edric}|[{<Online Recruit...|[{<Employee Benef...|\n",
            "+----------------+--------------------+--------------------+--------------------+--------------------+--------------------+--------+--------------------+--------------------+--------------------+--------------------+--------+------+--------------------+--------------------+--------------------+--------------------+--------------------+\n",
            "only showing top 5 rows"
          ]
        }
      ],
      "source": [
        "%%spark\n",
        "# Let's print out the first few rows to see how the data looks like in tabular form\n",
        "linkedin_data_sdf.show(5)"
      ]
    },
    {
      "cell_type": "code",
      "source": [
        "import pandas as pd"
      ],
      "metadata": {
        "id": "bInSBNq6Qvcp"
      },
      "execution_count": 12,
      "outputs": []
    },
    {
      "cell_type": "markdown",
      "metadata": {
        "id": "jMVCVotcE1wv"
      },
      "source": [
        "The cell below shows how to run SQL commands on Spark tables. **Use this as a template for all your SQL queries in this notebook.** \n",
        "\n",
        "For almost all the questions you will need to create a temporary view using `createOrReplaceTempView`, then write your sql `query` as a string and then run the query on spark using `spark.sql(query)`. To see what your query resulted use `.show()`.\n",
        "\n",
        "***You do not need to edit this cell***."
      ]
    },
    {
      "cell_type": "code",
      "execution_count": 13,
      "metadata": {
        "id": "7CnbKKqtnicU",
        "colab": {
          "base_uri": "https://localhost:8080/",
          "height": 287,
          "referenced_widgets": [
            "866bf4cdd29b45fabfb6a2448f5b967b",
            "2e528d50a56f4473b14797b95dc4a93f",
            "60c3cf7f80a44ce29c6f01b04f396776"
          ]
        },
        "outputId": "102cc3cf-fe8a-4e40-88f3-954e0a0cf2a1"
      },
      "outputs": [
        {
          "output_type": "display_data",
          "data": {
            "text/plain": [
              "FloatProgress(value=0.0, bar_style='info', description='Progress:', layout=Layout(height='25px', width='50%'),…"
            ],
            "application/vnd.jupyter.widget-view+json": {
              "version_major": 2,
              "version_minor": 0,
              "model_id": "866bf4cdd29b45fabfb6a2448f5b967b"
            }
          },
          "metadata": {}
        },
        {
          "output_type": "stream",
          "name": "stdout",
          "text": [
            "+------------------+--------------------+--------------------+--------------------+--------------------+--------------------+--------+--------------------+--------------------+--------------------+--------------------+--------+------+--------------------+--------------------+--------------------+--------------------+--------------------+\n",
            "|               _id|           education|               group|            locality|              skills|            industry|interval|             summary|           interests|       overview_html|         specilities|homepage|honors|                 url|           also_view|                name|          experience|              events|\n",
            "+------------------+--------------------+--------------------+--------------------+--------------------+--------------------+--------+--------------------+--------------------+--------------------+--------------------+--------+------+--------------------+--------------------+--------------------+--------------------+--------------------+\n",
            "|              null|                null|                null|                null|                null|                null|    null|                null|                null|                null|                null|    null|  null|                null|                null|                null|                null|                null|\n",
            "|              null|                null|                null|                null|                null|                null|    null|                null|                null|                null|                null|    null|  null|                null|                null|                null|                null|                null|\n",
            "|       in-00000001|                null|                null|       United States|[Key Account Deve...|     Medical Devices|    null|SALES MANAGEMENT ...|                null|                null|                null|    null|  null|http://www.linked...|[{pub-krisa-drost...|{Mazalu MBA, Dr C...|                null|                null|\n",
            "|          in-00001|[{2008, Economics...|{[ASMALLWORLD.net...|Antwerp Area, Bel...|[Molecular Biolog...|     Pharmaceuticals|      20|Ph.D. scientist w...|                null|<dl id=\"overview\"...|Biomarkers in Onc...|    null|  null|http://be.linkedi...|[{pub-peter-king-...|     {Forslund, Ann}|[{Johnson and Joh...|[{Sahlgrenska Uni...|\n",
            "|          in-00006|[{2004, Biophysic...|                null|San Francisco, Ca...|[DNA, Nanotechnol...|            Research|       0|I am interested i...|personal genomics...|<dl id=\"overview\"...|                null|    null|  null|http://www.linked...|[{pub-george-chur...|    {Douglas, Shawn}|[{UCSF, Assistant...|[{Wyss Institute ...|\n",
            "|  in-000montgomery|                null|{[Big Data, Low L...|San Francisco Bay...|                null|Information Techn...|       5|OBJECTIVE<Primary...|                null|                null|                null|    null|  null|http://www.linked...|[{pub-david-brigh...|   {Kilimann, Edric}|[{<Online Recruit...|[{<Employee Benef...|\n",
            "|in-000vijaychauhan|[{1988, null, 198...|{[AeSI Alumni Ass...| Chennai Area, India|[Program Manageme...|Aviation & Aerospace|    null|Experience in Avi...|Literature, Philo...|                null|                null|    null|  null|http://in.linkedi...|[{in-sandeepraghu...|{Chauhan, PMP, Vi...|                null|                null|\n",
            "|  in-001adambutler|[{1991, Product D...|                null|Brighton, United ...|[Digital Strategy...|Marketing and Adv...|      16|Integrating creat...|travelling,the se...|                null|A passion for Bra...|    null|  null|http://uk.linkedi...|[{in-paulbeier, h...|     {Adam, Butler,}|[{Brand New Music...|[{Tigerprint, WHS...|\n",
            "|      in-001monica|[{2000, Economics...|{[Canadian Market...|Toronto, Canada Area|                null|Nonprofit Organiz...|      20|                null|                null|                null|                null|    null|  null|http://ca.linkedi...|                  []|    {Andrus, Monica}|[{Canadian MedicA...|[{CMAF, CMAF, Bus...|\n",
            "| in-001neilpeacock|                null|                null|      United Kingdom|[DLP, Managed Ser...|Computer & Networ...|      31|Currently Trainin...|                null|                null|                null|    null|  null|http://uk.linkedi...|[{pub-dilan-hindo...|     {Peacock, Neil}|[{Complete IT Sys...|[{Dawson Rentals ...|\n",
            "+------------------+--------------------+--------------------+--------------------+--------------------+--------------------+--------+--------------------+--------------------+--------------------+--------------------+--------+------+--------------------+--------------------+--------------------+--------------------+--------------------+"
          ]
        }
      ],
      "source": [
        "%%spark\n",
        "\n",
        "\n",
        "# Create SQL-accesible table\n",
        "linkedin_data_sdf.createOrReplaceTempView(\"linkedin_data\")\n",
        "\n",
        "# Declare SQL query to be excecuted\n",
        "query = '''SELECT * \n",
        "           FROM linkedin_data \n",
        "           ORDER BY _id\n",
        "           LIMIT 10'''\n",
        "\n",
        "# Save the output sdf of spark.sql() as answer_sdf\n",
        "answer_sdf = spark.sql(query)\n",
        "answer_sdf.show()\n"
      ]
    },
    {
      "cell_type": "markdown",
      "metadata": {
        "id": "MLF-swRBTuZG"
      },
      "source": [
        "We can then copy the `answer_sdf` to Colab to submit to PennGrader..."
      ]
    },
    {
      "cell_type": "code",
      "execution_count": 14,
      "metadata": {
        "id": "2z-mDBTorcX6",
        "colab": {
          "base_uri": "https://localhost:8080/",
          "height": 17,
          "referenced_widgets": [
            "f1b0f35bd6944179b9f5161a4fb94c2d",
            "e69b89bc3fc542d080956d54fa7dd1d1",
            "8006342ac9a74010bdbe6bb0f09373a6",
            "d1b65e030d8147b9a6f4afb0ee2f0f19",
            "6c5eed93c9874de9ab061364894de72d",
            "4f147ab3a0ae4ed7ab18b80bd32f0589"
          ]
        },
        "outputId": "27f935c3-ae32-42a3-9f6b-a3bb21814424"
      },
      "outputs": [
        {
          "output_type": "display_data",
          "data": {
            "text/plain": [
              "FloatProgress(value=0.0, bar_style='info', description='Progress:', layout=Layout(height='25px', width='50%'),…"
            ],
            "application/vnd.jupyter.widget-view+json": {
              "version_major": 2,
              "version_minor": 0,
              "model_id": "f1b0f35bd6944179b9f5161a4fb94c2d"
            }
          },
          "metadata": {}
        },
        {
          "output_type": "display_data",
          "data": {
            "text/plain": [
              "FloatProgress(value=0.0, bar_style='info', description='Progress:', layout=Layout(height='25px', width='50%'),…"
            ],
            "application/vnd.jupyter.widget-view+json": {
              "version_major": 2,
              "version_minor": 0,
              "model_id": "d1b65e030d8147b9a6f4afb0ee2f0f19"
            }
          },
          "metadata": {}
        }
      ],
      "source": [
        "#Convert to Pandas\n",
        "%%spark -o answer_sdf"
      ]
    },
    {
      "cell_type": "code",
      "execution_count": 15,
      "metadata": {
        "id": "z5T4kv0jpPLU",
        "colab": {
          "base_uri": "https://localhost:8080/"
        },
        "outputId": "7f306ec7-c47d-4ca7-dac2-0177522d27ab"
      },
      "outputs": [
        {
          "output_type": "stream",
          "name": "stdout",
          "text": [
            "Correct! You earned 4/4 points. You are a star!\n",
            "\n",
            "Your submission has been successfully recorded in the gradebook.\n"
          ]
        }
      ],
      "source": [
        "## AUTOGRADER \n",
        "grader.grade(test_case_id = 'test_schema_linkedin', answer = answer_sdf)"
      ]
    },
    {
      "cell_type": "markdown",
      "metadata": {
        "id": "2mklaTWekqqX"
      },
      "source": [
        "#### 1.2.2: SQL refresher [3 Pts]\n"
      ]
    },
    {
      "cell_type": "markdown",
      "metadata": {
        "id": "8YHQMRRUQ7IN"
      },
      "source": [
        "In the next cell, we want you to create `industry_family_name_df` to fetch the data from the `linkedin_data` table created above, returning rows with schema `(_id, industry, family_name)`. Remove all NULLs from the `family_name` and `industry` columns. Sort the columns by `_id, industry, family_name`, all ascending order.  Limit your sdf to 100 rows.\n",
        "\n",
        "Hint: To access a field inside a json object in SQL you can use the following syntax: `parent_variable.child_variable`"
      ]
    },
    {
      "cell_type": "code",
      "execution_count": 16,
      "metadata": {
        "id": "GfFqnST3f92P",
        "colab": {
          "base_uri": "https://localhost:8080/",
          "height": 463,
          "referenced_widgets": [
            "99363ad3909b45679c25dad90ea0c5ad",
            "cb23602dfb2244c8b445655c36083105",
            "4cd0e834224441a9a656fa5c445e63b1"
          ]
        },
        "outputId": "753c2d1d-6afc-4f81-c54a-d1dc237702b9"
      },
      "outputs": [
        {
          "output_type": "display_data",
          "data": {
            "text/plain": [
              "FloatProgress(value=0.0, bar_style='info', description='Progress:', layout=Layout(height='25px', width='50%'),…"
            ],
            "application/vnd.jupyter.widget-view+json": {
              "version_major": 2,
              "version_minor": 0,
              "model_id": "99363ad3909b45679c25dad90ea0c5ad"
            }
          },
          "metadata": {}
        },
        {
          "output_type": "stream",
          "name": "stdout",
          "text": [
            "+-------------------+--------------------+-------------+\n",
            "|                _id|            industry|  family_name|\n",
            "+-------------------+--------------------+-------------+\n",
            "|        in-00000001|     Medical Devices|   Mazalu MBA|\n",
            "|           in-00001|     Pharmaceuticals|     Forslund|\n",
            "|           in-00006|            Research|      Douglas|\n",
            "|   in-000montgomery|Information Techn...|     Kilimann|\n",
            "| in-000vijaychauhan|Aviation & Aerospace| Chauhan, PMP|\n",
            "|   in-001adambutler|Marketing and Adv...|         Adam|\n",
            "|       in-001monica|Nonprofit Organiz...|       Andrus|\n",
            "|  in-001neilpeacock|Computer & Networ...|      Peacock|\n",
            "|           in-00666|    Telekomünikasyon|BOLUKBAS, PMP|\n",
            "|        in-00789123|  Telecommunications|     Hoffmann|\n",
            "|in-007katarzynagola|Zarządzanie dział...|         Gola|\n",
            "|           in-00911|     Human Resources|      Smekens|\n",
            "|in-00danielnewman00|   Computer Software|       Newman|\n",
            "|   in-00jenmiller00|            Internet|       Miller|\n",
            "|in-00stevensaunders|              Retail|     Saunders|\n",
            "|   in-01011966sabha|             Banking|          T K|\n",
            "|        in-01011985|       Biotechnology|  Subramanian|\n",
            "|      in-01022008aa|              Retail|    Chowdhury|\n",
            "|          in-010581|        Oil & Energy|     Swarnkar|\n",
            "|          in-010774|          Automotive|       Pandey|\n",
            "+-------------------+--------------------+-------------+\n",
            "only showing top 20 rows"
          ]
        }
      ],
      "source": [
        "%%spark \n",
        "\n",
        "#TODO\n",
        "\n",
        "industry_family_name_df = spark.sql(\n",
        "    '''SELECT _id, industry, name.family_name\n",
        "       FROM linkedin_data \n",
        "       WHERE name.family_name IS NOT NULL\n",
        "       AND industry IS NOT NULL\n",
        "       ORDER BY _id, industry, name.family_name ASC\n",
        "       LIMIT 100\n",
        "       ''')\n",
        "\n",
        "industry_family_name_df.show()"
      ]
    },
    {
      "cell_type": "code",
      "execution_count": 17,
      "metadata": {
        "id": "YihUzsBVhv4Y",
        "colab": {
          "base_uri": "https://localhost:8080/",
          "height": 17,
          "referenced_widgets": [
            "48f4c774653d4db3b7ab572ae9da7ec3",
            "59ceb6031676488da671332ae7bfd237",
            "1d5986fcdbb84ccdacfa3d7e419c311b",
            "1be453b593d34cd5b091e5c3b2f61d2a",
            "b44fec480cf24a65949e8a51ce1d1efb",
            "da7281a439c54f0c941ba10c7593f53f"
          ]
        },
        "outputId": "a87de7f5-7587-42d0-81bf-deb1307f3778"
      },
      "outputs": [
        {
          "output_type": "display_data",
          "data": {
            "text/plain": [
              "FloatProgress(value=0.0, bar_style='info', description='Progress:', layout=Layout(height='25px', width='50%'),…"
            ],
            "application/vnd.jupyter.widget-view+json": {
              "version_major": 2,
              "version_minor": 0,
              "model_id": "48f4c774653d4db3b7ab572ae9da7ec3"
            }
          },
          "metadata": {}
        },
        {
          "output_type": "display_data",
          "data": {
            "text/plain": [
              "FloatProgress(value=0.0, bar_style='info', description='Progress:', layout=Layout(height='25px', width='50%'),…"
            ],
            "application/vnd.jupyter.widget-view+json": {
              "version_major": 2,
              "version_minor": 0,
              "model_id": "1be453b593d34cd5b091e5c3b2f61d2a"
            }
          },
          "metadata": {}
        }
      ],
      "source": [
        "#Convert to Pandas\n",
        "%spark -o industry_family_name_df"
      ]
    },
    {
      "cell_type": "code",
      "execution_count": 18,
      "metadata": {
        "id": "NxoITZQkjUHi",
        "colab": {
          "base_uri": "https://localhost:8080/"
        },
        "outputId": "5f489068-6aec-44d8-db05-114ccef48b09"
      },
      "outputs": [
        {
          "output_type": "stream",
          "name": "stdout",
          "text": [
            "Correct! You earned 3/3 points. You are a star!\n",
            "\n",
            "Your submission has been successfully recorded in the gradebook.\n"
          ]
        }
      ],
      "source": [
        "## AUTOGRADER \n",
        "grader.grade(test_case_id = 'test_industry_family_name_df', answer = industry_family_name_df)"
      ]
    },
    {
      "cell_type": "markdown",
      "metadata": {
        "id": "fZr-aE6mk1gJ"
      },
      "source": [
        "#### 1.2.3: Load Stock Prices Data [3 Pts]\n",
        "\n",
        "Just the way you created a schema for the LinkedIn dataset, now create a schema for the Stock Prices data. The schema should be relatively simple, compared to the LinkedIn schema. A tiny version of the data is [here](https://docs.google.com/spreadsheets/d/1TStiS-bwkCJR1w5rJ18QPlNe3SIK2Z8QS9gK6ltnjJQ/edit?usp=sharing) in csv format, so you can see what the types should be for the different fields (columns in the csv). Store the `Date` field as a String.\n"
      ]
    },
    {
      "cell_type": "code",
      "execution_count": 19,
      "metadata": {
        "id": "ur87js8m-fxh",
        "colab": {
          "base_uri": "https://localhost:8080/",
          "height": 17,
          "referenced_widgets": [
            "e2688459e258429fa862b48673466b9c",
            "26a2cdb0c21b40b78165151e98facfa2",
            "3a974288e46746d5ac819680e253bd1a"
          ]
        },
        "outputId": "0103fe24-e63c-4d6b-c536-07462257db66"
      },
      "outputs": [
        {
          "output_type": "display_data",
          "data": {
            "text/plain": [
              "FloatProgress(value=0.0, bar_style='info', description='Progress:', layout=Layout(height='25px', width='50%'),…"
            ],
            "application/vnd.jupyter.widget-view+json": {
              "version_major": 2,
              "version_minor": 0,
              "model_id": "e2688459e258429fa862b48673466b9c"
            }
          },
          "metadata": {}
        }
      ],
      "source": [
        "%%spark\n",
        "\n",
        "from pyspark.sql.types import *\n",
        "\n",
        "# TODO\n",
        "\n",
        "stocks_schema = StructType([\n",
        "      StructField(\"Date\", StringType(), nullable=True),\n",
        "      StructField(\"Open\", FloatType(), nullable=True),\n",
        "      StructField(\"High\", FloatType(), nullable=True),\n",
        "      StructField(\"Low\", FloatType(), nullable=True),\n",
        "      StructField(\"Close\", FloatType(), nullable=True),\n",
        "      StructField(\"Volume\", IntegerType(), nullable=True),\n",
        "      StructField(\"OpenInt\", IntegerType(), nullable=True),\n",
        "      StructField(\"org\", StringType(), nullable=True),\n",
        "])"
      ]
    },
    {
      "cell_type": "markdown",
      "metadata": {
        "id": "V2K9lTJmBIQL"
      },
      "source": [
        "In the following cell, you will load the entire `stocks.csv` dataset from your S3 bucket into a Spark dataframe (sdf) called `stocks_sdf`. If you have constructed `schema` correctly then `spark.read.format(\"csv\")` will read in the dataset. **You do not need to edit this cell.**\n",
        "\n",
        "If this doesn't work, go back to the prior cell and update your schema!"
      ]
    },
    {
      "cell_type": "code",
      "execution_count": 20,
      "metadata": {
        "id": "9EujXqNi4JBA",
        "colab": {
          "base_uri": "https://localhost:8080/",
          "height": 285,
          "referenced_widgets": [
            "5e632bbd2e83480297b85fdd4342d222",
            "e942c60eeb7544949582ca3cb785d991",
            "e4f615dde46d4423a56cc1a1c68d1d54"
          ]
        },
        "outputId": "c77ab948-c6d1-4bfc-c02e-90e3901756ac"
      },
      "outputs": [
        {
          "output_type": "display_data",
          "data": {
            "text/plain": [
              "FloatProgress(value=0.0, bar_style='info', description='Progress:', layout=Layout(height='25px', width='50%'),…"
            ],
            "application/vnd.jupyter.widget-view+json": {
              "version_major": 2,
              "version_minor": 0,
              "model_id": "5e632bbd2e83480297b85fdd4342d222"
            }
          },
          "metadata": {}
        },
        {
          "output_type": "stream",
          "name": "stdout",
          "text": [
            "+----------+------+------+------+------+--------+-------+---+\n",
            "|      Date|  Open|  High|   Low| Close|  Volume|OpenInt|org|\n",
            "+----------+------+------+------+------+--------+-------+---+\n",
            "|1999-11-18|30.713|33.754|27.002|29.702|66277506|      0|  A|\n",
            "|1999-11-19|28.986|29.027|26.872|27.257|16142920|      0|  A|\n",
            "|1999-11-22|27.886|29.702|27.044|29.702| 6970266|      0|  A|\n",
            "|1999-11-23|28.688|29.446|27.002|27.002| 6332082|      0|  A|\n",
            "|1999-11-24|27.083|28.309|27.002|27.717| 5132147|      0|  A|\n",
            "|1999-11-26|27.594|28.012|27.509|27.807| 1832635|      0|  A|\n",
            "|1999-11-29|27.676| 28.65| 27.38|28.432| 4317826|      0|  A|\n",
            "|1999-11-30| 28.35|28.986|27.634| 28.48| 4567146|      0|  A|\n",
            "|1999-12-01| 28.48|29.324|28.273|28.986| 3133746|      0|  A|\n",
            "|1999-12-02|29.532|30.375|29.155|29.786| 3252997|      0|  A|\n",
            "+----------+------+------+------+------+--------+-------+---+\n",
            "only showing top 10 rows"
          ]
        }
      ],
      "source": [
        "#Do not edit\n",
        "%%spark\n",
        "\n",
        "# Load stock data\n",
        "\n",
        "stocks_sdf = spark.read.format(\"csv\") \\\n",
        "              .option(\"header\", \"true\") \\\n",
        "              .schema(stocks_schema) \\\n",
        "              .load(\"s3a://penn-cis545-files/stocks.csv\")\n",
        "\n",
        "# Creates SQL-accesible table\n",
        "stocks_sdf.createOrReplaceTempView('stocks')\n",
        "\n",
        "# Display the first 10 rows\n",
        "query = '''SELECT *\n",
        "           FROM stocks'''\n",
        "answer_stocks_sdf = spark.sql(query)\n",
        "answer_stocks_sdf.show(10)"
      ]
    },
    {
      "cell_type": "code",
      "execution_count": 21,
      "metadata": {
        "id": "asw-MCygEomh",
        "colab": {
          "base_uri": "https://localhost:8080/",
          "height": 17,
          "referenced_widgets": [
            "31a814bc1d1d4acebd7f29c00d192ffd",
            "9f36140a28ac4d388b9c6cae945e60b0",
            "a30f7d40eb6d453d8f3d15c0ae0366d7",
            "03a6581c375a41bb8c0d69902332b609",
            "8db4b5171ff84c9b812c2cc15b900ed9",
            "03b2492732c14fa4997f565cc143600a"
          ]
        },
        "outputId": "aaaff5a7-fb0e-45a7-c5c6-315cf0085507"
      },
      "outputs": [
        {
          "output_type": "display_data",
          "data": {
            "text/plain": [
              "FloatProgress(value=0.0, bar_style='info', description='Progress:', layout=Layout(height='25px', width='50%'),…"
            ],
            "application/vnd.jupyter.widget-view+json": {
              "version_major": 2,
              "version_minor": 0,
              "model_id": "31a814bc1d1d4acebd7f29c00d192ffd"
            }
          },
          "metadata": {}
        },
        {
          "output_type": "display_data",
          "data": {
            "text/plain": [
              "FloatProgress(value=0.0, bar_style='info', description='Progress:', layout=Layout(height='25px', width='50%'),…"
            ],
            "application/vnd.jupyter.widget-view+json": {
              "version_major": 2,
              "version_minor": 0,
              "model_id": "03a6581c375a41bb8c0d69902332b609"
            }
          },
          "metadata": {}
        }
      ],
      "source": [
        "#Convert to Pandas\n",
        "%spark -o answer_stocks_sdf"
      ]
    },
    {
      "cell_type": "code",
      "execution_count": 22,
      "metadata": {
        "id": "oiuqarXbl6W_",
        "colab": {
          "base_uri": "https://localhost:8080/"
        },
        "outputId": "457b2480-f21c-45be-bf3d-fce74fc3c198"
      },
      "outputs": [
        {
          "output_type": "stream",
          "name": "stdout",
          "text": [
            "Correct! You earned 3/3 points. You are a star!\n",
            "\n",
            "Your submission has been successfully recorded in the gradebook.\n"
          ]
        }
      ],
      "source": [
        "## AUTOGRADER \n",
        "grader.grade(test_case_id = 'test_schema_stocks', answer = answer_stocks_sdf)"
      ]
    },
    {
      "cell_type": "markdown",
      "metadata": {
        "id": "RHgctGpdmq-w"
      },
      "source": [
        "#### 1.2.4: Calculate Percentage Change [4 Pts]"
      ]
    },
    {
      "cell_type": "markdown",
      "metadata": {
        "id": "28apymFC3kM5"
      },
      "source": [
        "In the next cell, we want you to display the percentage change in the daily stock prices for each organization. In order to do so, we will need the data from the `stocks_sdf` table created above. Create a new column called `percentage_change` that uses the opening and closing stock prices for each organization, for each day, and calculates the percentage change in the stock price as follows: \n",
        "\n",
        "\\begin{align}\n",
        "percentage\\_change = \\frac{close-open}{open}*100.0\n",
        "\\end{align}\n",
        "\n",
        "In order to avoid nulls, calculate the percentage change for only for those organizations and days where the **opening price is NOT 0.0**. The percentage_change value is a float.\n",
        "\n",
        "Your final dataframe should include all columns of the original `stocks_sdf`, as well as the new column you create called `percentage_change`. Sort the rows by **Date and org** ascending, in that order."
      ]
    },
    {
      "cell_type": "code",
      "execution_count": 23,
      "metadata": {
        "id": "0KiqR0K54Lvx",
        "colab": {
          "base_uri": "https://localhost:8080/",
          "height": 463,
          "referenced_widgets": [
            "6d9d3c16a8314491bec5a39a87c61619",
            "90d803441dbb40f28d9958770be5c475",
            "019f08a2cc9141a5aaaa1f0e21fa6fae"
          ]
        },
        "outputId": "5bd94237-95c1-4e04-8e77-ee0a0319c953"
      },
      "outputs": [
        {
          "output_type": "display_data",
          "data": {
            "text/plain": [
              "FloatProgress(value=0.0, bar_style='info', description='Progress:', layout=Layout(height='25px', width='50%'),…"
            ],
            "application/vnd.jupyter.widget-view+json": {
              "version_major": 2,
              "version_minor": 0,
              "model_id": "6d9d3c16a8314491bec5a39a87c61619"
            }
          },
          "metadata": {}
        },
        {
          "output_type": "stream",
          "name": "stdout",
          "text": [
            "+----------+------+------+------+------+-------+-------+---+-------------------+\n",
            "|      Date|  Open|  High|   Low| Close| Volume|OpenInt|org|  percentage_change|\n",
            "+----------+------+------+------+------+-------+-------+---+-------------------+\n",
            "|1962-01-02|0.6277|0.6362|0.6201|0.6201|2575579|      0| GE|-1.2107615398186964|\n",
            "|1962-01-02| 6.413| 6.413|6.3378|6.3378| 467056|      0|IBM|-1.1726193609712994|\n",
            "|1962-01-03|0.6201|0.6201|0.6122|0.6201|1764749|      0| GE|                0.0|\n",
            "|1962-01-03|6.3378|6.3963|6.3378|6.3963| 350294|      0|IBM| 0.9230302761273703|\n",
            "|1962-01-04|0.6201|0.6201|0.6037|0.6122|2194010|      0| GE|-1.2739879610348466|\n",
            "|1962-01-04|6.3963|6.3963|6.3295|6.3295| 314365|      0|IBM|-1.0443481752999644|\n",
            "|1962-01-05|0.6122|0.6122|0.5798|0.5957|3255244|      0| GE|-2.6951969289881075|\n",
            "|1962-01-05|6.3211|6.3211|6.1958|6.2041| 440112|      0|IBM| -1.850945225473035|\n",
            "|1962-01-08|0.5957|0.5957|0.5716|0.5957|3696430|      0| GE|                0.0|\n",
            "|1962-01-08|6.2041|6.2041|6.0373| 6.087| 655676|      0|IBM|-1.8874653262973062|\n",
            "|1962-01-09|0.5957|0.6037|0.5878|0.5957|2778285|      0| GE|                0.0|\n",
            "|1962-01-09|6.1208|6.2376|6.1208|6.1621| 592806|      0|IBM| 0.6747454552140159|\n",
            "|1962-01-10|0.5957|0.6037|0.5957|0.5957|2337096|      0| GE|                0.0|\n",
            "|1962-01-10|6.1707|6.2041|6.1707|6.1707| 359274|      0|IBM|                0.0|\n",
            "|1962-01-11|0.5957|0.5957|0.5878|0.5957|1943605|      0| GE|                0.0|\n",
            "|1962-01-11|6.1875|6.2376|6.1875|6.2376| 386220|      0|IBM| 0.8096945406210542|\n",
            "|1962-01-12|0.5957|0.6037|0.5878|0.5878|2015151|      0| GE|-1.3261707704517864|\n",
            "|1962-01-12|6.2543|6.2962|6.2543|6.2543| 529933|      0|IBM|                0.0|\n",
            "|1962-01-15|0.5957|0.5957|0.5957|0.5957|2527879|      0| GE|                0.0|\n",
            "|1962-01-15|6.2708|6.2962|6.2708|6.2792| 305383|      0|IBM|0.13395361399870015|\n",
            "+----------+------+------+------+------+-------+-------+---+-------------------+\n",
            "only showing top 20 rows"
          ]
        }
      ],
      "source": [
        "%%spark\n",
        "\n",
        "#ToDo\n",
        "query = '''\n",
        "        SELECT *, ((Close - Open) / Open) * 100 AS percentage_change\n",
        "        FROM stocks\n",
        "        WHERE Open <> 0.0\n",
        "        ORDER BY Date, org ASC\n",
        "        '''\n",
        "\n",
        "answer_sdf = spark.sql(query)\n",
        "answer_sdf.show()"
      ]
    },
    {
      "cell_type": "code",
      "source": [
        "#################     DO NOT EDIT      ##################\n",
        "%%spark\n",
        "answer_sdf.createOrReplaceTempView(\"test_1_2_4\")\n",
        "test_1_2_4_sdf = spark.sql(\"SELECT * FROM test_1_2_4 LIMIT 10\")"
      ],
      "metadata": {
        "id": "L3BaoCHRPDTB",
        "colab": {
          "base_uri": "https://localhost:8080/",
          "height": 17,
          "referenced_widgets": [
            "be0de692898441a2b2740cab2d11de61",
            "9b4b425a1e8345a0b0f138ae24e27d8b",
            "38819510c46a4ab29285d42944fed9eb"
          ]
        },
        "outputId": "48cc660e-59a5-48e5-dfd5-0bc6f9421153"
      },
      "execution_count": 24,
      "outputs": [
        {
          "output_type": "display_data",
          "data": {
            "text/plain": [
              "FloatProgress(value=0.0, bar_style='info', description='Progress:', layout=Layout(height='25px', width='50%'),…"
            ],
            "application/vnd.jupyter.widget-view+json": {
              "version_major": 2,
              "version_minor": 0,
              "model_id": "be0de692898441a2b2740cab2d11de61"
            }
          },
          "metadata": {}
        }
      ]
    },
    {
      "cell_type": "code",
      "source": [
        "#Convert to Pandas\n",
        "%spark -o test_1_2_4_sdf"
      ],
      "metadata": {
        "id": "L2H_mmMsPtB8",
        "colab": {
          "base_uri": "https://localhost:8080/",
          "height": 17,
          "referenced_widgets": [
            "907ed763285f4594afa3368df94ea824",
            "2506bd70fd2f4373b4bb232e8083e4f7",
            "f66d61da01c44a4d8b4e2bd029944100",
            "d8fd7ce122e74ef2a9a4ba0a7d4801d9",
            "1734f09adc90400f96226e82e8053667",
            "e25844bd63b345b98c350b91d741ded3"
          ]
        },
        "outputId": "7efed7f7-e417-4e2b-c480-0a43cc42654d"
      },
      "execution_count": 25,
      "outputs": [
        {
          "output_type": "display_data",
          "data": {
            "text/plain": [
              "FloatProgress(value=0.0, bar_style='info', description='Progress:', layout=Layout(height='25px', width='50%'),…"
            ],
            "application/vnd.jupyter.widget-view+json": {
              "version_major": 2,
              "version_minor": 0,
              "model_id": "907ed763285f4594afa3368df94ea824"
            }
          },
          "metadata": {}
        },
        {
          "output_type": "display_data",
          "data": {
            "text/plain": [
              "FloatProgress(value=0.0, bar_style='info', description='Progress:', layout=Layout(height='25px', width='50%'),…"
            ],
            "application/vnd.jupyter.widget-view+json": {
              "version_major": 2,
              "version_minor": 0,
              "model_id": "d8fd7ce122e74ef2a9a4ba0a7d4801d9"
            }
          },
          "metadata": {}
        }
      ]
    },
    {
      "cell_type": "code",
      "source": [
        "## AUTOGRADER \n",
        "grader.grade(test_case_id = 'test_perc_change', answer = test_1_2_4_sdf)"
      ],
      "metadata": {
        "id": "8GSFJnXTPjvf",
        "colab": {
          "base_uri": "https://localhost:8080/"
        },
        "outputId": "c0863a97-bbdf-4281-e576-9ce795d036f2"
      },
      "execution_count": 26,
      "outputs": [
        {
          "output_type": "stream",
          "name": "stdout",
          "text": [
            "Correct! You earned 4/4 points. You are a star!\n",
            "\n",
            "Your submission has been successfully recorded in the gradebook.\n"
          ]
        }
      ]
    },
    {
      "cell_type": "markdown",
      "metadata": {
        "id": "Rh7UHTdnB-NJ"
      },
      "source": [
        "### 1.3: Cleaning LinkedIn Data"
      ]
    },
    {
      "cell_type": "markdown",
      "metadata": {
        "id": "zuiIGkuACIXy"
      },
      "source": [
        "#### 1.3.1: Adding Experience [6 Pts]"
      ]
    },
    {
      "cell_type": "markdown",
      "metadata": {
        "id": "Y0dWu9IRRXVq"
      },
      "source": [
        "In this part, we are interested in when individuals began working at a particular company.  When you created the schema, you might have noticed that the collection of companies an invidual worked at are contained in the `experience` field as an **array of dictionaries**. The company name is stored in the `org` field, and the start date is in the `start` field. Here is an example of an `experience` field:\n",
        "\n",
        "```\n",
        "{\n",
        "   \"experience\": [\n",
        "     {\n",
        "        \"org\": \"The Walt Disney Company\", \n",
        "        \"title\" : \"Mickey Mouse\",\n",
        "        \"end\" : \"Present\",\n",
        "        \"start\": \"November 1928\",\n",
        "        \"desc\": \"Sailed a boat.\"\n",
        "     },\n",
        "     {\n",
        "        \"org\": \"Walt Disney World Resort\",\n",
        "        \"title\": \"Mickey Mouse Mascot\",\n",
        "        \"start\": \"January 2005\",\n",
        "        \"desc\": \"Took pictures with kids.\"\n",
        "     }\n",
        "   ]\n",
        "}\n",
        "```\n",
        "\n",
        "Your task is to extract each pair of company and start date from these arrays. This is known as \"exploding\" a row in Spark. If you think about how we used relational data to model a nested list in a separate table -- that's basically what an explode does to the nested data within `linkedin`.\n",
        "\n",
        "Create an sdf called `raw_start_dates_sdf` that contains the company and start date for every experience of every individual in `linkedin_data_sdf`. Drop any row that contains a `null` in either column. \n",
        "\n",
        "```\n",
        "+--------------------------+---------------+\n",
        "|org                       |start_date     |\n",
        "+--------------------------+---------------+\n",
        "|Walt Disney World Resort  |January 2005   | \n",
        "|The Walt Disney Company   |November 1928  |\n",
        "|...                       |...            |\n",
        "+--------------------------+---------------+\n",
        "```\n",
        "\n",
        "_Hint_: Reference the [function list](https://spark.apache.org/docs/2.3.0/api/sql/index.html).\n",
        "\n",
        "_Note_: Some of the entires in `org` are \"weird\", i.e. made up of non-english letters and characters. Keep them. **DO NOT** edit any name in the original dataframe unless we specify. **DO NOT** drop any row unless there is a `null` value as stated before. This goes for the rest of the homework as well, unless otherwise specified."
      ]
    },
    {
      "cell_type": "code",
      "execution_count": 27,
      "metadata": {
        "id": "QbBet-PeoKVQ",
        "colab": {
          "base_uri": "https://localhost:8080/",
          "height": 463,
          "referenced_widgets": [
            "bca559feac544da5b0fc690e21e2e7b4",
            "0e27308c1f504a09ac2891f8098a6083",
            "ea328d5660ba4b8e92402945fd70cf67"
          ]
        },
        "outputId": "e24f84d7-0c59-4bed-9c05-7104abe65745"
      },
      "outputs": [
        {
          "output_type": "display_data",
          "data": {
            "text/plain": [
              "FloatProgress(value=0.0, bar_style='info', description='Progress:', layout=Layout(height='25px', width='50%'),…"
            ],
            "application/vnd.jupyter.widget-view+json": {
              "version_major": 2,
              "version_minor": 0,
              "model_id": "bca559feac544da5b0fc690e21e2e7b4"
            }
          },
          "metadata": {}
        },
        {
          "output_type": "stream",
          "name": "stdout",
          "text": [
            "+--------------------+--------------+\n",
            "|                 org|    start_date|\n",
            "+--------------------+--------------+\n",
            "| Johnson and Johnson| November 2009|\n",
            "|Albert Einstein M...|September 2008|\n",
            "| Columbia University|   August 2006|\n",
            "|Memorial Sloan Ke...|  January 2003|\n",
            "|Sahlgrenska Unive...| November 2001|\n",
            "|                UCSF|September 2012|\n",
            "|Wyss Institute fo...|      May 2009|\n",
            "|<Online Recruitin...| December 2009|\n",
            "|<Medical Testing ...| December 2009|\n",
            "|   000Montgomery.Com|  January 2005|\n",
            "|<Software Consult...|   August 2000|\n",
            "|<Software Consult...| December 2008|\n",
            "|<Temperature Sens...| February 2009|\n",
            "|<Advertising Comp...|      May 2007|\n",
            "|<Advertising Comp...|    March 2007|\n",
            "|<Psychology Organ...|  January 2007|\n",
            "|<Advertising Comp...| February 2007|\n",
            "|<National Recruit...| February 2006|\n",
            "| <Employment Agency>|  October 2005|\n",
            "|<Biometrics Hardw...|     July 2006|\n",
            "+--------------------+--------------+\n",
            "only showing top 20 rows"
          ]
        }
      ],
      "source": [
        "%%spark \n",
        "\n",
        "#ToDo\n",
        "\n",
        "query = '''\n",
        "        SELECT org, start_date\n",
        "        FROM\n",
        "        (\n",
        "          SELECT explode(experience) AS exp, exp.org, exp.start AS start_date\n",
        "          FROM linkedin_data\n",
        "        )\n",
        "        '''\n",
        "\n",
        "raw_start_dates_sdf = spark.sql(query).dropna()\n",
        "raw_start_dates_sdf.show()"
      ]
    },
    {
      "cell_type": "code",
      "execution_count": 28,
      "metadata": {
        "id": "TQ4z5YNRJszs",
        "colab": {
          "base_uri": "https://localhost:8080/",
          "height": 17,
          "referenced_widgets": [
            "2326556bb09443ada995c8846b01a23e",
            "2308728051184bb3bdaa08ec31538d7f",
            "38ae7768ff644d00bd6b72d9dbe3f4b9"
          ]
        },
        "outputId": "392b831c-f627-43d1-d962-1805231d8fd2"
      },
      "outputs": [
        {
          "output_type": "display_data",
          "data": {
            "text/plain": [
              "FloatProgress(value=0.0, bar_style='info', description='Progress:', layout=Layout(height='25px', width='50%'),…"
            ],
            "application/vnd.jupyter.widget-view+json": {
              "version_major": 2,
              "version_minor": 0,
              "model_id": "2326556bb09443ada995c8846b01a23e"
            }
          },
          "metadata": {}
        }
      ],
      "source": [
        "#################     DO NOT EDIT      ##################\n",
        "%%spark\n",
        "raw_start_dates_sdf.createOrReplaceTempView(\"test_1_3_1\")\n",
        "test_1_3_1_sdf = spark.sql(\"SELECT * FROM test_1_3_1 ORDER BY org ASC, start_date DESC LIMIT 20\")"
      ]
    },
    {
      "cell_type": "code",
      "execution_count": 29,
      "metadata": {
        "id": "nurW7BLKIUOO",
        "colab": {
          "base_uri": "https://localhost:8080/",
          "height": 17,
          "referenced_widgets": [
            "637a26c1a9b14e0cb42a71fad5cfa8ff",
            "163dae57925c4e49a66f288f0e3b2854",
            "e422288054ff4f70a84644f9d08816ae",
            "8f91626e7d9441d8b477152ab62f079f",
            "220100b9f3484c509b6aa22772996e58",
            "09b67c9acdbf47efaa08cad5ab728f41"
          ]
        },
        "outputId": "666bf2df-8463-4c1b-c713-8981e5f92065"
      },
      "outputs": [
        {
          "output_type": "display_data",
          "data": {
            "text/plain": [
              "FloatProgress(value=0.0, bar_style='info', description='Progress:', layout=Layout(height='25px', width='50%'),…"
            ],
            "application/vnd.jupyter.widget-view+json": {
              "version_major": 2,
              "version_minor": 0,
              "model_id": "637a26c1a9b14e0cb42a71fad5cfa8ff"
            }
          },
          "metadata": {}
        },
        {
          "output_type": "display_data",
          "data": {
            "text/plain": [
              "FloatProgress(value=0.0, bar_style='info', description='Progress:', layout=Layout(height='25px', width='50%'),…"
            ],
            "application/vnd.jupyter.widget-view+json": {
              "version_major": 2,
              "version_minor": 0,
              "model_id": "8f91626e7d9441d8b477152ab62f079f"
            }
          },
          "metadata": {}
        }
      ],
      "source": [
        "#Convert to Pandas\n",
        "%spark -o test_1_3_1_sdf"
      ]
    },
    {
      "cell_type": "code",
      "execution_count": 30,
      "metadata": {
        "id": "LEDWWnGTs25a",
        "colab": {
          "base_uri": "https://localhost:8080/"
        },
        "outputId": "b7da0e0b-b104-4f1b-816c-467c2034c5f8"
      },
      "outputs": [
        {
          "output_type": "stream",
          "name": "stdout",
          "text": [
            "Correct! You earned 6/6 points. You are a star!\n",
            "\n",
            "Your submission has been successfully recorded in the gradebook.\n"
          ]
        }
      ],
      "source": [
        "## AUTOGRADER \n",
        "grader.grade(test_case_id = 'test_pos_explode', answer = test_1_3_1_sdf)"
      ]
    },
    {
      "cell_type": "markdown",
      "metadata": {
        "id": "5EO58odiDCmf"
      },
      "source": [
        "#### 1.3.2: Filtering on Date [5 Pts]"
      ]
    },
    {
      "cell_type": "markdown",
      "metadata": {
        "id": "UhEm87LUSgEg"
      },
      "source": [
        "There are two issues with the values in our `date` column. First, the values are saved as strings, not datetime types. This halts us from running functions such as `ORDER BY` or `GROUP BY` on common months or years. Second, some values do not have both month and year information or are in other languages. Your task is to filter out and clean the `date` column. We are interested in only those rows that have date in the following format `\"(month_name) (year)\"`, e.g. \"October 2010\".\n",
        "\n",
        "Using `raw_start_dates_sdf`, create an sdf called `filtered_start_dates_sdf` with the `date` column filtered in the manner above. **Keep only those rows with a start date between January 2000 ('2000-01-01') to December 2011 ('2011-12-01'), inclusive**.  Ensure that any dates that are not in our desired format are omitted. Drop any row that contains a `null` in either column. The format of the sdf is shown below:\n",
        "```\n",
        "+--------------------------+---------------+\n",
        "|org                       |start_date     |\n",
        "+--------------------------+---------------+\n",
        "|Walt Disney World Resort  |2005-01-01     | \n",
        "|...                       |...            |\n",
        "+--------------------------+---------------+\n",
        "```\n",
        "_Hint_: Refer to the [function list](https://spark.apache.org/docs/2.3.0/api/sql/index.html) to format the `date` column. In Spark SQL the date format we are interested in is `\"MMM y\"`.\n",
        "\n",
        "_Note_: Spark will return the date in the format above, with the day as `01`. This is ok, since we are interested in the month and year each individual began working and all dates will have `01` as their day."
      ]
    },
    {
      "cell_type": "code",
      "execution_count": 31,
      "metadata": {
        "id": "zUVzwaQNShj_",
        "colab": {
          "base_uri": "https://localhost:8080/",
          "height": 463,
          "referenced_widgets": [
            "60806cdfc00f43a6be4946b376d50889",
            "008e0db7be77408c9003895e334525d2",
            "010149e997ca456e91df6bad70ed2d26"
          ]
        },
        "outputId": "7b4e2f65-cb5b-49c7-ceb0-188c09ee02e4"
      },
      "outputs": [
        {
          "output_type": "display_data",
          "data": {
            "text/plain": [
              "FloatProgress(value=0.0, bar_style='info', description='Progress:', layout=Layout(height='25px', width='50%'),…"
            ],
            "application/vnd.jupyter.widget-view+json": {
              "version_major": 2,
              "version_minor": 0,
              "model_id": "60806cdfc00f43a6be4946b376d50889"
            }
          },
          "metadata": {}
        },
        {
          "output_type": "stream",
          "name": "stdout",
          "text": [
            "+--------------------+----------+\n",
            "|                 org|start_date|\n",
            "+--------------------+----------+\n",
            "| Johnson and Johnson|2009-11-01|\n",
            "|Albert Einstein M...|2008-09-01|\n",
            "| Columbia University|2006-08-01|\n",
            "|Memorial Sloan Ke...|2003-01-01|\n",
            "|Sahlgrenska Unive...|2001-11-01|\n",
            "|Wyss Institute fo...|2009-05-01|\n",
            "|<Online Recruitin...|2009-12-01|\n",
            "|<Medical Testing ...|2009-12-01|\n",
            "|   000Montgomery.Com|2005-01-01|\n",
            "|<Software Consult...|2000-08-01|\n",
            "|<Software Consult...|2008-12-01|\n",
            "|<Temperature Sens...|2009-02-01|\n",
            "|<Advertising Comp...|2007-05-01|\n",
            "|<Advertising Comp...|2007-03-01|\n",
            "|<Psychology Organ...|2007-01-01|\n",
            "|<Advertising Comp...|2007-02-01|\n",
            "|<National Recruit...|2006-02-01|\n",
            "| <Employment Agency>|2005-10-01|\n",
            "|<Biometrics Hardw...|2006-07-01|\n",
            "|<Product Manufact...|2001-08-01|\n",
            "+--------------------+----------+\n",
            "only showing top 20 rows"
          ]
        }
      ],
      "source": [
        "%%spark\n",
        "\n",
        "#Do not remove the line below\n",
        "spark.sql(\"set spark.sql.legacy.timeParserPolicy=LEGACY\")\n",
        "\n",
        "#ToDo\n",
        "\n",
        "raw_start_dates_sdf.createOrReplaceTempView(\"raw_start_dates\")\n",
        "\n",
        "query = '''\n",
        "        SELECT *\n",
        "        FROM\n",
        "        (\n",
        "          SELECT org, to_date(start_date, \"MMMM y\") AS start_date\n",
        "          FROM raw_start_dates\n",
        "        )\n",
        "        WHERE start_date >= \"2000-01-01\" AND\n",
        "              start_date <= \"2011-12-01\"\n",
        "        '''\n",
        "\n",
        "filtered_start_dates_sdf = spark.sql(query)\n",
        "filtered_start_dates_sdf.show()"
      ]
    },
    {
      "cell_type": "code",
      "source": [
        "#################     DO NOT EDIT      ##################\n",
        "%%spark\n",
        "filtered_start_dates_sdf.createOrReplaceTempView(\"test_1_3_2\")\n",
        "test_1_3_2_sdf = spark.sql(\"SELECT * FROM ((SELECT org, DATE_FORMAT(start_date, 'yyyy-MM-dd') AS start_date FROM test_1_3_2 ORDER BY start_date DESC, org DESC LIMIT 10) UNION (SELECT org, DATE_FORMAT(start_date, 'yyyy-MM-dd') AS start_date FROM test_1_3_2 ORDER BY start_date ASC, org ASC LIMIT 10)) ORDER BY start_date ASC, org ASC\")"
      ],
      "metadata": {
        "id": "R_uu7DgpORH-",
        "colab": {
          "base_uri": "https://localhost:8080/",
          "height": 17,
          "referenced_widgets": [
            "6c702749fef24933be5bfdeb47bf054d",
            "9845394aa163453aaf534ac1b0562c63",
            "3017a6fae8d841c6a3f91cb08c2e86c5"
          ]
        },
        "outputId": "6fbfe734-57ee-411c-d991-cd343faab4d6"
      },
      "execution_count": 32,
      "outputs": [
        {
          "output_type": "display_data",
          "data": {
            "text/plain": [
              "FloatProgress(value=0.0, bar_style='info', description='Progress:', layout=Layout(height='25px', width='50%'),…"
            ],
            "application/vnd.jupyter.widget-view+json": {
              "version_major": 2,
              "version_minor": 0,
              "model_id": "6c702749fef24933be5bfdeb47bf054d"
            }
          },
          "metadata": {}
        }
      ]
    },
    {
      "cell_type": "code",
      "execution_count": 33,
      "metadata": {
        "id": "Xdlr-ScTtuMg",
        "colab": {
          "base_uri": "https://localhost:8080/",
          "height": 17,
          "referenced_widgets": [
            "7263fce2fa46455d971ffb798b94768f",
            "ad9127764f5445368776cab0efcfb7c6",
            "49223df559634498901d0d036d1b1aab",
            "8b725f83b8b74349b6bd6dbffbf051f0",
            "cf25fa01e95e4fdaa94848c1d6526a90",
            "6d73030be045457399ac1c528c72c906"
          ]
        },
        "outputId": "f962c2f9-1195-4444-b4d1-a3268814aa20"
      },
      "outputs": [
        {
          "output_type": "display_data",
          "data": {
            "text/plain": [
              "FloatProgress(value=0.0, bar_style='info', description='Progress:', layout=Layout(height='25px', width='50%'),…"
            ],
            "application/vnd.jupyter.widget-view+json": {
              "version_major": 2,
              "version_minor": 0,
              "model_id": "7263fce2fa46455d971ffb798b94768f"
            }
          },
          "metadata": {}
        },
        {
          "output_type": "display_data",
          "data": {
            "text/plain": [
              "FloatProgress(value=0.0, bar_style='info', description='Progress:', layout=Layout(height='25px', width='50%'),…"
            ],
            "application/vnd.jupyter.widget-view+json": {
              "version_major": 2,
              "version_minor": 0,
              "model_id": "8b725f83b8b74349b6bd6dbffbf051f0"
            }
          },
          "metadata": {}
        }
      ],
      "source": [
        "#Convert to Pandas\n",
        "%spark -o test_1_3_2_sdf"
      ]
    },
    {
      "cell_type": "code",
      "execution_count": 34,
      "metadata": {
        "id": "RDor1THwspT2",
        "colab": {
          "base_uri": "https://localhost:8080/"
        },
        "outputId": "46bd4dd8-21c9-42fd-9338-88ef67eddff8"
      },
      "outputs": [
        {
          "output_type": "stream",
          "name": "stdout",
          "text": [
            "Correct! You earned 5/5 points. You are a star!\n",
            "\n",
            "Your submission has been successfully recorded in the gradebook.\n"
          ]
        }
      ],
      "source": [
        "## AUTOGRADER \n",
        "grader.grade(test_case_id = 'test_linkedin_date', answer = test_1_3_2_sdf)"
      ]
    },
    {
      "cell_type": "markdown",
      "metadata": {
        "id": "FrBN2Np7GWdW"
      },
      "source": [
        "### 1.4: Cleaning Stock Data"
      ]
    },
    {
      "cell_type": "markdown",
      "source": [
        "#### 1.4.1: Adding Company Names [2 Pts]"
      ],
      "metadata": {
        "id": "m3o0JjdzaEkG"
      }
    },
    {
      "cell_type": "markdown",
      "metadata": {
        "id": "oJnNlV4FGkF2"
      },
      "source": [
        "In part 4 of this homework, we have to merge the stocks and linkedin dataframes. This would be difficult to do directly, as the companies in our stock dataset are defined by their stock tickers instead of the full names. Thus, we would not be able to merge it with the `org` field in `hire_train_sdf`. We must convert them to that format. For this purpose, we can create a user-defined function (udf) to achieve the mentioned conversion.\n",
        "\n",
        "A udf is defined as a normal Python function and then registered to be used as a Spark SQL function. Your task is to create a udf, `TICKER_TO_NAME()` that will convert the ticker field in `raw_stocks` to the company's name. This will be done using the provided `ticker_to_name_dict` dictionary. We are only interested in the companies in that dictionary.\n",
        "\n",
        "Fill out the function `ticker_to_name()` below. Then use `spark.udf.register()` to register it as a SQL function. The command is provided. ***You do not need to edit it***. Note, we have defined the udf as returning `StringType()`. Ensure that your function returns this. You must also deal with any potential `null` cases.\n",
        "\n",
        "If the ticker value isn't in the table, set it to a string equal to `None`."
      ]
    },
    {
      "cell_type": "code",
      "execution_count": 35,
      "metadata": {
        "id": "12YNSVD2GwcM",
        "colab": {
          "base_uri": "https://localhost:8080/",
          "height": 35,
          "referenced_widgets": [
            "fda3301ae9994272b9ac43ae81cff145",
            "839efa24f0394e99985409132e06e154",
            "6d5c5ae13c7d42adb793dc744cc324da"
          ]
        },
        "outputId": "4fa61772-6fba-4cdc-b742-c46470ad8e85"
      },
      "outputs": [
        {
          "output_type": "display_data",
          "data": {
            "text/plain": [
              "FloatProgress(value=0.0, bar_style='info', description='Progress:', layout=Layout(height='25px', width='50%'),…"
            ],
            "application/vnd.jupyter.widget-view+json": {
              "version_major": 2,
              "version_minor": 0,
              "model_id": "fda3301ae9994272b9ac43ae81cff145"
            }
          },
          "metadata": {}
        },
        {
          "output_type": "stream",
          "name": "stdout",
          "text": [
            "<function ticker_to_name at 0x7f7fe23ee5f0>"
          ]
        }
      ],
      "source": [
        "%%spark\n",
        "\n",
        "# Dictionary linking stock ticker symbols to their names\n",
        "ticker_to_name_dict = {'NOK': 'Nokia',\n",
        "                       'UN': 'Unilever',\n",
        "                       'BP': 'BP',\n",
        "                       'JNJ': 'Johnson & Johnson',\n",
        "                       'TCS': 'Tata Consultancy Services',\n",
        "                       'SLB': 'Schlumberger',\n",
        "                       'NVS': 'Novartis',\n",
        "                       'CNY': 'Huawei',\n",
        "                       'PFE': 'Pfizer',\n",
        "                       'ACN': 'Accenture',\n",
        "                       'DELL': 'Dell',\n",
        "                       'MS': 'Morgan Stanley',\n",
        "                       'ORCL': 'Oracle',\n",
        "                       'BAC': 'Bank of America',\n",
        "                       'PG': 'Procter & Gamble',\n",
        "                       'CGEMY': 'Capgemini',\n",
        "                       'GS': 'Goldman Sachs',\n",
        "                       'C': 'Citi',\n",
        "                       'IBM': 'IBM',\n",
        "                       'CS': 'Credit Suisse',\n",
        "                       'MDLZ': 'Kraft Foods',\n",
        "                       'WIT': 'Wipro Technologies',\n",
        "                       'CSCO': 'Cisco Systems',\n",
        "                       'PWC': 'PwC',\n",
        "                       'GOOGL': 'Google',\n",
        "                       'CTSH': 'Cognizant Technology Solutions',\n",
        "                       'HSBC': 'HSBC',\n",
        "                       'DB': 'Deutsche Bank',\n",
        "                       'MSFT': 'Microsoft',\n",
        "                       'HPE': 'Hewlett-Packard',\n",
        "                       'ERIC': 'Ericsson',\n",
        "                       'BCS': 'Barclays Capital',\n",
        "                       'GSK': 'GlaxoSmithKline'}\n",
        "\n",
        "# TODO: Fill out [ticker_to_name()] and register it as a udf.\n",
        "\n",
        "\n",
        "def ticker_to_name(ticker):\n",
        "    if ticker in ticker_to_name_dict:\n",
        "      return ticker_to_name_dict[ticker]\n",
        "    else:\n",
        "      return None\n",
        "  \n",
        "\n",
        "# Register udf as a SQL function. DO NOT EDIT\n",
        "spark.udf.register(\"TICKER_TO_NAME\", ticker_to_name, StringType())\n"
      ]
    },
    {
      "cell_type": "code",
      "execution_count": 36,
      "metadata": {
        "id": "eL5VjvlqRcu7",
        "colab": {
          "base_uri": "https://localhost:8080/",
          "height": 17,
          "referenced_widgets": [
            "18f34cb1111441308d0046f6efaf7588",
            "501da19e91c54fb39294913614b980fd",
            "1f18e2f80a024518aa44bdcf7c0b9682"
          ]
        },
        "outputId": "c563ddc8-1d1f-46aa-fc37-8a18039085fe"
      },
      "outputs": [
        {
          "output_type": "display_data",
          "data": {
            "text/plain": [
              "FloatProgress(value=0.0, bar_style='info', description='Progress:', layout=Layout(height='25px', width='50%'),…"
            ],
            "application/vnd.jupyter.widget-view+json": {
              "version_major": 2,
              "version_minor": 0,
              "model_id": "18f34cb1111441308d0046f6efaf7588"
            }
          },
          "metadata": {}
        }
      ],
      "source": [
        "#################     DO NOT EDIT      ##################\n",
        "%%spark\n",
        "\n",
        "ticker_to_name = [((str(ticker_to_name(\"GOOGL\")),str(ticker_to_name(\"TSLA\"))))]\n",
        "columns = ['A', 'B']\n",
        "dataframe = spark.createDataFrame(ticker_to_name, columns)"
      ]
    },
    {
      "cell_type": "code",
      "execution_count": 37,
      "metadata": {
        "id": "hv4l324Lv0mD",
        "colab": {
          "base_uri": "https://localhost:8080/",
          "height": 17,
          "referenced_widgets": [
            "d536e8ffe40f40b79e2b54dfd68e754b",
            "fe09d83c64c345a5abb72e0f68a11703",
            "b82dd98df8994ba195b0b89420a1d4a3",
            "ffbb32ebbcb342c089d5eb38477a2c8b",
            "2bf5879fe3ab4c619e99ad681381885b",
            "4a1261476a804d4183cccb6ed333be4b"
          ]
        },
        "outputId": "bb3fc89a-49b4-4526-c6af-66b40786045e"
      },
      "outputs": [
        {
          "output_type": "display_data",
          "data": {
            "text/plain": [
              "FloatProgress(value=0.0, bar_style='info', description='Progress:', layout=Layout(height='25px', width='50%'),…"
            ],
            "application/vnd.jupyter.widget-view+json": {
              "version_major": 2,
              "version_minor": 0,
              "model_id": "d536e8ffe40f40b79e2b54dfd68e754b"
            }
          },
          "metadata": {}
        },
        {
          "output_type": "display_data",
          "data": {
            "text/plain": [
              "FloatProgress(value=0.0, bar_style='info', description='Progress:', layout=Layout(height='25px', width='50%'),…"
            ],
            "application/vnd.jupyter.widget-view+json": {
              "version_major": 2,
              "version_minor": 0,
              "model_id": "ffbb32ebbcb342c089d5eb38477a2c8b"
            }
          },
          "metadata": {}
        }
      ],
      "source": [
        "#Convert to Pandas\n",
        "%spark -o dataframe"
      ]
    },
    {
      "cell_type": "code",
      "execution_count": 38,
      "metadata": {
        "id": "v8DiBMTLuhkq",
        "colab": {
          "base_uri": "https://localhost:8080/"
        },
        "outputId": "a9153277-3c07-414e-bc13-2e731903d234"
      },
      "outputs": [
        {
          "output_type": "stream",
          "name": "stdout",
          "text": [
            "Correct! You earned 2/2 points. You are a star!\n",
            "\n",
            "Your submission has been successfully recorded in the gradebook.\n"
          ]
        }
      ],
      "source": [
        "## AUTOGRADER \n",
        "grader.grade(test_case_id = 'test_ticker_name', answer = dataframe)"
      ]
    },
    {
      "cell_type": "markdown",
      "metadata": {
        "id": "ppX3QrfbHh5T"
      },
      "source": [
        "#### 1.4.2: Wrangling stocks data [5 Pts]"
      ]
    },
    {
      "cell_type": "markdown",
      "metadata": {
        "id": "vmYUW763Hjt-"
      },
      "source": [
        "We can now begin to wrangle `stocks_sdf` with our new `TICKER_TO_NAME()` function.\n",
        "\n",
        "Create an sdf called `filter_1_stocks_sdf` as follows. Convert all the ticker names in `stocks_sdf` to the company names and save it as `org`. Next, convert the `date` field to a datetime type. As explained before this will help order and group the rows in future steps. \n",
        "\n",
        "Drop any company names that do not appear in `ticker_to_name_dict`. **Keep any date between January 1st 2001 ('2001-01-01') and December 4th 2012 ('2012-12-04') inclusive**, in the format shown below (note this is a datetime object not a string):\n",
        "\n",
        "```\n",
        "+----+------------+--------------+\n",
        "|org |date        |Close         |\n",
        "+----+------------+--------------+\n",
        "|IBM |2000-01-03  |...           |\n",
        "|... |...         |...           |\n",
        "+----+------------+--------------+\n",
        "```\n",
        "_Hint_: You will use a similar function to filter the dates as in Step 1.3.2. In Spark SQL the format for the `date` field in `raw_stocks_sdf` is `\"yyyy-MM-dd\"`."
      ]
    },
    {
      "cell_type": "code",
      "execution_count": 39,
      "metadata": {
        "id": "5NUYUs0tHzqf",
        "colab": {
          "base_uri": "https://localhost:8080/",
          "height": 463,
          "referenced_widgets": [
            "200ecadfb86f44018b09d2108f079c6a",
            "5cfa402af8ba431a868cf8daa50e5792",
            "e570039632a94a988030c680da436b12"
          ]
        },
        "outputId": "7d94e32f-8125-43cb-b3ce-c8ca05b6bba2"
      },
      "outputs": [
        {
          "output_type": "display_data",
          "data": {
            "text/plain": [
              "FloatProgress(value=0.0, bar_style='info', description='Progress:', layout=Layout(height='25px', width='50%'),…"
            ],
            "application/vnd.jupyter.widget-view+json": {
              "version_major": 2,
              "version_minor": 0,
              "model_id": "200ecadfb86f44018b09d2108f079c6a"
            }
          },
          "metadata": {}
        },
        {
          "output_type": "stream",
          "name": "stdout",
          "text": [
            "+---------+----------+------+\n",
            "|      org|      date| Close|\n",
            "+---------+----------+------+\n",
            "|Accenture|2005-02-25|21.363|\n",
            "|Accenture|2005-02-28|21.704|\n",
            "|Accenture|2005-03-01|21.735|\n",
            "|Accenture|2005-03-02|21.593|\n",
            "|Accenture|2005-03-03|21.329|\n",
            "|Accenture|2005-03-04|21.549|\n",
            "|Accenture|2005-03-07|21.651|\n",
            "|Accenture|2005-03-08|21.509|\n",
            "|Accenture|2005-03-09|21.379|\n",
            "|Accenture|2005-03-10|21.194|\n",
            "|Accenture|2005-03-11|20.777|\n",
            "|Accenture|2005-03-14|20.794|\n",
            "|Accenture|2005-03-15| 20.37|\n",
            "|Accenture|2005-03-16| 20.41|\n",
            "|Accenture|2005-03-17|20.344|\n",
            "|Accenture|2005-03-18|20.098|\n",
            "|Accenture|2005-03-21|20.395|\n",
            "|Accenture|2005-03-22|20.623|\n",
            "|Accenture|2005-03-23|20.641|\n",
            "|Accenture|2005-03-24|20.726|\n",
            "+---------+----------+------+\n",
            "only showing top 20 rows"
          ]
        }
      ],
      "source": [
        "%%spark\n",
        "\n",
        "# TODO\n",
        "\n",
        "query = '''\n",
        "        SELECT *\n",
        "        FROM\n",
        "        (\n",
        "          SELECT TICKER_TO_NAME(org) as org, to_date(Date, \"yyyy-MM-dd\") as date, Close\n",
        "          FROM stocks\n",
        "        )\n",
        "        WHERE date >= \"2001-01-01\" AND\n",
        "              date <= \"2012-12-04\" AND\n",
        "              org IS NOT NULL\n",
        "        '''\n",
        "\n",
        "filter_1_stocks_sdf = spark.sql(query)\n",
        "filter_1_stocks_sdf.show()"
      ]
    },
    {
      "cell_type": "code",
      "source": [
        "#################     DO NOT EDIT      ##################\n",
        "%%spark\n",
        "filter_1_stocks_sdf.createOrReplaceTempView(\"test_1_4_2\")\n",
        "test_1_4_2_sdf = spark.sql(\"SELECT * FROM ((SELECT org, DATE_FORMAT(date, 'yyyy-MM-dd') as date, Close FROM test_1_4_2 ORDER BY date DESC, org DESC LIMIT 10) UNION (SELECT org, DATE_FORMAT(date, 'yyyy-MM-dd') as date, Close FROM test_1_4_2 ORDER BY date ASC, org ASC LIMIT 10)) ORDER BY date ASC, org DESC\")"
      ],
      "metadata": {
        "id": "6eMbPVPKOk8l",
        "colab": {
          "base_uri": "https://localhost:8080/",
          "height": 17,
          "referenced_widgets": [
            "35d7027a90cf4aa88baefcaa1cf758cf",
            "1982565105374643a5c56185d6cbf905",
            "bf3fc9b7d6e44ef6b60321bd1397214f"
          ]
        },
        "outputId": "74d0ad6b-db18-4f72-b7c5-c4db590c20d6"
      },
      "execution_count": 40,
      "outputs": [
        {
          "output_type": "display_data",
          "data": {
            "text/plain": [
              "FloatProgress(value=0.0, bar_style='info', description='Progress:', layout=Layout(height='25px', width='50%'),…"
            ],
            "application/vnd.jupyter.widget-view+json": {
              "version_major": 2,
              "version_minor": 0,
              "model_id": "35d7027a90cf4aa88baefcaa1cf758cf"
            }
          },
          "metadata": {}
        }
      ]
    },
    {
      "cell_type": "code",
      "execution_count": 41,
      "metadata": {
        "id": "GxINfYn_Tg6s",
        "colab": {
          "base_uri": "https://localhost:8080/",
          "height": 17,
          "referenced_widgets": [
            "8bfe248a74e942b186bebe7d1a62a958",
            "446b155aa26c4a969cb345d88e81b9d3",
            "5e61655bccda48a1bd84365f7556a7bc",
            "2902f6de23424e7da67c75cc8cca1d92",
            "b5a6e83af203409ebbb5f79e4232255c",
            "46dc9589e90146a68410715a36695298"
          ]
        },
        "outputId": "e748f392-7961-4204-d76a-f1a986eeb3e1"
      },
      "outputs": [
        {
          "output_type": "display_data",
          "data": {
            "text/plain": [
              "FloatProgress(value=0.0, bar_style='info', description='Progress:', layout=Layout(height='25px', width='50%'),…"
            ],
            "application/vnd.jupyter.widget-view+json": {
              "version_major": 2,
              "version_minor": 0,
              "model_id": "8bfe248a74e942b186bebe7d1a62a958"
            }
          },
          "metadata": {}
        },
        {
          "output_type": "display_data",
          "data": {
            "text/plain": [
              "FloatProgress(value=0.0, bar_style='info', description='Progress:', layout=Layout(height='25px', width='50%'),…"
            ],
            "application/vnd.jupyter.widget-view+json": {
              "version_major": 2,
              "version_minor": 0,
              "model_id": "2902f6de23424e7da67c75cc8cca1d92"
            }
          },
          "metadata": {}
        }
      ],
      "source": [
        "#Convert to Pandas\n",
        "%spark -o test_1_4_2_sdf"
      ]
    },
    {
      "cell_type": "code",
      "execution_count": 42,
      "metadata": {
        "id": "YBaX4eB_1wct",
        "colab": {
          "base_uri": "https://localhost:8080/"
        },
        "outputId": "25e601b1-0157-48ee-c8dc-8610c1249a08"
      },
      "outputs": [
        {
          "output_type": "stream",
          "name": "stdout",
          "text": [
            "Correct! You earned 5/5 points. You are a star!\n",
            "\n",
            "Your submission has been successfully recorded in the gradebook.\n"
          ]
        }
      ],
      "source": [
        "## AUTOGRADER \n",
        "grader.grade(test_case_id = 'test_stock_date', answer = test_1_4_2_sdf)"
      ]
    },
    {
      "cell_type": "markdown",
      "metadata": {
        "id": "FjugB9CnImV1"
      },
      "source": [
        "## Step 2: Analysis on LinkedIn Data [12 pts]"
      ]
    },
    {
      "cell_type": "markdown",
      "metadata": {
        "id": "76Z2GuCsJj13"
      },
      "source": [
        "### 2.1: Counting Employees [2 Pts]"
      ]
    },
    {
      "cell_type": "markdown",
      "metadata": {
        "id": "niXSeOqAJ6Vc"
      },
      "source": [
        "Now we would like to find for each company, the number of individuals who started in the same month and year. Use `filtered_start_dates_sdf` and create a new sdf called `start_dates_sdf` which will contain the total number of employees who began working at the same company on the same start date (name the new column as `num_employees`). The format of the sdf is shown below:\n",
        "\n",
        "```\n",
        "+--------------------------+---------------+---------------+\n",
        "|org                       |start_date     |num_employees  |\n",
        "+--------------------------+---------------+---------------+\n",
        "|Walt Disney World Resort  |2005-01-01     |1              |\n",
        "|...                       |...            |...            |\n",
        "+--------------------------+---------------+---------------+\n",
        "```"
      ]
    },
    {
      "cell_type": "code",
      "execution_count": 43,
      "metadata": {
        "id": "VZyAqiO9JlZZ",
        "colab": {
          "base_uri": "https://localhost:8080/",
          "height": 463,
          "referenced_widgets": [
            "d6e0a3b4a9a34181878fee53d6a7b9ec",
            "9252772f6eab42a29bfa78228dd4fc32",
            "5e038e4bf7e847baa93347d086bb6523"
          ]
        },
        "outputId": "3d5f681b-71e7-49bf-855c-979226b5fca7"
      },
      "outputs": [
        {
          "output_type": "display_data",
          "data": {
            "text/plain": [
              "FloatProgress(value=0.0, bar_style='info', description='Progress:', layout=Layout(height='25px', width='50%'),…"
            ],
            "application/vnd.jupyter.widget-view+json": {
              "version_major": 2,
              "version_minor": 0,
              "model_id": "d6e0a3b4a9a34181878fee53d6a7b9ec"
            }
          },
          "metadata": {}
        },
        {
          "output_type": "stream",
          "name": "stdout",
          "text": [
            "+--------------------+----------+-------------+\n",
            "|                 org|start_date|num_employees|\n",
            "+--------------------+----------+-------------+\n",
            "|Heerema Marine Co...|2011-10-01|            1|\n",
            "|       Computer-City|2006-09-01|            1|\n",
            "| Booz Allen Hamilton|2000-08-01|            1|\n",
            "|             Napster|2001-01-01|            1|\n",
            "|Clifton Gunderson...|2011-01-01|            1|\n",
            "|    Mobile-Solutions|2011-09-01|            1|\n",
            "|       Kaspersky Lab|2010-08-01|            2|\n",
            "|Trus Joist, A Wey...|2002-01-01|            1|\n",
            "|               eWave|2010-04-01|            1|\n",
            "|     emfluence, llc.|2009-06-01|            1|\n",
            "|    Rethink Robotics|2011-03-01|            1|\n",
            "|     united airlines|2007-03-01|            1|\n",
            "|          Ann Taylor|2011-09-01|            1|\n",
            "|       Razor and Tie|2009-05-01|            1|\n",
            "|  The United Nations|2003-08-01|            1|\n",
            "|QNX Software Systems|2009-09-01|            1|\n",
            "|Streets Chartered...|2004-10-01|            1|\n",
            "|    AlixPartners LLP|2006-08-01|            1|\n",
            "|IT Power Software...|2009-07-01|            1|\n",
            "|Commonwealth Bank...|2008-12-01|            1|\n",
            "+--------------------+----------+-------------+\n",
            "only showing top 20 rows"
          ]
        }
      ],
      "source": [
        "%%spark\n",
        "\n",
        "# TODO: \n",
        "\n",
        "filtered_start_dates_sdf.createOrReplaceTempView(\"filtered_start_dates\")\n",
        "\n",
        "query = '''\n",
        "        SELECT org, start_date, COUNT(*) AS num_employees\n",
        "        FROM filtered_start_dates\n",
        "        GROUP BY org, start_date\n",
        "        '''\n",
        "\n",
        "start_dates_sdf = spark.sql(query)\n",
        "start_dates_sdf.show()\n"
      ]
    },
    {
      "cell_type": "code",
      "execution_count": 44,
      "metadata": {
        "id": "ESjsTaKLWS-6",
        "colab": {
          "base_uri": "https://localhost:8080/",
          "height": 17,
          "referenced_widgets": [
            "b37ad2f5b41e4c5eb51e9bf589f6e1fa",
            "23669fd1e3654040b8368094295cdb1e",
            "924c899123f540ff82a0399c34ce1607"
          ]
        },
        "outputId": "236f0a72-3ab1-48da-bb79-6933701093e4"
      },
      "outputs": [
        {
          "output_type": "display_data",
          "data": {
            "text/plain": [
              "FloatProgress(value=0.0, bar_style='info', description='Progress:', layout=Layout(height='25px', width='50%'),…"
            ],
            "application/vnd.jupyter.widget-view+json": {
              "version_major": 2,
              "version_minor": 0,
              "model_id": "b37ad2f5b41e4c5eb51e9bf589f6e1fa"
            }
          },
          "metadata": {}
        }
      ],
      "source": [
        "#################     DO NOT EDIT      ##################\n",
        "%%spark\n",
        "\n",
        "start_dates_sdf.createOrReplaceTempView(\"test_2_1\")\n",
        "test_2_1_sdf = spark.sql(\"SELECT org, DATE_FORMAT(start_date, 'yyyy-MM-dd') as start_date, num_employees FROM test_2_1 ORDER BY num_employees DESC, org DESC, start_date ASC LIMIT 10\")"
      ]
    },
    {
      "cell_type": "code",
      "execution_count": 45,
      "metadata": {
        "id": "xP5l8ztdWhhv",
        "colab": {
          "base_uri": "https://localhost:8080/",
          "height": 17,
          "referenced_widgets": [
            "9351c5f6237244f8908de98a68ec5def",
            "a82f1870616e4ee2b49a80bc4bbe2f11",
            "cfe8b781eeb84048932cbc7ba0e01f83",
            "5dea219c3439421bb30528621e4c33e0",
            "c4ff213f9fbd4fcf95105ea29a39d700",
            "0055e6003ac24af7a721247be7862ed2"
          ]
        },
        "outputId": "db5162df-347f-4a62-e295-4021b744e005"
      },
      "outputs": [
        {
          "output_type": "display_data",
          "data": {
            "text/plain": [
              "FloatProgress(value=0.0, bar_style='info', description='Progress:', layout=Layout(height='25px', width='50%'),…"
            ],
            "application/vnd.jupyter.widget-view+json": {
              "version_major": 2,
              "version_minor": 0,
              "model_id": "9351c5f6237244f8908de98a68ec5def"
            }
          },
          "metadata": {}
        },
        {
          "output_type": "display_data",
          "data": {
            "text/plain": [
              "FloatProgress(value=0.0, bar_style='info', description='Progress:', layout=Layout(height='25px', width='50%'),…"
            ],
            "application/vnd.jupyter.widget-view+json": {
              "version_major": 2,
              "version_minor": 0,
              "model_id": "5dea219c3439421bb30528621e4c33e0"
            }
          },
          "metadata": {}
        }
      ],
      "source": [
        "#Convert to Pandas\n",
        "%spark -o test_2_1_sdf"
      ]
    },
    {
      "cell_type": "code",
      "execution_count": 46,
      "metadata": {
        "id": "B4HKNoWdLgUm",
        "colab": {
          "base_uri": "https://localhost:8080/"
        },
        "outputId": "d621ce64-783c-4361-8763-f6336f728160"
      },
      "outputs": [
        {
          "output_type": "stream",
          "name": "stdout",
          "text": [
            "Correct! You earned 2/2 points. You are a star!\n",
            "\n",
            "Your submission has been successfully recorded in the gradebook.\n"
          ]
        }
      ],
      "source": [
        "## AUTOGRADER \n",
        "grader.grade(test_case_id = 'test_num_employees', answer = test_2_1_sdf)"
      ]
    },
    {
      "cell_type": "markdown",
      "metadata": {
        "id": "yBhHq0gRKEiX"
      },
      "source": [
        "### 2.2: Reshape DataFrame [7 Pts]"
      ]
    },
    {
      "cell_type": "markdown",
      "metadata": {
        "id": "DwQGo8a2KWEK"
      },
      "source": [
        "Our next step is to use `start_dates_sdf` and create a new sdf called `raw_hire_train_sdf` that has for a single company and a single year, the number of hires in Jan through Dec, as well as the total number of hires that year (name it `total_num`). Note that for each company you will have several rows corresponding to years between 2000 and 2011. It is alright if for a given company you don't have a given year. However, ensure that for a given company and given year, each month column has an entry, i.e. if no one was hired the value should be `0`.  \n",
        "\n",
        "_Note_: We will use the first three letters of each month in naming, i.e. `jan, feb, mar, apr, may, jun, jul, aug, sep, oct, nov, dec`.\n",
        "\n",
        "The format of the `raw_hire_train_sdf` is shown below:\n",
        "\n",
        "```\n",
        "+----+-----+----------+---------+----------+----------+\n",
        "|org |year |jan_hired |   ...   |dec_hired |total_num |\n",
        "+----+-----+----------+---------+----------+----------+\n",
        "|IBM |2008 |...       |   ...   |...       |...       |\n",
        "|IBM |2009 |...       |   ...   |...       |...       |\n",
        "|... |...  |...       |   ...   |...       |...       |\n",
        "+----+-----+----------+---------+----------+----------+\n",
        "```\n"
      ]
    },
    {
      "cell_type": "code",
      "execution_count": 47,
      "metadata": {
        "id": "8bdXbMWWI9MF",
        "colab": {
          "base_uri": "https://localhost:8080/",
          "height": 483,
          "referenced_widgets": [
            "5ca66bcd72e5408db3432951674df834",
            "0c818ea6fd1746518e6023212759652b",
            "cda9b104d47d4080a19e8e3bfca0b635"
          ]
        },
        "outputId": "73cbd818-88aa-4388-dc40-26d78ba42171"
      },
      "outputs": [
        {
          "output_type": "display_data",
          "data": {
            "text/plain": [
              "FloatProgress(value=0.0, bar_style='info', description='Progress:', layout=Layout(height='25px', width='50%'),…"
            ],
            "application/vnd.jupyter.widget-view+json": {
              "version_major": 2,
              "version_minor": 0,
              "model_id": "5ca66bcd72e5408db3432951674df834"
            }
          },
          "metadata": {}
        },
        {
          "output_type": "stream",
          "name": "stdout",
          "text": [
            "+--------------------+----+---------+---------+---------+---------+---------+---------+---------+---------+---------+---------+---------+---------+---------+\n",
            "|                 org|year|jan_hired|feb_hired|mar_hired|apr_hired|may_hired|jun_hired|jul_hired|aug_hired|sep_hired|oct_hired|nov_hired|dec_hired|total_num|\n",
            "+--------------------+----+---------+---------+---------+---------+---------+---------+---------+---------+---------+---------+---------+---------+---------+\n",
            "| lululemon athletica|2007|        0|        0|        0|        1|        0|        0|        0|        0|        0|        0|        0|        0|        1|\n",
            "|              shoots|2008|        0|        0|        0|        0|        0|        1|        0|        0|        0|        0|        0|        0|        1|\n",
            "|National Instruments|2011|        0|        0|        1|        0|        0|        0|        1|        0|        0|        0|        0|        0|        2|\n",
            "|ICA Infotech Pvt....|2009|        0|        0|        0|        0|        0|        0|        0|        0|        0|        1|        0|        0|        1|\n",
            "|       Javelin Group|2006|        0|        0|        1|        0|        0|        0|        0|        0|        0|        0|        0|        0|        1|\n",
            "|   The Trident Group|2008|        1|        0|        0|        0|        0|        0|        0|        0|        0|        0|        0|        0|        1|\n",
            "|Toyota Technical ...|2001|        0|        0|        0|        0|        0|        0|        0|        1|        0|        0|        0|        0|        1|\n",
            "|  University of Bath|2011|        0|        0|        0|        0|        0|        1|        0|        0|        0|        0|        0|        0|        1|\n",
            "|   Evoke Media Group|2007|        1|        0|        0|        0|        0|        0|        0|        0|        0|        0|        0|        0|        1|\n",
            "| The Heating Company|2008|        1|        0|        0|        0|        0|        0|        0|        0|        0|        0|        0|        0|        1|\n",
            "|      Fact Computers|2008|        0|        0|        0|        0|        0|        0|        0|        1|        0|        0|        0|        0|        1|\n",
            "| Columbia University|2008|        1|        0|        0|        0|        0|        0|        1|        0|        0|        0|        1|        0|        3|\n",
            "|    BuySeasons, Inc.|2011|        0|        0|        0|        0|        0|        0|        0|        1|        0|        0|        0|        0|        1|\n",
            "|    EMPO Corporation|2007|        0|        0|        0|        0|        0|        0|        0|        0|        0|        0|        1|        0|        1|\n",
            "|Lifestyle Service...|2005|        0|        0|        1|        0|        1|        0|        0|        0|        0|        0|        0|        0|        2|\n",
            "|Université des Sc...|2008|        0|        0|        0|        0|        0|        0|        0|        1|        0|        0|        0|        0|        1|\n",
            "|Cardinal Health -...|2007|        1|        0|        0|        0|        0|        0|        0|        0|        0|        0|        0|        0|        1|\n",
            "|            Yelp.com|2010|        1|        1|        1|        1|        1|        0|        1|        1|        2|        2|        0|        0|       11|\n",
            "|First National Ba...|2008|        0|        0|        0|        1|        0|        0|        0|        0|        0|        0|        0|        0|        1|\n",
            "|     PPF Home Credit|2008|        0|        0|        0|        0|        1|        0|        0|        0|        0|        0|        0|        0|        1|\n",
            "+--------------------+----+---------+---------+---------+---------+---------+---------+---------+---------+---------+---------+---------+---------+---------+\n",
            "only showing top 20 rows"
          ]
        }
      ],
      "source": [
        "%%spark\n",
        "\n",
        "# TODO:\n",
        "\n",
        "start_dates_sdf.createOrReplaceTempView(\"start_dates\")\n",
        "\n",
        "query = '''\n",
        "        SELECT org,\n",
        "               year,\n",
        "               SUM(CASE WHEN month = 1 THEN num_employees ELSE 0 END) as jan_hired,\n",
        "               SUM(CASE WHEN month = 2 THEN num_employees ELSE 0 END) as feb_hired,\n",
        "               SUM(CASE WHEN month = 3 THEN num_employees ELSE 0 END) as mar_hired,\n",
        "               SUM(CASE WHEN month = 4 THEN num_employees ELSE 0 END) as apr_hired,\n",
        "               SUM(CASE WHEN month = 5 THEN num_employees ELSE 0 END) as may_hired,\n",
        "               SUM(CASE WHEN month = 6 THEN num_employees ELSE 0 END) as jun_hired,\n",
        "               SUM(CASE WHEN month = 7 THEN num_employees ELSE 0 END) as jul_hired,\n",
        "               SUM(CASE WHEN month = 8 THEN num_employees ELSE 0 END) as aug_hired,\n",
        "               SUM(CASE WHEN month = 9 THEN num_employees ELSE 0 END) as sep_hired,\n",
        "               SUM(CASE WHEN month = 10 THEN num_employees ELSE 0 END) as oct_hired,\n",
        "               SUM(CASE WHEN month = 11 THEN num_employees ELSE 0 END) as nov_hired,\n",
        "               SUM(CASE WHEN month = 12 THEN num_employees ELSE 0 END) as dec_hired,\n",
        "               SUM(num_employees) as total_num\n",
        "        FROM\n",
        "        (\n",
        "          SELECT org,\n",
        "                 date_part(\"YEAR\", start_date) AS year,\n",
        "                 date_part(\"MONTH\", start_date) AS month,\n",
        "                 num_employees\n",
        "          FROM start_dates\n",
        "        )\n",
        "        GROUP BY org, year\n",
        "        '''\n",
        "\n",
        "raw_hire_train_sdf = spark.sql(query)\n",
        "raw_hire_train_sdf.show()\n"
      ]
    },
    {
      "cell_type": "code",
      "execution_count": 48,
      "metadata": {
        "id": "1X0W1uuZXnPW",
        "colab": {
          "base_uri": "https://localhost:8080/",
          "height": 17,
          "referenced_widgets": [
            "26348c80fae74b8fa85b2d0b76ca8048",
            "6392a6146b584c77b7c06c3c1fc5bb14",
            "30a22100aea34763bd137a588c8bc85a"
          ]
        },
        "outputId": "57feae3e-b920-4adf-fc7f-9a5d4a4a7fbf"
      },
      "outputs": [
        {
          "output_type": "display_data",
          "data": {
            "text/plain": [
              "FloatProgress(value=0.0, bar_style='info', description='Progress:', layout=Layout(height='25px', width='50%'),…"
            ],
            "application/vnd.jupyter.widget-view+json": {
              "version_major": 2,
              "version_minor": 0,
              "model_id": "26348c80fae74b8fa85b2d0b76ca8048"
            }
          },
          "metadata": {}
        }
      ],
      "source": [
        "#################     DO NOT EDIT      ##################\n",
        "%%spark\n",
        "raw_hire_train_sdf.createOrReplaceTempView(\"test_2_2\")\n",
        "test_2_2_sdf = spark.sql(\"SELECT * FROM test_2_2 ORDER BY total_num DESC, org DESC, year ASC LIMIT 20\")"
      ]
    },
    {
      "cell_type": "code",
      "execution_count": 49,
      "metadata": {
        "id": "2eZv6t05X22n",
        "colab": {
          "base_uri": "https://localhost:8080/",
          "height": 17,
          "referenced_widgets": [
            "43cb1febd46447dabf58b96422179ea2",
            "fd8420424bfc46e2b6fbf042b3323173",
            "65b72005b12a41798cb6d8d5b4781fc2",
            "c8b485d016a7481e8e65d211433474f1",
            "59056e93b1c84961be066dfa094e9a47",
            "786843be331945eda8e743963a6b2d69"
          ]
        },
        "outputId": "05632451-e818-45cd-db73-abf12b55b3d4"
      },
      "outputs": [
        {
          "output_type": "display_data",
          "data": {
            "text/plain": [
              "FloatProgress(value=0.0, bar_style='info', description='Progress:', layout=Layout(height='25px', width='50%'),…"
            ],
            "application/vnd.jupyter.widget-view+json": {
              "version_major": 2,
              "version_minor": 0,
              "model_id": "43cb1febd46447dabf58b96422179ea2"
            }
          },
          "metadata": {}
        },
        {
          "output_type": "display_data",
          "data": {
            "text/plain": [
              "FloatProgress(value=0.0, bar_style='info', description='Progress:', layout=Layout(height='25px', width='50%'),…"
            ],
            "application/vnd.jupyter.widget-view+json": {
              "version_major": 2,
              "version_minor": 0,
              "model_id": "c8b485d016a7481e8e65d211433474f1"
            }
          },
          "metadata": {}
        }
      ],
      "source": [
        "#Convert to Pandas\n",
        "%spark -o test_2_2_sdf"
      ]
    },
    {
      "cell_type": "code",
      "execution_count": 50,
      "metadata": {
        "id": "8qVILDHeNG7v",
        "colab": {
          "base_uri": "https://localhost:8080/"
        },
        "outputId": "ea10ad8b-e6cc-4022-8c7d-d52f36b501d2"
      },
      "outputs": [
        {
          "output_type": "stream",
          "name": "stdout",
          "text": [
            "Correct! You earned 7/7 points. You are a star!\n",
            "\n",
            "Your submission has been successfully recorded in the gradebook.\n"
          ]
        }
      ],
      "source": [
        "## AUTOGRADER \n",
        "grader.grade(test_case_id = 'test_full_hired', answer = test_2_2_sdf)"
      ]
    },
    {
      "cell_type": "markdown",
      "metadata": {
        "id": "0UTtf0lBKsEE"
      },
      "source": [
        "### 2.3: Filtering on Company Size [3 Pts]"
      ]
    },
    {
      "cell_type": "markdown",
      "metadata": {
        "id": "KyS1QMJ9K2Xg"
      },
      "source": [
        "Create an sdf called `hire_train_sdf` that contains all the observations in `raw_hire_train_sdf` with `total_num` greater than or equal to 20. "
      ]
    },
    {
      "cell_type": "code",
      "execution_count": 51,
      "metadata": {
        "id": "4N_H11ETLNe2",
        "colab": {
          "base_uri": "https://localhost:8080/",
          "height": 483,
          "referenced_widgets": [
            "f448e433c18f4c6abe87e75c95015910",
            "520d74d2a3a04459814532e874aa70e9",
            "6eaefb3ea8bf418283a69e15023db339"
          ]
        },
        "outputId": "f9d47327-a14a-4b6b-ac5d-dbac29c458cf"
      },
      "outputs": [
        {
          "output_type": "display_data",
          "data": {
            "text/plain": [
              "FloatProgress(value=0.0, bar_style='info', description='Progress:', layout=Layout(height='25px', width='50%'),…"
            ],
            "application/vnd.jupyter.widget-view+json": {
              "version_major": 2,
              "version_minor": 0,
              "model_id": "f448e433c18f4c6abe87e75c95015910"
            }
          },
          "metadata": {}
        },
        {
          "output_type": "stream",
          "name": "stdout",
          "text": [
            "+--------------------+----+---------+---------+---------+---------+---------+---------+---------+---------+---------+---------+---------+---------+---------+\n",
            "|                 org|year|jan_hired|feb_hired|mar_hired|apr_hired|may_hired|jun_hired|jul_hired|aug_hired|sep_hired|oct_hired|nov_hired|dec_hired|total_num|\n",
            "+--------------------+----+---------+---------+---------+---------+---------+---------+---------+---------+---------+---------+---------+---------+---------+\n",
            "|     Thomson Reuters|2009|        2|        2|        3|        3|        4|        2|        3|        3|        2|        2|        2|        1|       29|\n",
            "|                KPMG|2011|        2|        4|        2|        1|        6|        7|        5|        4|        2|        8|        0|        3|       44|\n",
            "|            Deloitte|2008|        6|        4|        1|        3|        1|        9|        4|        3|       11|        4|        2|        0|       48|\n",
            "|Microsoft Corpora...|2010|        6|        1|        3|        1|        6|        2|        7|        2|        1|        5|        2|        1|       37|\n",
            "|      JPMorgan Chase|2011|        3|        1|        1|        0|        1|        7|        6|        1|        1|        2|        1|        4|       28|\n",
            "|       Cisco Systems|2006|        4|        3|        1|        3|        3|        4|        2|        3|        2|        2|        3|        0|       30|\n",
            "|            Deloitte|2005|        1|        2|        1|        2|        1|        1|        1|        4|        5|        3|        3|        1|       25|\n",
            "|           Capgemini|2007|        1|        2|        3|        2|        3|        1|        1|        2|        4|        2|        3|        0|       24|\n",
            "|              Pfizer|2010|        2|        3|        1|        4|        1|        3|        1|        0|        1|        0|        4|        2|       22|\n",
            "|    Procter & Gamble|2006|        3|        1|        1|        1|        2|        8|        2|        3|        4|        3|        0|        2|       30|\n",
            "|              VMware|2011|        2|        1|        2|        4|        5|        3|        1|        2|        1|        4|        1|        0|       26|\n",
            "|    Barclays Capital|2008|        0|        1|        2|        1|        1|        1|        2|        1|        9|        1|        1|        0|       20|\n",
            "|            Vodafone|2010|        1|        2|        3|        1|        5|        1|        2|        2|        2|        2|        3|        0|       24|\n",
            "|                HSBC|2006|        5|        1|        0|        3|        2|        4|        5|        0|        1|        3|        0|        1|       25|\n",
            "|Tata Consultancy ...|2006|        4|        2|        1|        2|        1|        2|        1|        2|        5|        2|        2|        2|       26|\n",
            "|              Oracle|2011|        2|        2|        7|        5|        2|       14|       10|        7|       16|        5|        2|        5|       77|\n",
            "|            Ericsson|2009|        4|        1|        1|        2|        1|        4|        2|        2|        3|        3|        6|        0|       29|\n",
            "|        EPAM Systems|2011|        3|        2|        2|        0|        2|        3|        3|        1|        1|        3|        3|        4|       27|\n",
            "|              Yahoo!|2007|        2|        3|        3|        5|        6|        4|        7|        6|        2|        6|        3|        1|       48|\n",
            "|                 IBM|2002|        4|        1|        1|        2|        2|        2|        4|        5|        7|        4|        1|        1|       34|\n",
            "+--------------------+----+---------+---------+---------+---------+---------+---------+---------+---------+---------+---------+---------+---------+---------+\n",
            "only showing top 20 rows"
          ]
        }
      ],
      "source": [
        "%%spark\n",
        "\n",
        "# TODO\n",
        "# Keep all rows where total_num >= 20\n",
        "\n",
        "raw_hire_train_sdf.createOrReplaceTempView(\"raw_hire_train\")\n",
        "\n",
        "query = '''\n",
        "        SELECT *\n",
        "        FROM raw_hire_train\n",
        "        WHERE total_num >= 20\n",
        "        '''\n",
        "\n",
        "hire_train_sdf = spark.sql(query)\n",
        "hire_train_sdf.show()"
      ]
    },
    {
      "cell_type": "code",
      "source": [
        "#################     DO NOT EDIT      ##################\n",
        "%%spark\n",
        "hire_train_sdf.createOrReplaceTempView(\"test_2_3\")\n",
        "test_2_3_sdf = spark.sql(\"SELECT * FROM test_2_3 ORDER BY org ASC, year ASC LIMIT 10\")"
      ],
      "metadata": {
        "id": "S7WT5TJY2Cl2",
        "colab": {
          "base_uri": "https://localhost:8080/",
          "height": 17,
          "referenced_widgets": [
            "a54283916eb047a5b9cbd67fbbb22f65",
            "c6c7f077722e47a2bd6d0038a150d54b",
            "89e9855aeca54894aff5ad6a312c7de9"
          ]
        },
        "outputId": "945068f4-c62d-4d7c-8e60-412e79c642bf"
      },
      "execution_count": 52,
      "outputs": [
        {
          "output_type": "display_data",
          "data": {
            "text/plain": [
              "FloatProgress(value=0.0, bar_style='info', description='Progress:', layout=Layout(height='25px', width='50%'),…"
            ],
            "application/vnd.jupyter.widget-view+json": {
              "version_major": 2,
              "version_minor": 0,
              "model_id": "a54283916eb047a5b9cbd67fbbb22f65"
            }
          },
          "metadata": {}
        }
      ]
    },
    {
      "cell_type": "code",
      "source": [
        "#Convert to Pandas\n",
        "%spark -o test_2_3_sdf"
      ],
      "metadata": {
        "id": "SHWFkECW2CrX",
        "colab": {
          "base_uri": "https://localhost:8080/",
          "height": 17,
          "referenced_widgets": [
            "62a78492beab4935acf5e56a147f2f0b",
            "80ba1bc082054b669f94cdcb02241143",
            "bdca3b53700448b98f34ef0ccfb1bce5",
            "20c77f4be00d451d814fcc797c8938f2",
            "5d583abe38b5469d95a70e22e1e448ac",
            "f5f055deeb0545a59069a305bcfa0eb5"
          ]
        },
        "outputId": "5055f3ae-38ef-4d1f-af4f-547b1c1ce73d"
      },
      "execution_count": 53,
      "outputs": [
        {
          "output_type": "display_data",
          "data": {
            "text/plain": [
              "FloatProgress(value=0.0, bar_style='info', description='Progress:', layout=Layout(height='25px', width='50%'),…"
            ],
            "application/vnd.jupyter.widget-view+json": {
              "version_major": 2,
              "version_minor": 0,
              "model_id": "62a78492beab4935acf5e56a147f2f0b"
            }
          },
          "metadata": {}
        },
        {
          "output_type": "display_data",
          "data": {
            "text/plain": [
              "FloatProgress(value=0.0, bar_style='info', description='Progress:', layout=Layout(height='25px', width='50%'),…"
            ],
            "application/vnd.jupyter.widget-view+json": {
              "version_major": 2,
              "version_minor": 0,
              "model_id": "20c77f4be00d451d814fcc797c8938f2"
            }
          },
          "metadata": {}
        }
      ]
    },
    {
      "cell_type": "code",
      "source": [
        "## AUTOGRADER \n",
        "grader.grade(test_case_id = 'test_sampled_hired', answer = test_2_3_sdf)"
      ],
      "metadata": {
        "id": "pQ9-jkP52CvM",
        "colab": {
          "base_uri": "https://localhost:8080/"
        },
        "outputId": "102c4df4-c8ed-425c-9feb-015f49861e02"
      },
      "execution_count": 54,
      "outputs": [
        {
          "output_type": "stream",
          "name": "stdout",
          "text": [
            "Correct! You earned 3/3 points. You are a star!\n",
            "\n",
            "Your submission has been successfully recorded in the gradebook.\n"
          ]
        }
      ]
    },
    {
      "cell_type": "markdown",
      "metadata": {
        "id": "Gof2K2iyLPju"
      },
      "source": [
        "## Step 3: Analyzing Stock Data [19 pts]"
      ]
    },
    {
      "cell_type": "markdown",
      "metadata": {
        "id": "2C4dRs7cLdz8"
      },
      "source": [
        "### 3.1: Average Closing Price [5 Pts]"
      ]
    },
    {
      "cell_type": "markdown",
      "metadata": {
        "id": "Il7RPOMuLfzg"
      },
      "source": [
        "The data in `filter_1_stocks_sdf` gives closing prices on a daily basis. Since we are interested in monthly trends, we will only keep the **average of the closing price of each month per year for each org**. \n",
        "\n",
        "Create an sdf `filter_2_stocks_sdf` that contains only the average of closing prices for each month-year pair sorted by the org alphabetically and then month, year from earliest to latest with the closing price rounded off to 3 decimal places. The format of the sdf is shown below:\n",
        "\n",
        "```\n",
        "+----+------------+--------------+--------------+\n",
        "|org |month       |year          |close         |\n",
        "+----+------------+--------------+--------------+\n",
        "|IBM |01          |2000          |...           |\n",
        "|... |...         |...           |...           |\n",
        "+----+------------+--------------+--------------+\n",
        "```"
      ]
    },
    {
      "cell_type": "code",
      "execution_count": 55,
      "metadata": {
        "id": "AezlvyLdPjLz",
        "colab": {
          "base_uri": "https://localhost:8080/",
          "height": 463,
          "referenced_widgets": [
            "04018584547b4282a864cd3abc66dde4",
            "cc7c00b7f5e4484fafafe6617e3ac0dc",
            "d0b8a0e867124e20a8a6f1ef772c5507"
          ]
        },
        "outputId": "800a85e0-4779-4a1c-ee81-41122c9856de"
      },
      "outputs": [
        {
          "output_type": "display_data",
          "data": {
            "text/plain": [
              "FloatProgress(value=0.0, bar_style='info', description='Progress:', layout=Layout(height='25px', width='50%'),…"
            ],
            "application/vnd.jupyter.widget-view+json": {
              "version_major": 2,
              "version_minor": 0,
              "model_id": "04018584547b4282a864cd3abc66dde4"
            }
          },
          "metadata": {}
        },
        {
          "output_type": "stream",
          "name": "stdout",
          "text": [
            "+---------+-----+----+------+\n",
            "|      org|month|year| close|\n",
            "+---------+-----+----+------+\n",
            "|Accenture|    2|2005|21.534|\n",
            "|Accenture|    3|2005|20.904|\n",
            "|Accenture|    4|2005|19.467|\n",
            "|Accenture|    5|2005|18.977|\n",
            "|Accenture|    6|2005|19.892|\n",
            "|Accenture|    7|2005|20.492|\n",
            "|Accenture|    8|2005|21.238|\n",
            "|Accenture|    9|2005|21.629|\n",
            "|Accenture|   10|2005|21.897|\n",
            "|Accenture|   11|2005|23.048|\n",
            "|Accenture|   12|2005|24.367|\n",
            "|Accenture|    1|2006|26.098|\n",
            "|Accenture|    2|2006|27.378|\n",
            "|Accenture|    3|2006|26.787|\n",
            "|Accenture|    4|2006|25.187|\n",
            "|Accenture|    5|2006|24.343|\n",
            "|Accenture|    6|2006|22.946|\n",
            "|Accenture|    7|2006|24.066|\n",
            "|Accenture|    8|2006|24.245|\n",
            "|Accenture|    9|2006|24.995|\n",
            "+---------+-----+----+------+\n",
            "only showing top 20 rows"
          ]
        }
      ],
      "source": [
        "%%spark\n",
        "\n",
        "# TODO\n",
        "\n",
        "filter_1_stocks_sdf.createOrReplaceTempView(\"filter_1_stocks\")\n",
        "\n",
        "query = '''\n",
        "        SELECT org, month, year, ROUND(AVG(Close), 3) as close\n",
        "        FROM\n",
        "        (\n",
        "          SELECT org,\n",
        "                 date_part(\"MONTH\", date) AS month,\n",
        "                 date_part(\"YEAR\", date) AS year,\n",
        "                 Close\n",
        "          FROM filter_1_stocks\n",
        "        )\n",
        "        GROUP BY org, year, month\n",
        "        ORDER BY org ASC, year ASC, month ASC\n",
        "        '''\n",
        "\n",
        "filter_2_stocks_sdf = spark.sql(query)\n",
        "filter_2_stocks_sdf.show()"
      ]
    },
    {
      "cell_type": "code",
      "execution_count": 56,
      "metadata": {
        "id": "L_F2dFPbLunl",
        "colab": {
          "base_uri": "https://localhost:8080/",
          "height": 17,
          "referenced_widgets": [
            "7f30fa5c00a64dd6b27f4b896977ccd2",
            "19e497725e804b50b9bb4899850665a5",
            "c2068c159e974ce0b61904415c21f064"
          ]
        },
        "outputId": "87287801-847f-4c19-d79f-159852d41c1e"
      },
      "outputs": [
        {
          "output_type": "display_data",
          "data": {
            "text/plain": [
              "FloatProgress(value=0.0, bar_style='info', description='Progress:', layout=Layout(height='25px', width='50%'),…"
            ],
            "application/vnd.jupyter.widget-view+json": {
              "version_major": 2,
              "version_minor": 0,
              "model_id": "7f30fa5c00a64dd6b27f4b896977ccd2"
            }
          },
          "metadata": {}
        }
      ],
      "source": [
        "#################     DO NOT EDIT      ##################\n",
        "%%spark\n",
        "filter_2_stocks_sdf.createOrReplaceTempView(\"test_3_1\")\n",
        "test_3_1_sdf = spark.sql(\"SELECT * FROM test_3_1 LIMIT 10\")"
      ]
    },
    {
      "cell_type": "code",
      "execution_count": 57,
      "metadata": {
        "id": "QuHm860oWrRR",
        "colab": {
          "base_uri": "https://localhost:8080/",
          "height": 17,
          "referenced_widgets": [
            "092b7ac301c540afbfb4fbda5dd437f8",
            "48fd8e4d9d3c49919b8cae1906487637",
            "3129955515e34b78a20874044066984a",
            "e7eedef3b37a46aabf506aeb2fd8ddfb",
            "5e9f56b5721a40818597e5b3476923a7",
            "a802bd9e76a145788b011b09b585e0f8"
          ]
        },
        "outputId": "998fd755-911b-4d09-be6f-2ccd4454cd70"
      },
      "outputs": [
        {
          "output_type": "display_data",
          "data": {
            "text/plain": [
              "FloatProgress(value=0.0, bar_style='info', description='Progress:', layout=Layout(height='25px', width='50%'),…"
            ],
            "application/vnd.jupyter.widget-view+json": {
              "version_major": 2,
              "version_minor": 0,
              "model_id": "092b7ac301c540afbfb4fbda5dd437f8"
            }
          },
          "metadata": {}
        },
        {
          "output_type": "display_data",
          "data": {
            "text/plain": [
              "FloatProgress(value=0.0, bar_style='info', description='Progress:', layout=Layout(height='25px', width='50%'),…"
            ],
            "application/vnd.jupyter.widget-view+json": {
              "version_major": 2,
              "version_minor": 0,
              "model_id": "e7eedef3b37a46aabf506aeb2fd8ddfb"
            }
          },
          "metadata": {}
        }
      ],
      "source": [
        "#Convert to Pandas\n",
        "%spark -o test_3_1_sdf"
      ]
    },
    {
      "cell_type": "code",
      "execution_count": 58,
      "metadata": {
        "id": "PdrOqReHW6Xl",
        "colab": {
          "base_uri": "https://localhost:8080/"
        },
        "outputId": "c0a18cca-d063-4a0f-92b5-28c9001d8bf0"
      },
      "outputs": [
        {
          "output_type": "stream",
          "name": "stdout",
          "text": [
            "Correct! You earned 5/5 points. You are a star!\n",
            "\n",
            "Your submission has been successfully recorded in the gradebook.\n"
          ]
        }
      ],
      "source": [
        "## AUTOGRADER \n",
        "grader.grade(test_case_id = 'test_summary', answer = test_3_1_sdf)"
      ]
    },
    {
      "cell_type": "markdown",
      "metadata": {
        "id": "Jx0pV9aXLteu"
      },
      "source": [
        "### 3.2: Reshape DataFrame Again! [8 Pts]"
      ]
    },
    {
      "cell_type": "markdown",
      "metadata": {
        "id": "wGrz4i0ElrHt"
      },
      "source": [
        "Now, we will begin to shape our dataframe into the format of the final training sdf.\n",
        "\n",
        "Create an sdf `filter_3_stocks_sdf` that has for a single company and a single year, the average stock price for each month in that year. This is similar to the table you created in Step 3.1. If the data is not avaliable, drop any rows containing any `null` values, in any column. The format of the sdf is shown below:\n",
        "\n",
        "```\n",
        "+----+-----+----------+---------+----------+\n",
        "|org |year |jan_stock |   ...   |dec_stock |\n",
        "+----+-----+----------+---------+----------+\n",
        "|IBM |2008 |...       |   ...   |...       |\n",
        "|IBM |2009 |...       |   ...   |...       |\n",
        "|... |...  |...       |   ...   |...       |\n",
        "+----+-----+----------+---------+----------+\n",
        "```\n"
      ]
    },
    {
      "cell_type": "code",
      "execution_count": 59,
      "metadata": {
        "id": "ua1Roj3dMCLn",
        "colab": {
          "base_uri": "https://localhost:8080/",
          "height": 483,
          "referenced_widgets": [
            "ed6bd5cad738480d944f82db07216c5d",
            "4d0cf2efaefd44e881ae6e046e1a6704",
            "92c8f12a2dd24fc286169d1b3f310343"
          ]
        },
        "outputId": "05889ec5-8182-4d22-c0e8-eb5624f456a6"
      },
      "outputs": [
        {
          "output_type": "display_data",
          "data": {
            "text/plain": [
              "FloatProgress(value=0.0, bar_style='info', description='Progress:', layout=Layout(height='25px', width='50%'),…"
            ],
            "application/vnd.jupyter.widget-view+json": {
              "version_major": 2,
              "version_minor": 0,
              "model_id": "ed6bd5cad738480d944f82db07216c5d"
            }
          },
          "metadata": {}
        },
        {
          "output_type": "stream",
          "name": "stdout",
          "text": [
            "+---------------+----+---------+---------+---------+---------+---------+---------+---------+---------+---------+---------+---------+---------+\n",
            "|            org|year|jan_stock|feb_stock|mar_stock|apr_stock|may_stock|jun_stock|jul_stock|aug_stock|sep_stock|oct_stock|nov_stock|dec_stock|\n",
            "+---------------+----+---------+---------+---------+---------+---------+---------+---------+---------+---------+---------+---------+---------+\n",
            "|      Accenture|2006|   26.098|   27.378|   26.787|   25.187|   24.343|   22.946|   24.066|   24.245|   24.995|   27.073|   28.732|   29.898|\n",
            "|      Accenture|2007|   31.454|   32.581|   30.713|   32.814|   33.465|   35.021|   36.012|   34.198|   33.552|   33.995|    30.32|   30.331|\n",
            "|      Accenture|2008|   28.881|   29.558|   29.349|   31.939|   32.483|   33.654|   34.099|   34.725|     32.2|   26.978|   25.106|   25.652|\n",
            "|      Accenture|2009|   27.857|   26.419|   24.927|   23.716|   25.384|   26.733|   28.908|   30.164|   30.327|    32.45|   33.678|   35.515|\n",
            "|      Accenture|2010|   36.051|   34.492|   35.498|   36.602|   33.878|   32.272|   33.497|   33.054|   34.135|   38.462|   37.769|   39.724|\n",
            "|      Accenture|2011|   42.572|   44.553|   44.045|   47.592|   48.367|   48.271|   52.382|   45.912|   44.821|   49.554|   49.195|   48.254|\n",
            "|      Accenture|2012|   47.313|   50.516|   54.251|   55.757|   52.218|   50.487|    51.48|   53.452|   56.877|   61.041|   59.464|   60.452|\n",
            "|             BP|2006|   47.607|   46.719|   46.802|   50.167|   50.168|   46.519|    48.36|   47.883|   45.212|   45.593|   46.271|   46.442|\n",
            "|             BP|2007|    43.83|   43.135|   42.239|   46.186|   46.428|   47.274|   50.155|    45.35|   47.573|   50.586|   50.645|   50.738|\n",
            "|             BP|2008|   46.457|   44.863|   43.211|   45.633|   50.329|   47.232|   43.508|   40.429|   36.575|   31.293|   31.715|   31.459|\n",
            "|             BP|2009|   30.597|   28.806|   26.405|   27.875|   32.238|   34.024|   33.168|   35.112|   36.968|   37.398|   40.113|   39.423|\n",
            "|             BP|2010|   41.057|   37.215|   38.796|   40.131|   32.042|    21.98|   24.481|   25.949|   26.295|   28.169|   28.925|   29.707|\n",
            "|             BP|2011|   32.351|   32.269|    31.63|   31.544|   30.619|   29.965|   31.081|   28.035|   26.044|   28.186|   30.115|   29.931|\n",
            "|             BP|2012|   31.373|   33.247|   33.082|   30.666|   28.147|   27.852|   29.412|   30.641|    31.13|   30.909|   30.583|   30.413|\n",
            "|Bank of America|2001|   21.803|   21.893|   22.792|    23.42|   24.932|    26.36|   27.132|   27.787|   25.179|   25.662|    28.04|   28.138|\n",
            "|Bank of America|2002|   27.998|   27.601|   30.778|   31.928|   34.105|    32.68|   30.083|   31.251|   30.598|   29.969|   32.033|    32.28|\n",
            "|Bank of America|2003|   33.045|   32.122|    32.13|   33.866|   34.859|   36.757|   38.756|   37.809|   36.607|   37.497|   35.474|   36.551|\n",
            "|Bank of America|2004|   37.704|   38.535|   38.023|   38.183|   38.101|   39.636|   39.857|   40.876|   41.545|   42.025|   43.634|   43.652|\n",
            "|Bank of America|2005|   42.788|   43.855|   42.624|   42.103|    43.38|   43.684|   42.321|   40.819|   40.218|   40.024|   42.725|    43.72|\n",
            "|Bank of America|2006|   42.826|   41.823|   43.461|   43.894|   46.376|   45.207|   46.746|   49.041|   49.219|   50.922|   51.244|   50.105|\n",
            "+---------------+----+---------+---------+---------+---------+---------+---------+---------+---------+---------+---------+---------+---------+\n",
            "only showing top 20 rows"
          ]
        }
      ],
      "source": [
        "%%spark\n",
        "\n",
        "#ToDo\n",
        "\n",
        "filter_2_stocks_sdf.createOrReplaceTempView(\"filter_2_stocks\")\n",
        "\n",
        "query = '''\n",
        "        SELECT *\n",
        "        FROM\n",
        "        (\n",
        "          SELECT org,\n",
        "                year,\n",
        "                SUM(CASE WHEN month = 1 THEN close ELSE 0 END) as jan_stock,\n",
        "                SUM(CASE WHEN month = 2 THEN close ELSE 0 END) as feb_stock,\n",
        "                SUM(CASE WHEN month = 3 THEN close ELSE 0 END) as mar_stock,\n",
        "                SUM(CASE WHEN month = 4 THEN close ELSE 0 END) as apr_stock,\n",
        "                SUM(CASE WHEN month = 5 THEN close ELSE 0 END) as may_stock,\n",
        "                SUM(CASE WHEN month = 6 THEN close ELSE 0 END) as jun_stock,\n",
        "                SUM(CASE WHEN month = 7 THEN close ELSE 0 END) as jul_stock,\n",
        "                SUM(CASE WHEN month = 8 THEN close ELSE 0 END) as aug_stock,\n",
        "                SUM(CASE WHEN month = 9 THEN close ELSE 0 END) as sep_stock,\n",
        "                SUM(CASE WHEN month = 10 THEN close ELSE 0 END) as oct_stock,\n",
        "                SUM(CASE WHEN month = 11 THEN close ELSE 0 END) as nov_stock,\n",
        "                SUM(CASE WHEN month = 12 THEN close ELSE 0 END) as dec_stock\n",
        "          FROM filter_2_stocks\n",
        "          WHERE org IS NOT NULL AND\n",
        "                month IS NOT NULL AND\n",
        "                year IS NOT NULL AND\n",
        "                close IS NOT NULL\n",
        "          GROUP BY org, year\n",
        "          ORDER BY org ASC, year ASC\n",
        "        )\n",
        "        WHERE 0.0 NOT IN (jan_stock, feb_stock, mar_stock, apr_stock, may_stock, jun_stock, jul_stock, aug_stock, sep_stock, oct_stock, nov_stock, dec_stock)\n",
        "        '''\n",
        "\n",
        "filter_3_stocks_sdf = spark.sql(query)\n",
        "filter_3_stocks_sdf.show()\n"
      ]
    },
    {
      "cell_type": "code",
      "execution_count": 60,
      "metadata": {
        "id": "kd94T-uUsO4K",
        "colab": {
          "base_uri": "https://localhost:8080/",
          "height": 17,
          "referenced_widgets": [
            "2dcde5247b0e4427a0b7821eb41042d3",
            "910ae1db519748a29cc847c2abdc47a7",
            "d59f7fe7b5a94e86874a0ca12c2c238d"
          ]
        },
        "outputId": "88b5563a-2981-476b-c501-2057b54145c9"
      },
      "outputs": [
        {
          "output_type": "display_data",
          "data": {
            "text/plain": [
              "FloatProgress(value=0.0, bar_style='info', description='Progress:', layout=Layout(height='25px', width='50%'),…"
            ],
            "application/vnd.jupyter.widget-view+json": {
              "version_major": 2,
              "version_minor": 0,
              "model_id": "2dcde5247b0e4427a0b7821eb41042d3"
            }
          },
          "metadata": {}
        }
      ],
      "source": [
        "#################     DO NOT EDIT      ##################\n",
        "%%spark\n",
        "filter_3_stocks_sdf.createOrReplaceTempView(\"test_3_2\")\n",
        "test_3_2_sdf = spark.sql(\"SELECT * FROM test_3_2 ORDER BY org, year ASC LIMIT 10\")"
      ]
    },
    {
      "cell_type": "code",
      "execution_count": 61,
      "metadata": {
        "id": "BlDHAk_2sO4L",
        "colab": {
          "base_uri": "https://localhost:8080/",
          "height": 17,
          "referenced_widgets": [
            "798afe2d488548feaaadc97c037edac0",
            "fb2a77ff97dc4c08a6ad9c6b68f213e1",
            "ba706201a7e847d988f31e31f14bbc72",
            "90a8a6ed6fdc4098aeb979d8823d960e",
            "d30810f86fdd4778af723c8ee008a13d",
            "6949fb84aa6a4f898a05c3c3d3399e48"
          ]
        },
        "outputId": "74867248-f291-4c46-9ba7-185ae846e3e1"
      },
      "outputs": [
        {
          "output_type": "display_data",
          "data": {
            "text/plain": [
              "FloatProgress(value=0.0, bar_style='info', description='Progress:', layout=Layout(height='25px', width='50%'),…"
            ],
            "application/vnd.jupyter.widget-view+json": {
              "version_major": 2,
              "version_minor": 0,
              "model_id": "798afe2d488548feaaadc97c037edac0"
            }
          },
          "metadata": {}
        },
        {
          "output_type": "display_data",
          "data": {
            "text/plain": [
              "FloatProgress(value=0.0, bar_style='info', description='Progress:', layout=Layout(height='25px', width='50%'),…"
            ],
            "application/vnd.jupyter.widget-view+json": {
              "version_major": 2,
              "version_minor": 0,
              "model_id": "90a8a6ed6fdc4098aeb979d8823d960e"
            }
          },
          "metadata": {}
        }
      ],
      "source": [
        "#Convert to Pandas\n",
        "%spark -o test_3_2_sdf"
      ]
    },
    {
      "cell_type": "code",
      "execution_count": 62,
      "metadata": {
        "id": "_LdVqomdsO4L",
        "colab": {
          "base_uri": "https://localhost:8080/"
        },
        "outputId": "7bf3cba0-fb9d-4db9-b255-844270a537b8"
      },
      "outputs": [
        {
          "output_type": "stream",
          "name": "stdout",
          "text": [
            "Correct! You earned 8/8 points. You are a star!\n",
            "\n",
            "Your submission has been successfully recorded in the gradebook.\n"
          ]
        }
      ],
      "source": [
        "## AUTOGRADER \n",
        "grader.grade(test_case_id = 'test_ravel_sdf', answer = test_3_2_sdf)"
      ]
    },
    {
      "cell_type": "markdown",
      "metadata": {
        "id": "cvfNnKKWMPKT"
      },
      "source": [
        "### 3.3: Direction of Change [6 Pts]"
      ]
    },
    {
      "cell_type": "markdown",
      "metadata": {
        "id": "zexvWfC2ML94"
      },
      "source": [
        "The final element in our training set is the binary output for each case, i.e. the `y` label. \n",
        "\n",
        "Create an sdf `stocks_train_sdf` from `filter_3_stocks_sdf` with an additional column `direction`. This should be the direction of percentage change in the closing stock price, i.e. `1` for positive or `-1` for negative, from the first month of a given year to the last month of the given year. Make this an **integer**.  The year begins in January and ends in December, inclusive. The format of the sdf is shown below:\n",
        "\n",
        "```\n",
        "+----+-----+----------+---------+----------+-------------+\n",
        "|org |year |jan_stock |   ...   |dec_stock |direction    |\n",
        "+----+-----+----------+---------+----------+-------------+\n",
        "|IBM |2008 |...       |   ...   |...       |1            |\n",
        "|IBM |2009 |...       |   ...   |...       |-1           |\n",
        "|... |...  |...       |   ...   |...       |...          |\n",
        "+----+-----+----------+---------+----------+-------------+\n",
        "```"
      ]
    },
    {
      "cell_type": "code",
      "execution_count": 63,
      "metadata": {
        "id": "dE1z8nrBtq0t",
        "colab": {
          "base_uri": "https://localhost:8080/",
          "height": 483,
          "referenced_widgets": [
            "8f65502597b841998838ed14998fd931",
            "caaffb7fdec8490e9c72a95ca6e4ba9c",
            "21b8b651b8684dbab7571d041aff28cd"
          ]
        },
        "outputId": "3df9d0e1-f6cf-4497-9566-359ef96f952a"
      },
      "outputs": [
        {
          "output_type": "display_data",
          "data": {
            "text/plain": [
              "FloatProgress(value=0.0, bar_style='info', description='Progress:', layout=Layout(height='25px', width='50%'),…"
            ],
            "application/vnd.jupyter.widget-view+json": {
              "version_major": 2,
              "version_minor": 0,
              "model_id": "8f65502597b841998838ed14998fd931"
            }
          },
          "metadata": {}
        },
        {
          "output_type": "stream",
          "name": "stdout",
          "text": [
            "+---------------+----+---------+---------+---------+---------+---------+---------+---------+---------+---------+---------+---------+---------+---------+\n",
            "|            org|year|jan_stock|feb_stock|mar_stock|apr_stock|may_stock|jun_stock|jul_stock|aug_stock|sep_stock|oct_stock|nov_stock|dec_stock|direction|\n",
            "+---------------+----+---------+---------+---------+---------+---------+---------+---------+---------+---------+---------+---------+---------+---------+\n",
            "|      Accenture|2006|   26.098|   27.378|   26.787|   25.187|   24.343|   22.946|   24.066|   24.245|   24.995|   27.073|   28.732|   29.898|        1|\n",
            "|      Accenture|2007|   31.454|   32.581|   30.713|   32.814|   33.465|   35.021|   36.012|   34.198|   33.552|   33.995|    30.32|   30.331|       -1|\n",
            "|      Accenture|2008|   28.881|   29.558|   29.349|   31.939|   32.483|   33.654|   34.099|   34.725|     32.2|   26.978|   25.106|   25.652|       -1|\n",
            "|      Accenture|2009|   27.857|   26.419|   24.927|   23.716|   25.384|   26.733|   28.908|   30.164|   30.327|    32.45|   33.678|   35.515|        1|\n",
            "|      Accenture|2010|   36.051|   34.492|   35.498|   36.602|   33.878|   32.272|   33.497|   33.054|   34.135|   38.462|   37.769|   39.724|        1|\n",
            "|      Accenture|2011|   42.572|   44.553|   44.045|   47.592|   48.367|   48.271|   52.382|   45.912|   44.821|   49.554|   49.195|   48.254|        1|\n",
            "|      Accenture|2012|   47.313|   50.516|   54.251|   55.757|   52.218|   50.487|    51.48|   53.452|   56.877|   61.041|   59.464|   60.452|        1|\n",
            "|             BP|2006|   47.607|   46.719|   46.802|   50.167|   50.168|   46.519|    48.36|   47.883|   45.212|   45.593|   46.271|   46.442|       -1|\n",
            "|             BP|2007|    43.83|   43.135|   42.239|   46.186|   46.428|   47.274|   50.155|    45.35|   47.573|   50.586|   50.645|   50.738|        1|\n",
            "|             BP|2008|   46.457|   44.863|   43.211|   45.633|   50.329|   47.232|   43.508|   40.429|   36.575|   31.293|   31.715|   31.459|       -1|\n",
            "|             BP|2009|   30.597|   28.806|   26.405|   27.875|   32.238|   34.024|   33.168|   35.112|   36.968|   37.398|   40.113|   39.423|        1|\n",
            "|             BP|2010|   41.057|   37.215|   38.796|   40.131|   32.042|    21.98|   24.481|   25.949|   26.295|   28.169|   28.925|   29.707|       -1|\n",
            "|             BP|2011|   32.351|   32.269|    31.63|   31.544|   30.619|   29.965|   31.081|   28.035|   26.044|   28.186|   30.115|   29.931|       -1|\n",
            "|             BP|2012|   31.373|   33.247|   33.082|   30.666|   28.147|   27.852|   29.412|   30.641|    31.13|   30.909|   30.583|   30.413|       -1|\n",
            "|Bank of America|2001|   21.803|   21.893|   22.792|    23.42|   24.932|    26.36|   27.132|   27.787|   25.179|   25.662|    28.04|   28.138|        1|\n",
            "|Bank of America|2002|   27.998|   27.601|   30.778|   31.928|   34.105|    32.68|   30.083|   31.251|   30.598|   29.969|   32.033|    32.28|        1|\n",
            "|Bank of America|2003|   33.045|   32.122|    32.13|   33.866|   34.859|   36.757|   38.756|   37.809|   36.607|   37.497|   35.474|   36.551|        1|\n",
            "|Bank of America|2004|   37.704|   38.535|   38.023|   38.183|   38.101|   39.636|   39.857|   40.876|   41.545|   42.025|   43.634|   43.652|        1|\n",
            "|Bank of America|2005|   42.788|   43.855|   42.624|   42.103|    43.38|   43.684|   42.321|   40.819|   40.218|   40.024|   42.725|    43.72|        1|\n",
            "|Bank of America|2006|   42.826|   41.823|   43.461|   43.894|   46.376|   45.207|   46.746|   49.041|   49.219|   50.922|   51.244|   50.105|        1|\n",
            "+---------------+----+---------+---------+---------+---------+---------+---------+---------+---------+---------+---------+---------+---------+---------+\n",
            "only showing top 20 rows"
          ]
        }
      ],
      "source": [
        "%%spark\n",
        "\n",
        "#ToDo\n",
        "\n",
        "filter_3_stocks_sdf.createOrReplaceTempView(\"filter_3_stocks\")\n",
        "\n",
        "query = '''\n",
        "        SELECT *,\n",
        "               CASE WHEN ((dec_stock - jan_stock) / jan_stock) > 0 THEN 1 ELSE -1 END AS direction\n",
        "        FROM filter_3_stocks\n",
        "        '''\n",
        "\n",
        "stocks_train_sdf = spark.sql(query)\n",
        "stocks_train_sdf.show()"
      ]
    },
    {
      "cell_type": "code",
      "execution_count": 64,
      "metadata": {
        "id": "xKSknoxMtq0u",
        "colab": {
          "base_uri": "https://localhost:8080/",
          "height": 17,
          "referenced_widgets": [
            "d1caedd4837a493aa6500ce88290c8b8",
            "ef2a11105ea04a7b90beb9e394ce48a1",
            "3caccbd81ff64a37a76ac8bfca2d746d"
          ]
        },
        "outputId": "b4c46198-eaa6-4446-c91b-175ef1f830ce"
      },
      "outputs": [
        {
          "output_type": "display_data",
          "data": {
            "text/plain": [
              "FloatProgress(value=0.0, bar_style='info', description='Progress:', layout=Layout(height='25px', width='50%'),…"
            ],
            "application/vnd.jupyter.widget-view+json": {
              "version_major": 2,
              "version_minor": 0,
              "model_id": "d1caedd4837a493aa6500ce88290c8b8"
            }
          },
          "metadata": {}
        }
      ],
      "source": [
        "#################     DO NOT EDIT      ##################\n",
        "%%spark\n",
        "stocks_train_sdf.createOrReplaceTempView(\"test_3_3\")\n",
        "test_3_3_sdf = spark.sql(\"SELECT * FROM test_3_3 ORDER BY org, year ASC LIMIT 10\")"
      ]
    },
    {
      "cell_type": "code",
      "execution_count": 65,
      "metadata": {
        "id": "7IBswLWQtq0u",
        "colab": {
          "base_uri": "https://localhost:8080/",
          "height": 17,
          "referenced_widgets": [
            "d559fcc3b48d432aa33b1f7377c1eb40",
            "aaf72015e4a446bc98d977e93ab750a4",
            "4a29754bf24f4d11859bf14c1efd82d5",
            "1bca82787d52449faf59352fe7da50ca",
            "ff31db5aebb2420ba4def820a5a50c4e",
            "9f777f4b020e440eab875f3c0cc1e23a"
          ]
        },
        "outputId": "ecb652ea-f073-4cee-ecef-e1a0567d2592"
      },
      "outputs": [
        {
          "output_type": "display_data",
          "data": {
            "text/plain": [
              "FloatProgress(value=0.0, bar_style='info', description='Progress:', layout=Layout(height='25px', width='50%'),…"
            ],
            "application/vnd.jupyter.widget-view+json": {
              "version_major": 2,
              "version_minor": 0,
              "model_id": "d559fcc3b48d432aa33b1f7377c1eb40"
            }
          },
          "metadata": {}
        },
        {
          "output_type": "display_data",
          "data": {
            "text/plain": [
              "FloatProgress(value=0.0, bar_style='info', description='Progress:', layout=Layout(height='25px', width='50%'),…"
            ],
            "application/vnd.jupyter.widget-view+json": {
              "version_major": 2,
              "version_minor": 0,
              "model_id": "1bca82787d52449faf59352fe7da50ca"
            }
          },
          "metadata": {}
        }
      ],
      "source": [
        "#Convert to Pandas\n",
        "%spark -o test_3_3_sdf"
      ]
    },
    {
      "cell_type": "code",
      "execution_count": 66,
      "metadata": {
        "id": "XgnjOxhwtq0u",
        "colab": {
          "base_uri": "https://localhost:8080/"
        },
        "outputId": "353f1826-8bd2-4c01-b19a-ca77e868f069"
      },
      "outputs": [
        {
          "output_type": "stream",
          "name": "stdout",
          "text": [
            "Correct! You earned 6/6 points. You are a star!\n",
            "\n",
            "Your submission has been successfully recorded in the gradebook.\n"
          ]
        }
      ],
      "source": [
        "## AUTOGRADER \n",
        "grader.grade(test_case_id = 'test_train_sdf', answer = test_3_3_sdf)"
      ]
    },
    {
      "cell_type": "markdown",
      "metadata": {
        "id": "940sP2rwMd4U"
      },
      "source": [
        "## Step 4: Combining LinkedIn and Stocks Data [10 pts]"
      ]
    },
    {
      "cell_type": "markdown",
      "source": [
        "### 4.1: The CRAZY Combination"
      ],
      "metadata": {
        "id": "HV_B1aceHd5V"
      }
    },
    {
      "cell_type": "markdown",
      "metadata": {
        "id": "oWDGktQ3Ms4b"
      },
      "source": [
        "Now that we have individually created the two halves of our training data we will merge them together to create the combined final training sdf.\n",
        "\n",
        "Create an sdf called `training_sdf` in the format of the one shown at the beginning of Step 3. Note that in our definition for the `stock_result` column, the `stock_result` value for a particular year corresponds to the direction of the stock percentage change in the **following** year. For example, the stock_result in the `2008` row for `IBM` will contain the direction of IBM's stock in the year 2009. For the final training dataframe, we only need the entries for the companies where both hiring and stock data are available for the particular year.\n",
        "The format of the sdf is shown below:\n",
        "```\n",
        "+----+-----+----------+---------+----------+----------+---------+----------+-------------+\n",
        "|org |year |jan_hired |   ...   |dec_hired |jan_stock |   ...   |dec_stock |stock_result |\n",
        "+----+-----+----------+---------+----------+----------+---------+----------+-------------+\n",
        "|IBM |2008 |...       |   ...   |...       |...       |   ...   |...       |-1           |\n",
        "|IBM |2009 |...       |   ...   |...       |...       |   ...   |...       |1            |\n",
        "|... |...  |...       |   ...   |...       |...       |   ...   |...       |...          |\n",
        "+----+-----+----------+---------+----------+----------+---------+----------+-------------+\n",
        "```"
      ]
    },
    {
      "cell_type": "code",
      "execution_count": 67,
      "metadata": {
        "id": "eGYVAagkM0KC",
        "colab": {
          "base_uri": "https://localhost:8080/",
          "height": 483,
          "referenced_widgets": [
            "8064c5900bf4469f941e1c02468e2e7f",
            "2eaba4dddedd4b2e8895ea44ed8765d3",
            "b124c0d59cbc4fc7b15aa4c53851c839"
          ]
        },
        "outputId": "9556b4a9-94b3-4101-e243-120484a2e0b4"
      },
      "outputs": [
        {
          "output_type": "display_data",
          "data": {
            "text/plain": [
              "FloatProgress(value=0.0, bar_style='info', description='Progress:', layout=Layout(height='25px', width='50%'),…"
            ],
            "application/vnd.jupyter.widget-view+json": {
              "version_major": 2,
              "version_minor": 0,
              "model_id": "8064c5900bf4469f941e1c02468e2e7f"
            }
          },
          "metadata": {}
        },
        {
          "output_type": "stream",
          "name": "stdout",
          "text": [
            "+----------------+----+---------+---------+---------+---------+---------+---------+---------+---------+---------+---------+---------+---------+---------+---------+---------+---------+---------+---------+---------+---------+---------+---------+---------+---------+------------+\n",
            "|             org|year|jan_hired|feb_hired|mar_hired|apr_hired|may_hired|jun_hired|jul_hired|aug_hired|sep_hired|oct_hired|nov_hired|dec_hired|jan_stock|feb_stock|mar_stock|apr_stock|may_stock|jun_stock|jul_stock|aug_stock|sep_stock|oct_stock|nov_stock|dec_stock|stock_result|\n",
            "+----------------+----+---------+---------+---------+---------+---------+---------+---------+---------+---------+---------+---------+---------+---------+---------+---------+---------+---------+---------+---------+---------+---------+---------+---------+---------+------------+\n",
            "|       Accenture|2006|        7|        5|        3|        3|        4|       11|        7|        6|       10|        9|        5|        3|   26.098|   27.378|   26.787|   25.187|   24.343|   22.946|   24.066|   24.245|   24.995|   27.073|   28.732|   29.898|          -1|\n",
            "|       Accenture|2007|        8|        5|        6|        5|        8|       12|        6|        9|        9|        7|       12|        3|   31.454|   32.581|   30.713|   32.814|   33.465|   35.021|   36.012|   34.198|   33.552|   33.995|    30.32|   30.331|          -1|\n",
            "|       Accenture|2008|        4|        6|        4|        4|        4|        8|        7|        6|       10|        3|        1|        3|   28.881|   29.558|   29.349|   31.939|   32.483|   33.654|   34.099|   34.725|     32.2|   26.978|   25.106|   25.652|           1|\n",
            "|       Accenture|2009|        3|        2|        1|        1|        0|        3|        5|        4|       11|        4|        1|        4|   27.857|   26.419|   24.927|   23.716|   25.384|   26.733|   28.908|   30.164|   30.327|    32.45|   33.678|   35.515|           1|\n",
            "|       Accenture|2010|        7|        7|        9|        7|       10|        7|        9|       10|       14|        9|       10|        9|   36.051|   34.492|   35.498|   36.602|   33.878|   32.272|   33.497|   33.054|   34.135|   38.462|   37.769|   39.724|           1|\n",
            "|       Accenture|2011|       10|        3|        7|        3|        4|        7|        7|        7|       19|        8|        8|        1|   42.572|   44.553|   44.045|   47.592|   48.367|   48.271|   52.382|   45.912|   44.821|   49.554|   49.195|   48.254|           1|\n",
            "| Bank of America|2006|        7|        1|        1|        4|        3|        2|        5|        1|        0|        1|        0|        1|   42.826|   41.823|   43.461|   43.894|   46.376|   45.207|   46.746|   49.041|   49.219|   50.922|   51.244|   50.105|          -1|\n",
            "| Bank of America|2007|        3|        3|        2|        4|        0|        2|        4|        5|        3|        2|        1|        2|   50.052|   50.065|   47.825|    47.95|   48.178|   47.003|   45.857|   46.812|   47.305|   47.203|   41.632|   40.689|          -1|\n",
            "| Bank of America|2008|        0|        2|        0|        5|        2|        3|        3|        2|        1|        3|        1|        0|    37.31|   40.194|   36.054|   35.857|   34.348|   27.125|   24.709|   29.051|   30.665|   23.615|   16.189|   13.635|           1|\n",
            "| Bank of America|2009|        6|        2|        3|        2|        0|        2|        4|        1|        4|        3|        0|        1|    8.831|    4.822|    5.399|    8.237|   10.837|   11.692|   12.069|   15.927|   16.091|   15.773|    14.82|   14.514|          -1|\n",
            "| Bank of America|2010|        4|        3|        3|        2|        3|        3|        5|        2|        3|        6|        2|        1|   15.067|   14.552|   16.119|   17.366|   15.486|   14.522|   13.515|   12.498|    12.67|   11.678|   11.086|   11.846|          -1|\n",
            "| Bank of America|2011|        6|        4|        5|        0|        0|        5|        2|        2|        2|        0|        0|        3|   13.482|   13.666|   13.117|   12.185|   11.271|   10.218|    9.631|     7.29|    6.475|    6.035|    5.606|    5.172|           1|\n",
            "|Barclays Capital|2008|        0|        1|        2|        1|        1|        1|        2|        1|        9|        1|        1|        0|   29.806|   29.443|   27.993|   29.727|   26.613|   20.233|   19.248|   20.818|   20.253|   13.134|    8.101|    7.177|           1|\n",
            "|Barclays Capital|2010|        3|        2|        2|        2|        1|        8|        2|        3|        4|        2|        0|        0|   15.187|    14.46|   16.674|   17.686|   14.306|   13.688|   14.674|   15.791|   15.314|   14.456|   13.916|   13.149|          -1|\n",
            "|Barclays Capital|2011|        2|        1|        5|        3|        2|        2|        4|        3|        1|        2|        0|        0|   14.549|   16.008|   15.218|   15.361|   14.331|   13.232|   11.997|    9.145|    7.891|    8.992|    8.722|    8.959|           1|\n",
            "|   Cisco Systems|2006|        4|        3|        1|        3|        3|        4|        2|        3|        2|        2|        3|        0|     15.4|   15.993|   17.564|   17.384|   17.121|   16.376|   15.173|   16.488|   18.727|   19.953|   21.578|   22.486|           1|\n",
            "|   Cisco Systems|2007|        3|        2|        1|        1|        7|        6|        1|        3|        2|        3|        2|        3|   22.611|   22.549|    21.44|   21.813|   22.007|   22.276|    24.14|   25.156|   26.544|   26.764|   24.614|   23.139|          -1|\n",
            "|   Cisco Systems|2008|        4|        1|        3|        2|        4|        4|        3|        1|        3|        1|        0|        1|   20.813|   19.605|   20.332|   20.258|   21.481|   21.104|   18.228|   19.856|   18.955|   15.163|   13.687|   13.571|           1|\n",
            "|   Cisco Systems|2009|        1|        3|        0|        2|        2|        3|        3|        1|        6|        1|        3|        3|   13.485|   12.849|   12.948|   14.818|   15.421|   15.947|   16.671|    17.99|   18.797|   19.568|   19.535|   19.682|          -1|\n",
            "|   Cisco Systems|2010|        4|        6|        1|        5|        7|        3|        4|        8|        5|        6|        2|        0|   19.825|    19.68|   21.432|   22.183|   20.523|   18.871|   18.859|   18.484|   17.656|   18.896|   17.566|   16.249|          -1|\n",
            "+----------------+----+---------+---------+---------+---------+---------+---------+---------+---------+---------+---------+---------+---------+---------+---------+---------+---------+---------+---------+---------+---------+---------+---------+---------+---------+------------+\n",
            "only showing top 20 rows"
          ]
        }
      ],
      "source": [
        "%%spark\n",
        "\n",
        "#ToDo\n",
        "\n",
        "hire_train_sdf.createOrReplaceTempView(\"hire_train\")\n",
        "stocks_train_sdf.createOrReplaceTempView(\"stocks_train\")\n",
        "\n",
        "query = '''\n",
        "        WITH stocks_clean AS\n",
        "        (\n",
        "          SELECT org, year, direction as stock_result\n",
        "          FROM stocks_train\n",
        "        )\n",
        "        SELECT a1.*, s1.stock_result\n",
        "        FROM\n",
        "        (\n",
        "          SELECT h.org,\n",
        "                h.year, \n",
        "                jan_hired, \n",
        "                feb_hired, \n",
        "                mar_hired, \n",
        "                apr_hired, \n",
        "                may_hired, \n",
        "                jun_hired, \n",
        "                jul_hired, \n",
        "                aug_hired, \n",
        "                sep_hired, \n",
        "                oct_hired, \n",
        "                nov_hired, \n",
        "                dec_hired, \n",
        "                jan_stock,\n",
        "                feb_stock,\n",
        "                mar_stock,\n",
        "                apr_stock,\n",
        "                may_stock,\n",
        "                jun_stock,\n",
        "                jul_stock,\n",
        "                aug_stock,\n",
        "                sep_stock,\n",
        "                oct_stock,\n",
        "                nov_stock,\n",
        "                dec_stock\n",
        "          FROM hire_train AS h\n",
        "          INNER JOIN stocks_train AS s\n",
        "          ON h.org = s.org AND h.year = s.year\n",
        "        ) AS a1\n",
        "        INNER JOIN stocks_clean AS s1\n",
        "        ON a1.org = s1.org AND a1.year + 1 = s1.year\n",
        "        ORDER BY org ASC, year ASC\n",
        "        '''\n",
        "\n",
        "training_sdf = spark.sql(query)\n",
        "training_sdf.show()"
      ]
    },
    {
      "cell_type": "code",
      "source": [
        "#################     DO NOT EDIT      ##################\n",
        "%%spark\n",
        "training_sdf.createOrReplaceTempView(\"test_4\")\n",
        "test_4_sdf = spark.sql(\"SELECT * FROM test_4 ORDER BY org, year ASC LIMIT 10\")"
      ],
      "metadata": {
        "id": "Zq4S0CDDMLNn",
        "colab": {
          "base_uri": "https://localhost:8080/",
          "height": 17,
          "referenced_widgets": [
            "f2d345a516c345d7b462bb604951c06b",
            "3bc00912d2bf4374a4ecba2709bba6c8",
            "161df0f0f4204106b631e7f293881874"
          ]
        },
        "outputId": "35913789-38e9-4d94-aa82-89e45239545b"
      },
      "execution_count": 68,
      "outputs": [
        {
          "output_type": "display_data",
          "data": {
            "text/plain": [
              "FloatProgress(value=0.0, bar_style='info', description='Progress:', layout=Layout(height='25px', width='50%'),…"
            ],
            "application/vnd.jupyter.widget-view+json": {
              "version_major": 2,
              "version_minor": 0,
              "model_id": "f2d345a516c345d7b462bb604951c06b"
            }
          },
          "metadata": {}
        }
      ]
    },
    {
      "cell_type": "code",
      "source": [
        "#Convert to Pandas\n",
        "%spark -o test_4_sdf"
      ],
      "metadata": {
        "id": "mkh67PtMMZXl",
        "colab": {
          "base_uri": "https://localhost:8080/",
          "height": 17,
          "referenced_widgets": [
            "2ea080e16b1446eaa65765f3627cad49",
            "17f64f6e6bb74139a628c87e5289a4ac",
            "5e64df299eca4339abfd7ca4af484396",
            "99aefafc3dc640e3a90dd8e9c261e8a9",
            "a44691be90834b91950c68e9258887d8",
            "aa673d1dc48443629f2b0dac713544cc"
          ]
        },
        "outputId": "ec445d8f-2979-48a9-e363-8124a46c0145"
      },
      "execution_count": 69,
      "outputs": [
        {
          "output_type": "display_data",
          "data": {
            "text/plain": [
              "FloatProgress(value=0.0, bar_style='info', description='Progress:', layout=Layout(height='25px', width='50%'),…"
            ],
            "application/vnd.jupyter.widget-view+json": {
              "version_major": 2,
              "version_minor": 0,
              "model_id": "2ea080e16b1446eaa65765f3627cad49"
            }
          },
          "metadata": {}
        },
        {
          "output_type": "display_data",
          "data": {
            "text/plain": [
              "FloatProgress(value=0.0, bar_style='info', description='Progress:', layout=Layout(height='25px', width='50%'),…"
            ],
            "application/vnd.jupyter.widget-view+json": {
              "version_major": 2,
              "version_minor": 0,
              "model_id": "99aefafc3dc640e3a90dd8e9c261e8a9"
            }
          },
          "metadata": {}
        }
      ]
    },
    {
      "cell_type": "code",
      "source": [
        "## AUTOGRADER \n",
        "grader.grade(test_case_id = 'test_merged_training_sdf', answer = test_4_sdf)"
      ],
      "metadata": {
        "id": "CEJ6XbZfMd9n",
        "colab": {
          "base_uri": "https://localhost:8080/"
        },
        "outputId": "0a207ea7-889a-423a-a706-a6384e997f31"
      },
      "execution_count": 70,
      "outputs": [
        {
          "output_type": "stream",
          "name": "stdout",
          "text": [
            "Correct! You earned 10/10 points. You are a star!\n",
            "\n",
            "Your submission has been successfully recorded in the gradebook.\n"
          ]
        }
      ]
    },
    {
      "cell_type": "markdown",
      "metadata": {
        "id": "rGyXyvhBDr0-"
      },
      "source": [
        "## Step 5: Twitter followers [27 Pts]\n",
        "\n",
        "In this section, we will be working with a dummy dataset representing connections on twitter, where each row consists of a person A, and a person B, such that person A follows person B. \n",
        "\n",
        "Let's introduce a fun little concept called the Bacon Number! The Bacon number of an actor or actress is the number of degrees of separation they have from actor Kevin Bacon, as defined by the game known as Six Degrees of Kevin Bacon. For example, Kevin Bacon's Bacon number is 0. If an actor works in a movie with Kevin Bacon, the actor's Bacon number is 1. If an actor works with an actor who worked with Kevin Bacon in a movie, the first actor's Bacon number is 2, and so forth.\n",
        "\n",
        "How do we implement the \"Super Bacon\" for our dataset though? We define this number as follows: if person A follows person B, and person B follows person C, then the super bacon of C with respect to A will be 2.\n",
        "\n",
        "Now to calculate this number, we'll use the concepts of graphs and BFS!"
      ]
    },
    {
      "cell_type": "code",
      "execution_count": 71,
      "metadata": {
        "id": "E_i8gCbAEuHW",
        "colab": {
          "base_uri": "https://localhost:8080/"
        },
        "outputId": "9fe557a1-7aa0-4a35-ae05-a3b27ccf4704"
      },
      "outputs": [
        {
          "output_type": "stream",
          "name": "stdout",
          "text": [
            "Looking in indexes: https://pypi.org/simple, https://us-python.pkg.dev/colab-wheels/public/simple/\n",
            "Collecting pyspark\n",
            "  Downloading pyspark-3.3.2.tar.gz (281.4 MB)\n",
            "\u001b[2K     \u001b[90m━━━━━━━━━━━━━━━━━━━━━━━━━━━━━━━━━━━━━━━\u001b[0m \u001b[32m281.4/281.4 MB\u001b[0m \u001b[31m5.3 MB/s\u001b[0m eta \u001b[36m0:00:00\u001b[0m\n",
            "\u001b[?25h  Preparing metadata (setup.py) ... \u001b[?25l\u001b[?25hdone\n",
            "Collecting py4j==0.10.9.5\n",
            "  Downloading py4j-0.10.9.5-py2.py3-none-any.whl (199 kB)\n",
            "\u001b[2K     \u001b[90m━━━━━━━━━━━━━━━━━━━━━━━━━━━━━━━━━━━━━━\u001b[0m \u001b[32m199.7/199.7 KB\u001b[0m \u001b[31m25.7 MB/s\u001b[0m eta \u001b[36m0:00:00\u001b[0m\n",
            "\u001b[?25hBuilding wheels for collected packages: pyspark\n",
            "  Building wheel for pyspark (setup.py) ... \u001b[?25l\u001b[?25hdone\n",
            "  Created wheel for pyspark: filename=pyspark-3.3.2-py2.py3-none-any.whl size=281824028 sha256=febdc59e3e75894818421682f11cda858385daeeba9d2c4797c5fdbd3f9dd6fb\n",
            "  Stored in directory: /root/.cache/pip/wheels/6c/e3/9b/0525ce8a69478916513509d43693511463c6468db0de237c86\n",
            "Successfully built pyspark\n",
            "Installing collected packages: py4j, pyspark\n",
            "  Attempting uninstall: py4j\n",
            "    Found existing installation: py4j 0.10.9.7\n",
            "    Uninstalling py4j-0.10.9.7:\n",
            "      Successfully uninstalled py4j-0.10.9.7\n",
            "Successfully installed py4j-0.10.9.5 pyspark-3.3.2\n"
          ]
        }
      ],
      "source": [
        "!pip install pyspark"
      ]
    },
    {
      "cell_type": "code",
      "execution_count": 72,
      "metadata": {
        "id": "s7AlDICWEt7e"
      },
      "outputs": [],
      "source": [
        "from pyspark.sql import SparkSession\n",
        "\n",
        "appName = \"PySpark\"\n",
        "\n",
        "# Create Spark session\n",
        "spark = SparkSession.builder.appName(appName).getOrCreate()"
      ]
    },
    {
      "cell_type": "markdown",
      "metadata": {
        "id": "zkJ2eyNrDtUl"
      },
      "source": [
        "### 5.1: “Traversing” a Graph\n",
        "\n",
        "Let's review how BFS works!"
      ]
    },
    {
      "cell_type": "code",
      "execution_count": 73,
      "metadata": {
        "id": "sH6pKfJJEzpu"
      },
      "outputs": [],
      "source": [
        "import pandas as pd\n",
        "from IPython.display import Image as I\n",
        "\n",
        "bfsgif =\\\n",
        "'https://upload.wikimedia.org/wikipedia/commons/5/5d/Breadth-First-S'+\\\n",
        "'earch-Algorithm.gif'\n",
        "dfsgif=\\\n",
        "'https://upload.wikimedia.org/wikipedia/commons/7/7f/Depth-First-Search.gif'"
      ]
    },
    {
      "cell_type": "markdown",
      "metadata": {
        "id": "Oo3y1k4EDyod"
      },
      "source": [
        "\n",
        "#### 5.1.1 Intro to Distributed Breadth-First Search\n",
        "\n",
        "\n",
        "To start off, we will be implementing a graph traversal algorithm known as Breadth First Search. It works in a way that's equivalent to how a stain spreads on a white t-shirt. Take a look at the graph below:\n",
        "\n",
        "<p align = \"center\">\n",
        "<img src = \"https://imgur.com/WU3AUwg.png\" width= \"600\" align =\"center\"/>\n",
        "\n",
        "* Consider starting BFS from point A (green). This is considered the starting frontier/singular origin node.\n",
        "* The first round of BFS would involve finding all the nodes directly reachable from A, namely B-F (blue circles). These blue nodes make up the next frontier at depth 1 away from our starting node A.\n",
        "* The second round would then be identifying the red nodes which are the neighbors of the blue nodes. Now, the red nodes all belong to a frontier 2 depth away from A. Note that node A is also a neighbor of a blue node. However, since it has already been visited, it does not get added to this frontier.\n",
        "\n",
        "This process continues until all the nodes in the graph have been visited.\n",
        "If you would like to learn more about BFS, we highly suggest looking [here](https://www.tutorialspoint.com/data_structures_algorithms/breadth_first_traversal.htm).\n",
        "\n",
        "\n",
        "We will now be implementing **spark_bfs(G, N, d)**, our spark flavor of BFS that takes a graph **G**, a set of origin nodes **N**, and a max depth **d**.\n",
        "\n",
        "In order to write a successful BFS function, you are going to need to figure out \n",
        "1. how to keep track of nodes that we have visited\n",
        "2. how to properly find all the nodes at the next depth\n",
        "3. how to avoid cycles and ensure that we do not constantly loop through the same edges (take a look at J-K in the graph)"
      ]
    },
    {
      "cell_type": "markdown",
      "metadata": {
        "id": "NYjIiz_0E7Aw"
      },
      "source": [
        "#### [OPTIONAL/ADDITIONAL] BFS vs. DFS Animation \n",
        "Run the code cells below to understand the difference between depth and breadth first search! (Source: Wikimedia Commons)"
      ]
    },
    {
      "cell_type": "code",
      "execution_count": 74,
      "metadata": {
        "id": "1wteWWS7E3KK",
        "colab": {
          "base_uri": "https://localhost:8080/",
          "height": 539
        },
        "outputId": "9b59b791-4755-4ac1-e4af-9c5a5325c76c"
      },
      "outputs": [
        {
          "output_type": "stream",
          "name": "stdout",
          "text": [
            "BFS:\n"
          ]
        },
        {
          "output_type": "execute_result",
          "data": {
            "text/html": [
              "<img src=\"https://upload.wikimedia.org/wikipedia/commons/5/5d/Breadth-First-Search-Algorithm.gif\"/>"
            ],
            "text/plain": [
              "<IPython.core.display.Image object>"
            ]
          },
          "metadata": {},
          "execution_count": 74
        }
      ],
      "source": [
        "# NOT GRADED\n",
        "print('BFS:')\n",
        "I(url=bfsgif)"
      ]
    },
    {
      "cell_type": "code",
      "execution_count": 75,
      "metadata": {
        "id": "2-S7vJ9pE40i",
        "colab": {
          "base_uri": "https://localhost:8080/",
          "height": 539
        },
        "outputId": "59888666-e5fb-4a5a-908a-b021446b6695"
      },
      "outputs": [
        {
          "output_type": "stream",
          "name": "stdout",
          "text": [
            "DFS:\n"
          ]
        },
        {
          "output_type": "execute_result",
          "data": {
            "text/html": [
              "<img src=\"https://upload.wikimedia.org/wikipedia/commons/7/7f/Depth-First-Search.gif\"/>"
            ],
            "text/plain": [
              "<IPython.core.display.Image object>"
            ]
          },
          "metadata": {},
          "execution_count": 75
        }
      ],
      "source": [
        "#NOT GRADED\n",
        "print('DFS:')\n",
        "I(url=dfsgif)"
      ]
    },
    {
      "cell_type": "markdown",
      "metadata": {
        "id": "pyuyXzNjEjEp"
      },
      "source": [
        "#### 5.1.2 Implement One Traversal [6 Pts]\n",
        "\n",
        "To break down this process, let's think about how we would implement a single traversal of the graph. That is given the green node in the graph above, how are we going to get the blue nodes?\n",
        "\n",
        "\n",
        "Consider the simple graph below **which is different from the graph in the image above**:"
      ]
    },
    {
      "cell_type": "code",
      "execution_count": 76,
      "metadata": {
        "id": "74yrRK9AE-G5",
        "colab": {
          "base_uri": "https://localhost:8080/"
        },
        "outputId": "298b8b18-e0a3-4588-b288-0b14ddd92f54"
      },
      "outputs": [
        {
          "output_type": "stream",
          "name": "stdout",
          "text": [
            "+---------+-------+\n",
            "|from_node|to_node|\n",
            "+---------+-------+\n",
            "|        A|      B|\n",
            "|        A|      C|\n",
            "|        A|      D|\n",
            "|        C|      F|\n",
            "|        F|      A|\n",
            "|        B|      G|\n",
            "|        G|      H|\n",
            "|        D|      E|\n",
            "+---------+-------+\n",
            "\n"
          ]
        }
      ],
      "source": [
        "spark.conf.set(\"spark.sql.execution.arrow.enabled\", \"true\")\n",
        "\n",
        "simple = [('A', 'B'),\n",
        "         ('A', 'C'),\n",
        "         ('A', 'D'),\n",
        "         ('C', 'F'),\n",
        "         ('F', 'A'),\n",
        "         ('B', 'G'),\n",
        "         ('G', 'H'),\n",
        "         ('D', 'E')]\n",
        "         \n",
        "simple_dict = {'from_node': ['A', 'A', 'A', 'C', 'F', 'B', 'G', 'D'],\n",
        "       'to_node': ['B', 'C', 'D', 'F', 'A', 'G', 'H', 'E']}\n",
        "\n",
        "simple_graph_df = pd.DataFrame.from_dict(simple_dict)\n",
        "simple_graph_sdf = spark.createDataFrame(simple_graph_df)\n",
        "simple_graph_sdf.show()"
      ]
    },
    {
      "cell_type": "markdown",
      "metadata": {
        "id": "KTbktZQ9FGox"
      },
      "source": [
        "As you can see, each row of this dataframe represents an edge between two nodes. Here, we are looking at a directed graph, which means that A-->B does not represent the same edge as B-->A.\n",
        "Let's define our starting node as follows:"
      ]
    },
    {
      "cell_type": "code",
      "execution_count": 77,
      "metadata": {
        "id": "POWS1z8hE-ym"
      },
      "outputs": [],
      "source": [
        "smallOrig = [{'node': 'A'}]"
      ]
    },
    {
      "cell_type": "markdown",
      "metadata": {
        "id": "xwgYZNZ-FHZg"
      },
      "source": [
        "Then, bfs with graph G, starting from smallOrig to depth 1, or spark_bfs(G, smallOrig, 1) would output as follows:"
      ]
    },
    {
      "cell_type": "code",
      "execution_count": 78,
      "metadata": {
        "id": "-hBlW2rPFKig",
        "colab": {
          "base_uri": "https://localhost:8080/"
        },
        "outputId": "44f6091e-fd8c-4f4e-ae38-939b0c95876b"
      },
      "outputs": [
        {
          "output_type": "stream",
          "name": "stdout",
          "text": [
            "+----+--------+\n",
            "|node|distance|\n",
            "+----+--------+\n",
            "|   B|       1|\n",
            "|   D|       1|\n",
            "|   C|       1|\n",
            "|   A|       0|\n",
            "+----+--------+\n",
            "\n"
          ]
        }
      ],
      "source": [
        "simple_1_round_dict = {'node': ['B', 'D', 'C', 'A'],\n",
        "       'distance': [1, 1, 1, 0]}\n",
        "simple_1_round_bfs_df = pd.DataFrame.from_dict(simple_1_round_dict)\n",
        "simple_1_round_bfs_sdf = spark.createDataFrame(simple_1_round_bfs_df)\n",
        "simple_1_round_bfs_sdf.show()"
      ]
    },
    {
      "cell_type": "markdown",
      "metadata": {
        "id": "15Qk24fGFO_U"
      },
      "source": [
        "As you can see, this dataframe logs each node with its corresponding distance away from A. Moreover, we also know that these nodes are **visited**. \n",
        "\n",
        "Hopefully, you can see how we can use our original graph and this new information to find the nodes at depth two. \n",
        "\n",
        "This is exactly what we will try to accomplish with **spark_bfs_1_round(visited_nodes)** which will ultimately be the inner function of **spark_bfs** that we use to perform exactly one traversal of a graph.\n",
        "\n",
        "**TODO**: Write **spark_bfs_1_round(visited_nodes)** that takes the currently dataframe of visited_nodes, performs one round of BFS, and returns an updated visited nodes dataframe. You should assume that a temporary sdf `G` already exists."
      ]
    },
    {
      "cell_type": "code",
      "source": [
        "simple_graph_sdf.show()"
      ],
      "metadata": {
        "colab": {
          "base_uri": "https://localhost:8080/"
        },
        "id": "NLro0gk6QFu2",
        "outputId": "a3581dff-6713-4b7c-e83a-97374a7120dd"
      },
      "execution_count": 79,
      "outputs": [
        {
          "output_type": "stream",
          "name": "stdout",
          "text": [
            "+---------+-------+\n",
            "|from_node|to_node|\n",
            "+---------+-------+\n",
            "|        A|      B|\n",
            "|        A|      C|\n",
            "|        A|      D|\n",
            "|        C|      F|\n",
            "|        F|      A|\n",
            "|        B|      G|\n",
            "|        G|      H|\n",
            "|        D|      E|\n",
            "+---------+-------+\n",
            "\n"
          ]
        }
      ]
    },
    {
      "cell_type": "code",
      "execution_count": 80,
      "metadata": {
        "id": "OQYlGzw6FSms"
      },
      "outputs": [],
      "source": [
        "def spark_bfs_1_round(visited_nodes):\n",
        "  \"\"\"\n",
        "  :param visited_nodes: dataframe with columns node and distance\n",
        "  :return: dataframe of updated visited nodes, with columns node and distance\n",
        "  \"\"\"\n",
        "  # TODO: Complete this function to implement 1 round of BFS\n",
        "  visited_nodes.createOrReplaceTempView(\"visited\")\n",
        "\n",
        "  # G.createOrReplaceTempView(\"G\")\n",
        "\n",
        "  result = spark.sql('''\n",
        "                     SELECT node, MIN(distance) as distance\n",
        "                     FROM\n",
        "                     (\n",
        "                        SELECT *\n",
        "                        FROM visited\n",
        "                        UNION\n",
        "                        SELECT G.to_node AS node, v.distance + 1 AS distance\n",
        "                        FROM visited as v\n",
        "                        JOIN G\n",
        "                        ON v.node = G.from_node\n",
        "                        WHERE v.distance <> 0\n",
        "                     )\n",
        "                     GROUP BY node\n",
        "                     ''')\n",
        "  \n",
        "  return result"
      ]
    },
    {
      "cell_type": "markdown",
      "metadata": {
        "id": "za3-poGjFaRy"
      },
      "source": [
        "Now, run the inner function on simple_1_round_bfs_sdf (i.e. result of 1 round of BFS on the simple graph) and store the results in simple_bfs_result. This is ultimately what the output of BFS to depth 2 should look like. Create your temporary sdf `G` and then call the `spark_bfs_1_round` function you created above."
      ]
    },
    {
      "cell_type": "code",
      "execution_count": 81,
      "metadata": {
        "id": "IUTyEdbpFUVG",
        "colab": {
          "base_uri": "https://localhost:8080/"
        },
        "outputId": "adf380ff-8416-48b1-9d89-985ee4d502ef"
      },
      "outputs": [
        {
          "output_type": "stream",
          "name": "stdout",
          "text": [
            "+----+--------+\n",
            "|node|distance|\n",
            "+----+--------+\n",
            "|   B|       1|\n",
            "|   D|       1|\n",
            "|   C|       1|\n",
            "|   A|       0|\n",
            "|   F|       2|\n",
            "|   E|       2|\n",
            "|   G|       2|\n",
            "+----+--------+\n",
            "\n"
          ]
        }
      ],
      "source": [
        "# TODO: Run spark_bfs_1_round on simple_1_round_bfs_sdf\n",
        "\n",
        "simple_graph_sdf.createOrReplaceTempView(\"G\")\n",
        "\n",
        "spark_bfs_1_round(simple_1_round_bfs_sdf).show()"
      ]
    },
    {
      "cell_type": "markdown",
      "metadata": {
        "id": "evUUcJ0yFdhH"
      },
      "source": [
        "Convert this result to Pandas, sort your dataframe by `node` ascending, and submit it to the autograder."
      ]
    },
    {
      "cell_type": "code",
      "execution_count": 82,
      "metadata": {
        "id": "EZn0KhG-FUtZ"
      },
      "outputs": [],
      "source": [
        "# TODO: Convert simple_bfs_result to Pandas\n",
        "simple_bfs_test = spark_bfs_1_round(simple_1_round_bfs_sdf).toPandas()"
      ]
    },
    {
      "cell_type": "code",
      "source": [
        "###DO NOT EDIT\n",
        "simple_bfs_test = simple_bfs_test.sort_values(by=[\"node\"],ascending=True)"
      ],
      "metadata": {
        "id": "kH1XA1eWluCD"
      },
      "execution_count": 83,
      "outputs": []
    },
    {
      "cell_type": "code",
      "execution_count": 84,
      "metadata": {
        "id": "Z0IyMp1dFYEh",
        "colab": {
          "base_uri": "https://localhost:8080/"
        },
        "outputId": "957fa29a-fc63-492e-d7ca-662577c281f8"
      },
      "outputs": [
        {
          "output_type": "stream",
          "name": "stdout",
          "text": [
            "Correct! You earned 6/6 points. You are a star!\n",
            "\n",
            "Your submission has been successfully recorded in the gradebook.\n"
          ]
        }
      ],
      "source": [
        "# 6 points\n",
        "grader.grade(test_case_id = 'checksimpleBFS', answer = simple_bfs_test)"
      ]
    },
    {
      "cell_type": "markdown",
      "metadata": {
        "id": "Nk2soBT2EoRl"
      },
      "source": [
        "#### 5.1.3 Full BFS Implementation\n",
        "\n",
        "Now, we will fully implement **spark_bfs**. This function should iteratively call your implemented version of **spark_bfs_1_round** and ultimately return the output of this function at **max_depth**.\n",
        "\n",
        "You are also responsible for initializing the starting dataframe, that is converting the list of origin nodes into a spark dataframe with the nodes logged at distance 0.\n",
        "\n",
        "Consider the following: \n",
        "\n",
        "```\n",
        "schema = StructType([\n",
        "            StructField(\"node\", StringType(), True)\n",
        "        ])\n",
        "\n",
        "    my_sdf = spark.createDataFrame(origins, schema)\n",
        "```\n",
        "\n",
        "The schema ultimately specifies the structure of the Spark DataFrame with a string `node` column. It then calls **spark.createDataFrame** to map this schema to the **origins** nodes. Also, you are responsible for ensuring that a view of your graph is available within this function. (Note: you will also need to add in a distance column)\n",
        "\n",
        "**TODO:** implement **spark_bfs(G,origins,max_depth)**. In the coming sections, you will run this function on **twitter_sdf** that you will initialize in 5.2. Note: you may want to run tests on the **simple_graph** example as the `twitter_sdf` will take quite some time to run.\n",
        "\n",
        "Also remember that in section 5.1.2, we had assumed that the temporary view already exists. So you will have to take care of creating that within this function.\n",
        "\n",
        "These imports might be useful: \n",
        "`from pyspark.sql.types import StructType, StructField, StringType, IntegerType`"
      ]
    },
    {
      "cell_type": "code",
      "execution_count": 89,
      "metadata": {
        "id": "tIbkTuSTFhR4"
      },
      "outputs": [],
      "source": [
        "from pyspark.sql.types import StructType, StructField, StringType, IntegerType\n",
        "# TODO: iterative search over undirected graph\n",
        "# Worth 5 points directly, but will be needed later\n",
        "\n",
        "def spark_bfs(G, origins, max_depth):\n",
        "  \"\"\" runs distributed BFS to a specified max depth\n",
        "  \n",
        "  :param G: graph dataframe from 4.3\n",
        "  :param origins: list of origin nodes stored as {\"node\": nodeValue}\n",
        "  :param max_depth: integer value of max depth to run BFS to\n",
        "  :return: dataframe with columns node, distance of all visited nodes\n",
        "  \"\"\"\n",
        "\n",
        "  # schema for origins\n",
        "  schema = StructType([\n",
        "            StructField(\"node\", StringType(), True),\n",
        "            StructField(\"distance\", IntegerType(), True)\n",
        "        ])\n",
        "  \n",
        "  # add distance column to origins with value 0\n",
        "  for i in range(0, len(origins)):\n",
        "    origins[i][\"distance\"] = 0\n",
        "\n",
        "  # create sdf for origins\n",
        "  origins_sdf = spark.createDataFrame(origins, schema)\n",
        "  origins_sdf.createOrReplaceTempView(\"origins\")\n",
        "\n",
        "  # create usable view for inputted graph G\n",
        "  G.createOrReplaceTempView(\"G\")\n",
        "\n",
        "  # set output as initial round of bfs\n",
        "  output = spark.sql('''\n",
        "                     SELECT G.to_node as node, o.distance + 1 as distance\n",
        "                     FROM origins as o\n",
        "                     LEFT JOIN G\n",
        "                     ON o.node = G.from_node \n",
        "                     UNION\n",
        "                     SELECT *\n",
        "                     FROM origins\n",
        "                     ''')\n",
        "\n",
        "  # loop for remaining depth\n",
        "  for i in range(1, max_depth):\n",
        "    output = spark_bfs_1_round(output)\n",
        "\n",
        "  return output"
      ]
    },
    {
      "cell_type": "markdown",
      "metadata": {
        "id": "2LRo1B8HFjs1"
      },
      "source": [
        "Test that this function works on the simple example."
      ]
    },
    {
      "cell_type": "code",
      "execution_count": 90,
      "metadata": {
        "id": "rL9XjwyPFhyy",
        "colab": {
          "base_uri": "https://localhost:8080/"
        },
        "outputId": "213e88dc-505b-4207-d174-c4d0d24956e0"
      },
      "outputs": [
        {
          "output_type": "stream",
          "name": "stdout",
          "text": [
            "+----+--------+\n",
            "|node|distance|\n",
            "+----+--------+\n",
            "|   F|       2|\n",
            "|   E|       2|\n",
            "|   B|       1|\n",
            "|   D|       1|\n",
            "|   C|       1|\n",
            "|   A|       0|\n",
            "|   G|       2|\n",
            "|   H|       3|\n",
            "+----+--------+\n",
            "\n"
          ]
        }
      ],
      "source": [
        "simple_bfs_iterative_result = spark_bfs(simple_graph_sdf, smallOrig, 3)\n",
        "simple_bfs_iterative_result.show()"
      ]
    },
    {
      "cell_type": "markdown",
      "metadata": {
        "id": "FBIXSJQmFqZc"
      },
      "source": [
        "### 5.2: Popular People [6 Pts]"
      ]
    },
    {
      "cell_type": "markdown",
      "metadata": {
        "id": "QkpLsfunGKmc"
      },
      "source": [
        "Download the `twitter_followers.csv` dataset from [here](https://drive.google.com/file/d/1MNGXvH2kxanW1iOOp1egz6cMg_cugxE9/view?usp=share_link), and upload it to the content folder of this Colab notebook."
      ]
    },
    {
      "cell_type": "markdown",
      "metadata": {
        "id": "J9tlk9skXegN"
      },
      "source": [
        "It's time to take a look at our dataset. Let's load the data to **twitter_sdf** and see how it looks."
      ]
    },
    {
      "cell_type": "code",
      "execution_count": 91,
      "metadata": {
        "id": "F7EsOfD5NMea"
      },
      "outputs": [],
      "source": [
        "twitter_sdf = spark.read.csv(\"/content/twitter_followers.csv\", header=True)"
      ]
    },
    {
      "cell_type": "code",
      "execution_count": 92,
      "metadata": {
        "id": "bN-1SaYENlD-",
        "colab": {
          "base_uri": "https://localhost:8080/"
        },
        "outputId": "c9a517e6-1ff5-4c5e-f976-6aed453d0efc"
      },
      "outputs": [
        {
          "output_type": "stream",
          "name": "stdout",
          "text": [
            "+---+-----------+---------+\n",
            "|_c0|      User1|    User2|\n",
            "+---+-----------+---------+\n",
            "|  0|      James|   Ashley|\n",
            "|  1|      Karen|   Thomas|\n",
            "|  2|     Sandra|    Karen|\n",
            "|  3|      Karen|   Joseph|\n",
            "|  4|   Patricia| Margaret|\n",
            "|  5|      Karen|  Charles|\n",
            "|  6|    Charles| Patricia|\n",
            "|  7|Christopher|   Ashley|\n",
            "|  8|  Elizabeth|    Karen|\n",
            "|  9|    Barbara|  Anthony|\n",
            "| 10|       Mark|  Michael|\n",
            "| 11|    Anthony|  Jessica|\n",
            "| 12|  Elizabeth|    Karen|\n",
            "| 13|    Michael|  Richard|\n",
            "| 14|    Anthony|  Charles|\n",
            "| 15|      Karen|   Sandra|\n",
            "| 16|      Karen| Margaret|\n",
            "| 17|     Robert|   Daniel|\n",
            "| 18|      Karen|    David|\n",
            "| 19|Christopher|Elizabeth|\n",
            "+---+-----------+---------+\n",
            "only showing top 20 rows\n",
            "\n"
          ]
        }
      ],
      "source": [
        "twitter_sdf.show()"
      ]
    },
    {
      "cell_type": "markdown",
      "source": [
        "As we can see, the dataframe consists of 2 columns named User1 and User2. These columns indicate an edge in the social network graph formed when people follow each other on twitter. Each row in the dataframe indicates that user1 follows user2. For example, the 0 indexed row has James as User1 and Ashley as User2, which indicates that James follows Ashley."
      ],
      "metadata": {
        "id": "D_v7xH6v39Ii"
      }
    },
    {
      "cell_type": "markdown",
      "metadata": {
        "id": "JPftgXHoXneJ"
      },
      "source": [
        "Let's take a look at which people were the most popular in terms of the number of followers they had. ***TODO***: Count the number of followers each person (Consider only those people who have atleast one follower. i.e. Those whose name exists in the User2 column). Return a dataframe with the schema (Name,Followers). Order your dataframe by Followers in descending order."
      ]
    },
    {
      "cell_type": "code",
      "execution_count": 93,
      "metadata": {
        "id": "idqHrl-BNrH5",
        "colab": {
          "base_uri": "https://localhost:8080/"
        },
        "outputId": "049b78ad-7b66-489b-a33b-524bf0a69342"
      },
      "outputs": [
        {
          "output_type": "stream",
          "name": "stdout",
          "text": [
            "+--------+---------+\n",
            "|    Name|Followers|\n",
            "+--------+---------+\n",
            "|Patricia|        6|\n",
            "|   Karen|        5|\n",
            "|Jennifer|        4|\n",
            "|  Thomas|        3|\n",
            "| Matthew|        3|\n",
            "|    John|        3|\n",
            "|   Nancy|        3|\n",
            "|  Daniel|        2|\n",
            "|  Ashley|        2|\n",
            "|Margaret|        2|\n",
            "|  Sandra|        2|\n",
            "| Anthony|        2|\n",
            "|  Donald|        2|\n",
            "| Charles|        2|\n",
            "|  Joseph|        2|\n",
            "|   Betty|        2|\n",
            "|   Susan|        2|\n",
            "| Barbara|        1|\n",
            "|    Lisa|        1|\n",
            "| Jessica|        1|\n",
            "+--------+---------+\n",
            "only showing top 20 rows\n",
            "\n"
          ]
        }
      ],
      "source": [
        "# TODO\n",
        "\n",
        "twitter_sdf.createOrReplaceTempView(\"twitter\")\n",
        "\n",
        "query = '''\n",
        "        SELECT DISTINCT Name, Followers\n",
        "        FROM\n",
        "        (\n",
        "          SELECT User2 as Name, COUNT(*) as Followers\n",
        "          FROM twitter\n",
        "          GROUP BY User2\n",
        "        ) AS cnt\n",
        "        RIGHT JOIN twitter\n",
        "        ON cnt.Name = twitter.User2\n",
        "        ORDER BY Followers DESC\n",
        "        '''\n",
        "\n",
        "spark.sql(query).show()"
      ]
    },
    {
      "cell_type": "markdown",
      "metadata": {
        "id": "Qpjvw2j3I9Nt"
      },
      "source": [
        "Convert the dataframe to pandas and pass it to the grader."
      ]
    },
    {
      "cell_type": "code",
      "execution_count": 94,
      "metadata": {
        "id": "-UV5KUtO_RlD"
      },
      "outputs": [],
      "source": [
        "# TODO\n",
        "count_df = spark.sql(query).toPandas()"
      ]
    },
    {
      "cell_type": "code",
      "execution_count": 95,
      "metadata": {
        "id": "tF6l4PLF_OKB",
        "colab": {
          "base_uri": "https://localhost:8080/"
        },
        "outputId": "af73bf9f-818a-4853-f34d-0f240a0945ce"
      },
      "outputs": [
        {
          "output_type": "stream",
          "name": "stdout",
          "text": [
            "Correct! You earned 4/4 points. You are a star!\n",
            "\n",
            "Your submission has been successfully recorded in the gradebook.\n"
          ]
        }
      ],
      "source": [
        "# 4 points\n",
        "grader.grade(test_case_id = 'checkFollowerCount', answer = count_df)"
      ]
    },
    {
      "cell_type": "markdown",
      "metadata": {
        "id": "Y7-sQIg9Ydze"
      },
      "source": [
        "Now that we have the Twitter dataset, let's convert it to a graph sdf just like the one we had in section 5.1 (P.S. it's not as hard as it sounds).\n",
        "\n",
        "**TODO:** Create **twitter_graph_sdf** that has the columns *from_node* and *to_node*. from_node has all the entries from the *User1* column and to_node has all the entries from the *User2* column."
      ]
    },
    {
      "cell_type": "code",
      "execution_count": 96,
      "metadata": {
        "id": "pY37jvGkOBeN",
        "colab": {
          "base_uri": "https://localhost:8080/"
        },
        "outputId": "31d3d47c-cef6-4fe9-b66c-c49779da534a"
      },
      "outputs": [
        {
          "output_type": "stream",
          "name": "stdout",
          "text": [
            "+-----------+---------+\n",
            "|  from_node|  to_node|\n",
            "+-----------+---------+\n",
            "|      James|   Ashley|\n",
            "|      Karen|   Thomas|\n",
            "|     Sandra|    Karen|\n",
            "|      Karen|   Joseph|\n",
            "|   Patricia| Margaret|\n",
            "|      Karen|  Charles|\n",
            "|    Charles| Patricia|\n",
            "|Christopher|   Ashley|\n",
            "|  Elizabeth|    Karen|\n",
            "|    Barbara|  Anthony|\n",
            "|       Mark|  Michael|\n",
            "|    Anthony|  Jessica|\n",
            "|  Elizabeth|    Karen|\n",
            "|    Michael|  Richard|\n",
            "|    Anthony|  Charles|\n",
            "|      Karen|   Sandra|\n",
            "|      Karen| Margaret|\n",
            "|     Robert|   Daniel|\n",
            "|      Karen|    David|\n",
            "|Christopher|Elizabeth|\n",
            "+-----------+---------+\n",
            "only showing top 20 rows\n",
            "\n"
          ]
        }
      ],
      "source": [
        "# TODO\n",
        "\n",
        "twitter_sdf.createOrReplaceTempView(\"twitter\")\n",
        "\n",
        "twitter_graph_sdf = spark.sql('''\n",
        "                              SELECT User1 as from_node, User2 as to_node\n",
        "                              FROM twitter\n",
        "                              ''')\n",
        "\n",
        "twitter_graph_sdf.show()"
      ]
    },
    {
      "cell_type": "code",
      "execution_count": 97,
      "metadata": {
        "id": "_K7U-RF4_eSv",
        "colab": {
          "base_uri": "https://localhost:8080/"
        },
        "outputId": "7a8a2f66-8659-4799-951a-9d121cb478af"
      },
      "outputs": [
        {
          "output_type": "stream",
          "name": "stdout",
          "text": [
            "Correct! You earned 2/2 points. You are a star!\n",
            "\n",
            "Your submission has been successfully recorded in the gradebook.\n"
          ]
        }
      ],
      "source": [
        "grader.grade(test_case_id = 'checkTwitterGraph', answer = twitter_graph_sdf.toPandas())"
      ]
    },
    {
      "cell_type": "markdown",
      "metadata": {
        "id": "duQ9JsnL_hqh"
      },
      "source": [
        "### 5.3: The Super Bacon Search [15 Pts]"
      ]
    },
    {
      "cell_type": "markdown",
      "metadata": {
        "id": "oQyp_EjeM_16"
      },
      "source": [
        "In the previous section, we found out that Patricia and Karen have been the most popular people for tour dataset. So let's find out the Super Bacons with respect to Karen."
      ]
    },
    {
      "cell_type": "code",
      "source": [
        "orig = [{'node': 'Karen'}]"
      ],
      "metadata": {
        "id": "Tqt1cB3FnqZD"
      },
      "execution_count": 98,
      "outputs": []
    },
    {
      "cell_type": "code",
      "source": [
        "bfs_5 = spark_bfs(twitter_graph_sdf, orig, 5)\n",
        "bfs_5.show()"
      ],
      "metadata": {
        "id": "fqe1VsbLnuO_",
        "colab": {
          "base_uri": "https://localhost:8080/"
        },
        "outputId": "d2ef21c8-f565-4ea8-ff28-f236cead8469"
      },
      "execution_count": 99,
      "outputs": [
        {
          "output_type": "stream",
          "name": "stdout",
          "text": [
            "+--------+--------+\n",
            "|    node|distance|\n",
            "+--------+--------+\n",
            "|   James|       4|\n",
            "|Margaret|       1|\n",
            "|Patricia|       2|\n",
            "| Barbara|       3|\n",
            "| Charles|       1|\n",
            "|  Sandra|       1|\n",
            "| Anthony|       4|\n",
            "|  Joseph|       1|\n",
            "|  Daniel|       4|\n",
            "|   David|       1|\n",
            "|    Lisa|       2|\n",
            "|  Thomas|       1|\n",
            "|   Karen|       0|\n",
            "|Jennifer|       5|\n",
            "|   Sarah|       5|\n",
            "|  Ashley|       5|\n",
            "| Jessica|       5|\n",
            "|   Nancy|       5|\n",
            "+--------+--------+\n",
            "\n"
          ]
        }
      ]
    },
    {
      "cell_type": "code",
      "execution_count": 100,
      "metadata": {
        "id": "_bFCML1YnYmo"
      },
      "outputs": [],
      "source": [
        "answer_df = bfs_5.toPandas()"
      ]
    },
    {
      "cell_type": "code",
      "execution_count": 101,
      "metadata": {
        "id": "-1IVMn3Q_rob",
        "colab": {
          "base_uri": "https://localhost:8080/"
        },
        "outputId": "4f24d648-d8d6-4146-d892-3a0bcfedca7f"
      },
      "outputs": [
        {
          "output_type": "stream",
          "name": "stdout",
          "text": [
            "Correct! You earned 15/15 points. You are a star!\n",
            "\n",
            "Your submission has been successfully recorded in the gradebook.\n"
          ]
        }
      ],
      "source": [
        "# 15 points\n",
        "grader.grade(test_case_id = 'checkBFS', answer = answer_df)"
      ]
    },
    {
      "cell_type": "markdown",
      "metadata": {
        "id": "EHVFHPVIrvu1"
      },
      "source": [
        "# HW Submission\n",
        "\n",
        "Before you submit on Gradescope (you must submit your notebook to receive credit):\n",
        "\n",
        "\n",
        "1.   Restart and Run-All to make sure there's nothing wrong with your notebook\n",
        "2.   **Double check that you have the correct PennID (all numbers) in the autograder**. \n",
        "3. Make sure you've run all the PennGrader cells\n",
        "4. Go to the \"File\" tab at the top left, and click \"Download .ipynb\" and then \"Download .py\".  **Rename** the files to \"homework3.ipynb\" and \"homework3.py\" respectively and upload them to Gradescope \n",
        "\n",
        "**Let the course staff know ASAP if you have any issues submitting, but otherwise best of luck!**"
      ]
    }
  ],
  "metadata": {
    "colab": {
      "provenance": []
    },
    "kernelspec": {
      "display_name": "Python 3",
      "name": "python3"
    },
    "language_info": {
      "name": "python"
    },
    "widgets": {
      "application/vnd.jupyter.widget-state+json": {
        "3835a9f574ee472a8d545c5ffebc65e0": {
          "model_module": "@jupyter-widgets/controls",
          "model_name": "FloatProgressModel",
          "model_module_version": "1.5.0",
          "state": {
            "_dom_classes": [],
            "_model_module": "@jupyter-widgets/controls",
            "_model_module_version": "1.5.0",
            "_model_name": "FloatProgressModel",
            "_view_count": null,
            "_view_module": "@jupyter-widgets/controls",
            "_view_module_version": "1.5.0",
            "_view_name": "ProgressView",
            "bar_style": "info",
            "description": "Progress:",
            "description_tooltip": null,
            "layout": "IPY_MODEL_32125842af114535acd52dceab9f7502",
            "max": 1,
            "min": 0,
            "orientation": "horizontal",
            "style": "IPY_MODEL_a50d6a8df41449e0803d2a3e7d2bace9",
            "value": 0
          }
        },
        "32125842af114535acd52dceab9f7502": {
          "model_module": "@jupyter-widgets/base",
          "model_name": "LayoutModel",
          "model_module_version": "1.2.0",
          "state": {
            "_model_module": "@jupyter-widgets/base",
            "_model_module_version": "1.2.0",
            "_model_name": "LayoutModel",
            "_view_count": null,
            "_view_module": "@jupyter-widgets/base",
            "_view_module_version": "1.2.0",
            "_view_name": "LayoutView",
            "align_content": null,
            "align_items": null,
            "align_self": null,
            "border": null,
            "bottom": null,
            "display": null,
            "flex": null,
            "flex_flow": null,
            "grid_area": null,
            "grid_auto_columns": null,
            "grid_auto_flow": null,
            "grid_auto_rows": null,
            "grid_column": null,
            "grid_gap": null,
            "grid_row": null,
            "grid_template_areas": null,
            "grid_template_columns": null,
            "grid_template_rows": null,
            "height": "25px",
            "justify_content": null,
            "justify_items": null,
            "left": null,
            "margin": null,
            "max_height": null,
            "max_width": null,
            "min_height": null,
            "min_width": null,
            "object_fit": null,
            "object_position": null,
            "order": null,
            "overflow": null,
            "overflow_x": null,
            "overflow_y": null,
            "padding": null,
            "right": null,
            "top": null,
            "visibility": null,
            "width": "50%"
          }
        },
        "a50d6a8df41449e0803d2a3e7d2bace9": {
          "model_module": "@jupyter-widgets/controls",
          "model_name": "ProgressStyleModel",
          "model_module_version": "1.5.0",
          "state": {
            "_model_module": "@jupyter-widgets/controls",
            "_model_module_version": "1.5.0",
            "_model_name": "ProgressStyleModel",
            "_view_count": null,
            "_view_module": "@jupyter-widgets/base",
            "_view_module_version": "1.2.0",
            "_view_name": "StyleView",
            "bar_color": null,
            "description_width": ""
          }
        },
        "53d241a002d34674a2084f9a955c7c9d": {
          "model_module": "@jupyter-widgets/controls",
          "model_name": "FloatProgressModel",
          "model_module_version": "1.5.0",
          "state": {
            "_dom_classes": [],
            "_model_module": "@jupyter-widgets/controls",
            "_model_module_version": "1.5.0",
            "_model_name": "FloatProgressModel",
            "_view_count": null,
            "_view_module": "@jupyter-widgets/controls",
            "_view_module_version": "1.5.0",
            "_view_name": "ProgressView",
            "bar_style": "info",
            "description": "Progress:",
            "description_tooltip": null,
            "layout": "IPY_MODEL_41bdeb2287bb4c89a7ac25f8b8a1605a",
            "max": 1,
            "min": 0,
            "orientation": "horizontal",
            "style": "IPY_MODEL_9a7aefdcb8b940b6827d168e4be8196f",
            "value": 0
          }
        },
        "41bdeb2287bb4c89a7ac25f8b8a1605a": {
          "model_module": "@jupyter-widgets/base",
          "model_name": "LayoutModel",
          "model_module_version": "1.2.0",
          "state": {
            "_model_module": "@jupyter-widgets/base",
            "_model_module_version": "1.2.0",
            "_model_name": "LayoutModel",
            "_view_count": null,
            "_view_module": "@jupyter-widgets/base",
            "_view_module_version": "1.2.0",
            "_view_name": "LayoutView",
            "align_content": null,
            "align_items": null,
            "align_self": null,
            "border": null,
            "bottom": null,
            "display": null,
            "flex": null,
            "flex_flow": null,
            "grid_area": null,
            "grid_auto_columns": null,
            "grid_auto_flow": null,
            "grid_auto_rows": null,
            "grid_column": null,
            "grid_gap": null,
            "grid_row": null,
            "grid_template_areas": null,
            "grid_template_columns": null,
            "grid_template_rows": null,
            "height": "25px",
            "justify_content": null,
            "justify_items": null,
            "left": null,
            "margin": null,
            "max_height": null,
            "max_width": null,
            "min_height": null,
            "min_width": null,
            "object_fit": null,
            "object_position": null,
            "order": null,
            "overflow": null,
            "overflow_x": null,
            "overflow_y": null,
            "padding": null,
            "right": null,
            "top": null,
            "visibility": null,
            "width": "50%"
          }
        },
        "9a7aefdcb8b940b6827d168e4be8196f": {
          "model_module": "@jupyter-widgets/controls",
          "model_name": "ProgressStyleModel",
          "model_module_version": "1.5.0",
          "state": {
            "_model_module": "@jupyter-widgets/controls",
            "_model_module_version": "1.5.0",
            "_model_name": "ProgressStyleModel",
            "_view_count": null,
            "_view_module": "@jupyter-widgets/base",
            "_view_module_version": "1.2.0",
            "_view_name": "StyleView",
            "bar_color": null,
            "description_width": ""
          }
        },
        "f8da2557d8c54324a8e60328ce26519e": {
          "model_module": "@jupyter-widgets/controls",
          "model_name": "FloatProgressModel",
          "model_module_version": "1.5.0",
          "state": {
            "_dom_classes": [],
            "_model_module": "@jupyter-widgets/controls",
            "_model_module_version": "1.5.0",
            "_model_name": "FloatProgressModel",
            "_view_count": null,
            "_view_module": "@jupyter-widgets/controls",
            "_view_module_version": "1.5.0",
            "_view_name": "ProgressView",
            "bar_style": "info",
            "description": "Progress:",
            "description_tooltip": null,
            "layout": "IPY_MODEL_b1fe32747dce4190876bda06dd9a5a3f",
            "max": 1,
            "min": 0,
            "orientation": "horizontal",
            "style": "IPY_MODEL_6e48095d8a7b4980bf665d3434ed46ec",
            "value": 0
          }
        },
        "b1fe32747dce4190876bda06dd9a5a3f": {
          "model_module": "@jupyter-widgets/base",
          "model_name": "LayoutModel",
          "model_module_version": "1.2.0",
          "state": {
            "_model_module": "@jupyter-widgets/base",
            "_model_module_version": "1.2.0",
            "_model_name": "LayoutModel",
            "_view_count": null,
            "_view_module": "@jupyter-widgets/base",
            "_view_module_version": "1.2.0",
            "_view_name": "LayoutView",
            "align_content": null,
            "align_items": null,
            "align_self": null,
            "border": null,
            "bottom": null,
            "display": null,
            "flex": null,
            "flex_flow": null,
            "grid_area": null,
            "grid_auto_columns": null,
            "grid_auto_flow": null,
            "grid_auto_rows": null,
            "grid_column": null,
            "grid_gap": null,
            "grid_row": null,
            "grid_template_areas": null,
            "grid_template_columns": null,
            "grid_template_rows": null,
            "height": "25px",
            "justify_content": null,
            "justify_items": null,
            "left": null,
            "margin": null,
            "max_height": null,
            "max_width": null,
            "min_height": null,
            "min_width": null,
            "object_fit": null,
            "object_position": null,
            "order": null,
            "overflow": null,
            "overflow_x": null,
            "overflow_y": null,
            "padding": null,
            "right": null,
            "top": null,
            "visibility": null,
            "width": "50%"
          }
        },
        "6e48095d8a7b4980bf665d3434ed46ec": {
          "model_module": "@jupyter-widgets/controls",
          "model_name": "ProgressStyleModel",
          "model_module_version": "1.5.0",
          "state": {
            "_model_module": "@jupyter-widgets/controls",
            "_model_module_version": "1.5.0",
            "_model_name": "ProgressStyleModel",
            "_view_count": null,
            "_view_module": "@jupyter-widgets/base",
            "_view_module_version": "1.2.0",
            "_view_name": "StyleView",
            "bar_color": null,
            "description_width": ""
          }
        },
        "1116ebc6d96546a086bf462ff099e42e": {
          "model_module": "@jupyter-widgets/controls",
          "model_name": "FloatProgressModel",
          "model_module_version": "1.5.0",
          "state": {
            "_dom_classes": [],
            "_model_module": "@jupyter-widgets/controls",
            "_model_module_version": "1.5.0",
            "_model_name": "FloatProgressModel",
            "_view_count": null,
            "_view_module": "@jupyter-widgets/controls",
            "_view_module_version": "1.5.0",
            "_view_name": "ProgressView",
            "bar_style": "info",
            "description": "Progress:",
            "description_tooltip": null,
            "layout": "IPY_MODEL_1898360c885e47b5b3f4ec32dffcaab7",
            "max": 1,
            "min": 0,
            "orientation": "horizontal",
            "style": "IPY_MODEL_b77ebdf003eb450099c5ae13a19e41e3",
            "value": 0
          }
        },
        "1898360c885e47b5b3f4ec32dffcaab7": {
          "model_module": "@jupyter-widgets/base",
          "model_name": "LayoutModel",
          "model_module_version": "1.2.0",
          "state": {
            "_model_module": "@jupyter-widgets/base",
            "_model_module_version": "1.2.0",
            "_model_name": "LayoutModel",
            "_view_count": null,
            "_view_module": "@jupyter-widgets/base",
            "_view_module_version": "1.2.0",
            "_view_name": "LayoutView",
            "align_content": null,
            "align_items": null,
            "align_self": null,
            "border": null,
            "bottom": null,
            "display": null,
            "flex": null,
            "flex_flow": null,
            "grid_area": null,
            "grid_auto_columns": null,
            "grid_auto_flow": null,
            "grid_auto_rows": null,
            "grid_column": null,
            "grid_gap": null,
            "grid_row": null,
            "grid_template_areas": null,
            "grid_template_columns": null,
            "grid_template_rows": null,
            "height": "25px",
            "justify_content": null,
            "justify_items": null,
            "left": null,
            "margin": null,
            "max_height": null,
            "max_width": null,
            "min_height": null,
            "min_width": null,
            "object_fit": null,
            "object_position": null,
            "order": null,
            "overflow": null,
            "overflow_x": null,
            "overflow_y": null,
            "padding": null,
            "right": null,
            "top": null,
            "visibility": null,
            "width": "50%"
          }
        },
        "b77ebdf003eb450099c5ae13a19e41e3": {
          "model_module": "@jupyter-widgets/controls",
          "model_name": "ProgressStyleModel",
          "model_module_version": "1.5.0",
          "state": {
            "_model_module": "@jupyter-widgets/controls",
            "_model_module_version": "1.5.0",
            "_model_name": "ProgressStyleModel",
            "_view_count": null,
            "_view_module": "@jupyter-widgets/base",
            "_view_module_version": "1.2.0",
            "_view_name": "StyleView",
            "bar_color": null,
            "description_width": ""
          }
        },
        "866bf4cdd29b45fabfb6a2448f5b967b": {
          "model_module": "@jupyter-widgets/controls",
          "model_name": "FloatProgressModel",
          "model_module_version": "1.5.0",
          "state": {
            "_dom_classes": [],
            "_model_module": "@jupyter-widgets/controls",
            "_model_module_version": "1.5.0",
            "_model_name": "FloatProgressModel",
            "_view_count": null,
            "_view_module": "@jupyter-widgets/controls",
            "_view_module_version": "1.5.0",
            "_view_name": "ProgressView",
            "bar_style": "info",
            "description": "Progress:",
            "description_tooltip": null,
            "layout": "IPY_MODEL_2e528d50a56f4473b14797b95dc4a93f",
            "max": 1,
            "min": 0,
            "orientation": "horizontal",
            "style": "IPY_MODEL_60c3cf7f80a44ce29c6f01b04f396776",
            "value": 0.4444444444444444
          }
        },
        "2e528d50a56f4473b14797b95dc4a93f": {
          "model_module": "@jupyter-widgets/base",
          "model_name": "LayoutModel",
          "model_module_version": "1.2.0",
          "state": {
            "_model_module": "@jupyter-widgets/base",
            "_model_module_version": "1.2.0",
            "_model_name": "LayoutModel",
            "_view_count": null,
            "_view_module": "@jupyter-widgets/base",
            "_view_module_version": "1.2.0",
            "_view_name": "LayoutView",
            "align_content": null,
            "align_items": null,
            "align_self": null,
            "border": null,
            "bottom": null,
            "display": null,
            "flex": null,
            "flex_flow": null,
            "grid_area": null,
            "grid_auto_columns": null,
            "grid_auto_flow": null,
            "grid_auto_rows": null,
            "grid_column": null,
            "grid_gap": null,
            "grid_row": null,
            "grid_template_areas": null,
            "grid_template_columns": null,
            "grid_template_rows": null,
            "height": "25px",
            "justify_content": null,
            "justify_items": null,
            "left": null,
            "margin": null,
            "max_height": null,
            "max_width": null,
            "min_height": null,
            "min_width": null,
            "object_fit": null,
            "object_position": null,
            "order": null,
            "overflow": null,
            "overflow_x": null,
            "overflow_y": null,
            "padding": null,
            "right": null,
            "top": null,
            "visibility": null,
            "width": "50%"
          }
        },
        "60c3cf7f80a44ce29c6f01b04f396776": {
          "model_module": "@jupyter-widgets/controls",
          "model_name": "ProgressStyleModel",
          "model_module_version": "1.5.0",
          "state": {
            "_model_module": "@jupyter-widgets/controls",
            "_model_module_version": "1.5.0",
            "_model_name": "ProgressStyleModel",
            "_view_count": null,
            "_view_module": "@jupyter-widgets/base",
            "_view_module_version": "1.2.0",
            "_view_name": "StyleView",
            "bar_color": null,
            "description_width": ""
          }
        },
        "f1b0f35bd6944179b9f5161a4fb94c2d": {
          "model_module": "@jupyter-widgets/controls",
          "model_name": "FloatProgressModel",
          "model_module_version": "1.5.0",
          "state": {
            "_dom_classes": [],
            "_model_module": "@jupyter-widgets/controls",
            "_model_module_version": "1.5.0",
            "_model_name": "FloatProgressModel",
            "_view_count": null,
            "_view_module": "@jupyter-widgets/controls",
            "_view_module_version": "1.5.0",
            "_view_name": "ProgressView",
            "bar_style": "info",
            "description": "Progress:",
            "description_tooltip": null,
            "layout": "IPY_MODEL_e69b89bc3fc542d080956d54fa7dd1d1",
            "max": 1,
            "min": 0,
            "orientation": "horizontal",
            "style": "IPY_MODEL_8006342ac9a74010bdbe6bb0f09373a6",
            "value": 0
          }
        },
        "e69b89bc3fc542d080956d54fa7dd1d1": {
          "model_module": "@jupyter-widgets/base",
          "model_name": "LayoutModel",
          "model_module_version": "1.2.0",
          "state": {
            "_model_module": "@jupyter-widgets/base",
            "_model_module_version": "1.2.0",
            "_model_name": "LayoutModel",
            "_view_count": null,
            "_view_module": "@jupyter-widgets/base",
            "_view_module_version": "1.2.0",
            "_view_name": "LayoutView",
            "align_content": null,
            "align_items": null,
            "align_self": null,
            "border": null,
            "bottom": null,
            "display": null,
            "flex": null,
            "flex_flow": null,
            "grid_area": null,
            "grid_auto_columns": null,
            "grid_auto_flow": null,
            "grid_auto_rows": null,
            "grid_column": null,
            "grid_gap": null,
            "grid_row": null,
            "grid_template_areas": null,
            "grid_template_columns": null,
            "grid_template_rows": null,
            "height": "25px",
            "justify_content": null,
            "justify_items": null,
            "left": null,
            "margin": null,
            "max_height": null,
            "max_width": null,
            "min_height": null,
            "min_width": null,
            "object_fit": null,
            "object_position": null,
            "order": null,
            "overflow": null,
            "overflow_x": null,
            "overflow_y": null,
            "padding": null,
            "right": null,
            "top": null,
            "visibility": null,
            "width": "50%"
          }
        },
        "8006342ac9a74010bdbe6bb0f09373a6": {
          "model_module": "@jupyter-widgets/controls",
          "model_name": "ProgressStyleModel",
          "model_module_version": "1.5.0",
          "state": {
            "_model_module": "@jupyter-widgets/controls",
            "_model_module_version": "1.5.0",
            "_model_name": "ProgressStyleModel",
            "_view_count": null,
            "_view_module": "@jupyter-widgets/base",
            "_view_module_version": "1.2.0",
            "_view_name": "StyleView",
            "bar_color": null,
            "description_width": ""
          }
        },
        "d1b65e030d8147b9a6f4afb0ee2f0f19": {
          "model_module": "@jupyter-widgets/controls",
          "model_name": "FloatProgressModel",
          "model_module_version": "1.5.0",
          "state": {
            "_dom_classes": [],
            "_model_module": "@jupyter-widgets/controls",
            "_model_module_version": "1.5.0",
            "_model_name": "FloatProgressModel",
            "_view_count": null,
            "_view_module": "@jupyter-widgets/controls",
            "_view_module_version": "1.5.0",
            "_view_name": "ProgressView",
            "bar_style": "info",
            "description": "Progress:",
            "description_tooltip": null,
            "layout": "IPY_MODEL_6c5eed93c9874de9ab061364894de72d",
            "max": 1,
            "min": 0,
            "orientation": "horizontal",
            "style": "IPY_MODEL_4f147ab3a0ae4ed7ab18b80bd32f0589",
            "value": 0.8888888888888888
          }
        },
        "6c5eed93c9874de9ab061364894de72d": {
          "model_module": "@jupyter-widgets/base",
          "model_name": "LayoutModel",
          "model_module_version": "1.2.0",
          "state": {
            "_model_module": "@jupyter-widgets/base",
            "_model_module_version": "1.2.0",
            "_model_name": "LayoutModel",
            "_view_count": null,
            "_view_module": "@jupyter-widgets/base",
            "_view_module_version": "1.2.0",
            "_view_name": "LayoutView",
            "align_content": null,
            "align_items": null,
            "align_self": null,
            "border": null,
            "bottom": null,
            "display": null,
            "flex": null,
            "flex_flow": null,
            "grid_area": null,
            "grid_auto_columns": null,
            "grid_auto_flow": null,
            "grid_auto_rows": null,
            "grid_column": null,
            "grid_gap": null,
            "grid_row": null,
            "grid_template_areas": null,
            "grid_template_columns": null,
            "grid_template_rows": null,
            "height": "25px",
            "justify_content": null,
            "justify_items": null,
            "left": null,
            "margin": null,
            "max_height": null,
            "max_width": null,
            "min_height": null,
            "min_width": null,
            "object_fit": null,
            "object_position": null,
            "order": null,
            "overflow": null,
            "overflow_x": null,
            "overflow_y": null,
            "padding": null,
            "right": null,
            "top": null,
            "visibility": null,
            "width": "50%"
          }
        },
        "4f147ab3a0ae4ed7ab18b80bd32f0589": {
          "model_module": "@jupyter-widgets/controls",
          "model_name": "ProgressStyleModel",
          "model_module_version": "1.5.0",
          "state": {
            "_model_module": "@jupyter-widgets/controls",
            "_model_module_version": "1.5.0",
            "_model_name": "ProgressStyleModel",
            "_view_count": null,
            "_view_module": "@jupyter-widgets/base",
            "_view_module_version": "1.2.0",
            "_view_name": "StyleView",
            "bar_color": null,
            "description_width": ""
          }
        },
        "99363ad3909b45679c25dad90ea0c5ad": {
          "model_module": "@jupyter-widgets/controls",
          "model_name": "FloatProgressModel",
          "model_module_version": "1.5.0",
          "state": {
            "_dom_classes": [],
            "_model_module": "@jupyter-widgets/controls",
            "_model_module_version": "1.5.0",
            "_model_name": "FloatProgressModel",
            "_view_count": null,
            "_view_module": "@jupyter-widgets/controls",
            "_view_module_version": "1.5.0",
            "_view_name": "ProgressView",
            "bar_style": "info",
            "description": "Progress:",
            "description_tooltip": null,
            "layout": "IPY_MODEL_cb23602dfb2244c8b445655c36083105",
            "max": 1,
            "min": 0,
            "orientation": "horizontal",
            "style": "IPY_MODEL_4cd0e834224441a9a656fa5c445e63b1",
            "value": 0
          }
        },
        "cb23602dfb2244c8b445655c36083105": {
          "model_module": "@jupyter-widgets/base",
          "model_name": "LayoutModel",
          "model_module_version": "1.2.0",
          "state": {
            "_model_module": "@jupyter-widgets/base",
            "_model_module_version": "1.2.0",
            "_model_name": "LayoutModel",
            "_view_count": null,
            "_view_module": "@jupyter-widgets/base",
            "_view_module_version": "1.2.0",
            "_view_name": "LayoutView",
            "align_content": null,
            "align_items": null,
            "align_self": null,
            "border": null,
            "bottom": null,
            "display": null,
            "flex": null,
            "flex_flow": null,
            "grid_area": null,
            "grid_auto_columns": null,
            "grid_auto_flow": null,
            "grid_auto_rows": null,
            "grid_column": null,
            "grid_gap": null,
            "grid_row": null,
            "grid_template_areas": null,
            "grid_template_columns": null,
            "grid_template_rows": null,
            "height": "25px",
            "justify_content": null,
            "justify_items": null,
            "left": null,
            "margin": null,
            "max_height": null,
            "max_width": null,
            "min_height": null,
            "min_width": null,
            "object_fit": null,
            "object_position": null,
            "order": null,
            "overflow": null,
            "overflow_x": null,
            "overflow_y": null,
            "padding": null,
            "right": null,
            "top": null,
            "visibility": null,
            "width": "50%"
          }
        },
        "4cd0e834224441a9a656fa5c445e63b1": {
          "model_module": "@jupyter-widgets/controls",
          "model_name": "ProgressStyleModel",
          "model_module_version": "1.5.0",
          "state": {
            "_model_module": "@jupyter-widgets/controls",
            "_model_module_version": "1.5.0",
            "_model_name": "ProgressStyleModel",
            "_view_count": null,
            "_view_module": "@jupyter-widgets/base",
            "_view_module_version": "1.2.0",
            "_view_name": "StyleView",
            "bar_color": null,
            "description_width": ""
          }
        },
        "48f4c774653d4db3b7ab572ae9da7ec3": {
          "model_module": "@jupyter-widgets/controls",
          "model_name": "FloatProgressModel",
          "model_module_version": "1.5.0",
          "state": {
            "_dom_classes": [],
            "_model_module": "@jupyter-widgets/controls",
            "_model_module_version": "1.5.0",
            "_model_name": "FloatProgressModel",
            "_view_count": null,
            "_view_module": "@jupyter-widgets/controls",
            "_view_module_version": "1.5.0",
            "_view_name": "ProgressView",
            "bar_style": "info",
            "description": "Progress:",
            "description_tooltip": null,
            "layout": "IPY_MODEL_59ceb6031676488da671332ae7bfd237",
            "max": 1,
            "min": 0,
            "orientation": "horizontal",
            "style": "IPY_MODEL_1d5986fcdbb84ccdacfa3d7e419c311b",
            "value": 0
          }
        },
        "59ceb6031676488da671332ae7bfd237": {
          "model_module": "@jupyter-widgets/base",
          "model_name": "LayoutModel",
          "model_module_version": "1.2.0",
          "state": {
            "_model_module": "@jupyter-widgets/base",
            "_model_module_version": "1.2.0",
            "_model_name": "LayoutModel",
            "_view_count": null,
            "_view_module": "@jupyter-widgets/base",
            "_view_module_version": "1.2.0",
            "_view_name": "LayoutView",
            "align_content": null,
            "align_items": null,
            "align_self": null,
            "border": null,
            "bottom": null,
            "display": null,
            "flex": null,
            "flex_flow": null,
            "grid_area": null,
            "grid_auto_columns": null,
            "grid_auto_flow": null,
            "grid_auto_rows": null,
            "grid_column": null,
            "grid_gap": null,
            "grid_row": null,
            "grid_template_areas": null,
            "grid_template_columns": null,
            "grid_template_rows": null,
            "height": "25px",
            "justify_content": null,
            "justify_items": null,
            "left": null,
            "margin": null,
            "max_height": null,
            "max_width": null,
            "min_height": null,
            "min_width": null,
            "object_fit": null,
            "object_position": null,
            "order": null,
            "overflow": null,
            "overflow_x": null,
            "overflow_y": null,
            "padding": null,
            "right": null,
            "top": null,
            "visibility": null,
            "width": "50%"
          }
        },
        "1d5986fcdbb84ccdacfa3d7e419c311b": {
          "model_module": "@jupyter-widgets/controls",
          "model_name": "ProgressStyleModel",
          "model_module_version": "1.5.0",
          "state": {
            "_model_module": "@jupyter-widgets/controls",
            "_model_module_version": "1.5.0",
            "_model_name": "ProgressStyleModel",
            "_view_count": null,
            "_view_module": "@jupyter-widgets/base",
            "_view_module_version": "1.2.0",
            "_view_name": "StyleView",
            "bar_color": null,
            "description_width": ""
          }
        },
        "1be453b593d34cd5b091e5c3b2f61d2a": {
          "model_module": "@jupyter-widgets/controls",
          "model_name": "FloatProgressModel",
          "model_module_version": "1.5.0",
          "state": {
            "_dom_classes": [],
            "_model_module": "@jupyter-widgets/controls",
            "_model_module_version": "1.5.0",
            "_model_name": "FloatProgressModel",
            "_view_count": null,
            "_view_module": "@jupyter-widgets/controls",
            "_view_module_version": "1.5.0",
            "_view_name": "ProgressView",
            "bar_style": "info",
            "description": "Progress:",
            "description_tooltip": null,
            "layout": "IPY_MODEL_b44fec480cf24a65949e8a51ce1d1efb",
            "max": 1,
            "min": 0,
            "orientation": "horizontal",
            "style": "IPY_MODEL_da7281a439c54f0c941ba10c7593f53f",
            "value": 0.1111111111111111
          }
        },
        "b44fec480cf24a65949e8a51ce1d1efb": {
          "model_module": "@jupyter-widgets/base",
          "model_name": "LayoutModel",
          "model_module_version": "1.2.0",
          "state": {
            "_model_module": "@jupyter-widgets/base",
            "_model_module_version": "1.2.0",
            "_model_name": "LayoutModel",
            "_view_count": null,
            "_view_module": "@jupyter-widgets/base",
            "_view_module_version": "1.2.0",
            "_view_name": "LayoutView",
            "align_content": null,
            "align_items": null,
            "align_self": null,
            "border": null,
            "bottom": null,
            "display": null,
            "flex": null,
            "flex_flow": null,
            "grid_area": null,
            "grid_auto_columns": null,
            "grid_auto_flow": null,
            "grid_auto_rows": null,
            "grid_column": null,
            "grid_gap": null,
            "grid_row": null,
            "grid_template_areas": null,
            "grid_template_columns": null,
            "grid_template_rows": null,
            "height": "25px",
            "justify_content": null,
            "justify_items": null,
            "left": null,
            "margin": null,
            "max_height": null,
            "max_width": null,
            "min_height": null,
            "min_width": null,
            "object_fit": null,
            "object_position": null,
            "order": null,
            "overflow": null,
            "overflow_x": null,
            "overflow_y": null,
            "padding": null,
            "right": null,
            "top": null,
            "visibility": null,
            "width": "50%"
          }
        },
        "da7281a439c54f0c941ba10c7593f53f": {
          "model_module": "@jupyter-widgets/controls",
          "model_name": "ProgressStyleModel",
          "model_module_version": "1.5.0",
          "state": {
            "_model_module": "@jupyter-widgets/controls",
            "_model_module_version": "1.5.0",
            "_model_name": "ProgressStyleModel",
            "_view_count": null,
            "_view_module": "@jupyter-widgets/base",
            "_view_module_version": "1.2.0",
            "_view_name": "StyleView",
            "bar_color": null,
            "description_width": ""
          }
        },
        "e2688459e258429fa862b48673466b9c": {
          "model_module": "@jupyter-widgets/controls",
          "model_name": "FloatProgressModel",
          "model_module_version": "1.5.0",
          "state": {
            "_dom_classes": [],
            "_model_module": "@jupyter-widgets/controls",
            "_model_module_version": "1.5.0",
            "_model_name": "FloatProgressModel",
            "_view_count": null,
            "_view_module": "@jupyter-widgets/controls",
            "_view_module_version": "1.5.0",
            "_view_name": "ProgressView",
            "bar_style": "info",
            "description": "Progress:",
            "description_tooltip": null,
            "layout": "IPY_MODEL_26a2cdb0c21b40b78165151e98facfa2",
            "max": 1,
            "min": 0,
            "orientation": "horizontal",
            "style": "IPY_MODEL_3a974288e46746d5ac819680e253bd1a",
            "value": 0
          }
        },
        "26a2cdb0c21b40b78165151e98facfa2": {
          "model_module": "@jupyter-widgets/base",
          "model_name": "LayoutModel",
          "model_module_version": "1.2.0",
          "state": {
            "_model_module": "@jupyter-widgets/base",
            "_model_module_version": "1.2.0",
            "_model_name": "LayoutModel",
            "_view_count": null,
            "_view_module": "@jupyter-widgets/base",
            "_view_module_version": "1.2.0",
            "_view_name": "LayoutView",
            "align_content": null,
            "align_items": null,
            "align_self": null,
            "border": null,
            "bottom": null,
            "display": null,
            "flex": null,
            "flex_flow": null,
            "grid_area": null,
            "grid_auto_columns": null,
            "grid_auto_flow": null,
            "grid_auto_rows": null,
            "grid_column": null,
            "grid_gap": null,
            "grid_row": null,
            "grid_template_areas": null,
            "grid_template_columns": null,
            "grid_template_rows": null,
            "height": "25px",
            "justify_content": null,
            "justify_items": null,
            "left": null,
            "margin": null,
            "max_height": null,
            "max_width": null,
            "min_height": null,
            "min_width": null,
            "object_fit": null,
            "object_position": null,
            "order": null,
            "overflow": null,
            "overflow_x": null,
            "overflow_y": null,
            "padding": null,
            "right": null,
            "top": null,
            "visibility": null,
            "width": "50%"
          }
        },
        "3a974288e46746d5ac819680e253bd1a": {
          "model_module": "@jupyter-widgets/controls",
          "model_name": "ProgressStyleModel",
          "model_module_version": "1.5.0",
          "state": {
            "_model_module": "@jupyter-widgets/controls",
            "_model_module_version": "1.5.0",
            "_model_name": "ProgressStyleModel",
            "_view_count": null,
            "_view_module": "@jupyter-widgets/base",
            "_view_module_version": "1.2.0",
            "_view_name": "StyleView",
            "bar_color": null,
            "description_width": ""
          }
        },
        "5e632bbd2e83480297b85fdd4342d222": {
          "model_module": "@jupyter-widgets/controls",
          "model_name": "FloatProgressModel",
          "model_module_version": "1.5.0",
          "state": {
            "_dom_classes": [],
            "_model_module": "@jupyter-widgets/controls",
            "_model_module_version": "1.5.0",
            "_model_name": "FloatProgressModel",
            "_view_count": null,
            "_view_module": "@jupyter-widgets/controls",
            "_view_module_version": "1.5.0",
            "_view_name": "ProgressView",
            "bar_style": "info",
            "description": "Progress:",
            "description_tooltip": null,
            "layout": "IPY_MODEL_e942c60eeb7544949582ca3cb785d991",
            "max": 1,
            "min": 0,
            "orientation": "horizontal",
            "style": "IPY_MODEL_e4f615dde46d4423a56cc1a1c68d1d54",
            "value": 0
          }
        },
        "e942c60eeb7544949582ca3cb785d991": {
          "model_module": "@jupyter-widgets/base",
          "model_name": "LayoutModel",
          "model_module_version": "1.2.0",
          "state": {
            "_model_module": "@jupyter-widgets/base",
            "_model_module_version": "1.2.0",
            "_model_name": "LayoutModel",
            "_view_count": null,
            "_view_module": "@jupyter-widgets/base",
            "_view_module_version": "1.2.0",
            "_view_name": "LayoutView",
            "align_content": null,
            "align_items": null,
            "align_self": null,
            "border": null,
            "bottom": null,
            "display": null,
            "flex": null,
            "flex_flow": null,
            "grid_area": null,
            "grid_auto_columns": null,
            "grid_auto_flow": null,
            "grid_auto_rows": null,
            "grid_column": null,
            "grid_gap": null,
            "grid_row": null,
            "grid_template_areas": null,
            "grid_template_columns": null,
            "grid_template_rows": null,
            "height": "25px",
            "justify_content": null,
            "justify_items": null,
            "left": null,
            "margin": null,
            "max_height": null,
            "max_width": null,
            "min_height": null,
            "min_width": null,
            "object_fit": null,
            "object_position": null,
            "order": null,
            "overflow": null,
            "overflow_x": null,
            "overflow_y": null,
            "padding": null,
            "right": null,
            "top": null,
            "visibility": null,
            "width": "50%"
          }
        },
        "e4f615dde46d4423a56cc1a1c68d1d54": {
          "model_module": "@jupyter-widgets/controls",
          "model_name": "ProgressStyleModel",
          "model_module_version": "1.5.0",
          "state": {
            "_model_module": "@jupyter-widgets/controls",
            "_model_module_version": "1.5.0",
            "_model_name": "ProgressStyleModel",
            "_view_count": null,
            "_view_module": "@jupyter-widgets/base",
            "_view_module_version": "1.2.0",
            "_view_name": "StyleView",
            "bar_color": null,
            "description_width": ""
          }
        },
        "31a814bc1d1d4acebd7f29c00d192ffd": {
          "model_module": "@jupyter-widgets/controls",
          "model_name": "FloatProgressModel",
          "model_module_version": "1.5.0",
          "state": {
            "_dom_classes": [],
            "_model_module": "@jupyter-widgets/controls",
            "_model_module_version": "1.5.0",
            "_model_name": "FloatProgressModel",
            "_view_count": null,
            "_view_module": "@jupyter-widgets/controls",
            "_view_module_version": "1.5.0",
            "_view_name": "ProgressView",
            "bar_style": "info",
            "description": "Progress:",
            "description_tooltip": null,
            "layout": "IPY_MODEL_9f36140a28ac4d388b9c6cae945e60b0",
            "max": 1,
            "min": 0,
            "orientation": "horizontal",
            "style": "IPY_MODEL_a30f7d40eb6d453d8f3d15c0ae0366d7",
            "value": 0
          }
        },
        "9f36140a28ac4d388b9c6cae945e60b0": {
          "model_module": "@jupyter-widgets/base",
          "model_name": "LayoutModel",
          "model_module_version": "1.2.0",
          "state": {
            "_model_module": "@jupyter-widgets/base",
            "_model_module_version": "1.2.0",
            "_model_name": "LayoutModel",
            "_view_count": null,
            "_view_module": "@jupyter-widgets/base",
            "_view_module_version": "1.2.0",
            "_view_name": "LayoutView",
            "align_content": null,
            "align_items": null,
            "align_self": null,
            "border": null,
            "bottom": null,
            "display": null,
            "flex": null,
            "flex_flow": null,
            "grid_area": null,
            "grid_auto_columns": null,
            "grid_auto_flow": null,
            "grid_auto_rows": null,
            "grid_column": null,
            "grid_gap": null,
            "grid_row": null,
            "grid_template_areas": null,
            "grid_template_columns": null,
            "grid_template_rows": null,
            "height": "25px",
            "justify_content": null,
            "justify_items": null,
            "left": null,
            "margin": null,
            "max_height": null,
            "max_width": null,
            "min_height": null,
            "min_width": null,
            "object_fit": null,
            "object_position": null,
            "order": null,
            "overflow": null,
            "overflow_x": null,
            "overflow_y": null,
            "padding": null,
            "right": null,
            "top": null,
            "visibility": null,
            "width": "50%"
          }
        },
        "a30f7d40eb6d453d8f3d15c0ae0366d7": {
          "model_module": "@jupyter-widgets/controls",
          "model_name": "ProgressStyleModel",
          "model_module_version": "1.5.0",
          "state": {
            "_model_module": "@jupyter-widgets/controls",
            "_model_module_version": "1.5.0",
            "_model_name": "ProgressStyleModel",
            "_view_count": null,
            "_view_module": "@jupyter-widgets/base",
            "_view_module_version": "1.2.0",
            "_view_name": "StyleView",
            "bar_color": null,
            "description_width": ""
          }
        },
        "03a6581c375a41bb8c0d69902332b609": {
          "model_module": "@jupyter-widgets/controls",
          "model_name": "FloatProgressModel",
          "model_module_version": "1.5.0",
          "state": {
            "_dom_classes": [],
            "_model_module": "@jupyter-widgets/controls",
            "_model_module_version": "1.5.0",
            "_model_name": "FloatProgressModel",
            "_view_count": null,
            "_view_module": "@jupyter-widgets/controls",
            "_view_module_version": "1.5.0",
            "_view_name": "ProgressView",
            "bar_style": "info",
            "description": "Progress:",
            "description_tooltip": null,
            "layout": "IPY_MODEL_8db4b5171ff84c9b812c2cc15b900ed9",
            "max": 1,
            "min": 0,
            "orientation": "horizontal",
            "style": "IPY_MODEL_03b2492732c14fa4997f565cc143600a",
            "value": 0
          }
        },
        "8db4b5171ff84c9b812c2cc15b900ed9": {
          "model_module": "@jupyter-widgets/base",
          "model_name": "LayoutModel",
          "model_module_version": "1.2.0",
          "state": {
            "_model_module": "@jupyter-widgets/base",
            "_model_module_version": "1.2.0",
            "_model_name": "LayoutModel",
            "_view_count": null,
            "_view_module": "@jupyter-widgets/base",
            "_view_module_version": "1.2.0",
            "_view_name": "LayoutView",
            "align_content": null,
            "align_items": null,
            "align_self": null,
            "border": null,
            "bottom": null,
            "display": null,
            "flex": null,
            "flex_flow": null,
            "grid_area": null,
            "grid_auto_columns": null,
            "grid_auto_flow": null,
            "grid_auto_rows": null,
            "grid_column": null,
            "grid_gap": null,
            "grid_row": null,
            "grid_template_areas": null,
            "grid_template_columns": null,
            "grid_template_rows": null,
            "height": "25px",
            "justify_content": null,
            "justify_items": null,
            "left": null,
            "margin": null,
            "max_height": null,
            "max_width": null,
            "min_height": null,
            "min_width": null,
            "object_fit": null,
            "object_position": null,
            "order": null,
            "overflow": null,
            "overflow_x": null,
            "overflow_y": null,
            "padding": null,
            "right": null,
            "top": null,
            "visibility": null,
            "width": "50%"
          }
        },
        "03b2492732c14fa4997f565cc143600a": {
          "model_module": "@jupyter-widgets/controls",
          "model_name": "ProgressStyleModel",
          "model_module_version": "1.5.0",
          "state": {
            "_model_module": "@jupyter-widgets/controls",
            "_model_module_version": "1.5.0",
            "_model_name": "ProgressStyleModel",
            "_view_count": null,
            "_view_module": "@jupyter-widgets/base",
            "_view_module_version": "1.2.0",
            "_view_name": "StyleView",
            "bar_color": null,
            "description_width": ""
          }
        },
        "6d9d3c16a8314491bec5a39a87c61619": {
          "model_module": "@jupyter-widgets/controls",
          "model_name": "FloatProgressModel",
          "model_module_version": "1.5.0",
          "state": {
            "_dom_classes": [],
            "_model_module": "@jupyter-widgets/controls",
            "_model_module_version": "1.5.0",
            "_model_name": "FloatProgressModel",
            "_view_count": null,
            "_view_module": "@jupyter-widgets/controls",
            "_view_module_version": "1.5.0",
            "_view_name": "ProgressView",
            "bar_style": "info",
            "description": "Progress:",
            "description_tooltip": null,
            "layout": "IPY_MODEL_90d803441dbb40f28d9958770be5c475",
            "max": 1,
            "min": 0,
            "orientation": "horizontal",
            "style": "IPY_MODEL_019f08a2cc9141a5aaaa1f0e21fa6fae",
            "value": 0.125
          }
        },
        "90d803441dbb40f28d9958770be5c475": {
          "model_module": "@jupyter-widgets/base",
          "model_name": "LayoutModel",
          "model_module_version": "1.2.0",
          "state": {
            "_model_module": "@jupyter-widgets/base",
            "_model_module_version": "1.2.0",
            "_model_name": "LayoutModel",
            "_view_count": null,
            "_view_module": "@jupyter-widgets/base",
            "_view_module_version": "1.2.0",
            "_view_name": "LayoutView",
            "align_content": null,
            "align_items": null,
            "align_self": null,
            "border": null,
            "bottom": null,
            "display": null,
            "flex": null,
            "flex_flow": null,
            "grid_area": null,
            "grid_auto_columns": null,
            "grid_auto_flow": null,
            "grid_auto_rows": null,
            "grid_column": null,
            "grid_gap": null,
            "grid_row": null,
            "grid_template_areas": null,
            "grid_template_columns": null,
            "grid_template_rows": null,
            "height": "25px",
            "justify_content": null,
            "justify_items": null,
            "left": null,
            "margin": null,
            "max_height": null,
            "max_width": null,
            "min_height": null,
            "min_width": null,
            "object_fit": null,
            "object_position": null,
            "order": null,
            "overflow": null,
            "overflow_x": null,
            "overflow_y": null,
            "padding": null,
            "right": null,
            "top": null,
            "visibility": null,
            "width": "50%"
          }
        },
        "019f08a2cc9141a5aaaa1f0e21fa6fae": {
          "model_module": "@jupyter-widgets/controls",
          "model_name": "ProgressStyleModel",
          "model_module_version": "1.5.0",
          "state": {
            "_model_module": "@jupyter-widgets/controls",
            "_model_module_version": "1.5.0",
            "_model_name": "ProgressStyleModel",
            "_view_count": null,
            "_view_module": "@jupyter-widgets/base",
            "_view_module_version": "1.2.0",
            "_view_name": "StyleView",
            "bar_color": null,
            "description_width": ""
          }
        },
        "be0de692898441a2b2740cab2d11de61": {
          "model_module": "@jupyter-widgets/controls",
          "model_name": "FloatProgressModel",
          "model_module_version": "1.5.0",
          "state": {
            "_dom_classes": [],
            "_model_module": "@jupyter-widgets/controls",
            "_model_module_version": "1.5.0",
            "_model_name": "FloatProgressModel",
            "_view_count": null,
            "_view_module": "@jupyter-widgets/controls",
            "_view_module_version": "1.5.0",
            "_view_name": "ProgressView",
            "bar_style": "info",
            "description": "Progress:",
            "description_tooltip": null,
            "layout": "IPY_MODEL_9b4b425a1e8345a0b0f138ae24e27d8b",
            "max": 1,
            "min": 0,
            "orientation": "horizontal",
            "style": "IPY_MODEL_38819510c46a4ab29285d42944fed9eb",
            "value": 0
          }
        },
        "9b4b425a1e8345a0b0f138ae24e27d8b": {
          "model_module": "@jupyter-widgets/base",
          "model_name": "LayoutModel",
          "model_module_version": "1.2.0",
          "state": {
            "_model_module": "@jupyter-widgets/base",
            "_model_module_version": "1.2.0",
            "_model_name": "LayoutModel",
            "_view_count": null,
            "_view_module": "@jupyter-widgets/base",
            "_view_module_version": "1.2.0",
            "_view_name": "LayoutView",
            "align_content": null,
            "align_items": null,
            "align_self": null,
            "border": null,
            "bottom": null,
            "display": null,
            "flex": null,
            "flex_flow": null,
            "grid_area": null,
            "grid_auto_columns": null,
            "grid_auto_flow": null,
            "grid_auto_rows": null,
            "grid_column": null,
            "grid_gap": null,
            "grid_row": null,
            "grid_template_areas": null,
            "grid_template_columns": null,
            "grid_template_rows": null,
            "height": "25px",
            "justify_content": null,
            "justify_items": null,
            "left": null,
            "margin": null,
            "max_height": null,
            "max_width": null,
            "min_height": null,
            "min_width": null,
            "object_fit": null,
            "object_position": null,
            "order": null,
            "overflow": null,
            "overflow_x": null,
            "overflow_y": null,
            "padding": null,
            "right": null,
            "top": null,
            "visibility": null,
            "width": "50%"
          }
        },
        "38819510c46a4ab29285d42944fed9eb": {
          "model_module": "@jupyter-widgets/controls",
          "model_name": "ProgressStyleModel",
          "model_module_version": "1.5.0",
          "state": {
            "_model_module": "@jupyter-widgets/controls",
            "_model_module_version": "1.5.0",
            "_model_name": "ProgressStyleModel",
            "_view_count": null,
            "_view_module": "@jupyter-widgets/base",
            "_view_module_version": "1.2.0",
            "_view_name": "StyleView",
            "bar_color": null,
            "description_width": ""
          }
        },
        "907ed763285f4594afa3368df94ea824": {
          "model_module": "@jupyter-widgets/controls",
          "model_name": "FloatProgressModel",
          "model_module_version": "1.5.0",
          "state": {
            "_dom_classes": [],
            "_model_module": "@jupyter-widgets/controls",
            "_model_module_version": "1.5.0",
            "_model_name": "FloatProgressModel",
            "_view_count": null,
            "_view_module": "@jupyter-widgets/controls",
            "_view_module_version": "1.5.0",
            "_view_name": "ProgressView",
            "bar_style": "info",
            "description": "Progress:",
            "description_tooltip": null,
            "layout": "IPY_MODEL_2506bd70fd2f4373b4bb232e8083e4f7",
            "max": 1,
            "min": 0,
            "orientation": "horizontal",
            "style": "IPY_MODEL_f66d61da01c44a4d8b4e2bd029944100",
            "value": 0
          }
        },
        "2506bd70fd2f4373b4bb232e8083e4f7": {
          "model_module": "@jupyter-widgets/base",
          "model_name": "LayoutModel",
          "model_module_version": "1.2.0",
          "state": {
            "_model_module": "@jupyter-widgets/base",
            "_model_module_version": "1.2.0",
            "_model_name": "LayoutModel",
            "_view_count": null,
            "_view_module": "@jupyter-widgets/base",
            "_view_module_version": "1.2.0",
            "_view_name": "LayoutView",
            "align_content": null,
            "align_items": null,
            "align_self": null,
            "border": null,
            "bottom": null,
            "display": null,
            "flex": null,
            "flex_flow": null,
            "grid_area": null,
            "grid_auto_columns": null,
            "grid_auto_flow": null,
            "grid_auto_rows": null,
            "grid_column": null,
            "grid_gap": null,
            "grid_row": null,
            "grid_template_areas": null,
            "grid_template_columns": null,
            "grid_template_rows": null,
            "height": "25px",
            "justify_content": null,
            "justify_items": null,
            "left": null,
            "margin": null,
            "max_height": null,
            "max_width": null,
            "min_height": null,
            "min_width": null,
            "object_fit": null,
            "object_position": null,
            "order": null,
            "overflow": null,
            "overflow_x": null,
            "overflow_y": null,
            "padding": null,
            "right": null,
            "top": null,
            "visibility": null,
            "width": "50%"
          }
        },
        "f66d61da01c44a4d8b4e2bd029944100": {
          "model_module": "@jupyter-widgets/controls",
          "model_name": "ProgressStyleModel",
          "model_module_version": "1.5.0",
          "state": {
            "_model_module": "@jupyter-widgets/controls",
            "_model_module_version": "1.5.0",
            "_model_name": "ProgressStyleModel",
            "_view_count": null,
            "_view_module": "@jupyter-widgets/base",
            "_view_module_version": "1.2.0",
            "_view_name": "StyleView",
            "bar_color": null,
            "description_width": ""
          }
        },
        "d8fd7ce122e74ef2a9a4ba0a7d4801d9": {
          "model_module": "@jupyter-widgets/controls",
          "model_name": "FloatProgressModel",
          "model_module_version": "1.5.0",
          "state": {
            "_dom_classes": [],
            "_model_module": "@jupyter-widgets/controls",
            "_model_module_version": "1.5.0",
            "_model_name": "FloatProgressModel",
            "_view_count": null,
            "_view_module": "@jupyter-widgets/controls",
            "_view_module_version": "1.5.0",
            "_view_name": "ProgressView",
            "bar_style": "info",
            "description": "Progress:",
            "description_tooltip": null,
            "layout": "IPY_MODEL_1734f09adc90400f96226e82e8053667",
            "max": 1,
            "min": 0,
            "orientation": "horizontal",
            "style": "IPY_MODEL_e25844bd63b345b98c350b91d741ded3",
            "value": 0
          }
        },
        "1734f09adc90400f96226e82e8053667": {
          "model_module": "@jupyter-widgets/base",
          "model_name": "LayoutModel",
          "model_module_version": "1.2.0",
          "state": {
            "_model_module": "@jupyter-widgets/base",
            "_model_module_version": "1.2.0",
            "_model_name": "LayoutModel",
            "_view_count": null,
            "_view_module": "@jupyter-widgets/base",
            "_view_module_version": "1.2.0",
            "_view_name": "LayoutView",
            "align_content": null,
            "align_items": null,
            "align_self": null,
            "border": null,
            "bottom": null,
            "display": null,
            "flex": null,
            "flex_flow": null,
            "grid_area": null,
            "grid_auto_columns": null,
            "grid_auto_flow": null,
            "grid_auto_rows": null,
            "grid_column": null,
            "grid_gap": null,
            "grid_row": null,
            "grid_template_areas": null,
            "grid_template_columns": null,
            "grid_template_rows": null,
            "height": "25px",
            "justify_content": null,
            "justify_items": null,
            "left": null,
            "margin": null,
            "max_height": null,
            "max_width": null,
            "min_height": null,
            "min_width": null,
            "object_fit": null,
            "object_position": null,
            "order": null,
            "overflow": null,
            "overflow_x": null,
            "overflow_y": null,
            "padding": null,
            "right": null,
            "top": null,
            "visibility": null,
            "width": "50%"
          }
        },
        "e25844bd63b345b98c350b91d741ded3": {
          "model_module": "@jupyter-widgets/controls",
          "model_name": "ProgressStyleModel",
          "model_module_version": "1.5.0",
          "state": {
            "_model_module": "@jupyter-widgets/controls",
            "_model_module_version": "1.5.0",
            "_model_name": "ProgressStyleModel",
            "_view_count": null,
            "_view_module": "@jupyter-widgets/base",
            "_view_module_version": "1.2.0",
            "_view_name": "StyleView",
            "bar_color": null,
            "description_width": ""
          }
        },
        "bca559feac544da5b0fc690e21e2e7b4": {
          "model_module": "@jupyter-widgets/controls",
          "model_name": "FloatProgressModel",
          "model_module_version": "1.5.0",
          "state": {
            "_dom_classes": [],
            "_model_module": "@jupyter-widgets/controls",
            "_model_module_version": "1.5.0",
            "_model_name": "FloatProgressModel",
            "_view_count": null,
            "_view_module": "@jupyter-widgets/controls",
            "_view_module_version": "1.5.0",
            "_view_name": "ProgressView",
            "bar_style": "info",
            "description": "Progress:",
            "description_tooltip": null,
            "layout": "IPY_MODEL_0e27308c1f504a09ac2891f8098a6083",
            "max": 1,
            "min": 0,
            "orientation": "horizontal",
            "style": "IPY_MODEL_ea328d5660ba4b8e92402945fd70cf67",
            "value": 0
          }
        },
        "0e27308c1f504a09ac2891f8098a6083": {
          "model_module": "@jupyter-widgets/base",
          "model_name": "LayoutModel",
          "model_module_version": "1.2.0",
          "state": {
            "_model_module": "@jupyter-widgets/base",
            "_model_module_version": "1.2.0",
            "_model_name": "LayoutModel",
            "_view_count": null,
            "_view_module": "@jupyter-widgets/base",
            "_view_module_version": "1.2.0",
            "_view_name": "LayoutView",
            "align_content": null,
            "align_items": null,
            "align_self": null,
            "border": null,
            "bottom": null,
            "display": null,
            "flex": null,
            "flex_flow": null,
            "grid_area": null,
            "grid_auto_columns": null,
            "grid_auto_flow": null,
            "grid_auto_rows": null,
            "grid_column": null,
            "grid_gap": null,
            "grid_row": null,
            "grid_template_areas": null,
            "grid_template_columns": null,
            "grid_template_rows": null,
            "height": "25px",
            "justify_content": null,
            "justify_items": null,
            "left": null,
            "margin": null,
            "max_height": null,
            "max_width": null,
            "min_height": null,
            "min_width": null,
            "object_fit": null,
            "object_position": null,
            "order": null,
            "overflow": null,
            "overflow_x": null,
            "overflow_y": null,
            "padding": null,
            "right": null,
            "top": null,
            "visibility": null,
            "width": "50%"
          }
        },
        "ea328d5660ba4b8e92402945fd70cf67": {
          "model_module": "@jupyter-widgets/controls",
          "model_name": "ProgressStyleModel",
          "model_module_version": "1.5.0",
          "state": {
            "_model_module": "@jupyter-widgets/controls",
            "_model_module_version": "1.5.0",
            "_model_name": "ProgressStyleModel",
            "_view_count": null,
            "_view_module": "@jupyter-widgets/base",
            "_view_module_version": "1.2.0",
            "_view_name": "StyleView",
            "bar_color": null,
            "description_width": ""
          }
        },
        "2326556bb09443ada995c8846b01a23e": {
          "model_module": "@jupyter-widgets/controls",
          "model_name": "FloatProgressModel",
          "model_module_version": "1.5.0",
          "state": {
            "_dom_classes": [],
            "_model_module": "@jupyter-widgets/controls",
            "_model_module_version": "1.5.0",
            "_model_name": "FloatProgressModel",
            "_view_count": null,
            "_view_module": "@jupyter-widgets/controls",
            "_view_module_version": "1.5.0",
            "_view_name": "ProgressView",
            "bar_style": "info",
            "description": "Progress:",
            "description_tooltip": null,
            "layout": "IPY_MODEL_2308728051184bb3bdaa08ec31538d7f",
            "max": 1,
            "min": 0,
            "orientation": "horizontal",
            "style": "IPY_MODEL_38ae7768ff644d00bd6b72d9dbe3f4b9",
            "value": 0
          }
        },
        "2308728051184bb3bdaa08ec31538d7f": {
          "model_module": "@jupyter-widgets/base",
          "model_name": "LayoutModel",
          "model_module_version": "1.2.0",
          "state": {
            "_model_module": "@jupyter-widgets/base",
            "_model_module_version": "1.2.0",
            "_model_name": "LayoutModel",
            "_view_count": null,
            "_view_module": "@jupyter-widgets/base",
            "_view_module_version": "1.2.0",
            "_view_name": "LayoutView",
            "align_content": null,
            "align_items": null,
            "align_self": null,
            "border": null,
            "bottom": null,
            "display": null,
            "flex": null,
            "flex_flow": null,
            "grid_area": null,
            "grid_auto_columns": null,
            "grid_auto_flow": null,
            "grid_auto_rows": null,
            "grid_column": null,
            "grid_gap": null,
            "grid_row": null,
            "grid_template_areas": null,
            "grid_template_columns": null,
            "grid_template_rows": null,
            "height": "25px",
            "justify_content": null,
            "justify_items": null,
            "left": null,
            "margin": null,
            "max_height": null,
            "max_width": null,
            "min_height": null,
            "min_width": null,
            "object_fit": null,
            "object_position": null,
            "order": null,
            "overflow": null,
            "overflow_x": null,
            "overflow_y": null,
            "padding": null,
            "right": null,
            "top": null,
            "visibility": null,
            "width": "50%"
          }
        },
        "38ae7768ff644d00bd6b72d9dbe3f4b9": {
          "model_module": "@jupyter-widgets/controls",
          "model_name": "ProgressStyleModel",
          "model_module_version": "1.5.0",
          "state": {
            "_model_module": "@jupyter-widgets/controls",
            "_model_module_version": "1.5.0",
            "_model_name": "ProgressStyleModel",
            "_view_count": null,
            "_view_module": "@jupyter-widgets/base",
            "_view_module_version": "1.2.0",
            "_view_name": "StyleView",
            "bar_color": null,
            "description_width": ""
          }
        },
        "637a26c1a9b14e0cb42a71fad5cfa8ff": {
          "model_module": "@jupyter-widgets/controls",
          "model_name": "FloatProgressModel",
          "model_module_version": "1.5.0",
          "state": {
            "_dom_classes": [],
            "_model_module": "@jupyter-widgets/controls",
            "_model_module_version": "1.5.0",
            "_model_name": "FloatProgressModel",
            "_view_count": null,
            "_view_module": "@jupyter-widgets/controls",
            "_view_module_version": "1.5.0",
            "_view_name": "ProgressView",
            "bar_style": "info",
            "description": "Progress:",
            "description_tooltip": null,
            "layout": "IPY_MODEL_163dae57925c4e49a66f288f0e3b2854",
            "max": 1,
            "min": 0,
            "orientation": "horizontal",
            "style": "IPY_MODEL_e422288054ff4f70a84644f9d08816ae",
            "value": 0
          }
        },
        "163dae57925c4e49a66f288f0e3b2854": {
          "model_module": "@jupyter-widgets/base",
          "model_name": "LayoutModel",
          "model_module_version": "1.2.0",
          "state": {
            "_model_module": "@jupyter-widgets/base",
            "_model_module_version": "1.2.0",
            "_model_name": "LayoutModel",
            "_view_count": null,
            "_view_module": "@jupyter-widgets/base",
            "_view_module_version": "1.2.0",
            "_view_name": "LayoutView",
            "align_content": null,
            "align_items": null,
            "align_self": null,
            "border": null,
            "bottom": null,
            "display": null,
            "flex": null,
            "flex_flow": null,
            "grid_area": null,
            "grid_auto_columns": null,
            "grid_auto_flow": null,
            "grid_auto_rows": null,
            "grid_column": null,
            "grid_gap": null,
            "grid_row": null,
            "grid_template_areas": null,
            "grid_template_columns": null,
            "grid_template_rows": null,
            "height": "25px",
            "justify_content": null,
            "justify_items": null,
            "left": null,
            "margin": null,
            "max_height": null,
            "max_width": null,
            "min_height": null,
            "min_width": null,
            "object_fit": null,
            "object_position": null,
            "order": null,
            "overflow": null,
            "overflow_x": null,
            "overflow_y": null,
            "padding": null,
            "right": null,
            "top": null,
            "visibility": null,
            "width": "50%"
          }
        },
        "e422288054ff4f70a84644f9d08816ae": {
          "model_module": "@jupyter-widgets/controls",
          "model_name": "ProgressStyleModel",
          "model_module_version": "1.5.0",
          "state": {
            "_model_module": "@jupyter-widgets/controls",
            "_model_module_version": "1.5.0",
            "_model_name": "ProgressStyleModel",
            "_view_count": null,
            "_view_module": "@jupyter-widgets/base",
            "_view_module_version": "1.2.0",
            "_view_name": "StyleView",
            "bar_color": null,
            "description_width": ""
          }
        },
        "8f91626e7d9441d8b477152ab62f079f": {
          "model_module": "@jupyter-widgets/controls",
          "model_name": "FloatProgressModel",
          "model_module_version": "1.5.0",
          "state": {
            "_dom_classes": [],
            "_model_module": "@jupyter-widgets/controls",
            "_model_module_version": "1.5.0",
            "_model_name": "FloatProgressModel",
            "_view_count": null,
            "_view_module": "@jupyter-widgets/controls",
            "_view_module_version": "1.5.0",
            "_view_name": "ProgressView",
            "bar_style": "info",
            "description": "Progress:",
            "description_tooltip": null,
            "layout": "IPY_MODEL_220100b9f3484c509b6aa22772996e58",
            "max": 1,
            "min": 0,
            "orientation": "horizontal",
            "style": "IPY_MODEL_09b67c9acdbf47efaa08cad5ab728f41",
            "value": 0.8888888888888888
          }
        },
        "220100b9f3484c509b6aa22772996e58": {
          "model_module": "@jupyter-widgets/base",
          "model_name": "LayoutModel",
          "model_module_version": "1.2.0",
          "state": {
            "_model_module": "@jupyter-widgets/base",
            "_model_module_version": "1.2.0",
            "_model_name": "LayoutModel",
            "_view_count": null,
            "_view_module": "@jupyter-widgets/base",
            "_view_module_version": "1.2.0",
            "_view_name": "LayoutView",
            "align_content": null,
            "align_items": null,
            "align_self": null,
            "border": null,
            "bottom": null,
            "display": null,
            "flex": null,
            "flex_flow": null,
            "grid_area": null,
            "grid_auto_columns": null,
            "grid_auto_flow": null,
            "grid_auto_rows": null,
            "grid_column": null,
            "grid_gap": null,
            "grid_row": null,
            "grid_template_areas": null,
            "grid_template_columns": null,
            "grid_template_rows": null,
            "height": "25px",
            "justify_content": null,
            "justify_items": null,
            "left": null,
            "margin": null,
            "max_height": null,
            "max_width": null,
            "min_height": null,
            "min_width": null,
            "object_fit": null,
            "object_position": null,
            "order": null,
            "overflow": null,
            "overflow_x": null,
            "overflow_y": null,
            "padding": null,
            "right": null,
            "top": null,
            "visibility": null,
            "width": "50%"
          }
        },
        "09b67c9acdbf47efaa08cad5ab728f41": {
          "model_module": "@jupyter-widgets/controls",
          "model_name": "ProgressStyleModel",
          "model_module_version": "1.5.0",
          "state": {
            "_model_module": "@jupyter-widgets/controls",
            "_model_module_version": "1.5.0",
            "_model_name": "ProgressStyleModel",
            "_view_count": null,
            "_view_module": "@jupyter-widgets/base",
            "_view_module_version": "1.2.0",
            "_view_name": "StyleView",
            "bar_color": null,
            "description_width": ""
          }
        },
        "60806cdfc00f43a6be4946b376d50889": {
          "model_module": "@jupyter-widgets/controls",
          "model_name": "FloatProgressModel",
          "model_module_version": "1.5.0",
          "state": {
            "_dom_classes": [],
            "_model_module": "@jupyter-widgets/controls",
            "_model_module_version": "1.5.0",
            "_model_name": "FloatProgressModel",
            "_view_count": null,
            "_view_module": "@jupyter-widgets/controls",
            "_view_module_version": "1.5.0",
            "_view_name": "ProgressView",
            "bar_style": "info",
            "description": "Progress:",
            "description_tooltip": null,
            "layout": "IPY_MODEL_008e0db7be77408c9003895e334525d2",
            "max": 1,
            "min": 0,
            "orientation": "horizontal",
            "style": "IPY_MODEL_010149e997ca456e91df6bad70ed2d26",
            "value": 0
          }
        },
        "008e0db7be77408c9003895e334525d2": {
          "model_module": "@jupyter-widgets/base",
          "model_name": "LayoutModel",
          "model_module_version": "1.2.0",
          "state": {
            "_model_module": "@jupyter-widgets/base",
            "_model_module_version": "1.2.0",
            "_model_name": "LayoutModel",
            "_view_count": null,
            "_view_module": "@jupyter-widgets/base",
            "_view_module_version": "1.2.0",
            "_view_name": "LayoutView",
            "align_content": null,
            "align_items": null,
            "align_self": null,
            "border": null,
            "bottom": null,
            "display": null,
            "flex": null,
            "flex_flow": null,
            "grid_area": null,
            "grid_auto_columns": null,
            "grid_auto_flow": null,
            "grid_auto_rows": null,
            "grid_column": null,
            "grid_gap": null,
            "grid_row": null,
            "grid_template_areas": null,
            "grid_template_columns": null,
            "grid_template_rows": null,
            "height": "25px",
            "justify_content": null,
            "justify_items": null,
            "left": null,
            "margin": null,
            "max_height": null,
            "max_width": null,
            "min_height": null,
            "min_width": null,
            "object_fit": null,
            "object_position": null,
            "order": null,
            "overflow": null,
            "overflow_x": null,
            "overflow_y": null,
            "padding": null,
            "right": null,
            "top": null,
            "visibility": null,
            "width": "50%"
          }
        },
        "010149e997ca456e91df6bad70ed2d26": {
          "model_module": "@jupyter-widgets/controls",
          "model_name": "ProgressStyleModel",
          "model_module_version": "1.5.0",
          "state": {
            "_model_module": "@jupyter-widgets/controls",
            "_model_module_version": "1.5.0",
            "_model_name": "ProgressStyleModel",
            "_view_count": null,
            "_view_module": "@jupyter-widgets/base",
            "_view_module_version": "1.2.0",
            "_view_name": "StyleView",
            "bar_color": null,
            "description_width": ""
          }
        },
        "6c702749fef24933be5bfdeb47bf054d": {
          "model_module": "@jupyter-widgets/controls",
          "model_name": "FloatProgressModel",
          "model_module_version": "1.5.0",
          "state": {
            "_dom_classes": [],
            "_model_module": "@jupyter-widgets/controls",
            "_model_module_version": "1.5.0",
            "_model_name": "FloatProgressModel",
            "_view_count": null,
            "_view_module": "@jupyter-widgets/controls",
            "_view_module_version": "1.5.0",
            "_view_name": "ProgressView",
            "bar_style": "info",
            "description": "Progress:",
            "description_tooltip": null,
            "layout": "IPY_MODEL_9845394aa163453aaf534ac1b0562c63",
            "max": 1,
            "min": 0,
            "orientation": "horizontal",
            "style": "IPY_MODEL_3017a6fae8d841c6a3f91cb08c2e86c5",
            "value": 0
          }
        },
        "9845394aa163453aaf534ac1b0562c63": {
          "model_module": "@jupyter-widgets/base",
          "model_name": "LayoutModel",
          "model_module_version": "1.2.0",
          "state": {
            "_model_module": "@jupyter-widgets/base",
            "_model_module_version": "1.2.0",
            "_model_name": "LayoutModel",
            "_view_count": null,
            "_view_module": "@jupyter-widgets/base",
            "_view_module_version": "1.2.0",
            "_view_name": "LayoutView",
            "align_content": null,
            "align_items": null,
            "align_self": null,
            "border": null,
            "bottom": null,
            "display": null,
            "flex": null,
            "flex_flow": null,
            "grid_area": null,
            "grid_auto_columns": null,
            "grid_auto_flow": null,
            "grid_auto_rows": null,
            "grid_column": null,
            "grid_gap": null,
            "grid_row": null,
            "grid_template_areas": null,
            "grid_template_columns": null,
            "grid_template_rows": null,
            "height": "25px",
            "justify_content": null,
            "justify_items": null,
            "left": null,
            "margin": null,
            "max_height": null,
            "max_width": null,
            "min_height": null,
            "min_width": null,
            "object_fit": null,
            "object_position": null,
            "order": null,
            "overflow": null,
            "overflow_x": null,
            "overflow_y": null,
            "padding": null,
            "right": null,
            "top": null,
            "visibility": null,
            "width": "50%"
          }
        },
        "3017a6fae8d841c6a3f91cb08c2e86c5": {
          "model_module": "@jupyter-widgets/controls",
          "model_name": "ProgressStyleModel",
          "model_module_version": "1.5.0",
          "state": {
            "_model_module": "@jupyter-widgets/controls",
            "_model_module_version": "1.5.0",
            "_model_name": "ProgressStyleModel",
            "_view_count": null,
            "_view_module": "@jupyter-widgets/base",
            "_view_module_version": "1.2.0",
            "_view_name": "StyleView",
            "bar_color": null,
            "description_width": ""
          }
        },
        "7263fce2fa46455d971ffb798b94768f": {
          "model_module": "@jupyter-widgets/controls",
          "model_name": "FloatProgressModel",
          "model_module_version": "1.5.0",
          "state": {
            "_dom_classes": [],
            "_model_module": "@jupyter-widgets/controls",
            "_model_module_version": "1.5.0",
            "_model_name": "FloatProgressModel",
            "_view_count": null,
            "_view_module": "@jupyter-widgets/controls",
            "_view_module_version": "1.5.0",
            "_view_name": "ProgressView",
            "bar_style": "info",
            "description": "Progress:",
            "description_tooltip": null,
            "layout": "IPY_MODEL_ad9127764f5445368776cab0efcfb7c6",
            "max": 1,
            "min": 0,
            "orientation": "horizontal",
            "style": "IPY_MODEL_49223df559634498901d0d036d1b1aab",
            "value": 0
          }
        },
        "ad9127764f5445368776cab0efcfb7c6": {
          "model_module": "@jupyter-widgets/base",
          "model_name": "LayoutModel",
          "model_module_version": "1.2.0",
          "state": {
            "_model_module": "@jupyter-widgets/base",
            "_model_module_version": "1.2.0",
            "_model_name": "LayoutModel",
            "_view_count": null,
            "_view_module": "@jupyter-widgets/base",
            "_view_module_version": "1.2.0",
            "_view_name": "LayoutView",
            "align_content": null,
            "align_items": null,
            "align_self": null,
            "border": null,
            "bottom": null,
            "display": null,
            "flex": null,
            "flex_flow": null,
            "grid_area": null,
            "grid_auto_columns": null,
            "grid_auto_flow": null,
            "grid_auto_rows": null,
            "grid_column": null,
            "grid_gap": null,
            "grid_row": null,
            "grid_template_areas": null,
            "grid_template_columns": null,
            "grid_template_rows": null,
            "height": "25px",
            "justify_content": null,
            "justify_items": null,
            "left": null,
            "margin": null,
            "max_height": null,
            "max_width": null,
            "min_height": null,
            "min_width": null,
            "object_fit": null,
            "object_position": null,
            "order": null,
            "overflow": null,
            "overflow_x": null,
            "overflow_y": null,
            "padding": null,
            "right": null,
            "top": null,
            "visibility": null,
            "width": "50%"
          }
        },
        "49223df559634498901d0d036d1b1aab": {
          "model_module": "@jupyter-widgets/controls",
          "model_name": "ProgressStyleModel",
          "model_module_version": "1.5.0",
          "state": {
            "_model_module": "@jupyter-widgets/controls",
            "_model_module_version": "1.5.0",
            "_model_name": "ProgressStyleModel",
            "_view_count": null,
            "_view_module": "@jupyter-widgets/base",
            "_view_module_version": "1.2.0",
            "_view_name": "StyleView",
            "bar_color": null,
            "description_width": ""
          }
        },
        "8b725f83b8b74349b6bd6dbffbf051f0": {
          "model_module": "@jupyter-widgets/controls",
          "model_name": "FloatProgressModel",
          "model_module_version": "1.5.0",
          "state": {
            "_dom_classes": [],
            "_model_module": "@jupyter-widgets/controls",
            "_model_module_version": "1.5.0",
            "_model_name": "FloatProgressModel",
            "_view_count": null,
            "_view_module": "@jupyter-widgets/controls",
            "_view_module_version": "1.5.0",
            "_view_name": "ProgressView",
            "bar_style": "info",
            "description": "Progress:",
            "description_tooltip": null,
            "layout": "IPY_MODEL_cf25fa01e95e4fdaa94848c1d6526a90",
            "max": 1,
            "min": 0,
            "orientation": "horizontal",
            "style": "IPY_MODEL_6d73030be045457399ac1c528c72c906",
            "value": 0.7551487414187643
          }
        },
        "cf25fa01e95e4fdaa94848c1d6526a90": {
          "model_module": "@jupyter-widgets/base",
          "model_name": "LayoutModel",
          "model_module_version": "1.2.0",
          "state": {
            "_model_module": "@jupyter-widgets/base",
            "_model_module_version": "1.2.0",
            "_model_name": "LayoutModel",
            "_view_count": null,
            "_view_module": "@jupyter-widgets/base",
            "_view_module_version": "1.2.0",
            "_view_name": "LayoutView",
            "align_content": null,
            "align_items": null,
            "align_self": null,
            "border": null,
            "bottom": null,
            "display": null,
            "flex": null,
            "flex_flow": null,
            "grid_area": null,
            "grid_auto_columns": null,
            "grid_auto_flow": null,
            "grid_auto_rows": null,
            "grid_column": null,
            "grid_gap": null,
            "grid_row": null,
            "grid_template_areas": null,
            "grid_template_columns": null,
            "grid_template_rows": null,
            "height": "25px",
            "justify_content": null,
            "justify_items": null,
            "left": null,
            "margin": null,
            "max_height": null,
            "max_width": null,
            "min_height": null,
            "min_width": null,
            "object_fit": null,
            "object_position": null,
            "order": null,
            "overflow": null,
            "overflow_x": null,
            "overflow_y": null,
            "padding": null,
            "right": null,
            "top": null,
            "visibility": null,
            "width": "50%"
          }
        },
        "6d73030be045457399ac1c528c72c906": {
          "model_module": "@jupyter-widgets/controls",
          "model_name": "ProgressStyleModel",
          "model_module_version": "1.5.0",
          "state": {
            "_model_module": "@jupyter-widgets/controls",
            "_model_module_version": "1.5.0",
            "_model_name": "ProgressStyleModel",
            "_view_count": null,
            "_view_module": "@jupyter-widgets/base",
            "_view_module_version": "1.2.0",
            "_view_name": "StyleView",
            "bar_color": null,
            "description_width": ""
          }
        },
        "fda3301ae9994272b9ac43ae81cff145": {
          "model_module": "@jupyter-widgets/controls",
          "model_name": "FloatProgressModel",
          "model_module_version": "1.5.0",
          "state": {
            "_dom_classes": [],
            "_model_module": "@jupyter-widgets/controls",
            "_model_module_version": "1.5.0",
            "_model_name": "FloatProgressModel",
            "_view_count": null,
            "_view_module": "@jupyter-widgets/controls",
            "_view_module_version": "1.5.0",
            "_view_name": "ProgressView",
            "bar_style": "info",
            "description": "Progress:",
            "description_tooltip": null,
            "layout": "IPY_MODEL_839efa24f0394e99985409132e06e154",
            "max": 1,
            "min": 0,
            "orientation": "horizontal",
            "style": "IPY_MODEL_6d5c5ae13c7d42adb793dc744cc324da",
            "value": 0
          }
        },
        "839efa24f0394e99985409132e06e154": {
          "model_module": "@jupyter-widgets/base",
          "model_name": "LayoutModel",
          "model_module_version": "1.2.0",
          "state": {
            "_model_module": "@jupyter-widgets/base",
            "_model_module_version": "1.2.0",
            "_model_name": "LayoutModel",
            "_view_count": null,
            "_view_module": "@jupyter-widgets/base",
            "_view_module_version": "1.2.0",
            "_view_name": "LayoutView",
            "align_content": null,
            "align_items": null,
            "align_self": null,
            "border": null,
            "bottom": null,
            "display": null,
            "flex": null,
            "flex_flow": null,
            "grid_area": null,
            "grid_auto_columns": null,
            "grid_auto_flow": null,
            "grid_auto_rows": null,
            "grid_column": null,
            "grid_gap": null,
            "grid_row": null,
            "grid_template_areas": null,
            "grid_template_columns": null,
            "grid_template_rows": null,
            "height": "25px",
            "justify_content": null,
            "justify_items": null,
            "left": null,
            "margin": null,
            "max_height": null,
            "max_width": null,
            "min_height": null,
            "min_width": null,
            "object_fit": null,
            "object_position": null,
            "order": null,
            "overflow": null,
            "overflow_x": null,
            "overflow_y": null,
            "padding": null,
            "right": null,
            "top": null,
            "visibility": null,
            "width": "50%"
          }
        },
        "6d5c5ae13c7d42adb793dc744cc324da": {
          "model_module": "@jupyter-widgets/controls",
          "model_name": "ProgressStyleModel",
          "model_module_version": "1.5.0",
          "state": {
            "_model_module": "@jupyter-widgets/controls",
            "_model_module_version": "1.5.0",
            "_model_name": "ProgressStyleModel",
            "_view_count": null,
            "_view_module": "@jupyter-widgets/base",
            "_view_module_version": "1.2.0",
            "_view_name": "StyleView",
            "bar_color": null,
            "description_width": ""
          }
        },
        "18f34cb1111441308d0046f6efaf7588": {
          "model_module": "@jupyter-widgets/controls",
          "model_name": "FloatProgressModel",
          "model_module_version": "1.5.0",
          "state": {
            "_dom_classes": [],
            "_model_module": "@jupyter-widgets/controls",
            "_model_module_version": "1.5.0",
            "_model_name": "FloatProgressModel",
            "_view_count": null,
            "_view_module": "@jupyter-widgets/controls",
            "_view_module_version": "1.5.0",
            "_view_name": "ProgressView",
            "bar_style": "info",
            "description": "Progress:",
            "description_tooltip": null,
            "layout": "IPY_MODEL_501da19e91c54fb39294913614b980fd",
            "max": 1,
            "min": 0,
            "orientation": "horizontal",
            "style": "IPY_MODEL_1f18e2f80a024518aa44bdcf7c0b9682",
            "value": 0
          }
        },
        "501da19e91c54fb39294913614b980fd": {
          "model_module": "@jupyter-widgets/base",
          "model_name": "LayoutModel",
          "model_module_version": "1.2.0",
          "state": {
            "_model_module": "@jupyter-widgets/base",
            "_model_module_version": "1.2.0",
            "_model_name": "LayoutModel",
            "_view_count": null,
            "_view_module": "@jupyter-widgets/base",
            "_view_module_version": "1.2.0",
            "_view_name": "LayoutView",
            "align_content": null,
            "align_items": null,
            "align_self": null,
            "border": null,
            "bottom": null,
            "display": null,
            "flex": null,
            "flex_flow": null,
            "grid_area": null,
            "grid_auto_columns": null,
            "grid_auto_flow": null,
            "grid_auto_rows": null,
            "grid_column": null,
            "grid_gap": null,
            "grid_row": null,
            "grid_template_areas": null,
            "grid_template_columns": null,
            "grid_template_rows": null,
            "height": "25px",
            "justify_content": null,
            "justify_items": null,
            "left": null,
            "margin": null,
            "max_height": null,
            "max_width": null,
            "min_height": null,
            "min_width": null,
            "object_fit": null,
            "object_position": null,
            "order": null,
            "overflow": null,
            "overflow_x": null,
            "overflow_y": null,
            "padding": null,
            "right": null,
            "top": null,
            "visibility": null,
            "width": "50%"
          }
        },
        "1f18e2f80a024518aa44bdcf7c0b9682": {
          "model_module": "@jupyter-widgets/controls",
          "model_name": "ProgressStyleModel",
          "model_module_version": "1.5.0",
          "state": {
            "_model_module": "@jupyter-widgets/controls",
            "_model_module_version": "1.5.0",
            "_model_name": "ProgressStyleModel",
            "_view_count": null,
            "_view_module": "@jupyter-widgets/base",
            "_view_module_version": "1.2.0",
            "_view_name": "StyleView",
            "bar_color": null,
            "description_width": ""
          }
        },
        "d536e8ffe40f40b79e2b54dfd68e754b": {
          "model_module": "@jupyter-widgets/controls",
          "model_name": "FloatProgressModel",
          "model_module_version": "1.5.0",
          "state": {
            "_dom_classes": [],
            "_model_module": "@jupyter-widgets/controls",
            "_model_module_version": "1.5.0",
            "_model_name": "FloatProgressModel",
            "_view_count": null,
            "_view_module": "@jupyter-widgets/controls",
            "_view_module_version": "1.5.0",
            "_view_name": "ProgressView",
            "bar_style": "info",
            "description": "Progress:",
            "description_tooltip": null,
            "layout": "IPY_MODEL_fe09d83c64c345a5abb72e0f68a11703",
            "max": 1,
            "min": 0,
            "orientation": "horizontal",
            "style": "IPY_MODEL_b82dd98df8994ba195b0b89420a1d4a3",
            "value": 0
          }
        },
        "fe09d83c64c345a5abb72e0f68a11703": {
          "model_module": "@jupyter-widgets/base",
          "model_name": "LayoutModel",
          "model_module_version": "1.2.0",
          "state": {
            "_model_module": "@jupyter-widgets/base",
            "_model_module_version": "1.2.0",
            "_model_name": "LayoutModel",
            "_view_count": null,
            "_view_module": "@jupyter-widgets/base",
            "_view_module_version": "1.2.0",
            "_view_name": "LayoutView",
            "align_content": null,
            "align_items": null,
            "align_self": null,
            "border": null,
            "bottom": null,
            "display": null,
            "flex": null,
            "flex_flow": null,
            "grid_area": null,
            "grid_auto_columns": null,
            "grid_auto_flow": null,
            "grid_auto_rows": null,
            "grid_column": null,
            "grid_gap": null,
            "grid_row": null,
            "grid_template_areas": null,
            "grid_template_columns": null,
            "grid_template_rows": null,
            "height": "25px",
            "justify_content": null,
            "justify_items": null,
            "left": null,
            "margin": null,
            "max_height": null,
            "max_width": null,
            "min_height": null,
            "min_width": null,
            "object_fit": null,
            "object_position": null,
            "order": null,
            "overflow": null,
            "overflow_x": null,
            "overflow_y": null,
            "padding": null,
            "right": null,
            "top": null,
            "visibility": null,
            "width": "50%"
          }
        },
        "b82dd98df8994ba195b0b89420a1d4a3": {
          "model_module": "@jupyter-widgets/controls",
          "model_name": "ProgressStyleModel",
          "model_module_version": "1.5.0",
          "state": {
            "_model_module": "@jupyter-widgets/controls",
            "_model_module_version": "1.5.0",
            "_model_name": "ProgressStyleModel",
            "_view_count": null,
            "_view_module": "@jupyter-widgets/base",
            "_view_module_version": "1.2.0",
            "_view_name": "StyleView",
            "bar_color": null,
            "description_width": ""
          }
        },
        "ffbb32ebbcb342c089d5eb38477a2c8b": {
          "model_module": "@jupyter-widgets/controls",
          "model_name": "FloatProgressModel",
          "model_module_version": "1.5.0",
          "state": {
            "_dom_classes": [],
            "_model_module": "@jupyter-widgets/controls",
            "_model_module_version": "1.5.0",
            "_model_name": "FloatProgressModel",
            "_view_count": null,
            "_view_module": "@jupyter-widgets/controls",
            "_view_module_version": "1.5.0",
            "_view_name": "ProgressView",
            "bar_style": "info",
            "description": "Progress:",
            "description_tooltip": null,
            "layout": "IPY_MODEL_2bf5879fe3ab4c619e99ad681381885b",
            "max": 1,
            "min": 0,
            "orientation": "horizontal",
            "style": "IPY_MODEL_4a1261476a804d4183cccb6ed333be4b",
            "value": 0.2
          }
        },
        "2bf5879fe3ab4c619e99ad681381885b": {
          "model_module": "@jupyter-widgets/base",
          "model_name": "LayoutModel",
          "model_module_version": "1.2.0",
          "state": {
            "_model_module": "@jupyter-widgets/base",
            "_model_module_version": "1.2.0",
            "_model_name": "LayoutModel",
            "_view_count": null,
            "_view_module": "@jupyter-widgets/base",
            "_view_module_version": "1.2.0",
            "_view_name": "LayoutView",
            "align_content": null,
            "align_items": null,
            "align_self": null,
            "border": null,
            "bottom": null,
            "display": null,
            "flex": null,
            "flex_flow": null,
            "grid_area": null,
            "grid_auto_columns": null,
            "grid_auto_flow": null,
            "grid_auto_rows": null,
            "grid_column": null,
            "grid_gap": null,
            "grid_row": null,
            "grid_template_areas": null,
            "grid_template_columns": null,
            "grid_template_rows": null,
            "height": "25px",
            "justify_content": null,
            "justify_items": null,
            "left": null,
            "margin": null,
            "max_height": null,
            "max_width": null,
            "min_height": null,
            "min_width": null,
            "object_fit": null,
            "object_position": null,
            "order": null,
            "overflow": null,
            "overflow_x": null,
            "overflow_y": null,
            "padding": null,
            "right": null,
            "top": null,
            "visibility": null,
            "width": "50%"
          }
        },
        "4a1261476a804d4183cccb6ed333be4b": {
          "model_module": "@jupyter-widgets/controls",
          "model_name": "ProgressStyleModel",
          "model_module_version": "1.5.0",
          "state": {
            "_model_module": "@jupyter-widgets/controls",
            "_model_module_version": "1.5.0",
            "_model_name": "ProgressStyleModel",
            "_view_count": null,
            "_view_module": "@jupyter-widgets/base",
            "_view_module_version": "1.2.0",
            "_view_name": "StyleView",
            "bar_color": null,
            "description_width": ""
          }
        },
        "200ecadfb86f44018b09d2108f079c6a": {
          "model_module": "@jupyter-widgets/controls",
          "model_name": "FloatProgressModel",
          "model_module_version": "1.5.0",
          "state": {
            "_dom_classes": [],
            "_model_module": "@jupyter-widgets/controls",
            "_model_module_version": "1.5.0",
            "_model_name": "FloatProgressModel",
            "_view_count": null,
            "_view_module": "@jupyter-widgets/controls",
            "_view_module_version": "1.5.0",
            "_view_name": "ProgressView",
            "bar_style": "info",
            "description": "Progress:",
            "description_tooltip": null,
            "layout": "IPY_MODEL_5cfa402af8ba431a868cf8daa50e5792",
            "max": 1,
            "min": 0,
            "orientation": "horizontal",
            "style": "IPY_MODEL_e570039632a94a988030c680da436b12",
            "value": 0
          }
        },
        "5cfa402af8ba431a868cf8daa50e5792": {
          "model_module": "@jupyter-widgets/base",
          "model_name": "LayoutModel",
          "model_module_version": "1.2.0",
          "state": {
            "_model_module": "@jupyter-widgets/base",
            "_model_module_version": "1.2.0",
            "_model_name": "LayoutModel",
            "_view_count": null,
            "_view_module": "@jupyter-widgets/base",
            "_view_module_version": "1.2.0",
            "_view_name": "LayoutView",
            "align_content": null,
            "align_items": null,
            "align_self": null,
            "border": null,
            "bottom": null,
            "display": null,
            "flex": null,
            "flex_flow": null,
            "grid_area": null,
            "grid_auto_columns": null,
            "grid_auto_flow": null,
            "grid_auto_rows": null,
            "grid_column": null,
            "grid_gap": null,
            "grid_row": null,
            "grid_template_areas": null,
            "grid_template_columns": null,
            "grid_template_rows": null,
            "height": "25px",
            "justify_content": null,
            "justify_items": null,
            "left": null,
            "margin": null,
            "max_height": null,
            "max_width": null,
            "min_height": null,
            "min_width": null,
            "object_fit": null,
            "object_position": null,
            "order": null,
            "overflow": null,
            "overflow_x": null,
            "overflow_y": null,
            "padding": null,
            "right": null,
            "top": null,
            "visibility": null,
            "width": "50%"
          }
        },
        "e570039632a94a988030c680da436b12": {
          "model_module": "@jupyter-widgets/controls",
          "model_name": "ProgressStyleModel",
          "model_module_version": "1.5.0",
          "state": {
            "_model_module": "@jupyter-widgets/controls",
            "_model_module_version": "1.5.0",
            "_model_name": "ProgressStyleModel",
            "_view_count": null,
            "_view_module": "@jupyter-widgets/base",
            "_view_module_version": "1.2.0",
            "_view_name": "StyleView",
            "bar_color": null,
            "description_width": ""
          }
        },
        "35d7027a90cf4aa88baefcaa1cf758cf": {
          "model_module": "@jupyter-widgets/controls",
          "model_name": "FloatProgressModel",
          "model_module_version": "1.5.0",
          "state": {
            "_dom_classes": [],
            "_model_module": "@jupyter-widgets/controls",
            "_model_module_version": "1.5.0",
            "_model_name": "FloatProgressModel",
            "_view_count": null,
            "_view_module": "@jupyter-widgets/controls",
            "_view_module_version": "1.5.0",
            "_view_name": "ProgressView",
            "bar_style": "info",
            "description": "Progress:",
            "description_tooltip": null,
            "layout": "IPY_MODEL_1982565105374643a5c56185d6cbf905",
            "max": 1,
            "min": 0,
            "orientation": "horizontal",
            "style": "IPY_MODEL_bf3fc9b7d6e44ef6b60321bd1397214f",
            "value": 0
          }
        },
        "1982565105374643a5c56185d6cbf905": {
          "model_module": "@jupyter-widgets/base",
          "model_name": "LayoutModel",
          "model_module_version": "1.2.0",
          "state": {
            "_model_module": "@jupyter-widgets/base",
            "_model_module_version": "1.2.0",
            "_model_name": "LayoutModel",
            "_view_count": null,
            "_view_module": "@jupyter-widgets/base",
            "_view_module_version": "1.2.0",
            "_view_name": "LayoutView",
            "align_content": null,
            "align_items": null,
            "align_self": null,
            "border": null,
            "bottom": null,
            "display": null,
            "flex": null,
            "flex_flow": null,
            "grid_area": null,
            "grid_auto_columns": null,
            "grid_auto_flow": null,
            "grid_auto_rows": null,
            "grid_column": null,
            "grid_gap": null,
            "grid_row": null,
            "grid_template_areas": null,
            "grid_template_columns": null,
            "grid_template_rows": null,
            "height": "25px",
            "justify_content": null,
            "justify_items": null,
            "left": null,
            "margin": null,
            "max_height": null,
            "max_width": null,
            "min_height": null,
            "min_width": null,
            "object_fit": null,
            "object_position": null,
            "order": null,
            "overflow": null,
            "overflow_x": null,
            "overflow_y": null,
            "padding": null,
            "right": null,
            "top": null,
            "visibility": null,
            "width": "50%"
          }
        },
        "bf3fc9b7d6e44ef6b60321bd1397214f": {
          "model_module": "@jupyter-widgets/controls",
          "model_name": "ProgressStyleModel",
          "model_module_version": "1.5.0",
          "state": {
            "_model_module": "@jupyter-widgets/controls",
            "_model_module_version": "1.5.0",
            "_model_name": "ProgressStyleModel",
            "_view_count": null,
            "_view_module": "@jupyter-widgets/base",
            "_view_module_version": "1.2.0",
            "_view_name": "StyleView",
            "bar_color": null,
            "description_width": ""
          }
        },
        "8bfe248a74e942b186bebe7d1a62a958": {
          "model_module": "@jupyter-widgets/controls",
          "model_name": "FloatProgressModel",
          "model_module_version": "1.5.0",
          "state": {
            "_dom_classes": [],
            "_model_module": "@jupyter-widgets/controls",
            "_model_module_version": "1.5.0",
            "_model_name": "FloatProgressModel",
            "_view_count": null,
            "_view_module": "@jupyter-widgets/controls",
            "_view_module_version": "1.5.0",
            "_view_name": "ProgressView",
            "bar_style": "info",
            "description": "Progress:",
            "description_tooltip": null,
            "layout": "IPY_MODEL_446b155aa26c4a969cb345d88e81b9d3",
            "max": 1,
            "min": 0,
            "orientation": "horizontal",
            "style": "IPY_MODEL_5e61655bccda48a1bd84365f7556a7bc",
            "value": 0
          }
        },
        "446b155aa26c4a969cb345d88e81b9d3": {
          "model_module": "@jupyter-widgets/base",
          "model_name": "LayoutModel",
          "model_module_version": "1.2.0",
          "state": {
            "_model_module": "@jupyter-widgets/base",
            "_model_module_version": "1.2.0",
            "_model_name": "LayoutModel",
            "_view_count": null,
            "_view_module": "@jupyter-widgets/base",
            "_view_module_version": "1.2.0",
            "_view_name": "LayoutView",
            "align_content": null,
            "align_items": null,
            "align_self": null,
            "border": null,
            "bottom": null,
            "display": null,
            "flex": null,
            "flex_flow": null,
            "grid_area": null,
            "grid_auto_columns": null,
            "grid_auto_flow": null,
            "grid_auto_rows": null,
            "grid_column": null,
            "grid_gap": null,
            "grid_row": null,
            "grid_template_areas": null,
            "grid_template_columns": null,
            "grid_template_rows": null,
            "height": "25px",
            "justify_content": null,
            "justify_items": null,
            "left": null,
            "margin": null,
            "max_height": null,
            "max_width": null,
            "min_height": null,
            "min_width": null,
            "object_fit": null,
            "object_position": null,
            "order": null,
            "overflow": null,
            "overflow_x": null,
            "overflow_y": null,
            "padding": null,
            "right": null,
            "top": null,
            "visibility": null,
            "width": "50%"
          }
        },
        "5e61655bccda48a1bd84365f7556a7bc": {
          "model_module": "@jupyter-widgets/controls",
          "model_name": "ProgressStyleModel",
          "model_module_version": "1.5.0",
          "state": {
            "_model_module": "@jupyter-widgets/controls",
            "_model_module_version": "1.5.0",
            "_model_name": "ProgressStyleModel",
            "_view_count": null,
            "_view_module": "@jupyter-widgets/base",
            "_view_module_version": "1.2.0",
            "_view_name": "StyleView",
            "bar_color": null,
            "description_width": ""
          }
        },
        "2902f6de23424e7da67c75cc8cca1d92": {
          "model_module": "@jupyter-widgets/controls",
          "model_name": "FloatProgressModel",
          "model_module_version": "1.5.0",
          "state": {
            "_dom_classes": [],
            "_model_module": "@jupyter-widgets/controls",
            "_model_module_version": "1.5.0",
            "_model_name": "FloatProgressModel",
            "_view_count": null,
            "_view_module": "@jupyter-widgets/controls",
            "_view_module_version": "1.5.0",
            "_view_name": "ProgressView",
            "bar_style": "info",
            "description": "Progress:",
            "description_tooltip": null,
            "layout": "IPY_MODEL_b5a6e83af203409ebbb5f79e4232255c",
            "max": 1,
            "min": 0,
            "orientation": "horizontal",
            "style": "IPY_MODEL_46dc9589e90146a68410715a36695298",
            "value": 0.7293577981651376
          }
        },
        "b5a6e83af203409ebbb5f79e4232255c": {
          "model_module": "@jupyter-widgets/base",
          "model_name": "LayoutModel",
          "model_module_version": "1.2.0",
          "state": {
            "_model_module": "@jupyter-widgets/base",
            "_model_module_version": "1.2.0",
            "_model_name": "LayoutModel",
            "_view_count": null,
            "_view_module": "@jupyter-widgets/base",
            "_view_module_version": "1.2.0",
            "_view_name": "LayoutView",
            "align_content": null,
            "align_items": null,
            "align_self": null,
            "border": null,
            "bottom": null,
            "display": null,
            "flex": null,
            "flex_flow": null,
            "grid_area": null,
            "grid_auto_columns": null,
            "grid_auto_flow": null,
            "grid_auto_rows": null,
            "grid_column": null,
            "grid_gap": null,
            "grid_row": null,
            "grid_template_areas": null,
            "grid_template_columns": null,
            "grid_template_rows": null,
            "height": "25px",
            "justify_content": null,
            "justify_items": null,
            "left": null,
            "margin": null,
            "max_height": null,
            "max_width": null,
            "min_height": null,
            "min_width": null,
            "object_fit": null,
            "object_position": null,
            "order": null,
            "overflow": null,
            "overflow_x": null,
            "overflow_y": null,
            "padding": null,
            "right": null,
            "top": null,
            "visibility": null,
            "width": "50%"
          }
        },
        "46dc9589e90146a68410715a36695298": {
          "model_module": "@jupyter-widgets/controls",
          "model_name": "ProgressStyleModel",
          "model_module_version": "1.5.0",
          "state": {
            "_model_module": "@jupyter-widgets/controls",
            "_model_module_version": "1.5.0",
            "_model_name": "ProgressStyleModel",
            "_view_count": null,
            "_view_module": "@jupyter-widgets/base",
            "_view_module_version": "1.2.0",
            "_view_name": "StyleView",
            "bar_color": null,
            "description_width": ""
          }
        },
        "d6e0a3b4a9a34181878fee53d6a7b9ec": {
          "model_module": "@jupyter-widgets/controls",
          "model_name": "FloatProgressModel",
          "model_module_version": "1.5.0",
          "state": {
            "_dom_classes": [],
            "_model_module": "@jupyter-widgets/controls",
            "_model_module_version": "1.5.0",
            "_model_name": "FloatProgressModel",
            "_view_count": null,
            "_view_module": "@jupyter-widgets/controls",
            "_view_module_version": "1.5.0",
            "_view_name": "ProgressView",
            "bar_style": "info",
            "description": "Progress:",
            "description_tooltip": null,
            "layout": "IPY_MODEL_9252772f6eab42a29bfa78228dd4fc32",
            "max": 1,
            "min": 0,
            "orientation": "horizontal",
            "style": "IPY_MODEL_5e038e4bf7e847baa93347d086bb6523",
            "value": 0
          }
        },
        "9252772f6eab42a29bfa78228dd4fc32": {
          "model_module": "@jupyter-widgets/base",
          "model_name": "LayoutModel",
          "model_module_version": "1.2.0",
          "state": {
            "_model_module": "@jupyter-widgets/base",
            "_model_module_version": "1.2.0",
            "_model_name": "LayoutModel",
            "_view_count": null,
            "_view_module": "@jupyter-widgets/base",
            "_view_module_version": "1.2.0",
            "_view_name": "LayoutView",
            "align_content": null,
            "align_items": null,
            "align_self": null,
            "border": null,
            "bottom": null,
            "display": null,
            "flex": null,
            "flex_flow": null,
            "grid_area": null,
            "grid_auto_columns": null,
            "grid_auto_flow": null,
            "grid_auto_rows": null,
            "grid_column": null,
            "grid_gap": null,
            "grid_row": null,
            "grid_template_areas": null,
            "grid_template_columns": null,
            "grid_template_rows": null,
            "height": "25px",
            "justify_content": null,
            "justify_items": null,
            "left": null,
            "margin": null,
            "max_height": null,
            "max_width": null,
            "min_height": null,
            "min_width": null,
            "object_fit": null,
            "object_position": null,
            "order": null,
            "overflow": null,
            "overflow_x": null,
            "overflow_y": null,
            "padding": null,
            "right": null,
            "top": null,
            "visibility": null,
            "width": "50%"
          }
        },
        "5e038e4bf7e847baa93347d086bb6523": {
          "model_module": "@jupyter-widgets/controls",
          "model_name": "ProgressStyleModel",
          "model_module_version": "1.5.0",
          "state": {
            "_model_module": "@jupyter-widgets/controls",
            "_model_module_version": "1.5.0",
            "_model_name": "ProgressStyleModel",
            "_view_count": null,
            "_view_module": "@jupyter-widgets/base",
            "_view_module_version": "1.2.0",
            "_view_name": "StyleView",
            "bar_color": null,
            "description_width": ""
          }
        },
        "b37ad2f5b41e4c5eb51e9bf589f6e1fa": {
          "model_module": "@jupyter-widgets/controls",
          "model_name": "FloatProgressModel",
          "model_module_version": "1.5.0",
          "state": {
            "_dom_classes": [],
            "_model_module": "@jupyter-widgets/controls",
            "_model_module_version": "1.5.0",
            "_model_name": "FloatProgressModel",
            "_view_count": null,
            "_view_module": "@jupyter-widgets/controls",
            "_view_module_version": "1.5.0",
            "_view_name": "ProgressView",
            "bar_style": "info",
            "description": "Progress:",
            "description_tooltip": null,
            "layout": "IPY_MODEL_23669fd1e3654040b8368094295cdb1e",
            "max": 1,
            "min": 0,
            "orientation": "horizontal",
            "style": "IPY_MODEL_924c899123f540ff82a0399c34ce1607",
            "value": 0
          }
        },
        "23669fd1e3654040b8368094295cdb1e": {
          "model_module": "@jupyter-widgets/base",
          "model_name": "LayoutModel",
          "model_module_version": "1.2.0",
          "state": {
            "_model_module": "@jupyter-widgets/base",
            "_model_module_version": "1.2.0",
            "_model_name": "LayoutModel",
            "_view_count": null,
            "_view_module": "@jupyter-widgets/base",
            "_view_module_version": "1.2.0",
            "_view_name": "LayoutView",
            "align_content": null,
            "align_items": null,
            "align_self": null,
            "border": null,
            "bottom": null,
            "display": null,
            "flex": null,
            "flex_flow": null,
            "grid_area": null,
            "grid_auto_columns": null,
            "grid_auto_flow": null,
            "grid_auto_rows": null,
            "grid_column": null,
            "grid_gap": null,
            "grid_row": null,
            "grid_template_areas": null,
            "grid_template_columns": null,
            "grid_template_rows": null,
            "height": "25px",
            "justify_content": null,
            "justify_items": null,
            "left": null,
            "margin": null,
            "max_height": null,
            "max_width": null,
            "min_height": null,
            "min_width": null,
            "object_fit": null,
            "object_position": null,
            "order": null,
            "overflow": null,
            "overflow_x": null,
            "overflow_y": null,
            "padding": null,
            "right": null,
            "top": null,
            "visibility": null,
            "width": "50%"
          }
        },
        "924c899123f540ff82a0399c34ce1607": {
          "model_module": "@jupyter-widgets/controls",
          "model_name": "ProgressStyleModel",
          "model_module_version": "1.5.0",
          "state": {
            "_model_module": "@jupyter-widgets/controls",
            "_model_module_version": "1.5.0",
            "_model_name": "ProgressStyleModel",
            "_view_count": null,
            "_view_module": "@jupyter-widgets/base",
            "_view_module_version": "1.2.0",
            "_view_name": "StyleView",
            "bar_color": null,
            "description_width": ""
          }
        },
        "9351c5f6237244f8908de98a68ec5def": {
          "model_module": "@jupyter-widgets/controls",
          "model_name": "FloatProgressModel",
          "model_module_version": "1.5.0",
          "state": {
            "_dom_classes": [],
            "_model_module": "@jupyter-widgets/controls",
            "_model_module_version": "1.5.0",
            "_model_name": "FloatProgressModel",
            "_view_count": null,
            "_view_module": "@jupyter-widgets/controls",
            "_view_module_version": "1.5.0",
            "_view_name": "ProgressView",
            "bar_style": "info",
            "description": "Progress:",
            "description_tooltip": null,
            "layout": "IPY_MODEL_a82f1870616e4ee2b49a80bc4bbe2f11",
            "max": 1,
            "min": 0,
            "orientation": "horizontal",
            "style": "IPY_MODEL_cfe8b781eeb84048932cbc7ba0e01f83",
            "value": 0
          }
        },
        "a82f1870616e4ee2b49a80bc4bbe2f11": {
          "model_module": "@jupyter-widgets/base",
          "model_name": "LayoutModel",
          "model_module_version": "1.2.0",
          "state": {
            "_model_module": "@jupyter-widgets/base",
            "_model_module_version": "1.2.0",
            "_model_name": "LayoutModel",
            "_view_count": null,
            "_view_module": "@jupyter-widgets/base",
            "_view_module_version": "1.2.0",
            "_view_name": "LayoutView",
            "align_content": null,
            "align_items": null,
            "align_self": null,
            "border": null,
            "bottom": null,
            "display": null,
            "flex": null,
            "flex_flow": null,
            "grid_area": null,
            "grid_auto_columns": null,
            "grid_auto_flow": null,
            "grid_auto_rows": null,
            "grid_column": null,
            "grid_gap": null,
            "grid_row": null,
            "grid_template_areas": null,
            "grid_template_columns": null,
            "grid_template_rows": null,
            "height": "25px",
            "justify_content": null,
            "justify_items": null,
            "left": null,
            "margin": null,
            "max_height": null,
            "max_width": null,
            "min_height": null,
            "min_width": null,
            "object_fit": null,
            "object_position": null,
            "order": null,
            "overflow": null,
            "overflow_x": null,
            "overflow_y": null,
            "padding": null,
            "right": null,
            "top": null,
            "visibility": null,
            "width": "50%"
          }
        },
        "cfe8b781eeb84048932cbc7ba0e01f83": {
          "model_module": "@jupyter-widgets/controls",
          "model_name": "ProgressStyleModel",
          "model_module_version": "1.5.0",
          "state": {
            "_model_module": "@jupyter-widgets/controls",
            "_model_module_version": "1.5.0",
            "_model_name": "ProgressStyleModel",
            "_view_count": null,
            "_view_module": "@jupyter-widgets/base",
            "_view_module_version": "1.2.0",
            "_view_name": "StyleView",
            "bar_color": null,
            "description_width": ""
          }
        },
        "5dea219c3439421bb30528621e4c33e0": {
          "model_module": "@jupyter-widgets/controls",
          "model_name": "FloatProgressModel",
          "model_module_version": "1.5.0",
          "state": {
            "_dom_classes": [],
            "_model_module": "@jupyter-widgets/controls",
            "_model_module_version": "1.5.0",
            "_model_name": "FloatProgressModel",
            "_view_count": null,
            "_view_module": "@jupyter-widgets/controls",
            "_view_module_version": "1.5.0",
            "_view_name": "ProgressView",
            "bar_style": "info",
            "description": "Progress:",
            "description_tooltip": null,
            "layout": "IPY_MODEL_c4ff213f9fbd4fcf95105ea29a39d700",
            "max": 1,
            "min": 0,
            "orientation": "horizontal",
            "style": "IPY_MODEL_0055e6003ac24af7a721247be7862ed2",
            "value": 0.8516746411483254
          }
        },
        "c4ff213f9fbd4fcf95105ea29a39d700": {
          "model_module": "@jupyter-widgets/base",
          "model_name": "LayoutModel",
          "model_module_version": "1.2.0",
          "state": {
            "_model_module": "@jupyter-widgets/base",
            "_model_module_version": "1.2.0",
            "_model_name": "LayoutModel",
            "_view_count": null,
            "_view_module": "@jupyter-widgets/base",
            "_view_module_version": "1.2.0",
            "_view_name": "LayoutView",
            "align_content": null,
            "align_items": null,
            "align_self": null,
            "border": null,
            "bottom": null,
            "display": null,
            "flex": null,
            "flex_flow": null,
            "grid_area": null,
            "grid_auto_columns": null,
            "grid_auto_flow": null,
            "grid_auto_rows": null,
            "grid_column": null,
            "grid_gap": null,
            "grid_row": null,
            "grid_template_areas": null,
            "grid_template_columns": null,
            "grid_template_rows": null,
            "height": "25px",
            "justify_content": null,
            "justify_items": null,
            "left": null,
            "margin": null,
            "max_height": null,
            "max_width": null,
            "min_height": null,
            "min_width": null,
            "object_fit": null,
            "object_position": null,
            "order": null,
            "overflow": null,
            "overflow_x": null,
            "overflow_y": null,
            "padding": null,
            "right": null,
            "top": null,
            "visibility": null,
            "width": "50%"
          }
        },
        "0055e6003ac24af7a721247be7862ed2": {
          "model_module": "@jupyter-widgets/controls",
          "model_name": "ProgressStyleModel",
          "model_module_version": "1.5.0",
          "state": {
            "_model_module": "@jupyter-widgets/controls",
            "_model_module_version": "1.5.0",
            "_model_name": "ProgressStyleModel",
            "_view_count": null,
            "_view_module": "@jupyter-widgets/base",
            "_view_module_version": "1.2.0",
            "_view_name": "StyleView",
            "bar_color": null,
            "description_width": ""
          }
        },
        "5ca66bcd72e5408db3432951674df834": {
          "model_module": "@jupyter-widgets/controls",
          "model_name": "FloatProgressModel",
          "model_module_version": "1.5.0",
          "state": {
            "_dom_classes": [],
            "_model_module": "@jupyter-widgets/controls",
            "_model_module_version": "1.5.0",
            "_model_name": "FloatProgressModel",
            "_view_count": null,
            "_view_module": "@jupyter-widgets/controls",
            "_view_module_version": "1.5.0",
            "_view_name": "ProgressView",
            "bar_style": "info",
            "description": "Progress:",
            "description_tooltip": null,
            "layout": "IPY_MODEL_0c818ea6fd1746518e6023212759652b",
            "max": 1,
            "min": 0,
            "orientation": "horizontal",
            "style": "IPY_MODEL_cda9b104d47d4080a19e8e3bfca0b635",
            "value": 0.19047619047619047
          }
        },
        "0c818ea6fd1746518e6023212759652b": {
          "model_module": "@jupyter-widgets/base",
          "model_name": "LayoutModel",
          "model_module_version": "1.2.0",
          "state": {
            "_model_module": "@jupyter-widgets/base",
            "_model_module_version": "1.2.0",
            "_model_name": "LayoutModel",
            "_view_count": null,
            "_view_module": "@jupyter-widgets/base",
            "_view_module_version": "1.2.0",
            "_view_name": "LayoutView",
            "align_content": null,
            "align_items": null,
            "align_self": null,
            "border": null,
            "bottom": null,
            "display": null,
            "flex": null,
            "flex_flow": null,
            "grid_area": null,
            "grid_auto_columns": null,
            "grid_auto_flow": null,
            "grid_auto_rows": null,
            "grid_column": null,
            "grid_gap": null,
            "grid_row": null,
            "grid_template_areas": null,
            "grid_template_columns": null,
            "grid_template_rows": null,
            "height": "25px",
            "justify_content": null,
            "justify_items": null,
            "left": null,
            "margin": null,
            "max_height": null,
            "max_width": null,
            "min_height": null,
            "min_width": null,
            "object_fit": null,
            "object_position": null,
            "order": null,
            "overflow": null,
            "overflow_x": null,
            "overflow_y": null,
            "padding": null,
            "right": null,
            "top": null,
            "visibility": null,
            "width": "50%"
          }
        },
        "cda9b104d47d4080a19e8e3bfca0b635": {
          "model_module": "@jupyter-widgets/controls",
          "model_name": "ProgressStyleModel",
          "model_module_version": "1.5.0",
          "state": {
            "_model_module": "@jupyter-widgets/controls",
            "_model_module_version": "1.5.0",
            "_model_name": "ProgressStyleModel",
            "_view_count": null,
            "_view_module": "@jupyter-widgets/base",
            "_view_module_version": "1.2.0",
            "_view_name": "StyleView",
            "bar_color": null,
            "description_width": ""
          }
        },
        "26348c80fae74b8fa85b2d0b76ca8048": {
          "model_module": "@jupyter-widgets/controls",
          "model_name": "FloatProgressModel",
          "model_module_version": "1.5.0",
          "state": {
            "_dom_classes": [],
            "_model_module": "@jupyter-widgets/controls",
            "_model_module_version": "1.5.0",
            "_model_name": "FloatProgressModel",
            "_view_count": null,
            "_view_module": "@jupyter-widgets/controls",
            "_view_module_version": "1.5.0",
            "_view_name": "ProgressView",
            "bar_style": "info",
            "description": "Progress:",
            "description_tooltip": null,
            "layout": "IPY_MODEL_6392a6146b584c77b7c06c3c1fc5bb14",
            "max": 1,
            "min": 0,
            "orientation": "horizontal",
            "style": "IPY_MODEL_30a22100aea34763bd137a588c8bc85a",
            "value": 0
          }
        },
        "6392a6146b584c77b7c06c3c1fc5bb14": {
          "model_module": "@jupyter-widgets/base",
          "model_name": "LayoutModel",
          "model_module_version": "1.2.0",
          "state": {
            "_model_module": "@jupyter-widgets/base",
            "_model_module_version": "1.2.0",
            "_model_name": "LayoutModel",
            "_view_count": null,
            "_view_module": "@jupyter-widgets/base",
            "_view_module_version": "1.2.0",
            "_view_name": "LayoutView",
            "align_content": null,
            "align_items": null,
            "align_self": null,
            "border": null,
            "bottom": null,
            "display": null,
            "flex": null,
            "flex_flow": null,
            "grid_area": null,
            "grid_auto_columns": null,
            "grid_auto_flow": null,
            "grid_auto_rows": null,
            "grid_column": null,
            "grid_gap": null,
            "grid_row": null,
            "grid_template_areas": null,
            "grid_template_columns": null,
            "grid_template_rows": null,
            "height": "25px",
            "justify_content": null,
            "justify_items": null,
            "left": null,
            "margin": null,
            "max_height": null,
            "max_width": null,
            "min_height": null,
            "min_width": null,
            "object_fit": null,
            "object_position": null,
            "order": null,
            "overflow": null,
            "overflow_x": null,
            "overflow_y": null,
            "padding": null,
            "right": null,
            "top": null,
            "visibility": null,
            "width": "50%"
          }
        },
        "30a22100aea34763bd137a588c8bc85a": {
          "model_module": "@jupyter-widgets/controls",
          "model_name": "ProgressStyleModel",
          "model_module_version": "1.5.0",
          "state": {
            "_model_module": "@jupyter-widgets/controls",
            "_model_module_version": "1.5.0",
            "_model_name": "ProgressStyleModel",
            "_view_count": null,
            "_view_module": "@jupyter-widgets/base",
            "_view_module_version": "1.2.0",
            "_view_name": "StyleView",
            "bar_color": null,
            "description_width": ""
          }
        },
        "43cb1febd46447dabf58b96422179ea2": {
          "model_module": "@jupyter-widgets/controls",
          "model_name": "FloatProgressModel",
          "model_module_version": "1.5.0",
          "state": {
            "_dom_classes": [],
            "_model_module": "@jupyter-widgets/controls",
            "_model_module_version": "1.5.0",
            "_model_name": "FloatProgressModel",
            "_view_count": null,
            "_view_module": "@jupyter-widgets/controls",
            "_view_module_version": "1.5.0",
            "_view_name": "ProgressView",
            "bar_style": "info",
            "description": "Progress:",
            "description_tooltip": null,
            "layout": "IPY_MODEL_fd8420424bfc46e2b6fbf042b3323173",
            "max": 1,
            "min": 0,
            "orientation": "horizontal",
            "style": "IPY_MODEL_65b72005b12a41798cb6d8d5b4781fc2",
            "value": 0
          }
        },
        "fd8420424bfc46e2b6fbf042b3323173": {
          "model_module": "@jupyter-widgets/base",
          "model_name": "LayoutModel",
          "model_module_version": "1.2.0",
          "state": {
            "_model_module": "@jupyter-widgets/base",
            "_model_module_version": "1.2.0",
            "_model_name": "LayoutModel",
            "_view_count": null,
            "_view_module": "@jupyter-widgets/base",
            "_view_module_version": "1.2.0",
            "_view_name": "LayoutView",
            "align_content": null,
            "align_items": null,
            "align_self": null,
            "border": null,
            "bottom": null,
            "display": null,
            "flex": null,
            "flex_flow": null,
            "grid_area": null,
            "grid_auto_columns": null,
            "grid_auto_flow": null,
            "grid_auto_rows": null,
            "grid_column": null,
            "grid_gap": null,
            "grid_row": null,
            "grid_template_areas": null,
            "grid_template_columns": null,
            "grid_template_rows": null,
            "height": "25px",
            "justify_content": null,
            "justify_items": null,
            "left": null,
            "margin": null,
            "max_height": null,
            "max_width": null,
            "min_height": null,
            "min_width": null,
            "object_fit": null,
            "object_position": null,
            "order": null,
            "overflow": null,
            "overflow_x": null,
            "overflow_y": null,
            "padding": null,
            "right": null,
            "top": null,
            "visibility": null,
            "width": "50%"
          }
        },
        "65b72005b12a41798cb6d8d5b4781fc2": {
          "model_module": "@jupyter-widgets/controls",
          "model_name": "ProgressStyleModel",
          "model_module_version": "1.5.0",
          "state": {
            "_model_module": "@jupyter-widgets/controls",
            "_model_module_version": "1.5.0",
            "_model_name": "ProgressStyleModel",
            "_view_count": null,
            "_view_module": "@jupyter-widgets/base",
            "_view_module_version": "1.2.0",
            "_view_name": "StyleView",
            "bar_color": null,
            "description_width": ""
          }
        },
        "c8b485d016a7481e8e65d211433474f1": {
          "model_module": "@jupyter-widgets/controls",
          "model_name": "FloatProgressModel",
          "model_module_version": "1.5.0",
          "state": {
            "_dom_classes": [],
            "_model_module": "@jupyter-widgets/controls",
            "_model_module_version": "1.5.0",
            "_model_name": "FloatProgressModel",
            "_view_count": null,
            "_view_module": "@jupyter-widgets/controls",
            "_view_module_version": "1.5.0",
            "_view_name": "ProgressView",
            "bar_style": "info",
            "description": "Progress:",
            "description_tooltip": null,
            "layout": "IPY_MODEL_59056e93b1c84961be066dfa094e9a47",
            "max": 1,
            "min": 0,
            "orientation": "horizontal",
            "style": "IPY_MODEL_786843be331945eda8e743963a6b2d69",
            "value": 0.8141809290953546
          }
        },
        "59056e93b1c84961be066dfa094e9a47": {
          "model_module": "@jupyter-widgets/base",
          "model_name": "LayoutModel",
          "model_module_version": "1.2.0",
          "state": {
            "_model_module": "@jupyter-widgets/base",
            "_model_module_version": "1.2.0",
            "_model_name": "LayoutModel",
            "_view_count": null,
            "_view_module": "@jupyter-widgets/base",
            "_view_module_version": "1.2.0",
            "_view_name": "LayoutView",
            "align_content": null,
            "align_items": null,
            "align_self": null,
            "border": null,
            "bottom": null,
            "display": null,
            "flex": null,
            "flex_flow": null,
            "grid_area": null,
            "grid_auto_columns": null,
            "grid_auto_flow": null,
            "grid_auto_rows": null,
            "grid_column": null,
            "grid_gap": null,
            "grid_row": null,
            "grid_template_areas": null,
            "grid_template_columns": null,
            "grid_template_rows": null,
            "height": "25px",
            "justify_content": null,
            "justify_items": null,
            "left": null,
            "margin": null,
            "max_height": null,
            "max_width": null,
            "min_height": null,
            "min_width": null,
            "object_fit": null,
            "object_position": null,
            "order": null,
            "overflow": null,
            "overflow_x": null,
            "overflow_y": null,
            "padding": null,
            "right": null,
            "top": null,
            "visibility": null,
            "width": "50%"
          }
        },
        "786843be331945eda8e743963a6b2d69": {
          "model_module": "@jupyter-widgets/controls",
          "model_name": "ProgressStyleModel",
          "model_module_version": "1.5.0",
          "state": {
            "_model_module": "@jupyter-widgets/controls",
            "_model_module_version": "1.5.0",
            "_model_name": "ProgressStyleModel",
            "_view_count": null,
            "_view_module": "@jupyter-widgets/base",
            "_view_module_version": "1.2.0",
            "_view_name": "StyleView",
            "bar_color": null,
            "description_width": ""
          }
        },
        "f448e433c18f4c6abe87e75c95015910": {
          "model_module": "@jupyter-widgets/controls",
          "model_name": "FloatProgressModel",
          "model_module_version": "1.5.0",
          "state": {
            "_dom_classes": [],
            "_model_module": "@jupyter-widgets/controls",
            "_model_module_version": "1.5.0",
            "_model_name": "FloatProgressModel",
            "_view_count": null,
            "_view_module": "@jupyter-widgets/controls",
            "_view_module_version": "1.5.0",
            "_view_name": "ProgressView",
            "bar_style": "info",
            "description": "Progress:",
            "description_tooltip": null,
            "layout": "IPY_MODEL_520d74d2a3a04459814532e874aa70e9",
            "max": 1,
            "min": 0,
            "orientation": "horizontal",
            "style": "IPY_MODEL_6eaefb3ea8bf418283a69e15023db339",
            "value": 0.40476190476190477
          }
        },
        "520d74d2a3a04459814532e874aa70e9": {
          "model_module": "@jupyter-widgets/base",
          "model_name": "LayoutModel",
          "model_module_version": "1.2.0",
          "state": {
            "_model_module": "@jupyter-widgets/base",
            "_model_module_version": "1.2.0",
            "_model_name": "LayoutModel",
            "_view_count": null,
            "_view_module": "@jupyter-widgets/base",
            "_view_module_version": "1.2.0",
            "_view_name": "LayoutView",
            "align_content": null,
            "align_items": null,
            "align_self": null,
            "border": null,
            "bottom": null,
            "display": null,
            "flex": null,
            "flex_flow": null,
            "grid_area": null,
            "grid_auto_columns": null,
            "grid_auto_flow": null,
            "grid_auto_rows": null,
            "grid_column": null,
            "grid_gap": null,
            "grid_row": null,
            "grid_template_areas": null,
            "grid_template_columns": null,
            "grid_template_rows": null,
            "height": "25px",
            "justify_content": null,
            "justify_items": null,
            "left": null,
            "margin": null,
            "max_height": null,
            "max_width": null,
            "min_height": null,
            "min_width": null,
            "object_fit": null,
            "object_position": null,
            "order": null,
            "overflow": null,
            "overflow_x": null,
            "overflow_y": null,
            "padding": null,
            "right": null,
            "top": null,
            "visibility": null,
            "width": "50%"
          }
        },
        "6eaefb3ea8bf418283a69e15023db339": {
          "model_module": "@jupyter-widgets/controls",
          "model_name": "ProgressStyleModel",
          "model_module_version": "1.5.0",
          "state": {
            "_model_module": "@jupyter-widgets/controls",
            "_model_module_version": "1.5.0",
            "_model_name": "ProgressStyleModel",
            "_view_count": null,
            "_view_module": "@jupyter-widgets/base",
            "_view_module_version": "1.2.0",
            "_view_name": "StyleView",
            "bar_color": null,
            "description_width": ""
          }
        },
        "a54283916eb047a5b9cbd67fbbb22f65": {
          "model_module": "@jupyter-widgets/controls",
          "model_name": "FloatProgressModel",
          "model_module_version": "1.5.0",
          "state": {
            "_dom_classes": [],
            "_model_module": "@jupyter-widgets/controls",
            "_model_module_version": "1.5.0",
            "_model_name": "FloatProgressModel",
            "_view_count": null,
            "_view_module": "@jupyter-widgets/controls",
            "_view_module_version": "1.5.0",
            "_view_name": "ProgressView",
            "bar_style": "info",
            "description": "Progress:",
            "description_tooltip": null,
            "layout": "IPY_MODEL_c6c7f077722e47a2bd6d0038a150d54b",
            "max": 1,
            "min": 0,
            "orientation": "horizontal",
            "style": "IPY_MODEL_89e9855aeca54894aff5ad6a312c7de9",
            "value": 0
          }
        },
        "c6c7f077722e47a2bd6d0038a150d54b": {
          "model_module": "@jupyter-widgets/base",
          "model_name": "LayoutModel",
          "model_module_version": "1.2.0",
          "state": {
            "_model_module": "@jupyter-widgets/base",
            "_model_module_version": "1.2.0",
            "_model_name": "LayoutModel",
            "_view_count": null,
            "_view_module": "@jupyter-widgets/base",
            "_view_module_version": "1.2.0",
            "_view_name": "LayoutView",
            "align_content": null,
            "align_items": null,
            "align_self": null,
            "border": null,
            "bottom": null,
            "display": null,
            "flex": null,
            "flex_flow": null,
            "grid_area": null,
            "grid_auto_columns": null,
            "grid_auto_flow": null,
            "grid_auto_rows": null,
            "grid_column": null,
            "grid_gap": null,
            "grid_row": null,
            "grid_template_areas": null,
            "grid_template_columns": null,
            "grid_template_rows": null,
            "height": "25px",
            "justify_content": null,
            "justify_items": null,
            "left": null,
            "margin": null,
            "max_height": null,
            "max_width": null,
            "min_height": null,
            "min_width": null,
            "object_fit": null,
            "object_position": null,
            "order": null,
            "overflow": null,
            "overflow_x": null,
            "overflow_y": null,
            "padding": null,
            "right": null,
            "top": null,
            "visibility": null,
            "width": "50%"
          }
        },
        "89e9855aeca54894aff5ad6a312c7de9": {
          "model_module": "@jupyter-widgets/controls",
          "model_name": "ProgressStyleModel",
          "model_module_version": "1.5.0",
          "state": {
            "_model_module": "@jupyter-widgets/controls",
            "_model_module_version": "1.5.0",
            "_model_name": "ProgressStyleModel",
            "_view_count": null,
            "_view_module": "@jupyter-widgets/base",
            "_view_module_version": "1.2.0",
            "_view_name": "StyleView",
            "bar_color": null,
            "description_width": ""
          }
        },
        "62a78492beab4935acf5e56a147f2f0b": {
          "model_module": "@jupyter-widgets/controls",
          "model_name": "FloatProgressModel",
          "model_module_version": "1.5.0",
          "state": {
            "_dom_classes": [],
            "_model_module": "@jupyter-widgets/controls",
            "_model_module_version": "1.5.0",
            "_model_name": "FloatProgressModel",
            "_view_count": null,
            "_view_module": "@jupyter-widgets/controls",
            "_view_module_version": "1.5.0",
            "_view_name": "ProgressView",
            "bar_style": "info",
            "description": "Progress:",
            "description_tooltip": null,
            "layout": "IPY_MODEL_80ba1bc082054b669f94cdcb02241143",
            "max": 1,
            "min": 0,
            "orientation": "horizontal",
            "style": "IPY_MODEL_bdca3b53700448b98f34ef0ccfb1bce5",
            "value": 0
          }
        },
        "80ba1bc082054b669f94cdcb02241143": {
          "model_module": "@jupyter-widgets/base",
          "model_name": "LayoutModel",
          "model_module_version": "1.2.0",
          "state": {
            "_model_module": "@jupyter-widgets/base",
            "_model_module_version": "1.2.0",
            "_model_name": "LayoutModel",
            "_view_count": null,
            "_view_module": "@jupyter-widgets/base",
            "_view_module_version": "1.2.0",
            "_view_name": "LayoutView",
            "align_content": null,
            "align_items": null,
            "align_self": null,
            "border": null,
            "bottom": null,
            "display": null,
            "flex": null,
            "flex_flow": null,
            "grid_area": null,
            "grid_auto_columns": null,
            "grid_auto_flow": null,
            "grid_auto_rows": null,
            "grid_column": null,
            "grid_gap": null,
            "grid_row": null,
            "grid_template_areas": null,
            "grid_template_columns": null,
            "grid_template_rows": null,
            "height": "25px",
            "justify_content": null,
            "justify_items": null,
            "left": null,
            "margin": null,
            "max_height": null,
            "max_width": null,
            "min_height": null,
            "min_width": null,
            "object_fit": null,
            "object_position": null,
            "order": null,
            "overflow": null,
            "overflow_x": null,
            "overflow_y": null,
            "padding": null,
            "right": null,
            "top": null,
            "visibility": null,
            "width": "50%"
          }
        },
        "bdca3b53700448b98f34ef0ccfb1bce5": {
          "model_module": "@jupyter-widgets/controls",
          "model_name": "ProgressStyleModel",
          "model_module_version": "1.5.0",
          "state": {
            "_model_module": "@jupyter-widgets/controls",
            "_model_module_version": "1.5.0",
            "_model_name": "ProgressStyleModel",
            "_view_count": null,
            "_view_module": "@jupyter-widgets/base",
            "_view_module_version": "1.2.0",
            "_view_name": "StyleView",
            "bar_color": null,
            "description_width": ""
          }
        },
        "20c77f4be00d451d814fcc797c8938f2": {
          "model_module": "@jupyter-widgets/controls",
          "model_name": "FloatProgressModel",
          "model_module_version": "1.5.0",
          "state": {
            "_dom_classes": [],
            "_model_module": "@jupyter-widgets/controls",
            "_model_module_version": "1.5.0",
            "_model_name": "FloatProgressModel",
            "_view_count": null,
            "_view_module": "@jupyter-widgets/controls",
            "_view_module_version": "1.5.0",
            "_view_name": "ProgressView",
            "bar_style": "info",
            "description": "Progress:",
            "description_tooltip": null,
            "layout": "IPY_MODEL_5d583abe38b5469d95a70e22e1e448ac",
            "max": 1,
            "min": 0,
            "orientation": "horizontal",
            "style": "IPY_MODEL_f5f055deeb0545a59069a305bcfa0eb5",
            "value": 0.9975550122249389
          }
        },
        "5d583abe38b5469d95a70e22e1e448ac": {
          "model_module": "@jupyter-widgets/base",
          "model_name": "LayoutModel",
          "model_module_version": "1.2.0",
          "state": {
            "_model_module": "@jupyter-widgets/base",
            "_model_module_version": "1.2.0",
            "_model_name": "LayoutModel",
            "_view_count": null,
            "_view_module": "@jupyter-widgets/base",
            "_view_module_version": "1.2.0",
            "_view_name": "LayoutView",
            "align_content": null,
            "align_items": null,
            "align_self": null,
            "border": null,
            "bottom": null,
            "display": null,
            "flex": null,
            "flex_flow": null,
            "grid_area": null,
            "grid_auto_columns": null,
            "grid_auto_flow": null,
            "grid_auto_rows": null,
            "grid_column": null,
            "grid_gap": null,
            "grid_row": null,
            "grid_template_areas": null,
            "grid_template_columns": null,
            "grid_template_rows": null,
            "height": "25px",
            "justify_content": null,
            "justify_items": null,
            "left": null,
            "margin": null,
            "max_height": null,
            "max_width": null,
            "min_height": null,
            "min_width": null,
            "object_fit": null,
            "object_position": null,
            "order": null,
            "overflow": null,
            "overflow_x": null,
            "overflow_y": null,
            "padding": null,
            "right": null,
            "top": null,
            "visibility": null,
            "width": "50%"
          }
        },
        "f5f055deeb0545a59069a305bcfa0eb5": {
          "model_module": "@jupyter-widgets/controls",
          "model_name": "ProgressStyleModel",
          "model_module_version": "1.5.0",
          "state": {
            "_model_module": "@jupyter-widgets/controls",
            "_model_module_version": "1.5.0",
            "_model_name": "ProgressStyleModel",
            "_view_count": null,
            "_view_module": "@jupyter-widgets/base",
            "_view_module_version": "1.2.0",
            "_view_name": "StyleView",
            "bar_color": null,
            "description_width": ""
          }
        },
        "04018584547b4282a864cd3abc66dde4": {
          "model_module": "@jupyter-widgets/controls",
          "model_name": "FloatProgressModel",
          "model_module_version": "1.5.0",
          "state": {
            "_dom_classes": [],
            "_model_module": "@jupyter-widgets/controls",
            "_model_module_version": "1.5.0",
            "_model_name": "FloatProgressModel",
            "_view_count": null,
            "_view_module": "@jupyter-widgets/controls",
            "_view_module_version": "1.5.0",
            "_view_name": "ProgressView",
            "bar_style": "info",
            "description": "Progress:",
            "description_tooltip": null,
            "layout": "IPY_MODEL_cc7c00b7f5e4484fafafe6617e3ac0dc",
            "max": 1,
            "min": 0,
            "orientation": "horizontal",
            "style": "IPY_MODEL_d0b8a0e867124e20a8a6f1ef772c5507",
            "value": 0.125
          }
        },
        "cc7c00b7f5e4484fafafe6617e3ac0dc": {
          "model_module": "@jupyter-widgets/base",
          "model_name": "LayoutModel",
          "model_module_version": "1.2.0",
          "state": {
            "_model_module": "@jupyter-widgets/base",
            "_model_module_version": "1.2.0",
            "_model_name": "LayoutModel",
            "_view_count": null,
            "_view_module": "@jupyter-widgets/base",
            "_view_module_version": "1.2.0",
            "_view_name": "LayoutView",
            "align_content": null,
            "align_items": null,
            "align_self": null,
            "border": null,
            "bottom": null,
            "display": null,
            "flex": null,
            "flex_flow": null,
            "grid_area": null,
            "grid_auto_columns": null,
            "grid_auto_flow": null,
            "grid_auto_rows": null,
            "grid_column": null,
            "grid_gap": null,
            "grid_row": null,
            "grid_template_areas": null,
            "grid_template_columns": null,
            "grid_template_rows": null,
            "height": "25px",
            "justify_content": null,
            "justify_items": null,
            "left": null,
            "margin": null,
            "max_height": null,
            "max_width": null,
            "min_height": null,
            "min_width": null,
            "object_fit": null,
            "object_position": null,
            "order": null,
            "overflow": null,
            "overflow_x": null,
            "overflow_y": null,
            "padding": null,
            "right": null,
            "top": null,
            "visibility": null,
            "width": "50%"
          }
        },
        "d0b8a0e867124e20a8a6f1ef772c5507": {
          "model_module": "@jupyter-widgets/controls",
          "model_name": "ProgressStyleModel",
          "model_module_version": "1.5.0",
          "state": {
            "_model_module": "@jupyter-widgets/controls",
            "_model_module_version": "1.5.0",
            "_model_name": "ProgressStyleModel",
            "_view_count": null,
            "_view_module": "@jupyter-widgets/base",
            "_view_module_version": "1.2.0",
            "_view_name": "StyleView",
            "bar_color": null,
            "description_width": ""
          }
        },
        "7f30fa5c00a64dd6b27f4b896977ccd2": {
          "model_module": "@jupyter-widgets/controls",
          "model_name": "FloatProgressModel",
          "model_module_version": "1.5.0",
          "state": {
            "_dom_classes": [],
            "_model_module": "@jupyter-widgets/controls",
            "_model_module_version": "1.5.0",
            "_model_name": "FloatProgressModel",
            "_view_count": null,
            "_view_module": "@jupyter-widgets/controls",
            "_view_module_version": "1.5.0",
            "_view_name": "ProgressView",
            "bar_style": "info",
            "description": "Progress:",
            "description_tooltip": null,
            "layout": "IPY_MODEL_19e497725e804b50b9bb4899850665a5",
            "max": 1,
            "min": 0,
            "orientation": "horizontal",
            "style": "IPY_MODEL_c2068c159e974ce0b61904415c21f064",
            "value": 0
          }
        },
        "19e497725e804b50b9bb4899850665a5": {
          "model_module": "@jupyter-widgets/base",
          "model_name": "LayoutModel",
          "model_module_version": "1.2.0",
          "state": {
            "_model_module": "@jupyter-widgets/base",
            "_model_module_version": "1.2.0",
            "_model_name": "LayoutModel",
            "_view_count": null,
            "_view_module": "@jupyter-widgets/base",
            "_view_module_version": "1.2.0",
            "_view_name": "LayoutView",
            "align_content": null,
            "align_items": null,
            "align_self": null,
            "border": null,
            "bottom": null,
            "display": null,
            "flex": null,
            "flex_flow": null,
            "grid_area": null,
            "grid_auto_columns": null,
            "grid_auto_flow": null,
            "grid_auto_rows": null,
            "grid_column": null,
            "grid_gap": null,
            "grid_row": null,
            "grid_template_areas": null,
            "grid_template_columns": null,
            "grid_template_rows": null,
            "height": "25px",
            "justify_content": null,
            "justify_items": null,
            "left": null,
            "margin": null,
            "max_height": null,
            "max_width": null,
            "min_height": null,
            "min_width": null,
            "object_fit": null,
            "object_position": null,
            "order": null,
            "overflow": null,
            "overflow_x": null,
            "overflow_y": null,
            "padding": null,
            "right": null,
            "top": null,
            "visibility": null,
            "width": "50%"
          }
        },
        "c2068c159e974ce0b61904415c21f064": {
          "model_module": "@jupyter-widgets/controls",
          "model_name": "ProgressStyleModel",
          "model_module_version": "1.5.0",
          "state": {
            "_model_module": "@jupyter-widgets/controls",
            "_model_module_version": "1.5.0",
            "_model_name": "ProgressStyleModel",
            "_view_count": null,
            "_view_module": "@jupyter-widgets/base",
            "_view_module_version": "1.2.0",
            "_view_name": "StyleView",
            "bar_color": null,
            "description_width": ""
          }
        },
        "092b7ac301c540afbfb4fbda5dd437f8": {
          "model_module": "@jupyter-widgets/controls",
          "model_name": "FloatProgressModel",
          "model_module_version": "1.5.0",
          "state": {
            "_dom_classes": [],
            "_model_module": "@jupyter-widgets/controls",
            "_model_module_version": "1.5.0",
            "_model_name": "FloatProgressModel",
            "_view_count": null,
            "_view_module": "@jupyter-widgets/controls",
            "_view_module_version": "1.5.0",
            "_view_name": "ProgressView",
            "bar_style": "info",
            "description": "Progress:",
            "description_tooltip": null,
            "layout": "IPY_MODEL_48fd8e4d9d3c49919b8cae1906487637",
            "max": 1,
            "min": 0,
            "orientation": "horizontal",
            "style": "IPY_MODEL_3129955515e34b78a20874044066984a",
            "value": 0
          }
        },
        "48fd8e4d9d3c49919b8cae1906487637": {
          "model_module": "@jupyter-widgets/base",
          "model_name": "LayoutModel",
          "model_module_version": "1.2.0",
          "state": {
            "_model_module": "@jupyter-widgets/base",
            "_model_module_version": "1.2.0",
            "_model_name": "LayoutModel",
            "_view_count": null,
            "_view_module": "@jupyter-widgets/base",
            "_view_module_version": "1.2.0",
            "_view_name": "LayoutView",
            "align_content": null,
            "align_items": null,
            "align_self": null,
            "border": null,
            "bottom": null,
            "display": null,
            "flex": null,
            "flex_flow": null,
            "grid_area": null,
            "grid_auto_columns": null,
            "grid_auto_flow": null,
            "grid_auto_rows": null,
            "grid_column": null,
            "grid_gap": null,
            "grid_row": null,
            "grid_template_areas": null,
            "grid_template_columns": null,
            "grid_template_rows": null,
            "height": "25px",
            "justify_content": null,
            "justify_items": null,
            "left": null,
            "margin": null,
            "max_height": null,
            "max_width": null,
            "min_height": null,
            "min_width": null,
            "object_fit": null,
            "object_position": null,
            "order": null,
            "overflow": null,
            "overflow_x": null,
            "overflow_y": null,
            "padding": null,
            "right": null,
            "top": null,
            "visibility": null,
            "width": "50%"
          }
        },
        "3129955515e34b78a20874044066984a": {
          "model_module": "@jupyter-widgets/controls",
          "model_name": "ProgressStyleModel",
          "model_module_version": "1.5.0",
          "state": {
            "_model_module": "@jupyter-widgets/controls",
            "_model_module_version": "1.5.0",
            "_model_name": "ProgressStyleModel",
            "_view_count": null,
            "_view_module": "@jupyter-widgets/base",
            "_view_module_version": "1.2.0",
            "_view_name": "StyleView",
            "bar_color": null,
            "description_width": ""
          }
        },
        "e7eedef3b37a46aabf506aeb2fd8ddfb": {
          "model_module": "@jupyter-widgets/controls",
          "model_name": "FloatProgressModel",
          "model_module_version": "1.5.0",
          "state": {
            "_dom_classes": [],
            "_model_module": "@jupyter-widgets/controls",
            "_model_module_version": "1.5.0",
            "_model_name": "FloatProgressModel",
            "_view_count": null,
            "_view_module": "@jupyter-widgets/controls",
            "_view_module_version": "1.5.0",
            "_view_name": "ProgressView",
            "bar_style": "info",
            "description": "Progress:",
            "description_tooltip": null,
            "layout": "IPY_MODEL_5e9f56b5721a40818597e5b3476923a7",
            "max": 1,
            "min": 0,
            "orientation": "horizontal",
            "style": "IPY_MODEL_a802bd9e76a145788b011b09b585e0f8",
            "value": 0.004784688995215311
          }
        },
        "5e9f56b5721a40818597e5b3476923a7": {
          "model_module": "@jupyter-widgets/base",
          "model_name": "LayoutModel",
          "model_module_version": "1.2.0",
          "state": {
            "_model_module": "@jupyter-widgets/base",
            "_model_module_version": "1.2.0",
            "_model_name": "LayoutModel",
            "_view_count": null,
            "_view_module": "@jupyter-widgets/base",
            "_view_module_version": "1.2.0",
            "_view_name": "LayoutView",
            "align_content": null,
            "align_items": null,
            "align_self": null,
            "border": null,
            "bottom": null,
            "display": null,
            "flex": null,
            "flex_flow": null,
            "grid_area": null,
            "grid_auto_columns": null,
            "grid_auto_flow": null,
            "grid_auto_rows": null,
            "grid_column": null,
            "grid_gap": null,
            "grid_row": null,
            "grid_template_areas": null,
            "grid_template_columns": null,
            "grid_template_rows": null,
            "height": "25px",
            "justify_content": null,
            "justify_items": null,
            "left": null,
            "margin": null,
            "max_height": null,
            "max_width": null,
            "min_height": null,
            "min_width": null,
            "object_fit": null,
            "object_position": null,
            "order": null,
            "overflow": null,
            "overflow_x": null,
            "overflow_y": null,
            "padding": null,
            "right": null,
            "top": null,
            "visibility": null,
            "width": "50%"
          }
        },
        "a802bd9e76a145788b011b09b585e0f8": {
          "model_module": "@jupyter-widgets/controls",
          "model_name": "ProgressStyleModel",
          "model_module_version": "1.5.0",
          "state": {
            "_model_module": "@jupyter-widgets/controls",
            "_model_module_version": "1.5.0",
            "_model_name": "ProgressStyleModel",
            "_view_count": null,
            "_view_module": "@jupyter-widgets/base",
            "_view_module_version": "1.2.0",
            "_view_name": "StyleView",
            "bar_color": null,
            "description_width": ""
          }
        },
        "ed6bd5cad738480d944f82db07216c5d": {
          "model_module": "@jupyter-widgets/controls",
          "model_name": "FloatProgressModel",
          "model_module_version": "1.5.0",
          "state": {
            "_dom_classes": [],
            "_model_module": "@jupyter-widgets/controls",
            "_model_module_version": "1.5.0",
            "_model_name": "FloatProgressModel",
            "_view_count": null,
            "_view_module": "@jupyter-widgets/controls",
            "_view_module_version": "1.5.0",
            "_view_name": "ProgressView",
            "bar_style": "info",
            "description": "Progress:",
            "description_tooltip": null,
            "layout": "IPY_MODEL_4d0cf2efaefd44e881ae6e046e1a6704",
            "max": 1,
            "min": 0,
            "orientation": "horizontal",
            "style": "IPY_MODEL_92c8f12a2dd24fc286169d1b3f310343",
            "value": 0.375
          }
        },
        "4d0cf2efaefd44e881ae6e046e1a6704": {
          "model_module": "@jupyter-widgets/base",
          "model_name": "LayoutModel",
          "model_module_version": "1.2.0",
          "state": {
            "_model_module": "@jupyter-widgets/base",
            "_model_module_version": "1.2.0",
            "_model_name": "LayoutModel",
            "_view_count": null,
            "_view_module": "@jupyter-widgets/base",
            "_view_module_version": "1.2.0",
            "_view_name": "LayoutView",
            "align_content": null,
            "align_items": null,
            "align_self": null,
            "border": null,
            "bottom": null,
            "display": null,
            "flex": null,
            "flex_flow": null,
            "grid_area": null,
            "grid_auto_columns": null,
            "grid_auto_flow": null,
            "grid_auto_rows": null,
            "grid_column": null,
            "grid_gap": null,
            "grid_row": null,
            "grid_template_areas": null,
            "grid_template_columns": null,
            "grid_template_rows": null,
            "height": "25px",
            "justify_content": null,
            "justify_items": null,
            "left": null,
            "margin": null,
            "max_height": null,
            "max_width": null,
            "min_height": null,
            "min_width": null,
            "object_fit": null,
            "object_position": null,
            "order": null,
            "overflow": null,
            "overflow_x": null,
            "overflow_y": null,
            "padding": null,
            "right": null,
            "top": null,
            "visibility": null,
            "width": "50%"
          }
        },
        "92c8f12a2dd24fc286169d1b3f310343": {
          "model_module": "@jupyter-widgets/controls",
          "model_name": "ProgressStyleModel",
          "model_module_version": "1.5.0",
          "state": {
            "_model_module": "@jupyter-widgets/controls",
            "_model_module_version": "1.5.0",
            "_model_name": "ProgressStyleModel",
            "_view_count": null,
            "_view_module": "@jupyter-widgets/base",
            "_view_module_version": "1.2.0",
            "_view_name": "StyleView",
            "bar_color": null,
            "description_width": ""
          }
        },
        "2dcde5247b0e4427a0b7821eb41042d3": {
          "model_module": "@jupyter-widgets/controls",
          "model_name": "FloatProgressModel",
          "model_module_version": "1.5.0",
          "state": {
            "_dom_classes": [],
            "_model_module": "@jupyter-widgets/controls",
            "_model_module_version": "1.5.0",
            "_model_name": "FloatProgressModel",
            "_view_count": null,
            "_view_module": "@jupyter-widgets/controls",
            "_view_module_version": "1.5.0",
            "_view_name": "ProgressView",
            "bar_style": "info",
            "description": "Progress:",
            "description_tooltip": null,
            "layout": "IPY_MODEL_910ae1db519748a29cc847c2abdc47a7",
            "max": 1,
            "min": 0,
            "orientation": "horizontal",
            "style": "IPY_MODEL_d59f7fe7b5a94e86874a0ca12c2c238d",
            "value": 0
          }
        },
        "910ae1db519748a29cc847c2abdc47a7": {
          "model_module": "@jupyter-widgets/base",
          "model_name": "LayoutModel",
          "model_module_version": "1.2.0",
          "state": {
            "_model_module": "@jupyter-widgets/base",
            "_model_module_version": "1.2.0",
            "_model_name": "LayoutModel",
            "_view_count": null,
            "_view_module": "@jupyter-widgets/base",
            "_view_module_version": "1.2.0",
            "_view_name": "LayoutView",
            "align_content": null,
            "align_items": null,
            "align_self": null,
            "border": null,
            "bottom": null,
            "display": null,
            "flex": null,
            "flex_flow": null,
            "grid_area": null,
            "grid_auto_columns": null,
            "grid_auto_flow": null,
            "grid_auto_rows": null,
            "grid_column": null,
            "grid_gap": null,
            "grid_row": null,
            "grid_template_areas": null,
            "grid_template_columns": null,
            "grid_template_rows": null,
            "height": "25px",
            "justify_content": null,
            "justify_items": null,
            "left": null,
            "margin": null,
            "max_height": null,
            "max_width": null,
            "min_height": null,
            "min_width": null,
            "object_fit": null,
            "object_position": null,
            "order": null,
            "overflow": null,
            "overflow_x": null,
            "overflow_y": null,
            "padding": null,
            "right": null,
            "top": null,
            "visibility": null,
            "width": "50%"
          }
        },
        "d59f7fe7b5a94e86874a0ca12c2c238d": {
          "model_module": "@jupyter-widgets/controls",
          "model_name": "ProgressStyleModel",
          "model_module_version": "1.5.0",
          "state": {
            "_model_module": "@jupyter-widgets/controls",
            "_model_module_version": "1.5.0",
            "_model_name": "ProgressStyleModel",
            "_view_count": null,
            "_view_module": "@jupyter-widgets/base",
            "_view_module_version": "1.2.0",
            "_view_name": "StyleView",
            "bar_color": null,
            "description_width": ""
          }
        },
        "798afe2d488548feaaadc97c037edac0": {
          "model_module": "@jupyter-widgets/controls",
          "model_name": "FloatProgressModel",
          "model_module_version": "1.5.0",
          "state": {
            "_dom_classes": [],
            "_model_module": "@jupyter-widgets/controls",
            "_model_module_version": "1.5.0",
            "_model_name": "FloatProgressModel",
            "_view_count": null,
            "_view_module": "@jupyter-widgets/controls",
            "_view_module_version": "1.5.0",
            "_view_name": "ProgressView",
            "bar_style": "info",
            "description": "Progress:",
            "description_tooltip": null,
            "layout": "IPY_MODEL_fb2a77ff97dc4c08a6ad9c6b68f213e1",
            "max": 1,
            "min": 0,
            "orientation": "horizontal",
            "style": "IPY_MODEL_ba706201a7e847d988f31e31f14bbc72",
            "value": 0
          }
        },
        "fb2a77ff97dc4c08a6ad9c6b68f213e1": {
          "model_module": "@jupyter-widgets/base",
          "model_name": "LayoutModel",
          "model_module_version": "1.2.0",
          "state": {
            "_model_module": "@jupyter-widgets/base",
            "_model_module_version": "1.2.0",
            "_model_name": "LayoutModel",
            "_view_count": null,
            "_view_module": "@jupyter-widgets/base",
            "_view_module_version": "1.2.0",
            "_view_name": "LayoutView",
            "align_content": null,
            "align_items": null,
            "align_self": null,
            "border": null,
            "bottom": null,
            "display": null,
            "flex": null,
            "flex_flow": null,
            "grid_area": null,
            "grid_auto_columns": null,
            "grid_auto_flow": null,
            "grid_auto_rows": null,
            "grid_column": null,
            "grid_gap": null,
            "grid_row": null,
            "grid_template_areas": null,
            "grid_template_columns": null,
            "grid_template_rows": null,
            "height": "25px",
            "justify_content": null,
            "justify_items": null,
            "left": null,
            "margin": null,
            "max_height": null,
            "max_width": null,
            "min_height": null,
            "min_width": null,
            "object_fit": null,
            "object_position": null,
            "order": null,
            "overflow": null,
            "overflow_x": null,
            "overflow_y": null,
            "padding": null,
            "right": null,
            "top": null,
            "visibility": null,
            "width": "50%"
          }
        },
        "ba706201a7e847d988f31e31f14bbc72": {
          "model_module": "@jupyter-widgets/controls",
          "model_name": "ProgressStyleModel",
          "model_module_version": "1.5.0",
          "state": {
            "_model_module": "@jupyter-widgets/controls",
            "_model_module_version": "1.5.0",
            "_model_name": "ProgressStyleModel",
            "_view_count": null,
            "_view_module": "@jupyter-widgets/base",
            "_view_module_version": "1.2.0",
            "_view_name": "StyleView",
            "bar_color": null,
            "description_width": ""
          }
        },
        "90a8a6ed6fdc4098aeb979d8823d960e": {
          "model_module": "@jupyter-widgets/controls",
          "model_name": "FloatProgressModel",
          "model_module_version": "1.5.0",
          "state": {
            "_dom_classes": [],
            "_model_module": "@jupyter-widgets/controls",
            "_model_module_version": "1.5.0",
            "_model_name": "FloatProgressModel",
            "_view_count": null,
            "_view_module": "@jupyter-widgets/controls",
            "_view_module_version": "1.5.0",
            "_view_name": "ProgressView",
            "bar_style": "info",
            "description": "Progress:",
            "description_tooltip": null,
            "layout": "IPY_MODEL_d30810f86fdd4778af723c8ee008a13d",
            "max": 1,
            "min": 0,
            "orientation": "horizontal",
            "style": "IPY_MODEL_6949fb84aa6a4f898a05c3c3d3399e48",
            "value": 0.6352509179926561
          }
        },
        "d30810f86fdd4778af723c8ee008a13d": {
          "model_module": "@jupyter-widgets/base",
          "model_name": "LayoutModel",
          "model_module_version": "1.2.0",
          "state": {
            "_model_module": "@jupyter-widgets/base",
            "_model_module_version": "1.2.0",
            "_model_name": "LayoutModel",
            "_view_count": null,
            "_view_module": "@jupyter-widgets/base",
            "_view_module_version": "1.2.0",
            "_view_name": "LayoutView",
            "align_content": null,
            "align_items": null,
            "align_self": null,
            "border": null,
            "bottom": null,
            "display": null,
            "flex": null,
            "flex_flow": null,
            "grid_area": null,
            "grid_auto_columns": null,
            "grid_auto_flow": null,
            "grid_auto_rows": null,
            "grid_column": null,
            "grid_gap": null,
            "grid_row": null,
            "grid_template_areas": null,
            "grid_template_columns": null,
            "grid_template_rows": null,
            "height": "25px",
            "justify_content": null,
            "justify_items": null,
            "left": null,
            "margin": null,
            "max_height": null,
            "max_width": null,
            "min_height": null,
            "min_width": null,
            "object_fit": null,
            "object_position": null,
            "order": null,
            "overflow": null,
            "overflow_x": null,
            "overflow_y": null,
            "padding": null,
            "right": null,
            "top": null,
            "visibility": null,
            "width": "50%"
          }
        },
        "6949fb84aa6a4f898a05c3c3d3399e48": {
          "model_module": "@jupyter-widgets/controls",
          "model_name": "ProgressStyleModel",
          "model_module_version": "1.5.0",
          "state": {
            "_model_module": "@jupyter-widgets/controls",
            "_model_module_version": "1.5.0",
            "_model_name": "ProgressStyleModel",
            "_view_count": null,
            "_view_module": "@jupyter-widgets/base",
            "_view_module_version": "1.2.0",
            "_view_name": "StyleView",
            "bar_color": null,
            "description_width": ""
          }
        },
        "8f65502597b841998838ed14998fd931": {
          "model_module": "@jupyter-widgets/controls",
          "model_name": "FloatProgressModel",
          "model_module_version": "1.5.0",
          "state": {
            "_dom_classes": [],
            "_model_module": "@jupyter-widgets/controls",
            "_model_module_version": "1.5.0",
            "_model_name": "FloatProgressModel",
            "_view_count": null,
            "_view_module": "@jupyter-widgets/controls",
            "_view_module_version": "1.5.0",
            "_view_name": "ProgressView",
            "bar_style": "info",
            "description": "Progress:",
            "description_tooltip": null,
            "layout": "IPY_MODEL_caaffb7fdec8490e9c72a95ca6e4ba9c",
            "max": 1,
            "min": 0,
            "orientation": "horizontal",
            "style": "IPY_MODEL_21b8b651b8684dbab7571d041aff28cd",
            "value": 0.25
          }
        },
        "caaffb7fdec8490e9c72a95ca6e4ba9c": {
          "model_module": "@jupyter-widgets/base",
          "model_name": "LayoutModel",
          "model_module_version": "1.2.0",
          "state": {
            "_model_module": "@jupyter-widgets/base",
            "_model_module_version": "1.2.0",
            "_model_name": "LayoutModel",
            "_view_count": null,
            "_view_module": "@jupyter-widgets/base",
            "_view_module_version": "1.2.0",
            "_view_name": "LayoutView",
            "align_content": null,
            "align_items": null,
            "align_self": null,
            "border": null,
            "bottom": null,
            "display": null,
            "flex": null,
            "flex_flow": null,
            "grid_area": null,
            "grid_auto_columns": null,
            "grid_auto_flow": null,
            "grid_auto_rows": null,
            "grid_column": null,
            "grid_gap": null,
            "grid_row": null,
            "grid_template_areas": null,
            "grid_template_columns": null,
            "grid_template_rows": null,
            "height": "25px",
            "justify_content": null,
            "justify_items": null,
            "left": null,
            "margin": null,
            "max_height": null,
            "max_width": null,
            "min_height": null,
            "min_width": null,
            "object_fit": null,
            "object_position": null,
            "order": null,
            "overflow": null,
            "overflow_x": null,
            "overflow_y": null,
            "padding": null,
            "right": null,
            "top": null,
            "visibility": null,
            "width": "50%"
          }
        },
        "21b8b651b8684dbab7571d041aff28cd": {
          "model_module": "@jupyter-widgets/controls",
          "model_name": "ProgressStyleModel",
          "model_module_version": "1.5.0",
          "state": {
            "_model_module": "@jupyter-widgets/controls",
            "_model_module_version": "1.5.0",
            "_model_name": "ProgressStyleModel",
            "_view_count": null,
            "_view_module": "@jupyter-widgets/base",
            "_view_module_version": "1.2.0",
            "_view_name": "StyleView",
            "bar_color": null,
            "description_width": ""
          }
        },
        "d1caedd4837a493aa6500ce88290c8b8": {
          "model_module": "@jupyter-widgets/controls",
          "model_name": "FloatProgressModel",
          "model_module_version": "1.5.0",
          "state": {
            "_dom_classes": [],
            "_model_module": "@jupyter-widgets/controls",
            "_model_module_version": "1.5.0",
            "_model_name": "FloatProgressModel",
            "_view_count": null,
            "_view_module": "@jupyter-widgets/controls",
            "_view_module_version": "1.5.0",
            "_view_name": "ProgressView",
            "bar_style": "info",
            "description": "Progress:",
            "description_tooltip": null,
            "layout": "IPY_MODEL_ef2a11105ea04a7b90beb9e394ce48a1",
            "max": 1,
            "min": 0,
            "orientation": "horizontal",
            "style": "IPY_MODEL_3caccbd81ff64a37a76ac8bfca2d746d",
            "value": 0
          }
        },
        "ef2a11105ea04a7b90beb9e394ce48a1": {
          "model_module": "@jupyter-widgets/base",
          "model_name": "LayoutModel",
          "model_module_version": "1.2.0",
          "state": {
            "_model_module": "@jupyter-widgets/base",
            "_model_module_version": "1.2.0",
            "_model_name": "LayoutModel",
            "_view_count": null,
            "_view_module": "@jupyter-widgets/base",
            "_view_module_version": "1.2.0",
            "_view_name": "LayoutView",
            "align_content": null,
            "align_items": null,
            "align_self": null,
            "border": null,
            "bottom": null,
            "display": null,
            "flex": null,
            "flex_flow": null,
            "grid_area": null,
            "grid_auto_columns": null,
            "grid_auto_flow": null,
            "grid_auto_rows": null,
            "grid_column": null,
            "grid_gap": null,
            "grid_row": null,
            "grid_template_areas": null,
            "grid_template_columns": null,
            "grid_template_rows": null,
            "height": "25px",
            "justify_content": null,
            "justify_items": null,
            "left": null,
            "margin": null,
            "max_height": null,
            "max_width": null,
            "min_height": null,
            "min_width": null,
            "object_fit": null,
            "object_position": null,
            "order": null,
            "overflow": null,
            "overflow_x": null,
            "overflow_y": null,
            "padding": null,
            "right": null,
            "top": null,
            "visibility": null,
            "width": "50%"
          }
        },
        "3caccbd81ff64a37a76ac8bfca2d746d": {
          "model_module": "@jupyter-widgets/controls",
          "model_name": "ProgressStyleModel",
          "model_module_version": "1.5.0",
          "state": {
            "_model_module": "@jupyter-widgets/controls",
            "_model_module_version": "1.5.0",
            "_model_name": "ProgressStyleModel",
            "_view_count": null,
            "_view_module": "@jupyter-widgets/base",
            "_view_module_version": "1.2.0",
            "_view_name": "StyleView",
            "bar_color": null,
            "description_width": ""
          }
        },
        "d559fcc3b48d432aa33b1f7377c1eb40": {
          "model_module": "@jupyter-widgets/controls",
          "model_name": "FloatProgressModel",
          "model_module_version": "1.5.0",
          "state": {
            "_dom_classes": [],
            "_model_module": "@jupyter-widgets/controls",
            "_model_module_version": "1.5.0",
            "_model_name": "FloatProgressModel",
            "_view_count": null,
            "_view_module": "@jupyter-widgets/controls",
            "_view_module_version": "1.5.0",
            "_view_name": "ProgressView",
            "bar_style": "info",
            "description": "Progress:",
            "description_tooltip": null,
            "layout": "IPY_MODEL_aaf72015e4a446bc98d977e93ab750a4",
            "max": 1,
            "min": 0,
            "orientation": "horizontal",
            "style": "IPY_MODEL_4a29754bf24f4d11859bf14c1efd82d5",
            "value": 0
          }
        },
        "aaf72015e4a446bc98d977e93ab750a4": {
          "model_module": "@jupyter-widgets/base",
          "model_name": "LayoutModel",
          "model_module_version": "1.2.0",
          "state": {
            "_model_module": "@jupyter-widgets/base",
            "_model_module_version": "1.2.0",
            "_model_name": "LayoutModel",
            "_view_count": null,
            "_view_module": "@jupyter-widgets/base",
            "_view_module_version": "1.2.0",
            "_view_name": "LayoutView",
            "align_content": null,
            "align_items": null,
            "align_self": null,
            "border": null,
            "bottom": null,
            "display": null,
            "flex": null,
            "flex_flow": null,
            "grid_area": null,
            "grid_auto_columns": null,
            "grid_auto_flow": null,
            "grid_auto_rows": null,
            "grid_column": null,
            "grid_gap": null,
            "grid_row": null,
            "grid_template_areas": null,
            "grid_template_columns": null,
            "grid_template_rows": null,
            "height": "25px",
            "justify_content": null,
            "justify_items": null,
            "left": null,
            "margin": null,
            "max_height": null,
            "max_width": null,
            "min_height": null,
            "min_width": null,
            "object_fit": null,
            "object_position": null,
            "order": null,
            "overflow": null,
            "overflow_x": null,
            "overflow_y": null,
            "padding": null,
            "right": null,
            "top": null,
            "visibility": null,
            "width": "50%"
          }
        },
        "4a29754bf24f4d11859bf14c1efd82d5": {
          "model_module": "@jupyter-widgets/controls",
          "model_name": "ProgressStyleModel",
          "model_module_version": "1.5.0",
          "state": {
            "_model_module": "@jupyter-widgets/controls",
            "_model_module_version": "1.5.0",
            "_model_name": "ProgressStyleModel",
            "_view_count": null,
            "_view_module": "@jupyter-widgets/base",
            "_view_module_version": "1.2.0",
            "_view_name": "StyleView",
            "bar_color": null,
            "description_width": ""
          }
        },
        "1bca82787d52449faf59352fe7da50ca": {
          "model_module": "@jupyter-widgets/controls",
          "model_name": "FloatProgressModel",
          "model_module_version": "1.5.0",
          "state": {
            "_dom_classes": [],
            "_model_module": "@jupyter-widgets/controls",
            "_model_module_version": "1.5.0",
            "_model_name": "FloatProgressModel",
            "_view_count": null,
            "_view_module": "@jupyter-widgets/controls",
            "_view_module_version": "1.5.0",
            "_view_name": "ProgressView",
            "bar_style": "info",
            "description": "Progress:",
            "description_tooltip": null,
            "layout": "IPY_MODEL_ff31db5aebb2420ba4def820a5a50c4e",
            "max": 1,
            "min": 0,
            "orientation": "horizontal",
            "style": "IPY_MODEL_9f777f4b020e440eab875f3c0cc1e23a",
            "value": 0.7172582619339045
          }
        },
        "ff31db5aebb2420ba4def820a5a50c4e": {
          "model_module": "@jupyter-widgets/base",
          "model_name": "LayoutModel",
          "model_module_version": "1.2.0",
          "state": {
            "_model_module": "@jupyter-widgets/base",
            "_model_module_version": "1.2.0",
            "_model_name": "LayoutModel",
            "_view_count": null,
            "_view_module": "@jupyter-widgets/base",
            "_view_module_version": "1.2.0",
            "_view_name": "LayoutView",
            "align_content": null,
            "align_items": null,
            "align_self": null,
            "border": null,
            "bottom": null,
            "display": null,
            "flex": null,
            "flex_flow": null,
            "grid_area": null,
            "grid_auto_columns": null,
            "grid_auto_flow": null,
            "grid_auto_rows": null,
            "grid_column": null,
            "grid_gap": null,
            "grid_row": null,
            "grid_template_areas": null,
            "grid_template_columns": null,
            "grid_template_rows": null,
            "height": "25px",
            "justify_content": null,
            "justify_items": null,
            "left": null,
            "margin": null,
            "max_height": null,
            "max_width": null,
            "min_height": null,
            "min_width": null,
            "object_fit": null,
            "object_position": null,
            "order": null,
            "overflow": null,
            "overflow_x": null,
            "overflow_y": null,
            "padding": null,
            "right": null,
            "top": null,
            "visibility": null,
            "width": "50%"
          }
        },
        "9f777f4b020e440eab875f3c0cc1e23a": {
          "model_module": "@jupyter-widgets/controls",
          "model_name": "ProgressStyleModel",
          "model_module_version": "1.5.0",
          "state": {
            "_model_module": "@jupyter-widgets/controls",
            "_model_module_version": "1.5.0",
            "_model_name": "ProgressStyleModel",
            "_view_count": null,
            "_view_module": "@jupyter-widgets/base",
            "_view_module_version": "1.2.0",
            "_view_name": "StyleView",
            "bar_color": null,
            "description_width": ""
          }
        },
        "8064c5900bf4469f941e1c02468e2e7f": {
          "model_module": "@jupyter-widgets/controls",
          "model_name": "FloatProgressModel",
          "model_module_version": "1.5.0",
          "state": {
            "_dom_classes": [],
            "_model_module": "@jupyter-widgets/controls",
            "_model_module_version": "1.5.0",
            "_model_name": "FloatProgressModel",
            "_view_count": null,
            "_view_module": "@jupyter-widgets/controls",
            "_view_module_version": "1.5.0",
            "_view_name": "ProgressView",
            "bar_style": "info",
            "description": "Progress:",
            "description_tooltip": null,
            "layout": "IPY_MODEL_2eaba4dddedd4b2e8895ea44ed8765d3",
            "max": 1,
            "min": 0,
            "orientation": "horizontal",
            "style": "IPY_MODEL_b124c0d59cbc4fc7b15aa4c53851c839",
            "value": 0.36179775280898874
          }
        },
        "2eaba4dddedd4b2e8895ea44ed8765d3": {
          "model_module": "@jupyter-widgets/base",
          "model_name": "LayoutModel",
          "model_module_version": "1.2.0",
          "state": {
            "_model_module": "@jupyter-widgets/base",
            "_model_module_version": "1.2.0",
            "_model_name": "LayoutModel",
            "_view_count": null,
            "_view_module": "@jupyter-widgets/base",
            "_view_module_version": "1.2.0",
            "_view_name": "LayoutView",
            "align_content": null,
            "align_items": null,
            "align_self": null,
            "border": null,
            "bottom": null,
            "display": null,
            "flex": null,
            "flex_flow": null,
            "grid_area": null,
            "grid_auto_columns": null,
            "grid_auto_flow": null,
            "grid_auto_rows": null,
            "grid_column": null,
            "grid_gap": null,
            "grid_row": null,
            "grid_template_areas": null,
            "grid_template_columns": null,
            "grid_template_rows": null,
            "height": "25px",
            "justify_content": null,
            "justify_items": null,
            "left": null,
            "margin": null,
            "max_height": null,
            "max_width": null,
            "min_height": null,
            "min_width": null,
            "object_fit": null,
            "object_position": null,
            "order": null,
            "overflow": null,
            "overflow_x": null,
            "overflow_y": null,
            "padding": null,
            "right": null,
            "top": null,
            "visibility": null,
            "width": "50%"
          }
        },
        "b124c0d59cbc4fc7b15aa4c53851c839": {
          "model_module": "@jupyter-widgets/controls",
          "model_name": "ProgressStyleModel",
          "model_module_version": "1.5.0",
          "state": {
            "_model_module": "@jupyter-widgets/controls",
            "_model_module_version": "1.5.0",
            "_model_name": "ProgressStyleModel",
            "_view_count": null,
            "_view_module": "@jupyter-widgets/base",
            "_view_module_version": "1.2.0",
            "_view_name": "StyleView",
            "bar_color": null,
            "description_width": ""
          }
        },
        "f2d345a516c345d7b462bb604951c06b": {
          "model_module": "@jupyter-widgets/controls",
          "model_name": "FloatProgressModel",
          "model_module_version": "1.5.0",
          "state": {
            "_dom_classes": [],
            "_model_module": "@jupyter-widgets/controls",
            "_model_module_version": "1.5.0",
            "_model_name": "FloatProgressModel",
            "_view_count": null,
            "_view_module": "@jupyter-widgets/controls",
            "_view_module_version": "1.5.0",
            "_view_name": "ProgressView",
            "bar_style": "info",
            "description": "Progress:",
            "description_tooltip": null,
            "layout": "IPY_MODEL_3bc00912d2bf4374a4ecba2709bba6c8",
            "max": 1,
            "min": 0,
            "orientation": "horizontal",
            "style": "IPY_MODEL_161df0f0f4204106b631e7f293881874",
            "value": 0
          }
        },
        "3bc00912d2bf4374a4ecba2709bba6c8": {
          "model_module": "@jupyter-widgets/base",
          "model_name": "LayoutModel",
          "model_module_version": "1.2.0",
          "state": {
            "_model_module": "@jupyter-widgets/base",
            "_model_module_version": "1.2.0",
            "_model_name": "LayoutModel",
            "_view_count": null,
            "_view_module": "@jupyter-widgets/base",
            "_view_module_version": "1.2.0",
            "_view_name": "LayoutView",
            "align_content": null,
            "align_items": null,
            "align_self": null,
            "border": null,
            "bottom": null,
            "display": null,
            "flex": null,
            "flex_flow": null,
            "grid_area": null,
            "grid_auto_columns": null,
            "grid_auto_flow": null,
            "grid_auto_rows": null,
            "grid_column": null,
            "grid_gap": null,
            "grid_row": null,
            "grid_template_areas": null,
            "grid_template_columns": null,
            "grid_template_rows": null,
            "height": "25px",
            "justify_content": null,
            "justify_items": null,
            "left": null,
            "margin": null,
            "max_height": null,
            "max_width": null,
            "min_height": null,
            "min_width": null,
            "object_fit": null,
            "object_position": null,
            "order": null,
            "overflow": null,
            "overflow_x": null,
            "overflow_y": null,
            "padding": null,
            "right": null,
            "top": null,
            "visibility": null,
            "width": "50%"
          }
        },
        "161df0f0f4204106b631e7f293881874": {
          "model_module": "@jupyter-widgets/controls",
          "model_name": "ProgressStyleModel",
          "model_module_version": "1.5.0",
          "state": {
            "_model_module": "@jupyter-widgets/controls",
            "_model_module_version": "1.5.0",
            "_model_name": "ProgressStyleModel",
            "_view_count": null,
            "_view_module": "@jupyter-widgets/base",
            "_view_module_version": "1.2.0",
            "_view_name": "StyleView",
            "bar_color": null,
            "description_width": ""
          }
        },
        "2ea080e16b1446eaa65765f3627cad49": {
          "model_module": "@jupyter-widgets/controls",
          "model_name": "FloatProgressModel",
          "model_module_version": "1.5.0",
          "state": {
            "_dom_classes": [],
            "_model_module": "@jupyter-widgets/controls",
            "_model_module_version": "1.5.0",
            "_model_name": "FloatProgressModel",
            "_view_count": null,
            "_view_module": "@jupyter-widgets/controls",
            "_view_module_version": "1.5.0",
            "_view_name": "ProgressView",
            "bar_style": "info",
            "description": "Progress:",
            "description_tooltip": null,
            "layout": "IPY_MODEL_17f64f6e6bb74139a628c87e5289a4ac",
            "max": 1,
            "min": 0,
            "orientation": "horizontal",
            "style": "IPY_MODEL_5e64df299eca4339abfd7ca4af484396",
            "value": 0
          }
        },
        "17f64f6e6bb74139a628c87e5289a4ac": {
          "model_module": "@jupyter-widgets/base",
          "model_name": "LayoutModel",
          "model_module_version": "1.2.0",
          "state": {
            "_model_module": "@jupyter-widgets/base",
            "_model_module_version": "1.2.0",
            "_model_name": "LayoutModel",
            "_view_count": null,
            "_view_module": "@jupyter-widgets/base",
            "_view_module_version": "1.2.0",
            "_view_name": "LayoutView",
            "align_content": null,
            "align_items": null,
            "align_self": null,
            "border": null,
            "bottom": null,
            "display": null,
            "flex": null,
            "flex_flow": null,
            "grid_area": null,
            "grid_auto_columns": null,
            "grid_auto_flow": null,
            "grid_auto_rows": null,
            "grid_column": null,
            "grid_gap": null,
            "grid_row": null,
            "grid_template_areas": null,
            "grid_template_columns": null,
            "grid_template_rows": null,
            "height": "25px",
            "justify_content": null,
            "justify_items": null,
            "left": null,
            "margin": null,
            "max_height": null,
            "max_width": null,
            "min_height": null,
            "min_width": null,
            "object_fit": null,
            "object_position": null,
            "order": null,
            "overflow": null,
            "overflow_x": null,
            "overflow_y": null,
            "padding": null,
            "right": null,
            "top": null,
            "visibility": null,
            "width": "50%"
          }
        },
        "5e64df299eca4339abfd7ca4af484396": {
          "model_module": "@jupyter-widgets/controls",
          "model_name": "ProgressStyleModel",
          "model_module_version": "1.5.0",
          "state": {
            "_model_module": "@jupyter-widgets/controls",
            "_model_module_version": "1.5.0",
            "_model_name": "ProgressStyleModel",
            "_view_count": null,
            "_view_module": "@jupyter-widgets/base",
            "_view_module_version": "1.2.0",
            "_view_name": "StyleView",
            "bar_color": null,
            "description_width": ""
          }
        },
        "99aefafc3dc640e3a90dd8e9c261e8a9": {
          "model_module": "@jupyter-widgets/controls",
          "model_name": "FloatProgressModel",
          "model_module_version": "1.5.0",
          "state": {
            "_dom_classes": [],
            "_model_module": "@jupyter-widgets/controls",
            "_model_module_version": "1.5.0",
            "_model_name": "FloatProgressModel",
            "_view_count": null,
            "_view_module": "@jupyter-widgets/controls",
            "_view_module_version": "1.5.0",
            "_view_name": "ProgressView",
            "bar_style": "info",
            "description": "Progress:",
            "description_tooltip": null,
            "layout": "IPY_MODEL_a44691be90834b91950c68e9258887d8",
            "max": 1,
            "min": 0,
            "orientation": "horizontal",
            "style": "IPY_MODEL_aa673d1dc48443629f2b0dac713544cc",
            "value": 0.9338775510204081
          }
        },
        "a44691be90834b91950c68e9258887d8": {
          "model_module": "@jupyter-widgets/base",
          "model_name": "LayoutModel",
          "model_module_version": "1.2.0",
          "state": {
            "_model_module": "@jupyter-widgets/base",
            "_model_module_version": "1.2.0",
            "_model_name": "LayoutModel",
            "_view_count": null,
            "_view_module": "@jupyter-widgets/base",
            "_view_module_version": "1.2.0",
            "_view_name": "LayoutView",
            "align_content": null,
            "align_items": null,
            "align_self": null,
            "border": null,
            "bottom": null,
            "display": null,
            "flex": null,
            "flex_flow": null,
            "grid_area": null,
            "grid_auto_columns": null,
            "grid_auto_flow": null,
            "grid_auto_rows": null,
            "grid_column": null,
            "grid_gap": null,
            "grid_row": null,
            "grid_template_areas": null,
            "grid_template_columns": null,
            "grid_template_rows": null,
            "height": "25px",
            "justify_content": null,
            "justify_items": null,
            "left": null,
            "margin": null,
            "max_height": null,
            "max_width": null,
            "min_height": null,
            "min_width": null,
            "object_fit": null,
            "object_position": null,
            "order": null,
            "overflow": null,
            "overflow_x": null,
            "overflow_y": null,
            "padding": null,
            "right": null,
            "top": null,
            "visibility": null,
            "width": "50%"
          }
        },
        "aa673d1dc48443629f2b0dac713544cc": {
          "model_module": "@jupyter-widgets/controls",
          "model_name": "ProgressStyleModel",
          "model_module_version": "1.5.0",
          "state": {
            "_model_module": "@jupyter-widgets/controls",
            "_model_module_version": "1.5.0",
            "_model_name": "ProgressStyleModel",
            "_view_count": null,
            "_view_module": "@jupyter-widgets/base",
            "_view_module_version": "1.2.0",
            "_view_name": "StyleView",
            "bar_color": null,
            "description_width": ""
          }
        }
      }
    }
  },
  "nbformat": 4,
  "nbformat_minor": 0
}